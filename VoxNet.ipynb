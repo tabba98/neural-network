{
  "nbformat": 4,
  "nbformat_minor": 0,
  "metadata": {
    "colab": {
      "provenance": [],
      "authorship_tag": "ABX9TyO3eN9Wtrpp87aQdw4/rhWj",
      "include_colab_link": true
    },
    "kernelspec": {
      "name": "python3",
      "display_name": "Python 3"
    },
    "language_info": {
      "name": "python"
    }
  },
  "cells": [
    {
      "cell_type": "markdown",
      "metadata": {
        "id": "view-in-github",
        "colab_type": "text"
      },
      "source": [
        "<a href=\"https://colab.research.google.com/github/tabba98/neural-network/blob/main/VoxNet.ipynb\" target=\"_parent\"><img src=\"https://colab.research.google.com/assets/colab-badge.svg\" alt=\"Open In Colab\"/></a>"
      ]
    },
    {
      "cell_type": "code",
      "execution_count": 1,
      "metadata": {
        "colab": {
          "base_uri": "https://localhost:8080/"
        },
        "id": "nz0WALPw5LNa",
        "outputId": "4fb5c1bf-d538-4e73-cc00-d76e08e8d42b"
      },
      "outputs": [
        {
          "output_type": "stream",
          "name": "stdout",
          "text": [
            "Looking in indexes: https://pypi.org/simple, https://us-python.pkg.dev/colab-wheels/public/simple/\n",
            "Collecting torchmetrics\n",
            "  Downloading torchmetrics-0.11.0-py3-none-any.whl (512 kB)\n",
            "\u001b[2K     \u001b[90m━━━━━━━━━━━━━━━━━━━━━━━━━━━━━━━━━━━━━━━\u001b[0m \u001b[32m512.4/512.4 KB\u001b[0m \u001b[31m6.2 MB/s\u001b[0m eta \u001b[36m0:00:00\u001b[0m\n",
            "\u001b[?25hRequirement already satisfied: typing-extensions in /usr/local/lib/python3.8/dist-packages (from torchmetrics) (4.4.0)\n",
            "Requirement already satisfied: packaging in /usr/local/lib/python3.8/dist-packages (from torchmetrics) (21.3)\n",
            "Requirement already satisfied: numpy>=1.17.2 in /usr/local/lib/python3.8/dist-packages (from torchmetrics) (1.21.6)\n",
            "Requirement already satisfied: torch>=1.8.1 in /usr/local/lib/python3.8/dist-packages (from torchmetrics) (1.13.1+cu116)\n",
            "Requirement already satisfied: pyparsing!=3.0.5,>=2.0.2 in /usr/local/lib/python3.8/dist-packages (from packaging->torchmetrics) (3.0.9)\n",
            "Installing collected packages: torchmetrics\n",
            "Successfully installed torchmetrics-0.11.0\n"
          ]
        }
      ],
      "source": [
        "pip install torchmetrics"
      ]
    },
    {
      "cell_type": "code",
      "source": [
        "import numpy as np\n",
        "import torch\n",
        "import torch.nn as nn\n",
        "import torch.nn.functional as F\n",
        "from torch.utils.data import Dataset, DataLoader\n",
        "from torchmetrics.classification import Accuracy\n",
        "from torchmetrics import ConfusionMatrix\n",
        "\n",
        "\n",
        "\n",
        "#for plotting\n",
        "import matplotlib.pyplot as plt\n",
        "import seaborn as sns\n",
        "import pandas as pd\n",
        "from sklearn.metrics import confusion_matrix\n",
        "\n",
        "import scipy\n",
        "from scipy.ndimage import rotate\n",
        "\n",
        "import time"
      ],
      "metadata": {
        "id": "Ic3yD5Ks5Stj"
      },
      "execution_count": 2,
      "outputs": []
    },
    {
      "cell_type": "code",
      "source": [
        "%%capture\n",
        "!wget https://www.dropbox.com/s/ja56cvf3x4mkf1t/modelnet10_voxelized_32.npz"
      ],
      "metadata": {
        "id": "BGBFL8fX5Uuv"
      },
      "execution_count": 3,
      "outputs": []
    },
    {
      "cell_type": "code",
      "source": [
        "class VoxelDataset(Dataset):\n",
        "    def __init__(self, train = True):\n",
        "      if train:\n",
        "          tmp = np.load(\"modelnet10_voxelized_32.npz\")\n",
        "          self.data = tmp[\"X_train\"]\n",
        "          self.label = tmp[\"Y_train\"]\n",
        "          del tmp\n",
        "      else:\n",
        "          tmp = np.load(\"modelnet10_voxelized_32.npz\")\n",
        "          self.data = tmp[\"X_test\"]\n",
        "          self.label = tmp[\"Y_test\"]\n",
        "          del tmp\n",
        "        \n",
        "                \n",
        "    def __len__(self):\n",
        "        return len(self.label)\n",
        "\n",
        "    def __preproc__(self, voxels):\n",
        "        \n",
        "        #flip x\n",
        "        if np.random.randint(2):\n",
        "            voxels = np.flip(voxels, axis=0)\n",
        "        \n",
        "        #flip y\n",
        "        if np.random.randint(2):\n",
        "            voxels = np.flip(voxels, axis=1)\n",
        "        \n",
        "        angle = 360 * np.random.random_sample(1)[0]\n",
        "        \n",
        "        voxels = rotate(voxels, axes=(0, 1), angle=angle, cval=0.0, reshape=False)\n",
        "        \n",
        "        \n",
        "        return voxels.copy()\n",
        "\n",
        "    def __getitem__(self, idx):\n",
        "        label = self.label[idx]\n",
        "        voxels = self.data[idx]\n",
        "        voxels = self.__preproc__(voxels)\n",
        "        voxels = np.expand_dims(voxels, axis=0)\n",
        "        voxels = torch.tensor(voxels).float()\n",
        "        return voxels, label"
      ],
      "metadata": {
        "id": "pfSGCV6k5YXr"
      },
      "execution_count": 4,
      "outputs": []
    },
    {
      "cell_type": "code",
      "source": [
        "from collections import OrderedDict\n",
        "class VoxNet(nn.Module):\n",
        "    def __init__(self):\n",
        "        super(VoxNet, self).__init__()\n",
        "        n_classes = 10\n",
        "        input_shape = (32,32,32)\n",
        "        self.feat = torch.nn.Sequential(OrderedDict([\n",
        "            ('conv3d_1', torch.nn.Conv3d(in_channels=1, out_channels=32, kernel_size=5, stride=2)),\n",
        "            ('relu1', torch.nn.ReLU()),\n",
        "            #('batch1', torch.nn.BatchNorm3d(32)),\n",
        "            ('drop1', torch.nn.Dropout(p=0.2)),\n",
        "            ('conv3d_2', torch.nn.Conv3d(in_channels=32, out_channels=32, kernel_size=3)),\n",
        "            ('relu2', torch.nn.ReLU()),\n",
        "            #('batch2', torch.nn.BatchNorm3d(32)),\n",
        "            ('pool2', torch.nn.MaxPool3d(2)),\n",
        "            ('drop2', torch.nn.Dropout(p=0.3))\n",
        "        ]))\n",
        "        \n",
        "        x = self.feat(torch.autograd.Variable(torch.rand((1, 1) + input_shape)))\n",
        "        dim_feat = 1\n",
        "        for n in x.size()[1:]:\n",
        "            dim_feat *= n\n",
        "\n",
        "        self.mlp = torch.nn.Sequential(OrderedDict([\n",
        "            ('fc1', torch.nn.Linear(dim_feat, 128)),\n",
        "            ('relu1', torch.nn.ReLU()),\n",
        "            ('drop3', torch.nn.Dropout(p=0.4)),\n",
        "            ('fc2', torch.nn.Linear(128, n_classes))\n",
        "        ]))\n",
        "\n",
        "    def forward(self, x):\n",
        "        x = self.feat(x)\n",
        "        x = x.view(x.size(0), -1)\n",
        "        x = self.mlp(x)\n",
        "        return x\n"
      ],
      "metadata": {
        "id": "BxJn-rxg5thp"
      },
      "execution_count": 5,
      "outputs": []
    },
    {
      "cell_type": "code",
      "source": [
        "from torch.optim import SGD, Adam\n",
        "from torch.nn import BCEWithLogitsLoss\n",
        "from tqdm import tqdm\n",
        "\n",
        "def blue(x): return '\\033[94m' + x + '\\033[0m'\n",
        "\n",
        "train_ds = VoxelDataset(train=True)\n",
        "test_ds = VoxelDataset(train=False)\n",
        "train_dataloader = DataLoader(dataset=train_ds, batch_size=32, shuffle=True, drop_last=True)\n",
        "test_dataloader = DataLoader(dataset=test_ds, batch_size=32)\n",
        "\n",
        "pred_conf, y_conf = [], []                                                           \n",
        "\n",
        "train_loss_history, valid_loss_history = [], []\n",
        "train_acc_history, valid_acc_history = [], []\n",
        "train_accuracy = Accuracy(task='multiclass', num_classes=10)\n",
        "valid_accuracy = Accuracy(task='multiclass', num_classes=10)\n",
        "\n",
        "model = VoxNet()\n",
        "opt = SGD(model.parameters(), lr=1e-2, weight_decay = 0)\n",
        "loss_fn = F.cross_entropy\n",
        "device = \"cuda\" if torch.cuda.is_available() else \"cpu\"\n",
        "model.to(device)\n",
        "epochs = 50\n",
        "best_val = np.inf\n",
        "\n",
        "num_batch = len(train_ds) / 32\n",
        "print(num_batch)\n",
        "\n",
        "total_time = time.time()\n",
        "\n",
        "for epoch in range(epochs):\n",
        "    t = time.time()\n",
        "\n",
        "    temp_correct = 0\n",
        "    temp_testset = 0\n",
        "    temp_correct_test = 0\n",
        "    temp_testset_test = 0\n",
        "    train_loss = []                                                         #track training loss\n",
        "    test_loss = []\n",
        "    model.train()\n",
        "    iterator = tqdm(enumerate(train_dataloader, 0))\n",
        "    for i, data in iterator:\n",
        "        inputs, labels = data[0], data[1]\n",
        "        inputs = inputs.to(device)\n",
        "        labels = labels.to(device)\n",
        "\n",
        "        opt.zero_grad()\n",
        "        pred = model(inputs)  # torch.Size([256, 10])\n",
        "        loss = F.cross_entropy(pred,labels)\n",
        "        train_loss.append(loss.cpu().data)\n",
        "        train_accuracy.update(torch.argmax(pred, 1).cpu(), labels.cpu()) \n",
        "\n",
        "        loss.backward()\n",
        "        opt.step()\n",
        "        iterator.set_description(f\"Train loss: {loss.cpu().data}\")\n",
        "        \n",
        "        pred_choice = pred.data.max(1)[1]\n",
        "        correct = pred_choice.eq(labels.data).cpu().sum()\n",
        "        \n",
        "        temp_correct += correct.item()\n",
        "        temp_testset += inputs.size()[0]\n",
        "\n",
        "    \n",
        "    with torch.no_grad():\n",
        "      model.eval()\n",
        "      for j, sample in tqdm(enumerate(test_dataloader, 0)):    \n",
        "          inputs_test, labels_test = sample[0], sample[1]\n",
        "          inputs_test = inputs_test.to(device)\n",
        "          labels_test = labels_test.to(device)\n",
        "          inputs_test = inputs_test.float()  # 转float, torch.Size([256, 1, 32, 32, 32])\n",
        "          \n",
        "          pred_test = model(inputs_test)\n",
        "          loss_test = F.cross_entropy(pred_test, labels_test)\n",
        "          test_loss.append(loss_test.cpu().data)\n",
        "          valid_accuracy.update(torch.argmax(pred_test, 1).cpu(), labels_test.cpu())\n",
        "          pred_choice_test = pred_test.data.max(1)[1]\n",
        "\n",
        "          correct_test = pred_choice_test.eq(labels_test.data).cpu().sum()\n",
        "          pred_conf.append(torch.argmax(pred_test, 1))\n",
        "          y_conf.append(labels_test)\n",
        "          \n",
        "          temp_correct_test += correct_test.item()\n",
        "          temp_testset_test += inputs_test.size()[0]\n",
        "\n",
        "    #compute confusion matrix\n",
        "    a = torch.cat(pred_conf).cpu()\n",
        "    b = torch.cat(y_conf).cpu()\n",
        "    confmat = ConfusionMatrix(task='multiclass', num_classes=10, normalize=\"true\")\n",
        "    conf_matrix = confmat(a, b)\n",
        "    conf_matrix = torch.round(conf_matrix, decimals=2)\n",
        "\n",
        "    # total accuracy over all batches\n",
        "    total_train_accuracy = train_accuracy.compute()\n",
        "    total_valid_accuracy = valid_accuracy.compute()\n",
        "    train_accuracy.reset()\n",
        "    valid_accuracy.reset()\n",
        "           \n",
        "    #track loss and acc for plotting\n",
        "    train_loss_history.append(torch.mean(torch.tensor(train_loss)))\n",
        "    valid_loss_history.append(torch.mean(torch.tensor(test_loss)))\n",
        "    train_acc_history.append(total_train_accuracy)\n",
        "    valid_acc_history.append(total_valid_accuracy)\n",
        "    history = {\"train_loss\": torch.tensor(train_loss_history), \"train_acc\": torch.tensor(train_acc_history), \n",
        "               \"test_loss\": torch.tensor(valid_loss_history), \"test_acc\": torch.tensor(valid_acc_history)}\n",
        "\n",
        "    elapsed_time_epoch = time.time() - t\n",
        "    tmp0 = \"epoch:{:3d} /{:3d}\".format(epoch+1, epochs)\n",
        "    tmp1 = \"time: {:.2f} seconds\".format(elapsed_time_epoch)\n",
        "    tmp2 = \"train-loss: {:4.2f}, train-acc: {:.2%}\".format(train_loss_history[epoch], train_acc_history[epoch].item())\n",
        "    tmp3 = \"valid-loss: {:4.2f}, valid-acc: {:.2%}\\n\".format(valid_loss_history[epoch], valid_acc_history[epoch].item())\n",
        "    print(tmp0, tmp1, tmp2, tmp3, sep=\"\\n\")           \n",
        "    \n",
        "    #print(\"epoch %d: train accuracy %f\" % (epoch, temp_correct / float(temp_testset)))\n",
        "    #print(\"epoch %d: test accuracy %f\" % (epoch+1, temp_correct_test / float(temp_testset_test)))\n",
        "\n",
        "    \n",
        "\n",
        "\n",
        "total_correct = 0\n",
        "total_testset = 0\n",
        "\n",
        "model.eval()\n",
        "for i, data in tqdm(enumerate(test_dataloader, 0)):\n",
        "    inputs, labels = data[0], data[1]\n",
        "    inputs = inputs.to(device)\n",
        "    labels = labels.to(device)\n",
        "    inputs = inputs.float()  # 转float, torch.Size([256, 1, 32, 32, 32])\n",
        "\n",
        "    \n",
        "    pred = model(inputs)\n",
        "    pred_choice = pred.data.max(1)[1]\n",
        "    correct = pred_choice.eq(labels.data).cpu().sum()\n",
        "    total_correct += correct.item()\n",
        "    total_testset += inputs.size()[0]\n",
        "\n",
        "print(\"final accuracy {}\".format(total_correct / float(total_testset)))\n",
        "\n"
      ],
      "metadata": {
        "colab": {
          "base_uri": "https://localhost:8080/"
        },
        "id": "6oa5xA1t7kzU",
        "outputId": "3b259b0a-d9aa-4669-8e32-25a0749f2b0a"
      },
      "execution_count": 6,
      "outputs": [
        {
          "output_type": "stream",
          "name": "stdout",
          "text": [
            "124.71875\n"
          ]
        },
        {
          "output_type": "stream",
          "name": "stderr",
          "text": [
            "Train loss: 1.3937578201293945: : 124it [01:24,  1.47it/s]\n",
            "29it [00:08,  3.52it/s]\n"
          ]
        },
        {
          "output_type": "stream",
          "name": "stdout",
          "text": [
            "epoch:  1 / 50\n",
            "time: 92.88 seconds\n",
            "train-loss: 1.90, train-acc: 34.38%\n",
            "valid-loss: 1.39, valid-acc: 51.10%\n",
            "\n"
          ]
        },
        {
          "output_type": "stream",
          "name": "stderr",
          "text": [
            "Train loss: 1.4011974334716797: : 124it [01:12,  1.71it/s]\n",
            "29it [00:08,  3.51it/s]\n"
          ]
        },
        {
          "output_type": "stream",
          "name": "stdout",
          "text": [
            "epoch:  2 / 50\n",
            "time: 80.79 seconds\n",
            "train-loss: 1.15, train-acc: 62.22%\n",
            "valid-loss: 1.04, valid-acc: 63.77%\n",
            "\n"
          ]
        },
        {
          "output_type": "stream",
          "name": "stderr",
          "text": [
            "Train loss: 0.9936214089393616: : 124it [01:11,  1.73it/s]\n",
            "29it [00:09,  3.10it/s]\n"
          ]
        },
        {
          "output_type": "stream",
          "name": "stdout",
          "text": [
            "epoch:  3 / 50\n",
            "time: 81.23 seconds\n",
            "train-loss: 0.94, train-acc: 68.80%\n",
            "valid-loss: 0.90, valid-acc: 73.13%\n",
            "\n"
          ]
        },
        {
          "output_type": "stream",
          "name": "stderr",
          "text": [
            "Train loss: 0.5931225419044495: : 124it [01:12,  1.72it/s]\n",
            "29it [00:08,  3.35it/s]\n"
          ]
        },
        {
          "output_type": "stream",
          "name": "stdout",
          "text": [
            "epoch:  4 / 50\n",
            "time: 80.88 seconds\n",
            "train-loss: 0.83, train-acc: 73.66%\n",
            "valid-loss: 0.81, valid-acc: 76.10%\n",
            "\n"
          ]
        },
        {
          "output_type": "stream",
          "name": "stderr",
          "text": [
            "Train loss: 0.9228955507278442: : 124it [01:12,  1.70it/s]\n",
            "29it [00:08,  3.34it/s]\n"
          ]
        },
        {
          "output_type": "stream",
          "name": "stdout",
          "text": [
            "epoch:  5 / 50\n",
            "time: 81.50 seconds\n",
            "train-loss: 0.76, train-acc: 74.77%\n",
            "valid-loss: 0.82, valid-acc: 71.15%\n",
            "\n"
          ]
        },
        {
          "output_type": "stream",
          "name": "stderr",
          "text": [
            "Train loss: 0.4461832344532013: : 124it [01:14,  1.67it/s]\n",
            "29it [00:08,  3.61it/s]\n"
          ]
        },
        {
          "output_type": "stream",
          "name": "stdout",
          "text": [
            "epoch:  6 / 50\n",
            "time: 82.14 seconds\n",
            "train-loss: 0.71, train-acc: 76.86%\n",
            "valid-loss: 0.75, valid-acc: 75.77%\n",
            "\n"
          ]
        },
        {
          "output_type": "stream",
          "name": "stderr",
          "text": [
            "Train loss: 0.5627140402793884: : 124it [01:08,  1.81it/s]\n",
            "29it [00:08,  3.53it/s]\n"
          ]
        },
        {
          "output_type": "stream",
          "name": "stdout",
          "text": [
            "epoch:  7 / 50\n",
            "time: 76.91 seconds\n",
            "train-loss: 0.66, train-acc: 78.76%\n",
            "valid-loss: 0.69, valid-acc: 78.74%\n",
            "\n"
          ]
        },
        {
          "output_type": "stream",
          "name": "stderr",
          "text": [
            "Train loss: 0.5560988187789917: : 124it [01:10,  1.77it/s]\n",
            "29it [00:07,  3.71it/s]\n"
          ]
        },
        {
          "output_type": "stream",
          "name": "stdout",
          "text": [
            "epoch:  8 / 50\n",
            "time: 77.97 seconds\n",
            "train-loss: 0.62, train-acc: 79.79%\n",
            "valid-loss: 0.69, valid-acc: 76.65%\n",
            "\n"
          ]
        },
        {
          "output_type": "stream",
          "name": "stderr",
          "text": [
            "Train loss: 1.005914330482483: : 124it [01:08,  1.82it/s]\n",
            "29it [00:08,  3.60it/s]\n"
          ]
        },
        {
          "output_type": "stream",
          "name": "stdout",
          "text": [
            "epoch:  9 / 50\n",
            "time: 76.12 seconds\n",
            "train-loss: 0.60, train-acc: 80.37%\n",
            "valid-loss: 0.65, valid-acc: 79.19%\n",
            "\n"
          ]
        },
        {
          "output_type": "stream",
          "name": "stderr",
          "text": [
            "Train loss: 0.35154885053634644: : 124it [01:08,  1.82it/s]\n",
            "29it [00:07,  3.68it/s]\n"
          ]
        },
        {
          "output_type": "stream",
          "name": "stdout",
          "text": [
            "epoch: 10 / 50\n",
            "time: 76.08 seconds\n",
            "train-loss: 0.56, train-acc: 82.13%\n",
            "valid-loss: 0.59, valid-acc: 80.73%\n",
            "\n"
          ]
        },
        {
          "output_type": "stream",
          "name": "stderr",
          "text": [
            "Train loss: 0.6942346096038818: : 124it [01:09,  1.78it/s]\n",
            "29it [00:07,  3.67it/s]\n"
          ]
        },
        {
          "output_type": "stream",
          "name": "stdout",
          "text": [
            "epoch: 11 / 50\n",
            "time: 77.70 seconds\n",
            "train-loss: 0.54, train-acc: 83.14%\n",
            "valid-loss: 0.57, valid-acc: 80.95%\n",
            "\n"
          ]
        },
        {
          "output_type": "stream",
          "name": "stderr",
          "text": [
            "Train loss: 0.30774974822998047: : 124it [01:08,  1.82it/s]\n",
            "29it [00:07,  3.65it/s]\n"
          ]
        },
        {
          "output_type": "stream",
          "name": "stdout",
          "text": [
            "epoch: 12 / 50\n",
            "time: 76.04 seconds\n",
            "train-loss: 0.51, train-acc: 84.43%\n",
            "valid-loss: 0.55, valid-acc: 83.26%\n",
            "\n"
          ]
        },
        {
          "output_type": "stream",
          "name": "stderr",
          "text": [
            "Train loss: 0.6330184936523438: : 124it [01:09,  1.79it/s]\n",
            "29it [00:07,  3.65it/s]\n"
          ]
        },
        {
          "output_type": "stream",
          "name": "stdout",
          "text": [
            "epoch: 13 / 50\n",
            "time: 77.13 seconds\n",
            "train-loss: 0.48, train-acc: 84.98%\n",
            "valid-loss: 0.58, valid-acc: 81.17%\n",
            "\n"
          ]
        },
        {
          "output_type": "stream",
          "name": "stderr",
          "text": [
            "Train loss: 0.28812700510025024: : 124it [01:08,  1.81it/s]\n",
            "29it [00:07,  3.66it/s]\n"
          ]
        },
        {
          "output_type": "stream",
          "name": "stdout",
          "text": [
            "epoch: 14 / 50\n",
            "time: 76.38 seconds\n",
            "train-loss: 0.46, train-acc: 85.91%\n",
            "valid-loss: 0.51, valid-acc: 85.24%\n",
            "\n"
          ]
        },
        {
          "output_type": "stream",
          "name": "stderr",
          "text": [
            "Train loss: 0.23638233542442322: : 124it [01:07,  1.83it/s]\n",
            "29it [00:07,  3.72it/s]\n"
          ]
        },
        {
          "output_type": "stream",
          "name": "stdout",
          "text": [
            "epoch: 15 / 50\n",
            "time: 75.54 seconds\n",
            "train-loss: 0.45, train-acc: 85.96%\n",
            "valid-loss: 0.55, valid-acc: 80.84%\n",
            "\n"
          ]
        },
        {
          "output_type": "stream",
          "name": "stderr",
          "text": [
            "Train loss: 0.5385800004005432: : 124it [01:09,  1.79it/s]\n",
            "29it [00:07,  3.66it/s]\n"
          ]
        },
        {
          "output_type": "stream",
          "name": "stdout",
          "text": [
            "epoch: 16 / 50\n",
            "time: 77.17 seconds\n",
            "train-loss: 0.42, train-acc: 86.95%\n",
            "valid-loss: 0.51, valid-acc: 83.59%\n",
            "\n"
          ]
        },
        {
          "output_type": "stream",
          "name": "stderr",
          "text": [
            "Train loss: 0.2601640224456787: : 124it [01:08,  1.82it/s]\n",
            "29it [00:07,  3.69it/s]\n"
          ]
        },
        {
          "output_type": "stream",
          "name": "stdout",
          "text": [
            "epoch: 17 / 50\n",
            "time: 75.94 seconds\n",
            "train-loss: 0.43, train-acc: 85.79%\n",
            "valid-loss: 0.52, valid-acc: 83.04%\n",
            "\n"
          ]
        },
        {
          "output_type": "stream",
          "name": "stderr",
          "text": [
            "Train loss: 0.45178157091140747: : 124it [01:08,  1.82it/s]\n",
            "29it [00:09,  3.14it/s]\n"
          ]
        },
        {
          "output_type": "stream",
          "name": "stdout",
          "text": [
            "epoch: 18 / 50\n",
            "time: 77.55 seconds\n",
            "train-loss: 0.40, train-acc: 87.17%\n",
            "valid-loss: 0.49, valid-acc: 84.91%\n",
            "\n"
          ]
        },
        {
          "output_type": "stream",
          "name": "stderr",
          "text": [
            "Train loss: 0.45963817834854126: : 124it [01:08,  1.82it/s]\n",
            "29it [00:07,  3.64it/s]\n"
          ]
        },
        {
          "output_type": "stream",
          "name": "stdout",
          "text": [
            "epoch: 19 / 50\n",
            "time: 76.04 seconds\n",
            "train-loss: 0.39, train-acc: 87.85%\n",
            "valid-loss: 0.47, valid-acc: 84.03%\n",
            "\n"
          ]
        },
        {
          "output_type": "stream",
          "name": "stderr",
          "text": [
            "Train loss: 0.4088510572910309: : 124it [01:07,  1.83it/s]\n",
            "29it [00:07,  3.70it/s]\n"
          ]
        },
        {
          "output_type": "stream",
          "name": "stdout",
          "text": [
            "epoch: 20 / 50\n",
            "time: 75.62 seconds\n",
            "train-loss: 0.38, train-acc: 88.08%\n",
            "valid-loss: 0.45, valid-acc: 86.01%\n",
            "\n"
          ]
        },
        {
          "output_type": "stream",
          "name": "stderr",
          "text": [
            "Train loss: 0.3113475441932678: : 124it [01:09,  1.80it/s]\n",
            "29it [00:07,  3.65it/s]\n"
          ]
        },
        {
          "output_type": "stream",
          "name": "stdout",
          "text": [
            "epoch: 21 / 50\n",
            "time: 77.03 seconds\n",
            "train-loss: 0.37, train-acc: 88.56%\n",
            "valid-loss: 0.47, valid-acc: 84.58%\n",
            "\n"
          ]
        },
        {
          "output_type": "stream",
          "name": "stderr",
          "text": [
            "Train loss: 0.33242085576057434: : 124it [01:07,  1.83it/s]\n",
            "29it [00:07,  3.71it/s]\n"
          ]
        },
        {
          "output_type": "stream",
          "name": "stdout",
          "text": [
            "epoch: 22 / 50\n",
            "time: 75.71 seconds\n",
            "train-loss: 0.36, train-acc: 88.81%\n",
            "valid-loss: 0.46, valid-acc: 85.79%\n",
            "\n"
          ]
        },
        {
          "output_type": "stream",
          "name": "stderr",
          "text": [
            "Train loss: 0.40963831543922424: : 124it [01:07,  1.83it/s]\n",
            "29it [00:07,  3.66it/s]\n"
          ]
        },
        {
          "output_type": "stream",
          "name": "stdout",
          "text": [
            "epoch: 23 / 50\n",
            "time: 75.81 seconds\n",
            "train-loss: 0.36, train-acc: 88.56%\n",
            "valid-loss: 0.45, valid-acc: 86.34%\n",
            "\n"
          ]
        },
        {
          "output_type": "stream",
          "name": "stderr",
          "text": [
            "Train loss: 0.3258996307849884: : 124it [01:08,  1.80it/s]\n",
            "29it [00:07,  3.74it/s]\n"
          ]
        },
        {
          "output_type": "stream",
          "name": "stdout",
          "text": [
            "epoch: 24 / 50\n",
            "time: 76.64 seconds\n",
            "train-loss: 0.35, train-acc: 89.06%\n",
            "valid-loss: 0.44, valid-acc: 86.12%\n",
            "\n"
          ]
        },
        {
          "output_type": "stream",
          "name": "stderr",
          "text": [
            "Train loss: 0.15835608541965485: : 124it [01:06,  1.85it/s]\n",
            "29it [00:07,  3.68it/s]\n"
          ]
        },
        {
          "output_type": "stream",
          "name": "stdout",
          "text": [
            "epoch: 25 / 50\n",
            "time: 74.91 seconds\n",
            "train-loss: 0.34, train-acc: 88.61%\n",
            "valid-loss: 0.44, valid-acc: 86.12%\n",
            "\n"
          ]
        },
        {
          "output_type": "stream",
          "name": "stderr",
          "text": [
            "Train loss: 0.2326691597700119: : 124it [01:07,  1.84it/s]\n",
            "29it [00:09,  3.17it/s]\n"
          ]
        },
        {
          "output_type": "stream",
          "name": "stdout",
          "text": [
            "epoch: 26 / 50\n",
            "time: 76.73 seconds\n",
            "train-loss: 0.32, train-acc: 89.62%\n",
            "valid-loss: 0.45, valid-acc: 85.35%\n",
            "\n"
          ]
        },
        {
          "output_type": "stream",
          "name": "stderr",
          "text": [
            "Train loss: 0.22816228866577148: : 124it [01:07,  1.85it/s]\n",
            "29it [00:07,  3.70it/s]\n"
          ]
        },
        {
          "output_type": "stream",
          "name": "stdout",
          "text": [
            "epoch: 27 / 50\n",
            "time: 75.00 seconds\n",
            "train-loss: 0.32, train-acc: 89.34%\n",
            "valid-loss: 0.42, valid-acc: 86.67%\n",
            "\n"
          ]
        },
        {
          "output_type": "stream",
          "name": "stderr",
          "text": [
            "Train loss: 0.1773224174976349: : 124it [01:07,  1.84it/s]\n",
            "29it [00:07,  3.73it/s]\n"
          ]
        },
        {
          "output_type": "stream",
          "name": "stdout",
          "text": [
            "epoch: 28 / 50\n",
            "time: 75.28 seconds\n",
            "train-loss: 0.30, train-acc: 90.50%\n",
            "valid-loss: 0.44, valid-acc: 85.57%\n",
            "\n"
          ]
        },
        {
          "output_type": "stream",
          "name": "stderr",
          "text": [
            "Train loss: 0.4567369818687439: : 124it [01:08,  1.80it/s]\n",
            "29it [00:07,  3.67it/s]\n"
          ]
        },
        {
          "output_type": "stream",
          "name": "stdout",
          "text": [
            "epoch: 29 / 50\n",
            "time: 76.76 seconds\n",
            "train-loss: 0.30, train-acc: 90.22%\n",
            "valid-loss: 0.47, valid-acc: 85.90%\n",
            "\n"
          ]
        },
        {
          "output_type": "stream",
          "name": "stderr",
          "text": [
            "Train loss: 0.28554314374923706: : 124it [01:08,  1.81it/s]\n",
            "29it [00:07,  3.68it/s]\n"
          ]
        },
        {
          "output_type": "stream",
          "name": "stdout",
          "text": [
            "epoch: 30 / 50\n",
            "time: 76.38 seconds\n",
            "train-loss: 0.30, train-acc: 90.20%\n",
            "valid-loss: 0.44, valid-acc: 86.12%\n",
            "\n"
          ]
        },
        {
          "output_type": "stream",
          "name": "stderr",
          "text": [
            "Train loss: 0.417712926864624: : 124it [01:08,  1.81it/s]\n",
            "29it [00:07,  3.69it/s]\n"
          ]
        },
        {
          "output_type": "stream",
          "name": "stdout",
          "text": [
            "epoch: 31 / 50\n",
            "time: 76.35 seconds\n",
            "train-loss: 0.30, train-acc: 90.62%\n",
            "valid-loss: 0.44, valid-acc: 86.56%\n",
            "\n"
          ]
        },
        {
          "output_type": "stream",
          "name": "stderr",
          "text": [
            "Train loss: 0.1261976957321167: : 124it [01:09,  1.80it/s]\n",
            "29it [00:07,  3.68it/s]\n"
          ]
        },
        {
          "output_type": "stream",
          "name": "stdout",
          "text": [
            "epoch: 32 / 50\n",
            "time: 77.00 seconds\n",
            "train-loss: 0.28, train-acc: 90.85%\n",
            "valid-loss: 0.45, valid-acc: 86.78%\n",
            "\n"
          ]
        },
        {
          "output_type": "stream",
          "name": "stderr",
          "text": [
            "Train loss: 0.2899148762226105: : 124it [01:08,  1.82it/s]\n",
            "29it [00:07,  3.72it/s]\n"
          ]
        },
        {
          "output_type": "stream",
          "name": "stdout",
          "text": [
            "epoch: 33 / 50\n",
            "time: 76.03 seconds\n",
            "train-loss: 0.28, train-acc: 91.00%\n",
            "valid-loss: 0.43, valid-acc: 85.79%\n",
            "\n"
          ]
        },
        {
          "output_type": "stream",
          "name": "stderr",
          "text": [
            "Train loss: 0.16774900257587433: : 124it [01:07,  1.83it/s]\n",
            "29it [00:09,  3.17it/s]\n"
          ]
        },
        {
          "output_type": "stream",
          "name": "stdout",
          "text": [
            "epoch: 34 / 50\n",
            "time: 76.76 seconds\n",
            "train-loss: 0.28, train-acc: 90.52%\n",
            "valid-loss: 0.43, valid-acc: 87.11%\n",
            "\n"
          ]
        },
        {
          "output_type": "stream",
          "name": "stderr",
          "text": [
            "Train loss: 0.2721462547779083: : 124it [01:07,  1.83it/s]\n",
            "29it [00:07,  3.69it/s]\n"
          ]
        },
        {
          "output_type": "stream",
          "name": "stdout",
          "text": [
            "epoch: 35 / 50\n",
            "time: 75.51 seconds\n",
            "train-loss: 0.28, train-acc: 91.15%\n",
            "valid-loss: 0.44, valid-acc: 86.23%\n",
            "\n"
          ]
        },
        {
          "output_type": "stream",
          "name": "stderr",
          "text": [
            "Train loss: 0.24257683753967285: : 124it [01:07,  1.83it/s]\n",
            "29it [00:07,  3.69it/s]\n"
          ]
        },
        {
          "output_type": "stream",
          "name": "stdout",
          "text": [
            "epoch: 36 / 50\n",
            "time: 75.60 seconds\n",
            "train-loss: 0.26, train-acc: 91.20%\n",
            "valid-loss: 0.43, valid-acc: 86.34%\n",
            "\n"
          ]
        },
        {
          "output_type": "stream",
          "name": "stderr",
          "text": [
            "Train loss: 0.27928540110588074: : 124it [01:08,  1.80it/s]\n",
            "29it [00:07,  3.70it/s]\n"
          ]
        },
        {
          "output_type": "stream",
          "name": "stdout",
          "text": [
            "epoch: 37 / 50\n",
            "time: 76.78 seconds\n",
            "train-loss: 0.27, train-acc: 91.53%\n",
            "valid-loss: 0.41, valid-acc: 87.22%\n",
            "\n"
          ]
        },
        {
          "output_type": "stream",
          "name": "stderr",
          "text": [
            "Train loss: 0.16398334503173828: : 124it [01:07,  1.84it/s]\n",
            "29it [00:07,  3.64it/s]\n"
          ]
        },
        {
          "output_type": "stream",
          "name": "stdout",
          "text": [
            "epoch: 38 / 50\n",
            "time: 75.39 seconds\n",
            "train-loss: 0.26, train-acc: 91.46%\n",
            "valid-loss: 0.40, valid-acc: 88.00%\n",
            "\n"
          ]
        },
        {
          "output_type": "stream",
          "name": "stderr",
          "text": [
            "Train loss: 0.20616470277309418: : 124it [01:08,  1.82it/s]\n",
            "29it [00:07,  3.67it/s]\n"
          ]
        },
        {
          "output_type": "stream",
          "name": "stdout",
          "text": [
            "epoch: 39 / 50\n",
            "time: 76.13 seconds\n",
            "train-loss: 0.26, train-acc: 91.66%\n",
            "valid-loss: 0.40, valid-acc: 86.89%\n",
            "\n"
          ]
        },
        {
          "output_type": "stream",
          "name": "stderr",
          "text": [
            "Train loss: 0.2949844002723694: : 124it [01:08,  1.81it/s]\n",
            "29it [00:07,  3.69it/s]\n"
          ]
        },
        {
          "output_type": "stream",
          "name": "stdout",
          "text": [
            "epoch: 40 / 50\n",
            "time: 76.42 seconds\n",
            "train-loss: 0.25, train-acc: 91.58%\n",
            "valid-loss: 0.44, valid-acc: 85.68%\n",
            "\n"
          ]
        },
        {
          "output_type": "stream",
          "name": "stderr",
          "text": [
            "Train loss: 0.2098855972290039: : 124it [01:06,  1.85it/s]\n",
            "29it [00:07,  3.74it/s]\n"
          ]
        },
        {
          "output_type": "stream",
          "name": "stdout",
          "text": [
            "epoch: 41 / 50\n",
            "time: 74.64 seconds\n",
            "train-loss: 0.25, train-acc: 91.46%\n",
            "valid-loss: 0.40, valid-acc: 87.33%\n",
            "\n"
          ]
        },
        {
          "output_type": "stream",
          "name": "stderr",
          "text": [
            "Train loss: 0.17235800623893738: : 124it [01:07,  1.84it/s]\n",
            "29it [00:07,  3.69it/s]\n"
          ]
        },
        {
          "output_type": "stream",
          "name": "stdout",
          "text": [
            "epoch: 42 / 50\n",
            "time: 75.13 seconds\n",
            "train-loss: 0.24, train-acc: 92.01%\n",
            "valid-loss: 0.42, valid-acc: 86.89%\n",
            "\n"
          ]
        },
        {
          "output_type": "stream",
          "name": "stderr",
          "text": [
            "Train loss: 0.20190948247909546: : 124it [01:07,  1.83it/s]\n",
            "29it [00:07,  3.74it/s]\n"
          ]
        },
        {
          "output_type": "stream",
          "name": "stdout",
          "text": [
            "epoch: 43 / 50\n",
            "time: 75.58 seconds\n",
            "train-loss: 0.24, train-acc: 91.58%\n",
            "valid-loss: 0.45, valid-acc: 85.57%\n",
            "\n"
          ]
        },
        {
          "output_type": "stream",
          "name": "stderr",
          "text": [
            "Train loss: 0.19449034333229065: : 124it [01:07,  1.84it/s]\n",
            "29it [00:08,  3.61it/s]\n"
          ]
        },
        {
          "output_type": "stream",
          "name": "stdout",
          "text": [
            "epoch: 44 / 50\n",
            "time: 75.52 seconds\n",
            "train-loss: 0.23, train-acc: 92.34%\n",
            "valid-loss: 0.42, valid-acc: 86.89%\n",
            "\n"
          ]
        },
        {
          "output_type": "stream",
          "name": "stderr",
          "text": [
            "Train loss: 0.17040321230888367: : 124it [01:10,  1.75it/s]\n",
            "29it [00:07,  3.65it/s]\n"
          ]
        },
        {
          "output_type": "stream",
          "name": "stdout",
          "text": [
            "epoch: 45 / 50\n",
            "time: 78.79 seconds\n",
            "train-loss: 0.23, train-acc: 92.14%\n",
            "valid-loss: 0.43, valid-acc: 87.44%\n",
            "\n"
          ]
        },
        {
          "output_type": "stream",
          "name": "stderr",
          "text": [
            "Train loss: 0.03320557251572609: : 124it [01:09,  1.80it/s]\n",
            "29it [00:07,  3.64it/s]\n"
          ]
        },
        {
          "output_type": "stream",
          "name": "stdout",
          "text": [
            "epoch: 46 / 50\n",
            "time: 77.06 seconds\n",
            "train-loss: 0.20, train-acc: 92.74%\n",
            "valid-loss: 0.47, valid-acc: 86.89%\n",
            "\n"
          ]
        },
        {
          "output_type": "stream",
          "name": "stderr",
          "text": [
            "Train loss: 0.4426954984664917: : 124it [01:08,  1.82it/s]\n",
            "29it [00:07,  3.69it/s]\n"
          ]
        },
        {
          "output_type": "stream",
          "name": "stdout",
          "text": [
            "epoch: 47 / 50\n",
            "time: 75.93 seconds\n",
            "train-loss: 0.22, train-acc: 92.21%\n",
            "valid-loss: 0.41, valid-acc: 87.33%\n",
            "\n"
          ]
        },
        {
          "output_type": "stream",
          "name": "stderr",
          "text": [
            "Train loss: 0.24096879363059998: : 124it [01:09,  1.79it/s]\n",
            "29it [00:07,  3.70it/s]\n"
          ]
        },
        {
          "output_type": "stream",
          "name": "stdout",
          "text": [
            "epoch: 48 / 50\n",
            "time: 77.03 seconds\n",
            "train-loss: 0.23, train-acc: 92.11%\n",
            "valid-loss: 0.41, valid-acc: 87.44%\n",
            "\n"
          ]
        },
        {
          "output_type": "stream",
          "name": "stderr",
          "text": [
            "Train loss: 0.4795720875263214: : 124it [01:07,  1.85it/s]\n",
            "29it [00:07,  3.69it/s]\n"
          ]
        },
        {
          "output_type": "stream",
          "name": "stdout",
          "text": [
            "epoch: 49 / 50\n",
            "time: 75.05 seconds\n",
            "train-loss: 0.22, train-acc: 92.64%\n",
            "valid-loss: 0.45, valid-acc: 86.01%\n",
            "\n"
          ]
        },
        {
          "output_type": "stream",
          "name": "stderr",
          "text": [
            "Train loss: 0.15777850151062012: : 124it [01:07,  1.83it/s]\n",
            "29it [00:07,  3.66it/s]\n"
          ]
        },
        {
          "output_type": "stream",
          "name": "stdout",
          "text": [
            "epoch: 50 / 50\n",
            "time: 75.79 seconds\n",
            "train-loss: 0.22, train-acc: 92.54%\n",
            "valid-loss: 0.43, valid-acc: 87.11%\n",
            "\n"
          ]
        },
        {
          "output_type": "stream",
          "name": "stderr",
          "text": [
            "29it [00:07,  3.63it/s]"
          ]
        },
        {
          "output_type": "stream",
          "name": "stdout",
          "text": [
            "final accuracy 0.8733480176211453\n"
          ]
        },
        {
          "output_type": "stream",
          "name": "stderr",
          "text": [
            "\n"
          ]
        }
      ]
    },
    {
      "cell_type": "code",
      "source": [
        "fig=plt.figure(figsize = (12,7))\n",
        "sns.heatmap(conf_matrix, annot=True, fmt='g', linewidths=.4, cbar=False)\n",
        "class_names = [\"bathtub\", \"bed\", \"chair\", \"desk\", \"dresser\", \"monitor\", \"night_stand\", \"sofa\", \"table\", \"toilet\"]\n",
        "tick_marks = np.arange(len(class_names))\n",
        "plt.xticks(tick_marks, class_names, rotation=45)\n",
        "plt.yticks(tick_marks, class_names, rotation=0)\n",
        "plt.title(\"Confusion Matrix\")\n",
        "        "
      ],
      "metadata": {
        "id": "ng_DWo2tDoIF",
        "outputId": "151385e6-6613-406f-d655-501fb35191cc",
        "colab": {
          "base_uri": "https://localhost:8080/",
          "height": 501
        }
      },
      "execution_count": 7,
      "outputs": [
        {
          "output_type": "execute_result",
          "data": {
            "text/plain": [
              "Text(0.5, 1.0, 'Confusion Matrix')"
            ]
          },
          "metadata": {},
          "execution_count": 7
        },
        {
          "output_type": "display_data",
          "data": {
            "text/plain": [
              "<Figure size 864x504 with 1 Axes>"
            ],
            "image/png": "[encoded data removed]"
          },
          "metadata": {
            "needs_background": "light"
          }
        }
      ]
    },
    {
      "cell_type": "code",
      "source": [
        "def smooth(x, w=0):\n",
        "    last = x[0]\n",
        "    smoothed = []\n",
        "    for point in x:\n",
        "        smoothed_val = w * last + (1 - w) * point\n",
        "        smoothed.append(smoothed_val)\n",
        "        last = smoothed_val\n",
        "        \n",
        "    return smoothed\n",
        "\n",
        "eps = range(0, len(history[\"train_loss\"].cpu()))\n",
        "        \n",
        "sns.set_theme()\n",
        "fig, ax = plt.subplots(1, 2, figsize=(14, 4))\n",
        "fig.suptitle('Results')\n",
        "       \n",
        "ax[0].plot(eps, smooth(history[\"train_loss\"].cpu()), 'g', label='Training Loss')\n",
        "ax[0].plot(eps, smooth(history[\"test_loss\"].cpu()), 'b', label='Test Loss')\n",
        "ax[0].set_title('Loss History')\n",
        "ax[0].set(xlabel='Epochs', ylabel='Loss')\n",
        "ax[0].legend()\n",
        "        \n",
        "ax[1].plot(eps, smooth(history[\"train_acc\"].cpu()), 'g', label='Training Accuracy')\n",
        "ax[1].plot(eps, smooth(history[\"test_acc\"].cpu()), 'b', label='Test Accuracy')\n",
        "ax[1].set_title('Loss History')\n",
        "ax[1].set(xlabel='Epochs', ylabel='Accuracy')\n",
        "ax[1].legend()"
      ],
      "metadata": {
        "id": "QiavOBNHJjoX",
        "outputId": "63fd5b96-7507-49c3-8386-c1ab5a43453c",
        "colab": {
          "base_uri": "https://localhost:8080/",
          "height": 331
        }
      },
      "execution_count": 8,
      "outputs": [
        {
          "output_type": "execute_result",
          "data": {
            "text/plain": [
              "<matplotlib.legend.Legend at 0x7fa9f2534730>"
            ]
          },
          "metadata": {},
          "execution_count": 8
        },
        {
          "output_type": "display_data",
          "data": {
            "text/plain": [
              "<Figure size 1008x288 with 2 Axes>"
            ],
            "image/png": "[encoded data removed]"
          },
          "metadata": {}
        }
      ]
    },
    {
      "cell_type": "code",
      "source": [
        "!pip install open3d;\n",
        "import open3d as o3d"
      ],
      "metadata": {
        "id": "_kNU5KlqVmB2",
        "outputId": "b556910f-e8d8-4514-ebc5-c4b5fc7343f8",
        "colab": {
          "base_uri": "https://localhost:8080/"
        }
      },
      "execution_count": 5,
      "outputs": [
        {
          "output_type": "stream",
          "name": "stdout",
          "text": [
            "Looking in indexes: https://pypi.org/simple, https://us-python.pkg.dev/colab-wheels/public/simple/\n",
            "Requirement already satisfied: open3d in /usr/local/lib/python3.8/dist-packages (0.16.0)\n",
            "Requirement already satisfied: pyyaml>=5.4.1 in /usr/local/lib/python3.8/dist-packages (from open3d) (6.0)\n",
            "Requirement already satisfied: numpy>=1.18.0 in /usr/local/lib/python3.8/dist-packages (from open3d) (1.21.6)\n",
            "Requirement already satisfied: pyquaternion in /usr/local/lib/python3.8/dist-packages (from open3d) (0.9.9)\n",
            "Requirement already satisfied: addict in /usr/local/lib/python3.8/dist-packages (from open3d) (2.4.0)\n",
            "Requirement already satisfied: ipywidgets>=7.6.0 in /usr/local/lib/python3.8/dist-packages (from open3d) (7.7.1)\n",
            "Requirement already satisfied: configargparse in /usr/local/lib/python3.8/dist-packages (from open3d) (1.5.3)\n",
            "Requirement already satisfied: pandas>=1.0 in /usr/local/lib/python3.8/dist-packages (from open3d) (1.3.5)\n",
            "Requirement already satisfied: dash>=2.6.0 in /usr/local/lib/python3.8/dist-packages (from open3d) (2.7.1)\n",
            "Requirement already satisfied: tqdm in /usr/local/lib/python3.8/dist-packages (from open3d) (4.64.1)\n",
            "Requirement already satisfied: scikit-learn>=0.21 in /usr/local/lib/python3.8/dist-packages (from open3d) (1.0.2)\n",
            "Requirement already satisfied: nbformat==5.5.0 in /usr/local/lib/python3.8/dist-packages (from open3d) (5.5.0)\n",
            "Requirement already satisfied: matplotlib>=3 in /usr/local/lib/python3.8/dist-packages (from open3d) (3.2.2)\n",
            "Requirement already satisfied: pillow>=8.2.0 in /usr/local/lib/python3.8/dist-packages (from open3d) (9.4.0)\n",
            "Requirement already satisfied: jsonschema>=2.6 in /usr/local/lib/python3.8/dist-packages (from nbformat==5.5.0->open3d) (4.3.3)\n",
            "Requirement already satisfied: jupyter_core in /usr/local/lib/python3.8/dist-packages (from nbformat==5.5.0->open3d) (5.1.3)\n",
            "Requirement already satisfied: fastjsonschema in /usr/local/lib/python3.8/dist-packages (from nbformat==5.5.0->open3d) (2.16.2)\n",
            "Requirement already satisfied: traitlets>=5.1 in /usr/local/lib/python3.8/dist-packages (from nbformat==5.5.0->open3d) (5.7.1)\n",
            "Requirement already satisfied: Flask>=1.0.4 in /usr/local/lib/python3.8/dist-packages (from dash>=2.6.0->open3d) (1.1.4)\n",
            "Requirement already satisfied: dash-table==5.0.0 in /usr/local/lib/python3.8/dist-packages (from dash>=2.6.0->open3d) (5.0.0)\n",
            "Requirement already satisfied: dash-html-components==2.0.0 in /usr/local/lib/python3.8/dist-packages (from dash>=2.6.0->open3d) (2.0.0)\n",
            "Requirement already satisfied: dash-core-components==2.0.0 in /usr/local/lib/python3.8/dist-packages (from dash>=2.6.0->open3d) (2.0.0)\n",
            "Requirement already satisfied: plotly>=5.0.0 in /usr/local/lib/python3.8/dist-packages (from dash>=2.6.0->open3d) (5.5.0)\n",
            "Requirement already satisfied: ipykernel>=4.5.1 in /usr/local/lib/python3.8/dist-packages (from ipywidgets>=7.6.0->open3d) (5.3.4)\n",
            "Requirement already satisfied: jupyterlab-widgets>=1.0.0 in /usr/local/lib/python3.8/dist-packages (from ipywidgets>=7.6.0->open3d) (3.0.5)\n",
            "Requirement already satisfied: ipython-genutils~=0.2.0 in /usr/local/lib/python3.8/dist-packages (from ipywidgets>=7.6.0->open3d) (0.2.0)\n",
            "Requirement already satisfied: ipython>=4.0.0 in /usr/local/lib/python3.8/dist-packages (from ipywidgets>=7.6.0->open3d) (7.9.0)\n",
            "Requirement already satisfied: widgetsnbextension~=3.6.0 in /usr/local/lib/python3.8/dist-packages (from ipywidgets>=7.6.0->open3d) (3.6.1)\n",
            "Requirement already satisfied: kiwisolver>=1.0.1 in /usr/local/lib/python3.8/dist-packages (from matplotlib>=3->open3d) (1.4.4)\n",
            "Requirement already satisfied: pyparsing!=2.0.4,!=2.1.2,!=2.1.6,>=2.0.1 in /usr/local/lib/python3.8/dist-packages (from matplotlib>=3->open3d) (3.0.9)\n",
            "Requirement already satisfied: python-dateutil>=2.1 in /usr/local/lib/python3.8/dist-packages (from matplotlib>=3->open3d) (2.8.2)\n",
            "Requirement already satisfied: cycler>=0.10 in /usr/local/lib/python3.8/dist-packages (from matplotlib>=3->open3d) (0.11.0)\n",
            "Requirement already satisfied: pytz>=2017.3 in /usr/local/lib/python3.8/dist-packages (from pandas>=1.0->open3d) (2022.7)\n",
            "Requirement already satisfied: threadpoolctl>=2.0.0 in /usr/local/lib/python3.8/dist-packages (from scikit-learn>=0.21->open3d) (3.1.0)\n",
            "Requirement already satisfied: scipy>=1.1.0 in /usr/local/lib/python3.8/dist-packages (from scikit-learn>=0.21->open3d) (1.7.3)\n",
            "Requirement already satisfied: joblib>=0.11 in /usr/local/lib/python3.8/dist-packages (from scikit-learn>=0.21->open3d) (1.2.0)\n",
            "Requirement already satisfied: click<8.0,>=5.1 in /usr/local/lib/python3.8/dist-packages (from Flask>=1.0.4->dash>=2.6.0->open3d) (7.1.2)\n",
            "Requirement already satisfied: Werkzeug<2.0,>=0.15 in /usr/local/lib/python3.8/dist-packages (from Flask>=1.0.4->dash>=2.6.0->open3d) (1.0.1)\n",
            "Requirement already satisfied: itsdangerous<2.0,>=0.24 in /usr/local/lib/python3.8/dist-packages (from Flask>=1.0.4->dash>=2.6.0->open3d) (1.1.0)\n",
            "Requirement already satisfied: Jinja2<3.0,>=2.10.1 in /usr/local/lib/python3.8/dist-packages (from Flask>=1.0.4->dash>=2.6.0->open3d) (2.11.3)\n",
            "Requirement already satisfied: jupyter-client in /usr/local/lib/python3.8/dist-packages (from ipykernel>=4.5.1->ipywidgets>=7.6.0->open3d) (6.1.12)\n",
            "Requirement already satisfied: tornado>=4.2 in /usr/local/lib/python3.8/dist-packages (from ipykernel>=4.5.1->ipywidgets>=7.6.0->open3d) (6.0.4)\n",
            "Requirement already satisfied: setuptools>=18.5 in /usr/local/lib/python3.8/dist-packages (from ipython>=4.0.0->ipywidgets>=7.6.0->open3d) (57.4.0)\n",
            "Requirement already satisfied: prompt-toolkit<2.1.0,>=2.0.0 in /usr/local/lib/python3.8/dist-packages (from ipython>=4.0.0->ipywidgets>=7.6.0->open3d) (2.0.10)\n",
            "Requirement already satisfied: pygments in /usr/local/lib/python3.8/dist-packages (from ipython>=4.0.0->ipywidgets>=7.6.0->open3d) (2.6.1)\n",
            "Requirement already satisfied: pexpect in /usr/local/lib/python3.8/dist-packages (from ipython>=4.0.0->ipywidgets>=7.6.0->open3d) (4.8.0)\n",
            "Requirement already satisfied: pickleshare in /usr/local/lib/python3.8/dist-packages (from ipython>=4.0.0->ipywidgets>=7.6.0->open3d) (0.7.5)\n",
            "Requirement already satisfied: jedi>=0.10 in /usr/local/lib/python3.8/dist-packages (from ipython>=4.0.0->ipywidgets>=7.6.0->open3d) (0.18.2)\n",
            "Requirement already satisfied: decorator in /usr/local/lib/python3.8/dist-packages (from ipython>=4.0.0->ipywidgets>=7.6.0->open3d) (4.4.2)\n",
            "Requirement already satisfied: backcall in /usr/local/lib/python3.8/dist-packages (from ipython>=4.0.0->ipywidgets>=7.6.0->open3d) (0.2.0)\n",
            "Requirement already satisfied: attrs>=17.4.0 in /usr/local/lib/python3.8/dist-packages (from jsonschema>=2.6->nbformat==5.5.0->open3d) (22.2.0)\n",
            "Requirement already satisfied: pyrsistent!=0.17.0,!=0.17.1,!=0.17.2,>=0.14.0 in /usr/local/lib/python3.8/dist-packages (from jsonschema>=2.6->nbformat==5.5.0->open3d) (0.19.3)\n",
            "Requirement already satisfied: importlib-resources>=1.4.0 in /usr/local/lib/python3.8/dist-packages (from jsonschema>=2.6->nbformat==5.5.0->open3d) (5.10.2)\n",
            "Requirement already satisfied: six in /usr/local/lib/python3.8/dist-packages (from plotly>=5.0.0->dash>=2.6.0->open3d) (1.15.0)\n",
            "Requirement already satisfied: tenacity>=6.2.0 in /usr/local/lib/python3.8/dist-packages (from plotly>=5.0.0->dash>=2.6.0->open3d) (8.1.0)\n",
            "Requirement already satisfied: notebook>=4.4.1 in /usr/local/lib/python3.8/dist-packages (from widgetsnbextension~=3.6.0->ipywidgets>=7.6.0->open3d) (5.7.16)\n",
            "Requirement already satisfied: platformdirs>=2.5 in /usr/local/lib/python3.8/dist-packages (from jupyter_core->nbformat==5.5.0->open3d) (2.6.2)\n",
            "Requirement already satisfied: zipp>=3.1.0 in /usr/local/lib/python3.8/dist-packages (from importlib-resources>=1.4.0->jsonschema>=2.6->nbformat==5.5.0->open3d) (3.11.0)\n",
            "Requirement already satisfied: parso<0.9.0,>=0.8.0 in /usr/local/lib/python3.8/dist-packages (from jedi>=0.10->ipython>=4.0.0->ipywidgets>=7.6.0->open3d) (0.8.3)\n",
            "Requirement already satisfied: MarkupSafe>=0.23 in /usr/local/lib/python3.8/dist-packages (from Jinja2<3.0,>=2.10.1->Flask>=1.0.4->dash>=2.6.0->open3d) (2.0.1)\n",
            "Requirement already satisfied: nbconvert<6.0 in /usr/local/lib/python3.8/dist-packages (from notebook>=4.4.1->widgetsnbextension~=3.6.0->ipywidgets>=7.6.0->open3d) (5.6.1)\n",
            "Requirement already satisfied: pyzmq>=17 in /usr/local/lib/python3.8/dist-packages (from notebook>=4.4.1->widgetsnbextension~=3.6.0->ipywidgets>=7.6.0->open3d) (23.2.1)\n",
            "Requirement already satisfied: terminado>=0.8.1 in /usr/local/lib/python3.8/dist-packages (from notebook>=4.4.1->widgetsnbextension~=3.6.0->ipywidgets>=7.6.0->open3d) (0.13.3)\n",
            "Requirement already satisfied: prometheus-client in /usr/local/lib/python3.8/dist-packages (from notebook>=4.4.1->widgetsnbextension~=3.6.0->ipywidgets>=7.6.0->open3d) (0.15.0)\n",
            "Requirement already satisfied: Send2Trash in /usr/local/lib/python3.8/dist-packages (from notebook>=4.4.1->widgetsnbextension~=3.6.0->ipywidgets>=7.6.0->open3d) (1.8.0)\n",
            "Requirement already satisfied: wcwidth in /usr/local/lib/python3.8/dist-packages (from prompt-toolkit<2.1.0,>=2.0.0->ipython>=4.0.0->ipywidgets>=7.6.0->open3d) (0.2.5)\n",
            "Requirement already satisfied: ptyprocess>=0.5 in /usr/local/lib/python3.8/dist-packages (from pexpect->ipython>=4.0.0->ipywidgets>=7.6.0->open3d) (0.7.0)\n",
            "Requirement already satisfied: entrypoints>=0.2.2 in /usr/local/lib/python3.8/dist-packages (from nbconvert<6.0->notebook>=4.4.1->widgetsnbextension~=3.6.0->ipywidgets>=7.6.0->open3d) (0.4)\n",
            "Requirement already satisfied: defusedxml in /usr/local/lib/python3.8/dist-packages (from nbconvert<6.0->notebook>=4.4.1->widgetsnbextension~=3.6.0->ipywidgets>=7.6.0->open3d) (0.7.1)\n",
            "Requirement already satisfied: bleach in /usr/local/lib/python3.8/dist-packages (from nbconvert<6.0->notebook>=4.4.1->widgetsnbextension~=3.6.0->ipywidgets>=7.6.0->open3d) (5.0.1)\n",
            "Requirement already satisfied: testpath in /usr/local/lib/python3.8/dist-packages (from nbconvert<6.0->notebook>=4.4.1->widgetsnbextension~=3.6.0->ipywidgets>=7.6.0->open3d) (0.6.0)\n",
            "Requirement already satisfied: pandocfilters>=1.4.1 in /usr/local/lib/python3.8/dist-packages (from nbconvert<6.0->notebook>=4.4.1->widgetsnbextension~=3.6.0->ipywidgets>=7.6.0->open3d) (1.5.0)\n",
            "Requirement already satisfied: mistune<2,>=0.8.1 in /usr/local/lib/python3.8/dist-packages (from nbconvert<6.0->notebook>=4.4.1->widgetsnbextension~=3.6.0->ipywidgets>=7.6.0->open3d) (0.8.4)\n",
            "Requirement already satisfied: webencodings in /usr/local/lib/python3.8/dist-packages (from bleach->nbconvert<6.0->notebook>=4.4.1->widgetsnbextension~=3.6.0->ipywidgets>=7.6.0->open3d) (0.5.1)\n"
          ]
        }
      ]
    },
    {
      "cell_type": "code",
      "source": [
        "!wget http://3dvision.princeton.edu/projects/2014/3DShapeNets/ModelNet10.zip"
      ],
      "metadata": {
        "id": "S6uxLHafVygz",
        "outputId": "10f06e79-c2be-49c5-e0f5-c6298ee6cf06",
        "colab": {
          "base_uri": "https://localhost:8080/"
        }
      },
      "execution_count": 10,
      "outputs": [
        {
          "output_type": "stream",
          "name": "stdout",
          "text": [
            "--2023-01-19 14:03:41--  http://3dvision.princeton.edu/projects/2014/3DShapeNets/ModelNet10.zip\n",
            "Resolving 3dvision.princeton.edu (3dvision.princeton.edu)... 128.112.136.74\n",
            "Connecting to 3dvision.princeton.edu (3dvision.princeton.edu)|128.112.136.74|:80... connected.\n",
            "HTTP request sent, awaiting response... 302 Found\n",
            "Location: https://3dvision.princeton.edu/projects/2014/3DShapeNets/ModelNet10.zip [following]\n",
            "--2023-01-19 14:03:42--  https://3dvision.princeton.edu/projects/2014/3DShapeNets/ModelNet10.zip\n",
            "Connecting to 3dvision.princeton.edu (3dvision.princeton.edu)|128.112.136.74|:443... connected.\n",
            "HTTP request sent, awaiting response... 200 OK\n",
            "Length: 473402300 (451M) [application/zip]\n",
            "Saving to: ‘ModelNet10.zip’\n",
            "\n",
            "ModelNet10.zip      100%[===================>] 451.47M  57.8MB/s    in 9.2s    \n",
            "\n",
            "2023-01-19 14:03:51 (49.0 MB/s) - ‘ModelNet10.zip’ saved [473402300/473402300]\n",
            "\n"
          ]
        }
      ]
    },
    {
      "cell_type": "code",
      "source": [
        "!unzip -q ModelNet10.zip;"
      ],
      "metadata": {
        "id": "ruG9YlYyV1H5"
      },
      "execution_count": 11,
      "outputs": []
    },
    {
      "cell_type": "code",
      "source": [
        "mesh = o3d.io.read_triangle_mesh('/content/ModelNet10/bed/train/bed_0002.off')\n",
        "voxel_grid = o3d.geometry.VoxelGrid.create_from_triangle_mesh(mesh, voxel_size=0.10)\n"
      ],
      "metadata": {
        "id": "4Phl8KzAV26a"
      },
      "execution_count": null,
      "outputs": []
    }
  ]
}