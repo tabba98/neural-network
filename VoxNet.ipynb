{
  "nbformat": 4,
  "nbformat_minor": 0,
  "metadata": {
    "colab": {
      "provenance": [],
      "authorship_tag": "ABX9TyOlHwbRxVXDXF3UlZWk0cC3",
      "include_colab_link": true
    },
    "kernelspec": {
      "name": "python3",
      "display_name": "Python 3"
    },
    "language_info": {
      "name": "python"
    },
    "accelerator": "GPU",
    "gpuClass": "standard"
  },
  "cells": [
    {
      "cell_type": "markdown",
      "metadata": {
        "id": "view-in-github",
        "colab_type": "text"
      },
      "source": [
        "<a href=\"https://colab.research.google.com/github/tabba98/neural-network/blob/main/VoxNet.ipynb\" target=\"_parent\"><img src=\"https://colab.research.google.com/assets/colab-badge.svg\" alt=\"Open In Colab\"/></a>"
      ]
    },
    {
      "cell_type": "markdown",
      "source": [
        "# Import the Libraries"
      ],
      "metadata": {
        "id": "vV-7Y3QXDnGs"
      }
    },
    {
      "cell_type": "code",
      "source": [
        "import numpy as np\n",
        "import torch\n",
        "import torch.nn as nn\n",
        "import torch.nn.functional as F\n",
        "from torch.utils.data import Dataset, DataLoader\n",
        "!pip install torchmetrics\n",
        "from torchmetrics.classification import Accuracy\n",
        "from torchmetrics import ConfusionMatrix\n",
        "\n",
        "!pip install open3d;\n",
        "import open3d as o3d\n",
        "\n",
        "#for plotting\n",
        "import matplotlib.pyplot as plt\n",
        "import seaborn as sns\n",
        "import pandas as pd\n",
        "from sklearn.metrics import confusion_matrix\n",
        "\n",
        "import scipy\n",
        "from scipy.ndimage import rotate\n",
        "\n",
        "import time\n",
        "from tqdm import tqdm\n",
        "\n",
        "!pip install Pillow==9.0"
      ],
      "metadata": {
        "id": "Ic3yD5Ks5Stj",
        "outputId": "cd2287d9-9f3a-4aba-9c16-e31842ad8969",
        "colab": {
          "base_uri": "https://localhost:8080/",
          "height": 1000
        }
      },
      "execution_count": 1,
      "outputs": [
        {
          "output_type": "stream",
          "name": "stdout",
          "text": [
            "Looking in indexes: https://pypi.org/simple, https://us-python.pkg.dev/colab-wheels/public/simple/\n",
            "Collecting torchmetrics\n",
            "  Downloading torchmetrics-0.11.4-py3-none-any.whl (519 kB)\n",
            "\u001b[2K     \u001b[90m━━━━━━━━━━━━━━━━━━━━━━━━━━━━━━━━━━━━━━\u001b[0m \u001b[32m519.2/519.2 KB\u001b[0m \u001b[31m34.7 MB/s\u001b[0m eta \u001b[36m0:00:00\u001b[0m\n",
            "\u001b[?25hRequirement already satisfied: torch>=1.8.1 in /usr/local/lib/python3.9/dist-packages (from torchmetrics) (1.13.1+cu116)\n",
            "Requirement already satisfied: packaging in /usr/local/lib/python3.9/dist-packages (from torchmetrics) (23.0)\n",
            "Requirement already satisfied: numpy>=1.17.2 in /usr/local/lib/python3.9/dist-packages (from torchmetrics) (1.22.4)\n",
            "Requirement already satisfied: typing-extensions in /usr/local/lib/python3.9/dist-packages (from torch>=1.8.1->torchmetrics) (4.5.0)\n",
            "Installing collected packages: torchmetrics\n",
            "Successfully installed torchmetrics-0.11.4\n",
            "Looking in indexes: https://pypi.org/simple, https://us-python.pkg.dev/colab-wheels/public/simple/\n",
            "Collecting open3d\n",
            "  Downloading open3d-0.17.0-cp39-cp39-manylinux_2_27_x86_64.whl (420.5 MB)\n",
            "\u001b[2K     \u001b[90m━━━━━━━━━━━━━━━━━━━━━━━━━━━━━━━━━━━━━━━\u001b[0m \u001b[32m420.5/420.5 MB\u001b[0m \u001b[31m3.7 MB/s\u001b[0m eta \u001b[36m0:00:00\u001b[0m\n",
            "\u001b[?25hRequirement already satisfied: numpy>1.15 in /usr/local/lib/python3.9/dist-packages (from open3d) (1.22.4)\n",
            "Requirement already satisfied: scikit-learn>=0.21 in /usr/local/lib/python3.9/dist-packages (from open3d) (1.2.2)\n",
            "Collecting dash>=2.6.0\n",
            "  Downloading dash-2.9.1-py3-none-any.whl (10.2 MB)\n",
            "\u001b[2K     \u001b[90m━━━━━━━━━━━━━━━━━━━━━━━━━━━━━━━━━━━━━━━\u001b[0m \u001b[32m10.2/10.2 MB\u001b[0m \u001b[31m105.4 MB/s\u001b[0m eta \u001b[36m0:00:00\u001b[0m\n",
            "\u001b[?25hRequirement already satisfied: matplotlib>=3 in /usr/local/lib/python3.9/dist-packages (from open3d) (3.7.1)\n",
            "Requirement already satisfied: werkzeug>=2.2.3 in /usr/local/lib/python3.9/dist-packages (from open3d) (2.2.3)\n",
            "Collecting addict\n",
            "  Downloading addict-2.4.0-py3-none-any.whl (3.8 kB)\n",
            "Collecting ipywidgets>=8.0.4\n",
            "  Downloading ipywidgets-8.0.5-py3-none-any.whl (138 kB)\n",
            "\u001b[2K     \u001b[90m━━━━━━━━━━━━━━━━━━━━━━━━━━━━━━━━━━━━━━\u001b[0m \u001b[32m138.3/138.3 KB\u001b[0m \u001b[31m15.3 MB/s\u001b[0m eta \u001b[36m0:00:00\u001b[0m\n",
            "\u001b[?25hCollecting pillow>=9.3.0\n",
            "  Downloading Pillow-9.4.0-cp39-cp39-manylinux_2_28_x86_64.whl (3.4 MB)\n",
            "\u001b[2K     \u001b[90m━━━━━━━━━━━━━━━━━━━━━━━━━━━━━━━━━━━━━━━━\u001b[0m \u001b[32m3.4/3.4 MB\u001b[0m \u001b[31m100.9 MB/s\u001b[0m eta \u001b[36m0:00:00\u001b[0m\n",
            "\u001b[?25hRequirement already satisfied: pyyaml>=5.4.1 in /usr/local/lib/python3.9/dist-packages (from open3d) (6.0)\n",
            "Collecting pyquaternion\n",
            "  Downloading pyquaternion-0.9.9-py3-none-any.whl (14 kB)\n",
            "Collecting configargparse\n",
            "  Downloading ConfigArgParse-1.5.3-py3-none-any.whl (20 kB)\n",
            "Collecting nbformat==5.7.0\n",
            "  Downloading nbformat-5.7.0-py3-none-any.whl (77 kB)\n",
            "\u001b[2K     \u001b[90m━━━━━━━━━━━━━━━━━━━━━━━━━━━━━━━━━━━━━━━━\u001b[0m \u001b[32m77.1/77.1 KB\u001b[0m \u001b[31m10.5 MB/s\u001b[0m eta \u001b[36m0:00:00\u001b[0m\n",
            "\u001b[?25hRequirement already satisfied: tqdm in /usr/local/lib/python3.9/dist-packages (from open3d) (4.65.0)\n",
            "Requirement already satisfied: pandas>=1.0 in /usr/local/lib/python3.9/dist-packages (from open3d) (1.4.4)\n",
            "Requirement already satisfied: traitlets>=5.1 in /usr/local/lib/python3.9/dist-packages (from nbformat==5.7.0->open3d) (5.7.1)\n",
            "Requirement already satisfied: fastjsonschema in /usr/local/lib/python3.9/dist-packages (from nbformat==5.7.0->open3d) (2.16.3)\n",
            "Requirement already satisfied: jsonschema>=2.6 in /usr/local/lib/python3.9/dist-packages (from nbformat==5.7.0->open3d) (4.3.3)\n",
            "Requirement already satisfied: jupyter-core in /usr/local/lib/python3.9/dist-packages (from nbformat==5.7.0->open3d) (5.3.0)\n",
            "Requirement already satisfied: plotly>=5.0.0 in /usr/local/lib/python3.9/dist-packages (from dash>=2.6.0->open3d) (5.13.1)\n",
            "Collecting dash-core-components==2.0.0\n",
            "  Downloading dash_core_components-2.0.0-py3-none-any.whl (3.8 kB)\n",
            "Collecting dash-table==5.0.0\n",
            "  Downloading dash_table-5.0.0-py3-none-any.whl (3.9 kB)\n",
            "Collecting dash-html-components==2.0.0\n",
            "  Downloading dash_html_components-2.0.0-py3-none-any.whl (4.1 kB)\n",
            "Requirement already satisfied: Flask>=1.0.4 in /usr/local/lib/python3.9/dist-packages (from dash>=2.6.0->open3d) (2.2.3)\n",
            "Requirement already satisfied: ipython>=6.1.0 in /usr/local/lib/python3.9/dist-packages (from ipywidgets>=8.0.4->open3d) (7.9.0)\n",
            "Collecting widgetsnbextension~=4.0\n",
            "  Downloading widgetsnbextension-4.0.6-py3-none-any.whl (2.1 MB)\n",
            "\u001b[2K     \u001b[90m━━━━━━━━━━━━━━━━━━━━━━━━━━━━━━━━━━━━━━━━\u001b[0m \u001b[32m2.1/2.1 MB\u001b[0m \u001b[31m97.8 MB/s\u001b[0m eta \u001b[36m0:00:00\u001b[0m\n",
            "\u001b[?25hRequirement already satisfied: jupyterlab-widgets~=3.0 in /usr/local/lib/python3.9/dist-packages (from ipywidgets>=8.0.4->open3d) (3.0.5)\n",
            "Requirement already satisfied: importlib-resources>=3.2.0 in /usr/local/lib/python3.9/dist-packages (from matplotlib>=3->open3d) (5.12.0)\n",
            "Requirement already satisfied: fonttools>=4.22.0 in /usr/local/lib/python3.9/dist-packages (from matplotlib>=3->open3d) (4.39.2)\n",
            "Requirement already satisfied: packaging>=20.0 in /usr/local/lib/python3.9/dist-packages (from matplotlib>=3->open3d) (23.0)\n",
            "Requirement already satisfied: cycler>=0.10 in /usr/local/lib/python3.9/dist-packages (from matplotlib>=3->open3d) (0.11.0)\n",
            "Requirement already satisfied: python-dateutil>=2.7 in /usr/local/lib/python3.9/dist-packages (from matplotlib>=3->open3d) (2.8.2)\n",
            "Requirement already satisfied: pyparsing>=2.3.1 in /usr/local/lib/python3.9/dist-packages (from matplotlib>=3->open3d) (3.0.9)\n",
            "Requirement already satisfied: kiwisolver>=1.0.1 in /usr/local/lib/python3.9/dist-packages (from matplotlib>=3->open3d) (1.4.4)\n",
            "Requirement already satisfied: contourpy>=1.0.1 in /usr/local/lib/python3.9/dist-packages (from matplotlib>=3->open3d) (1.0.7)\n",
            "Requirement already satisfied: pytz>=2020.1 in /usr/local/lib/python3.9/dist-packages (from pandas>=1.0->open3d) (2022.7.1)\n",
            "Requirement already satisfied: scipy>=1.3.2 in /usr/local/lib/python3.9/dist-packages (from scikit-learn>=0.21->open3d) (1.10.1)\n",
            "Requirement already satisfied: joblib>=1.1.1 in /usr/local/lib/python3.9/dist-packages (from scikit-learn>=0.21->open3d) (1.1.1)\n",
            "Requirement already satisfied: threadpoolctl>=2.0.0 in /usr/local/lib/python3.9/dist-packages (from scikit-learn>=0.21->open3d) (3.1.0)\n",
            "Requirement already satisfied: MarkupSafe>=2.1.1 in /usr/local/lib/python3.9/dist-packages (from werkzeug>=2.2.3->open3d) (2.1.2)\n",
            "Requirement already satisfied: itsdangerous>=2.0 in /usr/local/lib/python3.9/dist-packages (from Flask>=1.0.4->dash>=2.6.0->open3d) (2.1.2)\n",
            "Requirement already satisfied: Jinja2>=3.0 in /usr/local/lib/python3.9/dist-packages (from Flask>=1.0.4->dash>=2.6.0->open3d) (3.1.2)\n",
            "Requirement already satisfied: importlib-metadata>=3.6.0 in /usr/local/lib/python3.9/dist-packages (from Flask>=1.0.4->dash>=2.6.0->open3d) (6.1.0)\n",
            "Requirement already satisfied: click>=8.0 in /usr/local/lib/python3.9/dist-packages (from Flask>=1.0.4->dash>=2.6.0->open3d) (8.1.3)\n",
            "Requirement already satisfied: zipp>=3.1.0 in /usr/local/lib/python3.9/dist-packages (from importlib-resources>=3.2.0->matplotlib>=3->open3d) (3.15.0)\n",
            "Requirement already satisfied: setuptools>=18.5 in /usr/local/lib/python3.9/dist-packages (from ipython>=6.1.0->ipywidgets>=8.0.4->open3d) (67.6.0)\n",
            "Requirement already satisfied: backcall in /usr/local/lib/python3.9/dist-packages (from ipython>=6.1.0->ipywidgets>=8.0.4->open3d) (0.2.0)\n",
            "Requirement already satisfied: prompt-toolkit<2.1.0,>=2.0.0 in /usr/local/lib/python3.9/dist-packages (from ipython>=6.1.0->ipywidgets>=8.0.4->open3d) (2.0.10)\n",
            "Requirement already satisfied: decorator in /usr/local/lib/python3.9/dist-packages (from ipython>=6.1.0->ipywidgets>=8.0.4->open3d) (4.4.2)\n",
            "Collecting jedi>=0.10\n",
            "  Downloading jedi-0.18.2-py2.py3-none-any.whl (1.6 MB)\n",
            "\u001b[2K     \u001b[90m━━━━━━━━━━━━━━━━━━━━━━━━━━━━━━━━━━━━━━━━\u001b[0m \u001b[32m1.6/1.6 MB\u001b[0m \u001b[31m50.3 MB/s\u001b[0m eta \u001b[36m0:00:00\u001b[0m\n",
            "\u001b[?25hRequirement already satisfied: pexpect in /usr/local/lib/python3.9/dist-packages (from ipython>=6.1.0->ipywidgets>=8.0.4->open3d) (4.8.0)\n",
            "Requirement already satisfied: pygments in /usr/local/lib/python3.9/dist-packages (from ipython>=6.1.0->ipywidgets>=8.0.4->open3d) (2.6.1)\n",
            "Requirement already satisfied: pickleshare in /usr/local/lib/python3.9/dist-packages (from ipython>=6.1.0->ipywidgets>=8.0.4->open3d) (0.7.5)\n",
            "Requirement already satisfied: attrs>=17.4.0 in /usr/local/lib/python3.9/dist-packages (from jsonschema>=2.6->nbformat==5.7.0->open3d) (22.2.0)\n",
            "Requirement already satisfied: pyrsistent!=0.17.0,!=0.17.1,!=0.17.2,>=0.14.0 in /usr/local/lib/python3.9/dist-packages (from jsonschema>=2.6->nbformat==5.7.0->open3d) (0.19.3)\n",
            "Requirement already satisfied: tenacity>=6.2.0 in /usr/local/lib/python3.9/dist-packages (from plotly>=5.0.0->dash>=2.6.0->open3d) (8.2.2)\n",
            "Requirement already satisfied: six>=1.5 in /usr/local/lib/python3.9/dist-packages (from python-dateutil>=2.7->matplotlib>=3->open3d) (1.16.0)\n",
            "Requirement already satisfied: platformdirs>=2.5 in /usr/local/lib/python3.9/dist-packages (from jupyter-core->nbformat==5.7.0->open3d) (3.1.1)\n",
            "Requirement already satisfied: parso<0.9.0,>=0.8.0 in /usr/local/lib/python3.9/dist-packages (from jedi>=0.10->ipython>=6.1.0->ipywidgets>=8.0.4->open3d) (0.8.3)\n",
            "Requirement already satisfied: wcwidth in /usr/local/lib/python3.9/dist-packages (from prompt-toolkit<2.1.0,>=2.0.0->ipython>=6.1.0->ipywidgets>=8.0.4->open3d) (0.2.6)\n",
            "Requirement already satisfied: ptyprocess>=0.5 in /usr/local/lib/python3.9/dist-packages (from pexpect->ipython>=6.1.0->ipywidgets>=8.0.4->open3d) (0.7.0)\n",
            "Installing collected packages: dash-table, dash-html-components, dash-core-components, addict, widgetsnbextension, pyquaternion, pillow, jedi, configargparse, nbformat, ipywidgets, dash, open3d\n",
            "  Attempting uninstall: widgetsnbextension\n",
            "    Found existing installation: widgetsnbextension 3.6.2\n",
            "    Uninstalling widgetsnbextension-3.6.2:\n",
            "      Successfully uninstalled widgetsnbextension-3.6.2\n",
            "  Attempting uninstall: pillow\n",
            "    Found existing installation: Pillow 8.4.0\n",
            "    Uninstalling Pillow-8.4.0:\n",
            "      Successfully uninstalled Pillow-8.4.0\n",
            "  Attempting uninstall: nbformat\n",
            "    Found existing installation: nbformat 5.8.0\n",
            "    Uninstalling nbformat-5.8.0:\n",
            "      Successfully uninstalled nbformat-5.8.0\n",
            "  Attempting uninstall: ipywidgets\n",
            "    Found existing installation: ipywidgets 7.7.1\n",
            "    Uninstalling ipywidgets-7.7.1:\n",
            "      Successfully uninstalled ipywidgets-7.7.1\n",
            "Successfully installed addict-2.4.0 configargparse-1.5.3 dash-2.9.1 dash-core-components-2.0.0 dash-html-components-2.0.0 dash-table-5.0.0 ipywidgets-8.0.5 jedi-0.18.2 nbformat-5.7.0 open3d-0.17.0 pillow-9.4.0 pyquaternion-0.9.9 widgetsnbextension-4.0.6\n"
          ]
        },
        {
          "output_type": "display_data",
          "data": {
            "application/vnd.colab-display-data+json": {
              "pip_warning": {
                "packages": [
                  "PIL",
                  "ipywidgets"
                ]
              }
            }
          },
          "metadata": {}
        },
        {
          "output_type": "stream",
          "name": "stdout",
          "text": [
            "Looking in indexes: https://pypi.org/simple, https://us-python.pkg.dev/colab-wheels/public/simple/\n",
            "Collecting Pillow==9.0\n",
            "  Downloading Pillow-9.0.0-cp39-cp39-manylinux_2_17_x86_64.manylinux2014_x86_64.whl (4.3 MB)\n",
            "\u001b[2K     \u001b[90m━━━━━━━━━━━━━━━━━━━━━━━━━━━━━━━━━━━━━━━━\u001b[0m \u001b[32m4.3/4.3 MB\u001b[0m \u001b[31m67.8 MB/s\u001b[0m eta \u001b[36m0:00:00\u001b[0m\n",
            "\u001b[?25hInstalling collected packages: Pillow\n",
            "  Attempting uninstall: Pillow\n",
            "    Found existing installation: Pillow 9.4.0\n",
            "    Uninstalling Pillow-9.4.0:\n",
            "      Successfully uninstalled Pillow-9.4.0\n",
            "\u001b[31mERROR: pip's dependency resolver does not currently take into account all the packages that are installed. This behaviour is the source of the following dependency conflicts.\n",
            "open3d 0.17.0 requires pillow>=9.3.0, but you have pillow 9.0.0 which is incompatible.\u001b[0m\u001b[31m\n",
            "\u001b[0mSuccessfully installed Pillow-9.0.0\n"
          ]
        }
      ]
    },
    {
      "cell_type": "markdown",
      "source": [
        "# Download and unzip the dataset ModelNet10"
      ],
      "metadata": {
        "id": "cGpYL7odDvTN"
      }
    },
    {
      "cell_type": "code",
      "source": [
        "!wget http://3dvision.princeton.edu/projects/2014/3DShapeNets/ModelNet10.zip"
      ],
      "metadata": {
        "id": "BGBFL8fX5Uuv",
        "outputId": "d42c3bde-7453-47c6-842a-115b2dcef0a4",
        "colab": {
          "base_uri": "https://localhost:8080/"
        }
      },
      "execution_count": 2,
      "outputs": [
        {
          "output_type": "stream",
          "name": "stdout",
          "text": [
            "--2023-03-23 13:13:16--  http://3dvision.princeton.edu/projects/2014/3DShapeNets/ModelNet10.zip\n",
            "Resolving 3dvision.princeton.edu (3dvision.princeton.edu)... 128.112.136.74\n",
            "Connecting to 3dvision.princeton.edu (3dvision.princeton.edu)|128.112.136.74|:80... connected.\n",
            "HTTP request sent, awaiting response... 302 Found\n",
            "Location: https://3dvision.princeton.edu/projects/2014/3DShapeNets/ModelNet10.zip [following]\n",
            "--2023-03-23 13:13:16--  https://3dvision.princeton.edu/projects/2014/3DShapeNets/ModelNet10.zip\n",
            "Connecting to 3dvision.princeton.edu (3dvision.princeton.edu)|128.112.136.74|:443... connected.\n",
            "HTTP request sent, awaiting response... 200 OK\n",
            "Length: 473402300 (451M) [application/zip]\n",
            "Saving to: ‘ModelNet10.zip’\n",
            "\n",
            "ModelNet10.zip      100%[===================>] 451.47M  13.1MB/s    in 37s     \n",
            "\n",
            "2023-03-23 13:13:54 (12.1 MB/s) - ‘ModelNet10.zip’ saved [473402300/473402300]\n",
            "\n"
          ]
        }
      ]
    },
    {
      "cell_type": "code",
      "source": [
        "!unzip -q ModelNet10.zip;"
      ],
      "metadata": {
        "id": "06P5PcU8L_Xq"
      },
      "execution_count": 3,
      "outputs": []
    },
    {
      "cell_type": "markdown",
      "source": [
        "# Voxelization of the off. files in dataset"
      ],
      "metadata": {
        "id": "Fqc2ykibD5DP"
      }
    },
    {
      "cell_type": "code",
      "source": [
        "import os\n",
        "import math\n",
        "\n",
        "ROOT = '/content/ModelNet10/'\n",
        "CLASSES = ['bathtub', 'bed', 'chair', 'desk', 'dresser', 'monitor', 'night_stand', 'sofa', 'table', 'toilet']\n",
        "ROTATIONS = ['0', '45', '90', '135', '180', '225', '270', '315']\n",
        "\n",
        "#rotations matrix\n",
        "r45 = np.array([[math.sqrt(2)/2,-math.sqrt(2)/2,0], [math.sqrt(2)/2,math.sqrt(2)/2,0], [0,0,1]], np.float64)\n",
        "r90 = np.array([[0,-1,0], [1,0,0], [0,0,1]], np.float64)\n",
        "r135 = np.array([[-math.sqrt(2)/2,-math.sqrt(2)/2,0], [math.sqrt(2)/2,-math.sqrt(2)/2,0], [0,0,1]], np.float64)\n",
        "r180 = np.array([[-1,0,0], [0,-1,0], [0,0,1]], np.float64)\n",
        "r225 = np.array([[-math.sqrt(2)/2,math.sqrt(2)/2,0], [-math.sqrt(2)/2,-math.sqrt(2)/2,0], [0,0,1]], np.float64)\n",
        "r270 = np.array([[0,1,0], [-1,0,0], [0,0,1]], np.float64)\n",
        "r315 = np.array([[math.sqrt(2)/2,math.sqrt(2)/2,0], [-math.sqrt(2)/2,math.sqrt(2)/2,0], [0,0,1]], np.float64)\n",
        "\n",
        "X = {'train': [], 'test': []}\n",
        "Y = {'train': [], 'test': []}\n",
        "Z = {'train': [], 'test': []}\n",
        "\n",
        "for label1, cl in enumerate(CLASSES):\n",
        "    for label2, rot in enumerate(ROTATIONS):\n",
        "        split = 'train'\n",
        "        examples_dir = os.path.join(ROOT, cl, split)\n",
        "        for example in tqdm(os.listdir(examples_dir)[:100]):\n",
        "            voxel_index = []\n",
        "            if 'off' in example:\n",
        "              mesh = o3d.io.read_triangle_mesh(examples_dir+'/'+example)\n",
        "              if rot == '0':\n",
        "                mesh = mesh\n",
        "              elif rot == '45':\n",
        "                mesh.rotate(r45)\n",
        "              elif rot == '90':\n",
        "                mesh.rotate(r90)\n",
        "              elif rot == '135':\n",
        "                mesh.rotate(r135)  \n",
        "              elif rot == '180':\n",
        "                mesh.rotate(r180)\n",
        "              elif rot == '225':\n",
        "                mesh.rotate(r225)\n",
        "              elif rot == '270':\n",
        "                mesh.rotate(r270)\n",
        "              else:\n",
        "                mesh.rotate(r315)\n",
        "        \n",
        "              mesh.scale(1 / np.max(mesh.get_max_bound() - mesh.get_min_bound()), center=mesh.get_center())\n",
        "              voxel_grid = o3d.geometry.VoxelGrid.create_from_triangle_mesh(mesh, voxel_size=0.05)\n",
        "                \n",
        "            X[split].append(voxel_grid)\n",
        "            Y[split].append(label1)\n",
        "            Z[split].append(label2)\n",
        "\n",
        "for label1, cl in enumerate(CLASSES):\n",
        "    for label2, rot in enumerate(ROTATIONS):\n",
        "        split = 'test'\n",
        "        examples_dir = os.path.join(ROOT, cl, split)\n",
        "        for example in tqdm(os.listdir(examples_dir)[:50]):\n",
        "            voxel_index = []\n",
        "            if 'off' in example:\n",
        "              mesh = o3d.io.read_triangle_mesh(examples_dir+'/'+example)\n",
        "              if rot == '0':\n",
        "                mesh = mesh\n",
        "              elif rot == '45':\n",
        "                mesh.rotate(r45)\n",
        "              elif rot == '90':\n",
        "                mesh.rotate(r90)\n",
        "              elif rot == '135':\n",
        "                mesh.rotate(r135)  \n",
        "              elif rot == '180':\n",
        "                mesh.rotate(r180)\n",
        "              elif rot == '225':\n",
        "                mesh.rotate(r225)\n",
        "              elif rot == '270':\n",
        "                mesh.rotate(r270)\n",
        "              else:\n",
        "                mesh.rotate(r315)\n",
        "\n",
        "              mesh.scale(1 / np.max(mesh.get_max_bound() - mesh.get_min_bound()), center=mesh.get_center())\n",
        "              voxel_grid = o3d.geometry.VoxelGrid.create_from_triangle_mesh(mesh, voxel_size=0.05)\n",
        "                \n",
        "            X[split].append(voxel_grid)\n",
        "            Y[split].append(label1)\n",
        "            Z[split].append(label2)\n"
      ],
      "metadata": {
        "id": "q-fFm_XKMDMH",
        "outputId": "45078e1e-1ead-4a43-d9b1-538868dfe119",
        "colab": {
          "base_uri": "https://localhost:8080/"
        }
      },
      "execution_count": null,
      "outputs": [
        {
          "output_type": "stream",
          "name": "stderr",
          "text": [
            "100%|██████████| 100/100 [00:04<00:00, 24.47it/s]\n",
            "100%|██████████| 100/100 [00:03<00:00, 31.90it/s]\n",
            "100%|██████████| 100/100 [00:02<00:00, 37.51it/s]\n",
            "100%|██████████| 100/100 [00:02<00:00, 35.56it/s]\n",
            "100%|██████████| 100/100 [00:03<00:00, 32.15it/s]\n",
            "100%|██████████| 100/100 [00:04<00:00, 24.41it/s]\n",
            "100%|██████████| 100/100 [00:02<00:00, 36.62it/s]\n",
            "100%|██████████| 100/100 [00:02<00:00, 35.16it/s]\n",
            "100%|██████████| 100/100 [00:03<00:00, 29.32it/s]\n",
            "100%|██████████| 100/100 [00:04<00:00, 20.62it/s]\n",
            "100%|██████████| 100/100 [00:03<00:00, 30.03it/s]\n",
            "100%|██████████| 100/100 [00:03<00:00, 30.07it/s]\n",
            "100%|██████████| 100/100 [00:04<00:00, 21.30it/s]\n",
            "100%|██████████| 100/100 [00:03<00:00, 27.83it/s]\n",
            "100%|██████████| 100/100 [00:03<00:00, 30.70it/s]\n",
            "100%|██████████| 100/100 [00:03<00:00, 29.70it/s]\n",
            "100%|██████████| 100/100 [00:05<00:00, 18.17it/s]\n",
            "100%|██████████| 100/100 [00:03<00:00, 25.30it/s]\n",
            "100%|██████████| 100/100 [00:03<00:00, 25.99it/s]\n",
            "100%|██████████| 100/100 [00:05<00:00, 17.83it/s]\n",
            "100%|██████████| 100/100 [00:03<00:00, 25.78it/s]\n",
            "100%|██████████| 100/100 [00:04<00:00, 24.94it/s]\n",
            "100%|██████████| 100/100 [00:05<00:00, 18.07it/s]\n",
            "100%|██████████| 100/100 [00:03<00:00, 25.46it/s]\n",
            "100%|██████████| 100/100 [00:02<00:00, 44.11it/s]\n",
            "100%|██████████| 100/100 [00:03<00:00, 27.09it/s]\n",
            "100%|██████████| 100/100 [00:03<00:00, 31.11it/s]\n",
            "100%|██████████| 100/100 [00:02<00:00, 40.21it/s]\n",
            "100%|██████████| 100/100 [00:02<00:00, 42.84it/s]\n",
            "100%|██████████| 100/100 [00:02<00:00, 41.32it/s]\n",
            "100%|██████████| 100/100 [00:03<00:00, 32.13it/s]\n",
            "100%|██████████| 100/100 [00:03<00:00, 29.94it/s]\n",
            "100%|██████████| 100/100 [00:02<00:00, 36.13it/s]\n",
            "100%|██████████| 100/100 [00:02<00:00, 33.92it/s]\n",
            "100%|██████████| 100/100 [00:02<00:00, 35.96it/s]\n",
            "100%|██████████| 100/100 [00:04<00:00, 21.82it/s]\n",
            "100%|██████████| 100/100 [00:02<00:00, 35.40it/s]\n",
            "100%|██████████| 100/100 [00:02<00:00, 33.61it/s]\n",
            "100%|██████████| 100/100 [00:02<00:00, 36.04it/s]\n",
            "100%|██████████| 100/100 [00:04<00:00, 21.41it/s]\n",
            "100%|██████████| 100/100 [00:00<00:00, 117.60it/s]\n",
            "100%|██████████| 100/100 [00:01<00:00, 95.74it/s]\n",
            "100%|██████████| 100/100 [00:00<00:00, 121.71it/s]\n",
            "100%|██████████| 100/100 [00:01<00:00, 94.80it/s]\n",
            "100%|██████████| 100/100 [00:00<00:00, 120.41it/s]\n",
            "100%|██████████| 100/100 [00:01<00:00, 95.95it/s]\n",
            "100%|██████████| 100/100 [00:00<00:00, 123.68it/s]\n",
            "100%|██████████| 100/100 [00:01<00:00, 96.36it/s]\n",
            "100%|██████████| 100/100 [00:02<00:00, 39.25it/s]\n",
            "100%|██████████| 100/100 [00:03<00:00, 27.99it/s]\n",
            "100%|██████████| 100/100 [00:02<00:00, 46.17it/s]\n",
            "100%|██████████| 100/100 [00:02<00:00, 43.31it/s]\n",
            "100%|██████████| 100/100 [00:02<00:00, 45.93it/s]\n",
            "100%|██████████| 100/100 [00:02<00:00, 44.23it/s]\n",
            "100%|██████████| 100/100 [00:03<00:00, 26.41it/s]\n",
            "100%|██████████| 100/100 [00:02<00:00, 42.35it/s]\n",
            "100%|██████████| 100/100 [00:02<00:00, 36.42it/s]\n",
            "100%|██████████| 100/100 [00:02<00:00, 34.57it/s]\n",
            "100%|██████████| 100/100 [00:03<00:00, 28.83it/s]\n",
            "100%|██████████| 100/100 [00:03<00:00, 26.05it/s]\n",
            "100%|██████████| 100/100 [00:02<00:00, 36.52it/s]\n",
            "100%|██████████| 100/100 [00:02<00:00, 34.56it/s]\n",
            "100%|██████████| 100/100 [00:02<00:00, 33.55it/s]\n",
            "100%|██████████| 100/100 [00:04<00:00, 23.15it/s]\n",
            "100%|██████████| 100/100 [00:02<00:00, 37.04it/s]\n",
            "100%|██████████| 100/100 [00:02<00:00, 35.67it/s]\n",
            "100%|██████████| 100/100 [00:03<00:00, 31.35it/s]\n",
            "100%|██████████| 100/100 [00:04<00:00, 22.77it/s]\n",
            "100%|██████████| 100/100 [00:02<00:00, 37.80it/s]\n",
            "100%|██████████| 100/100 [00:02<00:00, 36.00it/s]\n",
            "100%|██████████| 100/100 [00:02<00:00, 37.07it/s]\n",
            "100%|██████████| 100/100 [00:04<00:00, 22.79it/s]\n",
            "100%|██████████| 100/100 [00:03<00:00, 28.75it/s]\n",
            "100%|██████████| 100/100 [00:03<00:00, 28.44it/s]\n",
            "100%|██████████| 100/100 [00:03<00:00, 25.55it/s]\n",
            "100%|██████████| 100/100 [00:04<00:00, 20.71it/s]\n",
            "100%|██████████| 100/100 [00:03<00:00, 28.91it/s]\n",
            "100%|██████████| 100/100 [00:03<00:00, 27.87it/s]\n",
            "100%|██████████| 100/100 [00:05<00:00, 19.60it/s]\n",
            "100%|██████████| 100/100 [00:03<00:00, 27.99it/s]\n",
            "100%|██████████| 50/50 [00:01<00:00, 40.20it/s]\n",
            "100%|██████████| 50/50 [00:01<00:00, 40.21it/s]\n",
            "100%|██████████| 50/50 [00:01<00:00, 41.06it/s]\n",
            "100%|██████████| 50/50 [00:01<00:00, 40.43it/s]\n",
            "100%|██████████| 50/50 [00:01<00:00, 31.25it/s]\n",
            "100%|██████████| 50/50 [00:02<00:00, 20.76it/s]\n",
            "100%|██████████| 50/50 [00:01<00:00, 37.92it/s]\n",
            "100%|██████████| 50/50 [00:01<00:00, 40.05it/s]\n",
            "100%|██████████| 50/50 [00:01<00:00, 35.16it/s]\n",
            "100%|██████████| 50/50 [00:01<00:00, 33.58it/s]\n",
            "100%|██████████| 50/50 [00:01<00:00, 35.20it/s]\n",
            "100%|██████████| 50/50 [00:01<00:00, 33.99it/s]\n",
            "100%|██████████| 50/50 [00:01<00:00, 36.41it/s]\n",
            "100%|██████████| 50/50 [00:02<00:00, 20.19it/s]\n",
            "100%|██████████| 50/50 [00:02<00:00, 23.84it/s]\n",
            "100%|██████████| 50/50 [00:01<00:00, 34.66it/s]\n",
            "100%|██████████| 50/50 [00:01<00:00, 30.72it/s]\n",
            "100%|██████████| 50/50 [00:01<00:00, 29.71it/s]\n",
            "100%|██████████| 50/50 [00:01<00:00, 30.48it/s]\n",
            "100%|██████████| 50/50 [00:01<00:00, 29.78it/s]\n",
            "100%|██████████| 50/50 [00:02<00:00, 24.99it/s]\n",
            "100%|██████████| 50/50 [00:03<00:00, 16.66it/s]\n",
            "100%|██████████| 50/50 [00:01<00:00, 29.38it/s]\n",
            "100%|██████████| 50/50 [00:01<00:00, 29.36it/s]\n",
            "100%|██████████| 50/50 [00:00<00:00, 56.22it/s]\n",
            "100%|██████████| 50/50 [00:00<00:00, 53.08it/s]\n",
            "100%|██████████| 50/50 [00:00<00:00, 56.42it/s]\n",
            "100%|██████████| 50/50 [00:00<00:00, 53.55it/s]\n",
            "100%|██████████| 50/50 [00:00<00:00, 55.57it/s]\n",
            "100%|██████████| 50/50 [00:00<00:00, 51.75it/s]\n",
            "100%|██████████| 50/50 [00:00<00:00, 51.15it/s]\n",
            "100%|██████████| 50/50 [00:01<00:00, 27.30it/s]\n",
            "100%|██████████| 50/50 [00:02<00:00, 23.82it/s]\n",
            "100%|██████████| 50/50 [00:01<00:00, 31.62it/s]\n",
            "100%|██████████| 50/50 [00:01<00:00, 34.19it/s]\n",
            "100%|██████████| 50/50 [00:01<00:00, 31.33it/s]\n",
            "100%|██████████| 50/50 [00:01<00:00, 26.23it/s]\n",
            "100%|██████████| 50/50 [00:01<00:00, 32.36it/s]\n",
            "100%|██████████| 50/50 [00:01<00:00, 30.93it/s]\n",
            "100%|██████████| 50/50 [00:02<00:00, 17.02it/s]\n",
            "100%|██████████| 50/50 [00:00<00:00, 108.78it/s]\n",
            "100%|██████████| 50/50 [00:00<00:00, 97.27it/s] \n",
            "100%|██████████| 50/50 [00:00<00:00, 127.81it/s]\n",
            "100%|██████████| 50/50 [00:00<00:00, 94.05it/s]\n",
            "100%|██████████| 50/50 [00:00<00:00, 120.71it/s]\n",
            "100%|██████████| 50/50 [00:00<00:00, 96.42it/s] \n",
            "100%|██████████| 50/50 [00:00<00:00, 127.15it/s]\n",
            "100%|██████████| 50/50 [00:00<00:00, 90.51it/s]\n",
            "100%|██████████| 50/50 [00:00<00:00, 112.30it/s]\n",
            "100%|██████████| 50/50 [00:00<00:00, 96.10it/s]\n",
            "100%|██████████| 50/50 [00:00<00:00, 108.12it/s]\n",
            "100%|██████████| 50/50 [00:00<00:00, 98.09it/s] \n",
            "100%|██████████| 50/50 [00:00<00:00, 110.57it/s]\n",
            "100%|██████████| 50/50 [00:00<00:00, 99.70it/s] \n",
            "100%|██████████| 50/50 [00:00<00:00, 117.12it/s]\n",
            "100%|██████████| 50/50 [00:00<00:00, 96.00it/s]\n",
            "100%|██████████| 50/50 [00:01<00:00, 32.48it/s]\n",
            "100%|██████████| 50/50 [00:02<00:00, 21.33it/s]\n",
            "100%|██████████| 50/50 [00:02<00:00, 19.85it/s]\n",
            "100%|██████████| 50/50 [00:01<00:00, 30.78it/s]\n",
            "100%|██████████| 50/50 [00:01<00:00, 32.13it/s]\n",
            "100%|██████████| 50/50 [00:01<00:00, 29.65it/s]\n",
            "100%|██████████| 50/50 [00:01<00:00, 33.33it/s]\n",
            "100%|██████████| 50/50 [00:01<00:00, 30.96it/s]\n",
            "100%|██████████| 50/50 [00:00<00:00, 87.53it/s]\n",
            "100%|██████████| 50/50 [00:00<00:00, 81.44it/s]\n",
            "100%|██████████| 50/50 [00:00<00:00, 64.81it/s]\n",
            "100%|██████████| 50/50 [00:01<00:00, 41.46it/s]\n",
            "100%|██████████| 50/50 [00:01<00:00, 47.06it/s]\n",
            "100%|██████████| 50/50 [00:00<00:00, 52.89it/s]\n",
            "100%|██████████| 50/50 [00:00<00:00, 86.70it/s]\n",
            "100%|██████████| 50/50 [00:00<00:00, 77.93it/s]\n",
            "100%|██████████| 50/50 [00:01<00:00, 26.76it/s]\n",
            "100%|██████████| 50/50 [00:01<00:00, 25.77it/s]\n",
            "100%|██████████| 50/50 [00:01<00:00, 26.14it/s]\n",
            "100%|██████████| 50/50 [00:01<00:00, 25.62it/s]\n",
            "100%|██████████| 50/50 [00:02<00:00, 18.17it/s]\n",
            "100%|██████████| 50/50 [00:02<00:00, 18.47it/s]\n",
            "100%|██████████| 50/50 [00:01<00:00, 26.69it/s]\n",
            "100%|██████████| 50/50 [00:01<00:00, 25.77it/s]\n"
          ]
        }
      ]
    },
    {
      "cell_type": "code",
      "source": [
        "import os\n",
        "import math\n",
        "import random\n",
        "\n",
        "ROOT = '/content/ModelNet10/'\n",
        "CLASSES = ['bathtub', 'bed', 'chair', 'desk', 'dresser', 'monitor', 'night_stand', 'sofa', 'table', 'toilet']\n",
        "ROTATIONS = ['0', '45', '90', '135', '180', '225', '270', '315']\n",
        "\n",
        "#rotations matrix\n",
        "r45 = np.array([[math.sqrt(2)/2,-math.sqrt(2)/2,0], [math.sqrt(2)/2,math.sqrt(2)/2,0], [0,0,1]], np.float64)\n",
        "r90 = np.array([[0,-1,0], [1,0,0], [0,0,1]], np.float64)\n",
        "r135 = np.array([[-math.sqrt(2)/2,-math.sqrt(2)/2,0], [math.sqrt(2)/2,-math.sqrt(2)/2,0], [0,0,1]], np.float64)\n",
        "r180 = np.array([[-1,0,0], [0,-1,0], [0,0,1]], np.float64)\n",
        "r225 = np.array([[-math.sqrt(2)/2,math.sqrt(2)/2,0], [-math.sqrt(2)/2,-math.sqrt(2)/2,0], [0,0,1]], np.float64)\n",
        "r270 = np.array([[0,1,0], [-1,0,0], [0,0,1]], np.float64)\n",
        "r315 = np.array([[math.sqrt(2)/2,math.sqrt(2)/2,0], [-math.sqrt(2)/2,math.sqrt(2)/2,0], [0,0,1]], np.float64)\n",
        "\n",
        "X = {'train': [], 'test': []}\n",
        "Y = {'train': [], 'test': []}\n",
        "Z = {'train': [], 'test': []}\n",
        "\n",
        "for label, cl in enumerate(CLASSES):\n",
        "    for split in ['train', 'test']:\n",
        "        examples_dir = os.path.join(ROOT, cl, split)\n",
        "        for example in tqdm(os.listdir(examples_dir)):\n",
        "          voxel_index = []\n",
        "          rot = random.choice(ROTATIONS)\n",
        "          if 'off' in example:\n",
        "            mesh = o3d.io.read_triangle_mesh(examples_dir+'/'+example)\n",
        "            if rot == '0':\n",
        "              mesh = mesh\n",
        "              rotat = 0\n",
        "            elif rot == '45':\n",
        "              mesh.rotate(r45)\n",
        "              rotat = 1\n",
        "            elif rot == '90':\n",
        "              mesh.rotate(r90)\n",
        "              rotat = 2\n",
        "            elif rot == '135':\n",
        "              mesh.rotate(r135) \n",
        "              rotat = 3 \n",
        "            elif rot == '180':\n",
        "              mesh.rotate(r180)\n",
        "              rotat = 4\n",
        "            elif rot == '225':\n",
        "              mesh.rotate(r225)\n",
        "              rotat = 5\n",
        "            elif rot == '270':\n",
        "              mesh.rotate(r270)\n",
        "              rotat = 6\n",
        "            else:\n",
        "              mesh.rotate(r315)\n",
        "              rotat = 7\n",
        "            mesh.scale(1 / np.max(mesh.get_max_bound() - mesh.get_min_bound()), center=mesh.get_center())\n",
        "            voxel_grid = o3d.geometry.VoxelGrid.create_from_triangle_mesh(mesh, voxel_size=0.05)\n",
        "            \n",
        "            X[split].append(voxel_grid)\n",
        "            Y[split].append(label)\n",
        "            Z[split].append(rotat)"
      ],
      "metadata": {
        "id": "V2RlX3XWaDz2",
        "outputId": "e4395460-9a5d-4fc4-e641-10962aa301f3",
        "colab": {
          "base_uri": "https://localhost:8080/"
        }
      },
      "execution_count": 4,
      "outputs": [
        {
          "output_type": "stream",
          "name": "stderr",
          "text": [
            "100%|██████████| 106/106 [00:03<00:00, 27.47it/s]\n",
            "100%|██████████| 50/50 [00:01<00:00, 32.46it/s]\n",
            "100%|██████████| 516/516 [00:21<00:00, 24.15it/s]\n",
            "100%|██████████| 101/101 [00:03<00:00, 27.53it/s]\n",
            "100%|██████████| 890/890 [00:33<00:00, 26.45it/s]\n",
            "100%|██████████| 101/101 [00:03<00:00, 28.97it/s]\n",
            "100%|██████████| 200/200 [00:05<00:00, 37.24it/s]\n",
            "100%|██████████| 86/86 [00:01<00:00, 50.34it/s]\n",
            "100%|██████████| 200/200 [00:05<00:00, 35.51it/s]\n",
            "100%|██████████| 86/86 [00:02<00:00, 30.95it/s]\n",
            "100%|██████████| 465/465 [00:06<00:00, 72.14it/s]\n",
            "100%|██████████| 100/100 [00:01<00:00, 95.57it/s]\n",
            "100%|██████████| 200/200 [00:02<00:00, 68.95it/s]\n",
            "100%|██████████| 86/86 [00:01<00:00, 65.74it/s]\n",
            "100%|██████████| 680/680 [00:26<00:00, 25.22it/s]\n",
            "100%|██████████| 100/100 [00:04<00:00, 22.35it/s]\n",
            "100%|██████████| 392/392 [00:07<00:00, 52.16it/s]\n",
            "100%|██████████| 100/100 [00:00<00:00, 105.34it/s]\n",
            "100%|██████████| 345/345 [00:11<00:00, 29.51it/s]\n",
            "100%|██████████| 101/101 [00:05<00:00, 20.05it/s]\n"
          ]
        }
      ]
    },
    {
      "cell_type": "code",
      "source": [
        "mesh = o3d.io.read_triangle_mesh('/content/ModelNet10/chair/train/chair_0003.off')\n",
        "mesh.rotate(r90)\n",
        "              \n",
        "mesh.scale(1 / np.max(mesh.get_max_bound() - mesh.get_min_bound()), center=mesh.get_center())\n",
        "voxel_grid = o3d.geometry.VoxelGrid.create_from_triangle_mesh(mesh, voxel_size=0.05)\n",
        "\n",
        "vox_grid = voxel_grid.get_voxels()\n",
        "vox_g = np.zeros((32, 32, 32), dtype=np.int32)\n",
        "for i in range (len(vox_grid)):\n",
        "  voxel_index = vox_grid[i].grid_index\n",
        "  vox_g[voxel_index[0],voxel_index[1],voxel_index[2]] = 1\n",
        "\n",
        "\n",
        "ax = plt.figure(figsize=(10,10)).add_subplot(projection='3d')\n",
        "ax.voxels(vox_g, edgecolor='k')\n",
        "plt.show()"
      ],
      "metadata": {
        "id": "PfviN0ozYvVH",
        "outputId": "657b2af2-877e-4394-962e-f52212baaf0c",
        "colab": {
          "base_uri": "https://localhost:8080/",
          "height": 575
        }
      },
      "execution_count": 7,
      "outputs": [
        {
          "output_type": "display_data",
          "data": {
            "text/plain": [
              "<Figure size 720x720 with 1 Axes>"
            ],
            "image/png": "[encoded data removed]"
          },
          "metadata": {
            "needs_background": "light"
          }
        }
      ]
    },
    {
      "cell_type": "markdown",
      "source": [
        "# Dataset setup and Trainer"
      ],
      "metadata": {
        "id": "NDE8PhnsECNF"
      }
    },
    {
      "cell_type": "code",
      "source": [
        "class VoxelDataset(Dataset):\n",
        "    def __init__(self, train = True):\n",
        "      if train:\n",
        "          self.data = X['train']\n",
        "          self.label1 = Y['train']\n",
        "          self.label2 = Z['train']\n",
        "      else:\n",
        "          self.data = X['test']\n",
        "          self.label1 = Y['test']\n",
        "          self.label2 = Z['test']\n",
        "        \n",
        "                \n",
        "    def __len__(self):\n",
        "        return len(self.label1)\n",
        "\n",
        "    def __preproc__(self, voxels):\n",
        "        \n",
        "        voxel_grid = voxels.get_voxels()\n",
        "        vox_g = np.zeros((32, 32, 32), dtype=np.int32)\n",
        "        for i in range (len(voxel_grid)):\n",
        "          voxel_index = voxel_grid[i].grid_index\n",
        "          vox_g[voxel_index[0],voxel_index[1],voxel_index[2]] = 1\n",
        "        \n",
        "        return vox_g.copy()\n",
        "\n",
        "    def __getitem__(self, idx):\n",
        "        label1 = self.label1[idx]\n",
        "        label2 = self.label2[idx]\n",
        "        voxels = self.data[idx]\n",
        "        voxels = self.__preproc__(voxels)\n",
        "        voxels = np.expand_dims(voxels, axis=0)\n",
        "        voxels = torch.tensor(voxels).float()\n",
        "        return voxels, label1, label2"
      ],
      "metadata": {
        "id": "pfSGCV6k5YXr"
      },
      "execution_count": 5,
      "outputs": []
    },
    {
      "cell_type": "code",
      "source": [
        "from torch.optim import SGD, Adam\n",
        "from torch.nn import BCEWithLogitsLoss\n",
        "from tqdm import tqdm\n",
        "\n",
        "class VoxNet_Trainer():\n",
        "  def __init__(self, hyperparameters):\n",
        "      #Hypreparameters\n",
        "      self.learning_rate = hyperparameters[\"learning_rate\"]\n",
        "      self.batch_size_train = hyperparameters[\"train_batch_size\"]\n",
        "      self.batch_size_test = hyperparameters[\"valid_batch_size\"]\n",
        "      self.data_size = hyperparameters[\"data_size\"]\n",
        "      self.sgd_momentum = hyperparameters[\"sgd_momentum\"]\n",
        "      self.device = torch.device(\"cuda:0\" if torch.cuda.is_available() else \"cpu\")\n",
        "      self.epochs = hyperparameters[\"epochs\"]\n",
        "      self.name_model = hyperparameters[\"model\"]\n",
        "      self.best_acc = 0\n",
        "      \n",
        "      #Dataset\n",
        "      self.initDataset()\n",
        "      self.class_names = [\"bathtub\", \"bed\", \"chair\", \"desk\", \"dresser\", \"monitor\", \"night_stand\", \"sofa\", \"table\", \"toilet\"]\n",
        "      self.rotation_names = ['0', '45', '90', '135', '180', '225', '270', '315']\n",
        "      self.num_classes = len(self.class_names)\n",
        "      self.num_rotations = len(self.rotation_names)\n",
        "\n",
        "      #Model\n",
        "      self.lr_scheduler_step = hyperparameters[\"lr_scheduler_step\"]\n",
        "      self.lr_scheduler_gamma = hyperparameters[\"lr_scheduler_gamma\"]\n",
        "      self.initModel()\n",
        "  \n",
        "  def initDataset(self):\n",
        "      self.train_ds = VoxelDataset(train=True)\n",
        "      self.test_ds = VoxelDataset(train=False)\n",
        "      self.train_dataloader = DataLoader(dataset=self.train_ds, batch_size=self.batch_size_train, shuffle=True, drop_last=True)\n",
        "      self.test_dataloader = DataLoader(dataset=self.test_ds, batch_size=self.batch_size_test)\n",
        "\n",
        "  def initModel(self):\n",
        "      if self.name_model == \"VoxNet\":\n",
        "          self.model = VoxNet()\n",
        "          os.mkdir('/content/'+str(self.name_model))\n",
        "          print(\"model VoxNet was chosen\")\n",
        "      elif self.name_model == \"BatchNormVoxNet\":\n",
        "          self.model = BatchNormVoxNet()\n",
        "          os.mkdir('/content/'+str(self.name_model))\n",
        "          print(\"model BatchNormVoxNet was chosen\")\n",
        "      else:\n",
        "        self.model = DMPVoxNet()\n",
        "        os.mkdir('/content/'+str(self.name_model))\n",
        "        print('model DMPVoxNet was choosen')\n",
        "      self.device = \"cuda\" if torch.cuda.is_available() else \"cpu\"\n",
        "      self.model.to(self.device)\n",
        "      #self.opt = torch.optim.Adam(self.model.parameters(), lr=self.learning_rate)\n",
        "      self.opt = SGD(self.model.parameters(), lr=self.learning_rate, momentum=self.sgd_momentum)\n",
        "      self.loss_fn = nn.CrossEntropyLoss()\n",
        "      #self.loss_fn = nn.NLLLoss()\n",
        "      self.lr_scheduler = torch.optim.lr_scheduler.StepLR(self.opt, step_size=self.lr_scheduler_step, gamma=self.lr_scheduler_gamma)\n",
        "\n",
        "  def train(self):\n",
        "      self.pred_conf, self.y_conf = [], []                                                           \n",
        "      train_loss_history, valid_loss_history = [], []\n",
        "      train_acc_history1, valid_acc_history1 = [], []\n",
        "      train_acc_history2, valid_acc_history2 = [], []\n",
        "      train_accuracy1 = Accuracy(task='multiclass', num_classes=10)\n",
        "      valid_accuracy1 = Accuracy(task='multiclass', num_classes=10)\n",
        "      train_accuracy2 = Accuracy(task='multiclass', num_classes=8)\n",
        "      valid_accuracy2 = Accuracy(task='multiclass', num_classes=8)\n",
        "    \n",
        "\n",
        "      self.num_batch = len(self.train_ds) / self.batch_size_train\n",
        "      print(self.num_batch)\n",
        "\n",
        "      total_time = time.time()\n",
        "\n",
        "      for epoch in range(self.epochs):\n",
        "          t = time.time()\n",
        "\n",
        "          train_loss = []                                                         #track training loss\n",
        "          valid_loss = []\n",
        "\n",
        "          self.model.train()\n",
        "          iterator = tqdm(enumerate(self.train_dataloader, 0))\n",
        "          for i, data in iterator:\n",
        "              inputs, labels1, labels2 = data[0], data[1], data[2]\n",
        "              inputs = inputs.to(self.device)\n",
        "              labels1 = labels1.to(self.device)\n",
        "              labels2 = labels2.to(self.device)\n",
        "\n",
        "              self.opt.zero_grad()\n",
        "              pred1, pred2 = self.model(inputs)  # torch.Size([256, 10])\n",
        "              loss = 0.5*self.loss_fn(pred1, labels1) + 0.5*self.loss_fn(pred2, labels2)\n",
        "              train_loss.append(loss.cpu().data)\n",
        "              train_accuracy1.update(torch.argmax(pred1, 1).cpu(), labels1.cpu()) \n",
        "              train_accuracy2.update(torch.argmax(pred2, 1).cpu(), labels2.cpu()) \n",
        "            \n",
        "              loss.backward()\n",
        "              self.opt.step()\n",
        "              iterator.set_description(f\"Train loss: {loss.cpu().data}\")\n",
        "              \n",
        "              #pred_choice = pred.data.max(1)[1]\n",
        "              #correct = pred_choice.eq(labels.data).cpu().sum()\n",
        "          self.lr_scheduler.step()\n",
        "                      \n",
        "          with torch.no_grad():\n",
        "            self.model.eval()\n",
        "            pred_test1 = []       \n",
        "            pred_test2 = []  \n",
        "            for j, sample in tqdm(enumerate(self.test_dataloader, 0)):    \n",
        "                inputs_test, labels_test1, labels_test2 = sample[0], sample[1], sample[2]\n",
        "                inputs_test = inputs_test.to(self.device)\n",
        "                labels_test1 = labels_test1.to(self.device)\n",
        "                labels_test2 = labels_test2.to(self.device)\n",
        "                inputs_test = inputs_test.float()  \n",
        "\n",
        "                '''\n",
        "                pred_test1.append(self.model(inputs_test)[0])\n",
        "                pred_test2.append(self.model(inputs_test)[1])\n",
        "                pred_test = []\n",
        "                labels_test = []\n",
        "                for k in range(0, 25, 8):\n",
        "                    temp = pred_test1[j]\n",
        "                    tempo = temp[k:k+7,:]\n",
        "                    pred_test.append(np.einsum('ij->j', tempo))\n",
        "                    temp2 = labels_test1\n",
        "                    labels_test.append(temp2[k])\n",
        "\n",
        "                pred_test_t = torch.tensor(pred_test)\n",
        "                labels_test_t = torch.tensor(labels_test)\n",
        "                pred_test2_t = torch.tensor(pred_test2[j])\n",
        "                loss_test = self.loss_fn(pred_test_t, labels_test_t) \n",
        "                valid_loss.append(loss_test.cpu().data)\n",
        "                valid_accuracy1.update(torch.argmax(pred_test_t, 1).cpu(), labels_test_t.cpu())\n",
        "                valid_accuracy2.update(torch.argmax(pred_test2_t, 1).cpu(), labels_test2.cpu())\n",
        "                pred_choice_test = pred_test_t.data.max(1)[1]\n",
        "\n",
        "                correct_test = pred_choice_test.eq(labels_test_t.data).cpu().sum()\n",
        "                self.pred_conf.append(torch.argmax(pred_test_t, 1))\n",
        "                self.y_conf.append(labels_test_t)\n",
        "                '''\n",
        "                \n",
        "                pred_test1, pred_test2 = self.model(inputs_test)  # torch.Size([256, 10])\n",
        "                loss_test = 0.5*self.loss_fn(pred_test1, labels_test1) + 0.5*self.loss_fn(pred_test2, labels_test2)\n",
        "                valid_loss.append(loss_test.cpu().data)\n",
        "                valid_accuracy1.update(torch.argmax(pred_test1, 1).cpu(), labels_test1.cpu()) \n",
        "                valid_accuracy2.update(torch.argmax(pred_test2, 1).cpu(), labels_test2.cpu()) \n",
        "                \n",
        "                #correct_test = pred_choice_test.eq(labels_test.data).cpu().sum()\n",
        "                self.pred_conf.append(torch.argmax(pred_test1, 1))\n",
        "                self.y_conf.append(labels_test1)\n",
        "      \n",
        "\n",
        "          # total accuracy over all batches\n",
        "          total_train_accuracy1 = train_accuracy1.compute()\n",
        "          total_train_accuracy2 = train_accuracy2.compute()\n",
        "          total_valid_accuracy1 = valid_accuracy1.compute()\n",
        "          total_valid_accuracy2 = valid_accuracy2.compute()\n",
        "          train_accuracy1.reset()\n",
        "          valid_accuracy1.reset()\n",
        "          train_accuracy2.reset()\n",
        "          valid_accuracy2.reset()\n",
        "            \n",
        "          #track loss and acc for plotting\n",
        "          train_loss_history.append(torch.mean(torch.tensor(train_loss)))\n",
        "          valid_loss_history.append(torch.mean(torch.tensor(valid_loss)))\n",
        "          train_acc_history1.append(total_train_accuracy1)\n",
        "          train_acc_history2.append(total_train_accuracy2)\n",
        "          valid_acc_history1.append(total_valid_accuracy1)\n",
        "          valid_acc_history2.append(total_valid_accuracy2)\n",
        "          \n",
        "            \n",
        "          elapsed_time_epoch = time.time() - t   \n",
        "            \n",
        "          tmp0 = \"epoch:{:3d} /{:3d}\".format(epoch+1, self.epochs)\n",
        "          tmp1 = \"time: {:.2f} seconds\".format(elapsed_time_epoch)\n",
        "          tmp2 = \"train-loss: {:4.2f}, train-acc-object: {:.2%}, train-acc-pose: {:.2%}\".format(train_loss_history[epoch], train_acc_history1[epoch].item(), train_acc_history2[epoch].item())\n",
        "          tmp3 = \"valid-loss: {:4.2f}, valid-acc-object: {:.2%}, train-acc-pose: {:.2%}\\n\".format(valid_loss_history[epoch], valid_acc_history1[epoch].item(), valid_acc_history2[epoch].item())\n",
        "          print(tmp0, tmp1, tmp2, tmp3, sep=\"\\n\")\n",
        "\n",
        "\n",
        "          ##save best model \n",
        "          if total_valid_accuracy1.numpy()>self.best_acc:\n",
        "              self.best_acc = total_valid_accuracy1.numpy()\n",
        "              torch.save({'epoch': epoch+1,\n",
        "                          'model_state_dict': self.model.state_dict(),\n",
        "                          'optimizer_state_dict': self.opt.state_dict(),\n",
        "                          'loss': valid_loss_history[-1], \n",
        "                          'accuracy': total_valid_accuracy1},\n",
        "\t                        '/content/'+str(self.name_model)+'/best_model.pth')\n",
        "\n",
        "          \n",
        "          #save history\n",
        "          self.history = {\"train_loss\": torch.tensor(train_loss_history), \"train_acc1\": torch.tensor(train_acc_history1), \"train_acc2\": torch.tensor(train_acc_history2), \n",
        "                          \"valid_loss\": torch.tensor(valid_loss_history), \"valid_acc1\": torch.tensor(valid_acc_history1), \"valid_acc2\": torch.tensor(valid_acc_history2)}\n",
        "           \n",
        "  def getHistory(self):\n",
        "      return self.history\n",
        "\n",
        "  def generateConfusionMatrix(self):\n",
        "      ##load the model\n",
        "      checkpoint = torch.load('/content/'+str(self.name_model)+'/best_model.pth')\n",
        "      self.model.load_state_dict(checkpoint['model_state_dict'])\n",
        "      self.opt.load_state_dict(checkpoint['optimizer_state_dict'])\n",
        "      loss = checkpoint['loss']\n",
        "      epoch = checkpoint['epoch']\n",
        "      acc = checkpoint['accuracy']\n",
        "      print('best model was trained at epoch: '+str(epoch))\n",
        "      print('with a validation loss of: '+str(loss.numpy())+' and a validation accuracy of: '+str(acc.numpy()*100))\n",
        "  \n",
        "      ##compute confusion matrix\n",
        "      self.model.eval()\n",
        "      a = torch.cat(self.pred_conf).cpu()\n",
        "      b = torch.cat(self.y_conf).cpu()\n",
        "      confmat = ConfusionMatrix(task='multiclass', num_classes=10, normalize=\"true\")\n",
        "      self.conf_matrix = confmat(a, b)\n",
        "      self.conf_matrix = torch.round(self.conf_matrix, decimals=2)\n",
        "\n",
        "      fig=plt.figure(figsize = (12,7))\n",
        "      sns.heatmap(self.conf_matrix, annot=True, fmt='g', linewidths=.4, cbar=False)\n",
        "      tick_marks = np.arange(len(self.class_names))\n",
        "      plt.xticks(tick_marks, self.class_names, rotation=45)\n",
        "      plt.yticks(tick_marks, self.class_names, rotation=0)\n",
        "      plt.title(\"Confusion Matrix\")     \n",
        "\n",
        "  def getPerClassAccuracy(self):\n",
        "      per_class_accuracy = 100 * torch.diag(self.conf_matrix) / torch.sum(self.conf_matrix, 1)\n",
        "      tmp = {}\n",
        "      for i, x in enumerate(self.class_names):\n",
        "        tmp[x] = per_class_accuracy[i].item()\n",
        "      print(tmp)\n",
        "    \n",
        "  def showResults(self):\n",
        "      eps = range(0, len(self.history[\"train_loss\"].cpu()))\n",
        "        \n",
        "      sns.set_theme()\n",
        "      fig, ax = plt.subplots(1, 2, figsize=(14, 4))\n",
        "      fig.suptitle('Results')\n",
        "        \n",
        "      ax[0].plot(eps, smooth(self.history[\"train_loss\"].cpu()), 'g', label='Training Loss')\n",
        "      ax[0].plot(eps, smooth(self.history[\"valid_loss\"].cpu()), 'b', label='Valid Loss')\n",
        "      ax[0].set_title('Loss History')\n",
        "      ax[0].set(xlabel='Epochs', ylabel='Loss')\n",
        "      ax[0].legend()\n",
        "        \n",
        "      ax[1].plot(eps, smooth(self.history[\"train_acc1\"].cpu()), 'g', label='Training Accuracy object')\n",
        "      ax[1].plot(eps, smooth(self.history[\"train_acc2\"].cpu()), 'k', label='Training Accuracy pose')\n",
        "      ax[1].plot(eps, smooth(self.history[\"valid_acc1\"].cpu()), 'b', label='Valid Accuracy object')\n",
        "      ax[1].plot(eps, smooth(self.history[\"valid_acc2\"].cpu()), 'r', label='Valid Accuracy pose')\n",
        "      ax[1].set_title('Accuracy History')\n",
        "      ax[1].set(xlabel='Epochs', ylabel='Accuracy')\n",
        "      ax[1].legend()\n",
        "\n",
        "  def draw_voxels(self):\n",
        "      mesh = next(iter(self.train_dataloader))\n",
        "      mesh = mesh[0][0][0]\n",
        "        \n",
        "      ax = plt.figure(figsize=(10,10)).add_subplot(projection='3d')\n",
        "      ax.voxels(mesh, edgecolor='k')\n",
        "      plt.show()\n",
        "        \n",
        "  def test_on_missing_data(self, missing_rate=0.5):\n",
        "      test_accuracy = Accuracy(task='multiclass', num_classes=10)\n",
        "\n",
        "      ##load the model\n",
        "      checkpoint = torch.load('/content/'+str(self.name_model)+'/best_model.pth')\n",
        "      self.model.load_state_dict(checkpoint['model_state_dict'])\n",
        "      self.opt.load_state_dict(checkpoint['optimizer_state_dict'])\n",
        "      loss = checkpoint['loss']\n",
        "      epoch = checkpoint['epoch']\n",
        "      acc = checkpoint['accuracy']\n",
        "  \n",
        "      self.model.eval()\n",
        "      for x, y, z in self.test_dataloader:\n",
        "          x, y, z = x.to(self.device), y.to(self.device), z.to(self.device)\n",
        "            \n",
        "          idc = np.random.choice(32**3, size=(int(32**3*missing_rate)), replace=False)\n",
        "          idc_x = idc%32\n",
        "          idc_y = np.floor_divide(idc, 32)%32\n",
        "          idc_z = np.floor_divide(idc, 32*32)%32\n",
        "          x[:, :, idc_x, idc_y, idc_z] = 0\n",
        "            \n",
        "          pred = self.model(x)[0]\n",
        "          test_accuracy.update(torch.argmax(pred, 1).cpu(), y.cpu())\n",
        "            \n",
        "      return test_accuracy.compute()\n",
        "    \n",
        "  def missing_data_test(self):\n",
        "      acc = []\n",
        "      delta = 200\n",
        "      eps = np.linspace(0,0.99,delta)\n",
        "\n",
        "      ##load the model\n",
        "      checkpoint = torch.load('/content/'+str(self.name_model)+'/best_model.pth')\n",
        "      self.model.load_state_dict(checkpoint['model_state_dict'])\n",
        "      self.opt.load_state_dict(checkpoint['optimizer_state_dict'])\n",
        "      loss = checkpoint['loss']\n",
        "      epoch = checkpoint['epoch']\n",
        "      accu = checkpoint['accuracy']\n",
        "      print('best model was trained at epoch: '+str(epoch))\n",
        "      print('with a validation loss of: '+str(loss.numpy())+' and a validation accuracy of: '+str(accu.numpy()*100))\n",
        "\n",
        "      for x in eps:\n",
        "          tmp = self.test_on_missing_data(x)\n",
        "          acc.append(tmp)\n",
        "            \n",
        "            \n",
        "      sns.set_theme()\n",
        "      plt.figure(figsize=(8, 4))\n",
        "      plt.plot(eps, smooth(acc))\n",
        "      plt.title(\"Missing Data Test\", size=20, y=1.05)\n",
        "      plt.xlabel(\"missing point ratio\", size=15)\n",
        "      plt.ylabel(\"accuracy\", size=15)\n",
        "      plt.show()"
      ],
      "metadata": {
        "id": "hX_KJavxavhZ"
      },
      "execution_count": 6,
      "outputs": []
    },
    {
      "cell_type": "markdown",
      "source": [
        "# VoxNet"
      ],
      "metadata": {
        "id": "eu7HegQogDfn"
      }
    },
    {
      "cell_type": "code",
      "source": [
        "from collections import OrderedDict\n",
        "class VoxNet(nn.Module):\n",
        "    def __init__(self):\n",
        "        super(VoxNet, self).__init__()\n",
        "        n_classes = 10\n",
        "        n_rotations = 8\n",
        "        input_shape = (32,32,32)\n",
        "        self.feat = torch.nn.Sequential(OrderedDict([\n",
        "            ('conv3d_1', torch.nn.Conv3d(in_channels=1, out_channels=32, kernel_size=5, stride=2)),\n",
        "            ('relu1', torch.nn.ReLU()),\n",
        "            ('drop1', torch.nn.Dropout(p=0.2)),\n",
        "            ('conv3d_2', torch.nn.Conv3d(in_channels=32, out_channels=64, kernel_size=3, stride=1)),\n",
        "            ('relu2', torch.nn.ReLU()),\n",
        "            ('drop2', torch.nn.Dropout(p=0.3)),\n",
        "            ('pool1', torch.nn.MaxPool3d(kernel_size=2, stride=2))\n",
        "        ]))\n",
        "        \n",
        "        x = self.feat(torch.autograd.Variable(torch.rand((1, 1) + input_shape)))\n",
        "        dim_feat = 1\n",
        "        for n in x.size()[1:]:\n",
        "            dim_feat *= n\n",
        "\n",
        "        self.mlp = torch.nn.Sequential(OrderedDict([\n",
        "            ('fc1', torch.nn.Linear(dim_feat, 128)),\n",
        "            ('relu1', torch.nn.ReLU()),\n",
        "            ('drop3', torch.nn.Dropout(p=0.4)),\n",
        "            ('fc2', torch.nn.Linear(128, n_classes))\n",
        "        ]))\n",
        "\n",
        "        self.mlp2 = torch.nn.Sequential(OrderedDict([\n",
        "            ('fc1', torch.nn.Linear(dim_feat, 128)),\n",
        "            ('relu1', torch.nn.ReLU()),\n",
        "            ('drop3', torch.nn.Dropout(p=0.4)),\n",
        "            ('fc2', torch.nn.Linear(128, n_rotations))\n",
        "        ]))\n",
        "\n",
        "        self.logsoftmax = nn.LogSoftmax(dim=1)\n",
        "\n",
        "    def forward(self, x):\n",
        "        x = self.feat(x)\n",
        "        x = x.view(x.size(0), -1)\n",
        "        x1 = self.mlp(x)\n",
        "        x2 = self.mlp2(x)\n",
        "        #return x\n",
        "        return self.logsoftmax(x1), self.logsoftmax(x2)"
      ],
      "metadata": {
        "id": "BxJn-rxg5thp"
      },
      "execution_count": 7,
      "outputs": []
    },
    {
      "cell_type": "markdown",
      "source": [
        "**VoxNet** training"
      ],
      "metadata": {
        "id": "auLDuguFtGq_"
      }
    },
    {
      "cell_type": "code",
      "source": [
        "training_hyperparameters = {\n",
        "    \"learning_rate\": 0.01,\n",
        "    \"sgd_momentum\": 0.9,\n",
        "    \"data_size\": 32,\n",
        "    \"epochs\": 50,\n",
        "    \"lr_scheduler_step\": 8,\n",
        "    \"lr_scheduler_gamma\": 0.3,\n",
        "    \"train_batch_size\": 32,\n",
        "    \"valid_batch_size\": 32,\n",
        "    \"model\" : 'VoxNet'\n",
        "}    \n",
        "\n",
        "trainer1 = VoxNet_Trainer(training_hyperparameters)\n",
        "trainer1.train()"
      ],
      "metadata": {
        "id": "HBhOIt8Emq1B",
        "outputId": "40bf6a61-cac4-4685-93d8-fac00966c738",
        "colab": {
          "base_uri": "https://localhost:8080/"
        }
      },
      "execution_count": 12,
      "outputs": [
        {
          "output_type": "stream",
          "name": "stdout",
          "text": [
            "model VoxNet was chosen\n",
            "124.71875\n"
          ]
        },
        {
          "output_type": "stream",
          "name": "stderr",
          "text": [
            "Train loss: 1.285313367843628: : 124it [00:11, 10.80it/s]\n",
            "29it [00:01, 14.67it/s]\n"
          ]
        },
        {
          "output_type": "stream",
          "name": "stdout",
          "text": [
            "epoch:  1 / 50\n",
            "time: 13.48 seconds\n",
            "train-loss: 1.64, train-acc-object: 42.82%, train-acc-pose: 35.23%\n",
            "valid-loss: 1.32, valid-acc-object: 52.31%, train-acc-pose: 49.34%\n",
            "\n"
          ]
        },
        {
          "output_type": "stream",
          "name": "stderr",
          "text": [
            "Train loss: 0.8473256230354309: : 124it [00:11, 10.81it/s]\n",
            "29it [00:01, 14.82it/s]\n"
          ]
        },
        {
          "output_type": "stream",
          "name": "stdout",
          "text": [
            "epoch:  2 / 50\n",
            "time: 13.45 seconds\n",
            "train-loss: 1.04, train-acc-object: 63.21%, train-acc-pose: 57.41%\n",
            "valid-loss: 1.02, valid-acc-object: 63.55%, train-acc-pose: 64.54%\n",
            "\n"
          ]
        },
        {
          "output_type": "stream",
          "name": "stderr",
          "text": [
            "Train loss: 0.7392463088035583: : 124it [00:11, 10.72it/s]\n",
            "29it [00:01, 14.87it/s]\n"
          ]
        },
        {
          "output_type": "stream",
          "name": "stdout",
          "text": [
            "epoch:  3 / 50\n",
            "time: 13.53 seconds\n",
            "train-loss: 0.82, train-acc-object: 72.30%, train-acc-pose: 65.05%\n",
            "valid-loss: 0.83, valid-acc-object: 71.92%, train-acc-pose: 68.83%\n",
            "\n"
          ]
        },
        {
          "output_type": "stream",
          "name": "stderr",
          "text": [
            "Train loss: 0.6249310374259949: : 124it [00:11, 10.69it/s]\n",
            "29it [00:01, 14.78it/s]\n"
          ]
        },
        {
          "output_type": "stream",
          "name": "stdout",
          "text": [
            "epoch:  4 / 50\n",
            "time: 13.58 seconds\n",
            "train-loss: 0.68, train-acc-object: 77.60%, train-acc-pose: 69.91%\n",
            "valid-loss: 0.77, valid-acc-object: 71.81%, train-acc-pose: 70.15%\n",
            "\n"
          ]
        },
        {
          "output_type": "stream",
          "name": "stderr",
          "text": [
            "Train loss: 0.5747299194335938: : 124it [00:11, 10.79it/s]\n",
            "29it [00:01, 14.80it/s]\n"
          ]
        },
        {
          "output_type": "stream",
          "name": "stdout",
          "text": [
            "epoch:  5 / 50\n",
            "time: 13.46 seconds\n",
            "train-loss: 0.59, train-acc-object: 80.42%, train-acc-pose: 73.99%\n",
            "valid-loss: 0.68, valid-acc-object: 72.58%, train-acc-pose: 73.46%\n",
            "\n"
          ]
        },
        {
          "output_type": "stream",
          "name": "stderr",
          "text": [
            "Train loss: 0.3690170645713806: : 124it [00:11, 10.82it/s]\n",
            "29it [00:01, 14.83it/s]\n"
          ]
        },
        {
          "output_type": "stream",
          "name": "stdout",
          "text": [
            "epoch:  6 / 50\n",
            "time: 13.43 seconds\n",
            "train-loss: 0.52, train-acc-object: 83.17%, train-acc-pose: 76.18%\n",
            "valid-loss: 0.61, valid-acc-object: 80.18%, train-acc-pose: 73.24%\n",
            "\n"
          ]
        },
        {
          "output_type": "stream",
          "name": "stderr",
          "text": [
            "Train loss: 0.31920865178108215: : 124it [00:11, 10.87it/s]\n",
            "29it [00:01, 15.19it/s]\n"
          ]
        },
        {
          "output_type": "stream",
          "name": "stdout",
          "text": [
            "epoch:  7 / 50\n",
            "time: 13.34 seconds\n",
            "train-loss: 0.46, train-acc-object: 85.76%, train-acc-pose: 78.48%\n",
            "valid-loss: 0.62, valid-acc-object: 78.30%, train-acc-pose: 71.48%\n",
            "\n"
          ]
        },
        {
          "output_type": "stream",
          "name": "stderr",
          "text": [
            "Train loss: 0.4521843194961548: : 124it [00:11, 10.77it/s]\n",
            "29it [00:01, 15.09it/s]\n"
          ]
        },
        {
          "output_type": "stream",
          "name": "stdout",
          "text": [
            "epoch:  8 / 50\n",
            "time: 13.46 seconds\n",
            "train-loss: 0.42, train-acc-object: 87.63%, train-acc-pose: 80.02%\n",
            "valid-loss: 0.60, valid-acc-object: 78.52%, train-acc-pose: 72.14%\n",
            "\n"
          ]
        },
        {
          "output_type": "stream",
          "name": "stderr",
          "text": [
            "Train loss: 0.32380008697509766: : 124it [00:11, 10.88it/s]\n",
            "29it [00:01, 15.30it/s]\n"
          ]
        },
        {
          "output_type": "stream",
          "name": "stdout",
          "text": [
            "epoch:  9 / 50\n",
            "time: 13.31 seconds\n",
            "train-loss: 0.32, train-acc-object: 91.00%, train-acc-pose: 84.55%\n",
            "valid-loss: 0.54, valid-acc-object: 80.40%, train-acc-pose: 77.86%\n",
            "\n"
          ]
        },
        {
          "output_type": "stream",
          "name": "stderr",
          "text": [
            "Train loss: 0.29262498021125793: : 124it [00:11, 10.82it/s]\n",
            "29it [00:01, 14.82it/s]\n"
          ]
        },
        {
          "output_type": "stream",
          "name": "stdout",
          "text": [
            "epoch: 10 / 50\n",
            "time: 13.44 seconds\n",
            "train-loss: 0.29, train-acc-object: 91.33%, train-acc-pose: 85.43%\n",
            "valid-loss: 0.54, valid-acc-object: 81.50%, train-acc-pose: 76.54%\n",
            "\n"
          ]
        },
        {
          "output_type": "stream",
          "name": "stderr",
          "text": [
            "Train loss: 0.19272351264953613: : 124it [00:11, 10.72it/s]\n",
            "29it [00:01, 15.14it/s]\n"
          ]
        },
        {
          "output_type": "stream",
          "name": "stdout",
          "text": [
            "epoch: 11 / 50\n",
            "time: 13.50 seconds\n",
            "train-loss: 0.28, train-acc-object: 92.04%, train-acc-pose: 86.16%\n",
            "valid-loss: 0.53, valid-acc-object: 81.94%, train-acc-pose: 77.75%\n",
            "\n"
          ]
        },
        {
          "output_type": "stream",
          "name": "stderr",
          "text": [
            "Train loss: 0.15674635767936707: : 124it [00:11, 10.75it/s]\n",
            "29it [00:01, 14.84it/s]\n"
          ]
        },
        {
          "output_type": "stream",
          "name": "stdout",
          "text": [
            "epoch: 12 / 50\n",
            "time: 13.51 seconds\n",
            "train-loss: 0.27, train-acc-object: 92.69%, train-acc-pose: 86.62%\n",
            "valid-loss: 0.53, valid-acc-object: 82.71%, train-acc-pose: 76.32%\n",
            "\n"
          ]
        },
        {
          "output_type": "stream",
          "name": "stderr",
          "text": [
            "Train loss: 0.2794385254383087: : 124it [00:11, 10.79it/s]\n",
            "29it [00:01, 14.80it/s]\n"
          ]
        },
        {
          "output_type": "stream",
          "name": "stdout",
          "text": [
            "epoch: 13 / 50\n",
            "time: 13.47 seconds\n",
            "train-loss: 0.24, train-acc-object: 94.08%, train-acc-pose: 87.27%\n",
            "valid-loss: 0.52, valid-acc-object: 83.37%, train-acc-pose: 78.08%\n",
            "\n"
          ]
        },
        {
          "output_type": "stream",
          "name": "stderr",
          "text": [
            "Train loss: 0.301611989736557: : 124it [00:11, 10.89it/s]\n",
            "29it [00:02, 13.83it/s]\n"
          ]
        },
        {
          "output_type": "stream",
          "name": "stdout",
          "text": [
            "epoch: 14 / 50\n",
            "time: 13.50 seconds\n",
            "train-loss: 0.23, train-acc-object: 94.28%, train-acc-pose: 88.26%\n",
            "valid-loss: 0.55, valid-acc-object: 81.39%, train-acc-pose: 76.54%\n",
            "\n"
          ]
        },
        {
          "output_type": "stream",
          "name": "stderr",
          "text": [
            "Train loss: 0.2449629306793213: : 124it [00:11, 10.89it/s]\n",
            "29it [00:02, 12.39it/s]\n"
          ]
        },
        {
          "output_type": "stream",
          "name": "stdout",
          "text": [
            "epoch: 15 / 50\n",
            "time: 13.74 seconds\n",
            "train-loss: 0.22, train-acc-object: 93.85%, train-acc-pose: 88.71%\n",
            "valid-loss: 0.52, valid-acc-object: 81.72%, train-acc-pose: 79.85%\n",
            "\n"
          ]
        },
        {
          "output_type": "stream",
          "name": "stderr",
          "text": [
            "Train loss: 0.20738375186920166: : 124it [00:11, 10.98it/s]\n",
            "29it [00:02, 11.19it/s]\n"
          ]
        },
        {
          "output_type": "stream",
          "name": "stdout",
          "text": [
            "epoch: 16 / 50\n",
            "time: 13.90 seconds\n",
            "train-loss: 0.22, train-acc-object: 94.18%, train-acc-pose: 89.24%\n",
            "valid-loss: 0.53, valid-acc-object: 82.60%, train-acc-pose: 77.86%\n",
            "\n"
          ]
        },
        {
          "output_type": "stream",
          "name": "stderr",
          "text": [
            "Train loss: 0.21803204715251923: : 124it [00:11, 11.25it/s]\n",
            "29it [00:02, 10.24it/s]\n"
          ]
        },
        {
          "output_type": "stream",
          "name": "stdout",
          "text": [
            "epoch: 17 / 50\n",
            "time: 13.87 seconds\n",
            "train-loss: 0.19, train-acc-object: 95.82%, train-acc-pose: 90.52%\n",
            "valid-loss: 0.53, valid-acc-object: 82.49%, train-acc-pose: 77.97%\n",
            "\n"
          ]
        },
        {
          "output_type": "stream",
          "name": "stderr",
          "text": [
            "Train loss: 0.10748916119337082: : 124it [00:10, 11.51it/s]\n",
            "29it [00:03,  9.44it/s]\n"
          ]
        },
        {
          "output_type": "stream",
          "name": "stdout",
          "text": [
            "epoch: 18 / 50\n",
            "time: 13.86 seconds\n",
            "train-loss: 0.18, train-acc-object: 95.44%, train-acc-pose: 91.00%\n",
            "valid-loss: 0.53, valid-acc-object: 81.83%, train-acc-pose: 77.75%\n",
            "\n"
          ]
        },
        {
          "output_type": "stream",
          "name": "stderr",
          "text": [
            "Train loss: 0.16729189455509186: : 124it [00:10, 11.44it/s]\n",
            "29it [00:02,  9.87it/s]\n"
          ]
        },
        {
          "output_type": "stream",
          "name": "stdout",
          "text": [
            "epoch: 19 / 50\n",
            "time: 13.80 seconds\n",
            "train-loss: 0.18, train-acc-object: 95.51%, train-acc-pose: 91.41%\n",
            "valid-loss: 0.53, valid-acc-object: 82.05%, train-acc-pose: 78.52%\n",
            "\n"
          ]
        },
        {
          "output_type": "stream",
          "name": "stderr",
          "text": [
            "Train loss: 0.05979430675506592: : 124it [00:11, 11.26it/s]\n",
            "29it [00:02, 11.18it/s]\n"
          ]
        },
        {
          "output_type": "stream",
          "name": "stdout",
          "text": [
            "epoch: 20 / 50\n",
            "time: 13.62 seconds\n",
            "train-loss: 0.17, train-acc-object: 96.12%, train-acc-pose: 91.10%\n",
            "valid-loss: 0.53, valid-acc-object: 82.82%, train-acc-pose: 78.30%\n",
            "\n"
          ]
        },
        {
          "output_type": "stream",
          "name": "stderr",
          "text": [
            "Train loss: 0.07836594432592392: : 124it [00:11, 10.98it/s]\n",
            "29it [00:02, 12.38it/s]\n"
          ]
        },
        {
          "output_type": "stream",
          "name": "stdout",
          "text": [
            "epoch: 21 / 50\n",
            "time: 13.65 seconds\n",
            "train-loss: 0.17, train-acc-object: 95.82%, train-acc-pose: 91.76%\n",
            "valid-loss: 0.54, valid-acc-object: 82.93%, train-acc-pose: 78.63%\n",
            "\n"
          ]
        },
        {
          "output_type": "stream",
          "name": "stderr",
          "text": [
            "Train loss: 0.31123054027557373: : 124it [00:11, 10.79it/s]\n",
            "29it [00:02, 13.70it/s]\n"
          ]
        },
        {
          "output_type": "stream",
          "name": "stdout",
          "text": [
            "epoch: 22 / 50\n",
            "time: 13.62 seconds\n",
            "train-loss: 0.15, train-acc-object: 96.50%, train-acc-pose: 92.39%\n",
            "valid-loss: 0.54, valid-acc-object: 83.26%, train-acc-pose: 78.96%\n",
            "\n"
          ]
        },
        {
          "output_type": "stream",
          "name": "stderr",
          "text": [
            "Train loss: 0.1754770129919052: : 124it [00:11, 10.70it/s]\n",
            "29it [00:02, 14.39it/s]\n"
          ]
        },
        {
          "output_type": "stream",
          "name": "stdout",
          "text": [
            "epoch: 23 / 50\n",
            "time: 13.63 seconds\n",
            "train-loss: 0.16, train-acc-object: 96.02%, train-acc-pose: 91.94%\n",
            "valid-loss: 0.55, valid-acc-object: 82.60%, train-acc-pose: 79.30%\n",
            "\n"
          ]
        },
        {
          "output_type": "stream",
          "name": "stderr",
          "text": [
            "Train loss: 0.2209995985031128: : 124it [00:11, 10.73it/s]\n",
            "29it [00:01, 14.53it/s]\n"
          ]
        },
        {
          "output_type": "stream",
          "name": "stdout",
          "text": [
            "epoch: 24 / 50\n",
            "time: 13.57 seconds\n",
            "train-loss: 0.15, train-acc-object: 96.37%, train-acc-pose: 92.54%\n",
            "valid-loss: 0.54, valid-acc-object: 82.82%, train-acc-pose: 80.29%\n",
            "\n"
          ]
        },
        {
          "output_type": "stream",
          "name": "stderr",
          "text": [
            "Train loss: 0.13713057339191437: : 124it [00:11, 10.82it/s]\n",
            "29it [00:01, 14.70it/s]\n"
          ]
        },
        {
          "output_type": "stream",
          "name": "stdout",
          "text": [
            "epoch: 25 / 50\n",
            "time: 13.45 seconds\n",
            "train-loss: 0.14, train-acc-object: 96.50%, train-acc-pose: 92.74%\n",
            "valid-loss: 0.55, valid-acc-object: 82.71%, train-acc-pose: 80.18%\n",
            "\n"
          ]
        },
        {
          "output_type": "stream",
          "name": "stderr",
          "text": [
            "Train loss: 0.14136254787445068: : 124it [00:11, 10.60it/s]\n",
            "29it [00:01, 14.70it/s]\n"
          ]
        },
        {
          "output_type": "stream",
          "name": "stdout",
          "text": [
            "epoch: 26 / 50\n",
            "time: 13.69 seconds\n",
            "train-loss: 0.14, train-acc-object: 97.45%, train-acc-pose: 92.59%\n",
            "valid-loss: 0.55, valid-acc-object: 83.04%, train-acc-pose: 79.41%\n",
            "\n"
          ]
        },
        {
          "output_type": "stream",
          "name": "stderr",
          "text": [
            "Train loss: 0.12145069986581802: : 124it [00:11, 10.71it/s]\n",
            "29it [00:01, 14.79it/s]\n"
          ]
        },
        {
          "output_type": "stream",
          "name": "stdout",
          "text": [
            "epoch: 27 / 50\n",
            "time: 13.55 seconds\n",
            "train-loss: 0.14, train-acc-object: 96.77%, train-acc-pose: 92.82%\n",
            "valid-loss: 0.55, valid-acc-object: 83.04%, train-acc-pose: 79.74%\n",
            "\n"
          ]
        },
        {
          "output_type": "stream",
          "name": "stderr",
          "text": [
            "Train loss: 0.08421774208545685: : 124it [00:11, 10.63it/s]\n",
            "29it [00:01, 14.75it/s]\n"
          ]
        },
        {
          "output_type": "stream",
          "name": "stdout",
          "text": [
            "epoch: 28 / 50\n",
            "time: 13.65 seconds\n",
            "train-loss: 0.14, train-acc-object: 96.82%, train-acc-pose: 92.79%\n",
            "valid-loss: 0.55, valid-acc-object: 83.04%, train-acc-pose: 79.85%\n",
            "\n"
          ]
        },
        {
          "output_type": "stream",
          "name": "stderr",
          "text": [
            "Train loss: 0.22348102927207947: : 124it [00:11, 10.77it/s]\n",
            "29it [00:01, 14.92it/s]\n"
          ]
        },
        {
          "output_type": "stream",
          "name": "stdout",
          "text": [
            "epoch: 29 / 50\n",
            "time: 13.47 seconds\n",
            "train-loss: 0.14, train-acc-object: 96.85%, train-acc-pose: 93.42%\n",
            "valid-loss: 0.55, valid-acc-object: 83.04%, train-acc-pose: 80.18%\n",
            "\n"
          ]
        },
        {
          "output_type": "stream",
          "name": "stderr",
          "text": [
            "Train loss: 0.1724444329738617: : 124it [00:11, 10.73it/s]\n",
            "29it [00:01, 14.82it/s]\n"
          ]
        },
        {
          "output_type": "stream",
          "name": "stdout",
          "text": [
            "epoch: 30 / 50\n",
            "time: 13.54 seconds\n",
            "train-loss: 0.14, train-acc-object: 96.67%, train-acc-pose: 92.84%\n",
            "valid-loss: 0.55, valid-acc-object: 82.82%, train-acc-pose: 79.96%\n",
            "\n"
          ]
        },
        {
          "output_type": "stream",
          "name": "stderr",
          "text": [
            "Train loss: 0.10817945003509521: : 124it [00:11, 10.78it/s]\n",
            "29it [00:01, 14.80it/s]\n"
          ]
        },
        {
          "output_type": "stream",
          "name": "stdout",
          "text": [
            "epoch: 31 / 50\n",
            "time: 13.48 seconds\n",
            "train-loss: 0.13, train-acc-object: 96.75%, train-acc-pose: 93.50%\n",
            "valid-loss: 0.55, valid-acc-object: 82.49%, train-acc-pose: 79.41%\n",
            "\n"
          ]
        },
        {
          "output_type": "stream",
          "name": "stderr",
          "text": [
            "Train loss: 0.0874338448047638: : 124it [00:11, 10.77it/s]\n",
            "29it [00:01, 14.90it/s]\n"
          ]
        },
        {
          "output_type": "stream",
          "name": "stdout",
          "text": [
            "epoch: 32 / 50\n",
            "time: 13.48 seconds\n",
            "train-loss: 0.14, train-acc-object: 96.88%, train-acc-pose: 93.42%\n",
            "valid-loss: 0.55, valid-acc-object: 82.93%, train-acc-pose: 80.07%\n",
            "\n"
          ]
        },
        {
          "output_type": "stream",
          "name": "stderr",
          "text": [
            "Train loss: 0.1282174289226532: : 124it [00:11, 10.63it/s]\n",
            "29it [00:01, 14.96it/s]\n"
          ]
        },
        {
          "output_type": "stream",
          "name": "stdout",
          "text": [
            "epoch: 33 / 50\n",
            "time: 13.62 seconds\n",
            "train-loss: 0.13, train-acc-object: 97.10%, train-acc-pose: 93.50%\n",
            "valid-loss: 0.55, valid-acc-object: 82.82%, train-acc-pose: 80.07%\n",
            "\n"
          ]
        },
        {
          "output_type": "stream",
          "name": "stderr",
          "text": [
            "Train loss: 0.13021202385425568: : 124it [00:11, 10.79it/s]\n",
            "29it [00:01, 14.59it/s]\n"
          ]
        },
        {
          "output_type": "stream",
          "name": "stdout",
          "text": [
            "epoch: 34 / 50\n",
            "time: 13.49 seconds\n",
            "train-loss: 0.13, train-acc-object: 97.03%, train-acc-pose: 93.27%\n",
            "valid-loss: 0.55, valid-acc-object: 82.93%, train-acc-pose: 79.96%\n",
            "\n"
          ]
        },
        {
          "output_type": "stream",
          "name": "stderr",
          "text": [
            "Train loss: 0.21459129452705383: : 124it [00:11, 10.73it/s]\n",
            "29it [00:01, 14.85it/s]\n"
          ]
        },
        {
          "output_type": "stream",
          "name": "stdout",
          "text": [
            "epoch: 35 / 50\n",
            "time: 13.53 seconds\n",
            "train-loss: 0.13, train-acc-object: 96.57%, train-acc-pose: 93.78%\n",
            "valid-loss: 0.55, valid-acc-object: 82.82%, train-acc-pose: 80.29%\n",
            "\n"
          ]
        },
        {
          "output_type": "stream",
          "name": "stderr",
          "text": [
            "Train loss: 0.16840964555740356: : 124it [00:11, 10.74it/s]\n",
            "29it [00:01, 14.73it/s]\n"
          ]
        },
        {
          "output_type": "stream",
          "name": "stdout",
          "text": [
            "epoch: 36 / 50\n",
            "time: 13.53 seconds\n",
            "train-loss: 0.13, train-acc-object: 97.00%, train-acc-pose: 93.37%\n",
            "valid-loss: 0.55, valid-acc-object: 82.60%, train-acc-pose: 80.51%\n",
            "\n"
          ]
        },
        {
          "output_type": "stream",
          "name": "stderr",
          "text": [
            "Train loss: 0.1625710129737854: : 124it [00:11, 10.68it/s]\n",
            "29it [00:01, 14.55it/s]\n"
          ]
        },
        {
          "output_type": "stream",
          "name": "stdout",
          "text": [
            "epoch: 37 / 50\n",
            "time: 13.62 seconds\n",
            "train-loss: 0.13, train-acc-object: 97.23%, train-acc-pose: 93.90%\n",
            "valid-loss: 0.55, valid-acc-object: 82.60%, train-acc-pose: 79.96%\n",
            "\n"
          ]
        },
        {
          "output_type": "stream",
          "name": "stderr",
          "text": [
            "Train loss: 0.04055459052324295: : 124it [00:11, 10.71it/s]\n",
            "29it [00:01, 14.67it/s]\n"
          ]
        },
        {
          "output_type": "stream",
          "name": "stdout",
          "text": [
            "epoch: 38 / 50\n",
            "time: 13.58 seconds\n",
            "train-loss: 0.13, train-acc-object: 97.28%, train-acc-pose: 93.47%\n",
            "valid-loss: 0.55, valid-acc-object: 82.60%, train-acc-pose: 80.29%\n",
            "\n"
          ]
        },
        {
          "output_type": "stream",
          "name": "stderr",
          "text": [
            "Train loss: 0.17226934432983398: : 124it [00:11, 10.66it/s]\n",
            "29it [00:01, 14.77it/s]\n"
          ]
        },
        {
          "output_type": "stream",
          "name": "stdout",
          "text": [
            "epoch: 39 / 50\n",
            "time: 13.61 seconds\n",
            "train-loss: 0.13, train-acc-object: 97.00%, train-acc-pose: 93.75%\n",
            "valid-loss: 0.55, valid-acc-object: 82.93%, train-acc-pose: 79.85%\n",
            "\n"
          ]
        },
        {
          "output_type": "stream",
          "name": "stderr",
          "text": [
            "Train loss: 0.07781144976615906: : 124it [00:11, 10.61it/s]\n",
            "29it [00:01, 14.70it/s]\n"
          ]
        },
        {
          "output_type": "stream",
          "name": "stdout",
          "text": [
            "epoch: 40 / 50\n",
            "time: 13.67 seconds\n",
            "train-loss: 0.13, train-acc-object: 97.15%, train-acc-pose: 93.72%\n",
            "valid-loss: 0.55, valid-acc-object: 82.82%, train-acc-pose: 79.85%\n",
            "\n"
          ]
        },
        {
          "output_type": "stream",
          "name": "stderr",
          "text": [
            "Train loss: 0.22205889225006104: : 124it [00:11, 10.60it/s]\n",
            "29it [00:02, 14.42it/s]\n"
          ]
        },
        {
          "output_type": "stream",
          "name": "stdout",
          "text": [
            "epoch: 41 / 50\n",
            "time: 13.72 seconds\n",
            "train-loss: 0.13, train-acc-object: 97.03%, train-acc-pose: 93.60%\n",
            "valid-loss: 0.55, valid-acc-object: 82.82%, train-acc-pose: 80.07%\n",
            "\n"
          ]
        },
        {
          "output_type": "stream",
          "name": "stderr",
          "text": [
            "Train loss: 0.13620629906654358: : 124it [00:11, 10.83it/s]\n",
            "29it [00:02, 12.87it/s]\n"
          ]
        },
        {
          "output_type": "stream",
          "name": "stdout",
          "text": [
            "epoch: 42 / 50\n",
            "time: 13.72 seconds\n",
            "train-loss: 0.13, train-acc-object: 97.25%, train-acc-pose: 93.30%\n",
            "valid-loss: 0.55, valid-acc-object: 82.82%, train-acc-pose: 79.96%\n",
            "\n"
          ]
        },
        {
          "output_type": "stream",
          "name": "stderr",
          "text": [
            "Train loss: 0.08664359152317047: : 124it [00:11, 10.94it/s]\n",
            "29it [00:02, 11.26it/s]\n"
          ]
        },
        {
          "output_type": "stream",
          "name": "stdout",
          "text": [
            "epoch: 43 / 50\n",
            "time: 13.93 seconds\n",
            "train-loss: 0.13, train-acc-object: 96.95%, train-acc-pose: 93.65%\n",
            "valid-loss: 0.55, valid-acc-object: 82.82%, train-acc-pose: 79.96%\n",
            "\n"
          ]
        },
        {
          "output_type": "stream",
          "name": "stderr",
          "text": [
            "Train loss: 0.08192610740661621: : 124it [00:11, 11.21it/s]\n",
            "29it [00:02, 10.07it/s]\n"
          ]
        },
        {
          "output_type": "stream",
          "name": "stdout",
          "text": [
            "epoch: 44 / 50\n",
            "time: 13.96 seconds\n",
            "train-loss: 0.13, train-acc-object: 96.85%, train-acc-pose: 93.65%\n",
            "valid-loss: 0.55, valid-acc-object: 82.82%, train-acc-pose: 79.96%\n",
            "\n"
          ]
        },
        {
          "output_type": "stream",
          "name": "stderr",
          "text": [
            "Train loss: 0.0688856989145279: : 124it [00:10, 11.61it/s]\n",
            "29it [00:03,  9.16it/s]\n"
          ]
        },
        {
          "output_type": "stream",
          "name": "stdout",
          "text": [
            "epoch: 45 / 50\n",
            "time: 13.87 seconds\n",
            "train-loss: 0.12, train-acc-object: 97.51%, train-acc-pose: 94.00%\n",
            "valid-loss: 0.55, valid-acc-object: 82.82%, train-acc-pose: 79.96%\n",
            "\n"
          ]
        },
        {
          "output_type": "stream",
          "name": "stderr",
          "text": [
            "Train loss: 0.15004536509513855: : 124it [00:10, 11.42it/s]\n",
            "29it [00:02,  9.92it/s]\n"
          ]
        },
        {
          "output_type": "stream",
          "name": "stdout",
          "text": [
            "epoch: 46 / 50\n",
            "time: 13.80 seconds\n",
            "train-loss: 0.13, train-acc-object: 97.30%, train-acc-pose: 93.32%\n",
            "valid-loss: 0.55, valid-acc-object: 82.82%, train-acc-pose: 79.96%\n",
            "\n"
          ]
        },
        {
          "output_type": "stream",
          "name": "stderr",
          "text": [
            "Train loss: 0.11283853650093079: : 124it [00:11, 11.27it/s]\n",
            "29it [00:02, 11.23it/s]\n"
          ]
        },
        {
          "output_type": "stream",
          "name": "stdout",
          "text": [
            "epoch: 47 / 50\n",
            "time: 13.61 seconds\n",
            "train-loss: 0.13, train-acc-object: 97.08%, train-acc-pose: 93.67%\n",
            "valid-loss: 0.55, valid-acc-object: 82.82%, train-acc-pose: 79.96%\n",
            "\n"
          ]
        },
        {
          "output_type": "stream",
          "name": "stderr",
          "text": [
            "Train loss: 0.19625677168369293: : 124it [00:11, 10.84it/s]\n",
            "29it [00:02, 12.79it/s]\n"
          ]
        },
        {
          "output_type": "stream",
          "name": "stdout",
          "text": [
            "epoch: 48 / 50\n",
            "time: 13.72 seconds\n",
            "train-loss: 0.13, train-acc-object: 96.62%, train-acc-pose: 93.22%\n",
            "valid-loss: 0.55, valid-acc-object: 82.82%, train-acc-pose: 79.85%\n",
            "\n"
          ]
        },
        {
          "output_type": "stream",
          "name": "stderr",
          "text": [
            "Train loss: 0.08541375398635864: : 124it [00:11, 10.63it/s]\n",
            "29it [00:01, 14.67it/s]\n"
          ]
        },
        {
          "output_type": "stream",
          "name": "stdout",
          "text": [
            "epoch: 49 / 50\n",
            "time: 13.65 seconds\n",
            "train-loss: 0.13, train-acc-object: 96.82%, train-acc-pose: 93.45%\n",
            "valid-loss: 0.55, valid-acc-object: 82.71%, train-acc-pose: 79.85%\n",
            "\n"
          ]
        },
        {
          "output_type": "stream",
          "name": "stderr",
          "text": [
            "Train loss: 0.09530332684516907: : 124it [00:11, 10.50it/s]\n",
            "29it [00:02, 14.34it/s]"
          ]
        },
        {
          "output_type": "stream",
          "name": "stdout",
          "text": [
            "epoch: 50 / 50\n",
            "time: 13.85 seconds\n",
            "train-loss: 0.12, train-acc-object: 97.18%, train-acc-pose: 94.10%\n",
            "valid-loss: 0.55, valid-acc-object: 82.71%, train-acc-pose: 79.85%\n",
            "\n"
          ]
        },
        {
          "output_type": "stream",
          "name": "stderr",
          "text": [
            "\n"
          ]
        }
      ]
    },
    {
      "cell_type": "code",
      "source": [
        "def smooth(x, w=0):\n",
        "    last = x[0]\n",
        "    smoothed = []\n",
        "    for point in x:\n",
        "      smoothed_val = w * last + (1 - w) * point\n",
        "      smoothed.append(smoothed_val)\n",
        "      ast = smoothed_val\n",
        "          \n",
        "    return smoothed\n",
        "\n",
        "history1 = trainer1.getHistory()\n",
        "trainer1.showResults()"
      ],
      "metadata": {
        "id": "N7DHiwXimwKP",
        "outputId": "5b279975-d282-4104-c84d-058f6688f27a",
        "colab": {
          "base_uri": "https://localhost:8080/",
          "height": 314
        }
      },
      "execution_count": 13,
      "outputs": [
        {
          "output_type": "display_data",
          "data": {
            "text/plain": [
              "<Figure size 1008x288 with 2 Axes>"
            ],
            "image/png": "[encoded data removed]"
          },
          "metadata": {}
        }
      ]
    },
    {
      "cell_type": "code",
      "source": [
        "trainer1.generateConfusionMatrix()"
      ],
      "metadata": {
        "id": "yr5CE5Zjw9Yh",
        "outputId": "077503ea-14a3-49dc-c58c-6eedc5ffa4ae",
        "colab": {
          "base_uri": "https://localhost:8080/",
          "height": 527
        }
      },
      "execution_count": 14,
      "outputs": [
        {
          "output_type": "stream",
          "name": "stdout",
          "text": [
            "best model was trained at epoch: 13\n",
            "with a validation loss of: 0.5228792 and a validation accuracy of: 83.370041847229\n"
          ]
        },
        {
          "output_type": "display_data",
          "data": {
            "text/plain": [
              "<Figure size 864x504 with 1 Axes>"
            ],
            "image/png": "[encoded data removed]"
          },
          "metadata": {}
        }
      ]
    },
    {
      "cell_type": "code",
      "source": [
        "trainer1.missing_data_test()"
      ],
      "metadata": {
        "id": "s30abd-s2seu",
        "colab": {
          "base_uri": "https://localhost:8080/",
          "height": 354
        },
        "outputId": "a42b4d68-39f0-45cf-e506-a3862f72334d"
      },
      "execution_count": null,
      "outputs": [
        {
          "output_type": "stream",
          "name": "stdout",
          "text": [
            "best model was trained at epoch: 64\n",
            "with a validation loss of: 0.46278837 and a validation accuracy of: 87.11453676223755\n"
          ]
        },
        {
          "output_type": "display_data",
          "data": {
            "text/plain": [
              "<Figure size 576x288 with 1 Axes>"
            ],
            "image/png": "[encoded data removed]"
          },
          "metadata": {}
        }
      ]
    },
    {
      "cell_type": "markdown",
      "source": [
        "# BatcNormVoxNet"
      ],
      "metadata": {
        "id": "cgdQgwjggYGS"
      }
    },
    {
      "cell_type": "code",
      "source": [
        "from collections import OrderedDict\n",
        "class BatchNormVoxNet(nn.Module):\n",
        "    def __init__(self):\n",
        "        super(BatchNormVoxNet, self).__init__()\n",
        "        n_classes = 10\n",
        "        n_rotations = 8\n",
        "        input_shape = (32,32,32)\n",
        "        self.feat = torch.nn.Sequential(OrderedDict([\n",
        "            ('conv3d_1', torch.nn.Conv3d(in_channels=1, out_channels=32, kernel_size=3, stride=2)),\n",
        "            ('relu1', torch.nn.ReLU()),\n",
        "            ('batch1', torch.nn.BatchNorm3d(32)),\n",
        "            ('drop1', torch.nn.Dropout(p=0.2)),\n",
        "            ('conv3d_2', torch.nn.Conv3d(in_channels=32, out_channels=64, kernel_size=3, stride=1)),\n",
        "            ('batch2', torch.nn.BatchNorm3d(64)),\n",
        "            ('relu2', torch.nn.ReLU()),\n",
        "            ('drop2', torch.nn.Dropout(p=0.3)),\n",
        "            ('conv3d_3', torch.nn.Conv3d(in_channels=64, out_channels=128, kernel_size=3, stride=1)),\n",
        "            ('batch3', torch.nn.BatchNorm3d(128)),\n",
        "            ('relu3', torch.nn.ReLU()),\n",
        "            ('drop3', torch.nn.Dropout(p=0.3)),\n",
        "            ('conv3d_4', torch.nn.Conv3d(in_channels=128, out_channels=256, kernel_size=3, stride=1)),\n",
        "            ('relu4', torch.nn.ReLU()),\n",
        "            ('drop4', torch.nn.Dropout(p=0.4)),\n",
        "            ('pool1', torch.nn.MaxPool3d(kernel_size=2, stride=2))\n",
        "        ]))\n",
        "        \n",
        "        x = self.feat(torch.autograd.Variable(torch.rand((1, 1) + input_shape)))\n",
        "        dim_feat = 1\n",
        "        for n in x.size()[1:]:\n",
        "            dim_feat *= n\n",
        "\n",
        "        self.mlp = torch.nn.Sequential(OrderedDict([\n",
        "            ('fc1', torch.nn.Linear(dim_feat, 128)),\n",
        "            ('relu1', torch.nn.ReLU()),\n",
        "            ('drop3', torch.nn.Dropout(p=0.4)),\n",
        "            ('fc2', torch.nn.Linear(128, n_classes))\n",
        "        ]))\n",
        "\n",
        "        self.mlp2 = torch.nn.Sequential(OrderedDict([\n",
        "            ('fc1', torch.nn.Linear(dim_feat, 128)),\n",
        "            ('relu1', torch.nn.ReLU()),\n",
        "            ('drop3', torch.nn.Dropout(p=0.4)),\n",
        "            ('fc2', torch.nn.Linear(128, n_rotations))\n",
        "        ]))\n",
        "\n",
        "        self.logsoftmax = nn.LogSoftmax(dim=1)\n",
        "\n",
        "    def forward(self, x):\n",
        "        x = self.feat(x)\n",
        "        x = x.view(x.size(0), -1)\n",
        "        x1 = self.mlp(x)\n",
        "        x2 = self.mlp2(x)\n",
        "        return x1, x2\n",
        "        #return self.logsoftmax(x1), self.logsoftmax(x2)"
      ],
      "metadata": {
        "id": "1RYhudhkrK6P"
      },
      "execution_count": 15,
      "outputs": []
    },
    {
      "cell_type": "markdown",
      "source": [
        "**BatchNormVoxNet** Training "
      ],
      "metadata": {
        "id": "QvYd-EqMtBtl"
      }
    },
    {
      "cell_type": "code",
      "source": [
        "training_hyperparameters = {\n",
        "    \"learning_rate\": 0.01,\n",
        "    \"sgd_momentum\": 0.9,\n",
        "    \"data_size\": 32,\n",
        "    \"epochs\": 50,\n",
        "    \"lr_scheduler_step\": 10,\n",
        "    \"lr_scheduler_gamma\": 0.3,\n",
        "    \"train_batch_size\": 64,\n",
        "    \"valid_batch_size\": 64,\n",
        "    \"model\" : 'BatchNormVoxNet'\n",
        "}    \n",
        "\n",
        "trainer2 = VoxNet_Trainer(training_hyperparameters)\n",
        "trainer2.train()"
      ],
      "metadata": {
        "id": "s13Dp_TUIeF1",
        "outputId": "c6e2200e-6f95-41ea-bf92-2a14c33d4dac",
        "colab": {
          "base_uri": "https://localhost:8080/"
        }
      },
      "execution_count": 16,
      "outputs": [
        {
          "output_type": "stream",
          "name": "stdout",
          "text": [
            "model BatchNormVoxNet was chosen\n",
            "62.359375\n"
          ]
        },
        {
          "output_type": "stream",
          "name": "stderr",
          "text": [
            "Train loss: 1.1849806308746338: : 62it [00:17,  3.61it/s]\n",
            "15it [00:02,  6.65it/s]\n"
          ]
        },
        {
          "output_type": "stream",
          "name": "stdout",
          "text": [
            "epoch:  1 / 50\n",
            "time: 19.43 seconds\n",
            "train-loss: 1.54, train-acc-object: 47.73%, train-acc-pose: 37.00%\n",
            "valid-loss: 1.46, valid-acc-object: 58.04%, train-acc-pose: 52.53%\n",
            "\n"
          ]
        },
        {
          "output_type": "stream",
          "name": "stderr",
          "text": [
            "Train loss: 0.6808604001998901: : 62it [00:16,  3.73it/s]\n",
            "15it [00:02,  5.44it/s]\n"
          ]
        },
        {
          "output_type": "stream",
          "name": "stdout",
          "text": [
            "epoch:  2 / 50\n",
            "time: 19.39 seconds\n",
            "train-loss: 0.97, train-acc-object: 68.70%, train-acc-pose: 57.54%\n",
            "valid-loss: 0.93, valid-acc-object: 69.16%, train-acc-pose: 61.67%\n",
            "\n"
          ]
        },
        {
          "output_type": "stream",
          "name": "stderr",
          "text": [
            "Train loss: 0.8749449253082275: : 62it [00:17,  3.61it/s]\n",
            "15it [00:02,  6.57it/s]\n"
          ]
        },
        {
          "output_type": "stream",
          "name": "stdout",
          "text": [
            "epoch:  3 / 50\n",
            "time: 19.46 seconds\n",
            "train-loss: 0.75, train-acc-object: 76.03%, train-acc-pose: 67.26%\n",
            "valid-loss: 0.77, valid-acc-object: 74.45%, train-acc-pose: 68.72%\n",
            "\n"
          ]
        },
        {
          "output_type": "stream",
          "name": "stderr",
          "text": [
            "Train loss: 0.6104869246482849: : 62it [00:16,  3.70it/s]\n",
            "15it [00:02,  5.54it/s]\n"
          ]
        },
        {
          "output_type": "stream",
          "name": "stdout",
          "text": [
            "epoch:  4 / 50\n",
            "time: 19.47 seconds\n",
            "train-loss: 0.62, train-acc-object: 79.76%, train-acc-pose: 72.78%\n",
            "valid-loss: 0.70, valid-acc-object: 75.99%, train-acc-pose: 71.26%\n",
            "\n"
          ]
        },
        {
          "output_type": "stream",
          "name": "stderr",
          "text": [
            "Train loss: 0.5058057904243469: : 62it [00:17,  3.59it/s]\n",
            "15it [00:02,  6.73it/s]\n"
          ]
        },
        {
          "output_type": "stream",
          "name": "stdout",
          "text": [
            "epoch:  5 / 50\n",
            "time: 19.49 seconds\n",
            "train-loss: 0.52, train-acc-object: 83.39%, train-acc-pose: 74.75%\n",
            "valid-loss: 0.61, valid-acc-object: 79.30%, train-acc-pose: 73.68%\n",
            "\n"
          ]
        },
        {
          "output_type": "stream",
          "name": "stderr",
          "text": [
            "Train loss: 0.3716113567352295: : 62it [00:16,  3.68it/s]\n",
            "15it [00:02,  5.12it/s]\n"
          ]
        },
        {
          "output_type": "stream",
          "name": "stdout",
          "text": [
            "epoch:  6 / 50\n",
            "time: 19.81 seconds\n",
            "train-loss: 0.47, train-acc-object: 86.79%, train-acc-pose: 76.86%\n",
            "valid-loss: 0.56, valid-acc-object: 80.84%, train-acc-pose: 73.13%\n",
            "\n"
          ]
        },
        {
          "output_type": "stream",
          "name": "stderr",
          "text": [
            "Train loss: 0.4752625823020935: : 62it [00:17,  3.59it/s]\n",
            "15it [00:02,  6.81it/s]\n"
          ]
        },
        {
          "output_type": "stream",
          "name": "stdout",
          "text": [
            "epoch:  7 / 50\n",
            "time: 19.49 seconds\n",
            "train-loss: 0.41, train-acc-object: 88.33%, train-acc-pose: 78.81%\n",
            "valid-loss: 0.56, valid-acc-object: 79.96%, train-acc-pose: 72.58%\n",
            "\n"
          ]
        },
        {
          "output_type": "stream",
          "name": "stderr",
          "text": [
            "Train loss: 0.29866939783096313: : 62it [00:17,  3.63it/s]\n",
            "15it [00:03,  4.68it/s]\n"
          ]
        },
        {
          "output_type": "stream",
          "name": "stdout",
          "text": [
            "epoch:  8 / 50\n",
            "time: 20.30 seconds\n",
            "train-loss: 0.37, train-acc-object: 89.16%, train-acc-pose: 81.43%\n",
            "valid-loss: 0.67, valid-acc-object: 75.66%, train-acc-pose: 72.14%\n",
            "\n"
          ]
        },
        {
          "output_type": "stream",
          "name": "stderr",
          "text": [
            "Train loss: 0.251827597618103: : 62it [00:17,  3.64it/s]\n",
            "15it [00:02,  6.59it/s]\n"
          ]
        },
        {
          "output_type": "stream",
          "name": "stdout",
          "text": [
            "epoch:  9 / 50\n",
            "time: 19.34 seconds\n",
            "train-loss: 0.34, train-acc-object: 90.70%, train-acc-pose: 81.80%\n",
            "valid-loss: 0.57, valid-acc-object: 79.85%, train-acc-pose: 72.25%\n",
            "\n"
          ]
        },
        {
          "output_type": "stream",
          "name": "stderr",
          "text": [
            "Train loss: 0.29186540842056274: : 62it [00:17,  3.64it/s]\n",
            "15it [00:03,  4.39it/s]\n"
          ]
        },
        {
          "output_type": "stream",
          "name": "stdout",
          "text": [
            "epoch: 10 / 50\n",
            "time: 20.48 seconds\n",
            "train-loss: 0.32, train-acc-object: 91.23%, train-acc-pose: 81.53%\n",
            "valid-loss: 0.51, valid-acc-object: 84.69%, train-acc-pose: 74.45%\n",
            "\n"
          ]
        },
        {
          "output_type": "stream",
          "name": "stderr",
          "text": [
            "Train loss: 0.2655600905418396: : 62it [00:17,  3.63it/s]\n",
            "15it [00:02,  6.58it/s]\n"
          ]
        },
        {
          "output_type": "stream",
          "name": "stdout",
          "text": [
            "epoch: 11 / 50\n",
            "time: 19.38 seconds\n",
            "train-loss: 0.25, train-acc-object: 94.35%, train-acc-pose: 86.29%\n",
            "valid-loss: 0.48, valid-acc-object: 84.91%, train-acc-pose: 75.33%\n",
            "\n"
          ]
        },
        {
          "output_type": "stream",
          "name": "stderr",
          "text": [
            "Train loss: 0.2016497254371643: : 62it [00:17,  3.58it/s]\n",
            "15it [00:03,  4.87it/s]\n"
          ]
        },
        {
          "output_type": "stream",
          "name": "stdout",
          "text": [
            "epoch: 12 / 50\n",
            "time: 20.42 seconds\n",
            "train-loss: 0.22, train-acc-object: 95.09%, train-acc-pose: 87.80%\n",
            "valid-loss: 0.47, valid-acc-object: 84.80%, train-acc-pose: 75.66%\n",
            "\n"
          ]
        },
        {
          "output_type": "stream",
          "name": "stderr",
          "text": [
            "Train loss: 0.2222926914691925: : 62it [00:17,  3.62it/s]\n",
            "15it [00:02,  6.72it/s]\n"
          ]
        },
        {
          "output_type": "stream",
          "name": "stdout",
          "text": [
            "epoch: 13 / 50\n",
            "time: 19.38 seconds\n",
            "train-loss: 0.21, train-acc-object: 95.41%, train-acc-pose: 88.48%\n",
            "valid-loss: 0.47, valid-acc-object: 85.13%, train-acc-pose: 76.43%\n",
            "\n"
          ]
        },
        {
          "output_type": "stream",
          "name": "stderr",
          "text": [
            "Train loss: 0.19589704275131226: : 62it [00:17,  3.51it/s]\n",
            "15it [00:02,  5.82it/s]\n"
          ]
        },
        {
          "output_type": "stream",
          "name": "stdout",
          "text": [
            "epoch: 14 / 50\n",
            "time: 20.25 seconds\n",
            "train-loss: 0.20, train-acc-object: 95.64%, train-acc-pose: 88.31%\n",
            "valid-loss: 0.48, valid-acc-object: 85.57%, train-acc-pose: 77.53%\n",
            "\n"
          ]
        },
        {
          "output_type": "stream",
          "name": "stderr",
          "text": [
            "Train loss: 0.19817626476287842: : 62it [00:17,  3.64it/s]\n",
            "15it [00:02,  6.62it/s]\n"
          ]
        },
        {
          "output_type": "stream",
          "name": "stdout",
          "text": [
            "epoch: 15 / 50\n",
            "time: 19.32 seconds\n",
            "train-loss: 0.19, train-acc-object: 95.97%, train-acc-pose: 88.99%\n",
            "valid-loss: 0.47, valid-acc-object: 84.58%, train-acc-pose: 78.52%\n",
            "\n"
          ]
        },
        {
          "output_type": "stream",
          "name": "stderr",
          "text": [
            "Train loss: 0.22530414164066315: : 62it [00:17,  3.48it/s]\n",
            "15it [00:02,  6.47it/s]\n"
          ]
        },
        {
          "output_type": "stream",
          "name": "stdout",
          "text": [
            "epoch: 16 / 50\n",
            "time: 20.16 seconds\n",
            "train-loss: 0.18, train-acc-object: 96.24%, train-acc-pose: 89.67%\n",
            "valid-loss: 0.47, valid-acc-object: 84.58%, train-acc-pose: 78.30%\n",
            "\n"
          ]
        },
        {
          "output_type": "stream",
          "name": "stderr",
          "text": [
            "Train loss: 0.18444103002548218: : 62it [00:17,  3.60it/s]\n",
            "15it [00:02,  6.69it/s]\n"
          ]
        },
        {
          "output_type": "stream",
          "name": "stdout",
          "text": [
            "epoch: 17 / 50\n",
            "time: 19.47 seconds\n",
            "train-loss: 0.16, train-acc-object: 96.62%, train-acc-pose: 90.75%\n",
            "valid-loss: 0.48, valid-acc-object: 84.69%, train-acc-pose: 78.85%\n",
            "\n"
          ]
        },
        {
          "output_type": "stream",
          "name": "stderr",
          "text": [
            "Train loss: 0.11076399683952332: : 62it [00:17,  3.48it/s]\n",
            "15it [00:02,  6.51it/s]\n"
          ]
        },
        {
          "output_type": "stream",
          "name": "stdout",
          "text": [
            "epoch: 18 / 50\n",
            "time: 20.15 seconds\n",
            "train-loss: 0.17, train-acc-object: 96.65%, train-acc-pose: 90.37%\n",
            "valid-loss: 0.48, valid-acc-object: 85.02%, train-acc-pose: 77.64%\n",
            "\n"
          ]
        },
        {
          "output_type": "stream",
          "name": "stderr",
          "text": [
            "Train loss: 0.15727537870407104: : 62it [00:17,  3.61it/s]\n",
            "15it [00:02,  6.71it/s]\n"
          ]
        },
        {
          "output_type": "stream",
          "name": "stdout",
          "text": [
            "epoch: 19 / 50\n",
            "time: 19.44 seconds\n",
            "train-loss: 0.16, train-acc-object: 96.77%, train-acc-pose: 90.22%\n",
            "valid-loss: 0.47, valid-acc-object: 85.79%, train-acc-pose: 77.31%\n",
            "\n"
          ]
        },
        {
          "output_type": "stream",
          "name": "stderr",
          "text": [
            "Train loss: 0.1478758156299591: : 62it [00:18,  3.44it/s]\n",
            "15it [00:02,  6.50it/s]\n"
          ]
        },
        {
          "output_type": "stream",
          "name": "stdout",
          "text": [
            "epoch: 20 / 50\n",
            "time: 20.34 seconds\n",
            "train-loss: 0.15, train-acc-object: 96.88%, train-acc-pose: 91.31%\n",
            "valid-loss: 0.47, valid-acc-object: 84.91%, train-acc-pose: 78.63%\n",
            "\n"
          ]
        },
        {
          "output_type": "stream",
          "name": "stderr",
          "text": [
            "Train loss: 0.13195893168449402: : 62it [00:17,  3.60it/s]\n",
            "15it [00:02,  6.71it/s]\n"
          ]
        },
        {
          "output_type": "stream",
          "name": "stdout",
          "text": [
            "epoch: 21 / 50\n",
            "time: 19.47 seconds\n",
            "train-loss: 0.14, train-acc-object: 97.51%, train-acc-pose: 91.96%\n",
            "valid-loss: 0.46, valid-acc-object: 85.02%, train-acc-pose: 78.19%\n",
            "\n"
          ]
        },
        {
          "output_type": "stream",
          "name": "stderr",
          "text": [
            "Train loss: 0.09629461914300919: : 62it [00:17,  3.46it/s]\n",
            "15it [00:02,  6.71it/s]\n"
          ]
        },
        {
          "output_type": "stream",
          "name": "stdout",
          "text": [
            "epoch: 22 / 50\n",
            "time: 20.19 seconds\n",
            "train-loss: 0.13, train-acc-object: 97.38%, train-acc-pose: 92.39%\n",
            "valid-loss: 0.47, valid-acc-object: 84.91%, train-acc-pose: 77.64%\n",
            "\n"
          ]
        },
        {
          "output_type": "stream",
          "name": "stderr",
          "text": [
            "Train loss: 0.12363359332084656: : 62it [00:17,  3.61it/s]\n",
            "15it [00:02,  5.55it/s]\n"
          ]
        },
        {
          "output_type": "stream",
          "name": "stdout",
          "text": [
            "epoch: 23 / 50\n",
            "time: 19.89 seconds\n",
            "train-loss: 0.13, train-acc-object: 97.63%, train-acc-pose: 92.26%\n",
            "valid-loss: 0.47, valid-acc-object: 85.35%, train-acc-pose: 77.42%\n",
            "\n"
          ]
        },
        {
          "output_type": "stream",
          "name": "stderr",
          "text": [
            "Train loss: 0.14524509012699127: : 62it [00:17,  3.52it/s]\n",
            "15it [00:02,  6.47it/s]\n"
          ]
        },
        {
          "output_type": "stream",
          "name": "stdout",
          "text": [
            "epoch: 24 / 50\n",
            "time: 19.97 seconds\n",
            "train-loss: 0.12, train-acc-object: 97.73%, train-acc-pose: 93.07%\n",
            "valid-loss: 0.49, valid-acc-object: 84.47%, train-acc-pose: 77.64%\n",
            "\n"
          ]
        },
        {
          "output_type": "stream",
          "name": "stderr",
          "text": [
            "Train loss: 0.14293448626995087: : 62it [00:17,  3.59it/s]\n",
            "15it [00:03,  4.68it/s]\n"
          ]
        },
        {
          "output_type": "stream",
          "name": "stdout",
          "text": [
            "epoch: 25 / 50\n",
            "time: 20.51 seconds\n",
            "train-loss: 0.12, train-acc-object: 97.68%, train-acc-pose: 92.92%\n",
            "valid-loss: 0.48, valid-acc-object: 85.13%, train-acc-pose: 77.75%\n",
            "\n"
          ]
        },
        {
          "output_type": "stream",
          "name": "stderr",
          "text": [
            "Train loss: 0.1066119521856308: : 62it [00:17,  3.55it/s]\n",
            "15it [00:02,  6.54it/s]\n"
          ]
        },
        {
          "output_type": "stream",
          "name": "stdout",
          "text": [
            "epoch: 26 / 50\n",
            "time: 19.77 seconds\n",
            "train-loss: 0.12, train-acc-object: 97.61%, train-acc-pose: 92.57%\n",
            "valid-loss: 0.49, valid-acc-object: 84.80%, train-acc-pose: 77.97%\n",
            "\n"
          ]
        },
        {
          "output_type": "stream",
          "name": "stderr",
          "text": [
            "Train loss: 0.12424201518297195: : 62it [00:17,  3.56it/s]\n",
            "15it [00:03,  4.60it/s]\n"
          ]
        },
        {
          "output_type": "stream",
          "name": "stdout",
          "text": [
            "epoch: 27 / 50\n",
            "time: 20.69 seconds\n",
            "train-loss: 0.11, train-acc-object: 97.93%, train-acc-pose: 93.20%\n",
            "valid-loss: 0.48, valid-acc-object: 85.46%, train-acc-pose: 77.53%\n",
            "\n"
          ]
        },
        {
          "output_type": "stream",
          "name": "stderr",
          "text": [
            "Train loss: 0.16931714117527008: : 62it [00:17,  3.58it/s]\n",
            "15it [00:02,  6.58it/s]\n"
          ]
        },
        {
          "output_type": "stream",
          "name": "stdout",
          "text": [
            "epoch: 28 / 50\n",
            "time: 19.60 seconds\n",
            "train-loss: 0.12, train-acc-object: 97.71%, train-acc-pose: 92.94%\n",
            "valid-loss: 0.49, valid-acc-object: 84.91%, train-acc-pose: 77.31%\n",
            "\n"
          ]
        },
        {
          "output_type": "stream",
          "name": "stderr",
          "text": [
            "Train loss: 0.12494375556707382: : 62it [00:17,  3.46it/s]\n",
            "15it [00:02,  5.78it/s]\n"
          ]
        },
        {
          "output_type": "stream",
          "name": "stdout",
          "text": [
            "epoch: 29 / 50\n",
            "time: 20.51 seconds\n",
            "train-loss: 0.12, train-acc-object: 97.86%, train-acc-pose: 93.25%\n",
            "valid-loss: 0.49, valid-acc-object: 84.36%, train-acc-pose: 77.97%\n",
            "\n"
          ]
        },
        {
          "output_type": "stream",
          "name": "stderr",
          "text": [
            "Train loss: 0.16201098263263702: : 62it [00:17,  3.58it/s]\n",
            "15it [00:02,  6.66it/s]\n"
          ]
        },
        {
          "output_type": "stream",
          "name": "stdout",
          "text": [
            "epoch: 30 / 50\n",
            "time: 19.57 seconds\n",
            "train-loss: 0.11, train-acc-object: 97.86%, train-acc-pose: 93.62%\n",
            "valid-loss: 0.49, valid-acc-object: 85.13%, train-acc-pose: 77.31%\n",
            "\n"
          ]
        },
        {
          "output_type": "stream",
          "name": "stderr",
          "text": [
            "Train loss: 0.10066200792789459: : 62it [00:18,  3.44it/s]\n",
            "15it [00:02,  6.58it/s]\n"
          ]
        },
        {
          "output_type": "stream",
          "name": "stdout",
          "text": [
            "epoch: 31 / 50\n",
            "time: 20.34 seconds\n",
            "train-loss: 0.11, train-acc-object: 98.44%, train-acc-pose: 93.65%\n",
            "valid-loss: 0.49, valid-acc-object: 85.68%, train-acc-pose: 77.75%\n",
            "\n"
          ]
        },
        {
          "output_type": "stream",
          "name": "stderr",
          "text": [
            "Train loss: 0.10844454169273376: : 62it [00:17,  3.57it/s]\n",
            "15it [00:02,  6.55it/s]\n"
          ]
        },
        {
          "output_type": "stream",
          "name": "stdout",
          "text": [
            "epoch: 32 / 50\n",
            "time: 19.66 seconds\n",
            "train-loss: 0.11, train-acc-object: 98.21%, train-acc-pose: 93.78%\n",
            "valid-loss: 0.49, valid-acc-object: 85.13%, train-acc-pose: 77.64%\n",
            "\n"
          ]
        },
        {
          "output_type": "stream",
          "name": "stderr",
          "text": [
            "Train loss: 0.18109962344169617: : 62it [00:18,  3.44it/s]\n",
            "15it [00:02,  6.69it/s]\n"
          ]
        },
        {
          "output_type": "stream",
          "name": "stdout",
          "text": [
            "epoch: 33 / 50\n",
            "time: 20.26 seconds\n",
            "train-loss: 0.11, train-acc-object: 98.08%, train-acc-pose: 93.42%\n",
            "valid-loss: 0.49, valid-acc-object: 85.24%, train-acc-pose: 77.86%\n",
            "\n"
          ]
        },
        {
          "output_type": "stream",
          "name": "stderr",
          "text": [
            "Train loss: 0.10284224897623062: : 62it [00:17,  3.59it/s]\n",
            "15it [00:02,  6.10it/s]\n"
          ]
        },
        {
          "output_type": "stream",
          "name": "stdout",
          "text": [
            "epoch: 34 / 50\n",
            "time: 19.74 seconds\n",
            "train-loss: 0.11, train-acc-object: 97.88%, train-acc-pose: 94.41%\n",
            "valid-loss: 0.49, valid-acc-object: 85.24%, train-acc-pose: 77.64%\n",
            "\n"
          ]
        },
        {
          "output_type": "stream",
          "name": "stderr",
          "text": [
            "Train loss: 0.11940896511077881: : 62it [00:17,  3.47it/s]\n",
            "15it [00:02,  6.46it/s]\n"
          ]
        },
        {
          "output_type": "stream",
          "name": "stdout",
          "text": [
            "epoch: 35 / 50\n",
            "time: 20.20 seconds\n",
            "train-loss: 0.11, train-acc-object: 98.24%, train-acc-pose: 93.80%\n",
            "valid-loss: 0.49, valid-acc-object: 85.35%, train-acc-pose: 77.97%\n",
            "\n"
          ]
        },
        {
          "output_type": "stream",
          "name": "stderr",
          "text": [
            "Train loss: 0.08832470327615738: : 62it [00:17,  3.57it/s]\n",
            "15it [00:03,  4.86it/s]\n"
          ]
        },
        {
          "output_type": "stream",
          "name": "stdout",
          "text": [
            "epoch: 36 / 50\n",
            "time: 20.46 seconds\n",
            "train-loss: 0.11, train-acc-object: 98.06%, train-acc-pose: 94.15%\n",
            "valid-loss: 0.49, valid-acc-object: 85.57%, train-acc-pose: 77.64%\n",
            "\n"
          ]
        },
        {
          "output_type": "stream",
          "name": "stderr",
          "text": [
            "Train loss: 0.1762935221195221: : 62it [00:17,  3.53it/s]\n",
            "15it [00:02,  6.60it/s]\n"
          ]
        },
        {
          "output_type": "stream",
          "name": "stdout",
          "text": [
            "epoch: 37 / 50\n",
            "time: 19.87 seconds\n",
            "train-loss: 0.10, train-acc-object: 98.29%, train-acc-pose: 93.80%\n",
            "valid-loss: 0.49, valid-acc-object: 85.46%, train-acc-pose: 77.64%\n",
            "\n"
          ]
        },
        {
          "output_type": "stream",
          "name": "stderr",
          "text": [
            "Train loss: 0.0876326933503151: : 62it [00:17,  3.59it/s]\n",
            "15it [00:03,  4.40it/s]\n"
          ]
        },
        {
          "output_type": "stream",
          "name": "stdout",
          "text": [
            "epoch: 38 / 50\n",
            "time: 20.71 seconds\n",
            "train-loss: 0.11, train-acc-object: 98.21%, train-acc-pose: 93.47%\n",
            "valid-loss: 0.49, valid-acc-object: 85.35%, train-acc-pose: 78.52%\n",
            "\n"
          ]
        },
        {
          "output_type": "stream",
          "name": "stderr",
          "text": [
            "Train loss: 0.109701007604599: : 62it [00:17,  3.57it/s]\n",
            "15it [00:02,  6.59it/s]\n"
          ]
        },
        {
          "output_type": "stream",
          "name": "stdout",
          "text": [
            "epoch: 39 / 50\n",
            "time: 19.66 seconds\n",
            "train-loss: 0.10, train-acc-object: 98.24%, train-acc-pose: 93.98%\n",
            "valid-loss: 0.49, valid-acc-object: 85.02%, train-acc-pose: 78.63%\n",
            "\n"
          ]
        },
        {
          "output_type": "stream",
          "name": "stderr",
          "text": [
            "Train loss: 0.07722852379083633: : 62it [00:17,  3.50it/s]\n",
            "15it [00:02,  5.46it/s]\n"
          ]
        },
        {
          "output_type": "stream",
          "name": "stdout",
          "text": [
            "epoch: 40 / 50\n",
            "time: 20.48 seconds\n",
            "train-loss: 0.10, train-acc-object: 98.54%, train-acc-pose: 94.15%\n",
            "valid-loss: 0.49, valid-acc-object: 85.35%, train-acc-pose: 78.19%\n",
            "\n"
          ]
        },
        {
          "output_type": "stream",
          "name": "stderr",
          "text": [
            "Train loss: 0.08235231041908264: : 62it [00:17,  3.57it/s]\n",
            "15it [00:02,  6.56it/s]\n"
          ]
        },
        {
          "output_type": "stream",
          "name": "stdout",
          "text": [
            "epoch: 41 / 50\n",
            "time: 19.66 seconds\n",
            "train-loss: 0.10, train-acc-object: 98.19%, train-acc-pose: 94.08%\n",
            "valid-loss: 0.49, valid-acc-object: 85.13%, train-acc-pose: 77.97%\n",
            "\n"
          ]
        },
        {
          "output_type": "stream",
          "name": "stderr",
          "text": [
            "Train loss: 0.10082939267158508: : 62it [00:18,  3.44it/s]\n",
            "15it [00:02,  6.60it/s]\n"
          ]
        },
        {
          "output_type": "stream",
          "name": "stdout",
          "text": [
            "epoch: 42 / 50\n",
            "time: 20.33 seconds\n",
            "train-loss: 0.10, train-acc-object: 98.24%, train-acc-pose: 94.38%\n",
            "valid-loss: 0.49, valid-acc-object: 84.91%, train-acc-pose: 77.86%\n",
            "\n"
          ]
        },
        {
          "output_type": "stream",
          "name": "stderr",
          "text": [
            "Train loss: 0.12271703779697418: : 62it [00:17,  3.58it/s]\n",
            "15it [00:02,  6.53it/s]\n"
          ]
        },
        {
          "output_type": "stream",
          "name": "stdout",
          "text": [
            "epoch: 43 / 50\n",
            "time: 19.62 seconds\n",
            "train-loss: 0.10, train-acc-object: 97.93%, train-acc-pose: 94.30%\n",
            "valid-loss: 0.49, valid-acc-object: 85.24%, train-acc-pose: 77.86%\n",
            "\n"
          ]
        },
        {
          "output_type": "stream",
          "name": "stderr",
          "text": [
            "Train loss: 0.07708516716957092: : 62it [00:18,  3.44it/s]\n",
            "15it [00:02,  6.57it/s]\n"
          ]
        },
        {
          "output_type": "stream",
          "name": "stdout",
          "text": [
            "epoch: 44 / 50\n",
            "time: 20.31 seconds\n",
            "train-loss: 0.10, train-acc-object: 98.44%, train-acc-pose: 94.23%\n",
            "valid-loss: 0.49, valid-acc-object: 85.35%, train-acc-pose: 78.08%\n",
            "\n"
          ]
        },
        {
          "output_type": "stream",
          "name": "stderr",
          "text": [
            "Train loss: 0.07789278030395508: : 62it [00:17,  3.55it/s]\n",
            "15it [00:02,  6.30it/s]\n"
          ]
        },
        {
          "output_type": "stream",
          "name": "stdout",
          "text": [
            "epoch: 45 / 50\n",
            "time: 19.86 seconds\n",
            "train-loss: 0.10, train-acc-object: 98.34%, train-acc-pose: 94.28%\n",
            "valid-loss: 0.49, valid-acc-object: 85.57%, train-acc-pose: 78.19%\n",
            "\n"
          ]
        },
        {
          "output_type": "stream",
          "name": "stderr",
          "text": [
            "Train loss: 0.10255413502454758: : 62it [00:17,  3.46it/s]\n",
            "15it [00:02,  6.53it/s]\n"
          ]
        },
        {
          "output_type": "stream",
          "name": "stdout",
          "text": [
            "epoch: 46 / 50\n",
            "time: 20.22 seconds\n",
            "train-loss: 0.10, train-acc-object: 98.34%, train-acc-pose: 93.67%\n",
            "valid-loss: 0.49, valid-acc-object: 85.46%, train-acc-pose: 78.52%\n",
            "\n"
          ]
        },
        {
          "output_type": "stream",
          "name": "stderr",
          "text": [
            "Train loss: 0.1049196720123291: : 62it [00:17,  3.58it/s]\n",
            "15it [00:02,  5.33it/s]\n"
          ]
        },
        {
          "output_type": "stream",
          "name": "stdout",
          "text": [
            "epoch: 47 / 50\n",
            "time: 20.14 seconds\n",
            "train-loss: 0.10, train-acc-object: 98.31%, train-acc-pose: 94.30%\n",
            "valid-loss: 0.49, valid-acc-object: 85.13%, train-acc-pose: 78.30%\n",
            "\n"
          ]
        },
        {
          "output_type": "stream",
          "name": "stderr",
          "text": [
            "Train loss: 0.08055764436721802: : 62it [00:17,  3.51it/s]\n",
            "15it [00:02,  6.39it/s]\n"
          ]
        },
        {
          "output_type": "stream",
          "name": "stdout",
          "text": [
            "epoch: 48 / 50\n",
            "time: 20.01 seconds\n",
            "train-loss: 0.10, train-acc-object: 98.44%, train-acc-pose: 94.13%\n",
            "valid-loss: 0.49, valid-acc-object: 85.13%, train-acc-pose: 78.52%\n",
            "\n"
          ]
        },
        {
          "output_type": "stream",
          "name": "stderr",
          "text": [
            "Train loss: 0.07513844966888428: : 62it [00:17,  3.58it/s]\n",
            "15it [00:03,  4.20it/s]\n"
          ]
        },
        {
          "output_type": "stream",
          "name": "stdout",
          "text": [
            "epoch: 49 / 50\n",
            "time: 20.89 seconds\n",
            "train-loss: 0.10, train-acc-object: 98.34%, train-acc-pose: 94.13%\n",
            "valid-loss: 0.49, valid-acc-object: 85.24%, train-acc-pose: 78.30%\n",
            "\n"
          ]
        },
        {
          "output_type": "stream",
          "name": "stderr",
          "text": [
            "Train loss: 0.128273144364357: : 62it [00:17,  3.57it/s]\n",
            "15it [00:02,  6.58it/s]"
          ]
        },
        {
          "output_type": "stream",
          "name": "stdout",
          "text": [
            "epoch: 50 / 50\n",
            "time: 19.64 seconds\n",
            "train-loss: 0.10, train-acc-object: 98.41%, train-acc-pose: 94.38%\n",
            "valid-loss: 0.49, valid-acc-object: 85.24%, train-acc-pose: 78.19%\n",
            "\n"
          ]
        },
        {
          "output_type": "stream",
          "name": "stderr",
          "text": [
            "\n"
          ]
        }
      ]
    },
    {
      "cell_type": "code",
      "source": [
        "def smooth(x, w=0):\n",
        "    last = x[0]\n",
        "    smoothed = []\n",
        "    for point in x:\n",
        "      smoothed_val = w * last + (1 - w) * point\n",
        "      smoothed.append(smoothed_val)\n",
        "      ast = smoothed_val\n",
        "          \n",
        "    return smoothed\n",
        "\n",
        "history2 = trainer2.getHistory()\n",
        "trainer2.showResults()"
      ],
      "metadata": {
        "id": "iQBg4PkSyFYD",
        "outputId": "fe7916f9-d000-45da-a8ef-9ce2123297b1",
        "colab": {
          "base_uri": "https://localhost:8080/",
          "height": 314
        }
      },
      "execution_count": 17,
      "outputs": [
        {
          "output_type": "display_data",
          "data": {
            "text/plain": [
              "<Figure size 1008x288 with 2 Axes>"
            ],
            "image/png": "[encoded data removed]"
          },
          "metadata": {}
        }
      ]
    },
    {
      "cell_type": "code",
      "source": [
        "trainer2.generateConfusionMatrix()"
      ],
      "metadata": {
        "id": "C_0cmlsu3sg2",
        "outputId": "f350b455-a553-4764-bae8-bd414a931ec9",
        "colab": {
          "base_uri": "https://localhost:8080/",
          "height": 527
        }
      },
      "execution_count": 18,
      "outputs": [
        {
          "output_type": "stream",
          "name": "stdout",
          "text": [
            "best model was trained at epoch: 19\n",
            "with a validation loss of: 0.4664366 and a validation accuracy of: 85.7929527759552\n"
          ]
        },
        {
          "output_type": "display_data",
          "data": {
            "text/plain": [
              "<Figure size 864x504 with 1 Axes>"
            ],
            "image/png": "[encoded data removed]"
          },
          "metadata": {}
        }
      ]
    },
    {
      "cell_type": "code",
      "source": [
        "trainer2.missing_data_test()"
      ],
      "metadata": {
        "colab": {
          "base_uri": "https://localhost:8080/",
          "height": 354
        },
        "id": "SaU97bMwNNmm",
        "outputId": "4177ff7c-6b8f-4d39-a427-1c420377029f"
      },
      "execution_count": null,
      "outputs": [
        {
          "output_type": "stream",
          "name": "stdout",
          "text": [
            "best model was trained at epoch: 6\n",
            "with a validation loss of: 0.568145 and a validation accuracy of: 80.0000011920929\n"
          ]
        },
        {
          "output_type": "display_data",
          "data": {
            "text/plain": [
              "<Figure size 576x288 with 1 Axes>"
            ],
            "image/png": "[encoded data removed]"
          },
          "metadata": {}
        }
      ]
    },
    {
      "cell_type": "markdown",
      "source": [
        "# DMPVoxNet (double-max-pooling VoxNet)"
      ],
      "metadata": {
        "id": "_nmRSyb7g_3-"
      }
    },
    {
      "cell_type": "code",
      "source": [
        "from collections import OrderedDict\n",
        "class DMPVoxNet(nn.Module):\n",
        "    def __init__(self):\n",
        "        super(DMPVoxNet, self).__init__()\n",
        "        n_classes = 10\n",
        "        n_rotations = 8\n",
        "        input_shape = (32,32,32)\n",
        "        self.feat = torch.nn.Sequential(OrderedDict([\n",
        "            ('conv3d_1', torch.nn.Conv3d(in_channels=1, out_channels=32, kernel_size=3, stride=1)),\n",
        "            ('relu1', torch.nn.ReLU()),\n",
        "            ('pool1', torch.nn.MaxPool3d(2)),\n",
        "            ('drop1', torch.nn.Dropout(p=0.5)),\n",
        "            ('conv3d_2', torch.nn.Conv3d(in_channels=32, out_channels=64, kernel_size=3)),\n",
        "            ('relu2', torch.nn.ReLU()),\n",
        "            ('pool2', torch.nn.MaxPool3d(2)),\n",
        "            ('drop2', torch.nn.Dropout(p=0.5))\n",
        "        ]))\n",
        "        \n",
        "        x = self.feat(torch.autograd.Variable(torch.rand((1, 1) + input_shape)))\n",
        "        dim_feat = 1\n",
        "        for n in x.size()[1:]:\n",
        "            dim_feat *= n\n",
        "\n",
        "        self.mlp = torch.nn.Sequential(OrderedDict([\n",
        "            ('fc1', torch.nn.Linear(dim_feat, 128)),\n",
        "            ('relu1', torch.nn.ReLU()),\n",
        "            ('drop3', torch.nn.Dropout(p=0.4)),\n",
        "            ('fc2', torch.nn.Linear(128, n_classes))\n",
        "        ]))\n",
        "\n",
        "        self.mlp2 = torch.nn.Sequential(OrderedDict([\n",
        "            ('fc1', torch.nn.Linear(dim_feat, 128)),\n",
        "            ('relu1', torch.nn.ReLU()),\n",
        "            ('drop3', torch.nn.Dropout(p=0.4)),\n",
        "            ('fc2', torch.nn.Linear(128, n_rotations))\n",
        "        ]))\n",
        "\n",
        "        self.logsoftmax = nn.LogSoftmax(dim=1)\n",
        "\n",
        "    def forward(self, x):\n",
        "        x = self.feat(x)\n",
        "        x = x.view(x.size(0), -1)\n",
        "        x1 = self.mlp(x)\n",
        "        x2 = self.mlp2(x)\n",
        "        return x1, x2\n",
        "        #return self.logsoftmax(x1), self.logsoftmax(x2)"
      ],
      "metadata": {
        "id": "iUmops89RNwb"
      },
      "execution_count": 19,
      "outputs": []
    },
    {
      "cell_type": "markdown",
      "source": [
        "**DMPVoxNet** training"
      ],
      "metadata": {
        "id": "3Dsd4G6CrcYT"
      }
    },
    {
      "cell_type": "code",
      "source": [
        "training_hyperparameters = {\n",
        "    \"learning_rate\": 0.01,\n",
        "    \"sgd_momentum\": 0.9,\n",
        "    \"data_size\": 32,\n",
        "    \"epochs\": 50,\n",
        "    \"lr_scheduler_step\": 10,\n",
        "    \"lr_scheduler_gamma\": 0.5,\n",
        "    \"train_batch_size\": 32,\n",
        "    \"valid_batch_size\": 32,\n",
        "    \"model\" : 'DMPVoxNet'\n",
        "}    \n",
        "\n",
        "trainer3 = VoxNet_Trainer(training_hyperparameters)\n",
        "trainer3.train()"
      ],
      "metadata": {
        "id": "SGl_plCpmEmo",
        "outputId": "ef618d7b-5a3e-4d67-ac63-c9f3c65ba95e",
        "colab": {
          "base_uri": "https://localhost:8080/"
        }
      },
      "execution_count": 20,
      "outputs": [
        {
          "output_type": "stream",
          "name": "stdout",
          "text": [
            "model DMPVoxNet was choosen\n",
            "124.71875\n"
          ]
        },
        {
          "output_type": "stream",
          "name": "stderr",
          "text": [
            "Train loss: 0.837936282157898: : 124it [00:12,  9.61it/s]\n",
            "29it [00:01, 14.60it/s]\n"
          ]
        },
        {
          "output_type": "stream",
          "name": "stdout",
          "text": [
            "epoch:  1 / 50\n",
            "time: 14.91 seconds\n",
            "train-loss: 1.52, train-acc-object: 47.45%, train-acc-pose: 38.76%\n",
            "valid-loss: 1.18, valid-acc-object: 54.41%, train-acc-pose: 55.40%\n",
            "\n"
          ]
        },
        {
          "output_type": "stream",
          "name": "stderr",
          "text": [
            "Train loss: 0.9237520694732666: : 124it [00:12,  9.65it/s]\n",
            "29it [00:02, 11.63it/s]\n"
          ]
        },
        {
          "output_type": "stream",
          "name": "stdout",
          "text": [
            "epoch:  2 / 50\n",
            "time: 15.37 seconds\n",
            "train-loss: 0.99, train-acc-object: 65.10%, train-acc-pose: 59.88%\n",
            "valid-loss: 0.97, valid-acc-object: 62.22%, train-acc-pose: 61.23%\n",
            "\n"
          ]
        },
        {
          "output_type": "stream",
          "name": "stderr",
          "text": [
            "Train loss: 0.6644185781478882: : 124it [00:12,  9.98it/s]\n",
            "29it [00:02,  9.77it/s]\n"
          ]
        },
        {
          "output_type": "stream",
          "name": "stdout",
          "text": [
            "epoch:  3 / 50\n",
            "time: 15.40 seconds\n",
            "train-loss: 0.83, train-acc-object: 71.09%, train-acc-pose: 64.42%\n",
            "valid-loss: 0.81, valid-acc-object: 70.26%, train-acc-pose: 66.63%\n",
            "\n"
          ]
        },
        {
          "output_type": "stream",
          "name": "stderr",
          "text": [
            "Train loss: 0.6186314821243286: : 124it [00:13,  9.33it/s]\n",
            "29it [00:02, 13.96it/s]\n"
          ]
        },
        {
          "output_type": "stream",
          "name": "stdout",
          "text": [
            "epoch:  4 / 50\n",
            "time: 15.39 seconds\n",
            "train-loss: 0.72, train-acc-object: 76.44%, train-acc-pose: 69.23%\n",
            "valid-loss: 0.73, valid-acc-object: 73.46%, train-acc-pose: 70.37%\n",
            "\n"
          ]
        },
        {
          "output_type": "stream",
          "name": "stderr",
          "text": [
            "Train loss: 0.6607643365859985: : 124it [00:12,  9.69it/s]\n",
            "29it [00:01, 14.55it/s]\n"
          ]
        },
        {
          "output_type": "stream",
          "name": "stdout",
          "text": [
            "epoch:  5 / 50\n",
            "time: 14.81 seconds\n",
            "train-loss: 0.65, train-acc-object: 77.97%, train-acc-pose: 72.45%\n",
            "valid-loss: 0.67, valid-acc-object: 75.44%, train-acc-pose: 71.92%\n",
            "\n"
          ]
        },
        {
          "output_type": "stream",
          "name": "stderr",
          "text": [
            "Train loss: 0.6057490110397339: : 124it [00:13,  9.42it/s]\n",
            "29it [00:02, 14.33it/s]\n"
          ]
        },
        {
          "output_type": "stream",
          "name": "stdout",
          "text": [
            "epoch:  6 / 50\n",
            "time: 15.20 seconds\n",
            "train-loss: 0.58, train-acc-object: 80.65%, train-acc-pose: 74.52%\n",
            "valid-loss: 0.63, valid-acc-object: 79.52%, train-acc-pose: 72.47%\n",
            "\n"
          ]
        },
        {
          "output_type": "stream",
          "name": "stderr",
          "text": [
            "Train loss: 0.36281877756118774: : 124it [00:12,  9.68it/s]\n",
            "29it [00:02, 14.28it/s]\n"
          ]
        },
        {
          "output_type": "stream",
          "name": "stdout",
          "text": [
            "epoch:  7 / 50\n",
            "time: 14.86 seconds\n",
            "train-loss: 0.53, train-acc-object: 83.04%, train-acc-pose: 75.15%\n",
            "valid-loss: 0.64, valid-acc-object: 78.19%, train-acc-pose: 70.81%\n",
            "\n"
          ]
        },
        {
          "output_type": "stream",
          "name": "stderr",
          "text": [
            "Train loss: 0.4226096272468567: : 124it [00:13,  9.23it/s]\n",
            "29it [00:02, 10.50it/s]\n"
          ]
        },
        {
          "output_type": "stream",
          "name": "stdout",
          "text": [
            "epoch:  8 / 50\n",
            "time: 16.21 seconds\n",
            "train-loss: 0.50, train-acc-object: 85.58%, train-acc-pose: 76.31%\n",
            "valid-loss: 0.59, valid-acc-object: 80.73%, train-acc-pose: 75.00%\n",
            "\n"
          ]
        },
        {
          "output_type": "stream",
          "name": "stderr",
          "text": [
            "Train loss: 0.4471263885498047: : 124it [00:13,  9.20it/s]\n",
            "29it [00:02, 12.34it/s]\n"
          ]
        },
        {
          "output_type": "stream",
          "name": "stdout",
          "text": [
            "epoch:  9 / 50\n",
            "time: 15.85 seconds\n",
            "train-loss: 0.45, train-acc-object: 86.21%, train-acc-pose: 77.65%\n",
            "valid-loss: 0.57, valid-acc-object: 79.41%, train-acc-pose: 73.57%\n",
            "\n"
          ]
        },
        {
          "output_type": "stream",
          "name": "stderr",
          "text": [
            "Train loss: 0.3268266022205353: : 124it [00:13,  9.20it/s]\n",
            "29it [00:02, 14.02it/s]\n"
          ]
        },
        {
          "output_type": "stream",
          "name": "stdout",
          "text": [
            "epoch: 10 / 50\n",
            "time: 15.55 seconds\n",
            "train-loss: 0.43, train-acc-object: 87.68%, train-acc-pose: 79.41%\n",
            "valid-loss: 0.55, valid-acc-object: 80.18%, train-acc-pose: 74.34%\n",
            "\n"
          ]
        },
        {
          "output_type": "stream",
          "name": "stderr",
          "text": [
            "Train loss: 0.34169358015060425: : 124it [00:13,  9.25it/s]\n",
            "29it [00:02, 13.94it/s]\n"
          ]
        },
        {
          "output_type": "stream",
          "name": "stdout",
          "text": [
            "epoch: 11 / 50\n",
            "time: 15.50 seconds\n",
            "train-loss: 0.37, train-acc-object: 89.29%, train-acc-pose: 82.69%\n",
            "valid-loss: 0.55, valid-acc-object: 82.60%, train-acc-pose: 76.32%\n",
            "\n"
          ]
        },
        {
          "output_type": "stream",
          "name": "stderr",
          "text": [
            "Train loss: 0.3313872516155243: : 124it [00:12,  9.57it/s]\n",
            "29it [00:02, 14.25it/s]\n"
          ]
        },
        {
          "output_type": "stream",
          "name": "stdout",
          "text": [
            "epoch: 12 / 50\n",
            "time: 15.00 seconds\n",
            "train-loss: 0.35, train-acc-object: 90.10%, train-acc-pose: 82.71%\n",
            "valid-loss: 0.52, valid-acc-object: 81.61%, train-acc-pose: 76.76%\n",
            "\n"
          ]
        },
        {
          "output_type": "stream",
          "name": "stderr",
          "text": [
            "Train loss: 0.37958309054374695: : 124it [00:13,  9.50it/s]\n",
            "29it [00:02, 13.16it/s]\n"
          ]
        },
        {
          "output_type": "stream",
          "name": "stdout",
          "text": [
            "epoch: 13 / 50\n",
            "time: 15.27 seconds\n",
            "train-loss: 0.34, train-acc-object: 90.60%, train-acc-pose: 82.54%\n",
            "valid-loss: 0.52, valid-acc-object: 82.93%, train-acc-pose: 76.87%\n",
            "\n"
          ]
        },
        {
          "output_type": "stream",
          "name": "stderr",
          "text": [
            "Train loss: 0.5290471315383911: : 124it [00:12,  9.60it/s]\n",
            "29it [00:03,  9.37it/s]\n"
          ]
        },
        {
          "output_type": "stream",
          "name": "stdout",
          "text": [
            "epoch: 14 / 50\n",
            "time: 16.02 seconds\n",
            "train-loss: 0.33, train-acc-object: 91.15%, train-acc-pose: 83.14%\n",
            "valid-loss: 0.50, valid-acc-object: 82.38%, train-acc-pose: 77.53%\n",
            "\n"
          ]
        },
        {
          "output_type": "stream",
          "name": "stderr",
          "text": [
            "Train loss: 0.2701858580112457: : 124it [00:13,  9.38it/s]\n",
            "29it [00:02, 13.85it/s]\n"
          ]
        },
        {
          "output_type": "stream",
          "name": "stdout",
          "text": [
            "epoch: 15 / 50\n",
            "time: 15.33 seconds\n",
            "train-loss: 0.31, train-acc-object: 91.53%, train-acc-pose: 83.97%\n",
            "valid-loss: 0.53, valid-acc-object: 82.16%, train-acc-pose: 77.20%\n",
            "\n"
          ]
        },
        {
          "output_type": "stream",
          "name": "stderr",
          "text": [
            "Train loss: 0.37316349148750305: : 124it [00:13,  9.09it/s]\n",
            "29it [00:02, 14.25it/s]\n"
          ]
        },
        {
          "output_type": "stream",
          "name": "stdout",
          "text": [
            "epoch: 16 / 50\n",
            "time: 15.69 seconds\n",
            "train-loss: 0.30, train-acc-object: 92.44%, train-acc-pose: 84.25%\n",
            "valid-loss: 0.52, valid-acc-object: 83.04%, train-acc-pose: 76.32%\n",
            "\n"
          ]
        },
        {
          "output_type": "stream",
          "name": "stderr",
          "text": [
            "Train loss: 0.36006081104278564: : 124it [00:13,  9.29it/s]\n",
            "29it [00:02, 14.24it/s]\n"
          ]
        },
        {
          "output_type": "stream",
          "name": "stdout",
          "text": [
            "epoch: 17 / 50\n",
            "time: 15.40 seconds\n",
            "train-loss: 0.29, train-acc-object: 92.19%, train-acc-pose: 84.53%\n",
            "valid-loss: 0.52, valid-acc-object: 83.81%, train-acc-pose: 75.55%\n",
            "\n"
          ]
        },
        {
          "output_type": "stream",
          "name": "stderr",
          "text": [
            "Train loss: 0.45869147777557373: : 124it [00:13,  9.29it/s]\n",
            "29it [00:02, 13.91it/s]\n"
          ]
        },
        {
          "output_type": "stream",
          "name": "stdout",
          "text": [
            "epoch: 18 / 50\n",
            "time: 15.45 seconds\n",
            "train-loss: 0.28, train-acc-object: 93.30%, train-acc-pose: 84.35%\n",
            "valid-loss: 0.52, valid-acc-object: 82.27%, train-acc-pose: 77.97%\n",
            "\n"
          ]
        },
        {
          "output_type": "stream",
          "name": "stderr",
          "text": [
            "Train loss: 0.23005618155002594: : 124it [00:13,  9.26it/s]\n",
            "29it [00:03,  8.89it/s]\n"
          ]
        },
        {
          "output_type": "stream",
          "name": "stdout",
          "text": [
            "epoch: 19 / 50\n",
            "time: 16.66 seconds\n",
            "train-loss: 0.28, train-acc-object: 92.97%, train-acc-pose: 84.85%\n",
            "valid-loss: 0.52, valid-acc-object: 82.93%, train-acc-pose: 77.42%\n",
            "\n"
          ]
        },
        {
          "output_type": "stream",
          "name": "stderr",
          "text": [
            "Train loss: 0.14683590829372406: : 124it [00:12,  9.56it/s]\n",
            "29it [00:02, 13.89it/s]\n"
          ]
        },
        {
          "output_type": "stream",
          "name": "stdout",
          "text": [
            "epoch: 20 / 50\n",
            "time: 15.08 seconds\n",
            "train-loss: 0.27, train-acc-object: 92.39%, train-acc-pose: 86.49%\n",
            "valid-loss: 0.51, valid-acc-object: 83.15%, train-acc-pose: 77.09%\n",
            "\n"
          ]
        },
        {
          "output_type": "stream",
          "name": "stderr",
          "text": [
            "Train loss: 0.21101748943328857: : 124it [00:13,  9.15it/s]\n",
            "29it [00:02, 13.75it/s]\n"
          ]
        },
        {
          "output_type": "stream",
          "name": "stdout",
          "text": [
            "epoch: 21 / 50\n",
            "time: 15.67 seconds\n",
            "train-loss: 0.23, train-acc-object: 94.15%, train-acc-pose: 87.73%\n",
            "valid-loss: 0.52, valid-acc-object: 83.26%, train-acc-pose: 77.53%\n",
            "\n"
          ]
        },
        {
          "output_type": "stream",
          "name": "stderr",
          "text": [
            "Train loss: 0.24629008769989014: : 124it [00:13,  9.32it/s]\n",
            "29it [00:02, 14.09it/s]\n"
          ]
        },
        {
          "output_type": "stream",
          "name": "stdout",
          "text": [
            "epoch: 22 / 50\n",
            "time: 15.37 seconds\n",
            "train-loss: 0.23, train-acc-object: 94.05%, train-acc-pose: 87.05%\n",
            "valid-loss: 0.52, valid-acc-object: 82.82%, train-acc-pose: 77.42%\n",
            "\n"
          ]
        },
        {
          "output_type": "stream",
          "name": "stderr",
          "text": [
            "Train loss: 0.1853453814983368: : 124it [00:13,  9.11it/s]\n",
            "29it [00:02, 13.92it/s]\n"
          ]
        },
        {
          "output_type": "stream",
          "name": "stdout",
          "text": [
            "epoch: 23 / 50\n",
            "time: 15.71 seconds\n",
            "train-loss: 0.23, train-acc-object: 94.43%, train-acc-pose: 88.28%\n",
            "valid-loss: 0.52, valid-acc-object: 83.26%, train-acc-pose: 77.53%\n",
            "\n"
          ]
        },
        {
          "output_type": "stream",
          "name": "stderr",
          "text": [
            "Train loss: 0.41195082664489746: : 124it [00:13,  9.18it/s]\n",
            "29it [00:03,  8.86it/s]\n"
          ]
        },
        {
          "output_type": "stream",
          "name": "stdout",
          "text": [
            "epoch: 24 / 50\n",
            "time: 16.79 seconds\n",
            "train-loss: 0.23, train-acc-object: 94.15%, train-acc-pose: 88.48%\n",
            "valid-loss: 0.53, valid-acc-object: 82.71%, train-acc-pose: 78.08%\n",
            "\n"
          ]
        },
        {
          "output_type": "stream",
          "name": "stderr",
          "text": [
            "Train loss: 0.13645318150520325: : 124it [00:13,  9.26it/s]\n",
            "29it [00:02, 13.49it/s]\n"
          ]
        },
        {
          "output_type": "stream",
          "name": "stdout",
          "text": [
            "epoch: 25 / 50\n",
            "time: 15.56 seconds\n",
            "train-loss: 0.21, train-acc-object: 95.04%, train-acc-pose: 88.53%\n",
            "valid-loss: 0.53, valid-acc-object: 82.82%, train-acc-pose: 76.65%\n",
            "\n"
          ]
        },
        {
          "output_type": "stream",
          "name": "stderr",
          "text": [
            "Train loss: 0.3072439730167389: : 124it [00:13,  9.20it/s]\n",
            "29it [00:02, 13.68it/s]\n"
          ]
        },
        {
          "output_type": "stream",
          "name": "stdout",
          "text": [
            "epoch: 26 / 50\n",
            "time: 15.62 seconds\n",
            "train-loss: 0.22, train-acc-object: 94.25%, train-acc-pose: 88.68%\n",
            "valid-loss: 0.53, valid-acc-object: 82.82%, train-acc-pose: 77.97%\n",
            "\n"
          ]
        },
        {
          "output_type": "stream",
          "name": "stderr",
          "text": [
            "Train loss: 0.11732913553714752: : 124it [00:13,  9.18it/s]\n",
            "29it [00:02, 13.69it/s]\n"
          ]
        },
        {
          "output_type": "stream",
          "name": "stdout",
          "text": [
            "epoch: 27 / 50\n",
            "time: 15.64 seconds\n",
            "train-loss: 0.22, train-acc-object: 95.06%, train-acc-pose: 88.03%\n",
            "valid-loss: 0.54, valid-acc-object: 83.15%, train-acc-pose: 76.54%\n",
            "\n"
          ]
        },
        {
          "output_type": "stream",
          "name": "stderr",
          "text": [
            "Train loss: 0.2628098726272583: : 124it [00:13,  9.36it/s]\n",
            "29it [00:02, 13.77it/s]\n"
          ]
        },
        {
          "output_type": "stream",
          "name": "stdout",
          "text": [
            "epoch: 28 / 50\n",
            "time: 15.37 seconds\n",
            "train-loss: 0.20, train-acc-object: 94.93%, train-acc-pose: 89.04%\n",
            "valid-loss: 0.52, valid-acc-object: 83.37%, train-acc-pose: 77.97%\n",
            "\n"
          ]
        },
        {
          "output_type": "stream",
          "name": "stderr",
          "text": [
            "Train loss: 0.21997860074043274: : 124it [00:13,  9.11it/s]\n",
            "29it [00:03,  8.85it/s]\n"
          ]
        },
        {
          "output_type": "stream",
          "name": "stdout",
          "text": [
            "epoch: 29 / 50\n",
            "time: 16.90 seconds\n",
            "train-loss: 0.20, train-acc-object: 94.86%, train-acc-pose: 88.89%\n",
            "valid-loss: 0.54, valid-acc-object: 83.04%, train-acc-pose: 77.20%\n",
            "\n"
          ]
        },
        {
          "output_type": "stream",
          "name": "stderr",
          "text": [
            "Train loss: 0.17723596096038818: : 124it [00:13,  9.34it/s]\n",
            "29it [00:02, 13.64it/s]\n"
          ]
        },
        {
          "output_type": "stream",
          "name": "stdout",
          "text": [
            "epoch: 30 / 50\n",
            "time: 15.41 seconds\n",
            "train-loss: 0.21, train-acc-object: 94.71%, train-acc-pose: 88.76%\n",
            "valid-loss: 0.54, valid-acc-object: 83.15%, train-acc-pose: 77.20%\n",
            "\n"
          ]
        },
        {
          "output_type": "stream",
          "name": "stderr",
          "text": [
            "Train loss: 0.11551991105079651: : 124it [00:13,  9.09it/s]\n",
            "29it [00:02, 13.77it/s]\n"
          ]
        },
        {
          "output_type": "stream",
          "name": "stdout",
          "text": [
            "epoch: 31 / 50\n",
            "time: 15.76 seconds\n",
            "train-loss: 0.19, train-acc-object: 95.59%, train-acc-pose: 90.27%\n",
            "valid-loss: 0.54, valid-acc-object: 83.37%, train-acc-pose: 77.53%\n",
            "\n"
          ]
        },
        {
          "output_type": "stream",
          "name": "stderr",
          "text": [
            "Train loss: 0.28325730562210083: : 124it [00:13,  9.47it/s]\n",
            "29it [00:02, 14.15it/s]\n"
          ]
        },
        {
          "output_type": "stream",
          "name": "stdout",
          "text": [
            "epoch: 32 / 50\n",
            "time: 15.16 seconds\n",
            "train-loss: 0.18, train-acc-object: 95.54%, train-acc-pose: 90.32%\n",
            "valid-loss: 0.54, valid-acc-object: 83.59%, train-acc-pose: 76.87%\n",
            "\n"
          ]
        },
        {
          "output_type": "stream",
          "name": "stderr",
          "text": [
            "Train loss: 0.14628222584724426: : 124it [00:13,  9.43it/s]\n",
            "29it [00:02, 13.78it/s]\n"
          ]
        },
        {
          "output_type": "stream",
          "name": "stdout",
          "text": [
            "epoch: 33 / 50\n",
            "time: 15.27 seconds\n",
            "train-loss: 0.18, train-acc-object: 95.92%, train-acc-pose: 89.89%\n",
            "valid-loss: 0.53, valid-acc-object: 83.92%, train-acc-pose: 78.63%\n",
            "\n"
          ]
        },
        {
          "output_type": "stream",
          "name": "stderr",
          "text": [
            "Train loss: 0.10471663624048233: : 124it [00:13,  9.25it/s]\n",
            "29it [00:03,  9.08it/s]\n"
          ]
        },
        {
          "output_type": "stream",
          "name": "stdout",
          "text": [
            "epoch: 34 / 50\n",
            "time: 16.62 seconds\n",
            "train-loss: 0.18, train-acc-object: 95.69%, train-acc-pose: 90.05%\n",
            "valid-loss: 0.54, valid-acc-object: 83.48%, train-acc-pose: 77.31%\n",
            "\n"
          ]
        },
        {
          "output_type": "stream",
          "name": "stderr",
          "text": [
            "Train loss: 0.19125622510910034: : 124it [00:13,  9.03it/s]\n",
            "29it [00:02, 13.43it/s]\n"
          ]
        },
        {
          "output_type": "stream",
          "name": "stdout",
          "text": [
            "epoch: 35 / 50\n",
            "time: 15.90 seconds\n",
            "train-loss: 0.17, train-acc-object: 96.32%, train-acc-pose: 91.08%\n",
            "valid-loss: 0.54, valid-acc-object: 83.26%, train-acc-pose: 78.08%\n",
            "\n"
          ]
        },
        {
          "output_type": "stream",
          "name": "stderr",
          "text": [
            "Train loss: 0.147583469748497: : 124it [00:13,  9.05it/s]\n",
            "29it [00:02, 13.71it/s]\n"
          ]
        },
        {
          "output_type": "stream",
          "name": "stdout",
          "text": [
            "epoch: 36 / 50\n",
            "time: 15.84 seconds\n",
            "train-loss: 0.18, train-acc-object: 96.27%, train-acc-pose: 90.25%\n",
            "valid-loss: 0.53, valid-acc-object: 83.15%, train-acc-pose: 78.30%\n",
            "\n"
          ]
        },
        {
          "output_type": "stream",
          "name": "stderr",
          "text": [
            "Train loss: 0.1372205913066864: : 124it [00:13,  9.21it/s]\n",
            "29it [00:02, 13.91it/s]\n"
          ]
        },
        {
          "output_type": "stream",
          "name": "stdout",
          "text": [
            "epoch: 37 / 50\n",
            "time: 15.57 seconds\n",
            "train-loss: 0.17, train-acc-object: 95.56%, train-acc-pose: 90.93%\n",
            "valid-loss: 0.53, valid-acc-object: 83.70%, train-acc-pose: 79.63%\n",
            "\n"
          ]
        },
        {
          "output_type": "stream",
          "name": "stderr",
          "text": [
            "Train loss: 0.1100793108344078: : 124it [00:13,  9.15it/s]\n",
            "29it [00:02, 12.44it/s]\n"
          ]
        },
        {
          "output_type": "stream",
          "name": "stdout",
          "text": [
            "epoch: 38 / 50\n",
            "time: 15.90 seconds\n",
            "train-loss: 0.17, train-acc-object: 96.07%, train-acc-pose: 90.83%\n",
            "valid-loss: 0.55, valid-acc-object: 83.70%, train-acc-pose: 79.19%\n",
            "\n"
          ]
        },
        {
          "output_type": "stream",
          "name": "stderr",
          "text": [
            "Train loss: 0.15112824738025665: : 124it [00:13,  9.20it/s]\n",
            "29it [00:02,  9.74it/s]\n"
          ]
        },
        {
          "output_type": "stream",
          "name": "stdout",
          "text": [
            "epoch: 39 / 50\n",
            "time: 16.47 seconds\n",
            "train-loss: 0.17, train-acc-object: 96.40%, train-acc-pose: 90.88%\n",
            "valid-loss: 0.55, valid-acc-object: 83.48%, train-acc-pose: 79.07%\n",
            "\n"
          ]
        },
        {
          "output_type": "stream",
          "name": "stderr",
          "text": [
            "Train loss: 0.23423302173614502: : 124it [00:13,  9.13it/s]\n",
            "29it [00:02, 13.31it/s]\n"
          ]
        },
        {
          "output_type": "stream",
          "name": "stdout",
          "text": [
            "epoch: 40 / 50\n",
            "time: 15.79 seconds\n",
            "train-loss: 0.16, train-acc-object: 96.07%, train-acc-pose: 91.08%\n",
            "valid-loss: 0.55, valid-acc-object: 83.70%, train-acc-pose: 78.96%\n",
            "\n"
          ]
        },
        {
          "output_type": "stream",
          "name": "stderr",
          "text": [
            "Train loss: 0.20888277888298035: : 124it [00:13,  9.01it/s]\n",
            "29it [00:02, 13.69it/s]\n"
          ]
        },
        {
          "output_type": "stream",
          "name": "stdout",
          "text": [
            "epoch: 41 / 50\n",
            "time: 15.90 seconds\n",
            "train-loss: 0.16, train-acc-object: 95.69%, train-acc-pose: 91.68%\n",
            "valid-loss: 0.55, valid-acc-object: 83.70%, train-acc-pose: 79.41%\n",
            "\n"
          ]
        },
        {
          "output_type": "stream",
          "name": "stderr",
          "text": [
            "Train loss: 0.2266043722629547: : 124it [00:13,  9.09it/s]\n",
            "29it [00:02, 13.78it/s]\n"
          ]
        },
        {
          "output_type": "stream",
          "name": "stdout",
          "text": [
            "epoch: 42 / 50\n",
            "time: 15.77 seconds\n",
            "train-loss: 0.17, train-acc-object: 96.07%, train-acc-pose: 90.73%\n",
            "valid-loss: 0.55, valid-acc-object: 83.81%, train-acc-pose: 78.74%\n",
            "\n"
          ]
        },
        {
          "output_type": "stream",
          "name": "stderr",
          "text": [
            "Train loss: 0.15014687180519104: : 124it [00:13,  9.10it/s]\n",
            "29it [00:02, 10.25it/s]\n"
          ]
        },
        {
          "output_type": "stream",
          "name": "stdout",
          "text": [
            "epoch: 43 / 50\n",
            "time: 16.47 seconds\n",
            "train-loss: 0.16, train-acc-object: 96.70%, train-acc-pose: 91.58%\n",
            "valid-loss: 0.54, valid-acc-object: 84.36%, train-acc-pose: 78.63%\n",
            "\n"
          ]
        },
        {
          "output_type": "stream",
          "name": "stderr",
          "text": [
            "Train loss: 0.24061891436576843: : 124it [00:13,  9.09it/s]\n",
            "29it [00:02, 12.71it/s]\n"
          ]
        },
        {
          "output_type": "stream",
          "name": "stdout",
          "text": [
            "epoch: 44 / 50\n",
            "time: 15.94 seconds\n",
            "train-loss: 0.16, train-acc-object: 96.37%, train-acc-pose: 91.28%\n",
            "valid-loss: 0.55, valid-acc-object: 83.59%, train-acc-pose: 79.07%\n",
            "\n"
          ]
        },
        {
          "output_type": "stream",
          "name": "stderr",
          "text": [
            "Train loss: 0.15253224968910217: : 124it [00:13,  9.12it/s]\n",
            "29it [00:02, 13.70it/s]\n"
          ]
        },
        {
          "output_type": "stream",
          "name": "stdout",
          "text": [
            "epoch: 45 / 50\n",
            "time: 15.73 seconds\n",
            "train-loss: 0.16, train-acc-object: 96.22%, train-acc-pose: 91.51%\n",
            "valid-loss: 0.56, valid-acc-object: 83.70%, train-acc-pose: 78.19%\n",
            "\n"
          ]
        },
        {
          "output_type": "stream",
          "name": "stderr",
          "text": [
            "Train loss: 0.1631481945514679: : 124it [00:13,  9.08it/s]\n",
            "29it [00:02, 13.38it/s]\n"
          ]
        },
        {
          "output_type": "stream",
          "name": "stdout",
          "text": [
            "epoch: 46 / 50\n",
            "time: 15.83 seconds\n",
            "train-loss: 0.15, train-acc-object: 96.12%, train-acc-pose: 92.11%\n",
            "valid-loss: 0.55, valid-acc-object: 83.59%, train-acc-pose: 79.52%\n",
            "\n"
          ]
        },
        {
          "output_type": "stream",
          "name": "stderr",
          "text": [
            "Train loss: 0.10667335242033005: : 124it [00:13,  9.10it/s]\n",
            "29it [00:02, 13.72it/s]\n"
          ]
        },
        {
          "output_type": "stream",
          "name": "stdout",
          "text": [
            "epoch: 47 / 50\n",
            "time: 15.75 seconds\n",
            "train-loss: 0.15, train-acc-object: 96.19%, train-acc-pose: 91.23%\n",
            "valid-loss: 0.55, valid-acc-object: 83.70%, train-acc-pose: 78.74%\n",
            "\n"
          ]
        },
        {
          "output_type": "stream",
          "name": "stderr",
          "text": [
            "Train loss: 0.08499102294445038: : 124it [00:13,  9.07it/s]\n",
            "29it [00:03,  8.97it/s]\n"
          ]
        },
        {
          "output_type": "stream",
          "name": "stdout",
          "text": [
            "epoch: 48 / 50\n",
            "time: 16.93 seconds\n",
            "train-loss: 0.15, train-acc-object: 96.17%, train-acc-pose: 91.94%\n",
            "valid-loss: 0.55, valid-acc-object: 83.70%, train-acc-pose: 78.74%\n",
            "\n"
          ]
        },
        {
          "output_type": "stream",
          "name": "stderr",
          "text": [
            "Train loss: 0.11001236736774445: : 124it [00:13,  9.08it/s]\n",
            "29it [00:02, 13.63it/s]\n"
          ]
        },
        {
          "output_type": "stream",
          "name": "stdout",
          "text": [
            "epoch: 49 / 50\n",
            "time: 15.80 seconds\n",
            "train-loss: 0.15, train-acc-object: 96.62%, train-acc-pose: 91.31%\n",
            "valid-loss: 0.55, valid-acc-object: 84.36%, train-acc-pose: 79.07%\n",
            "\n"
          ]
        },
        {
          "output_type": "stream",
          "name": "stderr",
          "text": [
            "Train loss: 0.12206311523914337: : 124it [00:13,  9.01it/s]\n",
            "29it [00:02, 13.65it/s]"
          ]
        },
        {
          "output_type": "stream",
          "name": "stdout",
          "text": [
            "epoch: 50 / 50\n",
            "time: 15.90 seconds\n",
            "train-loss: 0.15, train-acc-object: 96.24%, train-acc-pose: 91.78%\n",
            "valid-loss: 0.55, valid-acc-object: 83.70%, train-acc-pose: 79.41%\n",
            "\n"
          ]
        },
        {
          "output_type": "stream",
          "name": "stderr",
          "text": [
            "\n"
          ]
        }
      ]
    },
    {
      "cell_type": "code",
      "source": [
        "def smooth(x, w=0):\n",
        "    last = x[0]\n",
        "    smoothed = []\n",
        "    for point in x:\n",
        "      smoothed_val = w * last + (1 - w) * point\n",
        "      smoothed.append(smoothed_val)\n",
        "      ast = smoothed_val\n",
        "          \n",
        "    return smoothed\n",
        "\n",
        "history3 = trainer3.getHistory()\n",
        "trainer3.showResults()"
      ],
      "metadata": {
        "id": "3XJmF6X3UKYt",
        "outputId": "45c70c93-3df1-48c0-97ba-fa381a06b9d4",
        "colab": {
          "base_uri": "https://localhost:8080/",
          "height": 314
        }
      },
      "execution_count": 21,
      "outputs": [
        {
          "output_type": "display_data",
          "data": {
            "text/plain": [
              "<Figure size 1008x288 with 2 Axes>"
            ],
            "image/png": "[encoded data removed]"
          },
          "metadata": {}
        }
      ]
    },
    {
      "cell_type": "code",
      "source": [
        "trainer3.generateConfusionMatrix()"
      ],
      "metadata": {
        "id": "VXQPjIZWUZlq",
        "outputId": "16888364-b862-4178-d2fb-f746a9617daa",
        "colab": {
          "base_uri": "https://localhost:8080/",
          "height": 527
        }
      },
      "execution_count": 22,
      "outputs": [
        {
          "output_type": "stream",
          "name": "stdout",
          "text": [
            "best model was trained at epoch: 43\n",
            "with a validation loss of: 0.5436143 and a validation accuracy of: 84.36123132705688\n"
          ]
        },
        {
          "output_type": "display_data",
          "data": {
            "text/plain": [
              "<Figure size 864x504 with 1 Axes>"
            ],
            "image/png": "[encoded data removed]"
          },
          "metadata": {}
        }
      ]
    },
    {
      "cell_type": "code",
      "source": [
        "trainer3.missing_data_test()"
      ],
      "metadata": {
        "id": "ektxV3YdUhzE",
        "outputId": "bb634860-1288-45f3-8593-60703b5ac165",
        "colab": {
          "base_uri": "https://localhost:8080/",
          "height": 165
        }
      },
      "execution_count": null,
      "outputs": [
        {
          "output_type": "error",
          "ename": "NameError",
          "evalue": "ignored",
          "traceback": [
            "\u001b[0;31m---------------------------------------------------------------------------\u001b[0m",
            "\u001b[0;31mNameError\u001b[0m                                 Traceback (most recent call last)",
            "\u001b[0;32m<ipython-input-1-61835d7252c7>\u001b[0m in \u001b[0;36m<module>\u001b[0;34m\u001b[0m\n\u001b[0;32m----> 1\u001b[0;31m \u001b[0mtrainer3\u001b[0m\u001b[0;34m.\u001b[0m\u001b[0mmissing_data_test\u001b[0m\u001b[0;34m(\u001b[0m\u001b[0;34m)\u001b[0m\u001b[0;34m\u001b[0m\u001b[0;34m\u001b[0m\u001b[0m\n\u001b[0m",
            "\u001b[0;31mNameError\u001b[0m: name 'trainer3' is not defined"
          ]
        }
      ]
    },
    {
      "cell_type": "markdown",
      "source": [
        "# VoxNet model comparison"
      ],
      "metadata": {
        "id": "WLvqsX2ZhV6e"
      }
    },
    {
      "cell_type": "code",
      "source": [
        "def smooth(x, w=0):\n",
        "    last = x[0]\n",
        "    smoothed = []\n",
        "    for point in x:\n",
        "      smoothed_val = w * last + (1 - w) * point\n",
        "      smoothed.append(smoothed_val)\n",
        "      ast = smoothed_val\n",
        "          \n",
        "    return smoothed\n",
        "\n",
        "eps = range(0, len(history1[\"train_loss\"].cpu()))\n",
        "        \n",
        "sns.set_theme()\n",
        "fig, ax = plt.subplots(2, 2, figsize=(20, 10))\n",
        "fig.suptitle('Results')\n",
        "        \n",
        "ax[0,0].plot(eps, smooth(history1[\"train_loss\"].cpu()), 'g', label='Training Loss VoxNet')\n",
        "ax[0,0].plot(eps, smooth(history2[\"train_loss\"].cpu()), 'b', label='Training Loss BVoxNet')\n",
        "ax[0,0].plot(eps, smooth(history3[\"train_loss\"].cpu()), 'r', label='Training Loss DMPVoxNet')\n",
        "ax[0,0].set_title('Training Loss History')\n",
        "ax[0,0].set(xlabel='Epochs', ylabel='Loss')\n",
        "ax[0,0].legend()\n",
        "        \n",
        "ax[0,1].plot(eps, smooth(history1[\"valid_loss\"].cpu()), 'g', label='Valid Loss VoxNet')\n",
        "ax[0,1].plot(eps, smooth(history2[\"valid_loss\"].cpu()), 'b', label='Valid Loss BVoxNet')\n",
        "ax[0,1].plot(eps, smooth(history3[\"valid_loss\"].cpu()), 'r', label='Valid Loss DMPVoxNet')\n",
        "ax[0,1].set_title('Valid Loss History')\n",
        "ax[0,1].set(xlabel='Epochs', ylabel='Loss')\n",
        "ax[0,1].legend()\n",
        "\n",
        "ax[1,0].plot(eps, smooth(history1[\"train_acc1\"].cpu()), 'g', label='Training Accuracy VoxNet')\n",
        "ax[1,0].plot(eps, smooth(history2[\"train_acc1\"].cpu()), 'b', label='Training Accuracy BVoxNet')\n",
        "ax[1,0].plot(eps, smooth(history3[\"train_acc1\"].cpu()), 'r', label='Training Accuracy DMPVoxNet')\n",
        "ax[1,0].set_title('Training Accuracy History')\n",
        "ax[1,0].set(xlabel='Epochs', ylabel='Accuracy')\n",
        "ax[1,0].legend()\n",
        "\n",
        "ax[1,1].plot(eps, smooth(history1[\"valid_acc1\"].cpu()), 'g', label='Valid Accuracy VoxNet')\n",
        "ax[1,1].plot(eps, smooth(history2[\"valid_acc1\"].cpu()), 'b', label='Valid Accuracy BVoxNet')\n",
        "ax[1,1].plot(eps, smooth(history3[\"valid_acc1\"].cpu()), 'r', label='Valid Accuracy DMPVoxNet')\n",
        "ax[1,1].set_title('Valid Accuracy History')\n",
        "ax[1,1].set(xlabel='Epochs', ylabel='Accuracy')\n",
        "ax[1,1].legend()"
      ],
      "metadata": {
        "id": "01eRVcGrA8c3",
        "outputId": "1e6f09be-69bd-4965-9be1-5faf99ceabfb",
        "colab": {
          "base_uri": "https://localhost:8080/",
          "height": 701
        }
      },
      "execution_count": 23,
      "outputs": [
        {
          "output_type": "execute_result",
          "data": {
            "text/plain": [
              "<matplotlib.legend.Legend at 0x7fdc0cb73670>"
            ]
          },
          "metadata": {},
          "execution_count": 23
        },
        {
          "output_type": "display_data",
          "data": {
            "text/plain": [
              "<Figure size 1440x720 with 4 Axes>"
            ],
            "image/png": "[encoded data removed]"
          },
          "metadata": {}
        }
      ]
    },
    {
      "cell_type": "markdown",
      "source": [
        "# PointNet"
      ],
      "metadata": {
        "id": "lXW9DHjvDXRv"
      }
    },
    {
      "cell_type": "code",
      "source": [
        "import os\n",
        "import random\n",
        "import math\n",
        "\n",
        "!pip install path.py;\n",
        "from path import Path\n",
        "\n",
        "path = Path(\"ModelNet10\")\n",
        "\n",
        "folders = [dir for dir in sorted(os.listdir(path)) if os.path.isdir(path/dir)]\n",
        "classes = {folder: i for i, folder in enumerate(folders)};\n",
        "\n",
        "def read_off(file):\n",
        "    if 'OFF' != file.readline().strip():\n",
        "        raise('Not a valid OFF header')\n",
        "    n_verts, n_faces, __ = tuple([int(s) for s in file.readline().strip().split(' ')])\n",
        "    verts = [[float(s) for s in file.readline().strip().split(' ')] for i_vert in range(n_verts)]\n",
        "    faces = [[int(s) for s in file.readline().strip().split(' ')][1:] for i_face in range(n_faces)]\n",
        "    return verts, faces"
      ],
      "metadata": {
        "colab": {
          "base_uri": "https://localhost:8080/"
        },
        "id": "CHQA_PqX__lv",
        "outputId": "9c315944-151c-4ecb-b55f-bfb16af066c7"
      },
      "execution_count": null,
      "outputs": [
        {
          "output_type": "stream",
          "name": "stdout",
          "text": [
            "Looking in indexes: https://pypi.org/simple, https://us-python.pkg.dev/colab-wheels/public/simple/\n",
            "Collecting path.py\n",
            "  Downloading path.py-12.5.0-py3-none-any.whl (2.3 kB)\n",
            "Collecting path\n",
            "  Downloading path-16.6.0-py3-none-any.whl (26 kB)\n",
            "Installing collected packages: path, path.py\n",
            "Successfully installed path-16.6.0 path.py-12.5.0\n"
          ]
        }
      ]
    },
    {
      "cell_type": "code",
      "source": [
        "class PointSampler(object):\n",
        "    def __init__(self, output_size):\n",
        "        assert isinstance(output_size, int)\n",
        "        self.output_size = output_size\n",
        "    \n",
        "    def triangle_area(self, pt1, pt2, pt3):\n",
        "        side_a = np.linalg.norm(pt1 - pt2)\n",
        "        side_b = np.linalg.norm(pt2 - pt3)\n",
        "        side_c = np.linalg.norm(pt3 - pt1)\n",
        "        s = 0.5 * ( side_a + side_b + side_c)\n",
        "        return max(s * (s - side_a) * (s - side_b) * (s - side_c), 0)**0.5\n",
        "\n",
        "    def sample_point(self, pt1, pt2, pt3):\n",
        "        # barycentric coordinates on a triangle\n",
        "        # https://mathworld.wolfram.com/BarycentricCoordinates.html\n",
        "        s, t = sorted([random.random(), random.random()])\n",
        "        f = lambda i: s * pt1[i] + (t-s)*pt2[i] + (1-t)*pt3[i]\n",
        "        return (f(0), f(1), f(2))\n",
        "        \n",
        "    \n",
        "    def __call__(self, mesh):\n",
        "        verts, faces = mesh\n",
        "        verts = np.array(verts)\n",
        "        areas = np.zeros((len(faces)))\n",
        "\n",
        "        for i in range(len(areas)):\n",
        "            areas[i] = (self.triangle_area(verts[faces[i][0]], verts[faces[i][1]], verts[faces[i][2]]))\n",
        "            \n",
        "        sampled_faces = (random.choices(faces, weights=areas, cum_weights=None, k=self.output_size))\n",
        "        \n",
        "        sampled_points = np.zeros((self.output_size, 3))\n",
        "\n",
        "        for i in range(len(sampled_faces)):\n",
        "            sampled_points[i] = (self.sample_point(verts[sampled_faces[i][0]], verts[sampled_faces[i][1]], verts[sampled_faces[i][2]]))\n",
        "        \n",
        "        return sampled_points\n",
        "\n",
        "\n",
        "class Normalize(object):\n",
        "    def __call__(self, pointcloud):\n",
        "        assert len(pointcloud.shape)==2\n",
        "        \n",
        "        norm_pointcloud = pointcloud - np.mean(pointcloud, axis=0) \n",
        "        norm_pointcloud /= np.max(np.linalg.norm(norm_pointcloud, axis=1))\n",
        "\n",
        "        return  norm_pointcloud\n",
        "\n",
        "class RandRotation_z(object):\n",
        "    def __call__(self, pointcloud):\n",
        "        assert len(pointcloud.shape)==2\n",
        "\n",
        "        theta = random.random() * 2. * math.pi\n",
        "        rot_matrix = np.array([[ math.cos(theta), -math.sin(theta),    0],\n",
        "                               [ math.sin(theta),  math.cos(theta),    0],\n",
        "                               [0,                             0,      1]])\n",
        "        \n",
        "        rot_pointcloud = rot_matrix.dot(pointcloud.T).T\n",
        "        return  rot_pointcloud\n",
        "    \n",
        "class RandomNoise(object):\n",
        "    def __call__(self, pointcloud):\n",
        "        assert len(pointcloud.shape)==2\n",
        "\n",
        "        noise = np.random.normal(0, 0.02, (pointcloud.shape))\n",
        "    \n",
        "        noisy_pointcloud = pointcloud + noise\n",
        "        return  noisy_pointcloud\n",
        "\n",
        "class ToTensor(object):\n",
        "    def __call__(self, pointcloud):\n",
        "        assert len(pointcloud.shape)==2\n",
        "\n",
        "        return torch.from_numpy(pointcloud)"
      ],
      "metadata": {
        "id": "9sth9zUqAXB2"
      },
      "execution_count": null,
      "outputs": []
    },
    {
      "cell_type": "code",
      "source": [
        "def default_transforms():\n",
        "    return transforms.Compose([PointSampler(1024),\n",
        "                                Normalize(),\n",
        "                                ToTensor()\n",
        "                              ])"
      ],
      "metadata": {
        "id": "tn-WdIPaAjcr"
      },
      "execution_count": null,
      "outputs": []
    },
    {
      "cell_type": "code",
      "source": [
        "from torch.utils.data import Dataset, DataLoader\n",
        "from torchvision import transforms, utils\n",
        "class PointCloudData(Dataset):\n",
        "    def __init__(self, root_dir, valid=False, folder=\"train\", transform=default_transforms()):\n",
        "        self.root_dir = root_dir\n",
        "        folders = [dir for dir in sorted(os.listdir(root_dir)) if os.path.isdir(root_dir/dir)]\n",
        "        self.classes = {folder: i for i, folder in enumerate(folders)}\n",
        "        self.transforms = transform if not valid else default_transforms()\n",
        "        self.valid = valid\n",
        "        self.files = []\n",
        "        for category in self.classes.keys():\n",
        "            new_dir = root_dir/Path(category)/folder\n",
        "            for file in os.listdir(new_dir):\n",
        "                if file.endswith('.off'):\n",
        "                    sample = {}\n",
        "                    sample['pcd_path'] = new_dir/file\n",
        "                    sample['category'] = category\n",
        "                    self.files.append(sample)\n",
        "\n",
        "    def __len__(self):\n",
        "        return len(self.files)\n",
        "\n",
        "    def __preproc__(self, file):\n",
        "        verts, faces = read_off(file)\n",
        "        if self.transforms:\n",
        "            pointcloud = self.transforms((verts, faces))\n",
        "        return pointcloud\n",
        "\n",
        "    def __getitem__(self, idx):\n",
        "        pcd_path = self.files[idx]['pcd_path']\n",
        "        category = self.files[idx]['category']\n",
        "        with open(pcd_path, 'r') as f:\n",
        "            pointcloud = self.__preproc__(f)\n",
        "        return {'pointcloud': pointcloud, 'category': self.classes[category]}"
      ],
      "metadata": {
        "id": "W1FJfREUA4wD"
      },
      "execution_count": null,
      "outputs": []
    },
    {
      "cell_type": "code",
      "source": [
        "train_transforms = transforms.Compose([\n",
        "                    PointSampler(1024),\n",
        "                    Normalize(),\n",
        "                    RandRotation_z(),\n",
        "                    RandomNoise(),\n",
        "                    ToTensor()\n",
        "                    ])"
      ],
      "metadata": {
        "id": "rQXlaI5oBAkz"
      },
      "execution_count": null,
      "outputs": []
    },
    {
      "cell_type": "code",
      "source": [
        "import torch\n",
        "import torch.nn as nn\n",
        "import numpy as np\n",
        "import torch.nn.functional as F\n",
        "\n",
        "class Tnet(nn.Module):\n",
        "   def __init__(self, k=3):\n",
        "      super().__init__()\n",
        "      self.k=k\n",
        "      self.conv1 = nn.Conv1d(k,64,1)\n",
        "      self.conv2 = nn.Conv1d(64,128,1)\n",
        "      self.conv3 = nn.Conv1d(128,1024,1)\n",
        "      self.fc1 = nn.Linear(1024,512)\n",
        "      self.fc2 = nn.Linear(512,256)\n",
        "      self.fc3 = nn.Linear(256,k*k)\n",
        "\n",
        "      self.bn1 = nn.BatchNorm1d(64)\n",
        "      self.bn2 = nn.BatchNorm1d(128)\n",
        "      self.bn3 = nn.BatchNorm1d(1024)\n",
        "      self.bn4 = nn.BatchNorm1d(512)\n",
        "      self.bn5 = nn.BatchNorm1d(256)\n",
        "       \n",
        "\n",
        "   def forward(self, input):\n",
        "      # input.shape == (bs,n,3)\n",
        "      bs = input.size(0)\n",
        "      xb = F.relu(self.bn1(self.conv1(input)))\n",
        "      xb = F.relu(self.bn2(self.conv2(xb)))\n",
        "      xb = F.relu(self.bn3(self.conv3(xb)))\n",
        "      pool = nn.MaxPool1d(xb.size(-1))(xb)\n",
        "      flat = nn.Flatten(1)(pool)\n",
        "      xb = F.relu(self.bn4(self.fc1(flat)))\n",
        "      xb = F.relu(self.bn5(self.fc2(xb)))\n",
        "      \n",
        "      #initialize as identity\n",
        "      init = torch.eye(self.k, requires_grad=True).repeat(bs,1,1)\n",
        "      if xb.is_cuda:\n",
        "        init=init.cuda()\n",
        "      matrix = self.fc3(xb).view(-1,self.k,self.k) + init\n",
        "      return matrix\n",
        "\n",
        "\n",
        "class Transform(nn.Module):\n",
        "   def __init__(self):\n",
        "        super().__init__()\n",
        "        self.input_transform = Tnet(k=3)\n",
        "        self.feature_transform = Tnet(k=64)\n",
        "        self.conv1 = nn.Conv1d(3,64,1)\n",
        "\n",
        "        self.conv2 = nn.Conv1d(64,128,1)\n",
        "        self.conv3 = nn.Conv1d(128,1024,1)\n",
        "       \n",
        "\n",
        "        self.bn1 = nn.BatchNorm1d(64)\n",
        "        self.bn2 = nn.BatchNorm1d(128)\n",
        "        self.bn3 = nn.BatchNorm1d(1024)\n",
        "       \n",
        "   def forward(self, input):\n",
        "        matrix3x3 = self.input_transform(input)\n",
        "        # batch matrix multiplication\n",
        "        xb = torch.bmm(torch.transpose(input,1,2), matrix3x3).transpose(1,2)\n",
        "\n",
        "        xb = F.relu(self.bn1(self.conv1(xb)))\n",
        "\n",
        "        matrix64x64 = self.feature_transform(xb)\n",
        "        xb = torch.bmm(torch.transpose(xb,1,2), matrix64x64).transpose(1,2)\n",
        "\n",
        "        xb = F.relu(self.bn2(self.conv2(xb)))\n",
        "        xb = self.bn3(self.conv3(xb))\n",
        "        xb = nn.MaxPool1d(xb.size(-1))(xb)\n",
        "        output = nn.Flatten(1)(xb)\n",
        "        return output, matrix3x3, matrix64x64\n",
        "\n",
        "class PointNet(nn.Module):\n",
        "    def __init__(self, classes = 10):\n",
        "        super().__init__()\n",
        "        self.transform = Transform()\n",
        "        self.fc1 = nn.Linear(1024, 512)\n",
        "        self.fc2 = nn.Linear(512, 256)\n",
        "        self.fc3 = nn.Linear(256, classes)\n",
        "        \n",
        "\n",
        "        self.bn1 = nn.BatchNorm1d(512)\n",
        "        self.bn2 = nn.BatchNorm1d(256)\n",
        "        self.dropout = nn.Dropout(p=0.3)\n",
        "        self.logsoftmax = nn.LogSoftmax(dim=1)\n",
        "\n",
        "    def forward(self, input):\n",
        "        xb, matrix3x3, matrix64x64 = self.transform(input)\n",
        "        xb = F.relu(self.bn1(self.fc1(xb)))\n",
        "        xb = F.relu(self.bn2(self.dropout(self.fc2(xb))))\n",
        "        output = self.fc3(xb)\n",
        "        return self.logsoftmax(output), matrix3x3, matrix64x64"
      ],
      "metadata": {
        "id": "Yqn1xNHOBLIE"
      },
      "execution_count": null,
      "outputs": []
    },
    {
      "cell_type": "code",
      "source": [
        "def pointnetloss(outputs, labels, m3x3, m64x64, alpha = 0.0001):\n",
        "    criterion = torch.nn.NLLLoss()\n",
        "    bs=outputs.size(0)\n",
        "    id3x3 = torch.eye(3, requires_grad=True).repeat(bs,1,1)\n",
        "    id64x64 = torch.eye(64, requires_grad=True).repeat(bs,1,1)\n",
        "    if outputs.is_cuda:\n",
        "        id3x3=id3x3.cuda()\n",
        "        id64x64=id64x64.cuda()\n",
        "    diff3x3 = id3x3-torch.bmm(m3x3,m3x3.transpose(1,2))\n",
        "    diff64x64 = id64x64-torch.bmm(m64x64,m64x64.transpose(1,2))\n",
        "    return criterion(outputs, labels) + alpha * (torch.norm(diff3x3)+torch.norm(diff64x64)) / float(bs)"
      ],
      "metadata": {
        "id": "LE_Wi6HiBQrK"
      },
      "execution_count": null,
      "outputs": []
    },
    {
      "cell_type": "code",
      "source": [
        "from torch.optim import SGD, Adam\n",
        "from torch.nn import BCEWithLogitsLoss\n",
        "from tqdm import tqdm\n",
        "\n",
        "class PointNet_Trainer():\n",
        "  def __init__(self, hyperparameters):\n",
        "      #Hypreparameters\n",
        "      self.learning_rate = hyperparameters[\"learning_rate\"]\n",
        "      self.batch_size_train = hyperparameters[\"train_batch_size\"]\n",
        "      self.batch_size_test = hyperparameters[\"valid_batch_size\"]\n",
        "      self.data_size = hyperparameters[\"data_size\"]\n",
        "      self.device = torch.device(\"cuda:0\" if torch.cuda.is_available() else \"cpu\")\n",
        "      self.epochs = hyperparameters[\"epochs\"]\n",
        "      \n",
        "      #Dataset\n",
        "      self.initDataset()\n",
        "      self.class_names = [\"bathtub\", \"bed\", \"chair\", \"desk\", \"dresser\", \"monitor\", \"night_stand\", \"sofa\", \"table\", \"toilet\"]\n",
        "      self.num_classes = len(self.class_names)\n",
        "\n",
        "      #Model\n",
        "      self.initModel(hyperparameters)\n",
        "  \n",
        "  def initDataset(self):\n",
        "      self.train_ds = PointCloudData(path, transform=train_transforms)\n",
        "      self.test_ds = PointCloudData(path, valid=True, folder='test', transform=train_transforms)\n",
        "      self.train_dataloader = DataLoader(dataset=self.train_ds, batch_size=self.batch_size_train, shuffle=True, drop_last=True)\n",
        "      self.test_dataloader = DataLoader(dataset=self.test_ds, batch_size=self.batch_size_test)\n",
        "\n",
        "  def initModel(self, hyperparameters):\n",
        "      self.model = PointNet()\n",
        "      print(\"model PointNet was chosen\")\n",
        "      self.device = \"cuda\" if torch.cuda.is_available() else \"cpu\"\n",
        "      self.model.to(self.device)\n",
        "      self.opt = torch.optim.Adam(self.model.parameters(), lr=self.learning_rate)\n",
        "\n",
        "  def train(self):\n",
        "      self.pred_conf, self.y_conf = [], []                                                           \n",
        "      train_loss_history, valid_loss_history1 = [], []\n",
        "      train_acc_history1, valid_acc_history1 = [], []\n",
        "      train_accuracy = Accuracy(task='multiclass', num_classes=10)\n",
        "      valid_accuracy = Accuracy(task='multiclass', num_classes=10)\n",
        "\n",
        "      self.num_batch = len(self.train_ds) / self.batch_size_train\n",
        "      print(self.num_batch)\n",
        "\n",
        "      total_time = time.time()\n",
        "\n",
        "      for epoch in range(self.epochs):\n",
        "          t = time.time()\n",
        "\n",
        "          train_loss = []                                                         #track training loss\n",
        "          valid_loss = []\n",
        "          self.model.train()\n",
        "          iterator = tqdm(enumerate(self.train_dataloader, 0))\n",
        "          for i, data in iterator:\n",
        "              inputs, labels = data['pointcloud'].to(self.device).float(), data['category'].to(self.device)\n",
        "\n",
        "              self.opt.zero_grad()\n",
        "              outputs, m3x3, m64x64 = self.model(inputs.transpose(1,2))  # torch.Size([256, 10])\n",
        "              loss = pointnetloss(outputs, labels, m3x3, m64x64)\n",
        "              train_loss.append(loss.cpu().data)\n",
        "              train_accuracy.update(torch.argmax(outputs, 1).cpu(), labels.cpu()) \n",
        "\n",
        "              loss.backward()\n",
        "              self.opt.step()\n",
        "              iterator.set_description(f\"Train loss: {loss.cpu().data}\")\n",
        "                      \n",
        "          with torch.no_grad():\n",
        "            self.model.eval()\n",
        "            for j, sample in tqdm(enumerate(self.test_dataloader, 0)):    \n",
        "                inputs_test, labels_test = sample['pointcloud'].to(self.device).float(), sample['category'].to(self.device)\n",
        "                \n",
        "                outputs_test, m3x3, m64x64  = self.model(inputs_test.transpose(1,2))\n",
        "                loss_test = pointnetloss(outputs_test, labels_test, m3x3, m64x64)\n",
        "                valid_loss.append(loss_test.cpu().data)\n",
        "                valid_accuracy.update(torch.argmax(outputs_test, 1).cpu(), labels_test.cpu())\n",
        "                pred_choice_test = outputs_test.data.max(1)[1]\n",
        "\n",
        "                correct_test = pred_choice_test.eq(labels_test.data).cpu().sum()\n",
        "                self.pred_conf.append(torch.argmax(outputs_test, 1))\n",
        "                self.y_conf.append(labels_test)\n",
        "\n",
        "          #compute confusion matrix\n",
        "          a = torch.cat(self.pred_conf).cpu()\n",
        "          b = torch.cat(self.y_conf).cpu()\n",
        "          confmat = ConfusionMatrix(task='multiclass', num_classes=10, normalize=\"true\")\n",
        "          self.conf_matrix = confmat(a, b)\n",
        "          self.conf_matrix = torch.round(self.conf_matrix, decimals=2)\n",
        "\n",
        "          # total accuracy over all batches\n",
        "          total_train_accuracy = train_accuracy.compute()\n",
        "          total_valid_accuracy = valid_accuracy.compute()\n",
        "          train_accuracy.reset()\n",
        "          valid_accuracy.reset()\n",
        "            \n",
        "          #track loss and acc for plotting\n",
        "          train_loss_history.append(torch.mean(torch.tensor(train_loss)))\n",
        "          valid_loss_history.append(torch.mean(torch.tensor(valid_loss)))\n",
        "          train_acc_history.append(total_train_accuracy)\n",
        "          valid_acc_history.append(total_valid_accuracy)\n",
        "            \n",
        "          elapsed_time_epoch = time.time() - t   \n",
        "            \n",
        "          tmp0 = \"epoch:{:3d} /{:3d}\".format(epoch+1, self.epochs)\n",
        "          tmp1 = \"time: {:.2f} seconds\".format(elapsed_time_epoch)\n",
        "          tmp2 = \"train-loss: {:4.2f}, train-acc: {:.2%}\".format(train_loss_history[epoch], train_acc_history[epoch].item())\n",
        "          tmp3 = \"valid-loss: {:4.2f}, valid-acc: {:.2%}\\n\".format(valid_loss_history[epoch], valid_acc_history[epoch].item())\n",
        "          print(tmp0, tmp1, tmp2, tmp3, sep=\"\\n\")\n",
        "          \n",
        "          #save history\n",
        "          self.history = {\"train_loss\": torch.tensor(train_loss_history), \"train_acc\": torch.tensor(train_acc_history), \n",
        "                          \"valid_loss\": torch.tensor(valid_loss_history), \"valid_acc\": torch.tensor(valid_acc_history)}\n",
        "           \n",
        "  def getHistory(self):\n",
        "      return self.history\n",
        "\n",
        "  def generateConfusionMatrix(self):\n",
        "      fig=plt.figure(figsize = (12,7))\n",
        "      sns.heatmap(self.conf_matrix, annot=True, fmt='g', linewidths=.4, cbar=False)\n",
        "      tick_marks = np.arange(len(self.class_names))\n",
        "      plt.xticks(tick_marks, self.class_names, rotation=45)\n",
        "      plt.yticks(tick_marks, self.class_names, rotation=0)\n",
        "      plt.title(\"Confusion Matrix\")     \n",
        "\n",
        "  def getPerClassAccuracy(self):\n",
        "      per_class_accuracy = 100 * torch.diag(self.conf_matrix) / torch.sum(self.conf_matrix, 1)\n",
        "      tmp = {}\n",
        "      for i, x in enumerate(self.class_names):\n",
        "        tmp[x] = per_class_accuracy[i].item()\n",
        "      print(tmp)\n",
        "    \n",
        "  def showResults(self):\n",
        "      eps = range(0, len(self.history[\"train_loss\"].cpu()))\n",
        "        \n",
        "      sns.set_theme()\n",
        "      fig, ax = plt.subplots(1, 2, figsize=(14, 4))\n",
        "      fig.suptitle('Results')\n",
        "        \n",
        "      ax[0].plot(eps, smooth(self.history[\"train_loss\"].cpu()), 'g', label='Training Loss')\n",
        "      ax[0].plot(eps, smooth(self.history[\"valid_loss\"].cpu()), 'b', label='Valid Loss')\n",
        "      ax[0].set_title('Loss History')\n",
        "      ax[0].set(xlabel='Epochs', ylabel='Loss')\n",
        "      ax[0].legend()\n",
        "        \n",
        "      ax[1].plot(eps, smooth(self.history[\"train_acc\"].cpu()), 'g', label='Training Accuracy')\n",
        "      ax[1].plot(eps, smooth(self.history[\"valid_acc\"].cpu()), 'b', label='Valid Accuracy')\n",
        "      ax[1].set_title('Loss History')\n",
        "      ax[1].set(xlabel='Epochs', ylabel='Accuracy')\n",
        "      ax[1].legend()\n",
        "        \n",
        "  def test_on_missing_data(self, missing_rate=0.5):\n",
        "      test_accuracy = Accuracy(task='multiclass', num_classes=10)\n",
        "        \n",
        "      self.model.eval()\n",
        "      for x, y in self.test_dataloader:\n",
        "          x, y = x.to(self.device), y.to(self.device)\n",
        "            \n",
        "          idc = np.random.choice(32**3, size=(int(32**3*missing_rate)), replace=False)\n",
        "          idc_x = idc%32\n",
        "          idc_y = np.floor_divide(idc, 32)%32\n",
        "          idc_z = np.floor_divide(idc, 32*32)%32\n",
        "          x[:, :, idc_x, idc_y, idc_z] = 0\n",
        "            \n",
        "          pred = self.model(x)\n",
        "          test_accuracy.update(torch.argmax(pred, 1).cpu(), y.cpu())\n",
        "            \n",
        "      return test_accuracy.compute()\n",
        "    \n",
        "  def missing_data_test(self):\n",
        "      acc = []\n",
        "      delta = 200\n",
        "      eps = np.linspace(0,0.99,delta)\n",
        "      for x in eps:\n",
        "          tmp = self.test_on_missing_data(x)\n",
        "          acc.append(tmp)\n",
        "            \n",
        "            \n",
        "      sns.set_theme()\n",
        "      plt.figure(figsize=(8, 4))\n",
        "      plt.plot(eps, smooth(acc))\n",
        "      plt.title(\"Missing Data Test\", size=20, y=1.05)\n",
        "      plt.xlabel(\"missing point ratio\", size=15)\n",
        "      plt.ylabel(\"accuracy\", size=15)\n",
        "      plt.show()"
      ],
      "metadata": {
        "id": "hehPV5pOBS8g"
      },
      "execution_count": null,
      "outputs": []
    },
    {
      "cell_type": "code",
      "source": [
        "training_hyperparameters = {\n",
        "    \"learning_rate\": 0.001,\n",
        "    \"data_size\": 32,\n",
        "    \"epochs\": 20,\n",
        "    \"train_batch_size\": 32,\n",
        "    \"valid_batch_size\": 64,\n",
        "}    \n",
        "\n",
        "trainer4 = PointNet_Trainer(training_hyperparameters)\n",
        "trainer4.train()"
      ],
      "metadata": {
        "colab": {
          "base_uri": "https://localhost:8080/",
          "height": 414
        },
        "id": "YwH_dwfpCgnO",
        "outputId": "77cdc0a9-aef0-4451-ca26-b184af8fd736"
      },
      "execution_count": null,
      "outputs": [
        {
          "output_type": "stream",
          "name": "stdout",
          "text": [
            "model PointNet was chosen\n",
            "124.71875\n"
          ]
        },
        {
          "output_type": "stream",
          "name": "stderr",
          "text": [
            "Train loss: 1.6344112157821655: : 7it [01:08,  9.85s/it]\n"
          ]
        },
        {
          "output_type": "error",
          "ename": "KeyboardInterrupt",
          "evalue": "ignored",
          "traceback": [
            "\u001b[0;31m---------------------------------------------------------------------------\u001b[0m",
            "\u001b[0;31mKeyboardInterrupt\u001b[0m                         Traceback (most recent call last)",
            "\u001b[0;32m<ipython-input-60-3adfe926c0ba>\u001b[0m in \u001b[0;36m<module>\u001b[0;34m\u001b[0m\n\u001b[1;32m      8\u001b[0m \u001b[0;34m\u001b[0m\u001b[0m\n\u001b[1;32m      9\u001b[0m \u001b[0mtrainer4\u001b[0m \u001b[0;34m=\u001b[0m \u001b[0mPointNet_Trainer\u001b[0m\u001b[0;34m(\u001b[0m\u001b[0mtraining_hyperparameters\u001b[0m\u001b[0;34m)\u001b[0m\u001b[0;34m\u001b[0m\u001b[0;34m\u001b[0m\u001b[0m\n\u001b[0;32m---> 10\u001b[0;31m \u001b[0mtrainer4\u001b[0m\u001b[0;34m.\u001b[0m\u001b[0mtrain\u001b[0m\u001b[0;34m(\u001b[0m\u001b[0;34m)\u001b[0m\u001b[0;34m\u001b[0m\u001b[0;34m\u001b[0m\u001b[0m\n\u001b[0m",
            "\u001b[0;32m<ipython-input-59-9e41419cca84>\u001b[0m in \u001b[0;36mtrain\u001b[0;34m(self)\u001b[0m\n\u001b[1;32m     53\u001b[0m           \u001b[0mself\u001b[0m\u001b[0;34m.\u001b[0m\u001b[0mmodel\u001b[0m\u001b[0;34m.\u001b[0m\u001b[0mtrain\u001b[0m\u001b[0;34m(\u001b[0m\u001b[0;34m)\u001b[0m\u001b[0;34m\u001b[0m\u001b[0;34m\u001b[0m\u001b[0m\n\u001b[1;32m     54\u001b[0m           \u001b[0miterator\u001b[0m \u001b[0;34m=\u001b[0m \u001b[0mtqdm\u001b[0m\u001b[0;34m(\u001b[0m\u001b[0menumerate\u001b[0m\u001b[0;34m(\u001b[0m\u001b[0mself\u001b[0m\u001b[0;34m.\u001b[0m\u001b[0mtrain_dataloader\u001b[0m\u001b[0;34m,\u001b[0m \u001b[0;36m0\u001b[0m\u001b[0;34m)\u001b[0m\u001b[0;34m)\u001b[0m\u001b[0;34m\u001b[0m\u001b[0;34m\u001b[0m\u001b[0m\n\u001b[0;32m---> 55\u001b[0;31m           \u001b[0;32mfor\u001b[0m \u001b[0mi\u001b[0m\u001b[0;34m,\u001b[0m \u001b[0mdata\u001b[0m \u001b[0;32min\u001b[0m \u001b[0miterator\u001b[0m\u001b[0;34m:\u001b[0m\u001b[0;34m\u001b[0m\u001b[0;34m\u001b[0m\u001b[0m\n\u001b[0m\u001b[1;32m     56\u001b[0m               \u001b[0minputs\u001b[0m\u001b[0;34m,\u001b[0m \u001b[0mlabels\u001b[0m \u001b[0;34m=\u001b[0m \u001b[0mdata\u001b[0m\u001b[0;34m[\u001b[0m\u001b[0;34m'pointcloud'\u001b[0m\u001b[0;34m]\u001b[0m\u001b[0;34m.\u001b[0m\u001b[0mto\u001b[0m\u001b[0;34m(\u001b[0m\u001b[0mself\u001b[0m\u001b[0;34m.\u001b[0m\u001b[0mdevice\u001b[0m\u001b[0;34m)\u001b[0m\u001b[0;34m.\u001b[0m\u001b[0mfloat\u001b[0m\u001b[0;34m(\u001b[0m\u001b[0;34m)\u001b[0m\u001b[0;34m,\u001b[0m \u001b[0mdata\u001b[0m\u001b[0;34m[\u001b[0m\u001b[0;34m'category'\u001b[0m\u001b[0;34m]\u001b[0m\u001b[0;34m.\u001b[0m\u001b[0mto\u001b[0m\u001b[0;34m(\u001b[0m\u001b[0mself\u001b[0m\u001b[0;34m.\u001b[0m\u001b[0mdevice\u001b[0m\u001b[0;34m)\u001b[0m\u001b[0;34m\u001b[0m\u001b[0;34m\u001b[0m\u001b[0m\n\u001b[1;32m     57\u001b[0m \u001b[0;34m\u001b[0m\u001b[0m\n",
            "\u001b[0;32m/usr/local/lib/python3.9/dist-packages/tqdm/std.py\u001b[0m in \u001b[0;36m__iter__\u001b[0;34m(self)\u001b[0m\n\u001b[1;32m   1176\u001b[0m \u001b[0;34m\u001b[0m\u001b[0m\n\u001b[1;32m   1177\u001b[0m         \u001b[0;32mtry\u001b[0m\u001b[0;34m:\u001b[0m\u001b[0;34m\u001b[0m\u001b[0;34m\u001b[0m\u001b[0m\n\u001b[0;32m-> 1178\u001b[0;31m             \u001b[0;32mfor\u001b[0m \u001b[0mobj\u001b[0m \u001b[0;32min\u001b[0m \u001b[0miterable\u001b[0m\u001b[0;34m:\u001b[0m\u001b[0;34m\u001b[0m\u001b[0;34m\u001b[0m\u001b[0m\n\u001b[0m\u001b[1;32m   1179\u001b[0m                 \u001b[0;32myield\u001b[0m \u001b[0mobj\u001b[0m\u001b[0;34m\u001b[0m\u001b[0;34m\u001b[0m\u001b[0m\n\u001b[1;32m   1180\u001b[0m                 \u001b[0;31m# Update and possibly print the progressbar.\u001b[0m\u001b[0;34m\u001b[0m\u001b[0;34m\u001b[0m\u001b[0m\n",
            "\u001b[0;32m/usr/local/lib/python3.9/dist-packages/torch/utils/data/dataloader.py\u001b[0m in \u001b[0;36m__next__\u001b[0;34m(self)\u001b[0m\n\u001b[1;32m    626\u001b[0m                 \u001b[0;31m# TODO(https://github.com/pytorch/pytorch/issues/76750)\u001b[0m\u001b[0;34m\u001b[0m\u001b[0;34m\u001b[0m\u001b[0m\n\u001b[1;32m    627\u001b[0m                 \u001b[0mself\u001b[0m\u001b[0;34m.\u001b[0m\u001b[0m_reset\u001b[0m\u001b[0;34m(\u001b[0m\u001b[0;34m)\u001b[0m  \u001b[0;31m# type: ignore[call-arg]\u001b[0m\u001b[0;34m\u001b[0m\u001b[0;34m\u001b[0m\u001b[0m\n\u001b[0;32m--> 628\u001b[0;31m             \u001b[0mdata\u001b[0m \u001b[0;34m=\u001b[0m \u001b[0mself\u001b[0m\u001b[0;34m.\u001b[0m\u001b[0m_next_data\u001b[0m\u001b[0;34m(\u001b[0m\u001b[0;34m)\u001b[0m\u001b[0;34m\u001b[0m\u001b[0;34m\u001b[0m\u001b[0m\n\u001b[0m\u001b[1;32m    629\u001b[0m             \u001b[0mself\u001b[0m\u001b[0;34m.\u001b[0m\u001b[0m_num_yielded\u001b[0m \u001b[0;34m+=\u001b[0m \u001b[0;36m1\u001b[0m\u001b[0;34m\u001b[0m\u001b[0;34m\u001b[0m\u001b[0m\n\u001b[1;32m    630\u001b[0m             \u001b[0;32mif\u001b[0m \u001b[0mself\u001b[0m\u001b[0;34m.\u001b[0m\u001b[0m_dataset_kind\u001b[0m \u001b[0;34m==\u001b[0m \u001b[0m_DatasetKind\u001b[0m\u001b[0;34m.\u001b[0m\u001b[0mIterable\u001b[0m \u001b[0;32mand\u001b[0m\u001b[0;31m \u001b[0m\u001b[0;31m\\\u001b[0m\u001b[0;34m\u001b[0m\u001b[0;34m\u001b[0m\u001b[0m\n",
            "\u001b[0;32m/usr/local/lib/python3.9/dist-packages/torch/utils/data/dataloader.py\u001b[0m in \u001b[0;36m_next_data\u001b[0;34m(self)\u001b[0m\n\u001b[1;32m    669\u001b[0m     \u001b[0;32mdef\u001b[0m \u001b[0m_next_data\u001b[0m\u001b[0;34m(\u001b[0m\u001b[0mself\u001b[0m\u001b[0;34m)\u001b[0m\u001b[0;34m:\u001b[0m\u001b[0;34m\u001b[0m\u001b[0;34m\u001b[0m\u001b[0m\n\u001b[1;32m    670\u001b[0m         \u001b[0mindex\u001b[0m \u001b[0;34m=\u001b[0m \u001b[0mself\u001b[0m\u001b[0;34m.\u001b[0m\u001b[0m_next_index\u001b[0m\u001b[0;34m(\u001b[0m\u001b[0;34m)\u001b[0m  \u001b[0;31m# may raise StopIteration\u001b[0m\u001b[0;34m\u001b[0m\u001b[0;34m\u001b[0m\u001b[0m\n\u001b[0;32m--> 671\u001b[0;31m         \u001b[0mdata\u001b[0m \u001b[0;34m=\u001b[0m \u001b[0mself\u001b[0m\u001b[0;34m.\u001b[0m\u001b[0m_dataset_fetcher\u001b[0m\u001b[0;34m.\u001b[0m\u001b[0mfetch\u001b[0m\u001b[0;34m(\u001b[0m\u001b[0mindex\u001b[0m\u001b[0;34m)\u001b[0m  \u001b[0;31m# may raise StopIteration\u001b[0m\u001b[0;34m\u001b[0m\u001b[0;34m\u001b[0m\u001b[0m\n\u001b[0m\u001b[1;32m    672\u001b[0m         \u001b[0;32mif\u001b[0m \u001b[0mself\u001b[0m\u001b[0;34m.\u001b[0m\u001b[0m_pin_memory\u001b[0m\u001b[0;34m:\u001b[0m\u001b[0;34m\u001b[0m\u001b[0;34m\u001b[0m\u001b[0m\n\u001b[1;32m    673\u001b[0m             \u001b[0mdata\u001b[0m \u001b[0;34m=\u001b[0m \u001b[0m_utils\u001b[0m\u001b[0;34m.\u001b[0m\u001b[0mpin_memory\u001b[0m\u001b[0;34m.\u001b[0m\u001b[0mpin_memory\u001b[0m\u001b[0;34m(\u001b[0m\u001b[0mdata\u001b[0m\u001b[0;34m,\u001b[0m \u001b[0mself\u001b[0m\u001b[0;34m.\u001b[0m\u001b[0m_pin_memory_device\u001b[0m\u001b[0;34m)\u001b[0m\u001b[0;34m\u001b[0m\u001b[0;34m\u001b[0m\u001b[0m\n",
            "\u001b[0;32m/usr/local/lib/python3.9/dist-packages/torch/utils/data/_utils/fetch.py\u001b[0m in \u001b[0;36mfetch\u001b[0;34m(self, possibly_batched_index)\u001b[0m\n\u001b[1;32m     56\u001b[0m                 \u001b[0mdata\u001b[0m \u001b[0;34m=\u001b[0m \u001b[0mself\u001b[0m\u001b[0;34m.\u001b[0m\u001b[0mdataset\u001b[0m\u001b[0;34m.\u001b[0m\u001b[0m__getitems__\u001b[0m\u001b[0;34m(\u001b[0m\u001b[0mpossibly_batched_index\u001b[0m\u001b[0;34m)\u001b[0m\u001b[0;34m\u001b[0m\u001b[0;34m\u001b[0m\u001b[0m\n\u001b[1;32m     57\u001b[0m             \u001b[0;32melse\u001b[0m\u001b[0;34m:\u001b[0m\u001b[0;34m\u001b[0m\u001b[0;34m\u001b[0m\u001b[0m\n\u001b[0;32m---> 58\u001b[0;31m                 \u001b[0mdata\u001b[0m \u001b[0;34m=\u001b[0m \u001b[0;34m[\u001b[0m\u001b[0mself\u001b[0m\u001b[0;34m.\u001b[0m\u001b[0mdataset\u001b[0m\u001b[0;34m[\u001b[0m\u001b[0midx\u001b[0m\u001b[0;34m]\u001b[0m \u001b[0;32mfor\u001b[0m \u001b[0midx\u001b[0m \u001b[0;32min\u001b[0m \u001b[0mpossibly_batched_index\u001b[0m\u001b[0;34m]\u001b[0m\u001b[0;34m\u001b[0m\u001b[0;34m\u001b[0m\u001b[0m\n\u001b[0m\u001b[1;32m     59\u001b[0m         \u001b[0;32melse\u001b[0m\u001b[0;34m:\u001b[0m\u001b[0;34m\u001b[0m\u001b[0;34m\u001b[0m\u001b[0m\n\u001b[1;32m     60\u001b[0m             \u001b[0mdata\u001b[0m \u001b[0;34m=\u001b[0m \u001b[0mself\u001b[0m\u001b[0;34m.\u001b[0m\u001b[0mdataset\u001b[0m\u001b[0;34m[\u001b[0m\u001b[0mpossibly_batched_index\u001b[0m\u001b[0;34m]\u001b[0m\u001b[0;34m\u001b[0m\u001b[0;34m\u001b[0m\u001b[0m\n",
            "\u001b[0;32m/usr/local/lib/python3.9/dist-packages/torch/utils/data/_utils/fetch.py\u001b[0m in \u001b[0;36m<listcomp>\u001b[0;34m(.0)\u001b[0m\n\u001b[1;32m     56\u001b[0m                 \u001b[0mdata\u001b[0m \u001b[0;34m=\u001b[0m \u001b[0mself\u001b[0m\u001b[0;34m.\u001b[0m\u001b[0mdataset\u001b[0m\u001b[0;34m.\u001b[0m\u001b[0m__getitems__\u001b[0m\u001b[0;34m(\u001b[0m\u001b[0mpossibly_batched_index\u001b[0m\u001b[0;34m)\u001b[0m\u001b[0;34m\u001b[0m\u001b[0;34m\u001b[0m\u001b[0m\n\u001b[1;32m     57\u001b[0m             \u001b[0;32melse\u001b[0m\u001b[0;34m:\u001b[0m\u001b[0;34m\u001b[0m\u001b[0;34m\u001b[0m\u001b[0m\n\u001b[0;32m---> 58\u001b[0;31m                 \u001b[0mdata\u001b[0m \u001b[0;34m=\u001b[0m \u001b[0;34m[\u001b[0m\u001b[0mself\u001b[0m\u001b[0;34m.\u001b[0m\u001b[0mdataset\u001b[0m\u001b[0;34m[\u001b[0m\u001b[0midx\u001b[0m\u001b[0;34m]\u001b[0m \u001b[0;32mfor\u001b[0m \u001b[0midx\u001b[0m \u001b[0;32min\u001b[0m \u001b[0mpossibly_batched_index\u001b[0m\u001b[0;34m]\u001b[0m\u001b[0;34m\u001b[0m\u001b[0;34m\u001b[0m\u001b[0m\n\u001b[0m\u001b[1;32m     59\u001b[0m         \u001b[0;32melse\u001b[0m\u001b[0;34m:\u001b[0m\u001b[0;34m\u001b[0m\u001b[0;34m\u001b[0m\u001b[0m\n\u001b[1;32m     60\u001b[0m             \u001b[0mdata\u001b[0m \u001b[0;34m=\u001b[0m \u001b[0mself\u001b[0m\u001b[0;34m.\u001b[0m\u001b[0mdataset\u001b[0m\u001b[0;34m[\u001b[0m\u001b[0mpossibly_batched_index\u001b[0m\u001b[0;34m]\u001b[0m\u001b[0;34m\u001b[0m\u001b[0;34m\u001b[0m\u001b[0m\n",
            "\u001b[0;32m<ipython-input-55-1b1060d2661d>\u001b[0m in \u001b[0;36m__getitem__\u001b[0;34m(self, idx)\u001b[0m\n\u001b[1;32m     31\u001b[0m         \u001b[0mcategory\u001b[0m \u001b[0;34m=\u001b[0m \u001b[0mself\u001b[0m\u001b[0;34m.\u001b[0m\u001b[0mfiles\u001b[0m\u001b[0;34m[\u001b[0m\u001b[0midx\u001b[0m\u001b[0;34m]\u001b[0m\u001b[0;34m[\u001b[0m\u001b[0;34m'category'\u001b[0m\u001b[0;34m]\u001b[0m\u001b[0;34m\u001b[0m\u001b[0;34m\u001b[0m\u001b[0m\n\u001b[1;32m     32\u001b[0m         \u001b[0;32mwith\u001b[0m \u001b[0mopen\u001b[0m\u001b[0;34m(\u001b[0m\u001b[0mpcd_path\u001b[0m\u001b[0;34m,\u001b[0m \u001b[0;34m'r'\u001b[0m\u001b[0;34m)\u001b[0m \u001b[0;32mas\u001b[0m \u001b[0mf\u001b[0m\u001b[0;34m:\u001b[0m\u001b[0;34m\u001b[0m\u001b[0;34m\u001b[0m\u001b[0m\n\u001b[0;32m---> 33\u001b[0;31m             \u001b[0mpointcloud\u001b[0m \u001b[0;34m=\u001b[0m \u001b[0mself\u001b[0m\u001b[0;34m.\u001b[0m\u001b[0m__preproc__\u001b[0m\u001b[0;34m(\u001b[0m\u001b[0mf\u001b[0m\u001b[0;34m)\u001b[0m\u001b[0;34m\u001b[0m\u001b[0;34m\u001b[0m\u001b[0m\n\u001b[0m\u001b[1;32m     34\u001b[0m         \u001b[0;32mreturn\u001b[0m \u001b[0;34m{\u001b[0m\u001b[0;34m'pointcloud'\u001b[0m\u001b[0;34m:\u001b[0m \u001b[0mpointcloud\u001b[0m\u001b[0;34m,\u001b[0m \u001b[0;34m'category'\u001b[0m\u001b[0;34m:\u001b[0m \u001b[0mself\u001b[0m\u001b[0;34m.\u001b[0m\u001b[0mclasses\u001b[0m\u001b[0;34m[\u001b[0m\u001b[0mcategory\u001b[0m\u001b[0;34m]\u001b[0m\u001b[0;34m}\u001b[0m\u001b[0;34m\u001b[0m\u001b[0;34m\u001b[0m\u001b[0m\n",
            "\u001b[0;32m<ipython-input-55-1b1060d2661d>\u001b[0m in \u001b[0;36m__preproc__\u001b[0;34m(self, file)\u001b[0m\n\u001b[1;32m     24\u001b[0m         \u001b[0mverts\u001b[0m\u001b[0;34m,\u001b[0m \u001b[0mfaces\u001b[0m \u001b[0;34m=\u001b[0m \u001b[0mread_off\u001b[0m\u001b[0;34m(\u001b[0m\u001b[0mfile\u001b[0m\u001b[0;34m)\u001b[0m\u001b[0;34m\u001b[0m\u001b[0;34m\u001b[0m\u001b[0m\n\u001b[1;32m     25\u001b[0m         \u001b[0;32mif\u001b[0m \u001b[0mself\u001b[0m\u001b[0;34m.\u001b[0m\u001b[0mtransforms\u001b[0m\u001b[0;34m:\u001b[0m\u001b[0;34m\u001b[0m\u001b[0;34m\u001b[0m\u001b[0m\n\u001b[0;32m---> 26\u001b[0;31m             \u001b[0mpointcloud\u001b[0m \u001b[0;34m=\u001b[0m \u001b[0mself\u001b[0m\u001b[0;34m.\u001b[0m\u001b[0mtransforms\u001b[0m\u001b[0;34m(\u001b[0m\u001b[0;34m(\u001b[0m\u001b[0mverts\u001b[0m\u001b[0;34m,\u001b[0m \u001b[0mfaces\u001b[0m\u001b[0;34m)\u001b[0m\u001b[0;34m)\u001b[0m\u001b[0;34m\u001b[0m\u001b[0;34m\u001b[0m\u001b[0m\n\u001b[0m\u001b[1;32m     27\u001b[0m         \u001b[0;32mreturn\u001b[0m \u001b[0mpointcloud\u001b[0m\u001b[0;34m\u001b[0m\u001b[0;34m\u001b[0m\u001b[0m\n\u001b[1;32m     28\u001b[0m \u001b[0;34m\u001b[0m\u001b[0m\n",
            "\u001b[0;32m/usr/local/lib/python3.9/dist-packages/torchvision/transforms/transforms.py\u001b[0m in \u001b[0;36m__call__\u001b[0;34m(self, img)\u001b[0m\n\u001b[1;32m     93\u001b[0m     \u001b[0;32mdef\u001b[0m \u001b[0m__call__\u001b[0m\u001b[0;34m(\u001b[0m\u001b[0mself\u001b[0m\u001b[0;34m,\u001b[0m \u001b[0mimg\u001b[0m\u001b[0;34m)\u001b[0m\u001b[0;34m:\u001b[0m\u001b[0;34m\u001b[0m\u001b[0;34m\u001b[0m\u001b[0m\n\u001b[1;32m     94\u001b[0m         \u001b[0;32mfor\u001b[0m \u001b[0mt\u001b[0m \u001b[0;32min\u001b[0m \u001b[0mself\u001b[0m\u001b[0;34m.\u001b[0m\u001b[0mtransforms\u001b[0m\u001b[0;34m:\u001b[0m\u001b[0;34m\u001b[0m\u001b[0;34m\u001b[0m\u001b[0m\n\u001b[0;32m---> 95\u001b[0;31m             \u001b[0mimg\u001b[0m \u001b[0;34m=\u001b[0m \u001b[0mt\u001b[0m\u001b[0;34m(\u001b[0m\u001b[0mimg\u001b[0m\u001b[0;34m)\u001b[0m\u001b[0;34m\u001b[0m\u001b[0;34m\u001b[0m\u001b[0m\n\u001b[0m\u001b[1;32m     96\u001b[0m         \u001b[0;32mreturn\u001b[0m \u001b[0mimg\u001b[0m\u001b[0;34m\u001b[0m\u001b[0;34m\u001b[0m\u001b[0m\n\u001b[1;32m     97\u001b[0m \u001b[0;34m\u001b[0m\u001b[0m\n",
            "\u001b[0;32m<ipython-input-53-8950eb490649>\u001b[0m in \u001b[0;36m__call__\u001b[0;34m(self, mesh)\u001b[0m\n\u001b[1;32m     25\u001b[0m \u001b[0;34m\u001b[0m\u001b[0m\n\u001b[1;32m     26\u001b[0m         \u001b[0;32mfor\u001b[0m \u001b[0mi\u001b[0m \u001b[0;32min\u001b[0m \u001b[0mrange\u001b[0m\u001b[0;34m(\u001b[0m\u001b[0mlen\u001b[0m\u001b[0;34m(\u001b[0m\u001b[0mareas\u001b[0m\u001b[0;34m)\u001b[0m\u001b[0;34m)\u001b[0m\u001b[0;34m:\u001b[0m\u001b[0;34m\u001b[0m\u001b[0;34m\u001b[0m\u001b[0m\n\u001b[0;32m---> 27\u001b[0;31m             \u001b[0mareas\u001b[0m\u001b[0;34m[\u001b[0m\u001b[0mi\u001b[0m\u001b[0;34m]\u001b[0m \u001b[0;34m=\u001b[0m \u001b[0;34m(\u001b[0m\u001b[0mself\u001b[0m\u001b[0;34m.\u001b[0m\u001b[0mtriangle_area\u001b[0m\u001b[0;34m(\u001b[0m\u001b[0mverts\u001b[0m\u001b[0;34m[\u001b[0m\u001b[0mfaces\u001b[0m\u001b[0;34m[\u001b[0m\u001b[0mi\u001b[0m\u001b[0;34m]\u001b[0m\u001b[0;34m[\u001b[0m\u001b[0;36m0\u001b[0m\u001b[0;34m]\u001b[0m\u001b[0;34m]\u001b[0m\u001b[0;34m,\u001b[0m \u001b[0mverts\u001b[0m\u001b[0;34m[\u001b[0m\u001b[0mfaces\u001b[0m\u001b[0;34m[\u001b[0m\u001b[0mi\u001b[0m\u001b[0;34m]\u001b[0m\u001b[0;34m[\u001b[0m\u001b[0;36m1\u001b[0m\u001b[0;34m]\u001b[0m\u001b[0;34m]\u001b[0m\u001b[0;34m,\u001b[0m \u001b[0mverts\u001b[0m\u001b[0;34m[\u001b[0m\u001b[0mfaces\u001b[0m\u001b[0;34m[\u001b[0m\u001b[0mi\u001b[0m\u001b[0;34m]\u001b[0m\u001b[0;34m[\u001b[0m\u001b[0;36m2\u001b[0m\u001b[0;34m]\u001b[0m\u001b[0;34m]\u001b[0m\u001b[0;34m)\u001b[0m\u001b[0;34m)\u001b[0m\u001b[0;34m\u001b[0m\u001b[0;34m\u001b[0m\u001b[0m\n\u001b[0m\u001b[1;32m     28\u001b[0m \u001b[0;34m\u001b[0m\u001b[0m\n\u001b[1;32m     29\u001b[0m         \u001b[0msampled_faces\u001b[0m \u001b[0;34m=\u001b[0m \u001b[0;34m(\u001b[0m\u001b[0mrandom\u001b[0m\u001b[0;34m.\u001b[0m\u001b[0mchoices\u001b[0m\u001b[0;34m(\u001b[0m\u001b[0mfaces\u001b[0m\u001b[0;34m,\u001b[0m \u001b[0mweights\u001b[0m\u001b[0;34m=\u001b[0m\u001b[0mareas\u001b[0m\u001b[0;34m,\u001b[0m \u001b[0mcum_weights\u001b[0m\u001b[0;34m=\u001b[0m\u001b[0;32mNone\u001b[0m\u001b[0;34m,\u001b[0m \u001b[0mk\u001b[0m\u001b[0;34m=\u001b[0m\u001b[0mself\u001b[0m\u001b[0;34m.\u001b[0m\u001b[0moutput_size\u001b[0m\u001b[0;34m)\u001b[0m\u001b[0;34m)\u001b[0m\u001b[0;34m\u001b[0m\u001b[0;34m\u001b[0m\u001b[0m\n",
            "\u001b[0;32m<ipython-input-53-8950eb490649>\u001b[0m in \u001b[0;36mtriangle_area\u001b[0;34m(self, pt1, pt2, pt3)\u001b[0m\n\u001b[1;32m      6\u001b[0m     \u001b[0;32mdef\u001b[0m \u001b[0mtriangle_area\u001b[0m\u001b[0;34m(\u001b[0m\u001b[0mself\u001b[0m\u001b[0;34m,\u001b[0m \u001b[0mpt1\u001b[0m\u001b[0;34m,\u001b[0m \u001b[0mpt2\u001b[0m\u001b[0;34m,\u001b[0m \u001b[0mpt3\u001b[0m\u001b[0;34m)\u001b[0m\u001b[0;34m:\u001b[0m\u001b[0;34m\u001b[0m\u001b[0;34m\u001b[0m\u001b[0m\n\u001b[1;32m      7\u001b[0m         \u001b[0mside_a\u001b[0m \u001b[0;34m=\u001b[0m \u001b[0mnp\u001b[0m\u001b[0;34m.\u001b[0m\u001b[0mlinalg\u001b[0m\u001b[0;34m.\u001b[0m\u001b[0mnorm\u001b[0m\u001b[0;34m(\u001b[0m\u001b[0mpt1\u001b[0m \u001b[0;34m-\u001b[0m \u001b[0mpt2\u001b[0m\u001b[0;34m)\u001b[0m\u001b[0;34m\u001b[0m\u001b[0;34m\u001b[0m\u001b[0m\n\u001b[0;32m----> 8\u001b[0;31m         \u001b[0mside_b\u001b[0m \u001b[0;34m=\u001b[0m \u001b[0mnp\u001b[0m\u001b[0;34m.\u001b[0m\u001b[0mlinalg\u001b[0m\u001b[0;34m.\u001b[0m\u001b[0mnorm\u001b[0m\u001b[0;34m(\u001b[0m\u001b[0mpt2\u001b[0m \u001b[0;34m-\u001b[0m \u001b[0mpt3\u001b[0m\u001b[0;34m)\u001b[0m\u001b[0;34m\u001b[0m\u001b[0;34m\u001b[0m\u001b[0m\n\u001b[0m\u001b[1;32m      9\u001b[0m         \u001b[0mside_c\u001b[0m \u001b[0;34m=\u001b[0m \u001b[0mnp\u001b[0m\u001b[0;34m.\u001b[0m\u001b[0mlinalg\u001b[0m\u001b[0;34m.\u001b[0m\u001b[0mnorm\u001b[0m\u001b[0;34m(\u001b[0m\u001b[0mpt3\u001b[0m \u001b[0;34m-\u001b[0m \u001b[0mpt1\u001b[0m\u001b[0;34m)\u001b[0m\u001b[0;34m\u001b[0m\u001b[0;34m\u001b[0m\u001b[0m\n\u001b[1;32m     10\u001b[0m         \u001b[0ms\u001b[0m \u001b[0;34m=\u001b[0m \u001b[0;36m0.5\u001b[0m \u001b[0;34m*\u001b[0m \u001b[0;34m(\u001b[0m \u001b[0mside_a\u001b[0m \u001b[0;34m+\u001b[0m \u001b[0mside_b\u001b[0m \u001b[0;34m+\u001b[0m \u001b[0mside_c\u001b[0m\u001b[0;34m)\u001b[0m\u001b[0;34m\u001b[0m\u001b[0;34m\u001b[0m\u001b[0m\n",
            "\u001b[0;31mKeyboardInterrupt\u001b[0m: "
          ]
        }
      ]
    },
    {
      "cell_type": "markdown",
      "source": [
        "# Download and unzip the dataset ModelNet40\n",
        "\n"
      ],
      "metadata": {
        "id": "2q_oXcDVqwAm"
      }
    },
    {
      "cell_type": "code",
      "source": [
        "!wget http://modelnet.cs.princeton.edu/ModelNet40.zip"
      ],
      "metadata": {
        "id": "oZQfBf4noiAG",
        "outputId": "89cf6402-4831-4db1-e740-1215cd5997b7",
        "colab": {
          "base_uri": "https://localhost:8080/"
        }
      },
      "execution_count": null,
      "outputs": [
        {
          "output_type": "stream",
          "name": "stdout",
          "text": [
            "--2023-02-04 20:40:31--  http://modelnet.cs.princeton.edu/ModelNet40.zip\n",
            "Resolving modelnet.cs.princeton.edu (modelnet.cs.princeton.edu)... 128.112.136.74\n",
            "Connecting to modelnet.cs.princeton.edu (modelnet.cs.princeton.edu)|128.112.136.74|:80... connected.\n",
            "HTTP request sent, awaiting response... 302 Found\n",
            "Location: https://modelnet.cs.princeton.edu/ModelNet40.zip [following]\n",
            "--2023-02-04 20:40:31--  https://modelnet.cs.princeton.edu/ModelNet40.zip\n",
            "Connecting to modelnet.cs.princeton.edu (modelnet.cs.princeton.edu)|128.112.136.74|:443... connected.\n",
            "HTTP request sent, awaiting response... 200 OK\n",
            "Length: 2039180837 (1.9G) [application/zip]\n",
            "Saving to: ‘ModelNet40.zip’\n",
            "\n",
            "ModelNet40.zip      100%[===================>]   1.90G  60.7MB/s    in 52s     \n",
            "\n",
            "2023-02-04 20:41:23 (37.4 MB/s) - ‘ModelNet40.zip’ saved [2039180837/2039180837]\n",
            "\n"
          ]
        }
      ]
    },
    {
      "cell_type": "code",
      "source": [
        "!unzip -q ModelNet40.zip;"
      ],
      "metadata": {
        "id": "QB7WT5GUqqXL"
      },
      "execution_count": null,
      "outputs": []
    },
    {
      "cell_type": "code",
      "source": [
        "ROOT = '/content/ModelNet40/'\n",
        "CLASSES = ['airplane', 'bathtub', 'bed', 'bench', 'bookshelf', 'bottle', 'bowl', 'car', 'chair', 'cone',\n",
        "           'cup', 'curtain', 'desk', 'door', 'dresser', 'flower_pot', 'glass_box', 'guitar', 'keyboard', 'lamp',\n",
        "           'laptop', 'mantel', 'monitor', 'night_stand', 'person', 'piano', 'plant', 'radio', 'range_hood', 'sink',\n",
        "           'sofa', 'stairs', 'stool', 'table', 'tent', 'toilet', 'tv_stand', 'vase', 'wardrobe', 'xbox']\n",
        "\n",
        "X = {'train': [], 'test': []}\n",
        "Y = {'train': [], 'test': []}\n",
        "\n",
        "for label, cl in enumerate(CLASSES):\n",
        "    for split in ['train', 'test']:\n",
        "        examples_dir = os.path.join(ROOT, cl, split)\n",
        "        for example in tqdm(os.listdir(examples_dir)):\n",
        "          voxel_index = []\n",
        "          if 'off' in example:\n",
        "            mesh = o3d.io.read_triangle_mesh(examples_dir+'/'+example)\n",
        "            mesh.scale(1 / np.max(mesh.get_max_bound() - mesh.get_min_bound()), center=mesh.get_center())\n",
        "            voxel_grid = o3d.geometry.VoxelGrid.create_from_triangle_mesh(mesh, voxel_size=0.05)\n",
        "            \n",
        "            X[split].append(voxel_grid)\n",
        "            Y[split].append(label)\n"
      ],
      "metadata": {
        "id": "8ztCK1RwpwAt",
        "outputId": "e1d5832d-502f-44ea-d9de-398172dda70e",
        "colab": {
          "base_uri": "https://localhost:8080/",
          "height": 269
        }
      },
      "execution_count": null,
      "outputs": [
        {
          "output_type": "stream",
          "name": "stderr",
          "text": [
            "100%|██████████| 626/626 [44:57<00:00,  4.31s/it]\n",
            "  0%|          | 0/100 [00:07<?, ?it/s]\n"
          ]
        },
        {
          "output_type": "error",
          "ename": "KeyboardInterrupt",
          "evalue": "ignored",
          "traceback": [
            "\u001b[0;31m---------------------------------------------------------------------------\u001b[0m",
            "\u001b[0;31mKeyboardInterrupt\u001b[0m                         Traceback (most recent call last)",
            "\u001b[0;32m<ipython-input-21-c5022fd4d022>\u001b[0m in \u001b[0;36m<module>\u001b[0;34m\u001b[0m\n\u001b[1;32m     16\u001b[0m             \u001b[0mmesh\u001b[0m \u001b[0;34m=\u001b[0m \u001b[0mo3d\u001b[0m\u001b[0;34m.\u001b[0m\u001b[0mio\u001b[0m\u001b[0;34m.\u001b[0m\u001b[0mread_triangle_mesh\u001b[0m\u001b[0;34m(\u001b[0m\u001b[0mexamples_dir\u001b[0m\u001b[0;34m+\u001b[0m\u001b[0;34m'/'\u001b[0m\u001b[0;34m+\u001b[0m\u001b[0mexample\u001b[0m\u001b[0;34m)\u001b[0m\u001b[0;34m\u001b[0m\u001b[0;34m\u001b[0m\u001b[0m\n\u001b[1;32m     17\u001b[0m             \u001b[0mmesh\u001b[0m\u001b[0;34m.\u001b[0m\u001b[0mscale\u001b[0m\u001b[0;34m(\u001b[0m\u001b[0;36m1\u001b[0m \u001b[0;34m/\u001b[0m \u001b[0mnp\u001b[0m\u001b[0;34m.\u001b[0m\u001b[0mmax\u001b[0m\u001b[0;34m(\u001b[0m\u001b[0mmesh\u001b[0m\u001b[0;34m.\u001b[0m\u001b[0mget_max_bound\u001b[0m\u001b[0;34m(\u001b[0m\u001b[0;34m)\u001b[0m \u001b[0;34m-\u001b[0m \u001b[0mmesh\u001b[0m\u001b[0;34m.\u001b[0m\u001b[0mget_min_bound\u001b[0m\u001b[0;34m(\u001b[0m\u001b[0;34m)\u001b[0m\u001b[0;34m)\u001b[0m\u001b[0;34m,\u001b[0m \u001b[0mcenter\u001b[0m\u001b[0;34m=\u001b[0m\u001b[0mmesh\u001b[0m\u001b[0;34m.\u001b[0m\u001b[0mget_center\u001b[0m\u001b[0;34m(\u001b[0m\u001b[0;34m)\u001b[0m\u001b[0;34m)\u001b[0m\u001b[0;34m\u001b[0m\u001b[0;34m\u001b[0m\u001b[0m\n\u001b[0;32m---> 18\u001b[0;31m             \u001b[0mvoxel_grid\u001b[0m \u001b[0;34m=\u001b[0m \u001b[0mo3d\u001b[0m\u001b[0;34m.\u001b[0m\u001b[0mgeometry\u001b[0m\u001b[0;34m.\u001b[0m\u001b[0mVoxelGrid\u001b[0m\u001b[0;34m.\u001b[0m\u001b[0mcreate_from_triangle_mesh\u001b[0m\u001b[0;34m(\u001b[0m\u001b[0mmesh\u001b[0m\u001b[0;34m,\u001b[0m \u001b[0mvoxel_size\u001b[0m\u001b[0;34m=\u001b[0m\u001b[0;36m0.05\u001b[0m\u001b[0;34m)\u001b[0m\u001b[0;34m\u001b[0m\u001b[0;34m\u001b[0m\u001b[0m\n\u001b[0m\u001b[1;32m     19\u001b[0m \u001b[0;34m\u001b[0m\u001b[0m\n\u001b[1;32m     20\u001b[0m             \u001b[0mX\u001b[0m\u001b[0;34m[\u001b[0m\u001b[0msplit\u001b[0m\u001b[0;34m]\u001b[0m\u001b[0;34m.\u001b[0m\u001b[0mappend\u001b[0m\u001b[0;34m(\u001b[0m\u001b[0mvoxel_grid\u001b[0m\u001b[0;34m)\u001b[0m\u001b[0;34m\u001b[0m\u001b[0;34m\u001b[0m\u001b[0m\n",
            "\u001b[0;31mKeyboardInterrupt\u001b[0m: "
          ]
        }
      ]
    },
    {
      "cell_type": "markdown",
      "source": [
        "# DMPVoxNet with Modelnet40"
      ],
      "metadata": {
        "id": "-ohYY7wfQYzG"
      }
    },
    {
      "cell_type": "code",
      "source": [
        "class VoxelDataset40(Dataset):\n",
        "    def __init__(self, train = True):\n",
        "      if train:\n",
        "          self.data = X['train']\n",
        "          self.label = Y['train']\n",
        "      else:\n",
        "          self.data = X['test']\n",
        "          self.label = Y['test']\n",
        "        \n",
        "                \n",
        "    def __len__(self):\n",
        "        return len(self.label)\n",
        "\n",
        "    def __preproc__(self, voxels):\n",
        "        \n",
        "        voxel_grid = voxels.get_voxels()\n",
        "        vox_g = np.zeros((32, 32, 32), dtype=np.int32)\n",
        "        for i in range (len(voxel_grid)):\n",
        "          voxel_index = voxel_grid[i].grid_index\n",
        "          vox_g[voxel_index[0],voxel_index[1],voxel_index[2]] = 1\n",
        "\n",
        "        #flip x\n",
        "        if np.random.randint(2):\n",
        "            vox_g = np.flip(vox_g, axis=0)\n",
        "        \n",
        "        #flip y\n",
        "        if np.random.randint(2):\n",
        "            vox_g = np.flip(vox_g, axis=1)\n",
        "        \n",
        "        angle = 360 * np.random.random_sample(1)[0]\n",
        "        vox_g = rotate(vox_g, axes=(0, 1), angle=angle, cval=0.0, reshape=False)  \n",
        "        \n",
        "        return vox_g.copy()\n",
        "\n",
        "    def __getitem__(self, idx):\n",
        "        label = self.label[idx]\n",
        "        voxels = self.data[idx]\n",
        "        voxels = self.__preproc__(voxels)\n",
        "        voxels = np.expand_dims(voxels, axis=0)\n",
        "        voxels = torch.tensor(voxels).float()\n",
        "        return voxels, label"
      ],
      "metadata": {
        "id": "GFprPG-DrBQJ"
      },
      "execution_count": null,
      "outputs": []
    },
    {
      "cell_type": "code",
      "source": [
        "from torch.optim import SGD, Adam\n",
        "from torch.nn import BCEWithLogitsLoss\n",
        "from tqdm import tqdm\n",
        "\n",
        "class VoxNet_Trainer40():\n",
        "  def __init__(self, hyperparameters):\n",
        "      #Hypreparameters\n",
        "      self.learning_rate = hyperparameters[\"learning_rate\"]\n",
        "      self.batch_size_train = hyperparameters[\"train_batch_size\"]\n",
        "      self.batch_size_test = hyperparameters[\"valid_batch_size\"]\n",
        "      self.data_size = hyperparameters[\"data_size\"]\n",
        "      self.sgd_momentum = hyperparameters[\"sgd_momentum\"]\n",
        "      self.device = torch.device(\"cuda:0\" if torch.cuda.is_available() else \"cpu\")\n",
        "      self.epochs = hyperparameters[\"epochs\"]\n",
        "      self.name_model = hyperparameters[\"model\"]\n",
        "      \n",
        "      #Dataset\n",
        "      self.initDataset()\n",
        "      self.class_names = ['airplane', 'bathtub', 'bed', 'bench', 'bookshelf', 'bottle', 'bowl', 'car', 'chair', 'cone',\n",
        "                          'cup', 'curtain', 'desk', 'door', 'dresser', 'flower_pot', 'glass_box', 'guitar', 'keyboard', 'lamp',\n",
        "                          'laptop', 'mantel', 'monitor', 'night_stand', 'person', 'piano', 'plant', 'radio', 'range_hood', 'sink',\n",
        "                          'sofa', 'stairs', 'stool', 'table', 'tent', 'toilet', 'tv_stand', 'vase', 'wardrobe', 'xbox']\n",
        "      self.num_classes = len(self.class_names)\n",
        "\n",
        "      #Model\n",
        "      self.lr_scheduler_step = hyperparameters[\"lr_scheduler_step\"]\n",
        "      self.lr_scheduler_gamma = hyperparameters[\"lr_scheduler_gamma\"]\n",
        "      self.initModel()\n",
        "  \n",
        "  def initDataset(self):\n",
        "      self.train_ds = VoxelDataset40(train=True)\n",
        "      self.test_ds = VoxelDataset40(train=False)\n",
        "      self.train_dataloader = DataLoader(dataset=self.train_ds, batch_size=self.batch_size_train, shuffle=True, drop_last=True)\n",
        "      self.test_dataloader = DataLoader(dataset=self.test_ds, batch_size=self.batch_size_test)\n",
        "\n",
        "  def initModel(self):\n",
        "      self.model = DMPVoxNet40()\n",
        "      os.mkdir('/content/'+str(self.name_model))\n",
        "      print('model DMPVoxNet40 was choosen')\n",
        "      self.device = \"cuda\" if torch.cuda.is_available() else \"cpu\"\n",
        "      self.model.to(self.device)\n",
        "      self.opt = SGD(self.model.parameters(), lr=self.learning_rate, momentum=self.sgd_momentum)\n",
        "      self.loss_fn = nn.NLLLoss()\n",
        "      self.lr_scheduler = torch.optim.lr_scheduler.StepLR(self.opt, step_size=self.lr_scheduler_step, gamma=self.lr_scheduler_gamma)\n",
        "\n",
        "  def train(self):\n",
        "      self.pred_conf, self.y_conf = [], []                                                           \n",
        "      train_loss_history, valid_loss_history = [], []\n",
        "      train_acc_history, valid_acc_history = [], []\n",
        "      train_accuracy = Accuracy(task='multiclass', num_classes=40)\n",
        "      valid_accuracy = Accuracy(task='multiclass', num_classes=40)\n",
        "\n",
        "      self.num_batch = len(self.train_ds) / self.batch_size_train\n",
        "      print(self.num_batch)\n",
        "\n",
        "      total_time = time.time()\n",
        "\n",
        "      for epoch in range(self.epochs):\n",
        "          self.lr_scheduler.step()\n",
        "          t = time.time()\n",
        "\n",
        "          train_loss = []                                                         #track training loss\n",
        "          valid_loss = []\n",
        "          self.model.train()\n",
        "          iterator = tqdm(enumerate(self.train_dataloader, 0))\n",
        "          for i, data in iterator:\n",
        "              inputs, labels = data[0], data[1]\n",
        "              inputs = inputs.to(self.device)\n",
        "              labels = labels.to(self.device)\n",
        "\n",
        "              self.opt.zero_grad()\n",
        "              pred = self.model(inputs)  # torch.Size([256, 10])\n",
        "              loss = self.loss_fn(pred,labels)\n",
        "              train_loss.append(loss.cpu().data)\n",
        "              train_accuracy.update(torch.argmax(pred, 1).cpu(), labels.cpu()) \n",
        "\n",
        "              loss.backward()\n",
        "              self.opt.step()\n",
        "              iterator.set_description(f\"Train loss: {loss.cpu().data}\")\n",
        "              \n",
        "              pred_choice = pred.data.max(1)[1]\n",
        "              correct = pred_choice.eq(labels.data).cpu().sum()\n",
        "                      \n",
        "          with torch.no_grad():\n",
        "            self.model.eval()\n",
        "            for j, sample in tqdm(enumerate(self.test_dataloader, 0)):    \n",
        "                inputs_test, labels_test = sample[0], sample[1]\n",
        "                inputs_test = inputs_test.to(self.device)\n",
        "                labels_test = labels_test.to(self.device)\n",
        "                inputs_test = inputs_test.float()  # 转float, torch.Size([256, 1, 32, 32, 32])\n",
        "                \n",
        "                pred_test = self.model(inputs_test)\n",
        "                loss_test = self.loss_fn(pred_test, labels_test)\n",
        "                valid_loss.append(loss_test.cpu().data)\n",
        "                valid_accuracy.update(torch.argmax(pred_test, 1).cpu(), labels_test.cpu())\n",
        "                pred_choice_test = pred_test.data.max(1)[1]\n",
        "\n",
        "                correct_test = pred_choice_test.eq(labels_test.data).cpu().sum()\n",
        "                self.pred_conf.append(torch.argmax(pred_test, 1))\n",
        "                self.y_conf.append(labels_test)\n",
        "\n",
        "          # total accuracy over all batches\n",
        "          total_train_accuracy = train_accuracy.compute()\n",
        "          total_valid_accuracy = valid_accuracy.compute()\n",
        "          train_accuracy.reset()\n",
        "          valid_accuracy.reset()\n",
        "            \n",
        "          #track loss and acc for plotting\n",
        "          train_loss_history.append(torch.mean(torch.tensor(train_loss)))\n",
        "          valid_loss_history.append(torch.mean(torch.tensor(valid_loss)))\n",
        "          train_acc_history.append(total_train_accuracy)\n",
        "          valid_acc_history.append(total_valid_accuracy)\n",
        "            \n",
        "          elapsed_time_epoch = time.time() - t   \n",
        "            \n",
        "          tmp0 = \"epoch:{:3d} /{:3d}\".format(epoch+1, self.epochs)\n",
        "          tmp1 = \"time: {:.2f} seconds\".format(elapsed_time_epoch)\n",
        "          tmp2 = \"train-loss: {:4.2f}, train-acc: {:.2%}\".format(train_loss_history[epoch], train_acc_history[epoch].item())\n",
        "          tmp3 = \"valid-loss: {:4.2f}, valid-acc: {:.2%}\\n\".format(valid_loss_history[epoch], valid_acc_history[epoch].item())\n",
        "          print(tmp0, tmp1, tmp2, tmp3, sep=\"\\n\")\n",
        "\n",
        "\n",
        "          ##save best model \n",
        "          if epoch>1 and total_valid_accuracy>valid_acc_history[-2]:\n",
        "\n",
        "              torch.save({'epoch': epoch+1,\n",
        "                          'model_state_dict': self.model.state_dict(),\n",
        "                          'optimizer_state_dict': self.opt.state_dict(),\n",
        "                          'loss': valid_loss_history[-1], \n",
        "                          'accuracy': total_valid_accuracy},\n",
        "\t                        '/content/'+str(self.name_model)+'/best_model.pth')\n",
        "\n",
        "          \n",
        "          #save history\n",
        "          self.history = {\"train_loss\": torch.tensor(train_loss_history), \"train_acc\": torch.tensor(train_acc_history), \n",
        "                          \"valid_loss\": torch.tensor(valid_loss_history), \"valid_acc\": torch.tensor(valid_acc_history)}\n",
        "           \n",
        "  def getHistory(self):\n",
        "      return self.history\n",
        "\n",
        "  def generateConfusionMatrix(self):\n",
        "      ##load the model\n",
        "      checkpoint = torch.load('/content/'+str(self.name_model)+'/best_model.pth')\n",
        "      self.model.load_state_dict(checkpoint['model_state_dict'])\n",
        "      self.opt.load_state_dict(checkpoint['optimizer_state_dict'])\n",
        "      loss = checkpoint['loss']\n",
        "      epoch = checkpoint['epoch']\n",
        "      acc = checkpoint['accuracy']\n",
        "      print('best model was trained at epoch: '+str(epoch))\n",
        "      print('with a validation loss of: '+str(loss.numpy())+' and a validation accuracy of: '+str(acc.numpy()*100))\n",
        "  \n",
        "      ##compute confusion matrix\n",
        "      self.model.eval()\n",
        "      a = torch.cat(self.pred_conf).cpu()\n",
        "      b = torch.cat(self.y_conf).cpu()\n",
        "      confmat = ConfusionMatrix(task='multiclass', num_classes=40, normalize=\"true\")\n",
        "      self.conf_matrix = confmat(a, b)\n",
        "      self.conf_matrix = torch.round(self.conf_matrix, decimals=2)\n",
        "\n",
        "      fig=plt.figure(figsize = (20,12))\n",
        "      sns.heatmap(self.conf_matrix, annot=True, fmt='g', linewidths=.4, cbar=False)\n",
        "      tick_marks = np.arange(len(self.class_names))\n",
        "      plt.xticks(tick_marks, self.class_names, rotation=45)\n",
        "      plt.yticks(tick_marks, self.class_names, rotation=0)\n",
        "      plt.title(\"Confusion Matrix\")     \n",
        "\n",
        "  def getPerClassAccuracy(self):\n",
        "      per_class_accuracy = 100 * torch.diag(self.conf_matrix) / torch.sum(self.conf_matrix, 1)\n",
        "      tmp = {}\n",
        "      for i, x in enumerate(self.class_names):\n",
        "        tmp[x] = per_class_accuracy[i].item()\n",
        "      print(tmp)\n",
        "    \n",
        "  def showResults(self):\n",
        "      eps = range(0, len(self.history[\"train_loss\"].cpu()))\n",
        "        \n",
        "      sns.set_theme()\n",
        "      fig, ax = plt.subplots(1, 2, figsize=(14, 4))\n",
        "      fig.suptitle('Results')\n",
        "        \n",
        "      ax[0].plot(eps, smooth(self.history[\"train_loss\"].cpu()), 'g', label='Training Loss')\n",
        "      ax[0].plot(eps, smooth(self.history[\"valid_loss\"].cpu()), 'b', label='Valid Loss')\n",
        "      ax[0].set_title('Loss History')\n",
        "      ax[0].set(xlabel='Epochs', ylabel='Loss')\n",
        "      ax[0].legend()\n",
        "        \n",
        "      ax[1].plot(eps, smooth(self.history[\"train_acc\"].cpu()), 'g', label='Training Accuracy')\n",
        "      ax[1].plot(eps, smooth(self.history[\"valid_acc\"].cpu()), 'b', label='Valid Accuracy')\n",
        "      ax[1].set_title('Loss History')\n",
        "      ax[1].set(xlabel='Epochs', ylabel='Accuracy')\n",
        "      ax[1].legend()\n",
        "\n",
        "  def draw_voxels(self):\n",
        "      mesh = next(iter(self.train_dataloader))\n",
        "      mesh = mesh[0][0][0]\n",
        "        \n",
        "      ax = plt.figure(figsize=(10,10)).add_subplot(projection='3d')\n",
        "      ax.voxels(mesh, edgecolor='k')\n",
        "      plt.show()\n",
        "        \n",
        "  def test_on_missing_data(self, missing_rate=0.5):\n",
        "      test_accuracy = Accuracy(task='multiclass', num_classes=40)\n",
        "\n",
        "      ##load the model\n",
        "      checkpoint = torch.load('/content/'+str(self.name_model)+'/best_model.pth')\n",
        "      self.model.load_state_dict(checkpoint['model_state_dict'])\n",
        "      self.opt.load_state_dict(checkpoint['optimizer_state_dict'])\n",
        "      loss = checkpoint['loss']\n",
        "      epoch = checkpoint['epoch']\n",
        "      acc = checkpoint['accuracy']\n",
        "      print('best model was trained at epoch: '+str(epoch))\n",
        "      print('with a validation loss of: '+str(loss.numpy())+' and a validation accuracy of: '+str(acc.numpy()*100))\n",
        "  \n",
        "      self.model.eval()\n",
        "      for x, y in self.test_dataloader:\n",
        "          x, y = x.to(self.device), y.to(self.device)\n",
        "            \n",
        "          idc = np.random.choice(32**3, size=(int(32**3*missing_rate)), replace=False)\n",
        "          idc_x = idc%32\n",
        "          idc_y = np.floor_divide(idc, 32)%32\n",
        "          idc_z = np.floor_divide(idc, 32*32)%32\n",
        "          x[:, :, idc_x, idc_y, idc_z] = 0\n",
        "            \n",
        "          pred = self.model(x)\n",
        "          test_accuracy.update(torch.argmax(pred, 1).cpu(), y.cpu())\n",
        "            \n",
        "      return test_accuracy.compute()\n",
        "    \n",
        "  def missing_data_test(self):\n",
        "      acc = []\n",
        "      delta = 200\n",
        "      eps = np.linspace(0,0.99,delta)\n",
        "      for x in eps:\n",
        "          tmp = self.test_on_missing_data(x)\n",
        "          acc.append(tmp)\n",
        "            \n",
        "            \n",
        "      sns.set_theme()\n",
        "      plt.figure(figsize=(8, 4))\n",
        "      plt.plot(eps, smooth(acc))\n",
        "      plt.title(\"Missing Data Test\", size=20, y=1.05)\n",
        "      plt.xlabel(\"missing point ratio\", size=15)\n",
        "      plt.ylabel(\"accuracy\", size=15)\n",
        "      plt.show()"
      ],
      "metadata": {
        "id": "4JjB-c7rrFDo"
      },
      "execution_count": null,
      "outputs": []
    },
    {
      "cell_type": "code",
      "source": [
        "from collections import OrderedDict\n",
        "class DMPVoxNet40(nn.Module):\n",
        "    def __init__(self):\n",
        "        super(DMPVoxNet40, self).__init__()\n",
        "        n_classes = 40\n",
        "        input_shape = (32,32,32)\n",
        "        self.feat = torch.nn.Sequential(OrderedDict([\n",
        "            ('conv3d_1', torch.nn.Conv3d(in_channels=1, out_channels=32, kernel_size=5, stride=2)),\n",
        "            ('relu1', torch.nn.ReLU()),\n",
        "            ('drop1', torch.nn.Dropout(p=0.2)),\n",
        "            ('conv3d_2', torch.nn.Conv3d(in_channels=32, out_channels=32, kernel_size=3)),\n",
        "            ('relu2', torch.nn.ReLU()),\n",
        "            ('pool2', torch.nn.MaxPool3d(2)),\n",
        "            ('drop2', torch.nn.Dropout(p=0.3)),\n",
        "            ('conv3d_2', torch.nn.Conv3d(in_channels=32, out_channels=128, kernel_size=3)),\n",
        "            ('relu2', torch.nn.ReLU()),\n",
        "            ('pool2', torch.nn.MaxPool3d(2)),\n",
        "            ('drop2', torch.nn.Dropout(p=0.3))\n",
        "        ]))\n",
        "        \n",
        "        x = self.feat(torch.autograd.Variable(torch.rand((1, 1) + input_shape)))\n",
        "        dim_feat = 1\n",
        "        for n in x.size()[1:]:\n",
        "            dim_feat *= n\n",
        "\n",
        "        self.mlp = torch.nn.Sequential(OrderedDict([\n",
        "            ('fc1', torch.nn.Linear(dim_feat, 128)),\n",
        "            ('relu1', torch.nn.ReLU()),\n",
        "            ('drop3', torch.nn.Dropout(p=0.4)),\n",
        "            ('fc2', torch.nn.Linear(128, n_classes))\n",
        "        ]))\n",
        "\n",
        "        self.logsoftmax = nn.LogSoftmax(dim=1)\n",
        "\n",
        "    def forward(self, x):\n",
        "        x = self.feat(x)\n",
        "        x = x.view(x.size(0), -1)\n",
        "        x = self.mlp(x)\n",
        "        #return x\n",
        "        return self.logsoftmax(x)"
      ],
      "metadata": {
        "id": "AT51SI1JsA8g"
      },
      "execution_count": null,
      "outputs": []
    },
    {
      "cell_type": "code",
      "source": [
        "training_hyperparameters = {\n",
        "    \"learning_rate\": 0.1,\n",
        "    \"sgd_momentum\": 0,\n",
        "    \"data_size\": 32,\n",
        "    \"epochs\": 100,\n",
        "    \"lr_scheduler_step\": 16,\n",
        "    \"lr_scheduler_gamma\": 0.7,\n",
        "    \"train_batch_size\": 32,\n",
        "    \"valid_batch_size\": 32,\n",
        "    \"model\" : 'DMPVoxNet40'\n",
        "}    \n",
        "\n",
        "trainer5 = VoxNet_Trainer40(training_hyperparameters)\n",
        "trainer5.train()"
      ],
      "metadata": {
        "id": "77ilFdAdsQtM"
      },
      "execution_count": null,
      "outputs": []
    },
    {
      "cell_type": "code",
      "source": [
        "import numpy as np\n",
        "a = np.array([0.2, 0.3, 0.3])\n",
        "b = np.array([0.2, 0.2, 0.2])\n",
        "c = np.array([0.2, 0.2, 0.2])\n",
        "d = [0, 0, 0]\n",
        "e = np.array([0, 0, 0])\n",
        "\n",
        "for i in range(len(c)):\n",
        "  d[i] = a[i]/3+b[i]/3+c[i]/3\n",
        "\n",
        "f = np.array([a, b, c])\n",
        "e = np.einsum('ij->j', f/3)\n",
        "\n",
        "for i in range(0,2):\n",
        "  pred_test = []\n",
        "  print(pred_test)\n",
        "  labels_test = []\n",
        "\n",
        "  for k in range(1):\n",
        "    temp = f\n",
        "    pred_test.append(np.einsum('ij->j', f/3))\n",
        "  print(pred_test)\n"
      ],
      "metadata": {
        "colab": {
          "base_uri": "https://localhost:8080/"
        },
        "id": "W2xLU7GPXf3B",
        "outputId": "a7f40ab8-3c1e-444f-98a2-3a0ecb92d821"
      },
      "execution_count": null,
      "outputs": [
        {
          "output_type": "stream",
          "name": "stdout",
          "text": [
            "[]\n",
            "[array([0.2       , 0.23333333, 0.23333333])]\n",
            "[]\n",
            "[array([0.2       , 0.23333333, 0.23333333])]\n"
          ]
        }
      ]
    }
  ]
}