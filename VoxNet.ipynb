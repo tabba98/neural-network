{
  "nbformat": 4,
  "nbformat_minor": 0,
  "metadata": {
    "colab": {
      "provenance": [],
      "authorship_tag": "ABX9TyM5mPOohs4GCyqhcI8TpV2Q",
      "include_colab_link": true
    },
    "kernelspec": {
      "name": "python3",
      "display_name": "Python 3"
    },
    "language_info": {
      "name": "python"
    }
  },
  "cells": [
    {
      "cell_type": "markdown",
      "metadata": {
        "id": "view-in-github",
        "colab_type": "text"
      },
      "source": [
        "<a href=\"https://colab.research.google.com/github/tabba98/neural-network/blob/main/VoxNet.ipynb\" target=\"_parent\"><img src=\"https://colab.research.google.com/assets/colab-badge.svg\" alt=\"Open In Colab\"/></a>"
      ]
    },
    {
      "cell_type": "code",
      "execution_count": 1,
      "metadata": {
        "colab": {
          "base_uri": "https://localhost:8080/"
        },
        "id": "nz0WALPw5LNa",
        "outputId": "6a95655e-cee8-4988-916b-ea59c7bcacd4"
      },
      "outputs": [
        {
          "output_type": "stream",
          "name": "stdout",
          "text": [
            "Looking in indexes: https://pypi.org/simple, https://us-python.pkg.dev/colab-wheels/public/simple/\n",
            "Collecting torchmetrics\n",
            "  Downloading torchmetrics-0.11.0-py3-none-any.whl (512 kB)\n",
            "\u001b[2K     \u001b[90m━━━━━━━━━━━━━━━━━━━━━━━━━━━━━━━━━━━━━━━\u001b[0m \u001b[32m512.4/512.4 KB\u001b[0m \u001b[31m8.0 MB/s\u001b[0m eta \u001b[36m0:00:00\u001b[0m\n",
            "\u001b[?25hRequirement already satisfied: torch>=1.8.1 in /usr/local/lib/python3.8/dist-packages (from torchmetrics) (1.13.0+cu116)\n",
            "Requirement already satisfied: packaging in /usr/local/lib/python3.8/dist-packages (from torchmetrics) (21.3)\n",
            "Requirement already satisfied: typing-extensions in /usr/local/lib/python3.8/dist-packages (from torchmetrics) (4.4.0)\n",
            "Requirement already satisfied: numpy>=1.17.2 in /usr/local/lib/python3.8/dist-packages (from torchmetrics) (1.21.6)\n",
            "Requirement already satisfied: pyparsing!=3.0.5,>=2.0.2 in /usr/local/lib/python3.8/dist-packages (from packaging->torchmetrics) (3.0.9)\n",
            "Installing collected packages: torchmetrics\n",
            "Successfully installed torchmetrics-0.11.0\n"
          ]
        }
      ],
      "source": [
        "pip install torchmetrics"
      ]
    },
    {
      "cell_type": "code",
      "source": [
        "import numpy as np\n",
        "import torch\n",
        "import torch.nn as nn\n",
        "import torch.nn.functional as F\n",
        "from torch.utils.data import Dataset, DataLoader\n",
        "from torchmetrics.classification import Accuracy\n",
        "from torchmetrics import ConfusionMatrix\n",
        "\n",
        "\n",
        "\n",
        "#for plotting\n",
        "import matplotlib.pyplot as plt\n",
        "import seaborn as sns\n",
        "import pandas as pd\n",
        "from sklearn.metrics import confusion_matrix\n",
        "\n",
        "import scipy\n",
        "from scipy.ndimage import rotate\n",
        "\n",
        "import time"
      ],
      "metadata": {
        "id": "Ic3yD5Ks5Stj"
      },
      "execution_count": 2,
      "outputs": []
    },
    {
      "cell_type": "code",
      "source": [
        "%%capture\n",
        "!wget https://www.dropbox.com/s/ja56cvf3x4mkf1t/modelnet10_voxelized_32.npz"
      ],
      "metadata": {
        "id": "BGBFL8fX5Uuv"
      },
      "execution_count": 3,
      "outputs": []
    },
    {
      "cell_type": "code",
      "source": [
        "class VoxelDataset(Dataset):\n",
        "    def __init__(self, train = True):\n",
        "      if train:\n",
        "          tmp = np.load(\"modelnet10_voxelized_32.npz\")\n",
        "          self.data = tmp[\"X_train\"]\n",
        "          self.label = tmp[\"Y_train\"]\n",
        "          del tmp\n",
        "      else:\n",
        "          tmp = np.load(\"modelnet10_voxelized_32.npz\")\n",
        "          self.data = tmp[\"X_test\"]\n",
        "          self.label = tmp[\"Y_test\"]\n",
        "          del tmp\n",
        "        \n",
        "                \n",
        "    def __len__(self):\n",
        "        return len(self.label)\n",
        "\n",
        "    def __preproc__(self, voxels):\n",
        "        \n",
        "        #flip x\n",
        "        if np.random.randint(2):\n",
        "            voxels = np.flip(voxels, axis=0)\n",
        "        \n",
        "        #flip y\n",
        "        if np.random.randint(2):\n",
        "            voxels = np.flip(voxels, axis=1)\n",
        "        \n",
        "        angle = 360 * np.random.random_sample(1)[0]\n",
        "        \n",
        "        voxels = rotate(voxels, axes=(0, 1), angle=angle, cval=0.0, reshape=False)\n",
        "        \n",
        "        \n",
        "        return voxels.copy()\n",
        "\n",
        "    def __getitem__(self, idx):\n",
        "        label = self.label[idx]\n",
        "        voxels = self.data[idx]\n",
        "        voxels = self.__preproc__(voxels)\n",
        "        voxels = np.expand_dims(voxels, axis=0)\n",
        "        voxels = torch.tensor(voxels).float()\n",
        "        return voxels, label"
      ],
      "metadata": {
        "id": "pfSGCV6k5YXr"
      },
      "execution_count": 4,
      "outputs": []
    },
    {
      "cell_type": "code",
      "source": [
        "from collections import OrderedDict\n",
        "class VoxNet(nn.Module):\n",
        "    def __init__(self):\n",
        "        super(VoxNet, self).__init__()\n",
        "        n_classes = 10\n",
        "        input_shape = (32,32,32)\n",
        "        self.feat = torch.nn.Sequential(OrderedDict([\n",
        "            ('conv3d_1', torch.nn.Conv3d(in_channels=1, out_channels=32, kernel_size=5, stride=2)),\n",
        "            ('relu1', torch.nn.ReLU()),\n",
        "            ('drop1', torch.nn.Dropout(p=0.2)),\n",
        "            ('conv3d_2', torch.nn.Conv3d(in_channels=32, out_channels=32, kernel_size=3)),\n",
        "            ('relu2', torch.nn.ReLU()),\n",
        "            ('pool2', torch.nn.MaxPool3d(2)),\n",
        "            ('drop2', torch.nn.Dropout(p=0.3))\n",
        "        ]))\n",
        "        \n",
        "        x = self.feat(torch.autograd.Variable(torch.rand((1, 1) + input_shape)))\n",
        "        dim_feat = 1\n",
        "        for n in x.size()[1:]:\n",
        "            dim_feat *= n\n",
        "\n",
        "        self.mlp = torch.nn.Sequential(OrderedDict([\n",
        "            ('fc1', torch.nn.Linear(dim_feat, 128)),\n",
        "            ('relu1', torch.nn.ReLU()),\n",
        "            ('drop3', torch.nn.Dropout(p=0.4)),\n",
        "            ('fc2', torch.nn.Linear(128, n_classes))\n",
        "        ]))\n",
        "\n",
        "    def forward(self, x):\n",
        "        x = self.feat(x)\n",
        "        x = x.view(x.size(0), -1)\n",
        "        x = self.mlp(x)\n",
        "        return x\n"
      ],
      "metadata": {
        "id": "BxJn-rxg5thp"
      },
      "execution_count": 5,
      "outputs": []
    },
    {
      "cell_type": "code",
      "source": [
        "from torch.optim import SGD, Adam\n",
        "from torch.nn import BCEWithLogitsLoss\n",
        "from tqdm import tqdm\n",
        "\n",
        "def blue(x): return '\\033[94m' + x + '\\033[0m'\n",
        "\n",
        "train_ds = VoxelDataset(train=True)\n",
        "test_ds = VoxelDataset(train=False)\n",
        "train_dataloader = DataLoader(dataset=train_ds, batch_size=32, shuffle=True, drop_last=True)\n",
        "test_dataloader = DataLoader(dataset=test_ds, batch_size=32)\n",
        "\n",
        "pred_conf, y_conf = [], []                                                           \n",
        "\n",
        "train_loss_history, valid_loss_history = [], []\n",
        "train_acc_history, valid_acc_history = [], []\n",
        "train_accuracy = Accuracy(task='multiclass', num_classes=10)\n",
        "valid_accuracy = Accuracy(task='multiclass', num_classes=10)\n",
        "\n",
        "model = VoxNet()\n",
        "opt = SGD(model.parameters(), lr=1e-2, weight_decay = 0)\n",
        "loss_fn = F.cross_entropy\n",
        "device = \"cuda\" if torch.cuda.is_available() else \"cpu\"\n",
        "model.to(device)\n",
        "epochs = 100\n",
        "best_val = np.inf\n",
        "\n",
        "num_batch = len(train_ds) / 32\n",
        "print(num_batch)\n",
        "\n",
        "total_time = time.time()\n",
        "\n",
        "for epoch in range(epochs):\n",
        "    t = time.time()\n",
        "\n",
        "    temp_correct = 0\n",
        "    temp_testset = 0\n",
        "    temp_correct_test = 0\n",
        "    temp_testset_test = 0\n",
        "    train_loss = []                                                         #track training loss\n",
        "    test_loss = []\n",
        "    model.train()\n",
        "    iterator = tqdm(enumerate(train_dataloader, 0))\n",
        "    for i, data in iterator:\n",
        "        inputs, labels = data[0], data[1]\n",
        "        inputs = inputs.to(device)\n",
        "        labels = labels.to(device)\n",
        "\n",
        "        opt.zero_grad()\n",
        "        pred = model(inputs)  # torch.Size([256, 10])\n",
        "        loss = F.cross_entropy(pred,labels)\n",
        "        train_loss.append(loss.cpu().data)\n",
        "        acc = train_accuracy(torch.argmax(pred, 1).cpu(), labels.cpu()) \n",
        "\n",
        "        loss.backward()\n",
        "        opt.step()\n",
        "        iterator.set_description(f\"Train loss: {loss.detach().cpu().numpy()}\")\n",
        "\n",
        "        pred_choice = pred.data.max(1)[1]\n",
        "        correct = pred_choice.eq(labels.data).cpu().sum()\n",
        "        \n",
        "        temp_correct += correct.item()\n",
        "        temp_testset += inputs.size()[0]\n",
        "        \n",
        "    with torch.no_grad():\n",
        "      model.eval()\n",
        "      for j, sample in tqdm(enumerate(test_dataloader, 0)):    \n",
        "          inputs_test, labels_test = sample[0], sample[1]\n",
        "          inputs_test = inputs_test.to(device)\n",
        "          labels_test = labels_test.to(device)\n",
        "          inputs_test = inputs_test.float()  # 转float, torch.Size([256, 1, 32, 32, 32])\n",
        "          \n",
        "          pred_test = model(inputs_test)\n",
        "          loss_test = F.nll_loss(pred_test, labels_test)\n",
        "          test_loss.append(loss.cpu().data)\n",
        "          valid_accuracy.update(torch.argmax(pred_test, 1).cpu(), labels_test.cpu())\n",
        "          pred_choice_test = pred_test.data.max(1)[1]\n",
        "          correct_test = pred_choice_test.eq(labels_test.data).cpu().sum()\n",
        "          pred_conf.append(torch.argmax(pred_test, 1))\n",
        "          y_conf.append(labels_test)\n",
        "          \n",
        "          temp_correct_test += correct_test.item()\n",
        "          temp_testset_test += inputs_test.size()[0]\n",
        "\n",
        "    #compute confusion matrix\n",
        "    a = torch.cat(pred_conf).cpu()\n",
        "    b = torch.cat(y_conf).cpu()\n",
        "    confmat = ConfusionMatrix(task='multiclass', num_classes=10, normalize=\"true\")\n",
        "    conf_matrix = confmat(a, b)\n",
        "    conf_matrix = torch.round(conf_matrix, decimals=2)\n",
        "\n",
        "    # total accuracy over all batches\n",
        "    total_train_accuracy = train_accuracy.compute()\n",
        "    total_valid_accuracy = valid_accuracy.compute()\n",
        "    train_accuracy.reset()\n",
        "    valid_accuracy.reset()\n",
        "           \n",
        "    #track loss and acc for plotting\n",
        "    train_loss_history.append(torch.mean(torch.tensor(train_loss)))\n",
        "    valid_loss_history.append(torch.mean(torch.tensor(test_loss)))\n",
        "    train_acc_history.append(total_train_accuracy)\n",
        "    valid_acc_history.append(total_valid_accuracy)\n",
        "    history = {\"train_loss\": torch.tensor(train_loss_history), \"train_acc\": torch.tensor(train_acc_history), \n",
        "               \"test_loss\": torch.tensor(valid_loss_history), \"test_acc\": torch.tensor(valid_acc_history)}\n",
        "\n",
        "    elapsed_time_epoch = time.time() - t\n",
        "    tmp0 = \"epoch:{:3d} /{:3d}\".format(epoch+1, epochs)\n",
        "    tmp1 = \"time: {:.2f} seconds\".format(elapsed_time_epoch)\n",
        "    tmp2 = \"train-loss: {:4.2f}, train-acc: {:.2%}\".format(train_loss_history[epoch], train_acc_history[epoch].item())\n",
        "    tmp3 = \"valid-loss: {:4.2f}, valid-acc: {:.2%}\\n\".format(valid_loss_history[epoch], valid_acc_history[epoch].item())\n",
        "    print(tmp0, tmp1, tmp2, tmp3, sep=\"\\n\")           \n",
        "    \n",
        "    #print(\"epoch %d: train accuracy %f\" % (epoch, temp_correct / float(temp_testset)))\n",
        "    #print(\"epoch %d: test accuracy %f\" % (epoch+1, temp_correct_test / float(temp_testset_test)))\n",
        "\n",
        "    \n",
        "\n",
        "\n",
        "total_correct = 0\n",
        "total_testset = 0\n",
        "\n",
        "model.eval()\n",
        "for i, data in tqdm(enumerate(test_dataloader, 0)):\n",
        "    inputs, labels = data[0], data[1]\n",
        "    inputs = inputs.to(device)\n",
        "    labels = labels.to(device)\n",
        "    inputs = inputs.float()  # 转float, torch.Size([256, 1, 32, 32, 32])\n",
        "\n",
        "    \n",
        "    pred = model(inputs)\n",
        "    pred_choice = pred.data.max(1)[1]\n",
        "    correct = pred_choice.eq(labels.data).cpu().sum()\n",
        "    total_correct += correct.item()\n",
        "    total_testset += inputs.size()[0]\n",
        "\n",
        "print(\"final accuracy {}\".format(total_correct / float(total_testset)))\n",
        "\n"
      ],
      "metadata": {
        "colab": {
          "base_uri": "https://localhost:8080/"
        },
        "id": "6oa5xA1t7kzU",
        "outputId": "d5488d23-9fcc-4f87-a9ea-1a5053151d1f"
      },
      "execution_count": 7,
      "outputs": [
        {
          "output_type": "stream",
          "name": "stdout",
          "text": [
            "124.71875\n"
          ]
        },
        {
          "output_type": "stream",
          "name": "stderr",
          "text": [
            "Train loss: 1.4319716691970825: : 124it [01:16,  1.62it/s]\n",
            "29it [00:08,  3.42it/s]\n"
          ]
        },
        {
          "output_type": "stream",
          "name": "stdout",
          "text": [
            "epoch:  1 /100\n",
            "time: 84.93 seconds\n",
            "train-loss: 1.86, train-acc: 37.00%\n",
            "valid-loss: 1.43, valid-acc: 53.74%\n",
            "\n"
          ]
        },
        {
          "output_type": "stream",
          "name": "stderr",
          "text": [
            "Train loss: 0.9921849966049194: : 124it [01:13,  1.70it/s]\n",
            "29it [00:08,  3.45it/s]\n"
          ]
        },
        {
          "output_type": "stream",
          "name": "stdout",
          "text": [
            "epoch:  2 /100\n",
            "time: 81.56 seconds\n",
            "train-loss: 1.12, train-acc: 62.73%\n",
            "valid-loss: 0.99, valid-acc: 68.17%\n",
            "\n"
          ]
        },
        {
          "output_type": "stream",
          "name": "stderr",
          "text": [
            "Train loss: 0.8426615595817566: : 124it [01:13,  1.68it/s]\n",
            "29it [00:08,  3.47it/s]\n"
          ]
        },
        {
          "output_type": "stream",
          "name": "stdout",
          "text": [
            "epoch:  3 /100\n",
            "time: 82.27 seconds\n",
            "train-loss: 0.92, train-acc: 69.58%\n",
            "valid-loss: 0.84, valid-acc: 70.93%\n",
            "\n"
          ]
        },
        {
          "output_type": "stream",
          "name": "stderr",
          "text": [
            "Train loss: 0.8063934445381165: : 124it [01:12,  1.72it/s]\n",
            "29it [00:08,  3.44it/s]\n"
          ]
        },
        {
          "output_type": "stream",
          "name": "stdout",
          "text": [
            "epoch:  4 /100\n",
            "time: 80.64 seconds\n",
            "train-loss: 0.84, train-acc: 73.39%\n",
            "valid-loss: 0.81, valid-acc: 72.80%\n",
            "\n"
          ]
        },
        {
          "output_type": "stream",
          "name": "stderr",
          "text": [
            "Train loss: 0.5583372712135315: : 124it [01:14,  1.67it/s]\n",
            "29it [00:09,  2.95it/s]\n"
          ]
        },
        {
          "output_type": "stream",
          "name": "stdout",
          "text": [
            "epoch:  5 /100\n",
            "time: 84.24 seconds\n",
            "train-loss: 0.75, train-acc: 75.35%\n",
            "valid-loss: 0.56, valid-acc: 70.70%\n",
            "\n"
          ]
        },
        {
          "output_type": "stream",
          "name": "stderr",
          "text": [
            "Train loss: 0.3912012577056885: : 124it [01:12,  1.71it/s]\n",
            "29it [00:08,  3.44it/s]\n"
          ]
        },
        {
          "output_type": "stream",
          "name": "stdout",
          "text": [
            "epoch:  6 /100\n",
            "time: 80.88 seconds\n",
            "train-loss: 0.71, train-acc: 76.21%\n",
            "valid-loss: 0.39, valid-acc: 75.88%\n",
            "\n"
          ]
        },
        {
          "output_type": "stream",
          "name": "stderr",
          "text": [
            "Train loss: 0.6950502395629883: : 124it [01:12,  1.71it/s]\n",
            "29it [00:09,  3.20it/s]\n"
          ]
        },
        {
          "output_type": "stream",
          "name": "stdout",
          "text": [
            "epoch:  7 /100\n",
            "time: 81.62 seconds\n",
            "train-loss: 0.66, train-acc: 79.03%\n",
            "valid-loss: 0.70, valid-acc: 76.32%\n",
            "\n"
          ]
        },
        {
          "output_type": "stream",
          "name": "stderr",
          "text": [
            "Train loss: 0.6846826672554016: : 124it [01:15,  1.65it/s]\n",
            "29it [00:08,  3.44it/s]\n"
          ]
        },
        {
          "output_type": "stream",
          "name": "stdout",
          "text": [
            "epoch:  8 /100\n",
            "time: 83.46 seconds\n",
            "train-loss: 0.62, train-acc: 80.29%\n",
            "valid-loss: 0.68, valid-acc: 78.96%\n",
            "\n"
          ]
        },
        {
          "output_type": "stream",
          "name": "stderr",
          "text": [
            "Train loss: 0.3451903760433197: : 124it [01:12,  1.71it/s]\n",
            "29it [00:08,  3.50it/s]\n"
          ]
        },
        {
          "output_type": "stream",
          "name": "stdout",
          "text": [
            "epoch:  9 /100\n",
            "time: 80.93 seconds\n",
            "train-loss: 0.59, train-acc: 80.72%\n",
            "valid-loss: 0.35, valid-acc: 80.07%\n",
            "\n"
          ]
        },
        {
          "output_type": "stream",
          "name": "stderr",
          "text": [
            "Train loss: 0.3070564568042755: : 124it [01:13,  1.69it/s]\n",
            "29it [00:08,  3.48it/s]\n"
          ]
        },
        {
          "output_type": "stream",
          "name": "stdout",
          "text": [
            "epoch: 10 /100\n",
            "time: 81.74 seconds\n",
            "train-loss: 0.56, train-acc: 81.78%\n",
            "valid-loss: 0.31, valid-acc: 79.96%\n",
            "\n"
          ]
        },
        {
          "output_type": "stream",
          "name": "stderr",
          "text": [
            "Train loss: 0.5260335206985474: : 124it [01:13,  1.70it/s]\n",
            "29it [00:08,  3.48it/s]\n"
          ]
        },
        {
          "output_type": "stream",
          "name": "stdout",
          "text": [
            "epoch: 11 /100\n",
            "time: 81.44 seconds\n",
            "train-loss: 0.55, train-acc: 82.46%\n",
            "valid-loss: 0.53, valid-acc: 80.73%\n",
            "\n"
          ]
        },
        {
          "output_type": "stream",
          "name": "stderr",
          "text": [
            "Train loss: 0.30422064661979675: : 124it [01:13,  1.68it/s]\n",
            "29it [00:08,  3.48it/s]\n"
          ]
        },
        {
          "output_type": "stream",
          "name": "stdout",
          "text": [
            "epoch: 12 /100\n",
            "time: 82.12 seconds\n",
            "train-loss: 0.51, train-acc: 83.04%\n",
            "valid-loss: 0.30, valid-acc: 81.39%\n",
            "\n"
          ]
        },
        {
          "output_type": "stream",
          "name": "stderr",
          "text": [
            "Train loss: 1.069761037826538: : 124it [01:13,  1.69it/s]\n",
            "29it [00:08,  3.49it/s]\n"
          ]
        },
        {
          "output_type": "stream",
          "name": "stdout",
          "text": [
            "epoch: 13 /100\n",
            "time: 81.89 seconds\n",
            "train-loss: 0.49, train-acc: 84.20%\n",
            "valid-loss: 1.07, valid-acc: 81.17%\n",
            "\n"
          ]
        },
        {
          "output_type": "stream",
          "name": "stderr",
          "text": [
            "Train loss: 0.9722479581832886: : 124it [01:12,  1.72it/s]\n",
            "29it [00:08,  3.49it/s]\n"
          ]
        },
        {
          "output_type": "stream",
          "name": "stdout",
          "text": [
            "epoch: 14 /100\n",
            "time: 80.47 seconds\n",
            "train-loss: 0.49, train-acc: 84.80%\n",
            "valid-loss: 0.97, valid-acc: 82.27%\n",
            "\n"
          ]
        },
        {
          "output_type": "stream",
          "name": "stderr",
          "text": [
            "Train loss: 0.6078237891197205: : 124it [01:13,  1.69it/s]\n",
            "29it [00:08,  3.47it/s]\n"
          ]
        },
        {
          "output_type": "stream",
          "name": "stdout",
          "text": [
            "epoch: 15 /100\n",
            "time: 81.82 seconds\n",
            "train-loss: 0.46, train-acc: 85.33%\n",
            "valid-loss: 0.61, valid-acc: 83.15%\n",
            "\n"
          ]
        },
        {
          "output_type": "stream",
          "name": "stderr",
          "text": [
            "Train loss: 0.25165030360221863: : 124it [01:12,  1.72it/s]\n",
            "29it [00:08,  3.49it/s]\n"
          ]
        },
        {
          "output_type": "stream",
          "name": "stdout",
          "text": [
            "epoch: 16 /100\n",
            "time: 80.56 seconds\n",
            "train-loss: 0.45, train-acc: 85.71%\n",
            "valid-loss: 0.25, valid-acc: 79.74%\n",
            "\n"
          ]
        },
        {
          "output_type": "stream",
          "name": "stderr",
          "text": [
            "Train loss: 0.3786979019641876: : 124it [01:12,  1.72it/s]\n",
            "29it [00:08,  3.47it/s]\n"
          ]
        },
        {
          "output_type": "stream",
          "name": "stdout",
          "text": [
            "epoch: 17 /100\n",
            "time: 80.46 seconds\n",
            "train-loss: 0.44, train-acc: 86.39%\n",
            "valid-loss: 0.38, valid-acc: 83.15%\n",
            "\n"
          ]
        },
        {
          "output_type": "stream",
          "name": "stderr",
          "text": [
            "Train loss: 0.2901946008205414: : 124it [01:13,  1.69it/s]\n",
            "29it [00:08,  3.48it/s]\n"
          ]
        },
        {
          "output_type": "stream",
          "name": "stdout",
          "text": [
            "epoch: 18 /100\n",
            "time: 81.87 seconds\n",
            "train-loss: 0.42, train-acc: 86.44%\n",
            "valid-loss: 0.29, valid-acc: 82.60%\n",
            "\n"
          ]
        },
        {
          "output_type": "stream",
          "name": "stderr",
          "text": [
            "Train loss: 0.45699700713157654: : 124it [01:12,  1.71it/s]\n",
            "29it [00:08,  3.47it/s]\n"
          ]
        },
        {
          "output_type": "stream",
          "name": "stdout",
          "text": [
            "epoch: 19 /100\n",
            "time: 80.98 seconds\n",
            "train-loss: 0.41, train-acc: 87.35%\n",
            "valid-loss: 0.46, valid-acc: 85.13%\n",
            "\n"
          ]
        },
        {
          "output_type": "stream",
          "name": "stderr",
          "text": [
            "Train loss: 0.3806418180465698: : 124it [01:13,  1.68it/s]\n",
            "29it [00:08,  3.46it/s]\n"
          ]
        },
        {
          "output_type": "stream",
          "name": "stdout",
          "text": [
            "epoch: 20 /100\n",
            "time: 82.12 seconds\n",
            "train-loss: 0.41, train-acc: 86.74%\n",
            "valid-loss: 0.38, valid-acc: 84.25%\n",
            "\n"
          ]
        },
        {
          "output_type": "stream",
          "name": "stderr",
          "text": [
            "Train loss: 0.39263594150543213: : 124it [01:12,  1.70it/s]\n",
            "29it [00:08,  3.43it/s]\n"
          ]
        },
        {
          "output_type": "stream",
          "name": "stdout",
          "text": [
            "epoch: 21 /100\n",
            "time: 81.25 seconds\n",
            "train-loss: 0.38, train-acc: 87.55%\n",
            "valid-loss: 0.39, valid-acc: 83.70%\n",
            "\n"
          ]
        },
        {
          "output_type": "stream",
          "name": "stderr",
          "text": [
            "Train loss: 0.18318310379981995: : 124it [01:12,  1.71it/s]\n",
            "29it [00:09,  3.03it/s]\n"
          ]
        },
        {
          "output_type": "stream",
          "name": "stdout",
          "text": [
            "epoch: 22 /100\n",
            "time: 81.96 seconds\n",
            "train-loss: 0.38, train-acc: 87.78%\n",
            "valid-loss: 0.18, valid-acc: 85.24%\n",
            "\n"
          ]
        },
        {
          "output_type": "stream",
          "name": "stderr",
          "text": [
            "Train loss: 0.35353922843933105: : 124it [01:12,  1.70it/s]\n",
            "29it [00:08,  3.45it/s]\n"
          ]
        },
        {
          "output_type": "stream",
          "name": "stdout",
          "text": [
            "epoch: 23 /100\n",
            "time: 81.43 seconds\n",
            "train-loss: 0.38, train-acc: 87.85%\n",
            "valid-loss: 0.35, valid-acc: 85.68%\n",
            "\n"
          ]
        },
        {
          "output_type": "stream",
          "name": "stderr",
          "text": [
            "Train loss: 0.27667221426963806: : 124it [01:12,  1.71it/s]\n",
            "29it [00:08,  3.47it/s]\n"
          ]
        },
        {
          "output_type": "stream",
          "name": "stdout",
          "text": [
            "epoch: 24 /100\n",
            "time: 80.79 seconds\n",
            "train-loss: 0.35, train-acc: 88.43%\n",
            "valid-loss: 0.28, valid-acc: 85.79%\n",
            "\n"
          ]
        },
        {
          "output_type": "stream",
          "name": "stderr",
          "text": [
            "Train loss: 0.26920247077941895: : 124it [01:13,  1.69it/s]\n",
            "29it [00:08,  3.48it/s]\n"
          ]
        },
        {
          "output_type": "stream",
          "name": "stdout",
          "text": [
            "epoch: 25 /100\n",
            "time: 81.93 seconds\n",
            "train-loss: 0.35, train-acc: 89.21%\n",
            "valid-loss: 0.27, valid-acc: 85.35%\n",
            "\n"
          ]
        },
        {
          "output_type": "stream",
          "name": "stderr",
          "text": [
            "Train loss: 0.24273236095905304: : 124it [01:12,  1.71it/s]\n",
            "29it [00:08,  3.46it/s]\n"
          ]
        },
        {
          "output_type": "stream",
          "name": "stdout",
          "text": [
            "epoch: 26 /100\n",
            "time: 80.98 seconds\n",
            "train-loss: 0.35, train-acc: 89.01%\n",
            "valid-loss: 0.24, valid-acc: 85.46%\n",
            "\n"
          ]
        },
        {
          "output_type": "stream",
          "name": "stderr",
          "text": [
            "Train loss: 0.2643595039844513: : 124it [01:13,  1.69it/s]\n",
            "29it [00:08,  3.29it/s]\n"
          ]
        },
        {
          "output_type": "stream",
          "name": "stdout",
          "text": [
            "epoch: 27 /100\n",
            "time: 82.11 seconds\n",
            "train-loss: 0.33, train-acc: 89.06%\n",
            "valid-loss: 0.26, valid-acc: 84.58%\n",
            "\n"
          ]
        },
        {
          "output_type": "stream",
          "name": "stderr",
          "text": [
            "Train loss: 0.2756873667240143: : 124it [01:12,  1.71it/s]\n",
            "29it [00:08,  3.49it/s]\n"
          ]
        },
        {
          "output_type": "stream",
          "name": "stdout",
          "text": [
            "epoch: 28 /100\n",
            "time: 80.67 seconds\n",
            "train-loss: 0.32, train-acc: 89.39%\n",
            "valid-loss: 0.28, valid-acc: 85.68%\n",
            "\n"
          ]
        },
        {
          "output_type": "stream",
          "name": "stderr",
          "text": [
            "Train loss: 0.21631267666816711: : 124it [01:12,  1.72it/s]\n",
            "29it [00:08,  3.48it/s]\n"
          ]
        },
        {
          "output_type": "stream",
          "name": "stdout",
          "text": [
            "epoch: 29 /100\n",
            "time: 80.38 seconds\n",
            "train-loss: 0.31, train-acc: 89.82%\n",
            "valid-loss: 0.22, valid-acc: 85.35%\n",
            "\n"
          ]
        },
        {
          "output_type": "stream",
          "name": "stderr",
          "text": [
            "Train loss: 0.1311691701412201: : 124it [01:13,  1.69it/s]\n",
            "29it [00:08,  3.47it/s]\n"
          ]
        },
        {
          "output_type": "stream",
          "name": "stdout",
          "text": [
            "epoch: 30 /100\n",
            "time: 81.64 seconds\n",
            "train-loss: 0.31, train-acc: 89.42%\n",
            "valid-loss: 0.13, valid-acc: 85.13%\n",
            "\n"
          ]
        },
        {
          "output_type": "stream",
          "name": "stderr",
          "text": [
            "Train loss: 0.4367924928665161: : 124it [01:12,  1.71it/s]\n",
            "29it [00:08,  3.47it/s]\n"
          ]
        },
        {
          "output_type": "stream",
          "name": "stdout",
          "text": [
            "epoch: 31 /100\n",
            "time: 80.81 seconds\n",
            "train-loss: 0.30, train-acc: 89.99%\n",
            "valid-loss: 0.44, valid-acc: 85.90%\n",
            "\n"
          ]
        },
        {
          "output_type": "stream",
          "name": "stderr",
          "text": [
            "Train loss: 0.2680246829986572: : 124it [01:13,  1.69it/s]\n",
            "29it [00:08,  3.50it/s]\n"
          ]
        },
        {
          "output_type": "stream",
          "name": "stdout",
          "text": [
            "epoch: 32 /100\n",
            "time: 81.73 seconds\n",
            "train-loss: 0.30, train-acc: 90.17%\n",
            "valid-loss: 0.27, valid-acc: 85.79%\n",
            "\n"
          ]
        },
        {
          "output_type": "stream",
          "name": "stderr",
          "text": [
            "Train loss: 0.0982685461640358: : 124it [01:11,  1.72it/s]\n",
            "29it [00:08,  3.51it/s]\n"
          ]
        },
        {
          "output_type": "stream",
          "name": "stdout",
          "text": [
            "epoch: 33 /100\n",
            "time: 80.22 seconds\n",
            "train-loss: 0.29, train-acc: 90.15%\n",
            "valid-loss: 0.10, valid-acc: 86.78%\n",
            "\n"
          ]
        },
        {
          "output_type": "stream",
          "name": "stderr",
          "text": [
            "Train loss: 0.39428678154945374: : 124it [01:12,  1.72it/s]\n",
            "29it [00:08,  3.49it/s]\n"
          ]
        },
        {
          "output_type": "stream",
          "name": "stdout",
          "text": [
            "epoch: 34 /100\n",
            "time: 80.35 seconds\n",
            "train-loss: 0.29, train-acc: 90.78%\n",
            "valid-loss: 0.39, valid-acc: 86.01%\n",
            "\n"
          ]
        },
        {
          "output_type": "stream",
          "name": "stderr",
          "text": [
            "Train loss: 0.2416045218706131: : 124it [01:13,  1.69it/s]\n",
            "29it [00:08,  3.51it/s]\n"
          ]
        },
        {
          "output_type": "stream",
          "name": "stdout",
          "text": [
            "epoch: 35 /100\n",
            "time: 81.55 seconds\n",
            "train-loss: 0.28, train-acc: 90.83%\n",
            "valid-loss: 0.24, valid-acc: 86.12%\n",
            "\n"
          ]
        },
        {
          "output_type": "stream",
          "name": "stderr",
          "text": [
            "Train loss: 0.17767207324504852: : 124it [01:12,  1.72it/s]\n",
            "29it [00:08,  3.49it/s]\n"
          ]
        },
        {
          "output_type": "stream",
          "name": "stdout",
          "text": [
            "epoch: 36 /100\n",
            "time: 80.49 seconds\n",
            "train-loss: 0.29, train-acc: 90.27%\n",
            "valid-loss: 0.18, valid-acc: 87.33%\n",
            "\n"
          ]
        },
        {
          "output_type": "stream",
          "name": "stderr",
          "text": [
            "Train loss: 0.3716440498828888: : 124it [01:13,  1.69it/s]\n",
            "29it [00:08,  3.50it/s]\n"
          ]
        },
        {
          "output_type": "stream",
          "name": "stdout",
          "text": [
            "epoch: 37 /100\n",
            "time: 81.88 seconds\n",
            "train-loss: 0.27, train-acc: 90.65%\n",
            "valid-loss: 0.37, valid-acc: 85.90%\n",
            "\n"
          ]
        },
        {
          "output_type": "stream",
          "name": "stderr",
          "text": [
            "Train loss: 0.2616337835788727: : 124it [01:12,  1.71it/s]\n",
            "29it [00:08,  3.47it/s]\n"
          ]
        },
        {
          "output_type": "stream",
          "name": "stdout",
          "text": [
            "epoch: 38 /100\n",
            "time: 80.79 seconds\n",
            "train-loss: 0.26, train-acc: 91.66%\n",
            "valid-loss: 0.26, valid-acc: 86.12%\n",
            "\n"
          ]
        },
        {
          "output_type": "stream",
          "name": "stderr",
          "text": [
            "Train loss: 0.24884003400802612: : 124it [01:12,  1.71it/s]\n",
            "29it [00:08,  3.48it/s]\n"
          ]
        },
        {
          "output_type": "stream",
          "name": "stdout",
          "text": [
            "epoch: 39 /100\n",
            "time: 81.01 seconds\n",
            "train-loss: 0.25, train-acc: 91.63%\n",
            "valid-loss: 0.25, valid-acc: 85.46%\n",
            "\n"
          ]
        },
        {
          "output_type": "stream",
          "name": "stderr",
          "text": [
            "Train loss: 0.34792378544807434: : 124it [01:13,  1.69it/s]\n",
            "29it [00:08,  3.48it/s]\n"
          ]
        },
        {
          "output_type": "stream",
          "name": "stdout",
          "text": [
            "epoch: 40 /100\n",
            "time: 81.74 seconds\n",
            "train-loss: 0.25, train-acc: 91.23%\n",
            "valid-loss: 0.35, valid-acc: 87.22%\n",
            "\n"
          ]
        },
        {
          "output_type": "stream",
          "name": "stderr",
          "text": [
            "Train loss: 0.12344672530889511: : 124it [01:12,  1.71it/s]\n",
            "29it [00:08,  3.46it/s]\n"
          ]
        },
        {
          "output_type": "stream",
          "name": "stdout",
          "text": [
            "epoch: 41 /100\n",
            "time: 80.89 seconds\n",
            "train-loss: 0.24, train-acc: 91.41%\n",
            "valid-loss: 0.12, valid-acc: 87.11%\n",
            "\n"
          ]
        },
        {
          "output_type": "stream",
          "name": "stderr",
          "text": [
            "Train loss: 0.18730434775352478: : 124it [01:13,  1.68it/s]\n",
            "29it [00:08,  3.43it/s]\n"
          ]
        },
        {
          "output_type": "stream",
          "name": "stdout",
          "text": [
            "epoch: 42 /100\n",
            "time: 82.19 seconds\n",
            "train-loss: 0.25, train-acc: 91.99%\n",
            "valid-loss: 0.19, valid-acc: 87.44%\n",
            "\n"
          ]
        },
        {
          "output_type": "stream",
          "name": "stderr",
          "text": [
            "Train loss: 0.2657533586025238: : 124it [01:12,  1.72it/s]\n",
            "29it [00:08,  3.50it/s]\n"
          ]
        },
        {
          "output_type": "stream",
          "name": "stdout",
          "text": [
            "epoch: 43 /100\n",
            "time: 80.35 seconds\n",
            "train-loss: 0.24, train-acc: 91.71%\n",
            "valid-loss: 0.27, valid-acc: 86.89%\n",
            "\n"
          ]
        },
        {
          "output_type": "stream",
          "name": "stderr",
          "text": [
            "Train loss: 0.41365090012550354: : 124it [01:12,  1.72it/s]\n",
            "29it [00:08,  3.51it/s]\n"
          ]
        },
        {
          "output_type": "stream",
          "name": "stdout",
          "text": [
            "epoch: 44 /100\n",
            "time: 80.41 seconds\n",
            "train-loss: 0.23, train-acc: 91.99%\n",
            "valid-loss: 0.41, valid-acc: 86.78%\n",
            "\n"
          ]
        },
        {
          "output_type": "stream",
          "name": "stderr",
          "text": [
            "Train loss: 0.5021126866340637: : 124it [01:13,  1.69it/s]\n",
            "29it [00:08,  3.49it/s]\n"
          ]
        },
        {
          "output_type": "stream",
          "name": "stdout",
          "text": [
            "epoch: 45 /100\n",
            "time: 81.67 seconds\n",
            "train-loss: 0.23, train-acc: 92.34%\n",
            "valid-loss: 0.50, valid-acc: 85.79%\n",
            "\n"
          ]
        },
        {
          "output_type": "stream",
          "name": "stderr",
          "text": [
            "Train loss: 0.2619549334049225: : 124it [01:11,  1.72it/s]\n",
            "29it [00:08,  3.50it/s]\n"
          ]
        },
        {
          "output_type": "stream",
          "name": "stdout",
          "text": [
            "epoch: 46 /100\n",
            "time: 80.25 seconds\n",
            "train-loss: 0.23, train-acc: 92.59%\n",
            "valid-loss: 0.26, valid-acc: 86.67%\n",
            "\n"
          ]
        },
        {
          "output_type": "stream",
          "name": "stderr",
          "text": [
            "Train loss: 0.1390930563211441: : 124it [01:13,  1.69it/s]\n",
            "29it [00:08,  3.51it/s]\n"
          ]
        },
        {
          "output_type": "stream",
          "name": "stdout",
          "text": [
            "epoch: 47 /100\n",
            "time: 81.52 seconds\n",
            "train-loss: 0.24, train-acc: 91.73%\n",
            "valid-loss: 0.14, valid-acc: 86.45%\n",
            "\n"
          ]
        },
        {
          "output_type": "stream",
          "name": "stderr",
          "text": [
            "Train loss: 0.2420196384191513: : 124it [01:11,  1.73it/s]\n",
            "29it [00:08,  3.50it/s]\n"
          ]
        },
        {
          "output_type": "stream",
          "name": "stdout",
          "text": [
            "epoch: 48 /100\n",
            "time: 80.17 seconds\n",
            "train-loss: 0.23, train-acc: 92.52%\n",
            "valid-loss: 0.24, valid-acc: 85.13%\n",
            "\n"
          ]
        },
        {
          "output_type": "stream",
          "name": "stderr",
          "text": [
            "Train loss: 0.27381831407546997: : 124it [01:11,  1.73it/s]\n",
            "29it [00:08,  3.50it/s]\n"
          ]
        },
        {
          "output_type": "stream",
          "name": "stdout",
          "text": [
            "epoch: 49 /100\n",
            "time: 80.19 seconds\n",
            "train-loss: 0.22, train-acc: 92.36%\n",
            "valid-loss: 0.27, valid-acc: 85.35%\n",
            "\n"
          ]
        },
        {
          "output_type": "stream",
          "name": "stderr",
          "text": [
            "Train loss: 0.2445027381181717: : 124it [01:13,  1.69it/s]\n",
            "29it [00:08,  3.49it/s]\n"
          ]
        },
        {
          "output_type": "stream",
          "name": "stdout",
          "text": [
            "epoch: 50 /100\n",
            "time: 81.56 seconds\n",
            "train-loss: 0.22, train-acc: 92.39%\n",
            "valid-loss: 0.24, valid-acc: 86.67%\n",
            "\n"
          ]
        },
        {
          "output_type": "stream",
          "name": "stderr",
          "text": [
            "Train loss: 0.2467789649963379: : 124it [01:11,  1.72it/s]\n",
            "29it [00:08,  3.50it/s]\n"
          ]
        },
        {
          "output_type": "stream",
          "name": "stdout",
          "text": [
            "epoch: 51 /100\n",
            "time: 80.32 seconds\n",
            "train-loss: 0.23, train-acc: 92.16%\n",
            "valid-loss: 0.25, valid-acc: 87.22%\n",
            "\n"
          ]
        },
        {
          "output_type": "stream",
          "name": "stderr",
          "text": [
            "Train loss: 0.18635563552379608: : 124it [01:13,  1.69it/s]\n",
            "29it [00:08,  3.46it/s]\n"
          ]
        },
        {
          "output_type": "stream",
          "name": "stdout",
          "text": [
            "epoch: 52 /100\n",
            "time: 81.58 seconds\n",
            "train-loss: 0.21, train-acc: 92.52%\n",
            "valid-loss: 0.19, valid-acc: 87.33%\n",
            "\n"
          ]
        },
        {
          "output_type": "stream",
          "name": "stderr",
          "text": [
            "Train loss: 0.25938835740089417: : 124it [01:12,  1.71it/s]\n",
            "29it [00:08,  3.48it/s]\n"
          ]
        },
        {
          "output_type": "stream",
          "name": "stdout",
          "text": [
            "epoch: 53 /100\n",
            "time: 80.77 seconds\n",
            "train-loss: 0.21, train-acc: 92.92%\n",
            "valid-loss: 0.26, valid-acc: 87.22%\n",
            "\n"
          ]
        },
        {
          "output_type": "stream",
          "name": "stderr",
          "text": [
            "Train loss: 0.10210162401199341: : 124it [01:12,  1.71it/s]\n",
            "29it [00:08,  3.45it/s]\n"
          ]
        },
        {
          "output_type": "stream",
          "name": "stdout",
          "text": [
            "epoch: 54 /100\n",
            "time: 80.96 seconds\n",
            "train-loss: 0.20, train-acc: 93.50%\n",
            "valid-loss: 0.10, valid-acc: 86.67%\n",
            "\n"
          ]
        },
        {
          "output_type": "stream",
          "name": "stderr",
          "text": [
            "Train loss: 0.08385380357503891: : 124it [01:13,  1.68it/s]\n",
            "29it [00:08,  3.47it/s]\n"
          ]
        },
        {
          "output_type": "stream",
          "name": "stdout",
          "text": [
            "epoch: 55 /100\n",
            "time: 81.97 seconds\n",
            "train-loss: 0.20, train-acc: 92.82%\n",
            "valid-loss: 0.08, valid-acc: 87.00%\n",
            "\n"
          ]
        },
        {
          "output_type": "stream",
          "name": "stderr",
          "text": [
            "Train loss: 0.13076530396938324: : 124it [01:12,  1.72it/s]\n",
            "29it [00:08,  3.51it/s]\n"
          ]
        },
        {
          "output_type": "stream",
          "name": "stdout",
          "text": [
            "epoch: 56 /100\n",
            "time: 80.47 seconds\n",
            "train-loss: 0.19, train-acc: 93.40%\n",
            "valid-loss: 0.13, valid-acc: 85.46%\n",
            "\n"
          ]
        },
        {
          "output_type": "stream",
          "name": "stderr",
          "text": [
            "Train loss: 0.11404436081647873: : 124it [01:13,  1.70it/s]\n",
            "29it [00:08,  3.44it/s]\n"
          ]
        },
        {
          "output_type": "stream",
          "name": "stdout",
          "text": [
            "epoch: 57 /100\n",
            "time: 81.61 seconds\n",
            "train-loss: 0.19, train-acc: 93.57%\n",
            "valid-loss: 0.11, valid-acc: 87.33%\n",
            "\n"
          ]
        },
        {
          "output_type": "stream",
          "name": "stderr",
          "text": [
            "Train loss: 0.2142600268125534: : 124it [01:12,  1.72it/s]\n",
            "29it [00:08,  3.46it/s]\n"
          ]
        },
        {
          "output_type": "stream",
          "name": "stdout",
          "text": [
            "epoch: 58 /100\n",
            "time: 80.47 seconds\n",
            "train-loss: 0.18, train-acc: 93.37%\n",
            "valid-loss: 0.21, valid-acc: 85.68%\n",
            "\n"
          ]
        },
        {
          "output_type": "stream",
          "name": "stderr",
          "text": [
            "Train loss: 0.18589138984680176: : 124it [01:12,  1.72it/s]\n",
            "29it [00:08,  3.46it/s]\n"
          ]
        },
        {
          "output_type": "stream",
          "name": "stdout",
          "text": [
            "epoch: 59 /100\n",
            "time: 80.54 seconds\n",
            "train-loss: 0.19, train-acc: 93.57%\n",
            "valid-loss: 0.19, valid-acc: 88.00%\n",
            "\n"
          ]
        },
        {
          "output_type": "stream",
          "name": "stderr",
          "text": [
            "Train loss: 0.19665499031543732: : 124it [01:13,  1.68it/s]\n",
            "29it [00:08,  3.46it/s]\n"
          ]
        },
        {
          "output_type": "stream",
          "name": "stdout",
          "text": [
            "epoch: 60 /100\n",
            "time: 82.24 seconds\n",
            "train-loss: 0.18, train-acc: 93.57%\n",
            "valid-loss: 0.20, valid-acc: 87.67%\n",
            "\n"
          ]
        },
        {
          "output_type": "stream",
          "name": "stderr",
          "text": [
            "Train loss: 0.3694189786911011: : 124it [01:12,  1.71it/s]\n",
            "29it [00:08,  3.47it/s]\n"
          ]
        },
        {
          "output_type": "stream",
          "name": "stdout",
          "text": [
            "epoch: 61 /100\n",
            "time: 80.77 seconds\n",
            "train-loss: 0.18, train-acc: 93.22%\n",
            "valid-loss: 0.37, valid-acc: 87.00%\n",
            "\n"
          ]
        },
        {
          "output_type": "stream",
          "name": "stderr",
          "text": [
            "Train loss: 0.14417865872383118: : 124it [01:12,  1.71it/s]\n",
            "29it [00:09,  2.99it/s]\n"
          ]
        },
        {
          "output_type": "stream",
          "name": "stdout",
          "text": [
            "epoch: 62 /100\n",
            "time: 82.15 seconds\n",
            "train-loss: 0.18, train-acc: 93.62%\n",
            "valid-loss: 0.14, valid-acc: 86.89%\n",
            "\n"
          ]
        },
        {
          "output_type": "stream",
          "name": "stderr",
          "text": [
            "Train loss: 0.12312529981136322: : 124it [01:12,  1.71it/s]\n",
            "29it [00:08,  3.47it/s]\n"
          ]
        },
        {
          "output_type": "stream",
          "name": "stdout",
          "text": [
            "epoch: 63 /100\n",
            "time: 80.78 seconds\n",
            "train-loss: 0.18, train-acc: 93.32%\n",
            "valid-loss: 0.12, valid-acc: 87.56%\n",
            "\n"
          ]
        },
        {
          "output_type": "stream",
          "name": "stderr",
          "text": [
            "Train loss: 0.06812848895788193: : 124it [01:12,  1.71it/s]\n",
            "29it [00:08,  3.47it/s]\n"
          ]
        },
        {
          "output_type": "stream",
          "name": "stdout",
          "text": [
            "epoch: 64 /100\n",
            "time: 80.70 seconds\n",
            "train-loss: 0.18, train-acc: 93.20%\n",
            "valid-loss: 0.07, valid-acc: 87.22%\n",
            "\n"
          ]
        },
        {
          "output_type": "stream",
          "name": "stderr",
          "text": [
            "Train loss: 0.05897757411003113: : 124it [01:13,  1.68it/s]\n",
            "29it [00:08,  3.47it/s]\n"
          ]
        },
        {
          "output_type": "stream",
          "name": "stdout",
          "text": [
            "epoch: 65 /100\n",
            "time: 82.14 seconds\n",
            "train-loss: 0.18, train-acc: 94.08%\n",
            "valid-loss: 0.06, valid-acc: 86.78%\n",
            "\n"
          ]
        },
        {
          "output_type": "stream",
          "name": "stderr",
          "text": [
            "Train loss: 0.038398776203393936: : 124it [01:12,  1.71it/s]\n",
            "29it [00:08,  3.47it/s]\n"
          ]
        },
        {
          "output_type": "stream",
          "name": "stdout",
          "text": [
            "epoch: 66 /100\n",
            "time: 80.93 seconds\n",
            "train-loss: 0.16, train-acc: 94.20%\n",
            "valid-loss: 0.04, valid-acc: 88.55%\n",
            "\n"
          ]
        },
        {
          "output_type": "stream",
          "name": "stderr",
          "text": [
            "Train loss: 0.031735245138406754: : 124it [01:12,  1.72it/s]\n",
            "29it [00:08,  3.48it/s]\n"
          ]
        },
        {
          "output_type": "stream",
          "name": "stdout",
          "text": [
            "epoch: 67 /100\n",
            "time: 80.60 seconds\n",
            "train-loss: 0.16, train-acc: 94.23%\n",
            "valid-loss: 0.03, valid-acc: 88.11%\n",
            "\n"
          ]
        },
        {
          "output_type": "stream",
          "name": "stderr",
          "text": [
            "Train loss: 0.0929274633526802: : 124it [01:13,  1.68it/s]\n",
            "29it [00:08,  3.46it/s]\n"
          ]
        },
        {
          "output_type": "stream",
          "name": "stdout",
          "text": [
            "epoch: 68 /100\n",
            "time: 82.22 seconds\n",
            "train-loss: 0.17, train-acc: 94.15%\n",
            "valid-loss: 0.09, valid-acc: 87.22%\n",
            "\n"
          ]
        },
        {
          "output_type": "stream",
          "name": "stderr",
          "text": [
            "Train loss: 0.04597850888967514: : 124it [01:12,  1.71it/s]\n",
            "29it [00:08,  3.45it/s]\n"
          ]
        },
        {
          "output_type": "stream",
          "name": "stdout",
          "text": [
            "epoch: 69 /100\n",
            "time: 81.06 seconds\n",
            "train-loss: 0.17, train-acc: 94.23%\n",
            "valid-loss: 0.05, valid-acc: 86.89%\n",
            "\n"
          ]
        },
        {
          "output_type": "stream",
          "name": "stderr",
          "text": [
            "Train loss: 0.17735528945922852: : 124it [01:13,  1.68it/s]\n",
            "29it [00:08,  3.47it/s]\n"
          ]
        },
        {
          "output_type": "stream",
          "name": "stdout",
          "text": [
            "epoch: 70 /100\n",
            "time: 82.22 seconds\n",
            "train-loss: 0.16, train-acc: 94.43%\n",
            "valid-loss: 0.18, valid-acc: 88.00%\n",
            "\n"
          ]
        },
        {
          "output_type": "stream",
          "name": "stderr",
          "text": [
            "Train loss: 0.0600619837641716: : 124it [01:12,  1.71it/s]\n",
            "29it [00:08,  3.47it/s]\n"
          ]
        },
        {
          "output_type": "stream",
          "name": "stdout",
          "text": [
            "epoch: 71 /100\n",
            "time: 80.97 seconds\n",
            "train-loss: 0.16, train-acc: 94.76%\n",
            "valid-loss: 0.06, valid-acc: 87.44%\n",
            "\n"
          ]
        },
        {
          "output_type": "stream",
          "name": "stderr",
          "text": [
            "Train loss: 0.14629876613616943: : 124it [01:12,  1.71it/s]\n",
            "29it [00:08,  3.45it/s]\n"
          ]
        },
        {
          "output_type": "stream",
          "name": "stdout",
          "text": [
            "epoch: 72 /100\n",
            "time: 80.77 seconds\n",
            "train-loss: 0.16, train-acc: 94.13%\n",
            "valid-loss: 0.15, valid-acc: 87.44%\n",
            "\n"
          ]
        },
        {
          "output_type": "stream",
          "name": "stderr",
          "text": [
            "Train loss: 0.07768138498067856: : 124it [01:13,  1.68it/s]\n",
            "29it [00:08,  3.46it/s]\n"
          ]
        },
        {
          "output_type": "stream",
          "name": "stdout",
          "text": [
            "epoch: 73 /100\n",
            "time: 82.04 seconds\n",
            "train-loss: 0.15, train-acc: 94.48%\n",
            "valid-loss: 0.08, valid-acc: 88.11%\n",
            "\n"
          ]
        },
        {
          "output_type": "stream",
          "name": "stderr",
          "text": [
            "Train loss: 0.2768353521823883: : 124it [01:12,  1.71it/s]\n",
            "29it [00:08,  3.46it/s]\n"
          ]
        },
        {
          "output_type": "stream",
          "name": "stdout",
          "text": [
            "epoch: 74 /100\n",
            "time: 80.84 seconds\n",
            "train-loss: 0.16, train-acc: 94.41%\n",
            "valid-loss: 0.28, valid-acc: 87.56%\n",
            "\n"
          ]
        },
        {
          "output_type": "stream",
          "name": "stderr",
          "text": [
            "Train loss: 0.15102337300777435: : 124it [01:13,  1.68it/s]\n",
            "29it [00:08,  3.48it/s]\n"
          ]
        },
        {
          "output_type": "stream",
          "name": "stdout",
          "text": [
            "epoch: 75 /100\n",
            "time: 82.18 seconds\n",
            "train-loss: 0.16, train-acc: 94.18%\n",
            "valid-loss: 0.15, valid-acc: 87.22%\n",
            "\n"
          ]
        },
        {
          "output_type": "stream",
          "name": "stderr",
          "text": [
            "Train loss: 0.07686644047498703: : 124it [01:12,  1.71it/s]\n",
            "29it [00:08,  3.45it/s]\n"
          ]
        },
        {
          "output_type": "stream",
          "name": "stdout",
          "text": [
            "epoch: 76 /100\n",
            "time: 81.14 seconds\n",
            "train-loss: 0.16, train-acc: 94.58%\n",
            "valid-loss: 0.08, valid-acc: 87.89%\n",
            "\n"
          ]
        },
        {
          "output_type": "stream",
          "name": "stderr",
          "text": [
            "Train loss: 0.25320616364479065: : 124it [01:12,  1.71it/s]\n",
            "29it [00:08,  3.44it/s]\n"
          ]
        },
        {
          "output_type": "stream",
          "name": "stdout",
          "text": [
            "epoch: 77 /100\n",
            "time: 81.09 seconds\n",
            "train-loss: 0.15, train-acc: 94.48%\n",
            "valid-loss: 0.25, valid-acc: 87.22%\n",
            "\n"
          ]
        },
        {
          "output_type": "stream",
          "name": "stderr",
          "text": [
            "Train loss: 0.045013152062892914: : 124it [01:14,  1.67it/s]\n",
            "29it [00:08,  3.46it/s]\n"
          ]
        },
        {
          "output_type": "stream",
          "name": "stdout",
          "text": [
            "epoch: 78 /100\n",
            "time: 82.46 seconds\n",
            "train-loss: 0.15, train-acc: 94.61%\n",
            "valid-loss: 0.05, valid-acc: 85.68%\n",
            "\n"
          ]
        },
        {
          "output_type": "stream",
          "name": "stderr",
          "text": [
            "Train loss: 0.04434013366699219: : 124it [01:12,  1.71it/s]\n",
            "29it [00:08,  3.45it/s]\n"
          ]
        },
        {
          "output_type": "stream",
          "name": "stdout",
          "text": [
            "epoch: 79 /100\n",
            "time: 81.02 seconds\n",
            "train-loss: 0.15, train-acc: 94.78%\n",
            "valid-loss: 0.04, valid-acc: 87.56%\n",
            "\n"
          ]
        },
        {
          "output_type": "stream",
          "name": "stderr",
          "text": [
            "Train loss: 0.10114394873380661: : 124it [01:12,  1.71it/s]\n",
            "29it [00:08,  3.46it/s]\n"
          ]
        },
        {
          "output_type": "stream",
          "name": "stdout",
          "text": [
            "epoch: 80 /100\n",
            "time: 80.87 seconds\n",
            "train-loss: 0.14, train-acc: 94.83%\n",
            "valid-loss: 0.10, valid-acc: 87.67%\n",
            "\n"
          ]
        },
        {
          "output_type": "stream",
          "name": "stderr",
          "text": [
            "Train loss: 0.28464388847351074: : 124it [01:13,  1.69it/s]\n",
            "29it [00:08,  3.48it/s]\n"
          ]
        },
        {
          "output_type": "stream",
          "name": "stdout",
          "text": [
            "epoch: 81 /100\n",
            "time: 81.93 seconds\n",
            "train-loss: 0.15, train-acc: 94.53%\n",
            "valid-loss: 0.28, valid-acc: 88.00%\n",
            "\n"
          ]
        },
        {
          "output_type": "stream",
          "name": "stderr",
          "text": [
            "Train loss: 0.3149794340133667: : 124it [01:12,  1.71it/s]\n",
            "29it [00:08,  3.45it/s]\n"
          ]
        },
        {
          "output_type": "stream",
          "name": "stdout",
          "text": [
            "epoch: 82 /100\n",
            "time: 80.86 seconds\n",
            "train-loss: 0.15, train-acc: 95.29%\n",
            "valid-loss: 0.31, valid-acc: 86.67%\n",
            "\n"
          ]
        },
        {
          "output_type": "stream",
          "name": "stderr",
          "text": [
            "Train loss: 0.0810992494225502: : 124it [01:13,  1.68it/s]\n",
            "29it [00:08,  3.42it/s]\n"
          ]
        },
        {
          "output_type": "stream",
          "name": "stdout",
          "text": [
            "epoch: 83 /100\n",
            "time: 82.10 seconds\n",
            "train-loss: 0.14, train-acc: 94.83%\n",
            "valid-loss: 0.08, valid-acc: 88.55%\n",
            "\n"
          ]
        },
        {
          "output_type": "stream",
          "name": "stderr",
          "text": [
            "Train loss: 0.15180791914463043: : 124it [01:12,  1.71it/s]\n",
            "29it [00:08,  3.47it/s]\n"
          ]
        },
        {
          "output_type": "stream",
          "name": "stdout",
          "text": [
            "epoch: 84 /100\n",
            "time: 81.03 seconds\n",
            "train-loss: 0.15, train-acc: 94.56%\n",
            "valid-loss: 0.15, valid-acc: 86.89%\n",
            "\n"
          ]
        },
        {
          "output_type": "stream",
          "name": "stderr",
          "text": [
            "Train loss: 0.19887730479240417: : 124it [01:12,  1.70it/s]\n",
            "29it [00:08,  3.45it/s]\n"
          ]
        },
        {
          "output_type": "stream",
          "name": "stdout",
          "text": [
            "epoch: 85 /100\n",
            "time: 81.39 seconds\n",
            "train-loss: 0.14, train-acc: 94.63%\n",
            "valid-loss: 0.20, valid-acc: 87.44%\n",
            "\n"
          ]
        },
        {
          "output_type": "stream",
          "name": "stderr",
          "text": [
            "Train loss: 0.0359952338039875: : 124it [01:14,  1.68it/s]\n",
            "29it [00:08,  3.47it/s]\n"
          ]
        },
        {
          "output_type": "stream",
          "name": "stdout",
          "text": [
            "epoch: 86 /100\n",
            "time: 82.41 seconds\n",
            "train-loss: 0.14, train-acc: 94.98%\n",
            "valid-loss: 0.04, valid-acc: 84.91%\n",
            "\n"
          ]
        },
        {
          "output_type": "stream",
          "name": "stderr",
          "text": [
            "Train loss: 0.2568782567977905: : 124it [01:12,  1.71it/s]\n",
            "29it [00:08,  3.42it/s]\n"
          ]
        },
        {
          "output_type": "stream",
          "name": "stdout",
          "text": [
            "epoch: 87 /100\n",
            "time: 80.85 seconds\n",
            "train-loss: 0.13, train-acc: 95.64%\n",
            "valid-loss: 0.26, valid-acc: 86.56%\n",
            "\n"
          ]
        },
        {
          "output_type": "stream",
          "name": "stderr",
          "text": [
            "Train loss: 0.23097166419029236: : 124it [01:12,  1.71it/s]\n",
            "29it [00:09,  2.99it/s]\n"
          ]
        },
        {
          "output_type": "stream",
          "name": "stdout",
          "text": [
            "epoch: 88 /100\n",
            "time: 82.25 seconds\n",
            "train-loss: 0.12, train-acc: 95.61%\n",
            "valid-loss: 0.23, valid-acc: 88.22%\n",
            "\n"
          ]
        },
        {
          "output_type": "stream",
          "name": "stderr",
          "text": [
            "Train loss: 0.08475302159786224: : 124it [01:12,  1.71it/s]\n",
            "29it [00:08,  3.46it/s]\n"
          ]
        },
        {
          "output_type": "stream",
          "name": "stdout",
          "text": [
            "epoch: 89 /100\n",
            "time: 80.89 seconds\n",
            "train-loss: 0.15, train-acc: 94.86%\n",
            "valid-loss: 0.08, valid-acc: 87.00%\n",
            "\n"
          ]
        },
        {
          "output_type": "stream",
          "name": "stderr",
          "text": [
            "Train loss: 0.14249452948570251: : 124it [01:13,  1.68it/s]\n",
            "29it [00:08,  3.46it/s]\n"
          ]
        },
        {
          "output_type": "stream",
          "name": "stdout",
          "text": [
            "epoch: 90 /100\n",
            "time: 82.03 seconds\n",
            "train-loss: 0.13, train-acc: 94.98%\n",
            "valid-loss: 0.14, valid-acc: 86.01%\n",
            "\n"
          ]
        },
        {
          "output_type": "stream",
          "name": "stderr",
          "text": [
            "Train loss: 0.12222731858491898: : 124it [01:13,  1.68it/s]\n",
            "29it [00:08,  3.45it/s]\n"
          ]
        },
        {
          "output_type": "stream",
          "name": "stdout",
          "text": [
            "epoch: 91 /100\n",
            "time: 82.25 seconds\n",
            "train-loss: 0.12, train-acc: 95.84%\n",
            "valid-loss: 0.12, valid-acc: 87.67%\n",
            "\n"
          ]
        },
        {
          "output_type": "stream",
          "name": "stderr",
          "text": [
            "Train loss: 0.1336085945367813: : 124it [01:12,  1.71it/s]\n",
            "29it [00:08,  3.47it/s]\n"
          ]
        },
        {
          "output_type": "stream",
          "name": "stdout",
          "text": [
            "epoch: 92 /100\n",
            "time: 80.92 seconds\n",
            "train-loss: 0.14, train-acc: 94.68%\n",
            "valid-loss: 0.13, valid-acc: 87.56%\n",
            "\n"
          ]
        },
        {
          "output_type": "stream",
          "name": "stderr",
          "text": [
            "Train loss: 0.1768549084663391: : 124it [01:12,  1.71it/s]\n",
            "29it [00:08,  3.45it/s]\n"
          ]
        },
        {
          "output_type": "stream",
          "name": "stdout",
          "text": [
            "epoch: 93 /100\n",
            "time: 80.89 seconds\n",
            "train-loss: 0.13, train-acc: 95.21%\n",
            "valid-loss: 0.18, valid-acc: 86.78%\n",
            "\n"
          ]
        },
        {
          "output_type": "stream",
          "name": "stderr",
          "text": [
            "Train loss: 0.21862582862377167: : 124it [01:13,  1.68it/s]\n",
            "29it [00:08,  3.46it/s]\n"
          ]
        },
        {
          "output_type": "stream",
          "name": "stdout",
          "text": [
            "epoch: 94 /100\n",
            "time: 82.39 seconds\n",
            "train-loss: 0.14, train-acc: 95.31%\n",
            "valid-loss: 0.22, valid-acc: 87.22%\n",
            "\n"
          ]
        },
        {
          "output_type": "stream",
          "name": "stderr",
          "text": [
            "Train loss: 0.016140371561050415: : 124it [01:12,  1.71it/s]\n",
            "29it [00:08,  3.45it/s]\n"
          ]
        },
        {
          "output_type": "stream",
          "name": "stdout",
          "text": [
            "epoch: 95 /100\n",
            "time: 80.84 seconds\n",
            "train-loss: 0.13, train-acc: 95.61%\n",
            "valid-loss: 0.02, valid-acc: 87.89%\n",
            "\n"
          ]
        },
        {
          "output_type": "stream",
          "name": "stderr",
          "text": [
            "Train loss: 0.038548972457647324: : 124it [01:13,  1.68it/s]\n",
            "29it [00:08,  3.47it/s]\n"
          ]
        },
        {
          "output_type": "stream",
          "name": "stdout",
          "text": [
            "epoch: 96 /100\n",
            "time: 82.21 seconds\n",
            "train-loss: 0.14, train-acc: 94.81%\n",
            "valid-loss: 0.04, valid-acc: 85.79%\n",
            "\n"
          ]
        },
        {
          "output_type": "stream",
          "name": "stderr",
          "text": [
            "Train loss: 0.1171046644449234: : 124it [01:12,  1.71it/s]\n",
            "29it [00:08,  3.46it/s]\n"
          ]
        },
        {
          "output_type": "stream",
          "name": "stdout",
          "text": [
            "epoch: 97 /100\n",
            "time: 80.81 seconds\n",
            "train-loss: 0.13, train-acc: 95.16%\n",
            "valid-loss: 0.12, valid-acc: 87.56%\n",
            "\n"
          ]
        },
        {
          "output_type": "stream",
          "name": "stderr",
          "text": [
            "Train loss: 0.050686098635196686: : 124it [01:12,  1.71it/s]\n",
            "29it [00:08,  3.47it/s]\n"
          ]
        },
        {
          "output_type": "stream",
          "name": "stdout",
          "text": [
            "epoch: 98 /100\n",
            "time: 81.04 seconds\n",
            "train-loss: 0.12, train-acc: 95.72%\n",
            "valid-loss: 0.05, valid-acc: 87.89%\n",
            "\n"
          ]
        },
        {
          "output_type": "stream",
          "name": "stderr",
          "text": [
            "Train loss: 0.20126287639141083: : 124it [01:13,  1.68it/s]\n",
            "29it [00:08,  3.47it/s]\n"
          ]
        },
        {
          "output_type": "stream",
          "name": "stdout",
          "text": [
            "epoch: 99 /100\n",
            "time: 82.05 seconds\n",
            "train-loss: 0.12, train-acc: 95.72%\n",
            "valid-loss: 0.20, valid-acc: 86.89%\n",
            "\n"
          ]
        },
        {
          "output_type": "stream",
          "name": "stderr",
          "text": [
            "Train loss: 0.11047935485839844: : 124it [01:12,  1.71it/s]\n",
            "29it [00:08,  3.46it/s]\n"
          ]
        },
        {
          "output_type": "stream",
          "name": "stdout",
          "text": [
            "epoch:100 /100\n",
            "time: 80.93 seconds\n",
            "train-loss: 0.12, train-acc: 95.79%\n",
            "valid-loss: 0.11, valid-acc: 87.44%\n",
            "\n"
          ]
        },
        {
          "output_type": "stream",
          "name": "stderr",
          "text": [
            "29it [00:08,  3.46it/s]"
          ]
        },
        {
          "output_type": "stream",
          "name": "stdout",
          "text": [
            "final accuracy 0.8810572687224669\n"
          ]
        },
        {
          "output_type": "stream",
          "name": "stderr",
          "text": [
            "\n"
          ]
        }
      ]
    },
    {
      "cell_type": "code",
      "source": [
        "fig=plt.figure(figsize = (12,7))\n",
        "sns.heatmap(conf_matrix, annot=True, fmt='g', linewidths=.4, cbar=False)\n",
        "class_names = [\"bathtub\", \"bed\", \"chair\", \"desk\", \"dresser\", \"monitor\", \"night_stand\", \"sofa\", \"table\", \"toilet\"]\n",
        "tick_marks = np.arange(len(class_names))\n",
        "plt.xticks(tick_marks, class_names, rotation=45)\n",
        "plt.yticks(tick_marks, class_names, rotation=0)\n",
        "plt.title(\"Confusion Matrix\")\n",
        "        "
      ],
      "metadata": {
        "id": "ng_DWo2tDoIF",
        "outputId": "5c77887d-7979-4d9a-8be7-fa7ea7f2dea3",
        "colab": {
          "base_uri": "https://localhost:8080/",
          "height": 501
        }
      },
      "execution_count": 8,
      "outputs": [
        {
          "output_type": "execute_result",
          "data": {
            "text/plain": [
              "Text(0.5, 1.0, 'Confusion Matrix')"
            ]
          },
          "metadata": {},
          "execution_count": 8
        },
        {
          "output_type": "display_data",
          "data": {
            "text/plain": [
              "<Figure size 864x504 with 1 Axes>"
            ],
            "image/png": "[encoded data removed]"
          },
          "metadata": {
            "needs_background": "light"
          }
        }
      ]
    },
    {
      "cell_type": "code",
      "source": [
        "def smooth(x, w=0):\n",
        "    last = x[0]\n",
        "    smoothed = []\n",
        "    for point in x:\n",
        "        smoothed_val = w * last + (1 - w) * point\n",
        "        smoothed.append(smoothed_val)\n",
        "        last = smoothed_val\n",
        "        \n",
        "    return smoothed\n",
        "\n",
        "eps = range(0, len(history[\"train_loss\"].cpu()))\n",
        "        \n",
        "sns.set_theme()\n",
        "fig, ax = plt.subplots(1, 2, figsize=(14, 4))\n",
        "fig.suptitle('Results')\n",
        "       \n",
        "ax[0].plot(eps, smooth(history[\"train_loss\"].cpu()), 'g', label='Training Loss')\n",
        "ax[0].plot(eps, smooth(history[\"test_loss\"].cpu()), 'b', label='Test Loss')\n",
        "ax[0].set_title('Loss History')\n",
        "ax[0].set(xlabel='Epochs', ylabel='Loss')\n",
        "ax[0].legend()\n",
        "        \n",
        "ax[1].plot(eps, smooth(history[\"train_acc\"].cpu()), 'g', label='Training Accuracy')\n",
        "ax[1].plot(eps, smooth(history[\"test_acc\"].cpu()), 'b', label='Test Accuracy')\n",
        "ax[1].set_title('Loss History')\n",
        "ax[1].set(xlabel='Epochs', ylabel='Accuracy')\n",
        "ax[1].legend()"
      ],
      "metadata": {
        "id": "QiavOBNHJjoX",
        "outputId": "ea3fa99e-a528-49a5-b3d8-a59216a8503a",
        "colab": {
          "base_uri": "https://localhost:8080/",
          "height": 331
        }
      },
      "execution_count": 9,
      "outputs": [
        {
          "output_type": "execute_result",
          "data": {
            "text/plain": [
              "<matplotlib.legend.Legend at 0x7f7b52e823d0>"
            ]
          },
          "metadata": {},
          "execution_count": 9
        },
        {
          "output_type": "display_data",
          "data": {
            "text/plain": [
              "<Figure size 1008x288 with 2 Axes>"
            ],
            "image/png": "[encoded data removed]"
          },
          "metadata": {}
        }
      ]
    }
  ]
}