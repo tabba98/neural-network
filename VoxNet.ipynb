{
  "nbformat": 4,
  "nbformat_minor": 0,
  "metadata": {
    "colab": {
      "provenance": [],
      "authorship_tag": "ABX9TyOK1puf8rB9nkC8MckN6D9u",
      "include_colab_link": true
    },
    "kernelspec": {
      "name": "python3",
      "display_name": "Python 3"
    },
    "language_info": {
      "name": "python"
    }
  },
  "cells": [
    {
      "cell_type": "markdown",
      "metadata": {
        "id": "view-in-github",
        "colab_type": "text"
      },
      "source": [
        "<a href=\"https://colab.research.google.com/github/tabba98/neural-network/blob/main/VoxNet.ipynb\" target=\"_parent\"><img src=\"https://colab.research.google.com/assets/colab-badge.svg\" alt=\"Open In Colab\"/></a>"
      ]
    },
    {
      "cell_type": "code",
      "source": [
        "import numpy as np\n",
        "import torch\n",
        "import torch.nn as nn\n",
        "import torch.nn.functional as F\n",
        "from torch.utils.data import Dataset, DataLoader\n",
        "!pip install torchmetrics\n",
        "from torchmetrics.classification import Accuracy\n",
        "from torchmetrics import ConfusionMatrix\n",
        "\n",
        "!pip install open3d;\n",
        "import open3d as o3d\n",
        "\n",
        "#for plotting\n",
        "import matplotlib.pyplot as plt\n",
        "import seaborn as sns\n",
        "import pandas as pd\n",
        "from sklearn.metrics import confusion_matrix\n",
        "\n",
        "import scipy\n",
        "from scipy.ndimage import rotate\n",
        "\n",
        "import time\n",
        "from tqdm import tqdm"
      ],
      "metadata": {
        "id": "Ic3yD5Ks5Stj",
        "outputId": "6a5130a2-c002-4923-b66d-e9979d3802b6",
        "colab": {
          "base_uri": "https://localhost:8080/",
          "height": 1000
        }
      },
      "execution_count": 1,
      "outputs": [
        {
          "output_type": "stream",
          "name": "stdout",
          "text": [
            "Looking in indexes: https://pypi.org/simple, https://us-python.pkg.dev/colab-wheels/public/simple/\n",
            "Collecting torchmetrics\n",
            "  Downloading torchmetrics-0.11.0-py3-none-any.whl (512 kB)\n",
            "\u001b[2K     \u001b[90m━━━━━━━━━━━━━━━━━━━━━━━━━━━━━━━━━━━━━━\u001b[0m \u001b[32m512.4/512.4 KB\u001b[0m \u001b[31m19.2 MB/s\u001b[0m eta \u001b[36m0:00:00\u001b[0m\n",
            "\u001b[?25hRequirement already satisfied: numpy>=1.17.2 in /usr/local/lib/python3.8/dist-packages (from torchmetrics) (1.21.6)\n",
            "Requirement already satisfied: torch>=1.8.1 in /usr/local/lib/python3.8/dist-packages (from torchmetrics) (1.13.1+cu116)\n",
            "Requirement already satisfied: packaging in /usr/local/lib/python3.8/dist-packages (from torchmetrics) (21.3)\n",
            "Requirement already satisfied: typing-extensions in /usr/local/lib/python3.8/dist-packages (from torchmetrics) (4.4.0)\n",
            "Requirement already satisfied: pyparsing!=3.0.5,>=2.0.2 in /usr/local/lib/python3.8/dist-packages (from packaging->torchmetrics) (3.0.9)\n",
            "Installing collected packages: torchmetrics\n",
            "Successfully installed torchmetrics-0.11.0\n",
            "Looking in indexes: https://pypi.org/simple, https://us-python.pkg.dev/colab-wheels/public/simple/\n",
            "Collecting open3d\n",
            "  Downloading open3d-0.16.0-cp38-cp38-manylinux_2_27_x86_64.whl (422.5 MB)\n",
            "\u001b[2K     \u001b[90m━━━━━━━━━━━━━━━━━━━━━━━━━━━━━━━━━━━━━━━\u001b[0m \u001b[32m422.5/422.5 MB\u001b[0m \u001b[31m2.9 MB/s\u001b[0m eta \u001b[36m0:00:00\u001b[0m\n",
            "\u001b[?25hCollecting nbformat==5.5.0\n",
            "  Downloading nbformat-5.5.0-py3-none-any.whl (75 kB)\n",
            "\u001b[2K     \u001b[90m━━━━━━━━━━━━━━━━━━━━━━━━━━━━━━━━━━━━━━━━\u001b[0m \u001b[32m75.3/75.3 KB\u001b[0m \u001b[31m7.6 MB/s\u001b[0m eta \u001b[36m0:00:00\u001b[0m\n",
            "\u001b[?25hRequirement already satisfied: matplotlib>=3 in /usr/local/lib/python3.8/dist-packages (from open3d) (3.2.2)\n",
            "Requirement already satisfied: pandas>=1.0 in /usr/local/lib/python3.8/dist-packages (from open3d) (1.3.5)\n",
            "Requirement already satisfied: scikit-learn>=0.21 in /usr/local/lib/python3.8/dist-packages (from open3d) (1.0.2)\n",
            "Collecting configargparse\n",
            "  Downloading ConfigArgParse-1.5.3-py3-none-any.whl (20 kB)\n",
            "Requirement already satisfied: ipywidgets>=7.6.0 in /usr/local/lib/python3.8/dist-packages (from open3d) (7.7.1)\n",
            "Collecting pyquaternion\n",
            "  Downloading pyquaternion-0.9.9-py3-none-any.whl (14 kB)\n",
            "Requirement already satisfied: pyyaml>=5.4.1 in /usr/local/lib/python3.8/dist-packages (from open3d) (6.0)\n",
            "Requirement already satisfied: tqdm in /usr/local/lib/python3.8/dist-packages (from open3d) (4.64.1)\n",
            "Requirement already satisfied: numpy>1.15 in /usr/local/lib/python3.8/dist-packages (from open3d) (1.21.6)\n",
            "Collecting pillow>=8.2.0\n",
            "  Downloading Pillow-9.4.0-cp38-cp38-manylinux_2_28_x86_64.whl (3.4 MB)\n",
            "\u001b[2K     \u001b[90m━━━━━━━━━━━━━━━━━━━━━━━━━━━━━━━━━━━━━━━━\u001b[0m \u001b[32m3.4/3.4 MB\u001b[0m \u001b[31m84.1 MB/s\u001b[0m eta \u001b[36m0:00:00\u001b[0m\n",
            "\u001b[?25hCollecting addict\n",
            "  Downloading addict-2.4.0-py3-none-any.whl (3.8 kB)\n",
            "Collecting dash>=2.6.0\n",
            "  Downloading dash-2.7.1-py3-none-any.whl (9.9 MB)\n",
            "\u001b[2K     \u001b[90m━━━━━━━━━━━━━━━━━━━━━━━━━━━━━━━━━━━━━━━━\u001b[0m \u001b[32m9.9/9.9 MB\u001b[0m \u001b[31m63.7 MB/s\u001b[0m eta \u001b[36m0:00:00\u001b[0m\n",
            "\u001b[?25hRequirement already satisfied: jupyter_core in /usr/local/lib/python3.8/dist-packages (from nbformat==5.5.0->open3d) (5.1.3)\n",
            "Requirement already satisfied: jsonschema>=2.6 in /usr/local/lib/python3.8/dist-packages (from nbformat==5.5.0->open3d) (4.3.3)\n",
            "Requirement already satisfied: traitlets>=5.1 in /usr/local/lib/python3.8/dist-packages (from nbformat==5.5.0->open3d) (5.7.1)\n",
            "Requirement already satisfied: fastjsonschema in /usr/local/lib/python3.8/dist-packages (from nbformat==5.5.0->open3d) (2.16.2)\n",
            "Collecting dash-core-components==2.0.0\n",
            "  Downloading dash_core_components-2.0.0-py3-none-any.whl (3.8 kB)\n",
            "Collecting dash-table==5.0.0\n",
            "  Downloading dash_table-5.0.0-py3-none-any.whl (3.9 kB)\n",
            "Collecting dash-html-components==2.0.0\n",
            "  Downloading dash_html_components-2.0.0-py3-none-any.whl (4.1 kB)\n",
            "Requirement already satisfied: Flask>=1.0.4 in /usr/local/lib/python3.8/dist-packages (from dash>=2.6.0->open3d) (1.1.4)\n",
            "Requirement already satisfied: plotly>=5.0.0 in /usr/local/lib/python3.8/dist-packages (from dash>=2.6.0->open3d) (5.5.0)\n",
            "Requirement already satisfied: jupyterlab-widgets>=1.0.0 in /usr/local/lib/python3.8/dist-packages (from ipywidgets>=7.6.0->open3d) (3.0.5)\n",
            "Requirement already satisfied: ipython>=4.0.0 in /usr/local/lib/python3.8/dist-packages (from ipywidgets>=7.6.0->open3d) (7.9.0)\n",
            "Requirement already satisfied: widgetsnbextension~=3.6.0 in /usr/local/lib/python3.8/dist-packages (from ipywidgets>=7.6.0->open3d) (3.6.1)\n",
            "Requirement already satisfied: ipython-genutils~=0.2.0 in /usr/local/lib/python3.8/dist-packages (from ipywidgets>=7.6.0->open3d) (0.2.0)\n",
            "Requirement already satisfied: ipykernel>=4.5.1 in /usr/local/lib/python3.8/dist-packages (from ipywidgets>=7.6.0->open3d) (5.3.4)\n",
            "Requirement already satisfied: python-dateutil>=2.1 in /usr/local/lib/python3.8/dist-packages (from matplotlib>=3->open3d) (2.8.2)\n",
            "Requirement already satisfied: pyparsing!=2.0.4,!=2.1.2,!=2.1.6,>=2.0.1 in /usr/local/lib/python3.8/dist-packages (from matplotlib>=3->open3d) (3.0.9)\n",
            "Requirement already satisfied: kiwisolver>=1.0.1 in /usr/local/lib/python3.8/dist-packages (from matplotlib>=3->open3d) (1.4.4)\n",
            "Requirement already satisfied: cycler>=0.10 in /usr/local/lib/python3.8/dist-packages (from matplotlib>=3->open3d) (0.11.0)\n",
            "Requirement already satisfied: pytz>=2017.3 in /usr/local/lib/python3.8/dist-packages (from pandas>=1.0->open3d) (2022.7)\n",
            "Requirement already satisfied: threadpoolctl>=2.0.0 in /usr/local/lib/python3.8/dist-packages (from scikit-learn>=0.21->open3d) (3.1.0)\n",
            "Requirement already satisfied: scipy>=1.1.0 in /usr/local/lib/python3.8/dist-packages (from scikit-learn>=0.21->open3d) (1.7.3)\n",
            "Requirement already satisfied: joblib>=0.11 in /usr/local/lib/python3.8/dist-packages (from scikit-learn>=0.21->open3d) (1.2.0)\n",
            "Requirement already satisfied: Jinja2<3.0,>=2.10.1 in /usr/local/lib/python3.8/dist-packages (from Flask>=1.0.4->dash>=2.6.0->open3d) (2.11.3)\n",
            "Requirement already satisfied: itsdangerous<2.0,>=0.24 in /usr/local/lib/python3.8/dist-packages (from Flask>=1.0.4->dash>=2.6.0->open3d) (1.1.0)\n",
            "Requirement already satisfied: click<8.0,>=5.1 in /usr/local/lib/python3.8/dist-packages (from Flask>=1.0.4->dash>=2.6.0->open3d) (7.1.2)\n",
            "Requirement already satisfied: Werkzeug<2.0,>=0.15 in /usr/local/lib/python3.8/dist-packages (from Flask>=1.0.4->dash>=2.6.0->open3d) (1.0.1)\n",
            "Requirement already satisfied: tornado>=4.2 in /usr/local/lib/python3.8/dist-packages (from ipykernel>=4.5.1->ipywidgets>=7.6.0->open3d) (6.0.4)\n",
            "Requirement already satisfied: jupyter-client in /usr/local/lib/python3.8/dist-packages (from ipykernel>=4.5.1->ipywidgets>=7.6.0->open3d) (6.1.12)\n",
            "Requirement already satisfied: backcall in /usr/local/lib/python3.8/dist-packages (from ipython>=4.0.0->ipywidgets>=7.6.0->open3d) (0.2.0)\n",
            "Requirement already satisfied: pygments in /usr/local/lib/python3.8/dist-packages (from ipython>=4.0.0->ipywidgets>=7.6.0->open3d) (2.6.1)\n",
            "Requirement already satisfied: decorator in /usr/local/lib/python3.8/dist-packages (from ipython>=4.0.0->ipywidgets>=7.6.0->open3d) (4.4.2)\n",
            "Requirement already satisfied: pexpect in /usr/local/lib/python3.8/dist-packages (from ipython>=4.0.0->ipywidgets>=7.6.0->open3d) (4.8.0)\n",
            "Requirement already satisfied: pickleshare in /usr/local/lib/python3.8/dist-packages (from ipython>=4.0.0->ipywidgets>=7.6.0->open3d) (0.7.5)\n",
            "Requirement already satisfied: prompt-toolkit<2.1.0,>=2.0.0 in /usr/local/lib/python3.8/dist-packages (from ipython>=4.0.0->ipywidgets>=7.6.0->open3d) (2.0.10)\n",
            "Requirement already satisfied: setuptools>=18.5 in /usr/local/lib/python3.8/dist-packages (from ipython>=4.0.0->ipywidgets>=7.6.0->open3d) (57.4.0)\n",
            "Collecting jedi>=0.10\n",
            "  Downloading jedi-0.18.2-py2.py3-none-any.whl (1.6 MB)\n",
            "\u001b[2K     \u001b[90m━━━━━━━━━━━━━━━━━━━━━━━━━━━━━━━━━━━━━━━━\u001b[0m \u001b[32m1.6/1.6 MB\u001b[0m \u001b[31m34.0 MB/s\u001b[0m eta \u001b[36m0:00:00\u001b[0m\n",
            "\u001b[?25hRequirement already satisfied: attrs>=17.4.0 in /usr/local/lib/python3.8/dist-packages (from jsonschema>=2.6->nbformat==5.5.0->open3d) (22.2.0)\n",
            "Requirement already satisfied: importlib-resources>=1.4.0 in /usr/local/lib/python3.8/dist-packages (from jsonschema>=2.6->nbformat==5.5.0->open3d) (5.10.2)\n",
            "Requirement already satisfied: pyrsistent!=0.17.0,!=0.17.1,!=0.17.2,>=0.14.0 in /usr/local/lib/python3.8/dist-packages (from jsonschema>=2.6->nbformat==5.5.0->open3d) (0.19.3)\n",
            "Requirement already satisfied: tenacity>=6.2.0 in /usr/local/lib/python3.8/dist-packages (from plotly>=5.0.0->dash>=2.6.0->open3d) (8.1.0)\n",
            "Requirement already satisfied: six in /usr/local/lib/python3.8/dist-packages (from plotly>=5.0.0->dash>=2.6.0->open3d) (1.15.0)\n",
            "Requirement already satisfied: notebook>=4.4.1 in /usr/local/lib/python3.8/dist-packages (from widgetsnbextension~=3.6.0->ipywidgets>=7.6.0->open3d) (5.7.16)\n",
            "Requirement already satisfied: platformdirs>=2.5 in /usr/local/lib/python3.8/dist-packages (from jupyter_core->nbformat==5.5.0->open3d) (2.6.2)\n",
            "Requirement already satisfied: zipp>=3.1.0 in /usr/local/lib/python3.8/dist-packages (from importlib-resources>=1.4.0->jsonschema>=2.6->nbformat==5.5.0->open3d) (3.11.0)\n",
            "Requirement already satisfied: parso<0.9.0,>=0.8.0 in /usr/local/lib/python3.8/dist-packages (from jedi>=0.10->ipython>=4.0.0->ipywidgets>=7.6.0->open3d) (0.8.3)\n",
            "Requirement already satisfied: MarkupSafe>=0.23 in /usr/local/lib/python3.8/dist-packages (from Jinja2<3.0,>=2.10.1->Flask>=1.0.4->dash>=2.6.0->open3d) (2.0.1)\n",
            "Requirement already satisfied: pyzmq>=17 in /usr/local/lib/python3.8/dist-packages (from notebook>=4.4.1->widgetsnbextension~=3.6.0->ipywidgets>=7.6.0->open3d) (23.2.1)\n",
            "Requirement already satisfied: Send2Trash in /usr/local/lib/python3.8/dist-packages (from notebook>=4.4.1->widgetsnbextension~=3.6.0->ipywidgets>=7.6.0->open3d) (1.8.0)\n",
            "Requirement already satisfied: nbconvert<6.0 in /usr/local/lib/python3.8/dist-packages (from notebook>=4.4.1->widgetsnbextension~=3.6.0->ipywidgets>=7.6.0->open3d) (5.6.1)\n",
            "Requirement already satisfied: terminado>=0.8.1 in /usr/local/lib/python3.8/dist-packages (from notebook>=4.4.1->widgetsnbextension~=3.6.0->ipywidgets>=7.6.0->open3d) (0.13.3)\n",
            "Requirement already satisfied: prometheus-client in /usr/local/lib/python3.8/dist-packages (from notebook>=4.4.1->widgetsnbextension~=3.6.0->ipywidgets>=7.6.0->open3d) (0.15.0)\n",
            "Requirement already satisfied: wcwidth in /usr/local/lib/python3.8/dist-packages (from prompt-toolkit<2.1.0,>=2.0.0->ipython>=4.0.0->ipywidgets>=7.6.0->open3d) (0.2.5)\n",
            "Requirement already satisfied: ptyprocess>=0.5 in /usr/local/lib/python3.8/dist-packages (from pexpect->ipython>=4.0.0->ipywidgets>=7.6.0->open3d) (0.7.0)\n",
            "Requirement already satisfied: bleach in /usr/local/lib/python3.8/dist-packages (from nbconvert<6.0->notebook>=4.4.1->widgetsnbextension~=3.6.0->ipywidgets>=7.6.0->open3d) (5.0.1)\n",
            "Requirement already satisfied: defusedxml in /usr/local/lib/python3.8/dist-packages (from nbconvert<6.0->notebook>=4.4.1->widgetsnbextension~=3.6.0->ipywidgets>=7.6.0->open3d) (0.7.1)\n",
            "Requirement already satisfied: testpath in /usr/local/lib/python3.8/dist-packages (from nbconvert<6.0->notebook>=4.4.1->widgetsnbextension~=3.6.0->ipywidgets>=7.6.0->open3d) (0.6.0)\n",
            "Requirement already satisfied: pandocfilters>=1.4.1 in /usr/local/lib/python3.8/dist-packages (from nbconvert<6.0->notebook>=4.4.1->widgetsnbextension~=3.6.0->ipywidgets>=7.6.0->open3d) (1.5.0)\n",
            "Requirement already satisfied: mistune<2,>=0.8.1 in /usr/local/lib/python3.8/dist-packages (from nbconvert<6.0->notebook>=4.4.1->widgetsnbextension~=3.6.0->ipywidgets>=7.6.0->open3d) (0.8.4)\n",
            "Requirement already satisfied: entrypoints>=0.2.2 in /usr/local/lib/python3.8/dist-packages (from nbconvert<6.0->notebook>=4.4.1->widgetsnbextension~=3.6.0->ipywidgets>=7.6.0->open3d) (0.4)\n",
            "Requirement already satisfied: webencodings in /usr/local/lib/python3.8/dist-packages (from bleach->nbconvert<6.0->notebook>=4.4.1->widgetsnbextension~=3.6.0->ipywidgets>=7.6.0->open3d) (0.5.1)\n",
            "Installing collected packages: dash-table, dash-html-components, dash-core-components, addict, pyquaternion, pillow, jedi, configargparse, nbformat, dash, open3d\n",
            "  Attempting uninstall: pillow\n",
            "    Found existing installation: Pillow 7.1.2\n",
            "    Uninstalling Pillow-7.1.2:\n",
            "      Successfully uninstalled Pillow-7.1.2\n",
            "  Attempting uninstall: nbformat\n",
            "    Found existing installation: nbformat 5.7.1\n",
            "    Uninstalling nbformat-5.7.1:\n",
            "      Successfully uninstalled nbformat-5.7.1\n",
            "Successfully installed addict-2.4.0 configargparse-1.5.3 dash-2.7.1 dash-core-components-2.0.0 dash-html-components-2.0.0 dash-table-5.0.0 jedi-0.18.2 nbformat-5.5.0 open3d-0.16.0 pillow-9.4.0 pyquaternion-0.9.9\n"
          ]
        },
        {
          "output_type": "display_data",
          "data": {
            "application/vnd.colab-display-data+json": {
              "pip_warning": {
                "packages": [
                  "PIL"
                ]
              }
            }
          },
          "metadata": {}
        }
      ]
    },
    {
      "cell_type": "code",
      "source": [
        "!wget http://3dvision.princeton.edu/projects/2014/3DShapeNets/ModelNet10.zip"
      ],
      "metadata": {
        "id": "BGBFL8fX5Uuv",
        "outputId": "cdf4092a-4145-4068-f4df-28c986ec7bf4",
        "colab": {
          "base_uri": "https://localhost:8080/"
        }
      },
      "execution_count": 2,
      "outputs": [
        {
          "output_type": "stream",
          "name": "stdout",
          "text": [
            "--2023-01-23 21:37:32--  http://3dvision.princeton.edu/projects/2014/3DShapeNets/ModelNet10.zip\n",
            "Resolving 3dvision.princeton.edu (3dvision.princeton.edu)... 128.112.136.74\n",
            "Connecting to 3dvision.princeton.edu (3dvision.princeton.edu)|128.112.136.74|:80... connected.\n",
            "HTTP request sent, awaiting response... 302 Found\n",
            "Location: https://3dvision.princeton.edu/projects/2014/3DShapeNets/ModelNet10.zip [following]\n",
            "--2023-01-23 21:37:32--  https://3dvision.princeton.edu/projects/2014/3DShapeNets/ModelNet10.zip\n",
            "Connecting to 3dvision.princeton.edu (3dvision.princeton.edu)|128.112.136.74|:443... connected.\n",
            "HTTP request sent, awaiting response... 200 OK\n",
            "Length: 473402300 (451M) [application/zip]\n",
            "Saving to: ‘ModelNet10.zip’\n",
            "\n",
            "ModelNet10.zip      100%[===================>] 451.47M   104MB/s    in 4.4s    \n",
            "\n",
            "2023-01-23 21:37:36 (103 MB/s) - ‘ModelNet10.zip’ saved [473402300/473402300]\n",
            "\n"
          ]
        }
      ]
    },
    {
      "cell_type": "code",
      "source": [
        "!unzip -q ModelNet10.zip;"
      ],
      "metadata": {
        "id": "06P5PcU8L_Xq"
      },
      "execution_count": 3,
      "outputs": []
    },
    {
      "cell_type": "code",
      "source": [
        "import os\n",
        "\n",
        "ROOT = '/content/ModelNet10/'\n",
        "CLASSES = ['bathtub', 'bed', 'chair', 'desk', 'dresser', 'monitor', 'night_stand', 'sofa', 'table', 'toilet']\n",
        "\n",
        "X = {'train': [], 'test': []}\n",
        "Y = {'train': [], 'test': []}\n",
        "\n",
        "for label, cl in enumerate(CLASSES):\n",
        "    for split in ['train', 'test']:\n",
        "        examples_dir = os.path.join(ROOT, cl, split)\n",
        "        for example in tqdm(os.listdir(examples_dir)):\n",
        "          voxel_index = []\n",
        "          if 'off' in example:\n",
        "            mesh = o3d.io.read_triangle_mesh(examples_dir+'/'+example)\n",
        "            mesh.scale(1 / np.max(mesh.get_max_bound() - mesh.get_min_bound()), center=mesh.get_center())\n",
        "            voxel_grid = o3d.geometry.VoxelGrid.create_from_triangle_mesh(mesh, voxel_size=0.05)\n",
        "            \n",
        "            X[split].append(voxel_grid)\n",
        "            Y[split].append(label)\n"
      ],
      "metadata": {
        "id": "q-fFm_XKMDMH",
        "outputId": "8963b160-3be0-4cc8-d3ac-3a93bda89218",
        "colab": {
          "base_uri": "https://localhost:8080/"
        }
      },
      "execution_count": 5,
      "outputs": [
        {
          "output_type": "stream",
          "name": "stderr",
          "text": [
            "100%|██████████| 106/106 [00:32<00:00,  3.24it/s]\n",
            "100%|██████████| 50/50 [00:14<00:00,  3.49it/s]\n",
            "100%|██████████| 516/516 [05:52<00:00,  1.46it/s]\n",
            "100%|██████████| 101/101 [00:47<00:00,  2.13it/s]\n",
            "100%|██████████| 890/890 [15:32<00:00,  1.05s/it]\n",
            "100%|██████████| 101/101 [01:26<00:00,  1.16it/s]\n",
            "100%|██████████| 200/200 [01:06<00:00,  2.99it/s]\n",
            "100%|██████████| 86/86 [00:24<00:00,  3.52it/s]\n",
            "100%|██████████| 200/200 [01:37<00:00,  2.05it/s]\n",
            "100%|██████████| 86/86 [00:40<00:00,  2.12it/s]\n",
            "100%|██████████| 465/465 [01:34<00:00,  4.90it/s]\n",
            "100%|██████████| 100/100 [00:18<00:00,  5.46it/s]\n",
            "100%|██████████| 200/200 [01:24<00:00,  2.36it/s]\n",
            "100%|██████████| 86/86 [00:35<00:00,  2.42it/s]\n",
            "100%|██████████| 680/680 [04:35<00:00,  2.47it/s]\n",
            "100%|██████████| 100/100 [00:37<00:00,  2.66it/s]\n",
            "100%|██████████| 392/392 [02:37<00:00,  2.48it/s]\n",
            "100%|██████████| 100/100 [00:14<00:00,  6.83it/s]\n",
            "100%|██████████| 345/345 [06:01<00:00,  1.05s/it]\n",
            "100%|██████████| 101/101 [02:27<00:00,  1.46s/it]\n"
          ]
        }
      ]
    },
    {
      "cell_type": "code",
      "source": [
        "class VoxelDataset(Dataset):\n",
        "    def __init__(self, train = True):\n",
        "      if train:\n",
        "          self.data = X['train']\n",
        "          self.label = Y['train']\n",
        "      else:\n",
        "          self.data = X['test']\n",
        "          self.label = Y['test']\n",
        "        \n",
        "                \n",
        "    def __len__(self):\n",
        "        return len(self.label)\n",
        "\n",
        "    def __preproc__(self, voxels):\n",
        "        \n",
        "        voxel_grid = voxels.get_voxels()\n",
        "        vox_g = np.zeros((32, 32, 32), dtype=np.int32)\n",
        "        for i in range (len(voxel_grid)):\n",
        "          voxel_index = voxel_grid[i].grid_index\n",
        "          vox_g[voxel_index[0],voxel_index[1],voxel_index[2]] = 1\n",
        "\n",
        "        #flip x\n",
        "        if np.random.randint(2):\n",
        "            vox_g = np.flip(vox_g, axis=0)\n",
        "        \n",
        "        #flip y\n",
        "        if np.random.randint(2):\n",
        "            vox_g = np.flip(vox_g, axis=1)\n",
        "        \n",
        "        angle = 360 * np.random.random_sample(1)[0]\n",
        "        vox_g = rotate(vox_g, axes=(0, 1), angle=angle, cval=0.0, reshape=False)  \n",
        "        \n",
        "        return vox_g.copy()\n",
        "\n",
        "    def __getitem__(self, idx):\n",
        "        label = self.label[idx]\n",
        "        voxels = self.data[idx]\n",
        "        voxels = self.__preproc__(voxels)\n",
        "        voxels = np.expand_dims(voxels, axis=0)\n",
        "        voxels = torch.tensor(voxels).float()\n",
        "        return voxels, label"
      ],
      "metadata": {
        "id": "pfSGCV6k5YXr"
      },
      "execution_count": 6,
      "outputs": []
    },
    {
      "cell_type": "code",
      "source": [
        "from collections import OrderedDict\n",
        "class VoxNet(nn.Module):\n",
        "    def __init__(self):\n",
        "        super(VoxNet, self).__init__()\n",
        "        n_classes = 10\n",
        "        input_shape = (32,32,32)\n",
        "        self.feat = torch.nn.Sequential(OrderedDict([\n",
        "            ('conv3d_1', torch.nn.Conv3d(in_channels=1, out_channels=32, kernel_size=5, stride=2)),\n",
        "            ('relu1', torch.nn.ReLU()),\n",
        "            #('batch1', torch.nn.BatchNorm3d(32)),\n",
        "            ('drop1', torch.nn.Dropout(p=0.2)),\n",
        "            ('conv3d_2', torch.nn.Conv3d(in_channels=32, out_channels=32, kernel_size=3)),\n",
        "            ('relu2', torch.nn.ReLU()),\n",
        "            #('batch2', torch.nn.BatchNorm3d(32)),\n",
        "            ('pool2', torch.nn.MaxPool3d(2)),\n",
        "            ('drop2', torch.nn.Dropout(p=0.3))\n",
        "        ]))\n",
        "        \n",
        "        x = self.feat(torch.autograd.Variable(torch.rand((1, 1) + input_shape)))\n",
        "        dim_feat = 1\n",
        "        for n in x.size()[1:]:\n",
        "            dim_feat *= n\n",
        "\n",
        "        self.mlp = torch.nn.Sequential(OrderedDict([\n",
        "            ('fc1', torch.nn.Linear(dim_feat, 128)),\n",
        "            ('relu1', torch.nn.ReLU()),\n",
        "            ('drop3', torch.nn.Dropout(p=0.4)),\n",
        "            ('fc2', torch.nn.Linear(128, n_classes))\n",
        "        ]))\n",
        "\n",
        "    def forward(self, x):\n",
        "        x = self.feat(x)\n",
        "        x = x.view(x.size(0), -1)\n",
        "        x = self.mlp(x)\n",
        "        return x\n"
      ],
      "metadata": {
        "id": "BxJn-rxg5thp"
      },
      "execution_count": null,
      "outputs": []
    },
    {
      "cell_type": "code",
      "source": [
        "from torch.optim import SGD, Adam\n",
        "from torch.nn import BCEWithLogitsLoss\n",
        "\n",
        "\n",
        "def blue(x): return '\\033[94m' + x + '\\033[0m'\n",
        "\n",
        "train_ds = VoxelDataset(train=True)\n",
        "test_ds = VoxelDataset(train=False)\n",
        "train_dataloader = DataLoader(dataset=train_ds, batch_size=32, shuffle=True, drop_last=True)\n",
        "test_dataloader = DataLoader(dataset=test_ds, batch_size=32)\n",
        "\n",
        "pred_conf, y_conf = [], []                                                           \n",
        "\n",
        "train_loss_history, valid_loss_history = [], []\n",
        "train_acc_history, valid_acc_history = [], []\n",
        "train_accuracy = Accuracy(task='multiclass', num_classes=10)\n",
        "valid_accuracy = Accuracy(task='multiclass', num_classes=10)\n",
        "\n",
        "model = VoxNet()\n",
        "opt = SGD(model.parameters(), lr=1e-2, weight_decay = 0)\n",
        "loss_fn = F.cross_entropy\n",
        "device = \"cuda\" if torch.cuda.is_available() else \"cpu\"\n",
        "model.to(device)\n",
        "epochs = 100\n",
        "best_val = np.inf\n",
        "\n",
        "num_batch = len(train_ds) / 32\n",
        "print(num_batch)\n",
        "\n",
        "total_time = time.time()\n",
        "\n",
        "for epoch in range(epochs):\n",
        "    t = time.time()\n",
        "\n",
        "    temp_correct = 0\n",
        "    temp_testset = 0\n",
        "    temp_correct_test = 0\n",
        "    temp_testset_test = 0\n",
        "    train_loss = []                                                         #track training loss\n",
        "    test_loss = []\n",
        "    model.train()\n",
        "    iterator = tqdm(enumerate(train_dataloader, 0))\n",
        "    for i, data in iterator:\n",
        "        inputs, labels = data[0], data[1]\n",
        "        inputs = inputs.to(device)\n",
        "        labels = labels.to(device)\n",
        "\n",
        "        opt.zero_grad()\n",
        "        pred = model(inputs)  # torch.Size([256, 10])\n",
        "        loss = F.cross_entropy(pred,labels)\n",
        "        train_loss.append(loss.cpu().data)\n",
        "        train_accuracy.update(torch.argmax(pred, 1).cpu(), labels.cpu()) \n",
        "\n",
        "        loss.backward()\n",
        "        opt.step()\n",
        "        iterator.set_description(f\"Train loss: {loss.cpu().data}\")\n",
        "        \n",
        "        pred_choice = pred.data.max(1)[1]\n",
        "        correct = pred_choice.eq(labels.data).cpu().sum()\n",
        "        \n",
        "        temp_correct += correct.item()\n",
        "        temp_testset += inputs.size()[0]\n",
        "\n",
        "    \n",
        "    with torch.no_grad():\n",
        "      model.eval()\n",
        "      for j, sample in tqdm(enumerate(test_dataloader, 0)):    \n",
        "          inputs_test, labels_test = sample[0], sample[1]\n",
        "          inputs_test = inputs_test.to(device)\n",
        "          labels_test = labels_test.to(device)\n",
        "          inputs_test = inputs_test.float()  # 转float, torch.Size([256, 1, 32, 32, 32])\n",
        "          \n",
        "          pred_test = model(inputs_test)\n",
        "          loss_test = F.cross_entropy(pred_test, labels_test)\n",
        "          test_loss.append(loss_test.cpu().data)\n",
        "          valid_accuracy.update(torch.argmax(pred_test, 1).cpu(), labels_test.cpu())\n",
        "          pred_choice_test = pred_test.data.max(1)[1]\n",
        "\n",
        "          correct_test = pred_choice_test.eq(labels_test.data).cpu().sum()\n",
        "          pred_conf.append(torch.argmax(pred_test, 1))\n",
        "          y_conf.append(labels_test)\n",
        "          \n",
        "          temp_correct_test += correct_test.item()\n",
        "          temp_testset_test += inputs_test.size()[0]\n",
        "\n",
        "    #compute confusion matrix\n",
        "    a = torch.cat(pred_conf).cpu()\n",
        "    b = torch.cat(y_conf).cpu()\n",
        "    confmat = ConfusionMatrix(task='multiclass', num_classes=10, normalize=\"true\")\n",
        "    conf_matrix = confmat(a, b)\n",
        "    conf_matrix = torch.round(conf_matrix, decimals=2)\n",
        "\n",
        "    # total accuracy over all batches\n",
        "    total_train_accuracy = train_accuracy.compute()\n",
        "    total_valid_accuracy = valid_accuracy.compute()\n",
        "    train_accuracy.reset()\n",
        "    valid_accuracy.reset()\n",
        "           \n",
        "    #track loss and acc for plotting\n",
        "    train_loss_history.append(torch.mean(torch.tensor(train_loss)))\n",
        "    valid_loss_history.append(torch.mean(torch.tensor(test_loss)))\n",
        "    train_acc_history.append(total_train_accuracy)\n",
        "    valid_acc_history.append(total_valid_accuracy)\n",
        "    history = {\"train_loss\": torch.tensor(train_loss_history), \"train_acc\": torch.tensor(train_acc_history), \n",
        "               \"test_loss\": torch.tensor(valid_loss_history), \"test_acc\": torch.tensor(valid_acc_history)}\n",
        "\n",
        "    elapsed_time_epoch = time.time() - t\n",
        "    tmp0 = \"epoch:{:3d} /{:3d}\".format(epoch+1, epochs)\n",
        "    tmp1 = \"time: {:.2f} seconds\".format(elapsed_time_epoch)\n",
        "    tmp2 = \"train-loss: {:4.2f}, train-acc: {:.2%}\".format(train_loss_history[epoch], train_acc_history[epoch].item())\n",
        "    tmp3 = \"valid-loss: {:4.2f}, valid-acc: {:.2%}\\n\".format(valid_loss_history[epoch], valid_acc_history[epoch].item())\n",
        "    print(tmp0, tmp1, tmp2, tmp3, sep=\"\\n\")           \n",
        "    \n",
        "    #print(\"epoch %d: train accuracy %f\" % (epoch, temp_correct / float(temp_testset)))\n",
        "    #print(\"epoch %d: test accuracy %f\" % (epoch+1, temp_correct_test / float(temp_testset_test)))\n",
        "\n",
        "    \n",
        "\n",
        "\n",
        "total_correct = 0\n",
        "total_testset = 0\n",
        "\n",
        "model.eval()\n",
        "for i, data in tqdm(enumerate(test_dataloader, 0)):\n",
        "    inputs, labels = data[0], data[1]\n",
        "    inputs = inputs.to(device)\n",
        "    labels = labels.to(device)\n",
        "    inputs = inputs.float()  # 转float, torch.Size([256, 1, 32, 32, 32])\n",
        "\n",
        "    \n",
        "    pred = model(inputs)\n",
        "    pred_choice = pred.data.max(1)[1]\n",
        "    correct = pred_choice.eq(labels.data).cpu().sum()\n",
        "    total_correct += correct.item()\n",
        "    total_testset += inputs.size()[0]\n",
        "\n",
        "print(\"final accuracy {}\".format(total_correct / float(total_testset)))\n",
        "\n"
      ],
      "metadata": {
        "colab": {
          "base_uri": "https://localhost:8080/"
        },
        "id": "6oa5xA1t7kzU",
        "outputId": "fb1d4a6f-7bc6-4386-a446-cca7098115d6"
      },
      "execution_count": null,
      "outputs": [
        {
          "metadata": {
            "tags": null
          },
          "name": "stdout",
          "output_type": "stream",
          "text": [
            "124.71875\n"
          ]
        },
        {
          "metadata": {
            "tags": null
          },
          "name": "stderr",
          "output_type": "stream",
          "text": [
            "Train loss: 2.026557683944702: : 124it [01:19,  1.56it/s]\n",
            "29it [00:10,  2.82it/s]\n"
          ]
        },
        {
          "metadata": {
            "tags": null
          },
          "name": "stdout",
          "output_type": "stream",
          "text": [
            "epoch:  1 /100\n",
            "time: 89.82 seconds\n",
            "train-loss: 2.21, train-acc: 21.50%\n",
            "valid-loss: 2.27, valid-acc: 22.58%\n",
            "\n"
          ]
        },
        {
          "metadata": {
            "tags": null
          },
          "name": "stderr",
          "output_type": "stream",
          "text": [
            "Train loss: 1.619508981704712: : 124it [01:19,  1.57it/s]\n",
            "29it [00:10,  2.79it/s]\n"
          ]
        },
        {
          "metadata": {
            "tags": null
          },
          "name": "stdout",
          "output_type": "stream",
          "text": [
            "epoch:  2 /100\n",
            "time: 89.54 seconds\n",
            "train-loss: 1.81, train-acc: 41.86%\n",
            "valid-loss: 1.80, valid-acc: 38.77%\n",
            "\n"
          ]
        },
        {
          "metadata": {
            "tags": null
          },
          "name": "stderr",
          "output_type": "stream",
          "text": [
            "Train loss: 1.5174211263656616: : 124it [01:19,  1.57it/s]\n",
            "29it [00:10,  2.81it/s]\n"
          ]
        },
        {
          "metadata": {
            "tags": null
          },
          "name": "stdout",
          "output_type": "stream",
          "text": [
            "epoch:  3 /100\n",
            "time: 89.54 seconds\n",
            "train-loss: 1.49, train-acc: 51.41%\n",
            "valid-loss: 1.63, valid-acc: 39.43%\n",
            "\n"
          ]
        },
        {
          "metadata": {
            "tags": null
          },
          "name": "stderr",
          "output_type": "stream",
          "text": [
            "Train loss: 1.1745524406433105: : 124it [01:18,  1.57it/s]\n",
            "29it [00:10,  2.83it/s]\n"
          ]
        },
        {
          "metadata": {
            "tags": null
          },
          "name": "stdout",
          "output_type": "stream",
          "text": [
            "epoch:  4 /100\n",
            "time: 89.26 seconds\n",
            "train-loss: 1.32, train-acc: 55.80%\n",
            "valid-loss: 1.38, valid-acc: 51.54%\n",
            "\n"
          ]
        },
        {
          "metadata": {
            "tags": null
          },
          "name": "stderr",
          "output_type": "stream",
          "text": [
            "Train loss: 1.1341745853424072: : 124it [01:19,  1.57it/s]\n",
            "29it [00:10,  2.81it/s]\n"
          ]
        },
        {
          "metadata": {
            "tags": null
          },
          "name": "stdout",
          "output_type": "stream",
          "text": [
            "epoch:  5 /100\n",
            "time: 89.55 seconds\n",
            "train-loss: 1.20, train-acc: 59.68%\n",
            "valid-loss: 1.31, valid-acc: 50.88%\n",
            "\n"
          ]
        },
        {
          "metadata": {
            "tags": null
          },
          "name": "stderr",
          "output_type": "stream",
          "text": [
            "Train loss: 1.0243195295333862: : 124it [01:19,  1.56it/s]\n",
            "29it [00:10,  2.83it/s]\n"
          ]
        },
        {
          "metadata": {
            "tags": null
          },
          "name": "stdout",
          "output_type": "stream",
          "text": [
            "epoch:  6 /100\n",
            "time: 89.56 seconds\n",
            "train-loss: 1.12, train-acc: 61.27%\n",
            "valid-loss: 1.15, valid-acc: 59.25%\n",
            "\n"
          ]
        },
        {
          "metadata": {
            "tags": null
          },
          "name": "stderr",
          "output_type": "stream",
          "text": [
            "Train loss: 0.9171352982521057: : 124it [01:19,  1.57it/s]\n",
            "29it [00:10,  2.82it/s]\n"
          ]
        },
        {
          "metadata": {
            "tags": null
          },
          "name": "stdout",
          "output_type": "stream",
          "text": [
            "epoch:  7 /100\n",
            "time: 89.30 seconds\n",
            "train-loss: 1.05, train-acc: 63.26%\n",
            "valid-loss: 1.15, valid-acc: 58.92%\n",
            "\n"
          ]
        },
        {
          "metadata": {
            "tags": null
          },
          "name": "stderr",
          "output_type": "stream",
          "text": [
            "Train loss: 1.1325923204421997: : 124it [01:18,  1.57it/s]\n",
            "29it [00:10,  2.84it/s]\n"
          ]
        },
        {
          "metadata": {
            "tags": null
          },
          "name": "stdout",
          "output_type": "stream",
          "text": [
            "epoch:  8 /100\n",
            "time: 89.04 seconds\n",
            "train-loss: 1.02, train-acc: 65.10%\n",
            "valid-loss: 1.10, valid-acc: 60.24%\n",
            "\n"
          ]
        },
        {
          "metadata": {
            "tags": null
          },
          "name": "stderr",
          "output_type": "stream",
          "text": [
            "Train loss: 0.9798476099967957: : 124it [01:18,  1.58it/s]\n",
            "29it [00:10,  2.84it/s]\n"
          ]
        },
        {
          "metadata": {
            "tags": null
          },
          "name": "stdout",
          "output_type": "stream",
          "text": [
            "epoch:  9 /100\n",
            "time: 88.90 seconds\n",
            "train-loss: 1.00, train-acc: 65.85%\n",
            "valid-loss: 1.11, valid-acc: 60.57%\n",
            "\n"
          ]
        },
        {
          "metadata": {
            "tags": null
          },
          "name": "stderr",
          "output_type": "stream",
          "text": [
            "Train loss: 1.1301872730255127: : 124it [01:18,  1.57it/s]\n",
            "29it [00:10,  2.83it/s]\n"
          ]
        },
        {
          "metadata": {
            "tags": null
          },
          "name": "stdout",
          "output_type": "stream",
          "text": [
            "epoch: 10 /100\n",
            "time: 89.24 seconds\n",
            "train-loss: 0.99, train-acc: 65.17%\n",
            "valid-loss: 1.07, valid-acc: 62.44%\n",
            "\n"
          ]
        },
        {
          "metadata": {
            "tags": null
          },
          "name": "stderr",
          "output_type": "stream",
          "text": [
            "Train loss: 0.7483451962471008: : 124it [01:18,  1.57it/s]\n",
            "29it [00:10,  2.79it/s]\n"
          ]
        },
        {
          "metadata": {
            "tags": null
          },
          "name": "stdout",
          "output_type": "stream",
          "text": [
            "epoch: 11 /100\n",
            "time: 89.31 seconds\n",
            "train-loss: 0.95, train-acc: 67.06%\n",
            "valid-loss: 1.05, valid-acc: 62.33%\n",
            "\n"
          ]
        },
        {
          "metadata": {
            "tags": null
          },
          "name": "stderr",
          "output_type": "stream",
          "text": [
            "Train loss: 0.8933073282241821: : 124it [01:19,  1.56it/s]\n",
            "29it [00:10,  2.80it/s]\n"
          ]
        },
        {
          "metadata": {
            "tags": null
          },
          "name": "stdout",
          "output_type": "stream",
          "text": [
            "epoch: 12 /100\n",
            "time: 89.68 seconds\n",
            "train-loss: 0.94, train-acc: 67.04%\n",
            "valid-loss: 1.05, valid-acc: 64.65%\n",
            "\n"
          ]
        },
        {
          "metadata": {
            "tags": null
          },
          "name": "stderr",
          "output_type": "stream",
          "text": [
            "Train loss: 1.0196353197097778: : 124it [01:18,  1.57it/s]\n",
            "29it [00:10,  2.79it/s]\n"
          ]
        },
        {
          "metadata": {
            "tags": null
          },
          "name": "stdout",
          "output_type": "stream",
          "text": [
            "epoch: 13 /100\n",
            "time: 89.43 seconds\n",
            "train-loss: 0.91, train-acc: 68.88%\n",
            "valid-loss: 1.01, valid-acc: 64.54%\n",
            "\n"
          ]
        },
        {
          "metadata": {
            "tags": null
          },
          "name": "stderr",
          "output_type": "stream",
          "text": [
            "Train loss: 0.7418619394302368: : 124it [01:19,  1.56it/s]\n",
            "29it [00:10,  2.81it/s]\n"
          ]
        },
        {
          "metadata": {
            "tags": null
          },
          "name": "stdout",
          "output_type": "stream",
          "text": [
            "epoch: 14 /100\n",
            "time: 89.68 seconds\n",
            "train-loss: 0.92, train-acc: 67.72%\n",
            "valid-loss: 0.99, valid-acc: 66.52%\n",
            "\n"
          ]
        },
        {
          "metadata": {
            "tags": null
          },
          "name": "stderr",
          "output_type": "stream",
          "text": [
            "Train loss: 0.758653998374939: : 124it [01:19,  1.57it/s]\n",
            "29it [00:10,  2.81it/s]\n"
          ]
        },
        {
          "metadata": {
            "tags": null
          },
          "name": "stdout",
          "output_type": "stream",
          "text": [
            "epoch: 15 /100\n",
            "time: 89.51 seconds\n",
            "train-loss: 0.88, train-acc: 69.41%\n",
            "valid-loss: 0.93, valid-acc: 68.28%\n",
            "\n"
          ]
        },
        {
          "metadata": {
            "tags": null
          },
          "name": "stderr",
          "output_type": "stream",
          "text": [
            "Train loss: 1.1442896127700806: : 124it [01:19,  1.56it/s]\n",
            "29it [00:10,  2.80it/s]\n"
          ]
        },
        {
          "metadata": {
            "tags": null
          },
          "name": "stdout",
          "output_type": "stream",
          "text": [
            "epoch: 16 /100\n",
            "time: 89.69 seconds\n",
            "train-loss: 0.87, train-acc: 69.43%\n",
            "valid-loss: 0.98, valid-acc: 66.63%\n",
            "\n"
          ]
        },
        {
          "metadata": {
            "tags": null
          },
          "name": "stderr",
          "output_type": "stream",
          "text": [
            "Train loss: 1.0217769145965576: : 124it [01:19,  1.57it/s]\n",
            "29it [00:10,  2.81it/s]\n"
          ]
        },
        {
          "metadata": {
            "tags": null
          },
          "name": "stdout",
          "output_type": "stream",
          "text": [
            "epoch: 17 /100\n",
            "time: 89.51 seconds\n",
            "train-loss: 0.85, train-acc: 70.36%\n",
            "valid-loss: 0.94, valid-acc: 68.72%\n",
            "\n"
          ]
        },
        {
          "metadata": {
            "tags": null
          },
          "name": "stderr",
          "output_type": "stream",
          "text": [
            "Train loss: 0.5884907245635986: : 124it [01:19,  1.57it/s]\n",
            "29it [00:10,  2.81it/s]\n"
          ]
        },
        {
          "metadata": {
            "tags": null
          },
          "name": "stdout",
          "output_type": "stream",
          "text": [
            "epoch: 18 /100\n",
            "time: 89.53 seconds\n",
            "train-loss: 0.85, train-acc: 70.39%\n",
            "valid-loss: 0.94, valid-acc: 65.53%\n",
            "\n"
          ]
        },
        {
          "metadata": {
            "tags": null
          },
          "name": "stderr",
          "output_type": "stream",
          "text": [
            "Train loss: 0.6925227642059326: : 124it [01:18,  1.57it/s]\n",
            "29it [00:10,  2.83it/s]\n"
          ]
        },
        {
          "metadata": {
            "tags": null
          },
          "name": "stdout",
          "output_type": "stream",
          "text": [
            "epoch: 19 /100\n",
            "time: 89.01 seconds\n",
            "train-loss: 0.81, train-acc: 72.18%\n",
            "valid-loss: 0.88, valid-acc: 69.16%\n",
            "\n"
          ]
        },
        {
          "metadata": {
            "tags": null
          },
          "name": "stderr",
          "output_type": "stream",
          "text": [
            "Train loss: 0.7020254731178284: : 124it [01:18,  1.57it/s]\n",
            "29it [00:10,  2.82it/s]\n"
          ]
        },
        {
          "metadata": {
            "tags": null
          },
          "name": "stdout",
          "output_type": "stream",
          "text": [
            "epoch: 20 /100\n",
            "time: 89.09 seconds\n",
            "train-loss: 0.83, train-acc: 70.54%\n",
            "valid-loss: 0.87, valid-acc: 69.49%\n",
            "\n"
          ]
        },
        {
          "metadata": {
            "tags": null
          },
          "name": "stderr",
          "output_type": "stream",
          "text": [
            "Train loss: 0.9942561984062195: : 124it [01:21,  1.53it/s]\n",
            "29it [00:10,  2.83it/s]\n"
          ]
        },
        {
          "metadata": {
            "tags": null
          },
          "name": "stdout",
          "output_type": "stream",
          "text": [
            "epoch: 21 /100\n",
            "time: 91.32 seconds\n",
            "train-loss: 0.82, train-acc: 72.58%\n",
            "valid-loss: 0.89, valid-acc: 68.17%\n",
            "\n"
          ]
        },
        {
          "metadata": {
            "tags": null
          },
          "name": "stderr",
          "output_type": "stream",
          "text": [
            "Train loss: 0.863102912902832: : 124it [01:19,  1.57it/s]\n",
            "29it [00:10,  2.81it/s]\n"
          ]
        },
        {
          "metadata": {
            "tags": null
          },
          "name": "stdout",
          "output_type": "stream",
          "text": [
            "epoch: 22 /100\n",
            "time: 89.50 seconds\n",
            "train-loss: 0.80, train-acc: 73.26%\n",
            "valid-loss: 0.85, valid-acc: 69.27%\n",
            "\n"
          ]
        },
        {
          "metadata": {
            "tags": null
          },
          "name": "stderr",
          "output_type": "stream",
          "text": [
            "Train loss: 0.9609313607215881: : 124it [01:19,  1.56it/s]\n",
            "29it [00:10,  2.81it/s]\n"
          ]
        },
        {
          "metadata": {
            "tags": null
          },
          "name": "stdout",
          "output_type": "stream",
          "text": [
            "epoch: 23 /100\n",
            "time: 89.81 seconds\n",
            "train-loss: 0.78, train-acc: 74.07%\n",
            "valid-loss: 0.83, valid-acc: 71.37%\n",
            "\n"
          ]
        },
        {
          "metadata": {
            "tags": null
          },
          "name": "stderr",
          "output_type": "stream",
          "text": [
            "Train loss: 0.7038715481758118: : 124it [01:19,  1.57it/s]\n",
            "29it [00:10,  2.80it/s]\n"
          ]
        },
        {
          "metadata": {
            "tags": null
          },
          "name": "stdout",
          "output_type": "stream",
          "text": [
            "epoch: 24 /100\n",
            "time: 89.39 seconds\n",
            "train-loss: 0.76, train-acc: 73.92%\n",
            "valid-loss: 0.85, valid-acc: 70.15%\n",
            "\n"
          ]
        },
        {
          "metadata": {
            "tags": null
          },
          "name": "stderr",
          "output_type": "stream",
          "text": [
            "Train loss: 0.72635817527771: : 124it [01:19,  1.56it/s]\n",
            "29it [00:10,  2.83it/s]\n"
          ]
        },
        {
          "metadata": {
            "tags": null
          },
          "name": "stdout",
          "output_type": "stream",
          "text": [
            "epoch: 25 /100\n",
            "time: 89.59 seconds\n",
            "train-loss: 0.74, train-acc: 74.40%\n",
            "valid-loss: 0.82, valid-acc: 71.81%\n",
            "\n"
          ]
        },
        {
          "metadata": {
            "tags": null
          },
          "name": "stderr",
          "output_type": "stream",
          "text": [
            "Train loss: 0.8211084008216858: : 124it [01:19,  1.56it/s]\n",
            "29it [00:10,  2.79it/s]\n"
          ]
        },
        {
          "metadata": {
            "tags": null
          },
          "name": "stdout",
          "output_type": "stream",
          "text": [
            "epoch: 26 /100\n",
            "time: 89.96 seconds\n",
            "train-loss: 0.72, train-acc: 75.13%\n",
            "valid-loss: 0.82, valid-acc: 71.59%\n",
            "\n"
          ]
        },
        {
          "metadata": {
            "tags": null
          },
          "name": "stderr",
          "output_type": "stream",
          "text": [
            "Train loss: 0.7766476273536682: : 124it [01:19,  1.55it/s]\n",
            "29it [00:10,  2.78it/s]\n"
          ]
        },
        {
          "metadata": {
            "tags": null
          },
          "name": "stdout",
          "output_type": "stream",
          "text": [
            "epoch: 27 /100\n",
            "time: 90.21 seconds\n",
            "train-loss: 0.73, train-acc: 74.40%\n",
            "valid-loss: 0.81, valid-acc: 72.58%\n",
            "\n"
          ]
        },
        {
          "metadata": {
            "tags": null
          },
          "name": "stderr",
          "output_type": "stream",
          "text": [
            "Train loss: 0.6669003367424011: : 124it [01:19,  1.57it/s]\n",
            "29it [00:10,  2.80it/s]\n"
          ]
        },
        {
          "metadata": {
            "tags": null
          },
          "name": "stdout",
          "output_type": "stream",
          "text": [
            "epoch: 28 /100\n",
            "time: 89.51 seconds\n",
            "train-loss: 0.71, train-acc: 76.06%\n",
            "valid-loss: 0.82, valid-acc: 72.69%\n",
            "\n"
          ]
        },
        {
          "metadata": {
            "tags": null
          },
          "name": "stderr",
          "output_type": "stream",
          "text": [
            "Train loss: 0.9096843600273132: : 124it [01:21,  1.52it/s]\n",
            "29it [00:10,  2.80it/s]\n"
          ]
        },
        {
          "metadata": {
            "tags": null
          },
          "name": "stdout",
          "output_type": "stream",
          "text": [
            "epoch: 29 /100\n",
            "time: 91.76 seconds\n",
            "train-loss: 0.70, train-acc: 76.11%\n",
            "valid-loss: 0.76, valid-acc: 74.01%\n",
            "\n"
          ]
        },
        {
          "metadata": {
            "tags": null
          },
          "name": "stderr",
          "output_type": "stream",
          "text": [
            "Train loss: 0.8210710883140564: : 124it [01:19,  1.56it/s]\n",
            "29it [00:10,  2.82it/s]\n"
          ]
        },
        {
          "metadata": {
            "tags": null
          },
          "name": "stdout",
          "output_type": "stream",
          "text": [
            "epoch: 30 /100\n",
            "time: 89.65 seconds\n",
            "train-loss: 0.69, train-acc: 77.09%\n",
            "valid-loss: 0.76, valid-acc: 74.56%\n",
            "\n"
          ]
        },
        {
          "metadata": {
            "tags": null
          },
          "name": "stderr",
          "output_type": "stream",
          "text": [
            "Train loss: 0.6366649270057678: : 124it [01:18,  1.57it/s]\n",
            "29it [00:10,  2.83it/s]\n"
          ]
        },
        {
          "metadata": {
            "tags": null
          },
          "name": "stdout",
          "output_type": "stream",
          "text": [
            "epoch: 31 /100\n",
            "time: 89.12 seconds\n",
            "train-loss: 0.68, train-acc: 76.89%\n",
            "valid-loss: 0.78, valid-acc: 73.68%\n",
            "\n"
          ]
        },
        {
          "metadata": {
            "tags": null
          },
          "name": "stderr",
          "output_type": "stream",
          "text": [
            "Train loss: 0.6743038892745972: : 124it [01:19,  1.57it/s]\n",
            "29it [00:10,  2.82it/s]\n"
          ]
        },
        {
          "metadata": {
            "tags": null
          },
          "name": "stdout",
          "output_type": "stream",
          "text": [
            "epoch: 32 /100\n",
            "time: 89.52 seconds\n",
            "train-loss: 0.67, train-acc: 76.71%\n",
            "valid-loss: 0.78, valid-acc: 72.69%\n",
            "\n"
          ]
        },
        {
          "metadata": {
            "tags": null
          },
          "name": "stderr",
          "output_type": "stream",
          "text": [
            "Train loss: 0.5684832334518433: : 124it [01:18,  1.58it/s]\n",
            "29it [00:10,  2.83it/s]\n"
          ]
        },
        {
          "metadata": {
            "tags": null
          },
          "name": "stdout",
          "output_type": "stream",
          "text": [
            "epoch: 33 /100\n",
            "time: 88.92 seconds\n",
            "train-loss: 0.65, train-acc: 77.80%\n",
            "valid-loss: 0.75, valid-acc: 74.45%\n",
            "\n"
          ]
        },
        {
          "metadata": {
            "tags": null
          },
          "name": "stderr",
          "output_type": "stream",
          "text": [
            "Train loss: 0.642572820186615: : 124it [01:18,  1.57it/s]\n",
            "29it [00:10,  2.83it/s]\n"
          ]
        },
        {
          "metadata": {
            "tags": null
          },
          "name": "stdout",
          "output_type": "stream",
          "text": [
            "epoch: 34 /100\n",
            "time: 89.26 seconds\n",
            "train-loss: 0.65, train-acc: 77.70%\n",
            "valid-loss: 0.75, valid-acc: 75.55%\n",
            "\n"
          ]
        },
        {
          "metadata": {
            "tags": null
          },
          "name": "stderr",
          "output_type": "stream",
          "text": [
            "Train loss: 0.639185905456543: : 124it [01:18,  1.57it/s]\n",
            "29it [00:10,  2.78it/s]\n"
          ]
        },
        {
          "metadata": {
            "tags": null
          },
          "name": "stdout",
          "output_type": "stream",
          "text": [
            "epoch: 35 /100\n",
            "time: 89.42 seconds\n",
            "train-loss: 0.64, train-acc: 78.20%\n",
            "valid-loss: 0.73, valid-acc: 75.22%\n",
            "\n"
          ]
        },
        {
          "output_type": "stream",
          "name": "stderr",
          "text": [
            "Train loss: 0.6894358992576599: : 124it [01:20,  1.53it/s]\n",
            "29it [00:10,  2.82it/s]\n"
          ]
        },
        {
          "output_type": "stream",
          "name": "stdout",
          "text": [
            "epoch: 36 /100\n",
            "time: 91.26 seconds\n",
            "train-loss: 0.64, train-acc: 77.85%\n",
            "valid-loss: 0.72, valid-acc: 76.87%\n",
            "\n"
          ]
        },
        {
          "output_type": "stream",
          "name": "stderr",
          "text": [
            "Train loss: 0.7286120653152466: : 124it [01:19,  1.56it/s]\n",
            "29it [00:10,  2.81it/s]\n"
          ]
        },
        {
          "output_type": "stream",
          "name": "stdout",
          "text": [
            "epoch: 37 /100\n",
            "time: 89.82 seconds\n",
            "train-loss: 0.63, train-acc: 79.06%\n",
            "valid-loss: 0.74, valid-acc: 73.90%\n",
            "\n"
          ]
        },
        {
          "output_type": "stream",
          "name": "stderr",
          "text": [
            "Train loss: 0.5990538597106934: : 124it [01:19,  1.56it/s]\n",
            "29it [00:10,  2.80it/s]\n"
          ]
        },
        {
          "output_type": "stream",
          "name": "stdout",
          "text": [
            "epoch: 38 /100\n",
            "time: 89.79 seconds\n",
            "train-loss: 0.63, train-acc: 78.63%\n",
            "valid-loss: 0.72, valid-acc: 76.32%\n",
            "\n"
          ]
        },
        {
          "output_type": "stream",
          "name": "stderr",
          "text": [
            "Train loss: 0.8985694050788879: : 124it [01:19,  1.56it/s]\n",
            "29it [00:10,  2.79it/s]\n"
          ]
        },
        {
          "output_type": "stream",
          "name": "stdout",
          "text": [
            "epoch: 39 /100\n",
            "time: 89.90 seconds\n",
            "train-loss: 0.62, train-acc: 78.76%\n",
            "valid-loss: 0.71, valid-acc: 75.55%\n",
            "\n"
          ]
        },
        {
          "output_type": "stream",
          "name": "stderr",
          "text": [
            "Train loss: 0.6839163303375244: : 124it [01:19,  1.57it/s]\n",
            "29it [00:10,  2.83it/s]\n"
          ]
        },
        {
          "output_type": "stream",
          "name": "stdout",
          "text": [
            "epoch: 40 /100\n",
            "time: 89.32 seconds\n",
            "train-loss: 0.60, train-acc: 79.79%\n",
            "valid-loss: 0.71, valid-acc: 75.33%\n",
            "\n"
          ]
        },
        {
          "output_type": "stream",
          "name": "stderr",
          "text": [
            "Train loss: 0.6609004139900208: : 124it [01:18,  1.58it/s]\n",
            "29it [00:10,  2.84it/s]\n"
          ]
        },
        {
          "output_type": "stream",
          "name": "stdout",
          "text": [
            "epoch: 41 /100\n",
            "time: 88.79 seconds\n",
            "train-loss: 0.61, train-acc: 79.69%\n",
            "valid-loss: 0.71, valid-acc: 76.98%\n",
            "\n"
          ]
        },
        {
          "output_type": "stream",
          "name": "stderr",
          "text": [
            "Train loss: 0.28142425417900085: : 124it [01:18,  1.58it/s]\n",
            "29it [00:10,  2.84it/s]\n"
          ]
        },
        {
          "output_type": "stream",
          "name": "stdout",
          "text": [
            "epoch: 42 /100\n",
            "time: 88.62 seconds\n",
            "train-loss: 0.60, train-acc: 79.74%\n",
            "valid-loss: 0.73, valid-acc: 75.55%\n",
            "\n"
          ]
        },
        {
          "output_type": "stream",
          "name": "stderr",
          "text": [
            "Train loss: 0.7344471216201782: : 124it [01:18,  1.58it/s]\n",
            "29it [00:10,  2.81it/s]\n"
          ]
        },
        {
          "output_type": "stream",
          "name": "stdout",
          "text": [
            "epoch: 43 /100\n",
            "time: 88.85 seconds\n",
            "train-loss: 0.58, train-acc: 80.85%\n",
            "valid-loss: 0.66, valid-acc: 76.98%\n",
            "\n"
          ]
        },
        {
          "output_type": "stream",
          "name": "stderr",
          "text": [
            "Train loss: 0.6948176026344299: : 124it [01:18,  1.58it/s]\n",
            "29it [00:10,  2.84it/s]\n"
          ]
        },
        {
          "output_type": "stream",
          "name": "stdout",
          "text": [
            "epoch: 44 /100\n",
            "time: 88.85 seconds\n",
            "train-loss: 0.57, train-acc: 81.20%\n",
            "valid-loss: 0.69, valid-acc: 75.77%\n",
            "\n"
          ]
        },
        {
          "output_type": "stream",
          "name": "stderr",
          "text": [
            "Train loss: 0.5681698322296143: : 124it [01:18,  1.58it/s]\n",
            "29it [00:10,  2.85it/s]\n"
          ]
        },
        {
          "output_type": "stream",
          "name": "stdout",
          "text": [
            "epoch: 45 /100\n",
            "time: 88.68 seconds\n",
            "train-loss: 0.57, train-acc: 80.49%\n",
            "valid-loss: 0.67, valid-acc: 77.86%\n",
            "\n"
          ]
        },
        {
          "output_type": "stream",
          "name": "stderr",
          "text": [
            "Train loss: 0.4964986741542816: : 124it [01:18,  1.58it/s]\n",
            "29it [00:10,  2.81it/s]\n"
          ]
        },
        {
          "output_type": "stream",
          "name": "stdout",
          "text": [
            "epoch: 46 /100\n",
            "time: 88.97 seconds\n",
            "train-loss: 0.58, train-acc: 79.59%\n",
            "valid-loss: 0.64, valid-acc: 78.85%\n",
            "\n"
          ]
        },
        {
          "output_type": "stream",
          "name": "stderr",
          "text": [
            "Train loss: 0.7344740033149719: : 124it [01:18,  1.58it/s]\n",
            "29it [00:10,  2.82it/s]\n"
          ]
        },
        {
          "output_type": "stream",
          "name": "stdout",
          "text": [
            "epoch: 47 /100\n",
            "time: 88.86 seconds\n",
            "train-loss: 0.57, train-acc: 80.44%\n",
            "valid-loss: 0.67, valid-acc: 76.76%\n",
            "\n"
          ]
        },
        {
          "output_type": "stream",
          "name": "stderr",
          "text": [
            "Train loss: 0.8760404586791992: : 124it [01:18,  1.58it/s]\n",
            "29it [00:10,  2.84it/s]\n"
          ]
        },
        {
          "output_type": "stream",
          "name": "stdout",
          "text": [
            "epoch: 48 /100\n",
            "time: 88.61 seconds\n",
            "train-loss: 0.57, train-acc: 81.00%\n",
            "valid-loss: 0.68, valid-acc: 76.21%\n",
            "\n"
          ]
        },
        {
          "output_type": "stream",
          "name": "stderr",
          "text": [
            "Train loss: 0.3496837317943573: : 124it [01:18,  1.58it/s]\n",
            "29it [00:10,  2.85it/s]\n"
          ]
        },
        {
          "output_type": "stream",
          "name": "stdout",
          "text": [
            "epoch: 49 /100\n",
            "time: 88.65 seconds\n",
            "train-loss: 0.55, train-acc: 81.17%\n",
            "valid-loss: 0.69, valid-acc: 77.53%\n",
            "\n"
          ]
        },
        {
          "output_type": "stream",
          "name": "stderr",
          "text": [
            "Train loss: 0.3721955120563507: : 124it [01:18,  1.58it/s]\n",
            "29it [00:10,  2.78it/s]\n"
          ]
        },
        {
          "output_type": "stream",
          "name": "stdout",
          "text": [
            "epoch: 50 /100\n",
            "time: 88.99 seconds\n",
            "train-loss: 0.54, train-acc: 81.68%\n",
            "valid-loss: 0.66, valid-acc: 77.75%\n",
            "\n"
          ]
        },
        {
          "output_type": "stream",
          "name": "stderr",
          "text": [
            "Train loss: 0.5998406410217285: : 124it [01:18,  1.58it/s]\n",
            "29it [00:10,  2.83it/s]\n"
          ]
        },
        {
          "output_type": "stream",
          "name": "stdout",
          "text": [
            "epoch: 51 /100\n",
            "time: 88.70 seconds\n",
            "train-loss: 0.55, train-acc: 82.26%\n",
            "valid-loss: 0.65, valid-acc: 77.97%\n",
            "\n"
          ]
        },
        {
          "output_type": "stream",
          "name": "stderr",
          "text": [
            "Train loss: 0.2674623727798462: : 124it [01:19,  1.57it/s]\n",
            "29it [00:10,  2.79it/s]\n"
          ]
        },
        {
          "output_type": "stream",
          "name": "stdout",
          "text": [
            "epoch: 52 /100\n",
            "time: 89.54 seconds\n",
            "train-loss: 0.55, train-acc: 81.53%\n",
            "valid-loss: 0.70, valid-acc: 77.20%\n",
            "\n"
          ]
        },
        {
          "output_type": "stream",
          "name": "stderr",
          "text": [
            "Train loss: 0.28757646679878235: : 124it [01:18,  1.57it/s]\n",
            "29it [00:10,  2.80it/s]\n"
          ]
        },
        {
          "output_type": "stream",
          "name": "stdout",
          "text": [
            "epoch: 53 /100\n",
            "time: 89.30 seconds\n",
            "train-loss: 0.53, train-acc: 82.43%\n",
            "valid-loss: 0.66, valid-acc: 78.85%\n",
            "\n"
          ]
        },
        {
          "output_type": "stream",
          "name": "stderr",
          "text": [
            "Train loss: 0.46156418323516846: : 124it [01:18,  1.57it/s]\n",
            "29it [00:10,  2.81it/s]\n"
          ]
        },
        {
          "output_type": "stream",
          "name": "stdout",
          "text": [
            "epoch: 54 /100\n",
            "time: 89.27 seconds\n",
            "train-loss: 0.53, train-acc: 82.43%\n",
            "valid-loss: 0.64, valid-acc: 80.62%\n",
            "\n"
          ]
        },
        {
          "output_type": "stream",
          "name": "stderr",
          "text": [
            "Train loss: 0.30246055126190186: : 124it [01:18,  1.57it/s]\n",
            "29it [00:10,  2.81it/s]\n"
          ]
        },
        {
          "output_type": "stream",
          "name": "stdout",
          "text": [
            "epoch: 55 /100\n",
            "time: 89.09 seconds\n",
            "train-loss: 0.53, train-acc: 81.73%\n",
            "valid-loss: 0.62, valid-acc: 79.63%\n",
            "\n"
          ]
        },
        {
          "output_type": "stream",
          "name": "stderr",
          "text": [
            "Train loss: 0.4900881350040436: : 124it [01:19,  1.57it/s]\n",
            "29it [00:10,  2.81it/s]\n"
          ]
        },
        {
          "output_type": "stream",
          "name": "stdout",
          "text": [
            "epoch: 56 /100\n",
            "time: 89.40 seconds\n",
            "train-loss: 0.52, train-acc: 82.48%\n",
            "valid-loss: 0.66, valid-acc: 80.18%\n",
            "\n"
          ]
        },
        {
          "output_type": "stream",
          "name": "stderr",
          "text": [
            "Train loss: 0.34590139985084534: : 124it [01:19,  1.56it/s]\n",
            "29it [00:10,  2.82it/s]\n"
          ]
        },
        {
          "output_type": "stream",
          "name": "stdout",
          "text": [
            "epoch: 57 /100\n",
            "time: 89.85 seconds\n",
            "train-loss: 0.51, train-acc: 82.36%\n",
            "valid-loss: 0.66, valid-acc: 77.86%\n",
            "\n"
          ]
        },
        {
          "output_type": "stream",
          "name": "stderr",
          "text": [
            "Train loss: 0.45946869254112244: : 124it [01:18,  1.58it/s]\n",
            "29it [00:10,  2.79it/s]\n"
          ]
        },
        {
          "output_type": "stream",
          "name": "stdout",
          "text": [
            "epoch: 58 /100\n",
            "time: 89.09 seconds\n",
            "train-loss: 0.51, train-acc: 82.89%\n",
            "valid-loss: 0.61, valid-acc: 79.63%\n",
            "\n"
          ]
        },
        {
          "output_type": "stream",
          "name": "stderr",
          "text": [
            "Train loss: 0.24200859665870667: : 124it [01:18,  1.57it/s]\n",
            "29it [00:10,  2.83it/s]\n"
          ]
        },
        {
          "output_type": "stream",
          "name": "stdout",
          "text": [
            "epoch: 59 /100\n",
            "time: 89.11 seconds\n",
            "train-loss: 0.49, train-acc: 83.52%\n",
            "valid-loss: 0.65, valid-acc: 77.64%\n",
            "\n"
          ]
        },
        {
          "output_type": "stream",
          "name": "stderr",
          "text": [
            "Train loss: 0.5402821898460388: : 124it [01:18,  1.57it/s]\n",
            "29it [00:10,  2.85it/s]\n"
          ]
        },
        {
          "output_type": "stream",
          "name": "stdout",
          "text": [
            "epoch: 60 /100\n",
            "time: 89.06 seconds\n",
            "train-loss: 0.49, train-acc: 83.77%\n",
            "valid-loss: 0.62, valid-acc: 79.41%\n",
            "\n"
          ]
        },
        {
          "output_type": "stream",
          "name": "stderr",
          "text": [
            "Train loss: 0.40153372287750244: : 124it [01:18,  1.58it/s]\n",
            "29it [00:10,  2.82it/s]\n"
          ]
        },
        {
          "output_type": "stream",
          "name": "stdout",
          "text": [
            "epoch: 61 /100\n",
            "time: 88.61 seconds\n",
            "train-loss: 0.51, train-acc: 83.14%\n",
            "valid-loss: 0.64, valid-acc: 79.19%\n",
            "\n"
          ]
        },
        {
          "output_type": "stream",
          "name": "stderr",
          "text": [
            "Train loss: 0.4055734872817993: : 124it [01:18,  1.58it/s]\n",
            "29it [00:10,  2.81it/s]\n"
          ]
        },
        {
          "output_type": "stream",
          "name": "stdout",
          "text": [
            "epoch: 62 /100\n",
            "time: 88.95 seconds\n",
            "train-loss: 0.50, train-acc: 83.24%\n",
            "valid-loss: 0.65, valid-acc: 78.85%\n",
            "\n"
          ]
        },
        {
          "output_type": "stream",
          "name": "stderr",
          "text": [
            "Train loss: 0.2988552749156952: : 124it [01:18,  1.58it/s]\n",
            "29it [00:10,  2.86it/s]\n"
          ]
        },
        {
          "output_type": "stream",
          "name": "stdout",
          "text": [
            "epoch: 63 /100\n",
            "time: 88.61 seconds\n",
            "train-loss: 0.48, train-acc: 84.25%\n",
            "valid-loss: 0.63, valid-acc: 78.63%\n",
            "\n"
          ]
        },
        {
          "output_type": "stream",
          "name": "stderr",
          "text": [
            "Train loss: 0.5198295712471008: : 124it [01:18,  1.57it/s]\n",
            "29it [00:10,  2.81it/s]\n"
          ]
        },
        {
          "output_type": "stream",
          "name": "stdout",
          "text": [
            "epoch: 64 /100\n",
            "time: 89.24 seconds\n",
            "train-loss: 0.49, train-acc: 83.80%\n",
            "valid-loss: 0.60, valid-acc: 79.52%\n",
            "\n"
          ]
        },
        {
          "output_type": "stream",
          "name": "stderr",
          "text": [
            "Train loss: 0.3124975860118866: : 124it [01:18,  1.58it/s]\n",
            "29it [00:10,  2.80it/s]\n"
          ]
        },
        {
          "output_type": "stream",
          "name": "stdout",
          "text": [
            "epoch: 65 /100\n",
            "time: 89.07 seconds\n",
            "train-loss: 0.49, train-acc: 83.42%\n",
            "valid-loss: 0.60, valid-acc: 80.51%\n",
            "\n"
          ]
        },
        {
          "output_type": "stream",
          "name": "stderr",
          "text": [
            "Train loss: 0.4481344223022461: : 124it [01:18,  1.58it/s]\n",
            "29it [00:10,  2.81it/s]\n"
          ]
        },
        {
          "output_type": "stream",
          "name": "stdout",
          "text": [
            "epoch: 66 /100\n",
            "time: 88.95 seconds\n",
            "train-loss: 0.48, train-acc: 83.62%\n",
            "valid-loss: 0.59, valid-acc: 79.07%\n",
            "\n"
          ]
        },
        {
          "output_type": "stream",
          "name": "stderr",
          "text": [
            "Train loss: 0.3791154623031616: : 124it [01:18,  1.57it/s]\n",
            "29it [00:10,  2.81it/s]\n"
          ]
        },
        {
          "output_type": "stream",
          "name": "stdout",
          "text": [
            "epoch: 67 /100\n",
            "time: 89.31 seconds\n",
            "train-loss: 0.48, train-acc: 84.22%\n",
            "valid-loss: 0.58, valid-acc: 81.50%\n",
            "\n"
          ]
        },
        {
          "output_type": "stream",
          "name": "stderr",
          "text": [
            "Train loss: 0.42440491914749146: : 124it [01:18,  1.57it/s]\n",
            "29it [00:10,  2.83it/s]\n"
          ]
        },
        {
          "output_type": "stream",
          "name": "stdout",
          "text": [
            "epoch: 68 /100\n",
            "time: 89.17 seconds\n",
            "train-loss: 0.48, train-acc: 83.80%\n",
            "valid-loss: 0.60, valid-acc: 80.29%\n",
            "\n"
          ]
        },
        {
          "output_type": "stream",
          "name": "stderr",
          "text": [
            "Train loss: 0.38981103897094727: : 124it [01:18,  1.58it/s]\n",
            "29it [00:10,  2.83it/s]\n"
          ]
        },
        {
          "output_type": "stream",
          "name": "stdout",
          "text": [
            "epoch: 69 /100\n",
            "time: 89.00 seconds\n",
            "train-loss: 0.47, train-acc: 84.60%\n",
            "valid-loss: 0.61, valid-acc: 79.52%\n",
            "\n"
          ]
        },
        {
          "output_type": "stream",
          "name": "stderr",
          "text": [
            "Train loss: 0.223942369222641: : 124it [01:18,  1.58it/s]\n",
            "29it [00:10,  2.82it/s]\n"
          ]
        },
        {
          "output_type": "stream",
          "name": "stdout",
          "text": [
            "epoch: 70 /100\n",
            "time: 89.03 seconds\n",
            "train-loss: 0.47, train-acc: 84.38%\n",
            "valid-loss: 0.61, valid-acc: 80.18%\n",
            "\n"
          ]
        },
        {
          "output_type": "stream",
          "name": "stderr",
          "text": [
            "Train loss: 0.6789319515228271: : 124it [01:18,  1.57it/s]\n",
            "29it [00:10,  2.85it/s]\n"
          ]
        },
        {
          "output_type": "stream",
          "name": "stdout",
          "text": [
            "epoch: 71 /100\n",
            "time: 88.95 seconds\n",
            "train-loss: 0.46, train-acc: 85.18%\n",
            "valid-loss: 0.62, valid-acc: 79.30%\n",
            "\n"
          ]
        },
        {
          "output_type": "stream",
          "name": "stderr",
          "text": [
            "Train loss: 0.38267982006073: : 124it [01:18,  1.57it/s]\n",
            "29it [00:10,  2.84it/s]\n"
          ]
        },
        {
          "output_type": "stream",
          "name": "stdout",
          "text": [
            "epoch: 72 /100\n",
            "time: 89.09 seconds\n",
            "train-loss: 0.46, train-acc: 84.53%\n",
            "valid-loss: 0.60, valid-acc: 79.41%\n",
            "\n"
          ]
        },
        {
          "output_type": "stream",
          "name": "stderr",
          "text": [
            "Train loss: 0.43014562129974365: : 124it [01:18,  1.58it/s]\n",
            "29it [00:10,  2.82it/s]\n"
          ]
        },
        {
          "output_type": "stream",
          "name": "stdout",
          "text": [
            "epoch: 73 /100\n",
            "time: 88.98 seconds\n",
            "train-loss: 0.44, train-acc: 84.85%\n",
            "valid-loss: 0.57, valid-acc: 81.28%\n",
            "\n"
          ]
        },
        {
          "output_type": "stream",
          "name": "stderr",
          "text": [
            "Train loss: 0.33097773790359497: : 124it [01:18,  1.58it/s]\n",
            "29it [00:10,  2.82it/s]\n"
          ]
        },
        {
          "output_type": "stream",
          "name": "stdout",
          "text": [
            "epoch: 74 /100\n",
            "time: 88.84 seconds\n",
            "train-loss: 0.47, train-acc: 84.70%\n",
            "valid-loss: 0.61, valid-acc: 78.74%\n",
            "\n"
          ]
        },
        {
          "output_type": "stream",
          "name": "stderr",
          "text": [
            "Train loss: 0.2909764349460602: : 124it [01:18,  1.58it/s]\n",
            "29it [00:10,  2.81it/s]\n"
          ]
        },
        {
          "output_type": "stream",
          "name": "stdout",
          "text": [
            "epoch: 75 /100\n",
            "time: 89.06 seconds\n",
            "train-loss: 0.43, train-acc: 85.56%\n",
            "valid-loss: 0.58, valid-acc: 81.06%\n",
            "\n"
          ]
        },
        {
          "output_type": "stream",
          "name": "stderr",
          "text": [
            "Train loss: 0.5475949048995972: : 124it [01:18,  1.58it/s]\n",
            "29it [00:10,  2.84it/s]\n"
          ]
        },
        {
          "output_type": "stream",
          "name": "stdout",
          "text": [
            "epoch: 76 /100\n",
            "time: 88.58 seconds\n",
            "train-loss: 0.44, train-acc: 85.01%\n",
            "valid-loss: 0.62, valid-acc: 80.18%\n",
            "\n"
          ]
        },
        {
          "output_type": "stream",
          "name": "stderr",
          "text": [
            "Train loss: 0.3160378038883209: : 124it [01:18,  1.57it/s]\n",
            "29it [00:10,  2.82it/s]\n"
          ]
        },
        {
          "output_type": "stream",
          "name": "stdout",
          "text": [
            "epoch: 77 /100\n",
            "time: 89.09 seconds\n",
            "train-loss: 0.44, train-acc: 84.50%\n",
            "valid-loss: 0.61, valid-acc: 80.07%\n",
            "\n"
          ]
        },
        {
          "output_type": "stream",
          "name": "stderr",
          "text": [
            "Train loss: 0.2975553572177887: : 124it [01:18,  1.58it/s]\n",
            "29it [00:10,  2.82it/s]\n"
          ]
        },
        {
          "output_type": "stream",
          "name": "stdout",
          "text": [
            "epoch: 78 /100\n",
            "time: 88.84 seconds\n",
            "train-loss: 0.44, train-acc: 85.08%\n",
            "valid-loss: 0.55, valid-acc: 81.06%\n",
            "\n"
          ]
        },
        {
          "output_type": "stream",
          "name": "stderr",
          "text": [
            "Train loss: 0.1780688762664795: : 124it [01:18,  1.58it/s]\n",
            "29it [00:10,  2.84it/s]\n"
          ]
        },
        {
          "output_type": "stream",
          "name": "stdout",
          "text": [
            "epoch: 79 /100\n",
            "time: 88.84 seconds\n",
            "train-loss: 0.44, train-acc: 85.01%\n",
            "valid-loss: 0.59, valid-acc: 80.51%\n",
            "\n"
          ]
        },
        {
          "output_type": "stream",
          "name": "stderr",
          "text": [
            "Train loss: 0.260123074054718: : 124it [01:18,  1.58it/s]\n",
            "29it [00:10,  2.84it/s]\n"
          ]
        },
        {
          "output_type": "stream",
          "name": "stdout",
          "text": [
            "epoch: 80 /100\n",
            "time: 88.66 seconds\n",
            "train-loss: 0.43, train-acc: 85.31%\n",
            "valid-loss: 0.57, valid-acc: 81.06%\n",
            "\n"
          ]
        },
        {
          "output_type": "stream",
          "name": "stderr",
          "text": [
            "Train loss: 0.2853471040725708: : 124it [01:18,  1.58it/s]\n",
            "29it [00:10,  2.82it/s]\n"
          ]
        },
        {
          "output_type": "stream",
          "name": "stdout",
          "text": [
            "epoch: 81 /100\n",
            "time: 88.90 seconds\n",
            "train-loss: 0.43, train-acc: 85.71%\n",
            "valid-loss: 0.58, valid-acc: 80.95%\n",
            "\n"
          ]
        },
        {
          "output_type": "stream",
          "name": "stderr",
          "text": [
            "Train loss: 0.4312182664871216: : 124it [01:18,  1.58it/s]\n",
            "29it [00:10,  2.82it/s]\n"
          ]
        },
        {
          "output_type": "stream",
          "name": "stdout",
          "text": [
            "epoch: 82 /100\n",
            "time: 88.73 seconds\n",
            "train-loss: 0.41, train-acc: 85.91%\n",
            "valid-loss: 0.57, valid-acc: 81.50%\n",
            "\n"
          ]
        },
        {
          "output_type": "stream",
          "name": "stderr",
          "text": [
            "Train loss: 0.5249592065811157: : 124it [01:18,  1.58it/s]\n",
            "29it [00:10,  2.83it/s]\n"
          ]
        },
        {
          "output_type": "stream",
          "name": "stdout",
          "text": [
            "epoch: 83 /100\n",
            "time: 88.75 seconds\n",
            "train-loss: 0.42, train-acc: 85.79%\n",
            "valid-loss: 0.58, valid-acc: 81.39%\n",
            "\n"
          ]
        },
        {
          "output_type": "stream",
          "name": "stderr",
          "text": [
            "Train loss: 0.45705273747444153: : 124it [01:18,  1.58it/s]\n",
            "29it [00:10,  2.86it/s]\n"
          ]
        },
        {
          "output_type": "stream",
          "name": "stdout",
          "text": [
            "epoch: 84 /100\n",
            "time: 88.89 seconds\n",
            "train-loss: 0.41, train-acc: 86.11%\n",
            "valid-loss: 0.54, valid-acc: 82.60%\n",
            "\n"
          ]
        },
        {
          "output_type": "stream",
          "name": "stderr",
          "text": [
            "Train loss: 0.44126585125923157: : 124it [01:18,  1.58it/s]\n",
            "29it [00:10,  2.83it/s]\n"
          ]
        },
        {
          "output_type": "stream",
          "name": "stdout",
          "text": [
            "epoch: 85 /100\n",
            "time: 88.80 seconds\n",
            "train-loss: 0.42, train-acc: 85.26%\n",
            "valid-loss: 0.58, valid-acc: 80.95%\n",
            "\n"
          ]
        },
        {
          "output_type": "stream",
          "name": "stderr",
          "text": [
            "Train loss: 0.2380661815404892: : 124it [01:18,  1.57it/s]\n",
            "29it [00:10,  2.83it/s]\n"
          ]
        },
        {
          "output_type": "stream",
          "name": "stdout",
          "text": [
            "epoch: 86 /100\n",
            "time: 89.04 seconds\n",
            "train-loss: 0.41, train-acc: 86.34%\n",
            "valid-loss: 0.55, valid-acc: 81.28%\n",
            "\n"
          ]
        },
        {
          "output_type": "stream",
          "name": "stderr",
          "text": [
            "Train loss: 0.5066353678703308: : 124it [01:18,  1.58it/s]\n",
            "29it [00:10,  2.82it/s]\n"
          ]
        },
        {
          "output_type": "stream",
          "name": "stdout",
          "text": [
            "epoch: 87 /100\n",
            "time: 88.86 seconds\n",
            "train-loss: 0.39, train-acc: 86.62%\n",
            "valid-loss: 0.56, valid-acc: 81.28%\n",
            "\n"
          ]
        },
        {
          "output_type": "stream",
          "name": "stderr",
          "text": [
            "Train loss: 0.34371131658554077: : 124it [01:18,  1.58it/s]\n",
            "29it [00:10,  2.84it/s]\n"
          ]
        },
        {
          "output_type": "stream",
          "name": "stdout",
          "text": [
            "epoch: 88 /100\n",
            "time: 88.72 seconds\n",
            "train-loss: 0.41, train-acc: 85.66%\n",
            "valid-loss: 0.56, valid-acc: 80.84%\n",
            "\n"
          ]
        },
        {
          "output_type": "stream",
          "name": "stderr",
          "text": [
            "Train loss: 0.3361698091030121: : 124it [01:18,  1.59it/s]\n",
            "29it [00:10,  2.85it/s]\n"
          ]
        },
        {
          "output_type": "stream",
          "name": "stdout",
          "text": [
            "epoch: 89 /100\n",
            "time: 88.27 seconds\n",
            "train-loss: 0.40, train-acc: 86.14%\n",
            "valid-loss: 0.56, valid-acc: 80.29%\n",
            "\n"
          ]
        },
        {
          "output_type": "stream",
          "name": "stderr",
          "text": [
            "Train loss: 0.32246825098991394: : 124it [01:18,  1.58it/s]\n",
            "29it [00:10,  2.82it/s]\n"
          ]
        },
        {
          "output_type": "stream",
          "name": "stdout",
          "text": [
            "epoch: 90 /100\n",
            "time: 89.02 seconds\n",
            "train-loss: 0.41, train-acc: 86.62%\n",
            "valid-loss: 0.56, valid-acc: 80.40%\n",
            "\n"
          ]
        },
        {
          "output_type": "stream",
          "name": "stderr",
          "text": [
            "Train loss: 0.29150477051734924: : 124it [01:18,  1.57it/s]\n",
            "29it [00:10,  2.85it/s]\n"
          ]
        },
        {
          "output_type": "stream",
          "name": "stdout",
          "text": [
            "epoch: 91 /100\n",
            "time: 88.98 seconds\n",
            "train-loss: 0.38, train-acc: 86.54%\n",
            "valid-loss: 0.58, valid-acc: 81.61%\n",
            "\n"
          ]
        },
        {
          "output_type": "stream",
          "name": "stderr",
          "text": [
            "Train loss: 0.5276229977607727: : 124it [01:18,  1.57it/s]\n",
            "29it [00:10,  2.81it/s]\n"
          ]
        },
        {
          "output_type": "stream",
          "name": "stdout",
          "text": [
            "epoch: 92 /100\n",
            "time: 89.17 seconds\n",
            "train-loss: 0.41, train-acc: 86.14%\n",
            "valid-loss: 0.55, valid-acc: 82.16%\n",
            "\n"
          ]
        },
        {
          "output_type": "stream",
          "name": "stderr",
          "text": [
            "Train loss: 0.35538315773010254: : 124it [01:18,  1.58it/s]\n",
            "29it [00:10,  2.85it/s]\n"
          ]
        },
        {
          "output_type": "stream",
          "name": "stdout",
          "text": [
            "epoch: 93 /100\n",
            "time: 88.70 seconds\n",
            "train-loss: 0.38, train-acc: 87.00%\n",
            "valid-loss: 0.53, valid-acc: 81.06%\n",
            "\n"
          ]
        },
        {
          "output_type": "stream",
          "name": "stderr",
          "text": [
            "Train loss: 0.5086490511894226: : 124it [01:18,  1.59it/s]\n",
            "29it [00:10,  2.83it/s]\n"
          ]
        },
        {
          "output_type": "stream",
          "name": "stdout",
          "text": [
            "epoch: 94 /100\n",
            "time: 88.40 seconds\n",
            "train-loss: 0.38, train-acc: 87.65%\n",
            "valid-loss: 0.57, valid-acc: 81.50%\n",
            "\n"
          ]
        },
        {
          "output_type": "stream",
          "name": "stderr",
          "text": [
            "Train loss: 0.4889865517616272: : 124it [01:18,  1.58it/s]\n",
            "29it [00:10,  2.81it/s]\n"
          ]
        },
        {
          "output_type": "stream",
          "name": "stdout",
          "text": [
            "epoch: 95 /100\n",
            "time: 88.87 seconds\n",
            "train-loss: 0.37, train-acc: 87.70%\n",
            "valid-loss: 0.54, valid-acc: 81.94%\n",
            "\n"
          ]
        },
        {
          "output_type": "stream",
          "name": "stderr",
          "text": [
            "Train loss: 0.9539870619773865: : 124it [01:18,  1.58it/s]\n",
            "29it [00:10,  2.83it/s]\n"
          ]
        },
        {
          "output_type": "stream",
          "name": "stdout",
          "text": [
            "epoch: 96 /100\n",
            "time: 88.85 seconds\n",
            "train-loss: 0.37, train-acc: 87.63%\n",
            "valid-loss: 0.56, valid-acc: 82.16%\n",
            "\n"
          ]
        },
        {
          "output_type": "stream",
          "name": "stderr",
          "text": [
            "Train loss: 0.35603564977645874: : 124it [01:18,  1.58it/s]\n",
            "29it [00:10,  2.82it/s]\n"
          ]
        },
        {
          "output_type": "stream",
          "name": "stdout",
          "text": [
            "epoch: 97 /100\n",
            "time: 88.65 seconds\n",
            "train-loss: 0.39, train-acc: 87.15%\n",
            "valid-loss: 0.55, valid-acc: 81.83%\n",
            "\n"
          ]
        },
        {
          "output_type": "stream",
          "name": "stderr",
          "text": [
            "Train loss: 0.3802553117275238: : 124it [01:18,  1.58it/s]\n",
            "29it [00:10,  2.81it/s]\n"
          ]
        },
        {
          "output_type": "stream",
          "name": "stdout",
          "text": [
            "epoch: 98 /100\n",
            "time: 88.64 seconds\n",
            "train-loss: 0.38, train-acc: 87.15%\n",
            "valid-loss: 0.55, valid-acc: 82.05%\n",
            "\n"
          ]
        },
        {
          "output_type": "stream",
          "name": "stderr",
          "text": [
            "Train loss: 0.19058939814567566: : 124it [01:18,  1.58it/s]\n",
            "29it [00:10,  2.81it/s]\n"
          ]
        },
        {
          "output_type": "stream",
          "name": "stdout",
          "text": [
            "epoch: 99 /100\n",
            "time: 89.07 seconds\n",
            "train-loss: 0.38, train-acc: 87.37%\n",
            "valid-loss: 0.54, valid-acc: 82.82%\n",
            "\n"
          ]
        },
        {
          "output_type": "stream",
          "name": "stderr",
          "text": [
            "Train loss: 0.6859917044639587: : 124it [01:18,  1.57it/s]\n",
            "29it [00:10,  2.78it/s]\n"
          ]
        },
        {
          "output_type": "stream",
          "name": "stdout",
          "text": [
            "epoch:100 /100\n",
            "time: 89.37 seconds\n",
            "train-loss: 0.37, train-acc: 87.85%\n",
            "valid-loss: 0.55, valid-acc: 82.16%\n",
            "\n"
          ]
        },
        {
          "output_type": "stream",
          "name": "stderr",
          "text": [
            "29it [00:10,  2.80it/s]"
          ]
        },
        {
          "output_type": "stream",
          "name": "stdout",
          "text": [
            "final accuracy 0.8370044052863436\n"
          ]
        },
        {
          "output_type": "stream",
          "name": "stderr",
          "text": [
            "\n"
          ]
        }
      ]
    },
    {
      "cell_type": "code",
      "source": [
        "fig=plt.figure(figsize = (12,7))\n",
        "sns.heatmap(conf_matrix, annot=True, fmt='g', linewidths=.4, cbar=False)\n",
        "class_names = [\"bathtub\", \"bed\", \"chair\", \"desk\", \"dresser\", \"monitor\", \"night_stand\", \"sofa\", \"table\", \"toilet\"]\n",
        "tick_marks = np.arange(len(class_names))\n",
        "plt.xticks(tick_marks, class_names, rotation=45)\n",
        "plt.yticks(tick_marks, class_names, rotation=0)\n",
        "plt.title(\"Confusion Matrix\")\n",
        "        "
      ],
      "metadata": {
        "id": "ng_DWo2tDoIF",
        "outputId": "3c5e86ad-59e4-4373-8919-17ef98f9b1fa",
        "colab": {
          "base_uri": "https://localhost:8080/",
          "height": 501
        }
      },
      "execution_count": null,
      "outputs": [
        {
          "output_type": "execute_result",
          "data": {
            "text/plain": [
              "Text(0.5, 1.0, 'Confusion Matrix')"
            ]
          },
          "metadata": {},
          "execution_count": 8
        },
        {
          "output_type": "display_data",
          "data": {
            "text/plain": [
              "<Figure size 864x504 with 1 Axes>"
            ],
            "image/png": "[encoded data removed]"
          },
          "metadata": {
            "needs_background": "light"
          }
        }
      ]
    },
    {
      "cell_type": "code",
      "source": [
        "def smooth(x, w=0):\n",
        "    last = x[0]\n",
        "    smoothed = []\n",
        "    for point in x:\n",
        "        smoothed_val = w * last + (1 - w) * point\n",
        "        smoothed.append(smoothed_val)\n",
        "        last = smoothed_val\n",
        "        \n",
        "    return smoothed\n",
        "\n",
        "eps = range(0, len(history[\"train_loss\"].cpu()))\n",
        "        \n",
        "sns.set_theme()\n",
        "fig, ax = plt.subplots(1, 2, figsize=(14, 4))\n",
        "fig.suptitle('Results')\n",
        "       \n",
        "ax[0].plot(eps, smooth(history[\"train_loss\"].cpu()), 'g', label='Training Loss')\n",
        "ax[0].plot(eps, smooth(history[\"test_loss\"].cpu()), 'b', label='Test Loss')\n",
        "ax[0].set_title('Loss History')\n",
        "ax[0].set(xlabel='Epochs', ylabel='Loss')\n",
        "ax[0].legend()\n",
        "        \n",
        "ax[1].plot(eps, smooth(history[\"train_acc\"].cpu()), 'g', label='Training Accuracy')\n",
        "ax[1].plot(eps, smooth(history[\"test_acc\"].cpu()), 'b', label='Test Accuracy')\n",
        "ax[1].set_title('Loss History')\n",
        "ax[1].set(xlabel='Epochs', ylabel='Accuracy')\n",
        "ax[1].legend()"
      ],
      "metadata": {
        "id": "QiavOBNHJjoX",
        "outputId": "b2af9766-34a6-402f-f8dd-20eae6331fc9",
        "colab": {
          "base_uri": "https://localhost:8080/",
          "height": 331
        }
      },
      "execution_count": null,
      "outputs": [
        {
          "output_type": "execute_result",
          "data": {
            "text/plain": [
              "<matplotlib.legend.Legend at 0x7ff64413beb0>"
            ]
          },
          "metadata": {},
          "execution_count": 9
        },
        {
          "output_type": "display_data",
          "data": {
            "text/plain": [
              "<Figure size 1008x288 with 2 Axes>"
            ],
            "image/png": "[encoded data removed]"
          },
          "metadata": {}
        }
      ]
    },
    {
      "cell_type": "code",
      "source": [
        "from collections import OrderedDict\n",
        "class BatchVoxNet(nn.Module):\n",
        "    def __init__(self, n_classes=10, data_size=32):\n",
        "        super().__init__()\n",
        "        self.n_classes = n_classes\n",
        "        self.data_size = data_size\n",
        "        input_shape = (self.data_size,self.data_size,self.data_size)\n",
        "        self.feat = torch.nn.Sequential(OrderedDict([\n",
        "            ('conv3d_1', torch.nn.Conv3d(in_channels=1, out_channels=32, kernel_size=5, stride=2)),\n",
        "            ('relu1', torch.nn.ReLU()),\n",
        "            ('batch1', torch.nn.BatchNorm3d(32)),\n",
        "            ('drop1', torch.nn.Dropout(p=0.2)),\n",
        "            ('conv3d_2', torch.nn.Conv3d(in_channels=32, out_channels=32, kernel_size=3)),\n",
        "            ('relu2', torch.nn.ReLU()),\n",
        "            #('batch2', torch.nn.BatchNorm3d(32)),\n",
        "            ('pool2', torch.nn.MaxPool3d(2)),\n",
        "            ('drop2', torch.nn.Dropout(p=0.3))\n",
        "        ]))\n",
        "        \n",
        "        x = self.feat(torch.autograd.Variable(torch.rand((1, 1) + input_shape)))\n",
        "        dim_feat = 1\n",
        "        for n in x.size()[1:]:\n",
        "            dim_feat *= n\n",
        "\n",
        "        self.mlp = torch.nn.Sequential(OrderedDict([\n",
        "            ('fc1', torch.nn.Linear(dim_feat, 128)),\n",
        "            ('relu1', torch.nn.ReLU()),\n",
        "            ('drop3', torch.nn.Dropout(p=0.4)),\n",
        "            ('fc2', torch.nn.Linear(128, self.n_classes))\n",
        "        ]))\n",
        "\n",
        "    def forward(self, x):\n",
        "        x = self.feat(x)\n",
        "        x = x.view(x.size(0), -1)\n",
        "        x = self.mlp(x)\n",
        "        return x"
      ],
      "metadata": {
        "id": "SQEii6FfN2bK"
      },
      "execution_count": 7,
      "outputs": []
    },
    {
      "cell_type": "code",
      "source": [
        "from torch.optim import SGD, Adam\n",
        "from torch.nn import BCEWithLogitsLoss\n",
        "from tqdm import tqdm\n",
        "\n",
        "class VoxNet_Trainer():\n",
        "  def __init__(self, hyperparameters):\n",
        "      #Hypreparameters\n",
        "      self.learning_rate = hyperparameters[\"learning_rate\"]\n",
        "      self.batch_size_train = hyperparameters[\"train_batch_size\"]\n",
        "      self.batch_size_test = hyperparameters[\"valid_batch_size\"]\n",
        "      self.data_size = hyperparameters[\"data_size\"]\n",
        "      self.sgd_momentum = hyperparameters[\"sgd_momentum\"]\n",
        "      self.device = torch.device(\"cuda:0\" if torch.cuda.is_available() else \"cpu\")\n",
        "      self.epochs = hyperparameters[\"epochs\"]\n",
        "      \n",
        "      #Dataset\n",
        "      self.initDataset()\n",
        "      self.class_names = [\"bathtub\", \"bed\", \"chair\", \"desk\", \"dresser\", \"monitor\", \"night_stand\", \"sofa\", \"table\", \"toilet\"]\n",
        "      self.num_classes = len(self.class_names)\n",
        "\n",
        "      #Model\n",
        "      self.initModel()\n",
        "  \n",
        "  def initDataset(self):\n",
        "      self.train_ds = VoxelDataset(train=True)\n",
        "      self.test_ds = VoxelDataset(train=False)\n",
        "      self.train_dataloader = DataLoader(dataset=self.train_ds, batch_size=self.batch_size_train, shuffle=True, drop_last=True)\n",
        "      self.test_dataloader = DataLoader(dataset=self.test_ds, batch_size=self.batch_size_test)\n",
        "\n",
        "  def initModel(self):\n",
        "      self.model = BatchVoxNet()\n",
        "      self.device = \"cuda\" if torch.cuda.is_available() else \"cpu\"\n",
        "      self.model.to(self.device)\n",
        "      self.opt = SGD(self.model.parameters(), lr=self.learning_rate, momentum=self.sgd_momentum)\n",
        "      self.loss_fn = F.cross_entropy\n",
        "\n",
        "  def train(self):\n",
        "      self.pred_conf, self.y_conf = [], []                                                           \n",
        "      train_loss_history, valid_loss_history = [], []\n",
        "      train_acc_history, valid_acc_history = [], []\n",
        "      train_accuracy = Accuracy(task='multiclass', num_classes=10)\n",
        "      valid_accuracy = Accuracy(task='multiclass', num_classes=10)\n",
        "\n",
        "      self.num_batch = len(self.train_ds) / self.batch_size_train\n",
        "      print(self.num_batch)\n",
        "\n",
        "      total_time = time.time()\n",
        "\n",
        "      for epoch in range(self.epochs):\n",
        "          t = time.time()\n",
        "\n",
        "          train_loss = []                                                         #track training loss\n",
        "          valid_loss = []\n",
        "          self.model.train()\n",
        "          iterator = tqdm(enumerate(self.train_dataloader, 0))\n",
        "          for i, data in iterator:\n",
        "              inputs, labels = data[0], data[1]\n",
        "              inputs = inputs.to(self.device)\n",
        "              labels = labels.to(self.device)\n",
        "\n",
        "              self.opt.zero_grad()\n",
        "              pred = self.model(inputs)  # torch.Size([256, 10])\n",
        "              loss = self.loss_fn(pred,labels)\n",
        "              train_loss.append(loss.cpu().data)\n",
        "              train_accuracy.update(torch.argmax(pred, 1).cpu(), labels.cpu()) \n",
        "\n",
        "              loss.backward()\n",
        "              self.opt.step()\n",
        "              iterator.set_description(f\"Train loss: {loss.cpu().data}\")\n",
        "              \n",
        "              pred_choice = pred.data.max(1)[1]\n",
        "              correct = pred_choice.eq(labels.data).cpu().sum()\n",
        "                      \n",
        "          with torch.no_grad():\n",
        "            self.model.eval()\n",
        "            for j, sample in tqdm(enumerate(self.test_dataloader, 0)):    \n",
        "                inputs_test, labels_test = sample[0], sample[1]\n",
        "                inputs_test = inputs_test.to(self.device)\n",
        "                labels_test = labels_test.to(self.device)\n",
        "                inputs_test = inputs_test.float()  # 转float, torch.Size([256, 1, 32, 32, 32])\n",
        "                \n",
        "                pred_test = self.model(inputs_test)\n",
        "                loss_test = self.loss_fn(pred_test, labels_test)\n",
        "                valid_loss.append(loss_test.cpu().data)\n",
        "                valid_accuracy.update(torch.argmax(pred_test, 1).cpu(), labels_test.cpu())\n",
        "                pred_choice_test = pred_test.data.max(1)[1]\n",
        "\n",
        "                correct_test = pred_choice_test.eq(labels_test.data).cpu().sum()\n",
        "                self.pred_conf.append(torch.argmax(pred_test, 1))\n",
        "                self.y_conf.append(labels_test)\n",
        "\n",
        "          #compute confusion matrix\n",
        "          a = torch.cat(self.pred_conf).cpu()\n",
        "          b = torch.cat(self.y_conf).cpu()\n",
        "          confmat = ConfusionMatrix(task='multiclass', num_classes=10, normalize=\"true\")\n",
        "          self.conf_matrix = confmat(a, b)\n",
        "          self.conf_matrix = torch.round(self.conf_matrix, decimals=2)\n",
        "\n",
        "          # total accuracy over all batches\n",
        "          total_train_accuracy = train_accuracy.compute()\n",
        "          total_valid_accuracy = valid_accuracy.compute()\n",
        "          train_accuracy.reset()\n",
        "          valid_accuracy.reset()\n",
        "            \n",
        "          #track loss and acc for plotting\n",
        "          train_loss_history.append(torch.mean(torch.tensor(train_loss)))\n",
        "          valid_loss_history.append(torch.mean(torch.tensor(valid_loss)))\n",
        "          train_acc_history.append(total_train_accuracy)\n",
        "          valid_acc_history.append(total_valid_accuracy)\n",
        "            \n",
        "          elapsed_time_epoch = time.time() - t   \n",
        "            \n",
        "          tmp0 = \"epoch:{:3d} /{:3d}\".format(epoch+1, self.epochs)\n",
        "          tmp1 = \"time: {:.2f} seconds\".format(elapsed_time_epoch)\n",
        "          tmp2 = \"train-loss: {:4.2f}, train-acc: {:.2%}\".format(train_loss_history[epoch], train_acc_history[epoch].item())\n",
        "          tmp3 = \"valid-loss: {:4.2f}, valid-acc: {:.2%}\\n\".format(valid_loss_history[epoch], valid_acc_history[epoch].item())\n",
        "          print(tmp0, tmp1, tmp2, tmp3, sep=\"\\n\")\n",
        "          \n",
        "          #save history\n",
        "          self.history = {\"train_loss\": torch.tensor(train_loss_history), \"train_acc\": torch.tensor(train_acc_history), \n",
        "                          \"valid_loss\": torch.tensor(valid_loss_history), \"valid_acc\": torch.tensor(valid_acc_history)}\n",
        "           \n",
        "        \n",
        "  def generateConfusionMatrix(self):\n",
        "      fig=plt.figure(figsize = (12,7))\n",
        "      sns.heatmap(self.conf_matrix, annot=True, fmt='g', linewidths=.4, cbar=False)\n",
        "      tick_marks = np.arange(len(self.class_names))\n",
        "      plt.xticks(tick_marks, self.class_names, rotation=45)\n",
        "      plt.yticks(tick_marks, self.class_names, rotation=0)\n",
        "      plt.title(\"Confusion Matrix\")     \n",
        "\n",
        "  def getPerClassAccuracy(self):\n",
        "      per_class_accuracy = 100 * torch.diag(self.conf_matrix) / torch.sum(self.conf_matrix, 1)\n",
        "      tmp = {}\n",
        "      for i, x in enumerate(self.class_names):\n",
        "        tmp[x] = per_class_accuracy[i].item()\n",
        "      print(tmp)\n",
        "\n",
        "  def smooth(x, w=0):\n",
        "      last = x[0]\n",
        "      smoothed = []\n",
        "      for point in x:\n",
        "          smoothed_val = w * last + (1 - w) * point\n",
        "          smoothed.append(smoothed_val)\n",
        "          last = smoothed_val\n",
        "          \n",
        "      return smoothed\n",
        "      \n",
        "  def showResults(self):\n",
        "      eps = range(0, len(self.history[\"train_loss\"].cpu()))\n",
        "        \n",
        "      sns.set_theme()\n",
        "      fig, ax = plt.subplots(1, 2, figsize=(14, 4))\n",
        "      fig.suptitle('Results')\n",
        "        \n",
        "      ax[0].plot(eps, self.smooth(self.history[\"train_loss\"].cpu()), 'g', label='Training Loss')\n",
        "      ax[0].plot(eps, self.smooth(self.history[\"valid_loss\"].cpu()), 'b', label='Valid Loss')\n",
        "      ax[0].set_title('Loss History')\n",
        "      ax[0].set(xlabel='Epochs', ylabel='Loss')\n",
        "      ax[0].legend()\n",
        "        \n",
        "      ax[1].plot(eps, self.smooth(self.history[\"train_acc\"].cpu()), 'g', label='Training Accuracy')\n",
        "      ax[1].plot(eps, self.smooth(self.history[\"valid_acc\"].cpu()), 'b', label='Valid Accuracy')\n",
        "      ax[1].set_title('Loss History')\n",
        "      ax[1].set(xlabel='Epochs', ylabel='Accuracy')\n",
        "      ax[1].legend()\n",
        "\n",
        "  def draw_voxels(self):\n",
        "      mesh = next(iter(self.train_dataloader))\n",
        "      mesh = mesh[0][0][0]\n",
        "        \n",
        "      ax = plt.figure(figsize=(10,10)).add_subplot(projection='3d')\n",
        "      ax.voxels(mesh, edgecolor='k')\n",
        "      plt.show()\n",
        "        \n",
        "  def test_on_missing_data(self, missing_rate=0.5):\n",
        "      test_accuracy = Accuracy(task='multiclass', num_classes=10)\n",
        "        \n",
        "      self.model.eval()\n",
        "      for x, y in self.test_dataloader:\n",
        "          x, y = x.to(self.device), y.to(self.device)\n",
        "            \n",
        "          idc = np.random.choice(32**3, size=(int(32**3*missing_rate)), replace=False)\n",
        "          idc_x = idc%32\n",
        "          idc_y = np.floor_divide(idc, 32)%32\n",
        "          idc_z = np.floor_divide(idc, 32*32)%32\n",
        "          x[:, :, idc_x, idc_y, idc_z] = 0\n",
        "            \n",
        "          pred = self.model(x)\n",
        "          test_accuracy.update(torch.argmax(pred, 1).cpu(), y.cpu())\n",
        "            \n",
        "      return test_accuracy.compute()\n",
        "    \n",
        "  def missing_data_test(self):\n",
        "      acc = []\n",
        "      delta = 200\n",
        "      eps = np.linspace(0,0.99,delta)\n",
        "      for x in eps:\n",
        "          tmp = self.test_on_missing_data(x)\n",
        "          acc.append(tmp)\n",
        "            \n",
        "            \n",
        "      sns.set_theme()\n",
        "      plt.figure(figsize=(8, 4))\n",
        "      plt.plot(eps, smooth(acc))\n",
        "      plt.title(\"Missing Data Test\", size=20, y=1.05)\n",
        "      plt.xlabel(\"missing point ratio\", size=15)\n",
        "      plt.ylabel(\"accuracy\", size=15)\n",
        "      plt.show()"
      ],
      "metadata": {
        "id": "hX_KJavxavhZ"
      },
      "execution_count": 12,
      "outputs": []
    },
    {
      "cell_type": "code",
      "source": [
        "training_hyperparameters = {\n",
        "    \"learning_rate\": 0.1,\n",
        "    \"sgd_momentum\": 0,\n",
        "    \"data_size\": 32,\n",
        "    \"epochs\": 15,\n",
        "    \"train_batch_size\": 32,\n",
        "    \"valid_batch_size\": 32\n",
        "}    \n",
        "\n",
        "trainer = VoxNet_Trainer(training_hyperparameters)\n",
        "trainer.train()"
      ],
      "metadata": {
        "id": "HBhOIt8Emq1B",
        "outputId": "3f6512ed-7e9d-4508-b328-77f36be96be6",
        "colab": {
          "base_uri": "https://localhost:8080/",
          "height": 519
        }
      },
      "execution_count": 13,
      "outputs": [
        {
          "output_type": "stream",
          "name": "stdout",
          "text": [
            "124.71875\n"
          ]
        },
        {
          "output_type": "stream",
          "name": "stderr",
          "text": [
            "Train loss: 1.4372742176055908: : 124it [01:10,  1.75it/s]\n",
            "29it [00:10,  2.72it/s]\n"
          ]
        },
        {
          "output_type": "stream",
          "name": "stdout",
          "text": [
            "epoch:  1 / 15\n",
            "time: 81.62 seconds\n",
            "train-loss: 1.70, train-acc: 42.69%\n",
            "valid-loss: 1.52, valid-acc: 42.18%\n",
            "\n"
          ]
        },
        {
          "output_type": "stream",
          "name": "stderr",
          "text": [
            "Train loss: 1.0598491430282593: : 10it [00:06,  1.59it/s]\n"
          ]
        },
        {
          "output_type": "error",
          "ename": "KeyboardInterrupt",
          "evalue": "ignored",
          "traceback": [
            "\u001b[0;31m---------------------------------------------------------------------------\u001b[0m",
            "\u001b[0;31mKeyboardInterrupt\u001b[0m                         Traceback (most recent call last)",
            "\u001b[0;32m<ipython-input-13-68bdec9acf4f>\u001b[0m in \u001b[0;36m<module>\u001b[0;34m\u001b[0m\n\u001b[1;32m      9\u001b[0m \u001b[0;34m\u001b[0m\u001b[0m\n\u001b[1;32m     10\u001b[0m \u001b[0mtrainer\u001b[0m \u001b[0;34m=\u001b[0m \u001b[0mVoxNet_Trainer\u001b[0m\u001b[0;34m(\u001b[0m\u001b[0mtraining_hyperparameters\u001b[0m\u001b[0;34m)\u001b[0m\u001b[0;34m\u001b[0m\u001b[0;34m\u001b[0m\u001b[0m\n\u001b[0;32m---> 11\u001b[0;31m \u001b[0mtrainer\u001b[0m\u001b[0;34m.\u001b[0m\u001b[0mtrain\u001b[0m\u001b[0;34m(\u001b[0m\u001b[0;34m)\u001b[0m\u001b[0;34m\u001b[0m\u001b[0;34m\u001b[0m\u001b[0m\n\u001b[0m",
            "\u001b[0;32m<ipython-input-12-325b53041067>\u001b[0m in \u001b[0;36mtrain\u001b[0;34m(self)\u001b[0m\n\u001b[1;32m     65\u001b[0m               \u001b[0mtrain_accuracy\u001b[0m\u001b[0;34m.\u001b[0m\u001b[0mupdate\u001b[0m\u001b[0;34m(\u001b[0m\u001b[0mtorch\u001b[0m\u001b[0;34m.\u001b[0m\u001b[0margmax\u001b[0m\u001b[0;34m(\u001b[0m\u001b[0mpred\u001b[0m\u001b[0;34m,\u001b[0m \u001b[0;36m1\u001b[0m\u001b[0;34m)\u001b[0m\u001b[0;34m.\u001b[0m\u001b[0mcpu\u001b[0m\u001b[0;34m(\u001b[0m\u001b[0;34m)\u001b[0m\u001b[0;34m,\u001b[0m \u001b[0mlabels\u001b[0m\u001b[0;34m.\u001b[0m\u001b[0mcpu\u001b[0m\u001b[0;34m(\u001b[0m\u001b[0;34m)\u001b[0m\u001b[0;34m)\u001b[0m\u001b[0;34m\u001b[0m\u001b[0;34m\u001b[0m\u001b[0m\n\u001b[1;32m     66\u001b[0m \u001b[0;34m\u001b[0m\u001b[0m\n\u001b[0;32m---> 67\u001b[0;31m               \u001b[0mloss\u001b[0m\u001b[0;34m.\u001b[0m\u001b[0mbackward\u001b[0m\u001b[0;34m(\u001b[0m\u001b[0;34m)\u001b[0m\u001b[0;34m\u001b[0m\u001b[0;34m\u001b[0m\u001b[0m\n\u001b[0m\u001b[1;32m     68\u001b[0m               \u001b[0mself\u001b[0m\u001b[0;34m.\u001b[0m\u001b[0mopt\u001b[0m\u001b[0;34m.\u001b[0m\u001b[0mstep\u001b[0m\u001b[0;34m(\u001b[0m\u001b[0;34m)\u001b[0m\u001b[0;34m\u001b[0m\u001b[0;34m\u001b[0m\u001b[0m\n\u001b[1;32m     69\u001b[0m               \u001b[0miterator\u001b[0m\u001b[0;34m.\u001b[0m\u001b[0mset_description\u001b[0m\u001b[0;34m(\u001b[0m\u001b[0;34mf\"Train loss: {loss.cpu().data}\"\u001b[0m\u001b[0;34m)\u001b[0m\u001b[0;34m\u001b[0m\u001b[0;34m\u001b[0m\u001b[0m\n",
            "\u001b[0;32m/usr/local/lib/python3.8/dist-packages/torch/_tensor.py\u001b[0m in \u001b[0;36mbackward\u001b[0;34m(self, gradient, retain_graph, create_graph, inputs)\u001b[0m\n\u001b[1;32m    486\u001b[0m                 \u001b[0minputs\u001b[0m\u001b[0;34m=\u001b[0m\u001b[0minputs\u001b[0m\u001b[0;34m,\u001b[0m\u001b[0;34m\u001b[0m\u001b[0;34m\u001b[0m\u001b[0m\n\u001b[1;32m    487\u001b[0m             )\n\u001b[0;32m--> 488\u001b[0;31m         torch.autograd.backward(\n\u001b[0m\u001b[1;32m    489\u001b[0m             \u001b[0mself\u001b[0m\u001b[0;34m,\u001b[0m \u001b[0mgradient\u001b[0m\u001b[0;34m,\u001b[0m \u001b[0mretain_graph\u001b[0m\u001b[0;34m,\u001b[0m \u001b[0mcreate_graph\u001b[0m\u001b[0;34m,\u001b[0m \u001b[0minputs\u001b[0m\u001b[0;34m=\u001b[0m\u001b[0minputs\u001b[0m\u001b[0;34m\u001b[0m\u001b[0;34m\u001b[0m\u001b[0m\n\u001b[1;32m    490\u001b[0m         )\n",
            "\u001b[0;32m/usr/local/lib/python3.8/dist-packages/torch/autograd/__init__.py\u001b[0m in \u001b[0;36mbackward\u001b[0;34m(tensors, grad_tensors, retain_graph, create_graph, grad_variables, inputs)\u001b[0m\n\u001b[1;32m    195\u001b[0m     \u001b[0;31m# some Python versions print out the first line of a multi-line function\u001b[0m\u001b[0;34m\u001b[0m\u001b[0;34m\u001b[0m\u001b[0;34m\u001b[0m\u001b[0m\n\u001b[1;32m    196\u001b[0m     \u001b[0;31m# calls in the traceback and some print out the last line\u001b[0m\u001b[0;34m\u001b[0m\u001b[0;34m\u001b[0m\u001b[0;34m\u001b[0m\u001b[0m\n\u001b[0;32m--> 197\u001b[0;31m     Variable._execution_engine.run_backward(  # Calls into the C++ engine to run the backward pass\n\u001b[0m\u001b[1;32m    198\u001b[0m         \u001b[0mtensors\u001b[0m\u001b[0;34m,\u001b[0m \u001b[0mgrad_tensors_\u001b[0m\u001b[0;34m,\u001b[0m \u001b[0mretain_graph\u001b[0m\u001b[0;34m,\u001b[0m \u001b[0mcreate_graph\u001b[0m\u001b[0;34m,\u001b[0m \u001b[0minputs\u001b[0m\u001b[0;34m,\u001b[0m\u001b[0;34m\u001b[0m\u001b[0;34m\u001b[0m\u001b[0m\n\u001b[1;32m    199\u001b[0m         allow_unreachable=True, accumulate_grad=True)  # Calls into the C++ engine to run the backward pass\n",
            "\u001b[0;31mKeyboardInterrupt\u001b[0m: "
          ]
        }
      ]
    },
    {
      "cell_type": "code",
      "source": [
        "trainer.showResults()"
      ],
      "metadata": {
        "id": "N7DHiwXimwKP"
      },
      "execution_count": null,
      "outputs": []
    },
    {
      "cell_type": "code",
      "source": [
        "trainer.generateConfusionMatrix()"
      ],
      "metadata": {
        "id": "yr5CE5Zjw9Yh",
        "outputId": "087ca6b7-f27c-423e-f44b-9a52fc7ff0af",
        "colab": {
          "base_uri": "https://localhost:8080/",
          "height": 491
        }
      },
      "execution_count": null,
      "outputs": [
        {
          "output_type": "display_data",
          "data": {
            "text/plain": [
              "<Figure size 864x504 with 1 Axes>"
            ],
            "image/png": "[encoded data removed]"
          },
          "metadata": {}
        }
      ]
    },
    {
      "cell_type": "code",
      "source": [
        "trainer.getPerClassAccuracy()"
      ],
      "metadata": {
        "id": "zTsndYBB95vT"
      },
      "execution_count": null,
      "outputs": []
    },
    {
      "cell_type": "code",
      "source": [
        "trainer.missing_data_test()"
      ],
      "metadata": {
        "id": "s30abd-s2seu",
        "outputId": "95f73894-5fa1-4245-e0ee-1fc0098a801b",
        "colab": {
          "base_uri": "https://localhost:8080/",
          "height": 319
        }
      },
      "execution_count": null,
      "outputs": [
        {
          "output_type": "display_data",
          "data": {
            "text/plain": [
              "<Figure size 576x288 with 1 Axes>"
            ],
            "image/png": "[encoded data removed]"
          },
          "metadata": {}
        }
      ]
    },
    {
      "cell_type": "code",
      "source": [
        "trainer.draw_voxels()"
      ],
      "metadata": {
        "id": "3vp-GeB2xdit",
        "outputId": "f35e47fb-f579-4e70-8132-116a55d6d5ad",
        "colab": {
          "base_uri": "https://localhost:8080/",
          "height": 575
        }
      },
      "execution_count": 48,
      "outputs": [
        {
          "output_type": "display_data",
          "data": {
            "text/plain": [
              "<Figure size 720x720 with 1 Axes>"
            ],
            "image/png": "[encoded data removed]"
          },
          "metadata": {}
        }
      ]
    }
  ]
}