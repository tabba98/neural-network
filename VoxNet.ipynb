{
  "nbformat": 4,
  "nbformat_minor": 0,
  "metadata": {
    "colab": {
      "provenance": [],
      "authorship_tag": "ABX9TyN8Kbgk3/YdF5faMo+c87Y8",
      "include_colab_link": true
    },
    "kernelspec": {
      "name": "python3",
      "display_name": "Python 3"
    },
    "language_info": {
      "name": "python"
    }
  },
  "cells": [
    {
      "cell_type": "markdown",
      "metadata": {
        "id": "view-in-github",
        "colab_type": "text"
      },
      "source": [
        "<a href=\"https://colab.research.google.com/github/tabba98/neural-network/blob/main/VoxNet.ipynb\" target=\"_parent\"><img src=\"https://colab.research.google.com/assets/colab-badge.svg\" alt=\"Open In Colab\"/></a>"
      ]
    },
    {
      "cell_type": "code",
      "source": [
        "import numpy as np\n",
        "import torch\n",
        "import torch.nn as nn\n",
        "import torch.nn.functional as F\n",
        "from torch.utils.data import Dataset, DataLoader\n",
        "!pip install torchmetrics\n",
        "from torchmetrics.classification import Accuracy\n",
        "from torchmetrics import ConfusionMatrix\n",
        "\n",
        "!pip install open3d;\n",
        "import open3d as o3d\n",
        "\n",
        "#for plotting\n",
        "import matplotlib.pyplot as plt\n",
        "import seaborn as sns\n",
        "import pandas as pd\n",
        "from sklearn.metrics import confusion_matrix\n",
        "\n",
        "import scipy\n",
        "from scipy.ndimage import rotate\n",
        "\n",
        "import time"
      ],
      "metadata": {
        "id": "Ic3yD5Ks5Stj"
      },
      "execution_count": 2,
      "outputs": []
    },
    {
      "cell_type": "code",
      "source": [
        "!wget http://3dvision.princeton.edu/projects/2014/3DShapeNets/ModelNet10.zip"
      ],
      "metadata": {
        "id": "BGBFL8fX5Uuv"
      },
      "execution_count": 31,
      "outputs": []
    },
    {
      "cell_type": "code",
      "source": [
        "!unzip -q ModelNet10.zip;"
      ],
      "metadata": {
        "id": "06P5PcU8L_Xq"
      },
      "execution_count": null,
      "outputs": []
    },
    {
      "cell_type": "code",
      "source": [
        "import os\n",
        "ROOT = '/content/ModelNet10/'\n",
        "CLASSES = ['bathtub', 'bed', 'chair', 'desk', 'dresser', 'monitor', 'night_stand', 'sofa', 'table', 'toilet']\n",
        "\n",
        "X = {'train': [], 'test': []}\n",
        "Y = {'train': [], 'test': []}\n",
        "for label, cl in enumerate(CLASSES):\n",
        "    for split in ['train', 'test']:\n",
        "        examples_dir = os.path.join(ROOT, cl, split)\n",
        "        for example in os.listdir(examples_dir):\n",
        "          voxel_index = []\n",
        "          if 'off' in example:\n",
        "            mesh = o3d.io.read_triangle_mesh(examples_dir+'/'+example)\n",
        "            mesh.scale(1 / np.max(mesh.get_max_bound() - mesh.get_min_bound()), center=mesh.get_center())\n",
        "            voxel_grid = o3d.geometry.VoxelGrid.create_from_triangle_mesh(mesh, voxel_size=0.05)\n",
        "            \n",
        "            X[split].append(voxel_grid)\n",
        "            Y[split].append(label)\n"
      ],
      "metadata": {
        "id": "q-fFm_XKMDMH"
      },
      "execution_count": null,
      "outputs": []
    },
    {
      "cell_type": "code",
      "source": [
        "class VoxelDataset2(Dataset):\n",
        "    def __init__(self, train = True):\n",
        "      if train:\n",
        "          self.data = X['train']\n",
        "          self.label = Y['train']\n",
        "      else:\n",
        "          self.data = X['test']\n",
        "          self.label = Y['test']\n",
        "        \n",
        "                \n",
        "    def __len__(self):\n",
        "        return len(self.label)\n",
        "\n",
        "    def __preproc__(self, voxels):\n",
        "        \n",
        "        voxel_grid = voxels.get_voxels()\n",
        "        vox_g = np.zeros((32, 32, 32), dtype=np.int32)\n",
        "        for i in range (len(voxel_grid)):\n",
        "          voxel_index = voxel_grid[i].grid_index\n",
        "          vox_g[voxel_index[0],voxel_index[1],voxel_index[2]] = 1\n",
        "\n",
        "        #flip x\n",
        "        if np.random.randint(2):\n",
        "            vox_g = np.flip(vox_g, axis=0)\n",
        "        \n",
        "        #flip y\n",
        "        if np.random.randint(2):\n",
        "            vox_g = np.flip(vox_g, axis=1)\n",
        "        \n",
        "        angle = 360 * np.random.random_sample(1)[0]\n",
        "        vox_g = rotate(vox_g, axes=(0, 1), angle=angle, cval=0.0, reshape=False)  \n",
        "        \n",
        "        return vox_g.copy()\n",
        "\n",
        "    def __getitem__(self, idx):\n",
        "        label = self.label[idx]\n",
        "        voxels = self.data[idx]\n",
        "        voxels = self.__preproc__(voxels)\n",
        "        voxels = np.expand_dims(voxels, axis=0)\n",
        "        voxels = torch.tensor(voxels).float()\n",
        "        return voxels, label"
      ],
      "metadata": {
        "id": "pfSGCV6k5YXr"
      },
      "execution_count": 105,
      "outputs": []
    },
    {
      "cell_type": "code",
      "source": [
        "from collections import OrderedDict\n",
        "class VoxNet(nn.Module):\n",
        "    def __init__(self):\n",
        "        super(VoxNet, self).__init__()\n",
        "        n_classes = 10\n",
        "        input_shape = (32,32,32)\n",
        "        self.feat = torch.nn.Sequential(OrderedDict([\n",
        "            ('conv3d_1', torch.nn.Conv3d(in_channels=1, out_channels=32, kernel_size=5, stride=2)),\n",
        "            ('relu1', torch.nn.ReLU()),\n",
        "            #('batch1', torch.nn.BatchNorm3d(32)),\n",
        "            ('drop1', torch.nn.Dropout(p=0.2)),\n",
        "            ('conv3d_2', torch.nn.Conv3d(in_channels=32, out_channels=32, kernel_size=3)),\n",
        "            ('relu2', torch.nn.ReLU()),\n",
        "            #('batch2', torch.nn.BatchNorm3d(32)),\n",
        "            ('pool2', torch.nn.MaxPool3d(2)),\n",
        "            ('drop2', torch.nn.Dropout(p=0.3))\n",
        "        ]))\n",
        "        \n",
        "        x = self.feat(torch.autograd.Variable(torch.rand((1, 1) + input_shape)))\n",
        "        dim_feat = 1\n",
        "        for n in x.size()[1:]:\n",
        "            dim_feat *= n\n",
        "\n",
        "        self.mlp = torch.nn.Sequential(OrderedDict([\n",
        "            ('fc1', torch.nn.Linear(dim_feat, 128)),\n",
        "            ('relu1', torch.nn.ReLU()),\n",
        "            ('drop3', torch.nn.Dropout(p=0.4)),\n",
        "            ('fc2', torch.nn.Linear(128, n_classes))\n",
        "        ]))\n",
        "\n",
        "    def forward(self, x):\n",
        "        x = self.feat(x)\n",
        "        x = x.view(x.size(0), -1)\n",
        "        x = self.mlp(x)\n",
        "        return x\n"
      ],
      "metadata": {
        "id": "BxJn-rxg5thp"
      },
      "execution_count": 111,
      "outputs": []
    },
    {
      "cell_type": "code",
      "source": [
        "from torch.optim import SGD, Adam\n",
        "from torch.nn import BCEWithLogitsLoss\n",
        "from tqdm import tqdm\n",
        "\n",
        "def blue(x): return '\\033[94m' + x + '\\033[0m'\n",
        "\n",
        "train_ds = VoxelDataset2(train=True)\n",
        "test_ds = VoxelDataset2(train=False)\n",
        "train_dataloader = DataLoader(dataset=train_ds, batch_size=32, shuffle=True, drop_last=True)\n",
        "test_dataloader = DataLoader(dataset=test_ds, batch_size=32)\n",
        "\n",
        "pred_conf, y_conf = [], []                                                           \n",
        "\n",
        "train_loss_history, valid_loss_history = [], []\n",
        "train_acc_history, valid_acc_history = [], []\n",
        "train_accuracy = Accuracy(task='multiclass', num_classes=10)\n",
        "valid_accuracy = Accuracy(task='multiclass', num_classes=10)\n",
        "\n",
        "model = VoxNet()\n",
        "opt = SGD(model.parameters(), lr=1e-2, weight_decay = 0)\n",
        "loss_fn = F.cross_entropy\n",
        "device = \"cuda\" if torch.cuda.is_available() else \"cpu\"\n",
        "model.to(device)\n",
        "epochs = 100\n",
        "best_val = np.inf\n",
        "\n",
        "num_batch = len(train_ds) / 32\n",
        "print(num_batch)\n",
        "\n",
        "total_time = time.time()\n",
        "\n",
        "for epoch in range(epochs):\n",
        "    t = time.time()\n",
        "\n",
        "    temp_correct = 0\n",
        "    temp_testset = 0\n",
        "    temp_correct_test = 0\n",
        "    temp_testset_test = 0\n",
        "    train_loss = []                                                         #track training loss\n",
        "    test_loss = []\n",
        "    model.train()\n",
        "    iterator = tqdm(enumerate(train_dataloader, 0))\n",
        "    for i, data in iterator:\n",
        "        inputs, labels = data[0], data[1]\n",
        "        inputs = inputs.to(device)\n",
        "        labels = labels.to(device)\n",
        "\n",
        "        opt.zero_grad()\n",
        "        pred = model(inputs)  # torch.Size([256, 10])\n",
        "        loss = F.cross_entropy(pred,labels)\n",
        "        train_loss.append(loss.cpu().data)\n",
        "        train_accuracy.update(torch.argmax(pred, 1).cpu(), labels.cpu()) \n",
        "\n",
        "        loss.backward()\n",
        "        opt.step()\n",
        "        iterator.set_description(f\"Train loss: {loss.cpu().data}\")\n",
        "        \n",
        "        pred_choice = pred.data.max(1)[1]\n",
        "        correct = pred_choice.eq(labels.data).cpu().sum()\n",
        "        \n",
        "        temp_correct += correct.item()\n",
        "        temp_testset += inputs.size()[0]\n",
        "\n",
        "    \n",
        "    with torch.no_grad():\n",
        "      model.eval()\n",
        "      for j, sample in tqdm(enumerate(test_dataloader, 0)):    \n",
        "          inputs_test, labels_test = sample[0], sample[1]\n",
        "          inputs_test = inputs_test.to(device)\n",
        "          labels_test = labels_test.to(device)\n",
        "          inputs_test = inputs_test.float()  # 转float, torch.Size([256, 1, 32, 32, 32])\n",
        "          \n",
        "          pred_test = model(inputs_test)\n",
        "          loss_test = F.cross_entropy(pred_test, labels_test)\n",
        "          test_loss.append(loss_test.cpu().data)\n",
        "          valid_accuracy.update(torch.argmax(pred_test, 1).cpu(), labels_test.cpu())\n",
        "          pred_choice_test = pred_test.data.max(1)[1]\n",
        "\n",
        "          correct_test = pred_choice_test.eq(labels_test.data).cpu().sum()\n",
        "          pred_conf.append(torch.argmax(pred_test, 1))\n",
        "          y_conf.append(labels_test)\n",
        "          \n",
        "          temp_correct_test += correct_test.item()\n",
        "          temp_testset_test += inputs_test.size()[0]\n",
        "\n",
        "    #compute confusion matrix\n",
        "    a = torch.cat(pred_conf).cpu()\n",
        "    b = torch.cat(y_conf).cpu()\n",
        "    confmat = ConfusionMatrix(task='multiclass', num_classes=10, normalize=\"true\")\n",
        "    conf_matrix = confmat(a, b)\n",
        "    conf_matrix = torch.round(conf_matrix, decimals=2)\n",
        "\n",
        "    # total accuracy over all batches\n",
        "    total_train_accuracy = train_accuracy.compute()\n",
        "    total_valid_accuracy = valid_accuracy.compute()\n",
        "    train_accuracy.reset()\n",
        "    valid_accuracy.reset()\n",
        "           \n",
        "    #track loss and acc for plotting\n",
        "    train_loss_history.append(torch.mean(torch.tensor(train_loss)))\n",
        "    valid_loss_history.append(torch.mean(torch.tensor(test_loss)))\n",
        "    train_acc_history.append(total_train_accuracy)\n",
        "    valid_acc_history.append(total_valid_accuracy)\n",
        "    history = {\"train_loss\": torch.tensor(train_loss_history), \"train_acc\": torch.tensor(train_acc_history), \n",
        "               \"test_loss\": torch.tensor(valid_loss_history), \"test_acc\": torch.tensor(valid_acc_history)}\n",
        "\n",
        "    elapsed_time_epoch = time.time() - t\n",
        "    tmp0 = \"epoch:{:3d} /{:3d}\".format(epoch+1, epochs)\n",
        "    tmp1 = \"time: {:.2f} seconds\".format(elapsed_time_epoch)\n",
        "    tmp2 = \"train-loss: {:4.2f}, train-acc: {:.2%}\".format(train_loss_history[epoch], train_acc_history[epoch].item())\n",
        "    tmp3 = \"valid-loss: {:4.2f}, valid-acc: {:.2%}\\n\".format(valid_loss_history[epoch], valid_acc_history[epoch].item())\n",
        "    print(tmp0, tmp1, tmp2, tmp3, sep=\"\\n\")           \n",
        "    \n",
        "    #print(\"epoch %d: train accuracy %f\" % (epoch, temp_correct / float(temp_testset)))\n",
        "    #print(\"epoch %d: test accuracy %f\" % (epoch+1, temp_correct_test / float(temp_testset_test)))\n",
        "\n",
        "    \n",
        "\n",
        "\n",
        "total_correct = 0\n",
        "total_testset = 0\n",
        "\n",
        "model.eval()\n",
        "for i, data in tqdm(enumerate(test_dataloader, 0)):\n",
        "    inputs, labels = data[0], data[1]\n",
        "    inputs = inputs.to(device)\n",
        "    labels = labels.to(device)\n",
        "    inputs = inputs.float()  # 转float, torch.Size([256, 1, 32, 32, 32])\n",
        "\n",
        "    \n",
        "    pred = model(inputs)\n",
        "    pred_choice = pred.data.max(1)[1]\n",
        "    correct = pred_choice.eq(labels.data).cpu().sum()\n",
        "    total_correct += correct.item()\n",
        "    total_testset += inputs.size()[0]\n",
        "\n",
        "print(\"final accuracy {}\".format(total_correct / float(total_testset)))\n",
        "\n"
      ],
      "metadata": {
        "colab": {
          "base_uri": "https://localhost:8080/"
        },
        "id": "6oa5xA1t7kzU",
        "outputId": "d5a6f665-fb42-4911-d3ee-6b58aca54135"
      },
      "execution_count": 112,
      "outputs": [
        {
          "output_type": "stream",
          "name": "stdout",
          "text": [
            "124.71875\n"
          ]
        },
        {
          "output_type": "stream",
          "name": "stderr",
          "text": [
            "Train loss: 2.0475387573242188: : 124it [01:14,  1.66it/s]\n",
            "29it [00:09,  2.91it/s]\n"
          ]
        },
        {
          "output_type": "stream",
          "name": "stdout",
          "text": [
            "epoch:  1 / 50\n",
            "time: 84.71 seconds\n",
            "train-loss: 2.21, train-acc: 20.69%\n",
            "valid-loss: 2.31, valid-acc: 12.11%\n",
            "\n"
          ]
        },
        {
          "output_type": "stream",
          "name": "stderr",
          "text": [
            "Train loss: 1.4650408029556274: : 124it [01:16,  1.63it/s]\n",
            "29it [00:09,  2.95it/s]\n"
          ]
        },
        {
          "output_type": "stream",
          "name": "stdout",
          "text": [
            "epoch:  2 / 50\n",
            "time: 85.87 seconds\n",
            "train-loss: 1.88, train-acc: 38.81%\n",
            "valid-loss: 1.83, valid-acc: 33.92%\n",
            "\n"
          ]
        },
        {
          "output_type": "stream",
          "name": "stderr",
          "text": [
            "Train loss: 1.3282740116119385: : 124it [01:13,  1.69it/s]\n",
            "29it [00:09,  2.95it/s]\n"
          ]
        },
        {
          "output_type": "stream",
          "name": "stdout",
          "text": [
            "epoch:  3 / 50\n",
            "time: 83.20 seconds\n",
            "train-loss: 1.51, train-acc: 50.33%\n",
            "valid-loss: 1.60, valid-acc: 44.38%\n",
            "\n"
          ]
        },
        {
          "output_type": "stream",
          "name": "stderr",
          "text": [
            "Train loss: 1.1564303636550903: : 124it [01:18,  1.58it/s]\n",
            "29it [00:11,  2.60it/s]\n"
          ]
        },
        {
          "output_type": "stream",
          "name": "stdout",
          "text": [
            "epoch:  4 / 50\n",
            "time: 89.65 seconds\n",
            "train-loss: 1.34, train-acc: 54.76%\n",
            "valid-loss: 1.41, valid-acc: 50.11%\n",
            "\n"
          ]
        },
        {
          "output_type": "stream",
          "name": "stderr",
          "text": [
            "Train loss: 1.2390546798706055: : 124it [01:26,  1.43it/s]\n",
            "29it [00:11,  2.51it/s]\n"
          ]
        },
        {
          "output_type": "stream",
          "name": "stdout",
          "text": [
            "epoch:  5 / 50\n",
            "time: 98.53 seconds\n",
            "train-loss: 1.22, train-acc: 58.87%\n",
            "valid-loss: 1.28, valid-acc: 53.52%\n",
            "\n"
          ]
        },
        {
          "output_type": "stream",
          "name": "stderr",
          "text": [
            "Train loss: 1.060791015625: : 124it [01:22,  1.51it/s]\n",
            "29it [00:12,  2.41it/s]\n"
          ]
        },
        {
          "output_type": "stream",
          "name": "stdout",
          "text": [
            "epoch:  6 / 50\n",
            "time: 94.29 seconds\n",
            "train-loss: 1.13, train-acc: 60.89%\n",
            "valid-loss: 1.22, valid-acc: 56.28%\n",
            "\n"
          ]
        },
        {
          "output_type": "stream",
          "name": "stderr",
          "text": [
            "Train loss: 1.096989631652832: : 124it [01:15,  1.63it/s]\n",
            "29it [00:09,  2.95it/s]\n"
          ]
        },
        {
          "output_type": "stream",
          "name": "stdout",
          "text": [
            "epoch:  7 / 50\n",
            "time: 85.77 seconds\n",
            "train-loss: 1.08, train-acc: 63.38%\n",
            "valid-loss: 1.18, valid-acc: 58.26%\n",
            "\n"
          ]
        },
        {
          "output_type": "stream",
          "name": "stderr",
          "text": [
            "Train loss: 1.4096778631210327: : 124it [01:13,  1.70it/s]\n",
            "29it [00:09,  2.94it/s]\n"
          ]
        },
        {
          "output_type": "stream",
          "name": "stdout",
          "text": [
            "epoch:  8 / 50\n",
            "time: 83.03 seconds\n",
            "train-loss: 1.04, train-acc: 63.58%\n",
            "valid-loss: 1.11, valid-acc: 60.90%\n",
            "\n"
          ]
        },
        {
          "output_type": "stream",
          "name": "stderr",
          "text": [
            "Train loss: 0.9908096790313721: : 124it [01:14,  1.66it/s]\n",
            "29it [00:09,  2.94it/s]\n"
          ]
        },
        {
          "output_type": "stream",
          "name": "stdout",
          "text": [
            "epoch:  9 / 50\n",
            "time: 84.60 seconds\n",
            "train-loss: 1.01, train-acc: 65.95%\n",
            "valid-loss: 1.07, valid-acc: 62.11%\n",
            "\n"
          ]
        },
        {
          "output_type": "stream",
          "name": "stderr",
          "text": [
            "Train loss: 1.1720175743103027: : 124it [01:12,  1.70it/s]\n",
            "29it [00:09,  2.95it/s]\n"
          ]
        },
        {
          "output_type": "stream",
          "name": "stdout",
          "text": [
            "epoch: 10 / 50\n",
            "time: 82.78 seconds\n",
            "train-loss: 0.99, train-acc: 65.45%\n",
            "valid-loss: 1.07, valid-acc: 62.00%\n",
            "\n"
          ]
        },
        {
          "output_type": "stream",
          "name": "stderr",
          "text": [
            "Train loss: 0.9200713634490967: : 124it [01:17,  1.59it/s]\n",
            "29it [00:10,  2.82it/s]\n"
          ]
        },
        {
          "output_type": "stream",
          "name": "stdout",
          "text": [
            "epoch: 11 / 50\n",
            "time: 88.21 seconds\n",
            "train-loss: 0.95, train-acc: 67.62%\n",
            "valid-loss: 1.06, valid-acc: 61.45%\n",
            "\n"
          ]
        },
        {
          "output_type": "stream",
          "name": "stderr",
          "text": [
            "Train loss: 0.9066856503486633: : 124it [01:15,  1.64it/s]\n",
            "29it [00:09,  2.96it/s]\n"
          ]
        },
        {
          "output_type": "stream",
          "name": "stdout",
          "text": [
            "epoch: 12 / 50\n",
            "time: 85.49 seconds\n",
            "train-loss: 0.94, train-acc: 67.29%\n",
            "valid-loss: 1.04, valid-acc: 63.22%\n",
            "\n"
          ]
        },
        {
          "output_type": "stream",
          "name": "stderr",
          "text": [
            "Train loss: 0.7865412831306458: : 124it [01:14,  1.67it/s]\n",
            "29it [00:09,  2.93it/s]\n"
          ]
        },
        {
          "output_type": "stream",
          "name": "stdout",
          "text": [
            "epoch: 13 / 50\n",
            "time: 84.01 seconds\n",
            "train-loss: 0.92, train-acc: 67.39%\n",
            "valid-loss: 1.00, valid-acc: 63.22%\n",
            "\n"
          ]
        },
        {
          "output_type": "stream",
          "name": "stderr",
          "text": [
            "Train loss: 1.0029399394989014: : 124it [01:12,  1.70it/s]\n",
            "29it [00:09,  2.96it/s]\n"
          ]
        },
        {
          "output_type": "stream",
          "name": "stdout",
          "text": [
            "epoch: 14 / 50\n",
            "time: 82.59 seconds\n",
            "train-loss: 0.91, train-acc: 68.17%\n",
            "valid-loss: 0.99, valid-acc: 65.97%\n",
            "\n"
          ]
        },
        {
          "output_type": "stream",
          "name": "stderr",
          "text": [
            "Train loss: 1.2976117134094238: : 124it [01:14,  1.67it/s]\n",
            "29it [00:09,  2.98it/s]\n"
          ]
        },
        {
          "output_type": "stream",
          "name": "stdout",
          "text": [
            "epoch: 15 / 50\n",
            "time: 83.91 seconds\n",
            "train-loss: 0.89, train-acc: 68.72%\n",
            "valid-loss: 0.97, valid-acc: 64.21%\n",
            "\n"
          ]
        },
        {
          "output_type": "stream",
          "name": "stderr",
          "text": [
            "Train loss: 0.9635707139968872: : 124it [01:12,  1.71it/s]\n",
            "29it [00:09,  2.93it/s]\n"
          ]
        },
        {
          "output_type": "stream",
          "name": "stdout",
          "text": [
            "epoch: 16 / 50\n",
            "time: 82.43 seconds\n",
            "train-loss: 0.88, train-acc: 69.56%\n",
            "valid-loss: 0.94, valid-acc: 66.08%\n",
            "\n"
          ]
        },
        {
          "output_type": "stream",
          "name": "stderr",
          "text": [
            "Train loss: 0.8753727674484253: : 124it [01:14,  1.67it/s]\n",
            "29it [00:09,  2.94it/s]\n"
          ]
        },
        {
          "output_type": "stream",
          "name": "stdout",
          "text": [
            "epoch: 17 / 50\n",
            "time: 84.21 seconds\n",
            "train-loss: 0.88, train-acc: 69.83%\n",
            "valid-loss: 0.92, valid-acc: 68.39%\n",
            "\n"
          ]
        },
        {
          "output_type": "stream",
          "name": "stderr",
          "text": [
            "Train loss: 0.8789530396461487: : 124it [01:12,  1.70it/s]\n",
            "29it [00:11,  2.56it/s]\n"
          ]
        },
        {
          "output_type": "stream",
          "name": "stdout",
          "text": [
            "epoch: 18 / 50\n",
            "time: 84.23 seconds\n",
            "train-loss: 0.87, train-acc: 70.39%\n",
            "valid-loss: 0.94, valid-acc: 66.41%\n",
            "\n"
          ]
        },
        {
          "output_type": "stream",
          "name": "stderr",
          "text": [
            "Train loss: 0.8069325089454651: : 124it [01:12,  1.71it/s]\n",
            "29it [00:09,  2.95it/s]\n"
          ]
        },
        {
          "output_type": "stream",
          "name": "stdout",
          "text": [
            "epoch: 19 / 50\n",
            "time: 82.50 seconds\n",
            "train-loss: 0.84, train-acc: 70.26%\n",
            "valid-loss: 0.92, valid-acc: 68.17%\n",
            "\n"
          ]
        },
        {
          "output_type": "stream",
          "name": "stderr",
          "text": [
            "Train loss: 0.7207173109054565: : 124it [01:13,  1.68it/s]\n",
            "29it [00:09,  2.96it/s]\n"
          ]
        },
        {
          "output_type": "stream",
          "name": "stdout",
          "text": [
            "epoch: 20 / 50\n",
            "time: 83.56 seconds\n",
            "train-loss: 0.83, train-acc: 71.42%\n",
            "valid-loss: 0.89, valid-acc: 68.50%\n",
            "\n"
          ]
        },
        {
          "output_type": "stream",
          "name": "stderr",
          "text": [
            "Train loss: 0.665532648563385: : 124it [01:12,  1.71it/s]\n",
            "29it [00:09,  2.93it/s]\n"
          ]
        },
        {
          "output_type": "stream",
          "name": "stdout",
          "text": [
            "epoch: 21 / 50\n",
            "time: 82.25 seconds\n",
            "train-loss: 0.81, train-acc: 71.77%\n",
            "valid-loss: 0.88, valid-acc: 68.61%\n",
            "\n"
          ]
        },
        {
          "output_type": "stream",
          "name": "stderr",
          "text": [
            "Train loss: 0.870111346244812: : 124it [01:14,  1.67it/s]\n",
            "29it [00:09,  2.93it/s]\n"
          ]
        },
        {
          "output_type": "stream",
          "name": "stdout",
          "text": [
            "epoch: 22 / 50\n",
            "time: 84.33 seconds\n",
            "train-loss: 0.80, train-acc: 72.48%\n",
            "valid-loss: 0.90, valid-acc: 67.07%\n",
            "\n"
          ]
        },
        {
          "output_type": "stream",
          "name": "stderr",
          "text": [
            "Train loss: 0.4530678689479828: : 124it [01:12,  1.70it/s]\n",
            "29it [00:09,  2.94it/s]\n"
          ]
        },
        {
          "output_type": "stream",
          "name": "stdout",
          "text": [
            "epoch: 23 / 50\n",
            "time: 82.74 seconds\n",
            "train-loss: 0.79, train-acc: 72.76%\n",
            "valid-loss: 0.84, valid-acc: 70.59%\n",
            "\n"
          ]
        },
        {
          "output_type": "stream",
          "name": "stderr",
          "text": [
            "Train loss: 0.6996055841445923: : 124it [01:14,  1.67it/s]\n",
            "29it [00:09,  2.95it/s]\n"
          ]
        },
        {
          "output_type": "stream",
          "name": "stdout",
          "text": [
            "epoch: 24 / 50\n",
            "time: 84.06 seconds\n",
            "train-loss: 0.78, train-acc: 73.51%\n",
            "valid-loss: 0.85, valid-acc: 69.93%\n",
            "\n"
          ]
        },
        {
          "output_type": "stream",
          "name": "stderr",
          "text": [
            "Train loss: 0.8584902286529541: : 124it [01:12,  1.71it/s]\n",
            "29it [00:09,  2.95it/s]\n"
          ]
        },
        {
          "output_type": "stream",
          "name": "stdout",
          "text": [
            "epoch: 25 / 50\n",
            "time: 82.56 seconds\n",
            "train-loss: 0.75, train-acc: 73.92%\n",
            "valid-loss: 0.85, valid-acc: 68.94%\n",
            "\n"
          ]
        },
        {
          "output_type": "stream",
          "name": "stderr",
          "text": [
            "Train loss: 0.9674081802368164: : 124it [01:14,  1.67it/s]\n",
            "29it [00:09,  2.94it/s]\n"
          ]
        },
        {
          "output_type": "stream",
          "name": "stdout",
          "text": [
            "epoch: 26 / 50\n",
            "time: 84.00 seconds\n",
            "train-loss: 0.74, train-acc: 74.40%\n",
            "valid-loss: 0.81, valid-acc: 72.25%\n",
            "\n"
          ]
        },
        {
          "output_type": "stream",
          "name": "stderr",
          "text": [
            "Train loss: 0.5130536556243896: : 124it [01:12,  1.71it/s]\n",
            "29it [00:09,  2.95it/s]\n"
          ]
        },
        {
          "output_type": "stream",
          "name": "stdout",
          "text": [
            "epoch: 27 / 50\n",
            "time: 82.33 seconds\n",
            "train-loss: 0.73, train-acc: 74.80%\n",
            "valid-loss: 0.80, valid-acc: 72.25%\n",
            "\n"
          ]
        },
        {
          "output_type": "stream",
          "name": "stderr",
          "text": [
            "Train loss: 0.6047558784484863: : 124it [01:14,  1.67it/s]\n",
            "29it [00:09,  2.96it/s]\n"
          ]
        },
        {
          "output_type": "stream",
          "name": "stdout",
          "text": [
            "epoch: 28 / 50\n",
            "time: 83.99 seconds\n",
            "train-loss: 0.72, train-acc: 75.55%\n",
            "valid-loss: 0.77, valid-acc: 74.67%\n",
            "\n"
          ]
        },
        {
          "output_type": "stream",
          "name": "stderr",
          "text": [
            "Train loss: 0.7803232669830322: : 124it [01:14,  1.67it/s]\n",
            "29it [00:10,  2.89it/s]\n"
          ]
        },
        {
          "output_type": "stream",
          "name": "stdout",
          "text": [
            "epoch: 29 / 50\n",
            "time: 84.20 seconds\n",
            "train-loss: 0.71, train-acc: 76.18%\n",
            "valid-loss: 0.79, valid-acc: 72.91%\n",
            "\n"
          ]
        },
        {
          "output_type": "stream",
          "name": "stderr",
          "text": [
            "Train loss: 0.5851289629936218: : 124it [01:12,  1.70it/s]\n",
            "29it [00:09,  2.95it/s]\n"
          ]
        },
        {
          "output_type": "stream",
          "name": "stdout",
          "text": [
            "epoch: 30 / 50\n",
            "time: 82.69 seconds\n",
            "train-loss: 0.69, train-acc: 76.84%\n",
            "valid-loss: 0.78, valid-acc: 72.03%\n",
            "\n"
          ]
        },
        {
          "output_type": "stream",
          "name": "stderr",
          "text": [
            "Train loss: 0.6912005543708801: : 124it [01:14,  1.67it/s]\n",
            "29it [00:09,  2.96it/s]\n"
          ]
        },
        {
          "output_type": "stream",
          "name": "stdout",
          "text": [
            "epoch: 31 / 50\n",
            "time: 83.98 seconds\n",
            "train-loss: 0.66, train-acc: 77.44%\n",
            "valid-loss: 0.77, valid-acc: 73.79%\n",
            "\n"
          ]
        },
        {
          "output_type": "stream",
          "name": "stderr",
          "text": [
            "Train loss: 0.5792814493179321: : 124it [01:12,  1.71it/s]\n",
            "29it [00:09,  2.94it/s]\n"
          ]
        },
        {
          "output_type": "stream",
          "name": "stdout",
          "text": [
            "epoch: 32 / 50\n",
            "time: 82.57 seconds\n",
            "train-loss: 0.66, train-acc: 77.67%\n",
            "valid-loss: 0.73, valid-acc: 74.23%\n",
            "\n"
          ]
        },
        {
          "output_type": "stream",
          "name": "stderr",
          "text": [
            "Train loss: 0.717980146408081: : 124it [01:14,  1.67it/s]\n",
            "29it [00:09,  2.94it/s]\n"
          ]
        },
        {
          "output_type": "stream",
          "name": "stdout",
          "text": [
            "epoch: 33 / 50\n",
            "time: 83.94 seconds\n",
            "train-loss: 0.66, train-acc: 77.02%\n",
            "valid-loss: 0.75, valid-acc: 74.67%\n",
            "\n"
          ]
        },
        {
          "output_type": "stream",
          "name": "stderr",
          "text": [
            "Train loss: 0.5161383748054504: : 124it [01:12,  1.71it/s]\n",
            "29it [00:09,  2.96it/s]\n"
          ]
        },
        {
          "output_type": "stream",
          "name": "stdout",
          "text": [
            "epoch: 34 / 50\n",
            "time: 82.15 seconds\n",
            "train-loss: 0.65, train-acc: 78.45%\n",
            "valid-loss: 0.77, valid-acc: 73.79%\n",
            "\n"
          ]
        },
        {
          "output_type": "stream",
          "name": "stderr",
          "text": [
            "Train loss: 0.7004317045211792: : 124it [01:13,  1.68it/s]\n",
            "29it [00:09,  2.97it/s]\n"
          ]
        },
        {
          "output_type": "stream",
          "name": "stdout",
          "text": [
            "epoch: 35 / 50\n",
            "time: 83.56 seconds\n",
            "train-loss: 0.65, train-acc: 77.82%\n",
            "valid-loss: 0.73, valid-acc: 76.32%\n",
            "\n"
          ]
        },
        {
          "output_type": "stream",
          "name": "stderr",
          "text": [
            "Train loss: 0.6342511773109436: : 124it [01:12,  1.71it/s]\n",
            "29it [00:09,  2.96it/s]\n"
          ]
        },
        {
          "output_type": "stream",
          "name": "stdout",
          "text": [
            "epoch: 36 / 50\n",
            "time: 82.24 seconds\n",
            "train-loss: 0.63, train-acc: 78.50%\n",
            "valid-loss: 0.72, valid-acc: 75.00%\n",
            "\n"
          ]
        },
        {
          "output_type": "stream",
          "name": "stderr",
          "text": [
            "Train loss: 0.8276772499084473: : 124it [01:13,  1.68it/s]\n",
            "29it [00:09,  2.97it/s]\n"
          ]
        },
        {
          "output_type": "stream",
          "name": "stdout",
          "text": [
            "epoch: 37 / 50\n",
            "time: 83.65 seconds\n",
            "train-loss: 0.64, train-acc: 78.12%\n",
            "valid-loss: 0.70, valid-acc: 75.88%\n",
            "\n"
          ]
        },
        {
          "output_type": "stream",
          "name": "stderr",
          "text": [
            "Train loss: 0.41334131360054016: : 124it [01:12,  1.72it/s]\n",
            "29it [00:11,  2.61it/s]\n"
          ]
        },
        {
          "output_type": "stream",
          "name": "stdout",
          "text": [
            "epoch: 38 / 50\n",
            "time: 83.46 seconds\n",
            "train-loss: 0.61, train-acc: 79.36%\n",
            "valid-loss: 0.72, valid-acc: 76.54%\n",
            "\n"
          ]
        },
        {
          "output_type": "stream",
          "name": "stderr",
          "text": [
            "Train loss: 0.6177359223365784: : 124it [01:12,  1.71it/s]\n",
            "29it [00:09,  2.94it/s]\n"
          ]
        },
        {
          "output_type": "stream",
          "name": "stdout",
          "text": [
            "epoch: 39 / 50\n",
            "time: 82.42 seconds\n",
            "train-loss: 0.62, train-acc: 79.06%\n",
            "valid-loss: 0.68, valid-acc: 76.43%\n",
            "\n"
          ]
        },
        {
          "output_type": "stream",
          "name": "stderr",
          "text": [
            "Train loss: 0.6582940816879272: : 124it [01:13,  1.68it/s]\n",
            "29it [00:09,  2.97it/s]\n"
          ]
        },
        {
          "output_type": "stream",
          "name": "stdout",
          "text": [
            "epoch: 40 / 50\n",
            "time: 83.71 seconds\n",
            "train-loss: 0.60, train-acc: 79.74%\n",
            "valid-loss: 0.69, valid-acc: 76.76%\n",
            "\n"
          ]
        },
        {
          "output_type": "stream",
          "name": "stderr",
          "text": [
            "Train loss: 0.8062456846237183: : 124it [01:12,  1.72it/s]\n",
            "29it [00:09,  2.99it/s]\n"
          ]
        },
        {
          "output_type": "stream",
          "name": "stdout",
          "text": [
            "epoch: 41 / 50\n",
            "time: 81.87 seconds\n",
            "train-loss: 0.62, train-acc: 78.88%\n",
            "valid-loss: 0.68, valid-acc: 77.42%\n",
            "\n"
          ]
        },
        {
          "output_type": "stream",
          "name": "stderr",
          "text": [
            "Train loss: 0.5469511151313782: : 124it [01:13,  1.69it/s]\n",
            "29it [00:09,  2.98it/s]\n"
          ]
        },
        {
          "output_type": "stream",
          "name": "stdout",
          "text": [
            "epoch: 42 / 50\n",
            "time: 83.30 seconds\n",
            "train-loss: 0.58, train-acc: 80.14%\n",
            "valid-loss: 0.65, valid-acc: 78.52%\n",
            "\n"
          ]
        },
        {
          "output_type": "stream",
          "name": "stderr",
          "text": [
            "Train loss: 0.44863536953926086: : 124it [01:14,  1.68it/s]\n",
            "29it [00:09,  2.96it/s]\n"
          ]
        },
        {
          "output_type": "stream",
          "name": "stdout",
          "text": [
            "epoch: 43 / 50\n",
            "time: 83.85 seconds\n",
            "train-loss: 0.58, train-acc: 80.27%\n",
            "valid-loss: 0.68, valid-acc: 77.42%\n",
            "\n"
          ]
        },
        {
          "output_type": "stream",
          "name": "stderr",
          "text": [
            "Train loss: 0.6080397963523865: : 124it [01:17,  1.60it/s]\n",
            "29it [00:09,  2.96it/s]\n"
          ]
        },
        {
          "output_type": "stream",
          "name": "stdout",
          "text": [
            "epoch: 44 / 50\n",
            "time: 87.25 seconds\n",
            "train-loss: 0.58, train-acc: 80.80%\n",
            "valid-loss: 0.67, valid-acc: 77.86%\n",
            "\n"
          ]
        },
        {
          "output_type": "stream",
          "name": "stderr",
          "text": [
            "Train loss: 0.625157356262207: : 124it [01:12,  1.71it/s]\n",
            "29it [00:09,  2.95it/s]\n"
          ]
        },
        {
          "output_type": "stream",
          "name": "stdout",
          "text": [
            "epoch: 45 / 50\n",
            "time: 82.40 seconds\n",
            "train-loss: 0.57, train-acc: 80.22%\n",
            "valid-loss: 0.67, valid-acc: 76.43%\n",
            "\n"
          ]
        },
        {
          "output_type": "stream",
          "name": "stderr",
          "text": [
            "Train loss: 0.6060786843299866: : 124it [01:14,  1.67it/s]\n",
            "29it [00:09,  2.95it/s]\n"
          ]
        },
        {
          "output_type": "stream",
          "name": "stdout",
          "text": [
            "epoch: 46 / 50\n",
            "time: 83.98 seconds\n",
            "train-loss: 0.57, train-acc: 80.27%\n",
            "valid-loss: 0.65, valid-acc: 77.86%\n",
            "\n"
          ]
        },
        {
          "output_type": "stream",
          "name": "stderr",
          "text": [
            "Train loss: 0.5428141355514526: : 124it [01:12,  1.70it/s]\n",
            "29it [00:11,  2.53it/s]\n"
          ]
        },
        {
          "output_type": "stream",
          "name": "stdout",
          "text": [
            "epoch: 47 / 50\n",
            "time: 84.26 seconds\n",
            "train-loss: 0.55, train-acc: 81.38%\n",
            "valid-loss: 0.67, valid-acc: 76.98%\n",
            "\n"
          ]
        },
        {
          "output_type": "stream",
          "name": "stderr",
          "text": [
            "Train loss: 0.4544370472431183: : 124it [01:12,  1.71it/s]\n",
            "29it [00:09,  2.96it/s]\n"
          ]
        },
        {
          "output_type": "stream",
          "name": "stdout",
          "text": [
            "epoch: 48 / 50\n",
            "time: 82.52 seconds\n",
            "train-loss: 0.55, train-acc: 81.63%\n",
            "valid-loss: 0.66, valid-acc: 78.08%\n",
            "\n"
          ]
        },
        {
          "output_type": "stream",
          "name": "stderr",
          "text": [
            "Train loss: 0.3451860249042511: : 124it [01:14,  1.67it/s]\n",
            "29it [00:09,  2.93it/s]\n"
          ]
        },
        {
          "output_type": "stream",
          "name": "stdout",
          "text": [
            "epoch: 49 / 50\n",
            "time: 84.07 seconds\n",
            "train-loss: 0.55, train-acc: 82.18%\n",
            "valid-loss: 0.66, valid-acc: 78.63%\n",
            "\n"
          ]
        },
        {
          "output_type": "stream",
          "name": "stderr",
          "text": [
            "Train loss: 0.7739476561546326: : 124it [01:12,  1.70it/s]\n",
            "29it [00:09,  2.95it/s]\n"
          ]
        },
        {
          "output_type": "stream",
          "name": "stdout",
          "text": [
            "epoch: 50 / 50\n",
            "time: 82.74 seconds\n",
            "train-loss: 0.53, train-acc: 81.85%\n",
            "valid-loss: 0.62, valid-acc: 80.29%\n",
            "\n"
          ]
        },
        {
          "output_type": "stream",
          "name": "stderr",
          "text": [
            "29it [00:09,  2.93it/s]"
          ]
        },
        {
          "output_type": "stream",
          "name": "stdout",
          "text": [
            "final accuracy 0.7984581497797357\n"
          ]
        },
        {
          "output_type": "stream",
          "name": "stderr",
          "text": [
            "\n"
          ]
        }
      ]
    },
    {
      "cell_type": "code",
      "source": [
        "fig=plt.figure(figsize = (12,7))\n",
        "sns.heatmap(conf_matrix, annot=True, fmt='g', linewidths=.4, cbar=False)\n",
        "class_names = [\"bathtub\", \"bed\", \"chair\", \"desk\", \"dresser\", \"monitor\", \"night_stand\", \"sofa\", \"table\", \"toilet\"]\n",
        "tick_marks = np.arange(len(class_names))\n",
        "plt.xticks(tick_marks, class_names, rotation=45)\n",
        "plt.yticks(tick_marks, class_names, rotation=0)\n",
        "plt.title(\"Confusion Matrix\")\n",
        "        "
      ],
      "metadata": {
        "id": "ng_DWo2tDoIF",
        "outputId": "3f1de34f-87c5-4156-fa1d-0ad56d7acfb2",
        "colab": {
          "base_uri": "https://localhost:8080/",
          "height": 501
        }
      },
      "execution_count": 113,
      "outputs": [
        {
          "output_type": "execute_result",
          "data": {
            "text/plain": [
              "Text(0.5, 1.0, 'Confusion Matrix')"
            ]
          },
          "metadata": {},
          "execution_count": 113
        },
        {
          "output_type": "display_data",
          "data": {
            "text/plain": [
              "<Figure size 864x504 with 1 Axes>"
            ],
            "image/png": "[encoded data removed]"
          },
          "metadata": {
            "needs_background": "light"
          }
        }
      ]
    },
    {
      "cell_type": "code",
      "source": [
        "def smooth(x, w=0):\n",
        "    last = x[0]\n",
        "    smoothed = []\n",
        "    for point in x:\n",
        "        smoothed_val = w * last + (1 - w) * point\n",
        "        smoothed.append(smoothed_val)\n",
        "        last = smoothed_val\n",
        "        \n",
        "    return smoothed\n",
        "\n",
        "eps = range(0, len(history[\"train_loss\"].cpu()))\n",
        "        \n",
        "sns.set_theme()\n",
        "fig, ax = plt.subplots(1, 2, figsize=(14, 4))\n",
        "fig.suptitle('Results')\n",
        "       \n",
        "ax[0].plot(eps, smooth(history[\"train_loss\"].cpu()), 'g', label='Training Loss')\n",
        "ax[0].plot(eps, smooth(history[\"test_loss\"].cpu()), 'b', label='Test Loss')\n",
        "ax[0].set_title('Loss History')\n",
        "ax[0].set(xlabel='Epochs', ylabel='Loss')\n",
        "ax[0].legend()\n",
        "        \n",
        "ax[1].plot(eps, smooth(history[\"train_acc\"].cpu()), 'g', label='Training Accuracy')\n",
        "ax[1].plot(eps, smooth(history[\"test_acc\"].cpu()), 'b', label='Test Accuracy')\n",
        "ax[1].set_title('Loss History')\n",
        "ax[1].set(xlabel='Epochs', ylabel='Accuracy')\n",
        "ax[1].legend()"
      ],
      "metadata": {
        "id": "QiavOBNHJjoX",
        "outputId": "63cb1adf-c01c-422f-8ac9-f79cb0df6ff6",
        "colab": {
          "base_uri": "https://localhost:8080/",
          "height": 331
        }
      },
      "execution_count": 114,
      "outputs": [
        {
          "output_type": "execute_result",
          "data": {
            "text/plain": [
              "<matplotlib.legend.Legend at 0x7f83d5f3d2b0>"
            ]
          },
          "metadata": {},
          "execution_count": 114
        },
        {
          "output_type": "display_data",
          "data": {
            "text/plain": [
              "<Figure size 1008x288 with 2 Axes>"
            ],
            "image/png": "[encoded data removed]"
          },
          "metadata": {}
        }
      ]
    },
    {
      "cell_type": "code",
      "source": [
        "from collections import OrderedDict\n",
        "class BatchVoxNet(nn.Module):\n",
        "    def __init__(self):\n",
        "        super(BatchVoxNet, self).__init__()\n",
        "        n_classes = 10\n",
        "        input_shape = (32,32,32)\n",
        "        self.feat = torch.nn.Sequential(OrderedDict([\n",
        "            ('conv3d_1', torch.nn.Conv3d(in_channels=1, out_channels=32, kernel_size=5, stride=2)),\n",
        "            ('relu1', torch.nn.ReLU()),\n",
        "            ('batch1', torch.nn.BatchNorm3d(32)),\n",
        "            ('drop1', torch.nn.Dropout(p=0.2)),\n",
        "            ('conv3d_2', torch.nn.Conv3d(in_channels=32, out_channels=32, kernel_size=3)),\n",
        "            ('relu2', torch.nn.ReLU()),\n",
        "            #('batch2', torch.nn.BatchNorm3d(32)),\n",
        "            ('pool2', torch.nn.MaxPool3d(2)),\n",
        "            ('drop2', torch.nn.Dropout(p=0.3))\n",
        "        ]))\n",
        "        \n",
        "        x = self.feat(torch.autograd.Variable(torch.rand((1, 1) + input_shape)))\n",
        "        dim_feat = 1\n",
        "        for n in x.size()[1:]:\n",
        "            dim_feat *= n\n",
        "\n",
        "        self.mlp = torch.nn.Sequential(OrderedDict([\n",
        "            ('fc1', torch.nn.Linear(dim_feat, 128)),\n",
        "            ('relu1', torch.nn.ReLU()),\n",
        "            ('drop3', torch.nn.Dropout(p=0.4)),\n",
        "            ('fc2', torch.nn.Linear(128, n_classes))\n",
        "        ]))\n",
        "\n",
        "    def forward(self, x):\n",
        "        x = self.feat(x)\n",
        "        x = x.view(x.size(0), -1)\n",
        "        x = self.mlp(x)\n",
        "        return x"
      ],
      "metadata": {
        "id": "SQEii6FfN2bK"
      },
      "execution_count": 121,
      "outputs": []
    },
    {
      "cell_type": "code",
      "source": [
        "from torch.optim import SGD, Adam\n",
        "from torch.nn import BCEWithLogitsLoss\n",
        "from tqdm import tqdm\n",
        "\n",
        "def blue(x): return '\\033[94m' + x + '\\033[0m'\n",
        "\n",
        "train_ds = VoxelDataset2(train=True)\n",
        "test_ds = VoxelDataset2(train=False)\n",
        "train_dataloader = DataLoader(dataset=train_ds, batch_size=32, shuffle=True, drop_last=True)\n",
        "test_dataloader = DataLoader(dataset=test_ds, batch_size=32)\n",
        "\n",
        "pred_conf, y_conf = [], []                                                           \n",
        "\n",
        "train_loss_history, valid_loss_history = [], []\n",
        "train_acc_history, valid_acc_history = [], []\n",
        "train_accuracy = Accuracy(task='multiclass', num_classes=10)\n",
        "valid_accuracy = Accuracy(task='multiclass', num_classes=10)\n",
        "\n",
        "model = BatchVoxNet()\n",
        "opt = SGD(model.parameters(), lr=1e-2, weight_decay = 0)\n",
        "loss_fn = F.cross_entropy\n",
        "device = \"cuda\" if torch.cuda.is_available() else \"cpu\"\n",
        "model.to(device)\n",
        "epochs = 100\n",
        "best_val = np.inf\n",
        "\n",
        "num_batch = len(train_ds) / 32\n",
        "print(num_batch)\n",
        "\n",
        "total_time = time.time()\n",
        "\n",
        "for epoch in range(epochs):\n",
        "    t = time.time()\n",
        "\n",
        "    temp_correct = 0\n",
        "    temp_testset = 0\n",
        "    temp_correct_test = 0\n",
        "    temp_testset_test = 0\n",
        "    train_loss = []                                                         #track training loss\n",
        "    test_loss = []\n",
        "    model.train()\n",
        "    iterator = tqdm(enumerate(train_dataloader, 0))\n",
        "    for i, data in iterator:\n",
        "        inputs, labels = data[0], data[1]\n",
        "        inputs = inputs.to(device)\n",
        "        labels = labels.to(device)\n",
        "\n",
        "        opt.zero_grad()\n",
        "        pred = model(inputs)  # torch.Size([256, 10])\n",
        "        loss = F.cross_entropy(pred,labels)\n",
        "        train_loss.append(loss.cpu().data)\n",
        "        train_accuracy.update(torch.argmax(pred, 1).cpu(), labels.cpu()) \n",
        "\n",
        "        loss.backward()\n",
        "        opt.step()\n",
        "        iterator.set_description(f\"Train loss: {loss.cpu().data}\")\n",
        "        \n",
        "        pred_choice = pred.data.max(1)[1]\n",
        "        correct = pred_choice.eq(labels.data).cpu().sum()\n",
        "        \n",
        "        temp_correct += correct.item()\n",
        "        temp_testset += inputs.size()[0]\n",
        "\n",
        "    \n",
        "    with torch.no_grad():\n",
        "      model.eval()\n",
        "      for j, sample in tqdm(enumerate(test_dataloader, 0)):    \n",
        "          inputs_test, labels_test = sample[0], sample[1]\n",
        "          inputs_test = inputs_test.to(device)\n",
        "          labels_test = labels_test.to(device)\n",
        "          inputs_test = inputs_test.float()  # 转float, torch.Size([256, 1, 32, 32, 32])\n",
        "          \n",
        "          pred_test = model(inputs_test)\n",
        "          loss_test = F.cross_entropy(pred_test, labels_test)\n",
        "          test_loss.append(loss_test.cpu().data)\n",
        "          valid_accuracy.update(torch.argmax(pred_test, 1).cpu(), labels_test.cpu())\n",
        "          pred_choice_test = pred_test.data.max(1)[1]\n",
        "\n",
        "          correct_test = pred_choice_test.eq(labels_test.data).cpu().sum()\n",
        "          pred_conf.append(torch.argmax(pred_test, 1))\n",
        "          y_conf.append(labels_test)\n",
        "          \n",
        "          temp_correct_test += correct_test.item()\n",
        "          temp_testset_test += inputs_test.size()[0]\n",
        "\n",
        "    #compute confusion matrix\n",
        "    a = torch.cat(pred_conf).cpu()\n",
        "    b = torch.cat(y_conf).cpu()\n",
        "    confmat = ConfusionMatrix(task='multiclass', num_classes=10, normalize=\"true\")\n",
        "    conf_matrix = confmat(a, b)\n",
        "    conf_matrix = torch.round(conf_matrix, decimals=2)\n",
        "\n",
        "    # total accuracy over all batches\n",
        "    total_train_accuracy = train_accuracy.compute()\n",
        "    total_valid_accuracy = valid_accuracy.compute()\n",
        "    train_accuracy.reset()\n",
        "    valid_accuracy.reset()\n",
        "           \n",
        "    #track loss and acc for plotting\n",
        "    train_loss_history.append(torch.mean(torch.tensor(train_loss)))\n",
        "    valid_loss_history.append(torch.mean(torch.tensor(test_loss)))\n",
        "    train_acc_history.append(total_train_accuracy)\n",
        "    valid_acc_history.append(total_valid_accuracy)\n",
        "    history = {\"train_loss\": torch.tensor(train_loss_history), \"train_acc\": torch.tensor(train_acc_history), \n",
        "               \"test_loss\": torch.tensor(valid_loss_history), \"test_acc\": torch.tensor(valid_acc_history)}\n",
        "\n",
        "    elapsed_time_epoch = time.time() - t\n",
        "    tmp0 = \"epoch:{:3d} /{:3d}\".format(epoch+1, epochs)\n",
        "    tmp1 = \"time: {:.2f} seconds\".format(elapsed_time_epoch)\n",
        "    tmp2 = \"train-loss: {:4.2f}, train-acc: {:.2%}\".format(train_loss_history[epoch], train_acc_history[epoch].item())\n",
        "    tmp3 = \"valid-loss: {:4.2f}, valid-acc: {:.2%}\\n\".format(valid_loss_history[epoch], valid_acc_history[epoch].item())\n",
        "    print(tmp0, tmp1, tmp2, tmp3, sep=\"\\n\")           \n",
        "    \n",
        "    #print(\"epoch %d: train accuracy %f\" % (epoch, temp_correct / float(temp_testset)))\n",
        "    #print(\"epoch %d: test accuracy %f\" % (epoch+1, temp_correct_test / float(temp_testset_test)))\n",
        "\n",
        "    \n",
        "\n",
        "\n",
        "total_correct = 0\n",
        "total_testset = 0\n",
        "\n",
        "model.eval()\n",
        "for i, data in tqdm(enumerate(test_dataloader, 0)):\n",
        "    inputs, labels = data[0], data[1]\n",
        "    inputs = inputs.to(device)\n",
        "    labels = labels.to(device)\n",
        "    inputs = inputs.float()  # 转float, torch.Size([256, 1, 32, 32, 32])\n",
        "\n",
        "    \n",
        "    pred = model(inputs)\n",
        "    pred_choice = pred.data.max(1)[1]\n",
        "    correct = pred_choice.eq(labels.data).cpu().sum()\n",
        "    total_correct += correct.item()\n",
        "    total_testset += inputs.size()[0]\n",
        "\n",
        "print(\"final accuracy {}\".format(total_correct / float(total_testset)))\n"
      ],
      "metadata": {
        "id": "hX_KJavxavhZ",
        "outputId": "69295fb6-085b-4f81-be2b-fefb23b00b07",
        "colab": {
          "base_uri": "https://localhost:8080/"
        }
      },
      "execution_count": 122,
      "outputs": [
        {
          "output_type": "stream",
          "name": "stdout",
          "text": [
            "124.71875\n"
          ]
        },
        {
          "output_type": "stream",
          "name": "stderr",
          "text": [
            "Train loss: 1.2531027793884277: : 124it [01:16,  1.62it/s]\n",
            "29it [00:09,  2.92it/s]\n"
          ]
        },
        {
          "output_type": "stream",
          "name": "stdout",
          "text": [
            "epoch:  1 /100\n",
            "time: 86.65 seconds\n",
            "train-loss: 1.61, train-acc: 47.81%\n",
            "valid-loss: 1.47, valid-acc: 46.26%\n",
            "\n"
          ]
        },
        {
          "output_type": "stream",
          "name": "stderr",
          "text": [
            "Train loss: 1.1407716274261475: : 124it [01:15,  1.63it/s]\n",
            "29it [00:09,  2.91it/s]\n"
          ]
        },
        {
          "output_type": "stream",
          "name": "stdout",
          "text": [
            "epoch:  2 /100\n",
            "time: 85.94 seconds\n",
            "train-loss: 1.19, train-acc: 60.21%\n",
            "valid-loss: 1.24, valid-acc: 55.84%\n",
            "\n"
          ]
        },
        {
          "output_type": "stream",
          "name": "stderr",
          "text": [
            "Train loss: 0.8870738744735718: : 124it [01:16,  1.63it/s]\n",
            "29it [00:09,  2.93it/s]\n"
          ]
        },
        {
          "output_type": "stream",
          "name": "stdout",
          "text": [
            "epoch:  3 /100\n",
            "time: 86.13 seconds\n",
            "train-loss: 0.99, train-acc: 66.63%\n",
            "valid-loss: 0.98, valid-acc: 66.96%\n",
            "\n"
          ]
        },
        {
          "output_type": "stream",
          "name": "stderr",
          "text": [
            "Train loss: 1.098335862159729: : 124it [01:14,  1.66it/s]\n",
            "29it [00:10,  2.65it/s]\n"
          ]
        },
        {
          "output_type": "stream",
          "name": "stdout",
          "text": [
            "epoch:  4 /100\n",
            "time: 85.77 seconds\n",
            "train-loss: 0.87, train-acc: 71.24%\n",
            "valid-loss: 0.87, valid-acc: 69.71%\n",
            "\n"
          ]
        },
        {
          "output_type": "stream",
          "name": "stderr",
          "text": [
            "Train loss: 1.4386532306671143: : 124it [01:15,  1.65it/s]\n",
            "29it [00:10,  2.88it/s]\n"
          ]
        },
        {
          "output_type": "stream",
          "name": "stdout",
          "text": [
            "epoch:  5 /100\n",
            "time: 85.36 seconds\n",
            "train-loss: 0.78, train-acc: 74.32%\n",
            "valid-loss: 0.82, valid-acc: 71.37%\n",
            "\n"
          ]
        },
        {
          "output_type": "stream",
          "name": "stderr",
          "text": [
            "Train loss: 1.013895034790039: : 124it [01:16,  1.62it/s]\n",
            "29it [00:10,  2.88it/s]\n"
          ]
        },
        {
          "output_type": "stream",
          "name": "stdout",
          "text": [
            "epoch:  6 /100\n",
            "time: 86.71 seconds\n",
            "train-loss: 0.72, train-acc: 76.71%\n",
            "valid-loss: 0.76, valid-acc: 72.91%\n",
            "\n"
          ]
        },
        {
          "output_type": "stream",
          "name": "stderr",
          "text": [
            "Train loss: 0.5788068175315857: : 124it [01:15,  1.65it/s]\n",
            "29it [00:09,  2.91it/s]\n"
          ]
        },
        {
          "output_type": "stream",
          "name": "stdout",
          "text": [
            "epoch:  7 /100\n",
            "time: 85.29 seconds\n",
            "train-loss: 0.67, train-acc: 77.04%\n",
            "valid-loss: 0.73, valid-acc: 70.59%\n",
            "\n"
          ]
        },
        {
          "output_type": "stream",
          "name": "stderr",
          "text": [
            "Train loss: 0.5548005104064941: : 124it [01:16,  1.62it/s]\n",
            "29it [00:10,  2.90it/s]\n"
          ]
        },
        {
          "output_type": "stream",
          "name": "stdout",
          "text": [
            "epoch:  8 /100\n",
            "time: 86.69 seconds\n",
            "train-loss: 0.65, train-acc: 78.40%\n",
            "valid-loss: 0.68, valid-acc: 76.87%\n",
            "\n"
          ]
        },
        {
          "output_type": "stream",
          "name": "stderr",
          "text": [
            "Train loss: 0.5426470041275024: : 124it [01:16,  1.63it/s]\n",
            "29it [00:09,  2.90it/s]\n"
          ]
        },
        {
          "output_type": "stream",
          "name": "stdout",
          "text": [
            "epoch:  9 /100\n",
            "time: 86.21 seconds\n",
            "train-loss: 0.62, train-acc: 79.13%\n",
            "valid-loss: 0.70, valid-acc: 73.35%\n",
            "\n"
          ]
        },
        {
          "output_type": "stream",
          "name": "stderr",
          "text": [
            "Train loss: 0.38112786412239075: : 124it [01:14,  1.66it/s]\n",
            "29it [00:09,  2.93it/s]\n"
          ]
        },
        {
          "output_type": "stream",
          "name": "stdout",
          "text": [
            "epoch: 10 /100\n",
            "time: 84.60 seconds\n",
            "train-loss: 0.60, train-acc: 79.66%\n",
            "valid-loss: 0.64, valid-acc: 77.64%\n",
            "\n"
          ]
        },
        {
          "output_type": "stream",
          "name": "stderr",
          "text": [
            "Train loss: 0.7342418432235718: : 124it [01:16,  1.63it/s]\n",
            "29it [00:09,  2.95it/s]\n"
          ]
        },
        {
          "output_type": "stream",
          "name": "stdout",
          "text": [
            "epoch: 11 /100\n",
            "time: 86.08 seconds\n",
            "train-loss: 0.57, train-acc: 81.30%\n",
            "valid-loss: 0.65, valid-acc: 76.10%\n",
            "\n"
          ]
        },
        {
          "output_type": "stream",
          "name": "stderr",
          "text": [
            "Train loss: 0.4369502663612366: : 124it [01:14,  1.66it/s]\n",
            "29it [00:10,  2.75it/s]\n"
          ]
        },
        {
          "output_type": "stream",
          "name": "stdout",
          "text": [
            "epoch: 12 /100\n",
            "time: 85.07 seconds\n",
            "train-loss: 0.56, train-acc: 81.85%\n",
            "valid-loss: 0.60, valid-acc: 78.96%\n",
            "\n"
          ]
        },
        {
          "output_type": "stream",
          "name": "stderr",
          "text": [
            "Train loss: 0.6575618982315063: : 124it [01:15,  1.64it/s]\n",
            "29it [00:10,  2.89it/s]\n"
          ]
        },
        {
          "output_type": "stream",
          "name": "stdout",
          "text": [
            "epoch: 13 /100\n",
            "time: 85.51 seconds\n",
            "train-loss: 0.52, train-acc: 82.66%\n",
            "valid-loss: 0.61, valid-acc: 78.41%\n",
            "\n"
          ]
        },
        {
          "output_type": "stream",
          "name": "stderr",
          "text": [
            "Train loss: 0.7097237706184387: : 124it [01:16,  1.63it/s]\n",
            "29it [00:09,  2.94it/s]\n"
          ]
        },
        {
          "output_type": "stream",
          "name": "stdout",
          "text": [
            "epoch: 14 /100\n",
            "time: 86.14 seconds\n",
            "train-loss: 0.53, train-acc: 82.21%\n",
            "valid-loss: 0.62, valid-acc: 77.75%\n",
            "\n"
          ]
        },
        {
          "output_type": "stream",
          "name": "stderr",
          "text": [
            "Train loss: 0.47648271918296814: : 124it [01:14,  1.66it/s]\n",
            "29it [00:09,  2.94it/s]\n"
          ]
        },
        {
          "output_type": "stream",
          "name": "stdout",
          "text": [
            "epoch: 15 /100\n",
            "time: 84.56 seconds\n",
            "train-loss: 0.51, train-acc: 82.99%\n",
            "valid-loss: 0.57, valid-acc: 79.63%\n",
            "\n"
          ]
        },
        {
          "output_type": "stream",
          "name": "stderr",
          "text": [
            "Train loss: 0.2728916108608246: : 124it [01:16,  1.63it/s]\n",
            "29it [00:10,  2.89it/s]\n"
          ]
        },
        {
          "output_type": "stream",
          "name": "stdout",
          "text": [
            "epoch: 16 /100\n",
            "time: 86.25 seconds\n",
            "train-loss: 0.50, train-acc: 83.04%\n",
            "valid-loss: 0.62, valid-acc: 77.64%\n",
            "\n"
          ]
        },
        {
          "output_type": "stream",
          "name": "stderr",
          "text": [
            "Train loss: 0.3246942162513733: : 124it [01:16,  1.63it/s]\n",
            "29it [00:09,  2.92it/s]\n"
          ]
        },
        {
          "output_type": "stream",
          "name": "stdout",
          "text": [
            "epoch: 17 /100\n",
            "time: 86.17 seconds\n",
            "train-loss: 0.48, train-acc: 84.22%\n",
            "valid-loss: 0.61, valid-acc: 78.08%\n",
            "\n"
          ]
        },
        {
          "output_type": "stream",
          "name": "stderr",
          "text": [
            "Train loss: 0.5188281536102295: : 124it [01:14,  1.66it/s]\n",
            "29it [00:09,  2.95it/s]\n"
          ]
        },
        {
          "output_type": "stream",
          "name": "stdout",
          "text": [
            "epoch: 18 /100\n",
            "time: 84.39 seconds\n",
            "train-loss: 0.47, train-acc: 83.90%\n",
            "valid-loss: 0.56, valid-acc: 80.51%\n",
            "\n"
          ]
        },
        {
          "output_type": "stream",
          "name": "stderr",
          "text": [
            "Train loss: 0.5508619546890259: : 124it [01:16,  1.63it/s]\n",
            "29it [00:09,  2.94it/s]\n"
          ]
        },
        {
          "output_type": "stream",
          "name": "stdout",
          "text": [
            "epoch: 19 /100\n",
            "time: 86.00 seconds\n",
            "train-loss: 0.45, train-acc: 85.71%\n",
            "valid-loss: 0.55, valid-acc: 80.40%\n",
            "\n"
          ]
        },
        {
          "output_type": "stream",
          "name": "stderr",
          "text": [
            "Train loss: 0.5192699432373047: : 124it [01:15,  1.63it/s]\n",
            "29it [00:09,  2.93it/s]\n"
          ]
        },
        {
          "output_type": "stream",
          "name": "stdout",
          "text": [
            "epoch: 20 /100\n",
            "time: 85.92 seconds\n",
            "train-loss: 0.44, train-acc: 85.66%\n",
            "valid-loss: 0.57, valid-acc: 80.40%\n",
            "\n"
          ]
        },
        {
          "output_type": "stream",
          "name": "stderr",
          "text": [
            "Train loss: 0.49536871910095215: : 124it [01:14,  1.66it/s]\n",
            "29it [00:09,  2.94it/s]\n"
          ]
        },
        {
          "output_type": "stream",
          "name": "stdout",
          "text": [
            "epoch: 21 /100\n",
            "time: 84.51 seconds\n",
            "train-loss: 0.44, train-acc: 85.53%\n",
            "valid-loss: 0.61, valid-acc: 78.08%\n",
            "\n"
          ]
        },
        {
          "output_type": "stream",
          "name": "stderr",
          "text": [
            "Train loss: 0.45977190136909485: : 124it [01:15,  1.63it/s]\n",
            "29it [00:09,  2.95it/s]\n"
          ]
        },
        {
          "output_type": "stream",
          "name": "stdout",
          "text": [
            "epoch: 22 /100\n",
            "time: 85.83 seconds\n",
            "train-loss: 0.44, train-acc: 85.48%\n",
            "valid-loss: 0.60, valid-acc: 80.18%\n",
            "\n"
          ]
        },
        {
          "output_type": "stream",
          "name": "stderr",
          "text": [
            "Train loss: 0.9048536419868469: : 124it [01:14,  1.66it/s]\n",
            "29it [00:11,  2.54it/s]\n"
          ]
        },
        {
          "output_type": "stream",
          "name": "stdout",
          "text": [
            "epoch: 23 /100\n",
            "time: 86.06 seconds\n",
            "train-loss: 0.42, train-acc: 85.53%\n",
            "valid-loss: 0.54, valid-acc: 81.39%\n",
            "\n"
          ]
        },
        {
          "output_type": "stream",
          "name": "stderr",
          "text": [
            "Train loss: 0.7113231420516968: : 124it [01:14,  1.66it/s]\n",
            "29it [00:10,  2.90it/s]\n"
          ]
        },
        {
          "output_type": "stream",
          "name": "stdout",
          "text": [
            "epoch: 24 /100\n",
            "time: 84.60 seconds\n",
            "train-loss: 0.41, train-acc: 87.00%\n",
            "valid-loss: 0.52, valid-acc: 82.38%\n",
            "\n"
          ]
        },
        {
          "output_type": "stream",
          "name": "stderr",
          "text": [
            "Train loss: 0.4702191650867462: : 124it [01:16,  1.62it/s]\n",
            "29it [00:09,  2.94it/s]\n"
          ]
        },
        {
          "output_type": "stream",
          "name": "stdout",
          "text": [
            "epoch: 25 /100\n",
            "time: 86.25 seconds\n",
            "train-loss: 0.41, train-acc: 86.44%\n",
            "valid-loss: 0.54, valid-acc: 80.95%\n",
            "\n"
          ]
        },
        {
          "output_type": "stream",
          "name": "stderr",
          "text": [
            "Train loss: 0.5765255093574524: : 124it [01:14,  1.66it/s]\n",
            "29it [00:09,  2.94it/s]\n"
          ]
        },
        {
          "output_type": "stream",
          "name": "stdout",
          "text": [
            "epoch: 26 /100\n",
            "time: 84.48 seconds\n",
            "train-loss: 0.42, train-acc: 86.57%\n",
            "valid-loss: 0.50, valid-acc: 82.27%\n",
            "\n"
          ]
        },
        {
          "output_type": "stream",
          "name": "stderr",
          "text": [
            "Train loss: 0.4075504541397095: : 124it [01:16,  1.63it/s]\n",
            "29it [00:09,  2.92it/s]\n"
          ]
        },
        {
          "output_type": "stream",
          "name": "stdout",
          "text": [
            "epoch: 27 /100\n",
            "time: 86.07 seconds\n",
            "train-loss: 0.39, train-acc: 87.00%\n",
            "valid-loss: 0.51, valid-acc: 81.61%\n",
            "\n"
          ]
        },
        {
          "output_type": "stream",
          "name": "stderr",
          "text": [
            "Train loss: 0.24951474368572235: : 124it [01:16,  1.63it/s]\n",
            "29it [00:09,  2.93it/s]\n"
          ]
        },
        {
          "output_type": "stream",
          "name": "stdout",
          "text": [
            "epoch: 28 /100\n",
            "time: 86.05 seconds\n",
            "train-loss: 0.39, train-acc: 87.17%\n",
            "valid-loss: 0.55, valid-acc: 82.16%\n",
            "\n"
          ]
        },
        {
          "output_type": "stream",
          "name": "stderr",
          "text": [
            "Train loss: 0.45243480801582336: : 124it [01:14,  1.66it/s]\n",
            "29it [00:09,  2.93it/s]\n"
          ]
        },
        {
          "output_type": "stream",
          "name": "stdout",
          "text": [
            "epoch: 29 /100\n",
            "time: 84.53 seconds\n",
            "train-loss: 0.38, train-acc: 87.55%\n",
            "valid-loss: 0.51, valid-acc: 83.04%\n",
            "\n"
          ]
        },
        {
          "output_type": "stream",
          "name": "stderr",
          "text": [
            "Train loss: 0.7161038517951965: : 124it [01:16,  1.63it/s]\n",
            "29it [00:09,  2.93it/s]\n"
          ]
        },
        {
          "output_type": "stream",
          "name": "stdout",
          "text": [
            "epoch: 30 /100\n",
            "time: 86.22 seconds\n",
            "train-loss: 0.37, train-acc: 87.47%\n",
            "valid-loss: 0.49, valid-acc: 83.59%\n",
            "\n"
          ]
        },
        {
          "output_type": "stream",
          "name": "stderr",
          "text": [
            "Train loss: 0.34676921367645264: : 124it [01:15,  1.63it/s]\n",
            "29it [00:09,  2.94it/s]\n"
          ]
        },
        {
          "output_type": "stream",
          "name": "stdout",
          "text": [
            "epoch: 31 /100\n",
            "time: 85.85 seconds\n",
            "train-loss: 0.36, train-acc: 87.42%\n",
            "valid-loss: 0.51, valid-acc: 83.04%\n",
            "\n"
          ]
        },
        {
          "output_type": "stream",
          "name": "stderr",
          "text": [
            "Train loss: 0.5471286177635193: : 124it [01:14,  1.66it/s]\n",
            "29it [00:09,  2.93it/s]\n"
          ]
        },
        {
          "output_type": "stream",
          "name": "stdout",
          "text": [
            "epoch: 32 /100\n",
            "time: 84.66 seconds\n",
            "train-loss: 0.34, train-acc: 88.56%\n",
            "valid-loss: 0.53, valid-acc: 82.82%\n",
            "\n"
          ]
        },
        {
          "output_type": "stream",
          "name": "stderr",
          "text": [
            "Train loss: 0.2812546491622925: : 124it [01:16,  1.62it/s]\n",
            "29it [00:10,  2.90it/s]\n"
          ]
        },
        {
          "output_type": "stream",
          "name": "stdout",
          "text": [
            "epoch: 33 /100\n",
            "time: 86.63 seconds\n",
            "train-loss: 0.36, train-acc: 87.60%\n",
            "valid-loss: 0.52, valid-acc: 82.71%\n",
            "\n"
          ]
        },
        {
          "output_type": "stream",
          "name": "stderr",
          "text": [
            "Train loss: 0.49017658829689026: : 124it [01:16,  1.63it/s]\n",
            "29it [00:09,  2.91it/s]\n"
          ]
        },
        {
          "output_type": "stream",
          "name": "stdout",
          "text": [
            "epoch: 34 /100\n",
            "time: 86.27 seconds\n",
            "train-loss: 0.35, train-acc: 87.90%\n",
            "valid-loss: 0.51, valid-acc: 81.06%\n",
            "\n"
          ]
        },
        {
          "output_type": "stream",
          "name": "stderr",
          "text": [
            "Train loss: 0.44291767477989197: : 124it [01:14,  1.66it/s]\n",
            "29it [00:09,  2.93it/s]\n"
          ]
        },
        {
          "output_type": "stream",
          "name": "stdout",
          "text": [
            "epoch: 35 /100\n",
            "time: 84.54 seconds\n",
            "train-loss: 0.35, train-acc: 87.83%\n",
            "valid-loss: 0.51, valid-acc: 83.81%\n",
            "\n"
          ]
        },
        {
          "output_type": "stream",
          "name": "stderr",
          "text": [
            "Train loss: 0.5387308597564697: : 124it [01:16,  1.63it/s]\n",
            "29it [00:09,  2.94it/s]\n"
          ]
        },
        {
          "output_type": "stream",
          "name": "stdout",
          "text": [
            "epoch: 36 /100\n",
            "time: 86.06 seconds\n",
            "train-loss: 0.35, train-acc: 87.63%\n",
            "valid-loss: 0.50, valid-acc: 81.94%\n",
            "\n"
          ]
        },
        {
          "output_type": "stream",
          "name": "stderr",
          "text": [
            "Train loss: 0.2443668693304062: : 124it [01:16,  1.63it/s]\n",
            "29it [00:09,  2.92it/s]\n"
          ]
        },
        {
          "output_type": "stream",
          "name": "stdout",
          "text": [
            "epoch: 37 /100\n",
            "time: 86.03 seconds\n",
            "train-loss: 0.33, train-acc: 88.23%\n",
            "valid-loss: 0.53, valid-acc: 82.93%\n",
            "\n"
          ]
        },
        {
          "output_type": "stream",
          "name": "stderr",
          "text": [
            "Train loss: 0.22115696966648102: : 124it [01:14,  1.66it/s]\n",
            "29it [00:09,  2.94it/s]\n"
          ]
        },
        {
          "output_type": "stream",
          "name": "stdout",
          "text": [
            "epoch: 38 /100\n",
            "time: 84.61 seconds\n",
            "train-loss: 0.33, train-acc: 88.79%\n",
            "valid-loss: 0.48, valid-acc: 82.27%\n",
            "\n"
          ]
        },
        {
          "output_type": "stream",
          "name": "stderr",
          "text": [
            "Train loss: 0.23511679470539093: : 124it [01:16,  1.63it/s]\n",
            "29it [00:09,  2.93it/s]\n"
          ]
        },
        {
          "output_type": "stream",
          "name": "stdout",
          "text": [
            "epoch: 39 /100\n",
            "time: 86.09 seconds\n",
            "train-loss: 0.33, train-acc: 89.06%\n",
            "valid-loss: 0.51, valid-acc: 83.26%\n",
            "\n"
          ]
        },
        {
          "output_type": "stream",
          "name": "stderr",
          "text": [
            "Train loss: 0.3067035973072052: : 124it [01:16,  1.63it/s]\n",
            "29it [00:09,  2.93it/s]\n"
          ]
        },
        {
          "output_type": "stream",
          "name": "stdout",
          "text": [
            "epoch: 40 /100\n",
            "time: 85.98 seconds\n",
            "train-loss: 0.33, train-acc: 88.99%\n",
            "valid-loss: 0.50, valid-acc: 83.92%\n",
            "\n"
          ]
        },
        {
          "output_type": "stream",
          "name": "stderr",
          "text": [
            "Train loss: 0.3058783710002899: : 124it [01:14,  1.66it/s]\n",
            "29it [00:09,  2.91it/s]\n"
          ]
        },
        {
          "output_type": "stream",
          "name": "stdout",
          "text": [
            "epoch: 41 /100\n",
            "time: 84.47 seconds\n",
            "train-loss: 0.31, train-acc: 89.54%\n",
            "valid-loss: 0.47, valid-acc: 85.13%\n",
            "\n"
          ]
        },
        {
          "output_type": "stream",
          "name": "stderr",
          "text": [
            "Train loss: 0.3849596679210663: : 124it [01:14,  1.66it/s]\n",
            "29it [00:09,  2.95it/s]\n"
          ]
        },
        {
          "output_type": "stream",
          "name": "stdout",
          "text": [
            "epoch: 42 /100\n",
            "time: 84.35 seconds\n",
            "train-loss: 0.31, train-acc: 88.71%\n",
            "valid-loss: 0.51, valid-acc: 83.26%\n",
            "\n"
          ]
        },
        {
          "output_type": "stream",
          "name": "stderr",
          "text": [
            "Train loss: 0.1455397754907608: : 124it [01:14,  1.66it/s]\n",
            "29it [00:09,  2.95it/s]\n"
          ]
        },
        {
          "output_type": "stream",
          "name": "stdout",
          "text": [
            "epoch: 43 /100\n",
            "time: 84.47 seconds\n",
            "train-loss: 0.31, train-acc: 89.52%\n",
            "valid-loss: 0.49, valid-acc: 82.27%\n",
            "\n"
          ]
        },
        {
          "output_type": "stream",
          "name": "stderr",
          "text": [
            "Train loss: 0.625764787197113: : 124it [01:14,  1.66it/s]\n",
            "29it [00:09,  2.93it/s]\n"
          ]
        },
        {
          "output_type": "stream",
          "name": "stdout",
          "text": [
            "epoch: 44 /100\n",
            "time: 84.51 seconds\n",
            "train-loss: 0.30, train-acc: 89.72%\n",
            "valid-loss: 0.52, valid-acc: 83.26%\n",
            "\n"
          ]
        },
        {
          "output_type": "stream",
          "name": "stderr",
          "text": [
            "Train loss: 0.17677849531173706: : 124it [01:14,  1.66it/s]\n",
            "29it [00:09,  2.94it/s]\n"
          ]
        },
        {
          "output_type": "stream",
          "name": "stdout",
          "text": [
            "epoch: 45 /100\n",
            "time: 84.43 seconds\n",
            "train-loss: 0.31, train-acc: 88.96%\n",
            "valid-loss: 0.47, valid-acc: 82.38%\n",
            "\n"
          ]
        },
        {
          "output_type": "stream",
          "name": "stderr",
          "text": [
            "Train loss: 0.28785252571105957: : 124it [01:14,  1.66it/s]\n",
            "29it [00:09,  2.92it/s]\n"
          ]
        },
        {
          "output_type": "stream",
          "name": "stdout",
          "text": [
            "epoch: 46 /100\n",
            "time: 84.88 seconds\n",
            "train-loss: 0.31, train-acc: 89.01%\n",
            "valid-loss: 0.53, valid-acc: 83.26%\n",
            "\n"
          ]
        },
        {
          "output_type": "stream",
          "name": "stderr",
          "text": [
            "Train loss: 0.3160596787929535: : 124it [01:14,  1.65it/s]\n",
            "29it [00:09,  2.92it/s]\n"
          ]
        },
        {
          "output_type": "stream",
          "name": "stdout",
          "text": [
            "epoch: 47 /100\n",
            "time: 84.92 seconds\n",
            "train-loss: 0.31, train-acc: 89.14%\n",
            "valid-loss: 0.48, valid-acc: 84.03%\n",
            "\n"
          ]
        },
        {
          "output_type": "stream",
          "name": "stderr",
          "text": [
            "Train loss: 0.33771124482154846: : 124it [01:15,  1.65it/s]\n",
            "29it [00:09,  2.93it/s]\n"
          ]
        },
        {
          "output_type": "stream",
          "name": "stdout",
          "text": [
            "epoch: 48 /100\n",
            "time: 84.93 seconds\n",
            "train-loss: 0.31, train-acc: 89.47%\n",
            "valid-loss: 0.47, valid-acc: 84.03%\n",
            "\n"
          ]
        },
        {
          "output_type": "stream",
          "name": "stderr",
          "text": [
            "Train loss: 0.5733148455619812: : 124it [01:14,  1.66it/s]\n",
            "29it [00:09,  2.93it/s]\n"
          ]
        },
        {
          "output_type": "stream",
          "name": "stdout",
          "text": [
            "epoch: 49 /100\n",
            "time: 84.75 seconds\n",
            "train-loss: 0.29, train-acc: 90.02%\n",
            "valid-loss: 0.45, valid-acc: 84.80%\n",
            "\n"
          ]
        },
        {
          "output_type": "stream",
          "name": "stderr",
          "text": [
            "Train loss: 0.25970908999443054: : 124it [01:14,  1.65it/s]\n",
            "29it [00:09,  2.91it/s]\n"
          ]
        },
        {
          "output_type": "stream",
          "name": "stdout",
          "text": [
            "epoch: 50 /100\n",
            "time: 84.96 seconds\n",
            "train-loss: 0.29, train-acc: 89.44%\n",
            "valid-loss: 0.45, valid-acc: 84.80%\n",
            "\n"
          ]
        },
        {
          "output_type": "stream",
          "name": "stderr",
          "text": [
            "Train loss: 0.2080465406179428: : 124it [01:14,  1.65it/s]\n",
            "29it [00:10,  2.90it/s]\n"
          ]
        },
        {
          "output_type": "stream",
          "name": "stdout",
          "text": [
            "epoch: 51 /100\n",
            "time: 84.97 seconds\n",
            "train-loss: 0.29, train-acc: 89.67%\n",
            "valid-loss: 0.46, valid-acc: 83.81%\n",
            "\n"
          ]
        },
        {
          "output_type": "stream",
          "name": "stderr",
          "text": [
            "Train loss: 0.23436976969242096: : 124it [01:14,  1.66it/s]\n",
            "29it [00:09,  2.91it/s]\n"
          ]
        },
        {
          "output_type": "stream",
          "name": "stdout",
          "text": [
            "epoch: 52 /100\n",
            "time: 84.91 seconds\n",
            "train-loss: 0.28, train-acc: 89.49%\n",
            "valid-loss: 0.48, valid-acc: 84.91%\n",
            "\n"
          ]
        },
        {
          "output_type": "stream",
          "name": "stderr",
          "text": [
            "Train loss: 0.5688148736953735: : 124it [01:15,  1.64it/s]\n",
            "29it [00:10,  2.90it/s]\n"
          ]
        },
        {
          "output_type": "stream",
          "name": "stdout",
          "text": [
            "epoch: 53 /100\n",
            "time: 85.43 seconds\n",
            "train-loss: 0.29, train-acc: 89.62%\n",
            "valid-loss: 0.47, valid-acc: 83.81%\n",
            "\n"
          ]
        },
        {
          "output_type": "stream",
          "name": "stderr",
          "text": [
            "Train loss: 0.248618945479393: : 124it [01:14,  1.65it/s]\n",
            "29it [00:09,  2.90it/s]\n"
          ]
        },
        {
          "output_type": "stream",
          "name": "stdout",
          "text": [
            "epoch: 54 /100\n",
            "time: 85.01 seconds\n",
            "train-loss: 0.27, train-acc: 90.68%\n",
            "valid-loss: 0.45, valid-acc: 85.35%\n",
            "\n"
          ]
        },
        {
          "output_type": "stream",
          "name": "stderr",
          "text": [
            "Train loss: 0.17564161121845245: : 124it [01:15,  1.65it/s]\n",
            "29it [00:09,  2.92it/s]\n"
          ]
        },
        {
          "output_type": "stream",
          "name": "stdout",
          "text": [
            "epoch: 55 /100\n",
            "time: 84.98 seconds\n",
            "train-loss: 0.28, train-acc: 90.55%\n",
            "valid-loss: 0.48, valid-acc: 83.48%\n",
            "\n"
          ]
        },
        {
          "output_type": "stream",
          "name": "stderr",
          "text": [
            "Train loss: 0.051307257264852524: : 124it [01:15,  1.65it/s]\n",
            "29it [00:09,  2.93it/s]\n"
          ]
        },
        {
          "output_type": "stream",
          "name": "stdout",
          "text": [
            "epoch: 56 /100\n",
            "time: 85.00 seconds\n",
            "train-loss: 0.29, train-acc: 90.17%\n",
            "valid-loss: 0.45, valid-acc: 85.35%\n",
            "\n"
          ]
        },
        {
          "output_type": "stream",
          "name": "stderr",
          "text": [
            "Train loss: 0.4661206603050232: : 124it [01:15,  1.65it/s]\n",
            "29it [00:09,  2.93it/s]\n"
          ]
        },
        {
          "output_type": "stream",
          "name": "stdout",
          "text": [
            "epoch: 57 /100\n",
            "time: 84.99 seconds\n",
            "train-loss: 0.26, train-acc: 90.93%\n",
            "valid-loss: 0.43, valid-acc: 85.79%\n",
            "\n"
          ]
        },
        {
          "output_type": "stream",
          "name": "stderr",
          "text": [
            "Train loss: 0.24766050279140472: : 124it [01:14,  1.66it/s]\n",
            "29it [00:10,  2.87it/s]\n"
          ]
        },
        {
          "output_type": "stream",
          "name": "stdout",
          "text": [
            "epoch: 58 /100\n",
            "time: 84.87 seconds\n",
            "train-loss: 0.27, train-acc: 90.57%\n",
            "valid-loss: 0.47, valid-acc: 84.36%\n",
            "\n"
          ]
        },
        {
          "output_type": "stream",
          "name": "stderr",
          "text": [
            "Train loss: 0.5221536755561829: : 124it [01:14,  1.66it/s]\n",
            "29it [00:09,  2.94it/s]\n"
          ]
        },
        {
          "output_type": "stream",
          "name": "stdout",
          "text": [
            "epoch: 59 /100\n",
            "time: 84.74 seconds\n",
            "train-loss: 0.27, train-acc: 90.52%\n",
            "valid-loss: 0.46, valid-acc: 84.36%\n",
            "\n"
          ]
        },
        {
          "output_type": "stream",
          "name": "stderr",
          "text": [
            "Train loss: 0.41498780250549316: : 124it [01:14,  1.66it/s]\n",
            "29it [00:09,  2.94it/s]\n"
          ]
        },
        {
          "output_type": "stream",
          "name": "stdout",
          "text": [
            "epoch: 60 /100\n",
            "time: 84.73 seconds\n",
            "train-loss: 0.27, train-acc: 90.32%\n",
            "valid-loss: 0.45, valid-acc: 84.36%\n",
            "\n"
          ]
        },
        {
          "output_type": "stream",
          "name": "stderr",
          "text": [
            "Train loss: 0.26009315252304077: : 124it [01:14,  1.66it/s]\n",
            "29it [00:09,  2.92it/s]\n"
          ]
        },
        {
          "output_type": "stream",
          "name": "stdout",
          "text": [
            "epoch: 61 /100\n",
            "time: 84.82 seconds\n",
            "train-loss: 0.27, train-acc: 90.62%\n",
            "valid-loss: 0.47, valid-acc: 86.01%\n",
            "\n"
          ]
        },
        {
          "output_type": "stream",
          "name": "stderr",
          "text": [
            "Train loss: 0.31157565116882324: : 124it [01:14,  1.66it/s]\n",
            "29it [00:09,  2.92it/s]\n"
          ]
        },
        {
          "output_type": "stream",
          "name": "stdout",
          "text": [
            "epoch: 62 /100\n",
            "time: 84.74 seconds\n",
            "train-loss: 0.26, train-acc: 90.93%\n",
            "valid-loss: 0.47, valid-acc: 85.35%\n",
            "\n"
          ]
        },
        {
          "output_type": "stream",
          "name": "stderr",
          "text": [
            "Train loss: 0.3052690923213959: : 124it [01:14,  1.66it/s]\n",
            "29it [00:09,  2.92it/s]\n"
          ]
        },
        {
          "output_type": "stream",
          "name": "stdout",
          "text": [
            "epoch: 63 /100\n",
            "time: 84.79 seconds\n",
            "train-loss: 0.26, train-acc: 91.08%\n",
            "valid-loss: 0.50, valid-acc: 84.36%\n",
            "\n"
          ]
        },
        {
          "output_type": "stream",
          "name": "stderr",
          "text": [
            "Train loss: 0.1168251484632492: : 124it [01:14,  1.66it/s]\n",
            "29it [00:10,  2.88it/s]\n"
          ]
        },
        {
          "output_type": "stream",
          "name": "stdout",
          "text": [
            "epoch: 64 /100\n",
            "time: 85.03 seconds\n",
            "train-loss: 0.25, train-acc: 91.13%\n",
            "valid-loss: 0.47, valid-acc: 83.48%\n",
            "\n"
          ]
        },
        {
          "output_type": "stream",
          "name": "stderr",
          "text": [
            "Train loss: 0.1621626764535904: : 124it [01:14,  1.66it/s]\n",
            "29it [00:09,  2.93it/s]\n"
          ]
        },
        {
          "output_type": "stream",
          "name": "stdout",
          "text": [
            "epoch: 65 /100\n",
            "time: 84.65 seconds\n",
            "train-loss: 0.26, train-acc: 91.03%\n",
            "valid-loss: 0.45, valid-acc: 84.58%\n",
            "\n"
          ]
        },
        {
          "output_type": "stream",
          "name": "stderr",
          "text": [
            "Train loss: 0.23077628016471863: : 124it [01:14,  1.66it/s]\n",
            "29it [00:09,  2.93it/s]\n"
          ]
        },
        {
          "output_type": "stream",
          "name": "stdout",
          "text": [
            "epoch: 66 /100\n",
            "time: 84.78 seconds\n",
            "train-loss: 0.24, train-acc: 91.20%\n",
            "valid-loss: 0.53, valid-acc: 83.70%\n",
            "\n"
          ]
        },
        {
          "output_type": "stream",
          "name": "stderr",
          "text": [
            "Train loss: 0.3545244038105011: : 124it [01:14,  1.66it/s]\n",
            "29it [00:09,  2.92it/s]\n"
          ]
        },
        {
          "output_type": "stream",
          "name": "stdout",
          "text": [
            "epoch: 67 /100\n",
            "time: 84.69 seconds\n",
            "train-loss: 0.25, train-acc: 90.98%\n",
            "valid-loss: 0.48, valid-acc: 84.03%\n",
            "\n"
          ]
        },
        {
          "output_type": "stream",
          "name": "stderr",
          "text": [
            "Train loss: 0.2658758759498596: : 124it [01:14,  1.66it/s]\n",
            "29it [00:09,  2.91it/s]\n"
          ]
        },
        {
          "output_type": "stream",
          "name": "stdout",
          "text": [
            "epoch: 68 /100\n",
            "time: 84.82 seconds\n",
            "train-loss: 0.24, train-acc: 91.46%\n",
            "valid-loss: 0.56, valid-acc: 81.06%\n",
            "\n"
          ]
        },
        {
          "output_type": "stream",
          "name": "stderr",
          "text": [
            "Train loss: 0.39469555020332336: : 124it [01:14,  1.66it/s]\n",
            "29it [00:09,  2.92it/s]\n"
          ]
        },
        {
          "output_type": "stream",
          "name": "stdout",
          "text": [
            "epoch: 69 /100\n",
            "time: 84.82 seconds\n",
            "train-loss: 0.24, train-acc: 91.83%\n",
            "valid-loss: 0.44, valid-acc: 85.68%\n",
            "\n"
          ]
        },
        {
          "output_type": "stream",
          "name": "stderr",
          "text": [
            "Train loss: 0.4836823344230652: : 124it [01:14,  1.66it/s]\n",
            "29it [00:09,  2.92it/s]\n"
          ]
        },
        {
          "output_type": "stream",
          "name": "stdout",
          "text": [
            "epoch: 70 /100\n",
            "time: 84.69 seconds\n",
            "train-loss: 0.25, train-acc: 90.83%\n",
            "valid-loss: 0.46, valid-acc: 85.90%\n",
            "\n"
          ]
        },
        {
          "output_type": "stream",
          "name": "stderr",
          "text": [
            "Train loss: 0.25888100266456604: : 124it [01:14,  1.66it/s]\n",
            "29it [00:09,  2.92it/s]\n"
          ]
        },
        {
          "output_type": "stream",
          "name": "stdout",
          "text": [
            "epoch: 71 /100\n",
            "time: 84.67 seconds\n",
            "train-loss: 0.23, train-acc: 91.63%\n",
            "valid-loss: 0.48, valid-acc: 85.35%\n",
            "\n"
          ]
        },
        {
          "output_type": "stream",
          "name": "stderr",
          "text": [
            "Train loss: 0.23097938299179077: : 124it [01:14,  1.66it/s]\n",
            "29it [00:09,  2.93it/s]\n"
          ]
        },
        {
          "output_type": "stream",
          "name": "stdout",
          "text": [
            "epoch: 72 /100\n",
            "time: 84.74 seconds\n",
            "train-loss: 0.23, train-acc: 91.94%\n",
            "valid-loss: 0.47, valid-acc: 85.35%\n",
            "\n"
          ]
        },
        {
          "output_type": "stream",
          "name": "stderr",
          "text": [
            "Train loss: 0.17281970381736755: : 124it [01:14,  1.66it/s]\n",
            "29it [00:09,  2.95it/s]\n"
          ]
        },
        {
          "output_type": "stream",
          "name": "stdout",
          "text": [
            "epoch: 73 /100\n",
            "time: 84.34 seconds\n",
            "train-loss: 0.24, train-acc: 91.48%\n",
            "valid-loss: 0.49, valid-acc: 84.14%\n",
            "\n"
          ]
        },
        {
          "output_type": "stream",
          "name": "stderr",
          "text": [
            "Train loss: 0.303986132144928: : 124it [01:14,  1.66it/s]\n",
            "29it [00:09,  2.94it/s]\n"
          ]
        },
        {
          "output_type": "stream",
          "name": "stdout",
          "text": [
            "epoch: 74 /100\n",
            "time: 84.39 seconds\n",
            "train-loss: 0.23, train-acc: 91.58%\n",
            "valid-loss: 0.44, valid-acc: 86.56%\n",
            "\n"
          ]
        },
        {
          "output_type": "stream",
          "name": "stderr",
          "text": [
            "Train loss: 0.20856653153896332: : 124it [01:14,  1.66it/s]\n",
            "29it [00:09,  2.93it/s]\n"
          ]
        },
        {
          "output_type": "stream",
          "name": "stdout",
          "text": [
            "epoch: 75 /100\n",
            "time: 84.46 seconds\n",
            "train-loss: 0.23, train-acc: 91.83%\n",
            "valid-loss: 0.47, valid-acc: 84.58%\n",
            "\n"
          ]
        },
        {
          "output_type": "stream",
          "name": "stderr",
          "text": [
            "Train loss: 0.13195109367370605: : 124it [01:14,  1.66it/s]\n",
            "29it [00:09,  2.94it/s]\n"
          ]
        },
        {
          "output_type": "stream",
          "name": "stdout",
          "text": [
            "epoch: 76 /100\n",
            "time: 84.50 seconds\n",
            "train-loss: 0.23, train-acc: 91.76%\n",
            "valid-loss: 0.46, valid-acc: 84.47%\n",
            "\n"
          ]
        },
        {
          "output_type": "stream",
          "name": "stderr",
          "text": [
            "Train loss: 0.1393601894378662: : 124it [01:14,  1.66it/s]\n",
            "29it [00:09,  2.94it/s]\n"
          ]
        },
        {
          "output_type": "stream",
          "name": "stdout",
          "text": [
            "epoch: 77 /100\n",
            "time: 84.49 seconds\n",
            "train-loss: 0.21, train-acc: 92.52%\n",
            "valid-loss: 0.46, valid-acc: 85.13%\n",
            "\n"
          ]
        },
        {
          "output_type": "stream",
          "name": "stderr",
          "text": [
            "Train loss: 0.1896858960390091: : 124it [01:14,  1.67it/s]\n",
            "29it [00:09,  2.95it/s]\n"
          ]
        },
        {
          "output_type": "stream",
          "name": "stdout",
          "text": [
            "epoch: 78 /100\n",
            "time: 84.27 seconds\n",
            "train-loss: 0.22, train-acc: 91.91%\n",
            "valid-loss: 0.45, valid-acc: 86.01%\n",
            "\n"
          ]
        },
        {
          "output_type": "stream",
          "name": "stderr",
          "text": [
            "Train loss: 0.396287739276886: : 124it [01:14,  1.67it/s]\n",
            "29it [00:09,  2.94it/s]\n"
          ]
        },
        {
          "output_type": "stream",
          "name": "stdout",
          "text": [
            "epoch: 79 /100\n",
            "time: 84.24 seconds\n",
            "train-loss: 0.23, train-acc: 91.86%\n",
            "valid-loss: 0.44, valid-acc: 85.79%\n",
            "\n"
          ]
        },
        {
          "output_type": "stream",
          "name": "stderr",
          "text": [
            "Train loss: 0.3465014398097992: : 124it [01:14,  1.66it/s]\n",
            "29it [00:09,  2.94it/s]\n"
          ]
        },
        {
          "output_type": "stream",
          "name": "stdout",
          "text": [
            "epoch: 80 /100\n",
            "time: 84.42 seconds\n",
            "train-loss: 0.23, train-acc: 92.11%\n",
            "valid-loss: 0.44, valid-acc: 85.57%\n",
            "\n"
          ]
        },
        {
          "output_type": "stream",
          "name": "stderr",
          "text": [
            "Train loss: 0.35285523533821106: : 124it [01:14,  1.67it/s]\n",
            "29it [00:09,  2.92it/s]\n"
          ]
        },
        {
          "output_type": "stream",
          "name": "stdout",
          "text": [
            "epoch: 81 /100\n",
            "time: 84.42 seconds\n",
            "train-loss: 0.22, train-acc: 92.09%\n",
            "valid-loss: 0.47, valid-acc: 85.68%\n",
            "\n"
          ]
        },
        {
          "output_type": "stream",
          "name": "stderr",
          "text": [
            "Train loss: 0.27695590257644653: : 124it [01:14,  1.66it/s]\n",
            "29it [00:09,  2.93it/s]\n"
          ]
        },
        {
          "output_type": "stream",
          "name": "stdout",
          "text": [
            "epoch: 82 /100\n",
            "time: 84.42 seconds\n",
            "train-loss: 0.22, train-acc: 92.14%\n",
            "valid-loss: 0.45, valid-acc: 86.56%\n",
            "\n"
          ]
        },
        {
          "output_type": "stream",
          "name": "stderr",
          "text": [
            "Train loss: 0.15894152224063873: : 124it [01:14,  1.66it/s]\n",
            "29it [00:09,  2.94it/s]\n"
          ]
        },
        {
          "output_type": "stream",
          "name": "stdout",
          "text": [
            "epoch: 83 /100\n",
            "time: 84.45 seconds\n",
            "train-loss: 0.21, train-acc: 92.72%\n",
            "valid-loss: 0.46, valid-acc: 85.79%\n",
            "\n"
          ]
        },
        {
          "output_type": "stream",
          "name": "stderr",
          "text": [
            "Train loss: 0.31962478160858154: : 124it [01:14,  1.66it/s]\n",
            "29it [00:09,  2.94it/s]\n"
          ]
        },
        {
          "output_type": "stream",
          "name": "stdout",
          "text": [
            "epoch: 84 /100\n",
            "time: 84.45 seconds\n",
            "train-loss: 0.21, train-acc: 92.34%\n",
            "valid-loss: 0.43, valid-acc: 86.56%\n",
            "\n"
          ]
        },
        {
          "output_type": "stream",
          "name": "stderr",
          "text": [
            "Train loss: 0.05545513704419136: : 124it [01:14,  1.66it/s]\n",
            "29it [00:09,  2.91it/s]\n"
          ]
        },
        {
          "output_type": "stream",
          "name": "stdout",
          "text": [
            "epoch: 85 /100\n",
            "time: 84.59 seconds\n",
            "train-loss: 0.21, train-acc: 92.62%\n",
            "valid-loss: 0.46, valid-acc: 86.78%\n",
            "\n"
          ]
        },
        {
          "output_type": "stream",
          "name": "stderr",
          "text": [
            "Train loss: 0.0951540544629097: : 124it [01:14,  1.66it/s]\n",
            "29it [00:09,  2.95it/s]\n"
          ]
        },
        {
          "output_type": "stream",
          "name": "stdout",
          "text": [
            "epoch: 86 /100\n",
            "time: 84.37 seconds\n",
            "train-loss: 0.21, train-acc: 92.57%\n",
            "valid-loss: 0.47, valid-acc: 85.46%\n",
            "\n"
          ]
        },
        {
          "output_type": "stream",
          "name": "stderr",
          "text": [
            "Train loss: 0.1679050326347351: : 124it [01:14,  1.66it/s]\n",
            "29it [00:09,  2.92it/s]\n"
          ]
        },
        {
          "output_type": "stream",
          "name": "stdout",
          "text": [
            "epoch: 87 /100\n",
            "time: 84.54 seconds\n",
            "train-loss: 0.21, train-acc: 92.16%\n",
            "valid-loss: 0.46, valid-acc: 84.80%\n",
            "\n"
          ]
        },
        {
          "output_type": "stream",
          "name": "stderr",
          "text": [
            "Train loss: 0.36707639694213867: : 124it [01:14,  1.67it/s]\n",
            "29it [00:09,  2.95it/s]\n"
          ]
        },
        {
          "output_type": "stream",
          "name": "stdout",
          "text": [
            "epoch: 88 /100\n",
            "time: 84.03 seconds\n",
            "train-loss: 0.22, train-acc: 92.01%\n",
            "valid-loss: 0.45, valid-acc: 85.46%\n",
            "\n"
          ]
        },
        {
          "output_type": "stream",
          "name": "stderr",
          "text": [
            "Train loss: 0.11666408181190491: : 124it [01:14,  1.67it/s]\n",
            "29it [00:09,  2.94it/s]\n"
          ]
        },
        {
          "output_type": "stream",
          "name": "stdout",
          "text": [
            "epoch: 89 /100\n",
            "time: 84.24 seconds\n",
            "train-loss: 0.21, train-acc: 92.79%\n",
            "valid-loss: 0.45, valid-acc: 86.45%\n",
            "\n"
          ]
        },
        {
          "output_type": "stream",
          "name": "stderr",
          "text": [
            "Train loss: 0.22423064708709717: : 124it [01:14,  1.67it/s]\n",
            "29it [00:09,  2.94it/s]\n"
          ]
        },
        {
          "output_type": "stream",
          "name": "stdout",
          "text": [
            "epoch: 90 /100\n",
            "time: 84.30 seconds\n",
            "train-loss: 0.21, train-acc: 92.04%\n",
            "valid-loss: 0.43, valid-acc: 87.00%\n",
            "\n"
          ]
        },
        {
          "output_type": "stream",
          "name": "stderr",
          "text": [
            "Train loss: 0.16807526350021362: : 124it [01:14,  1.67it/s]\n",
            "29it [00:09,  2.94it/s]\n"
          ]
        },
        {
          "output_type": "stream",
          "name": "stdout",
          "text": [
            "epoch: 91 /100\n",
            "time: 84.30 seconds\n",
            "train-loss: 0.20, train-acc: 93.27%\n",
            "valid-loss: 0.46, valid-acc: 86.34%\n",
            "\n"
          ]
        },
        {
          "output_type": "stream",
          "name": "stderr",
          "text": [
            "Train loss: 0.2792293131351471: : 124it [01:13,  1.68it/s]\n",
            "29it [00:09,  2.96it/s]\n"
          ]
        },
        {
          "output_type": "stream",
          "name": "stdout",
          "text": [
            "epoch: 92 /100\n",
            "time: 83.84 seconds\n",
            "train-loss: 0.21, train-acc: 92.39%\n",
            "valid-loss: 0.44, valid-acc: 85.13%\n",
            "\n"
          ]
        },
        {
          "output_type": "stream",
          "name": "stderr",
          "text": [
            "Train loss: 0.18335112929344177: : 124it [01:13,  1.68it/s]\n",
            "29it [00:09,  2.95it/s]\n"
          ]
        },
        {
          "output_type": "stream",
          "name": "stdout",
          "text": [
            "epoch: 93 /100\n",
            "time: 83.84 seconds\n",
            "train-loss: 0.20, train-acc: 92.84%\n",
            "valid-loss: 0.45, valid-acc: 85.57%\n",
            "\n"
          ]
        },
        {
          "output_type": "stream",
          "name": "stderr",
          "text": [
            "Train loss: 0.09810027480125427: : 124it [01:14,  1.67it/s]\n",
            "29it [00:09,  2.94it/s]\n"
          ]
        },
        {
          "output_type": "stream",
          "name": "stdout",
          "text": [
            "epoch: 94 /100\n",
            "time: 84.25 seconds\n",
            "train-loss: 0.19, train-acc: 93.27%\n",
            "valid-loss: 0.47, valid-acc: 86.34%\n",
            "\n"
          ]
        },
        {
          "output_type": "stream",
          "name": "stderr",
          "text": [
            "Train loss: 0.27874261140823364: : 124it [01:14,  1.67it/s]\n",
            "29it [00:09,  2.97it/s]\n"
          ]
        },
        {
          "output_type": "stream",
          "name": "stdout",
          "text": [
            "epoch: 95 /100\n",
            "time: 84.27 seconds\n",
            "train-loss: 0.21, train-acc: 92.21%\n",
            "valid-loss: 0.46, valid-acc: 86.01%\n",
            "\n"
          ]
        },
        {
          "output_type": "stream",
          "name": "stderr",
          "text": [
            "Train loss: 0.17574642598628998: : 124it [01:14,  1.67it/s]\n",
            "29it [00:09,  2.94it/s]\n"
          ]
        },
        {
          "output_type": "stream",
          "name": "stdout",
          "text": [
            "epoch: 96 /100\n",
            "time: 84.14 seconds\n",
            "train-loss: 0.19, train-acc: 92.87%\n",
            "valid-loss: 0.46, valid-acc: 85.68%\n",
            "\n"
          ]
        },
        {
          "output_type": "stream",
          "name": "stderr",
          "text": [
            "Train loss: 0.23333048820495605: : 124it [01:14,  1.66it/s]\n",
            "29it [00:09,  2.95it/s]\n"
          ]
        },
        {
          "output_type": "stream",
          "name": "stdout",
          "text": [
            "epoch: 97 /100\n",
            "time: 84.41 seconds\n",
            "train-loss: 0.20, train-acc: 93.12%\n",
            "valid-loss: 0.46, valid-acc: 85.79%\n",
            "\n"
          ]
        },
        {
          "output_type": "stream",
          "name": "stderr",
          "text": [
            "Train loss: 0.1919616460800171: : 124it [01:14,  1.66it/s]\n",
            "29it [00:09,  2.90it/s]\n"
          ]
        },
        {
          "output_type": "stream",
          "name": "stdout",
          "text": [
            "epoch: 98 /100\n",
            "time: 84.57 seconds\n",
            "train-loss: 0.19, train-acc: 93.02%\n",
            "valid-loss: 0.43, valid-acc: 86.78%\n",
            "\n"
          ]
        },
        {
          "output_type": "stream",
          "name": "stderr",
          "text": [
            "Train loss: 0.22171421349048615: : 124it [01:14,  1.67it/s]\n",
            "29it [00:10,  2.89it/s]\n"
          ]
        },
        {
          "output_type": "stream",
          "name": "stdout",
          "text": [
            "epoch: 99 /100\n",
            "time: 84.49 seconds\n",
            "train-loss: 0.19, train-acc: 93.37%\n",
            "valid-loss: 0.40, valid-acc: 86.67%\n",
            "\n"
          ]
        },
        {
          "output_type": "stream",
          "name": "stderr",
          "text": [
            "Train loss: 0.4175178110599518: : 124it [01:14,  1.67it/s]\n",
            "29it [00:09,  2.96it/s]\n"
          ]
        },
        {
          "output_type": "stream",
          "name": "stdout",
          "text": [
            "epoch:100 /100\n",
            "time: 84.20 seconds\n",
            "train-loss: 0.20, train-acc: 92.94%\n",
            "valid-loss: 0.42, valid-acc: 88.22%\n",
            "\n"
          ]
        },
        {
          "output_type": "stream",
          "name": "stderr",
          "text": [
            "29it [00:09,  2.96it/s]"
          ]
        },
        {
          "output_type": "stream",
          "name": "stdout",
          "text": [
            "final accuracy 0.8689427312775331\n"
          ]
        },
        {
          "output_type": "stream",
          "name": "stderr",
          "text": [
            "\n"
          ]
        }
      ]
    },
    {
      "cell_type": "code",
      "source": [
        "fig=plt.figure(figsize = (12,7))\n",
        "sns.heatmap(conf_matrix, annot=True, fmt='g', linewidths=.4, cbar=False)\n",
        "class_names = [\"bathtub\", \"bed\", \"chair\", \"desk\", \"dresser\", \"monitor\", \"night_stand\", \"sofa\", \"table\", \"toilet\"]\n",
        "tick_marks = np.arange(len(class_names))\n",
        "plt.xticks(tick_marks, class_names, rotation=45)\n",
        "plt.yticks(tick_marks, class_names, rotation=0)\n",
        "plt.title(\"Confusion Matrix\")"
      ],
      "metadata": {
        "id": "HBhOIt8Emq1B",
        "outputId": "a8eebbdd-e041-4d94-df65-c5ebcd3e14c8",
        "colab": {
          "base_uri": "https://localhost:8080/",
          "height": 508
        }
      },
      "execution_count": 123,
      "outputs": [
        {
          "output_type": "execute_result",
          "data": {
            "text/plain": [
              "Text(0.5, 1.0, 'Confusion Matrix')"
            ]
          },
          "metadata": {},
          "execution_count": 123
        },
        {
          "output_type": "display_data",
          "data": {
            "text/plain": [
              "<Figure size 864x504 with 1 Axes>"
            ],
            "image/png": "[encoded data removed]"
          },
          "metadata": {}
        }
      ]
    },
    {
      "cell_type": "code",
      "source": [
        "def smooth(x, w=0):\n",
        "    last = x[0]\n",
        "    smoothed = []\n",
        "    for point in x:\n",
        "        smoothed_val = w * last + (1 - w) * point\n",
        "        smoothed.append(smoothed_val)\n",
        "        last = smoothed_val\n",
        "        \n",
        "    return smoothed\n",
        "\n",
        "eps = range(0, len(history[\"train_loss\"].cpu()))\n",
        "        \n",
        "sns.set_theme()\n",
        "fig, ax = plt.subplots(1, 2, figsize=(14, 4))\n",
        "fig.suptitle('Results')\n",
        "       \n",
        "ax[0].plot(eps, smooth(history[\"train_loss\"].cpu()), 'g', label='Training Loss')\n",
        "ax[0].plot(eps, smooth(history[\"test_loss\"].cpu()), 'b', label='Test Loss')\n",
        "ax[0].set_title('Loss History')\n",
        "ax[0].set(xlabel='Epochs', ylabel='Loss')\n",
        "ax[0].legend()\n",
        "        \n",
        "ax[1].plot(eps, smooth(history[\"train_acc\"].cpu()), 'g', label='Training Accuracy')\n",
        "ax[1].plot(eps, smooth(history[\"test_acc\"].cpu()), 'b', label='Test Accuracy')\n",
        "ax[1].set_title('Loss History')\n",
        "ax[1].set(xlabel='Epochs', ylabel='Accuracy')\n",
        "ax[1].legend()"
      ],
      "metadata": {
        "id": "N7DHiwXimwKP",
        "outputId": "b8f6e826-799c-4c68-b9b5-d3f1106d6dbf",
        "colab": {
          "base_uri": "https://localhost:8080/",
          "height": 331
        }
      },
      "execution_count": 124,
      "outputs": [
        {
          "output_type": "execute_result",
          "data": {
            "text/plain": [
              "<matplotlib.legend.Legend at 0x7f83cfd86670>"
            ]
          },
          "metadata": {},
          "execution_count": 124
        },
        {
          "output_type": "display_data",
          "data": {
            "text/plain": [
              "<Figure size 1008x288 with 2 Axes>"
            ],
            "image/png": "[encoded data removed]"
          },
          "metadata": {}
        }
      ]
    }
  ]
}