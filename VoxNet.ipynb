{
  "nbformat": 4,
  "nbformat_minor": 0,
  "metadata": {
    "colab": {
      "provenance": [],
      "toc_visible": true,
      "authorship_tag": "ABX9TyP9EAy/1dsrb0qONza12fd0",
      "include_colab_link": true
    },
    "kernelspec": {
      "name": "python3",
      "display_name": "Python 3"
    },
    "language_info": {
      "name": "python"
    }
  },
  "cells": [
    {
      "cell_type": "markdown",
      "metadata": {
        "id": "view-in-github",
        "colab_type": "text"
      },
      "source": [
        "<a href=\"https://colab.research.google.com/github/tabba98/neural-network/blob/main/VoxNet.ipynb\" target=\"_parent\"><img src=\"https://colab.research.google.com/assets/colab-badge.svg\" alt=\"Open In Colab\"/></a>"
      ]
    },
    {
      "cell_type": "markdown",
      "source": [
        "# Import the Libraries"
      ],
      "metadata": {
        "id": "vV-7Y3QXDnGs"
      }
    },
    {
      "cell_type": "code",
      "source": [
        "import numpy as np\n",
        "import torch\n",
        "import torch.nn as nn\n",
        "import torch.nn.functional as F\n",
        "from torch.utils.data import Dataset, DataLoader\n",
        "!pip install torchmetrics\n",
        "from torchmetrics.classification import Accuracy\n",
        "from torchmetrics import ConfusionMatrix\n",
        "\n",
        "!pip install open3d;\n",
        "import open3d as o3d\n",
        "\n",
        "#for plotting\n",
        "import matplotlib.pyplot as plt\n",
        "import seaborn as sns\n",
        "import pandas as pd\n",
        "from sklearn.metrics import confusion_matrix\n",
        "\n",
        "import scipy\n",
        "from scipy.ndimage import rotate\n",
        "\n",
        "import time\n",
        "from tqdm import tqdm"
      ],
      "metadata": {
        "id": "Ic3yD5Ks5Stj",
        "outputId": "99217daf-43ba-4984-d707-90501459e984",
        "colab": {
          "base_uri": "https://localhost:8080/",
          "height": 1000
        }
      },
      "execution_count": 1,
      "outputs": [
        {
          "output_type": "stream",
          "name": "stdout",
          "text": [
            "Looking in indexes: https://pypi.org/simple, https://us-python.pkg.dev/colab-wheels/public/simple/\n",
            "Collecting torchmetrics\n",
            "  Downloading torchmetrics-0.11.1-py3-none-any.whl (517 kB)\n",
            "\u001b[2K     \u001b[90m━━━━━━━━━━━━━━━━━━━━━━━━━━━━━━━━━━━━━━\u001b[0m \u001b[32m517.2/517.2 KB\u001b[0m \u001b[31m29.2 MB/s\u001b[0m eta \u001b[36m0:00:00\u001b[0m\n",
            "\u001b[?25hRequirement already satisfied: numpy>=1.17.2 in /usr/local/lib/python3.8/dist-packages (from torchmetrics) (1.21.6)\n",
            "Requirement already satisfied: packaging in /usr/local/lib/python3.8/dist-packages (from torchmetrics) (21.3)\n",
            "Requirement already satisfied: torch>=1.8.1 in /usr/local/lib/python3.8/dist-packages (from torchmetrics) (1.13.1+cu116)\n",
            "Requirement already satisfied: typing-extensions in /usr/local/lib/python3.8/dist-packages (from torchmetrics) (4.4.0)\n",
            "Requirement already satisfied: pyparsing!=3.0.5,>=2.0.2 in /usr/local/lib/python3.8/dist-packages (from packaging->torchmetrics) (3.0.9)\n",
            "Installing collected packages: torchmetrics\n",
            "Successfully installed torchmetrics-0.11.1\n",
            "Looking in indexes: https://pypi.org/simple, https://us-python.pkg.dev/colab-wheels/public/simple/\n",
            "Collecting open3d\n",
            "  Downloading open3d-0.16.0-cp38-cp38-manylinux_2_27_x86_64.whl (422.5 MB)\n",
            "\u001b[2K     \u001b[90m━━━━━━━━━━━━━━━━━━━━━━━━━━━━━━━━━━━━━━━\u001b[0m \u001b[32m422.5/422.5 MB\u001b[0m \u001b[31m3.3 MB/s\u001b[0m eta \u001b[36m0:00:00\u001b[0m\n",
            "\u001b[?25hRequirement already satisfied: matplotlib>=3 in /usr/local/lib/python3.8/dist-packages (from open3d) (3.2.2)\n",
            "Requirement already satisfied: pandas>=1.0 in /usr/local/lib/python3.8/dist-packages (from open3d) (1.3.5)\n",
            "Requirement already satisfied: numpy>=1.18.0 in /usr/local/lib/python3.8/dist-packages (from open3d) (1.21.6)\n",
            "Collecting configargparse\n",
            "  Downloading ConfigArgParse-1.5.3-py3-none-any.whl (20 kB)\n",
            "Collecting pyquaternion\n",
            "  Downloading pyquaternion-0.9.9-py3-none-any.whl (14 kB)\n",
            "Requirement already satisfied: scikit-learn>=0.21 in /usr/local/lib/python3.8/dist-packages (from open3d) (1.0.2)\n",
            "Collecting dash>=2.6.0\n",
            "  Downloading dash-2.8.1-py3-none-any.whl (9.9 MB)\n",
            "\u001b[2K     \u001b[90m━━━━━━━━━━━━━━━━━━━━━━━━━━━━━━━━━━━━━━━━\u001b[0m \u001b[32m9.9/9.9 MB\u001b[0m \u001b[31m112.6 MB/s\u001b[0m eta \u001b[36m0:00:00\u001b[0m\n",
            "\u001b[?25hRequirement already satisfied: ipywidgets>=7.6.0 in /usr/local/lib/python3.8/dist-packages (from open3d) (7.7.1)\n",
            "Collecting nbformat==5.5.0\n",
            "  Downloading nbformat-5.5.0-py3-none-any.whl (75 kB)\n",
            "\u001b[2K     \u001b[90m━━━━━━━━━━━━━━━━━━━━━━━━━━━━━━━━━━━━━━━━\u001b[0m \u001b[32m75.3/75.3 KB\u001b[0m \u001b[31m9.7 MB/s\u001b[0m eta \u001b[36m0:00:00\u001b[0m\n",
            "\u001b[?25hRequirement already satisfied: pyyaml>=5.4.1 in /usr/local/lib/python3.8/dist-packages (from open3d) (6.0)\n",
            "Collecting addict\n",
            "  Downloading addict-2.4.0-py3-none-any.whl (3.8 kB)\n",
            "Requirement already satisfied: tqdm in /usr/local/lib/python3.8/dist-packages (from open3d) (4.64.1)\n",
            "Collecting pillow>=8.2.0\n",
            "  Downloading Pillow-9.4.0-cp38-cp38-manylinux_2_28_x86_64.whl (3.4 MB)\n",
            "\u001b[2K     \u001b[90m━━━━━━━━━━━━━━━━━━━━━━━━━━━━━━━━━━━━━━━━\u001b[0m \u001b[32m3.4/3.4 MB\u001b[0m \u001b[31m116.2 MB/s\u001b[0m eta \u001b[36m0:00:00\u001b[0m\n",
            "\u001b[?25hRequirement already satisfied: jsonschema>=2.6 in /usr/local/lib/python3.8/dist-packages (from nbformat==5.5.0->open3d) (4.3.3)\n",
            "Requirement already satisfied: fastjsonschema in /usr/local/lib/python3.8/dist-packages (from nbformat==5.5.0->open3d) (2.16.2)\n",
            "Requirement already satisfied: jupyter_core in /usr/local/lib/python3.8/dist-packages (from nbformat==5.5.0->open3d) (5.1.3)\n",
            "Requirement already satisfied: traitlets>=5.1 in /usr/local/lib/python3.8/dist-packages (from nbformat==5.5.0->open3d) (5.7.1)\n",
            "Collecting dash-html-components==2.0.0\n",
            "  Downloading dash_html_components-2.0.0-py3-none-any.whl (4.1 kB)\n",
            "Collecting dash-core-components==2.0.0\n",
            "  Downloading dash_core_components-2.0.0-py3-none-any.whl (3.8 kB)\n",
            "Requirement already satisfied: plotly>=5.0.0 in /usr/local/lib/python3.8/dist-packages (from dash>=2.6.0->open3d) (5.5.0)\n",
            "Requirement already satisfied: Flask>=1.0.4 in /usr/local/lib/python3.8/dist-packages (from dash>=2.6.0->open3d) (1.1.4)\n",
            "Collecting dash-table==5.0.0\n",
            "  Downloading dash_table-5.0.0-py3-none-any.whl (3.9 kB)\n",
            "Requirement already satisfied: ipython-genutils~=0.2.0 in /usr/local/lib/python3.8/dist-packages (from ipywidgets>=7.6.0->open3d) (0.2.0)\n",
            "Requirement already satisfied: widgetsnbextension~=3.6.0 in /usr/local/lib/python3.8/dist-packages (from ipywidgets>=7.6.0->open3d) (3.6.1)\n",
            "Requirement already satisfied: ipython>=4.0.0 in /usr/local/lib/python3.8/dist-packages (from ipywidgets>=7.6.0->open3d) (7.9.0)\n",
            "Requirement already satisfied: jupyterlab-widgets>=1.0.0 in /usr/local/lib/python3.8/dist-packages (from ipywidgets>=7.6.0->open3d) (3.0.5)\n",
            "Requirement already satisfied: ipykernel>=4.5.1 in /usr/local/lib/python3.8/dist-packages (from ipywidgets>=7.6.0->open3d) (5.3.4)\n",
            "Requirement already satisfied: python-dateutil>=2.1 in /usr/local/lib/python3.8/dist-packages (from matplotlib>=3->open3d) (2.8.2)\n",
            "Requirement already satisfied: pyparsing!=2.0.4,!=2.1.2,!=2.1.6,>=2.0.1 in /usr/local/lib/python3.8/dist-packages (from matplotlib>=3->open3d) (3.0.9)\n",
            "Requirement already satisfied: kiwisolver>=1.0.1 in /usr/local/lib/python3.8/dist-packages (from matplotlib>=3->open3d) (1.4.4)\n",
            "Requirement already satisfied: cycler>=0.10 in /usr/local/lib/python3.8/dist-packages (from matplotlib>=3->open3d) (0.11.0)\n",
            "Requirement already satisfied: pytz>=2017.3 in /usr/local/lib/python3.8/dist-packages (from pandas>=1.0->open3d) (2022.7)\n",
            "Requirement already satisfied: joblib>=0.11 in /usr/local/lib/python3.8/dist-packages (from scikit-learn>=0.21->open3d) (1.2.0)\n",
            "Requirement already satisfied: threadpoolctl>=2.0.0 in /usr/local/lib/python3.8/dist-packages (from scikit-learn>=0.21->open3d) (3.1.0)\n",
            "Requirement already satisfied: scipy>=1.1.0 in /usr/local/lib/python3.8/dist-packages (from scikit-learn>=0.21->open3d) (1.7.3)\n",
            "Requirement already satisfied: Jinja2<3.0,>=2.10.1 in /usr/local/lib/python3.8/dist-packages (from Flask>=1.0.4->dash>=2.6.0->open3d) (2.11.3)\n",
            "Requirement already satisfied: click<8.0,>=5.1 in /usr/local/lib/python3.8/dist-packages (from Flask>=1.0.4->dash>=2.6.0->open3d) (7.1.2)\n",
            "Requirement already satisfied: itsdangerous<2.0,>=0.24 in /usr/local/lib/python3.8/dist-packages (from Flask>=1.0.4->dash>=2.6.0->open3d) (1.1.0)\n",
            "Requirement already satisfied: Werkzeug<2.0,>=0.15 in /usr/local/lib/python3.8/dist-packages (from Flask>=1.0.4->dash>=2.6.0->open3d) (1.0.1)\n",
            "Requirement already satisfied: tornado>=4.2 in /usr/local/lib/python3.8/dist-packages (from ipykernel>=4.5.1->ipywidgets>=7.6.0->open3d) (6.0.4)\n",
            "Requirement already satisfied: jupyter-client in /usr/local/lib/python3.8/dist-packages (from ipykernel>=4.5.1->ipywidgets>=7.6.0->open3d) (6.1.12)\n",
            "Requirement already satisfied: pickleshare in /usr/local/lib/python3.8/dist-packages (from ipython>=4.0.0->ipywidgets>=7.6.0->open3d) (0.7.5)\n",
            "Collecting jedi>=0.10\n",
            "  Downloading jedi-0.18.2-py2.py3-none-any.whl (1.6 MB)\n",
            "\u001b[2K     \u001b[90m━━━━━━━━━━━━━━━━━━━━━━━━━━━━━━━━━━━━━━━━\u001b[0m \u001b[32m1.6/1.6 MB\u001b[0m \u001b[31m82.3 MB/s\u001b[0m eta \u001b[36m0:00:00\u001b[0m\n",
            "\u001b[?25hRequirement already satisfied: pexpect in /usr/local/lib/python3.8/dist-packages (from ipython>=4.0.0->ipywidgets>=7.6.0->open3d) (4.8.0)\n",
            "Requirement already satisfied: backcall in /usr/local/lib/python3.8/dist-packages (from ipython>=4.0.0->ipywidgets>=7.6.0->open3d) (0.2.0)\n",
            "Requirement already satisfied: decorator in /usr/local/lib/python3.8/dist-packages (from ipython>=4.0.0->ipywidgets>=7.6.0->open3d) (4.4.2)\n",
            "Requirement already satisfied: setuptools>=18.5 in /usr/local/lib/python3.8/dist-packages (from ipython>=4.0.0->ipywidgets>=7.6.0->open3d) (57.4.0)\n",
            "Requirement already satisfied: pygments in /usr/local/lib/python3.8/dist-packages (from ipython>=4.0.0->ipywidgets>=7.6.0->open3d) (2.6.1)\n",
            "Requirement already satisfied: prompt-toolkit<2.1.0,>=2.0.0 in /usr/local/lib/python3.8/dist-packages (from ipython>=4.0.0->ipywidgets>=7.6.0->open3d) (2.0.10)\n",
            "Requirement already satisfied: attrs>=17.4.0 in /usr/local/lib/python3.8/dist-packages (from jsonschema>=2.6->nbformat==5.5.0->open3d) (22.2.0)\n",
            "Requirement already satisfied: pyrsistent!=0.17.0,!=0.17.1,!=0.17.2,>=0.14.0 in /usr/local/lib/python3.8/dist-packages (from jsonschema>=2.6->nbformat==5.5.0->open3d) (0.19.3)\n",
            "Requirement already satisfied: importlib-resources>=1.4.0 in /usr/local/lib/python3.8/dist-packages (from jsonschema>=2.6->nbformat==5.5.0->open3d) (5.10.2)\n",
            "Requirement already satisfied: tenacity>=6.2.0 in /usr/local/lib/python3.8/dist-packages (from plotly>=5.0.0->dash>=2.6.0->open3d) (8.1.0)\n",
            "Requirement already satisfied: six in /usr/local/lib/python3.8/dist-packages (from plotly>=5.0.0->dash>=2.6.0->open3d) (1.15.0)\n",
            "Requirement already satisfied: notebook>=4.4.1 in /usr/local/lib/python3.8/dist-packages (from widgetsnbextension~=3.6.0->ipywidgets>=7.6.0->open3d) (5.7.16)\n",
            "Requirement already satisfied: platformdirs>=2.5 in /usr/local/lib/python3.8/dist-packages (from jupyter_core->nbformat==5.5.0->open3d) (2.6.2)\n",
            "Requirement already satisfied: zipp>=3.1.0 in /usr/local/lib/python3.8/dist-packages (from importlib-resources>=1.4.0->jsonschema>=2.6->nbformat==5.5.0->open3d) (3.11.0)\n",
            "Requirement already satisfied: parso<0.9.0,>=0.8.0 in /usr/local/lib/python3.8/dist-packages (from jedi>=0.10->ipython>=4.0.0->ipywidgets>=7.6.0->open3d) (0.8.3)\n",
            "Requirement already satisfied: MarkupSafe>=0.23 in /usr/local/lib/python3.8/dist-packages (from Jinja2<3.0,>=2.10.1->Flask>=1.0.4->dash>=2.6.0->open3d) (2.0.1)\n",
            "Requirement already satisfied: terminado>=0.8.1 in /usr/local/lib/python3.8/dist-packages (from notebook>=4.4.1->widgetsnbextension~=3.6.0->ipywidgets>=7.6.0->open3d) (0.13.3)\n",
            "Requirement already satisfied: nbconvert<6.0 in /usr/local/lib/python3.8/dist-packages (from notebook>=4.4.1->widgetsnbextension~=3.6.0->ipywidgets>=7.6.0->open3d) (5.6.1)\n",
            "Requirement already satisfied: Send2Trash in /usr/local/lib/python3.8/dist-packages (from notebook>=4.4.1->widgetsnbextension~=3.6.0->ipywidgets>=7.6.0->open3d) (1.8.0)\n",
            "Requirement already satisfied: pyzmq>=17 in /usr/local/lib/python3.8/dist-packages (from notebook>=4.4.1->widgetsnbextension~=3.6.0->ipywidgets>=7.6.0->open3d) (23.2.1)\n",
            "Requirement already satisfied: prometheus-client in /usr/local/lib/python3.8/dist-packages (from notebook>=4.4.1->widgetsnbextension~=3.6.0->ipywidgets>=7.6.0->open3d) (0.15.0)\n",
            "Requirement already satisfied: wcwidth in /usr/local/lib/python3.8/dist-packages (from prompt-toolkit<2.1.0,>=2.0.0->ipython>=4.0.0->ipywidgets>=7.6.0->open3d) (0.2.5)\n",
            "Requirement already satisfied: ptyprocess>=0.5 in /usr/local/lib/python3.8/dist-packages (from pexpect->ipython>=4.0.0->ipywidgets>=7.6.0->open3d) (0.7.0)\n",
            "Requirement already satisfied: testpath in /usr/local/lib/python3.8/dist-packages (from nbconvert<6.0->notebook>=4.4.1->widgetsnbextension~=3.6.0->ipywidgets>=7.6.0->open3d) (0.6.0)\n",
            "Requirement already satisfied: mistune<2,>=0.8.1 in /usr/local/lib/python3.8/dist-packages (from nbconvert<6.0->notebook>=4.4.1->widgetsnbextension~=3.6.0->ipywidgets>=7.6.0->open3d) (0.8.4)\n",
            "Requirement already satisfied: bleach in /usr/local/lib/python3.8/dist-packages (from nbconvert<6.0->notebook>=4.4.1->widgetsnbextension~=3.6.0->ipywidgets>=7.6.0->open3d) (5.0.1)\n",
            "Requirement already satisfied: entrypoints>=0.2.2 in /usr/local/lib/python3.8/dist-packages (from nbconvert<6.0->notebook>=4.4.1->widgetsnbextension~=3.6.0->ipywidgets>=7.6.0->open3d) (0.4)\n",
            "Requirement already satisfied: defusedxml in /usr/local/lib/python3.8/dist-packages (from nbconvert<6.0->notebook>=4.4.1->widgetsnbextension~=3.6.0->ipywidgets>=7.6.0->open3d) (0.7.1)\n",
            "Requirement already satisfied: pandocfilters>=1.4.1 in /usr/local/lib/python3.8/dist-packages (from nbconvert<6.0->notebook>=4.4.1->widgetsnbextension~=3.6.0->ipywidgets>=7.6.0->open3d) (1.5.0)\n",
            "Requirement already satisfied: webencodings in /usr/local/lib/python3.8/dist-packages (from bleach->nbconvert<6.0->notebook>=4.4.1->widgetsnbextension~=3.6.0->ipywidgets>=7.6.0->open3d) (0.5.1)\n",
            "Installing collected packages: dash-table, dash-html-components, dash-core-components, addict, pyquaternion, pillow, jedi, configargparse, nbformat, dash, open3d\n",
            "  Attempting uninstall: pillow\n",
            "    Found existing installation: Pillow 7.1.2\n",
            "    Uninstalling Pillow-7.1.2:\n",
            "      Successfully uninstalled Pillow-7.1.2\n",
            "  Attempting uninstall: nbformat\n",
            "    Found existing installation: nbformat 5.7.1\n",
            "    Uninstalling nbformat-5.7.1:\n",
            "      Successfully uninstalled nbformat-5.7.1\n",
            "Successfully installed addict-2.4.0 configargparse-1.5.3 dash-2.8.1 dash-core-components-2.0.0 dash-html-components-2.0.0 dash-table-5.0.0 jedi-0.18.2 nbformat-5.5.0 open3d-0.16.0 pillow-9.4.0 pyquaternion-0.9.9\n"
          ]
        },
        {
          "output_type": "display_data",
          "data": {
            "application/vnd.colab-display-data+json": {
              "pip_warning": {
                "packages": [
                  "PIL"
                ]
              }
            }
          },
          "metadata": {}
        }
      ]
    },
    {
      "cell_type": "markdown",
      "source": [
        "# Download and unzip the dataset ModelNet10"
      ],
      "metadata": {
        "id": "cGpYL7odDvTN"
      }
    },
    {
      "cell_type": "code",
      "source": [
        "!wget http://3dvision.princeton.edu/projects/2014/3DShapeNets/ModelNet10.zip"
      ],
      "metadata": {
        "id": "BGBFL8fX5Uuv",
        "outputId": "51412d56-531d-401d-ebed-69bf70745500",
        "colab": {
          "base_uri": "https://localhost:8080/"
        }
      },
      "execution_count": 2,
      "outputs": [
        {
          "output_type": "stream",
          "name": "stdout",
          "text": [
            "--2023-01-31 15:38:07--  http://3dvision.princeton.edu/projects/2014/3DShapeNets/ModelNet10.zip\n",
            "Resolving 3dvision.princeton.edu (3dvision.princeton.edu)... 128.112.136.74\n",
            "Connecting to 3dvision.princeton.edu (3dvision.princeton.edu)|128.112.136.74|:80... connected.\n",
            "HTTP request sent, awaiting response... 302 Found\n",
            "Location: https://3dvision.princeton.edu/projects/2014/3DShapeNets/ModelNet10.zip [following]\n",
            "--2023-01-31 15:38:07--  https://3dvision.princeton.edu/projects/2014/3DShapeNets/ModelNet10.zip\n",
            "Connecting to 3dvision.princeton.edu (3dvision.princeton.edu)|128.112.136.74|:443... connected.\n",
            "HTTP request sent, awaiting response... 200 OK\n",
            "Length: 473402300 (451M) [application/zip]\n",
            "Saving to: ‘ModelNet10.zip’\n",
            "\n",
            "ModelNet10.zip      100%[===================>] 451.47M   106MB/s    in 4.3s    \n",
            "\n",
            "2023-01-31 15:38:11 (105 MB/s) - ‘ModelNet10.zip’ saved [473402300/473402300]\n",
            "\n"
          ]
        }
      ]
    },
    {
      "cell_type": "code",
      "source": [
        "!unzip -q ModelNet10.zip;"
      ],
      "metadata": {
        "id": "06P5PcU8L_Xq"
      },
      "execution_count": 3,
      "outputs": []
    },
    {
      "cell_type": "markdown",
      "source": [
        "# Voxelization of the off. files in dataset"
      ],
      "metadata": {
        "id": "Fqc2ykibD5DP"
      }
    },
    {
      "cell_type": "code",
      "source": [
        "import os\n",
        "\n",
        "ROOT = '/content/ModelNet10/'\n",
        "CLASSES = ['bathtub', 'bed', 'chair', 'desk', 'dresser', 'monitor', 'night_stand', 'sofa', 'table', 'toilet']\n",
        "\n",
        "X = {'train': [], 'test': []}\n",
        "Y = {'train': [], 'test': []}\n",
        "\n",
        "for label, cl in enumerate(CLASSES):\n",
        "    for split in ['train', 'test']:\n",
        "        examples_dir = os.path.join(ROOT, cl, split)\n",
        "        for example in tqdm(os.listdir(examples_dir)):\n",
        "          voxel_index = []\n",
        "          if 'off' in example:\n",
        "            mesh = o3d.io.read_triangle_mesh(examples_dir+'/'+example)\n",
        "            mesh.scale(1 / np.max(mesh.get_max_bound() - mesh.get_min_bound()), center=mesh.get_center())\n",
        "            voxel_grid = o3d.geometry.VoxelGrid.create_from_triangle_mesh(mesh, voxel_size=0.05)\n",
        "            \n",
        "            X[split].append(voxel_grid)\n",
        "            Y[split].append(label)\n"
      ],
      "metadata": {
        "id": "q-fFm_XKMDMH",
        "outputId": "f3c22d11-dd3c-4e81-86b8-dafcc67e90a9",
        "colab": {
          "base_uri": "https://localhost:8080/"
        }
      },
      "execution_count": 4,
      "outputs": [
        {
          "output_type": "stream",
          "name": "stderr",
          "text": [
            "100%|██████████| 106/106 [00:22<00:00,  4.82it/s]\n",
            "100%|██████████| 50/50 [00:10<00:00,  5.00it/s]\n",
            "100%|██████████| 516/516 [03:54<00:00,  2.20it/s]\n",
            "100%|██████████| 101/101 [00:30<00:00,  3.32it/s]\n",
            "100%|██████████| 890/890 [10:36<00:00,  1.40it/s]\n",
            "100%|██████████| 101/101 [00:57<00:00,  1.76it/s]\n",
            "100%|██████████| 200/200 [00:42<00:00,  4.66it/s]\n",
            "100%|██████████| 86/86 [00:15<00:00,  5.71it/s]\n",
            "100%|██████████| 200/200 [01:06<00:00,  3.03it/s]\n",
            "100%|██████████| 86/86 [00:25<00:00,  3.40it/s]\n",
            "100%|██████████| 465/465 [01:00<00:00,  7.74it/s]\n",
            "100%|██████████| 100/100 [00:11<00:00,  8.72it/s]\n",
            "100%|██████████| 200/200 [00:54<00:00,  3.69it/s]\n",
            "100%|██████████| 86/86 [00:22<00:00,  3.76it/s]\n",
            "100%|██████████| 680/680 [03:04<00:00,  3.68it/s]\n",
            "100%|██████████| 100/100 [00:25<00:00,  3.87it/s]\n",
            "100%|██████████| 392/392 [01:43<00:00,  3.80it/s]\n",
            "100%|██████████| 100/100 [00:08<00:00, 11.48it/s]\n",
            "100%|██████████| 345/345 [04:08<00:00,  1.39it/s]\n",
            "100%|██████████| 101/101 [02:01<00:00,  1.20s/it]\n"
          ]
        }
      ]
    },
    {
      "cell_type": "markdown",
      "source": [
        "# Dataset setup and Trainer"
      ],
      "metadata": {
        "id": "NDE8PhnsECNF"
      }
    },
    {
      "cell_type": "code",
      "source": [
        "class VoxelDataset(Dataset):\n",
        "    def __init__(self, train = True):\n",
        "      if train:\n",
        "          self.data = X['train']\n",
        "          self.label = Y['train']\n",
        "      else:\n",
        "          self.data = X['test']\n",
        "          self.label = Y['test']\n",
        "        \n",
        "                \n",
        "    def __len__(self):\n",
        "        return len(self.label)\n",
        "\n",
        "    def __preproc__(self, voxels):\n",
        "        \n",
        "        voxel_grid = voxels.get_voxels()\n",
        "        vox_g = np.zeros((32, 32, 32), dtype=np.int32)\n",
        "        for i in range (len(voxel_grid)):\n",
        "          voxel_index = voxel_grid[i].grid_index\n",
        "          vox_g[voxel_index[0],voxel_index[1],voxel_index[2]] = 1\n",
        "\n",
        "        #flip x\n",
        "        if np.random.randint(2):\n",
        "            vox_g = np.flip(vox_g, axis=0)\n",
        "        \n",
        "        #flip y\n",
        "        if np.random.randint(2):\n",
        "            vox_g = np.flip(vox_g, axis=1)\n",
        "        \n",
        "        angle = 360 * np.random.random_sample(1)[0]\n",
        "        vox_g = rotate(vox_g, axes=(0, 1), angle=angle, cval=0.0, reshape=False)  \n",
        "        \n",
        "        return vox_g.copy()\n",
        "\n",
        "    def __getitem__(self, idx):\n",
        "        label = self.label[idx]\n",
        "        voxels = self.data[idx]\n",
        "        voxels = self.__preproc__(voxels)\n",
        "        voxels = np.expand_dims(voxels, axis=0)\n",
        "        voxels = torch.tensor(voxels).float()\n",
        "        return voxels, label"
      ],
      "metadata": {
        "id": "pfSGCV6k5YXr"
      },
      "execution_count": 5,
      "outputs": []
    },
    {
      "cell_type": "code",
      "source": [
        "from torch.optim import SGD, Adam\n",
        "from torch.nn import BCEWithLogitsLoss\n",
        "from tqdm import tqdm\n",
        "\n",
        "class VoxNet_Trainer():\n",
        "  def __init__(self, hyperparameters):\n",
        "      #Hypreparameters\n",
        "      self.learning_rate = hyperparameters[\"learning_rate\"]\n",
        "      self.batch_size_train = hyperparameters[\"train_batch_size\"]\n",
        "      self.batch_size_test = hyperparameters[\"valid_batch_size\"]\n",
        "      self.data_size = hyperparameters[\"data_size\"]\n",
        "      self.sgd_momentum = hyperparameters[\"sgd_momentum\"]\n",
        "      self.device = torch.device(\"cuda:0\" if torch.cuda.is_available() else \"cpu\")\n",
        "      self.epochs = hyperparameters[\"epochs\"]\n",
        "      \n",
        "      #Dataset\n",
        "      self.initDataset()\n",
        "      self.class_names = [\"bathtub\", \"bed\", \"chair\", \"desk\", \"dresser\", \"monitor\", \"night_stand\", \"sofa\", \"table\", \"toilet\"]\n",
        "      self.num_classes = len(self.class_names)\n",
        "\n",
        "      #Model\n",
        "      self.lr_scheduler_step = hyperparameters[\"lr_scheduler_step\"]\n",
        "      self.lr_scheduler_gamma = hyperparameters[\"lr_scheduler_gamma\"]\n",
        "      self.initModel(hyperparameters)\n",
        "  \n",
        "  def initDataset(self):\n",
        "      self.train_ds = VoxelDataset(train=True)\n",
        "      self.test_ds = VoxelDataset(train=False)\n",
        "      self.train_dataloader = DataLoader(dataset=self.train_ds, batch_size=self.batch_size_train, shuffle=True, drop_last=True)\n",
        "      self.test_dataloader = DataLoader(dataset=self.test_ds, batch_size=self.batch_size_test)\n",
        "\n",
        "  def initModel(self, hyperparameters):\n",
        "      if hyperparameters[\"model\"] == \"VoxNet\":\n",
        "          self.model = VoxNet()\n",
        "          print(\"model VoxNet was chosen\")\n",
        "      elif hyperparameters[\"model\"] == \"BatcNormVoxNet\":\n",
        "          self.model = BatchNormVoxNet()\n",
        "          print(\"model BatchNormVoxNet was chosen\")\n",
        "      else:\n",
        "        self.model = DMPVoxNet()\n",
        "        print('model DMPVoxNet was choosen')\n",
        "      self.device = \"cuda\" if torch.cuda.is_available() else \"cpu\"\n",
        "      self.model.to(self.device)\n",
        "      #self.opt = torch.optim.Adam(self.model.parameters(), lr=self.learning_rate)\n",
        "      self.opt = SGD(self.model.parameters(), lr=self.learning_rate, momentum=self.sgd_momentum)\n",
        "      #self.loss_fn = nn.CrossEntropyLoss()\n",
        "      self.loss_fn = nn.NLLLoss()\n",
        "      self.lr_scheduler = torch.optim.lr_scheduler.StepLR(self.opt, step_size=self.lr_scheduler_step, gamma=self.lr_scheduler_gamma)\n",
        "\n",
        "  def train(self):\n",
        "      self.pred_conf, self.y_conf = [], []                                                           \n",
        "      train_loss_history, valid_loss_history = [], []\n",
        "      train_acc_history, valid_acc_history = [], []\n",
        "      train_accuracy = Accuracy(task='multiclass', num_classes=10)\n",
        "      valid_accuracy = Accuracy(task='multiclass', num_classes=10)\n",
        "\n",
        "      self.num_batch = len(self.train_ds) / self.batch_size_train\n",
        "      print(self.num_batch)\n",
        "\n",
        "      total_time = time.time()\n",
        "\n",
        "      for epoch in range(self.epochs):\n",
        "          self.lr_scheduler.step()\n",
        "          t = time.time()\n",
        "\n",
        "          train_loss = []                                                         #track training loss\n",
        "          valid_loss = []\n",
        "          self.model.train()\n",
        "          iterator = tqdm(enumerate(self.train_dataloader, 0))\n",
        "          for i, data in iterator:\n",
        "              inputs, labels = data[0], data[1]\n",
        "              inputs = inputs.to(self.device)\n",
        "              labels = labels.to(self.device)\n",
        "\n",
        "              self.opt.zero_grad()\n",
        "              pred = self.model(inputs)  # torch.Size([256, 10])\n",
        "              loss = self.loss_fn(pred,labels)\n",
        "              train_loss.append(loss.cpu().data)\n",
        "              train_accuracy.update(torch.argmax(pred, 1).cpu(), labels.cpu()) \n",
        "\n",
        "              loss.backward()\n",
        "              self.opt.step()\n",
        "              iterator.set_description(f\"Train loss: {loss.cpu().data}\")\n",
        "              \n",
        "              pred_choice = pred.data.max(1)[1]\n",
        "              correct = pred_choice.eq(labels.data).cpu().sum()\n",
        "                      \n",
        "          with torch.no_grad():\n",
        "            self.model.eval()\n",
        "            for j, sample in tqdm(enumerate(self.test_dataloader, 0)):    \n",
        "                inputs_test, labels_test = sample[0], sample[1]\n",
        "                inputs_test = inputs_test.to(self.device)\n",
        "                labels_test = labels_test.to(self.device)\n",
        "                inputs_test = inputs_test.float()  # 转float, torch.Size([256, 1, 32, 32, 32])\n",
        "                \n",
        "                pred_test = self.model(inputs_test)\n",
        "                loss_test = self.loss_fn(pred_test, labels_test)\n",
        "                valid_loss.append(loss_test.cpu().data)\n",
        "                valid_accuracy.update(torch.argmax(pred_test, 1).cpu(), labels_test.cpu())\n",
        "                pred_choice_test = pred_test.data.max(1)[1]\n",
        "\n",
        "                correct_test = pred_choice_test.eq(labels_test.data).cpu().sum()\n",
        "                self.pred_conf.append(torch.argmax(pred_test, 1))\n",
        "                self.y_conf.append(labels_test)\n",
        "\n",
        "          #compute confusion matrix\n",
        "          a = torch.cat(self.pred_conf).cpu()\n",
        "          b = torch.cat(self.y_conf).cpu()\n",
        "          confmat = ConfusionMatrix(task='multiclass', num_classes=10, normalize=\"true\")\n",
        "          self.conf_matrix = confmat(a, b)\n",
        "          self.conf_matrix = torch.round(self.conf_matrix, decimals=2)\n",
        "\n",
        "          # total accuracy over all batches\n",
        "          total_train_accuracy = train_accuracy.compute()\n",
        "          total_valid_accuracy = valid_accuracy.compute()\n",
        "          train_accuracy.reset()\n",
        "          valid_accuracy.reset()\n",
        "            \n",
        "          #track loss and acc for plotting\n",
        "          train_loss_history.append(torch.mean(torch.tensor(train_loss)))\n",
        "          valid_loss_history.append(torch.mean(torch.tensor(valid_loss)))\n",
        "          train_acc_history.append(total_train_accuracy)\n",
        "          valid_acc_history.append(total_valid_accuracy)\n",
        "            \n",
        "          elapsed_time_epoch = time.time() - t   \n",
        "            \n",
        "          tmp0 = \"epoch:{:3d} /{:3d}\".format(epoch+1, self.epochs)\n",
        "          tmp1 = \"time: {:.2f} seconds\".format(elapsed_time_epoch)\n",
        "          tmp2 = \"train-loss: {:4.2f}, train-acc: {:.2%}\".format(train_loss_history[epoch], train_acc_history[epoch].item())\n",
        "          tmp3 = \"valid-loss: {:4.2f}, valid-acc: {:.2%}\\n\".format(valid_loss_history[epoch], valid_acc_history[epoch].item())\n",
        "          print(tmp0, tmp1, tmp2, tmp3, sep=\"\\n\")\n",
        "          \n",
        "          #save history\n",
        "          self.history = {\"train_loss\": torch.tensor(train_loss_history), \"train_acc\": torch.tensor(train_acc_history), \n",
        "                          \"valid_loss\": torch.tensor(valid_loss_history), \"valid_acc\": torch.tensor(valid_acc_history)}\n",
        "           \n",
        "  def getHistory(self):\n",
        "      return self.history\n",
        "\n",
        "  def generateConfusionMatrix(self):\n",
        "      fig=plt.figure(figsize = (12,7))\n",
        "      sns.heatmap(self.conf_matrix, annot=True, fmt='g', linewidths=.4, cbar=False)\n",
        "      tick_marks = np.arange(len(self.class_names))\n",
        "      plt.xticks(tick_marks, self.class_names, rotation=45)\n",
        "      plt.yticks(tick_marks, self.class_names, rotation=0)\n",
        "      plt.title(\"Confusion Matrix\")     \n",
        "\n",
        "  def getPerClassAccuracy(self):\n",
        "      per_class_accuracy = 100 * torch.diag(self.conf_matrix) / torch.sum(self.conf_matrix, 1)\n",
        "      tmp = {}\n",
        "      for i, x in enumerate(self.class_names):\n",
        "        tmp[x] = per_class_accuracy[i].item()\n",
        "      print(tmp)\n",
        "    \n",
        "  def showResults(self):\n",
        "      eps = range(0, len(self.history[\"train_loss\"].cpu()))\n",
        "        \n",
        "      sns.set_theme()\n",
        "      fig, ax = plt.subplots(1, 2, figsize=(14, 4))\n",
        "      fig.suptitle('Results')\n",
        "        \n",
        "      ax[0].plot(eps, smooth(self.history[\"train_loss\"].cpu()), 'g', label='Training Loss')\n",
        "      ax[0].plot(eps, smooth(self.history[\"valid_loss\"].cpu()), 'b', label='Valid Loss')\n",
        "      ax[0].set_title('Loss History')\n",
        "      ax[0].set(xlabel='Epochs', ylabel='Loss')\n",
        "      ax[0].legend()\n",
        "        \n",
        "      ax[1].plot(eps, smooth(self.history[\"train_acc\"].cpu()), 'g', label='Training Accuracy')\n",
        "      ax[1].plot(eps, smooth(self.history[\"valid_acc\"].cpu()), 'b', label='Valid Accuracy')\n",
        "      ax[1].set_title('Loss History')\n",
        "      ax[1].set(xlabel='Epochs', ylabel='Accuracy')\n",
        "      ax[1].legend()\n",
        "\n",
        "  def draw_voxels(self):\n",
        "      mesh = next(iter(self.train_dataloader))\n",
        "      mesh = mesh[0][0][0]\n",
        "        \n",
        "      ax = plt.figure(figsize=(10,10)).add_subplot(projection='3d')\n",
        "      ax.voxels(mesh, edgecolor='k')\n",
        "      plt.show()\n",
        "        \n",
        "  def test_on_missing_data(self, missing_rate=0.5):\n",
        "      test_accuracy = Accuracy(task='multiclass', num_classes=10)\n",
        "        \n",
        "      self.model.eval()\n",
        "      for x, y in self.test_dataloader:\n",
        "          x, y = x.to(self.device), y.to(self.device)\n",
        "            \n",
        "          idc = np.random.choice(32**3, size=(int(32**3*missing_rate)), replace=False)\n",
        "          idc_x = idc%32\n",
        "          idc_y = np.floor_divide(idc, 32)%32\n",
        "          idc_z = np.floor_divide(idc, 32*32)%32\n",
        "          x[:, :, idc_x, idc_y, idc_z] = 0\n",
        "            \n",
        "          pred = self.model(x)\n",
        "          test_accuracy.update(torch.argmax(pred, 1).cpu(), y.cpu())\n",
        "            \n",
        "      return test_accuracy.compute()\n",
        "    \n",
        "  def missing_data_test(self):\n",
        "      acc = []\n",
        "      delta = 200\n",
        "      eps = np.linspace(0,0.99,delta)\n",
        "      for x in eps:\n",
        "          tmp = self.test_on_missing_data(x)\n",
        "          acc.append(tmp)\n",
        "            \n",
        "            \n",
        "      sns.set_theme()\n",
        "      plt.figure(figsize=(8, 4))\n",
        "      plt.plot(eps, smooth(acc))\n",
        "      plt.title(\"Missing Data Test\", size=20, y=1.05)\n",
        "      plt.xlabel(\"missing point ratio\", size=15)\n",
        "      plt.ylabel(\"accuracy\", size=15)\n",
        "      plt.show()"
      ],
      "metadata": {
        "id": "hX_KJavxavhZ"
      },
      "execution_count": 8,
      "outputs": []
    },
    {
      "cell_type": "markdown",
      "source": [
        "# VoxNet"
      ],
      "metadata": {
        "id": "eu7HegQogDfn"
      }
    },
    {
      "cell_type": "code",
      "source": [
        "from collections import OrderedDict\n",
        "class VoxNet(nn.Module):\n",
        "    def __init__(self):\n",
        "        super(VoxNet, self).__init__()\n",
        "        n_classes = 10\n",
        "        input_shape = (32,32,32)\n",
        "        self.feat = torch.nn.Sequential(OrderedDict([\n",
        "            ('conv3d_1', torch.nn.Conv3d(in_channels=1, out_channels=32, kernel_size=5, stride=2)),\n",
        "            ('relu1', torch.nn.ReLU()),\n",
        "            ('drop1', torch.nn.Dropout(p=0.2)),\n",
        "            ('conv3d_2', torch.nn.Conv3d(in_channels=32, out_channels=32, kernel_size=3)),\n",
        "            ('relu2', torch.nn.ReLU()),\n",
        "            ('pool2', torch.nn.MaxPool3d(2)),\n",
        "            ('drop2', torch.nn.Dropout(p=0.3))\n",
        "        ]))\n",
        "        \n",
        "        x = self.feat(torch.autograd.Variable(torch.rand((1, 1) + input_shape)))\n",
        "        dim_feat = 1\n",
        "        for n in x.size()[1:]:\n",
        "            dim_feat *= n\n",
        "\n",
        "        self.mlp = torch.nn.Sequential(OrderedDict([\n",
        "            ('fc1', torch.nn.Linear(dim_feat, 128)),\n",
        "            ('relu1', torch.nn.ReLU()),\n",
        "            ('drop3', torch.nn.Dropout(p=0.4)),\n",
        "            ('fc2', torch.nn.Linear(128, n_classes))\n",
        "        ]))\n",
        "\n",
        "        self.logsoftmax = nn.LogSoftmax(dim=1)\n",
        "\n",
        "    def forward(self, x):\n",
        "        x = self.feat(x)\n",
        "        x = x.view(x.size(0), -1)\n",
        "        x = self.mlp(x)\n",
        "        #return x\n",
        "        return self.logsoftmax(x)"
      ],
      "metadata": {
        "id": "BxJn-rxg5thp"
      },
      "execution_count": null,
      "outputs": []
    },
    {
      "cell_type": "markdown",
      "source": [
        "**VoxNet** training"
      ],
      "metadata": {
        "id": "auLDuguFtGq_"
      }
    },
    {
      "cell_type": "code",
      "source": [
        "training_hyperparameters = {\n",
        "    \"learning_rate\": 0.1,\n",
        "    \"sgd_momentum\": 0,\n",
        "    \"data_size\": 32,\n",
        "    \"epochs\": 100,\n",
        "    \"lr_scheduler_step\": 16,\n",
        "    \"lr_scheduler_gamma\": 0.7,\n",
        "    \"train_batch_size\": 32,\n",
        "    \"valid_batch_size\": 32,\n",
        "    \"model\" : 'VoxNet'\n",
        "}    \n",
        "\n",
        "trainer1 = VoxNet_Trainer(training_hyperparameters)\n",
        "trainer1.train()"
      ],
      "metadata": {
        "id": "HBhOIt8Emq1B",
        "outputId": "fa1af8b7-7982-47a1-db0f-4f44744d6ad6",
        "colab": {
          "base_uri": "https://localhost:8080/"
        }
      },
      "execution_count": null,
      "outputs": [
        {
          "output_type": "stream",
          "name": "stdout",
          "text": [
            "model VoxNet was chosen\n",
            "124.71875\n"
          ]
        },
        {
          "output_type": "stream",
          "name": "stderr",
          "text": [
            "Train loss: 1.1990453004837036: : 124it [01:14,  1.67it/s]\n",
            "29it [00:10,  2.82it/s]\n"
          ]
        },
        {
          "output_type": "stream",
          "name": "stdout",
          "text": [
            "epoch:  1 /100\n",
            "time: 84.72 seconds\n",
            "train-loss: 1.67, train-acc: 42.99%\n",
            "valid-loss: 1.51, valid-acc: 47.14%\n",
            "\n"
          ]
        },
        {
          "output_type": "stream",
          "name": "stderr",
          "text": [
            "Train loss: 1.1013157367706299: : 124it [01:23,  1.48it/s]\n",
            "29it [00:10,  2.89it/s]\n"
          ]
        },
        {
          "output_type": "stream",
          "name": "stdout",
          "text": [
            "epoch:  2 /100\n",
            "time: 93.59 seconds\n",
            "train-loss: 1.23, train-acc: 57.71%\n",
            "valid-loss: 1.43, valid-acc: 42.07%\n",
            "\n"
          ]
        },
        {
          "output_type": "stream",
          "name": "stderr",
          "text": [
            "Train loss: 0.7461034655570984: : 124it [01:15,  1.63it/s]\n",
            "29it [00:09,  2.95it/s]\n"
          ]
        },
        {
          "output_type": "stream",
          "name": "stdout",
          "text": [
            "epoch:  3 /100\n",
            "time: 85.85 seconds\n",
            "train-loss: 1.04, train-acc: 64.09%\n",
            "valid-loss: 1.04, valid-acc: 61.56%\n",
            "\n"
          ]
        },
        {
          "output_type": "stream",
          "name": "stderr",
          "text": [
            "Train loss: 0.5703095197677612: : 124it [01:12,  1.71it/s]\n",
            "29it [00:09,  2.98it/s]\n"
          ]
        },
        {
          "output_type": "stream",
          "name": "stdout",
          "text": [
            "epoch:  4 /100\n",
            "time: 82.37 seconds\n",
            "train-loss: 0.87, train-acc: 69.83%\n",
            "valid-loss: 0.94, valid-acc: 65.42%\n",
            "\n"
          ]
        },
        {
          "output_type": "stream",
          "name": "stderr",
          "text": [
            "Train loss: 1.038921594619751: : 124it [01:12,  1.71it/s]\n",
            "29it [00:09,  3.00it/s]\n"
          ]
        },
        {
          "output_type": "stream",
          "name": "stdout",
          "text": [
            "epoch:  5 /100\n",
            "time: 82.12 seconds\n",
            "train-loss: 0.80, train-acc: 72.13%\n",
            "valid-loss: 0.91, valid-acc: 66.52%\n",
            "\n"
          ]
        },
        {
          "output_type": "stream",
          "name": "stderr",
          "text": [
            "Train loss: 1.2823694944381714: : 124it [01:12,  1.71it/s]\n",
            "29it [00:09,  2.95it/s]\n"
          ]
        },
        {
          "output_type": "stream",
          "name": "stdout",
          "text": [
            "epoch:  6 /100\n",
            "time: 82.40 seconds\n",
            "train-loss: 0.74, train-acc: 74.80%\n",
            "valid-loss: 0.79, valid-acc: 71.70%\n",
            "\n"
          ]
        },
        {
          "output_type": "stream",
          "name": "stderr",
          "text": [
            "Train loss: 0.7770859599113464: : 124it [01:12,  1.71it/s]\n",
            "29it [00:09,  2.97it/s]\n"
          ]
        },
        {
          "output_type": "stream",
          "name": "stdout",
          "text": [
            "epoch:  7 /100\n",
            "time: 82.44 seconds\n",
            "train-loss: 0.68, train-acc: 76.89%\n",
            "valid-loss: 0.71, valid-acc: 75.44%\n",
            "\n"
          ]
        },
        {
          "output_type": "stream",
          "name": "stderr",
          "text": [
            "Train loss: 0.8847332000732422: : 124it [01:12,  1.71it/s]\n",
            "29it [00:10,  2.89it/s]\n"
          ]
        },
        {
          "output_type": "stream",
          "name": "stdout",
          "text": [
            "epoch:  8 /100\n",
            "time: 82.51 seconds\n",
            "train-loss: 0.64, train-acc: 78.63%\n",
            "valid-loss: 0.73, valid-acc: 72.58%\n",
            "\n"
          ]
        },
        {
          "output_type": "stream",
          "name": "stderr",
          "text": [
            "Train loss: 0.2803792655467987: : 124it [01:14,  1.66it/s]\n",
            "29it [00:09,  2.98it/s]\n"
          ]
        },
        {
          "output_type": "stream",
          "name": "stdout",
          "text": [
            "epoch:  9 /100\n",
            "time: 84.63 seconds\n",
            "train-loss: 0.62, train-acc: 79.33%\n",
            "valid-loss: 0.69, valid-acc: 75.77%\n",
            "\n"
          ]
        },
        {
          "output_type": "stream",
          "name": "stderr",
          "text": [
            "Train loss: 0.46596547961235046: : 124it [01:15,  1.65it/s]\n",
            "29it [00:09,  2.96it/s]\n"
          ]
        },
        {
          "output_type": "stream",
          "name": "stdout",
          "text": [
            "epoch: 10 /100\n",
            "time: 84.99 seconds\n",
            "train-loss: 0.55, train-acc: 81.93%\n",
            "valid-loss: 0.70, valid-acc: 75.11%\n",
            "\n"
          ]
        },
        {
          "output_type": "stream",
          "name": "stderr",
          "text": [
            "Train loss: 0.41032886505126953: : 124it [01:12,  1.71it/s]\n",
            "29it [00:09,  2.97it/s]\n"
          ]
        },
        {
          "output_type": "stream",
          "name": "stdout",
          "text": [
            "epoch: 11 /100\n",
            "time: 82.43 seconds\n",
            "train-loss: 0.55, train-acc: 81.20%\n",
            "valid-loss: 0.65, valid-acc: 77.64%\n",
            "\n"
          ]
        },
        {
          "output_type": "stream",
          "name": "stderr",
          "text": [
            "Train loss: 0.12278357148170471: : 124it [01:12,  1.71it/s]\n",
            "29it [00:09,  2.93it/s]\n"
          ]
        },
        {
          "output_type": "stream",
          "name": "stdout",
          "text": [
            "epoch: 12 /100\n",
            "time: 82.60 seconds\n",
            "train-loss: 0.53, train-acc: 82.94%\n",
            "valid-loss: 0.64, valid-acc: 77.75%\n",
            "\n"
          ]
        },
        {
          "output_type": "stream",
          "name": "stderr",
          "text": [
            "Train loss: 0.3549526035785675: : 124it [01:12,  1.71it/s]\n",
            "29it [00:09,  2.98it/s]\n"
          ]
        },
        {
          "output_type": "stream",
          "name": "stdout",
          "text": [
            "epoch: 13 /100\n",
            "time: 82.40 seconds\n",
            "train-loss: 0.51, train-acc: 83.39%\n",
            "valid-loss: 0.58, valid-acc: 80.84%\n",
            "\n"
          ]
        },
        {
          "output_type": "stream",
          "name": "stderr",
          "text": [
            "Train loss: 0.37601229548454285: : 124it [01:12,  1.71it/s]\n",
            "29it [00:09,  2.98it/s]\n"
          ]
        },
        {
          "output_type": "stream",
          "name": "stdout",
          "text": [
            "epoch: 14 /100\n",
            "time: 82.31 seconds\n",
            "train-loss: 0.48, train-acc: 84.58%\n",
            "valid-loss: 0.61, valid-acc: 79.41%\n",
            "\n"
          ]
        },
        {
          "output_type": "stream",
          "name": "stderr",
          "text": [
            "Train loss: 0.5041983127593994: : 124it [01:13,  1.69it/s]\n",
            "29it [00:09,  2.91it/s]\n"
          ]
        },
        {
          "output_type": "stream",
          "name": "stdout",
          "text": [
            "epoch: 15 /100\n",
            "time: 83.21 seconds\n",
            "train-loss: 0.47, train-acc: 83.77%\n",
            "valid-loss: 0.60, valid-acc: 79.30%\n",
            "\n"
          ]
        },
        {
          "output_type": "stream",
          "name": "stderr",
          "text": [
            "Train loss: 0.25554415583610535: : 124it [01:13,  1.70it/s]\n",
            "29it [00:09,  2.93it/s]\n"
          ]
        },
        {
          "output_type": "stream",
          "name": "stdout",
          "text": [
            "epoch: 16 /100\n",
            "time: 83.03 seconds\n",
            "train-loss: 0.44, train-acc: 85.51%\n",
            "valid-loss: 0.59, valid-acc: 79.52%\n",
            "\n"
          ]
        },
        {
          "output_type": "stream",
          "name": "stderr",
          "text": [
            "Train loss: 0.47149351239204407: : 124it [01:12,  1.70it/s]\n",
            "29it [00:09,  2.91it/s]\n"
          ]
        },
        {
          "output_type": "stream",
          "name": "stdout",
          "text": [
            "epoch: 17 /100\n",
            "time: 82.89 seconds\n",
            "train-loss: 0.41, train-acc: 86.32%\n",
            "valid-loss: 0.62, valid-acc: 79.19%\n",
            "\n"
          ]
        },
        {
          "output_type": "stream",
          "name": "stderr",
          "text": [
            "Train loss: 0.4912046194076538: : 124it [01:12,  1.70it/s]\n",
            "29it [00:09,  2.97it/s]\n"
          ]
        },
        {
          "output_type": "stream",
          "name": "stdout",
          "text": [
            "epoch: 18 /100\n",
            "time: 82.69 seconds\n",
            "train-loss: 0.40, train-acc: 86.42%\n",
            "valid-loss: 0.58, valid-acc: 81.50%\n",
            "\n"
          ]
        },
        {
          "output_type": "stream",
          "name": "stderr",
          "text": [
            "Train loss: 0.36090603470802307: : 124it [01:12,  1.71it/s]\n",
            "29it [00:09,  2.96it/s]\n"
          ]
        },
        {
          "output_type": "stream",
          "name": "stdout",
          "text": [
            "epoch: 19 /100\n",
            "time: 82.32 seconds\n",
            "train-loss: 0.40, train-acc: 86.06%\n",
            "valid-loss: 0.51, valid-acc: 82.82%\n",
            "\n"
          ]
        },
        {
          "output_type": "stream",
          "name": "stderr",
          "text": [
            "Train loss: 0.335597962141037: : 124it [01:13,  1.69it/s]\n",
            "29it [00:09,  2.98it/s]\n"
          ]
        },
        {
          "output_type": "stream",
          "name": "stdout",
          "text": [
            "epoch: 20 /100\n",
            "time: 82.95 seconds\n",
            "train-loss: 0.38, train-acc: 87.02%\n",
            "valid-loss: 0.53, valid-acc: 83.26%\n",
            "\n"
          ]
        },
        {
          "output_type": "stream",
          "name": "stderr",
          "text": [
            "Train loss: 0.4184274971485138: : 124it [01:13,  1.69it/s]\n",
            "29it [00:10,  2.79it/s]\n"
          ]
        },
        {
          "output_type": "stream",
          "name": "stdout",
          "text": [
            "epoch: 21 /100\n",
            "time: 83.70 seconds\n",
            "train-loss: 0.37, train-acc: 87.73%\n",
            "valid-loss: 0.51, valid-acc: 82.60%\n",
            "\n"
          ]
        },
        {
          "output_type": "stream",
          "name": "stderr",
          "text": [
            "Train loss: 0.32895782589912415: : 124it [01:16,  1.63it/s]\n",
            "29it [00:10,  2.82it/s]\n"
          ]
        },
        {
          "output_type": "stream",
          "name": "stdout",
          "text": [
            "epoch: 22 /100\n",
            "time: 86.54 seconds\n",
            "train-loss: 0.36, train-acc: 87.53%\n",
            "valid-loss: 0.55, valid-acc: 83.15%\n",
            "\n"
          ]
        },
        {
          "output_type": "stream",
          "name": "stderr",
          "text": [
            "Train loss: 0.31907200813293457: : 124it [01:15,  1.65it/s]\n",
            "29it [00:09,  2.93it/s]\n"
          ]
        },
        {
          "output_type": "stream",
          "name": "stdout",
          "text": [
            "epoch: 23 /100\n",
            "time: 85.21 seconds\n",
            "train-loss: 0.36, train-acc: 87.55%\n",
            "valid-loss: 0.53, valid-acc: 81.50%\n",
            "\n"
          ]
        },
        {
          "output_type": "stream",
          "name": "stderr",
          "text": [
            "Train loss: 0.1661798357963562: : 124it [01:15,  1.65it/s]\n",
            "29it [00:10,  2.89it/s]\n"
          ]
        },
        {
          "output_type": "stream",
          "name": "stdout",
          "text": [
            "epoch: 24 /100\n",
            "time: 85.34 seconds\n",
            "train-loss: 0.35, train-acc: 88.18%\n",
            "valid-loss: 0.53, valid-acc: 80.84%\n",
            "\n"
          ]
        },
        {
          "output_type": "stream",
          "name": "stderr",
          "text": [
            "Train loss: 0.3199041485786438: : 124it [01:15,  1.64it/s]\n",
            "29it [00:10,  2.87it/s]\n"
          ]
        },
        {
          "output_type": "stream",
          "name": "stdout",
          "text": [
            "epoch: 25 /100\n",
            "time: 85.68 seconds\n",
            "train-loss: 0.34, train-acc: 88.31%\n",
            "valid-loss: 0.49, valid-acc: 83.48%\n",
            "\n"
          ]
        },
        {
          "output_type": "stream",
          "name": "stderr",
          "text": [
            "Train loss: 0.47978758811950684: : 124it [01:16,  1.63it/s]\n",
            "29it [00:10,  2.86it/s]\n"
          ]
        },
        {
          "output_type": "stream",
          "name": "stdout",
          "text": [
            "epoch: 26 /100\n",
            "time: 86.20 seconds\n",
            "train-loss: 0.35, train-acc: 88.36%\n",
            "valid-loss: 0.52, valid-acc: 83.26%\n",
            "\n"
          ]
        },
        {
          "output_type": "stream",
          "name": "stderr",
          "text": [
            "Train loss: 0.3913932740688324: : 124it [01:15,  1.63it/s]\n",
            "29it [00:10,  2.84it/s]\n"
          ]
        },
        {
          "output_type": "stream",
          "name": "stdout",
          "text": [
            "epoch: 27 /100\n",
            "time: 86.24 seconds\n",
            "train-loss: 0.34, train-acc: 88.61%\n",
            "valid-loss: 0.50, valid-acc: 83.26%\n",
            "\n"
          ]
        },
        {
          "output_type": "stream",
          "name": "stderr",
          "text": [
            "Train loss: 0.36319029331207275: : 124it [01:15,  1.64it/s]\n",
            "29it [00:10,  2.90it/s]\n"
          ]
        },
        {
          "output_type": "stream",
          "name": "stdout",
          "text": [
            "epoch: 28 /100\n",
            "time: 85.64 seconds\n",
            "train-loss: 0.32, train-acc: 88.91%\n",
            "valid-loss: 0.53, valid-acc: 80.95%\n",
            "\n"
          ]
        },
        {
          "output_type": "stream",
          "name": "stderr",
          "text": [
            "Train loss: 0.21840794384479523: : 124it [01:15,  1.64it/s]\n",
            "29it [00:10,  2.88it/s]\n"
          ]
        },
        {
          "output_type": "stream",
          "name": "stdout",
          "text": [
            "epoch: 29 /100\n",
            "time: 85.60 seconds\n",
            "train-loss: 0.33, train-acc: 88.61%\n",
            "valid-loss: 0.48, valid-acc: 84.03%\n",
            "\n"
          ]
        },
        {
          "output_type": "stream",
          "name": "stderr",
          "text": [
            "Train loss: 0.4830162823200226: : 124it [01:15,  1.64it/s]\n",
            "29it [00:10,  2.83it/s]\n"
          ]
        },
        {
          "output_type": "stream",
          "name": "stdout",
          "text": [
            "epoch: 30 /100\n",
            "time: 85.93 seconds\n",
            "train-loss: 0.33, train-acc: 89.04%\n",
            "valid-loss: 0.47, valid-acc: 84.47%\n",
            "\n"
          ]
        },
        {
          "output_type": "stream",
          "name": "stderr",
          "text": [
            "Train loss: 0.16594675183296204: : 124it [01:15,  1.64it/s]\n",
            "29it [00:10,  2.75it/s]\n"
          ]
        },
        {
          "output_type": "stream",
          "name": "stdout",
          "text": [
            "epoch: 31 /100\n",
            "time: 86.22 seconds\n",
            "train-loss: 0.31, train-acc: 89.72%\n",
            "valid-loss: 0.51, valid-acc: 84.91%\n",
            "\n"
          ]
        },
        {
          "output_type": "stream",
          "name": "stderr",
          "text": [
            "Train loss: 0.3213610053062439: : 124it [01:19,  1.57it/s]\n",
            "29it [00:10,  2.85it/s]\n"
          ]
        },
        {
          "output_type": "stream",
          "name": "stdout",
          "text": [
            "epoch: 32 /100\n",
            "time: 89.35 seconds\n",
            "train-loss: 0.30, train-acc: 89.92%\n",
            "valid-loss: 0.48, valid-acc: 84.58%\n",
            "\n"
          ]
        },
        {
          "output_type": "stream",
          "name": "stderr",
          "text": [
            "Train loss: 0.5073481798171997: : 124it [01:14,  1.67it/s]\n",
            "29it [00:10,  2.88it/s]\n"
          ]
        },
        {
          "output_type": "stream",
          "name": "stdout",
          "text": [
            "epoch: 33 /100\n",
            "time: 84.30 seconds\n",
            "train-loss: 0.29, train-acc: 89.67%\n",
            "valid-loss: 0.51, valid-acc: 84.03%\n",
            "\n"
          ]
        },
        {
          "output_type": "stream",
          "name": "stderr",
          "text": [
            "Train loss: 0.07737956941127777: : 124it [01:14,  1.67it/s]\n",
            "29it [00:10,  2.88it/s]\n"
          ]
        },
        {
          "output_type": "stream",
          "name": "stdout",
          "text": [
            "epoch: 34 /100\n",
            "time: 84.33 seconds\n",
            "train-loss: 0.28, train-acc: 90.37%\n",
            "valid-loss: 0.54, valid-acc: 83.04%\n",
            "\n"
          ]
        },
        {
          "output_type": "stream",
          "name": "stderr",
          "text": [
            "Train loss: 0.09409569203853607: : 124it [01:15,  1.64it/s]\n",
            "29it [00:10,  2.87it/s]\n"
          ]
        },
        {
          "output_type": "stream",
          "name": "stdout",
          "text": [
            "epoch: 35 /100\n",
            "time: 85.55 seconds\n",
            "train-loss: 0.27, train-acc: 90.57%\n",
            "valid-loss: 0.49, valid-acc: 84.69%\n",
            "\n"
          ]
        },
        {
          "output_type": "stream",
          "name": "stderr",
          "text": [
            "Train loss: 0.1544768065214157: : 124it [01:14,  1.66it/s]\n",
            "29it [00:09,  2.94it/s]\n"
          ]
        },
        {
          "output_type": "stream",
          "name": "stdout",
          "text": [
            "epoch: 36 /100\n",
            "time: 84.52 seconds\n",
            "train-loss: 0.29, train-acc: 91.05%\n",
            "valid-loss: 0.47, valid-acc: 84.91%\n",
            "\n"
          ]
        },
        {
          "output_type": "stream",
          "name": "stderr",
          "text": [
            "Train loss: 0.06281837821006775: : 124it [01:13,  1.69it/s]\n",
            "29it [00:09,  2.91it/s]\n"
          ]
        },
        {
          "output_type": "stream",
          "name": "stdout",
          "text": [
            "epoch: 37 /100\n",
            "time: 83.47 seconds\n",
            "train-loss: 0.26, train-acc: 91.23%\n",
            "valid-loss: 0.47, valid-acc: 84.25%\n",
            "\n"
          ]
        },
        {
          "output_type": "stream",
          "name": "stderr",
          "text": [
            "Train loss: 0.44814518094062805: : 124it [01:13,  1.68it/s]\n",
            "29it [00:10,  2.90it/s]\n"
          ]
        },
        {
          "output_type": "stream",
          "name": "stdout",
          "text": [
            "epoch: 38 /100\n",
            "time: 83.81 seconds\n",
            "train-loss: 0.27, train-acc: 90.60%\n",
            "valid-loss: 0.50, valid-acc: 84.47%\n",
            "\n"
          ]
        },
        {
          "output_type": "stream",
          "name": "stderr",
          "text": [
            "Train loss: 0.3602585792541504: : 124it [01:13,  1.68it/s]\n",
            "29it [00:10,  2.86it/s]\n"
          ]
        },
        {
          "output_type": "stream",
          "name": "stdout",
          "text": [
            "epoch: 39 /100\n",
            "time: 83.91 seconds\n",
            "train-loss: 0.27, train-acc: 90.93%\n",
            "valid-loss: 0.47, valid-acc: 85.46%\n",
            "\n"
          ]
        },
        {
          "output_type": "stream",
          "name": "stderr",
          "text": [
            "Train loss: 0.3601771891117096: : 124it [01:15,  1.63it/s]\n",
            "29it [00:10,  2.87it/s]\n"
          ]
        },
        {
          "output_type": "stream",
          "name": "stdout",
          "text": [
            "epoch: 40 /100\n",
            "time: 85.99 seconds\n",
            "train-loss: 0.28, train-acc: 90.27%\n",
            "valid-loss: 0.47, valid-acc: 83.81%\n",
            "\n"
          ]
        },
        {
          "output_type": "stream",
          "name": "stderr",
          "text": [
            "Train loss: 0.2917388081550598: : 124it [01:15,  1.64it/s]\n",
            "29it [00:10,  2.88it/s]\n"
          ]
        },
        {
          "output_type": "stream",
          "name": "stdout",
          "text": [
            "epoch: 41 /100\n",
            "time: 85.67 seconds\n",
            "train-loss: 0.25, train-acc: 91.63%\n",
            "valid-loss: 0.48, valid-acc: 85.79%\n",
            "\n"
          ]
        },
        {
          "output_type": "stream",
          "name": "stderr",
          "text": [
            "Train loss: 0.15421828627586365: : 124it [01:14,  1.66it/s]\n",
            "29it [00:10,  2.87it/s]\n"
          ]
        },
        {
          "output_type": "stream",
          "name": "stdout",
          "text": [
            "epoch: 42 /100\n",
            "time: 84.90 seconds\n",
            "train-loss: 0.26, train-acc: 91.10%\n",
            "valid-loss: 0.49, valid-acc: 84.47%\n",
            "\n"
          ]
        },
        {
          "output_type": "stream",
          "name": "stderr",
          "text": [
            "Train loss: 0.38625308871269226: : 124it [01:14,  1.67it/s]\n",
            "29it [00:09,  2.93it/s]\n"
          ]
        },
        {
          "output_type": "stream",
          "name": "stdout",
          "text": [
            "epoch: 43 /100\n",
            "time: 84.32 seconds\n",
            "train-loss: 0.25, train-acc: 91.26%\n",
            "valid-loss: 0.48, valid-acc: 83.70%\n",
            "\n"
          ]
        },
        {
          "output_type": "stream",
          "name": "stderr",
          "text": [
            "Train loss: 0.12376227229833603: : 124it [01:13,  1.69it/s]\n",
            "29it [00:09,  2.92it/s]\n"
          ]
        },
        {
          "output_type": "stream",
          "name": "stdout",
          "text": [
            "epoch: 44 /100\n",
            "time: 83.40 seconds\n",
            "train-loss: 0.27, train-acc: 90.93%\n",
            "valid-loss: 0.48, valid-acc: 84.25%\n",
            "\n"
          ]
        },
        {
          "output_type": "stream",
          "name": "stderr",
          "text": [
            "Train loss: 0.2441604882478714: : 124it [01:14,  1.67it/s]\n",
            "29it [00:09,  2.90it/s]\n"
          ]
        },
        {
          "output_type": "stream",
          "name": "stdout",
          "text": [
            "epoch: 45 /100\n",
            "time: 84.50 seconds\n",
            "train-loss: 0.26, train-acc: 91.43%\n",
            "valid-loss: 0.48, valid-acc: 84.58%\n",
            "\n"
          ]
        },
        {
          "output_type": "stream",
          "name": "stderr",
          "text": [
            "Train loss: 0.17083057761192322: : 124it [01:12,  1.70it/s]\n",
            "29it [00:09,  2.92it/s]\n"
          ]
        },
        {
          "output_type": "stream",
          "name": "stdout",
          "text": [
            "epoch: 46 /100\n",
            "time: 82.81 seconds\n",
            "train-loss: 0.25, train-acc: 91.46%\n",
            "valid-loss: 0.50, valid-acc: 83.37%\n",
            "\n"
          ]
        },
        {
          "output_type": "stream",
          "name": "stderr",
          "text": [
            "Train loss: 0.19174253940582275: : 124it [01:12,  1.70it/s]\n",
            "29it [00:09,  2.98it/s]\n"
          ]
        },
        {
          "output_type": "stream",
          "name": "stdout",
          "text": [
            "epoch: 47 /100\n",
            "time: 82.70 seconds\n",
            "train-loss: 0.25, train-acc: 91.08%\n",
            "valid-loss: 0.52, valid-acc: 84.58%\n",
            "\n"
          ]
        },
        {
          "output_type": "stream",
          "name": "stderr",
          "text": [
            "Train loss: 0.5156079530715942: : 124it [01:12,  1.70it/s]\n",
            "29it [00:09,  2.95it/s]\n"
          ]
        },
        {
          "output_type": "stream",
          "name": "stdout",
          "text": [
            "epoch: 48 /100\n",
            "time: 82.77 seconds\n",
            "train-loss: 0.23, train-acc: 91.78%\n",
            "valid-loss: 0.44, valid-acc: 85.90%\n",
            "\n"
          ]
        },
        {
          "output_type": "stream",
          "name": "stderr",
          "text": [
            "Train loss: 0.09853467345237732: : 124it [01:12,  1.70it/s]\n",
            "29it [00:09,  2.95it/s]\n"
          ]
        },
        {
          "output_type": "stream",
          "name": "stdout",
          "text": [
            "epoch: 49 /100\n",
            "time: 82.84 seconds\n",
            "train-loss: 0.23, train-acc: 91.89%\n",
            "valid-loss: 0.48, valid-acc: 85.02%\n",
            "\n"
          ]
        },
        {
          "output_type": "stream",
          "name": "stderr",
          "text": [
            "Train loss: 0.19883428514003754: : 124it [01:13,  1.70it/s]\n",
            "29it [00:09,  2.93it/s]\n"
          ]
        },
        {
          "output_type": "stream",
          "name": "stdout",
          "text": [
            "epoch: 50 /100\n",
            "time: 83.06 seconds\n",
            "train-loss: 0.23, train-acc: 91.89%\n",
            "valid-loss: 0.47, valid-acc: 85.68%\n",
            "\n"
          ]
        },
        {
          "output_type": "stream",
          "name": "stderr",
          "text": [
            "Train loss: 0.1542847603559494: : 124it [01:12,  1.70it/s]\n",
            "29it [00:09,  2.96it/s]\n"
          ]
        },
        {
          "output_type": "stream",
          "name": "stdout",
          "text": [
            "epoch: 51 /100\n",
            "time: 82.82 seconds\n",
            "train-loss: 0.22, train-acc: 92.34%\n",
            "valid-loss: 0.48, valid-acc: 85.46%\n",
            "\n"
          ]
        },
        {
          "output_type": "stream",
          "name": "stderr",
          "text": [
            "Train loss: 0.10588791221380234: : 124it [01:13,  1.69it/s]\n",
            "29it [00:09,  2.91it/s]\n"
          ]
        },
        {
          "output_type": "stream",
          "name": "stdout",
          "text": [
            "epoch: 52 /100\n",
            "time: 83.45 seconds\n",
            "train-loss: 0.22, train-acc: 92.69%\n",
            "valid-loss: 0.50, valid-acc: 85.24%\n",
            "\n"
          ]
        },
        {
          "output_type": "stream",
          "name": "stderr",
          "text": [
            "Train loss: 0.38028883934020996: : 124it [01:13,  1.69it/s]\n",
            "29it [00:09,  2.95it/s]\n"
          ]
        },
        {
          "output_type": "stream",
          "name": "stdout",
          "text": [
            "epoch: 53 /100\n",
            "time: 83.23 seconds\n",
            "train-loss: 0.22, train-acc: 92.44%\n",
            "valid-loss: 0.47, valid-acc: 84.03%\n",
            "\n"
          ]
        },
        {
          "output_type": "stream",
          "name": "stderr",
          "text": [
            "Train loss: 0.3121287226676941: : 124it [01:13,  1.70it/s]\n",
            "29it [00:09,  2.92it/s]\n"
          ]
        },
        {
          "output_type": "stream",
          "name": "stdout",
          "text": [
            "epoch: 54 /100\n",
            "time: 83.08 seconds\n",
            "train-loss: 0.23, train-acc: 91.99%\n",
            "valid-loss: 0.50, valid-acc: 85.13%\n",
            "\n"
          ]
        },
        {
          "output_type": "stream",
          "name": "stderr",
          "text": [
            "Train loss: 0.16492360830307007: : 124it [01:13,  1.69it/s]\n",
            "29it [00:09,  2.93it/s]\n"
          ]
        },
        {
          "output_type": "stream",
          "name": "stdout",
          "text": [
            "epoch: 55 /100\n",
            "time: 83.34 seconds\n",
            "train-loss: 0.20, train-acc: 93.27%\n",
            "valid-loss: 0.48, valid-acc: 84.58%\n",
            "\n"
          ]
        },
        {
          "output_type": "stream",
          "name": "stderr",
          "text": [
            "Train loss: 0.1606438159942627: : 124it [01:13,  1.69it/s]\n",
            "29it [00:09,  2.94it/s]\n"
          ]
        },
        {
          "output_type": "stream",
          "name": "stdout",
          "text": [
            "epoch: 56 /100\n",
            "time: 83.16 seconds\n",
            "train-loss: 0.21, train-acc: 92.59%\n",
            "valid-loss: 0.46, valid-acc: 86.12%\n",
            "\n"
          ]
        },
        {
          "output_type": "stream",
          "name": "stderr",
          "text": [
            "Train loss: 0.1260078102350235: : 124it [01:12,  1.70it/s]\n",
            "29it [00:09,  2.93it/s]\n"
          ]
        },
        {
          "output_type": "stream",
          "name": "stdout",
          "text": [
            "epoch: 57 /100\n",
            "time: 82.84 seconds\n",
            "train-loss: 0.20, train-acc: 93.07%\n",
            "valid-loss: 0.51, valid-acc: 85.35%\n",
            "\n"
          ]
        },
        {
          "output_type": "stream",
          "name": "stderr",
          "text": [
            "Train loss: 0.2074248045682907: : 124it [01:13,  1.70it/s]\n",
            "29it [00:09,  2.95it/s]\n"
          ]
        },
        {
          "output_type": "stream",
          "name": "stdout",
          "text": [
            "epoch: 58 /100\n",
            "time: 82.88 seconds\n",
            "train-loss: 0.21, train-acc: 92.79%\n",
            "valid-loss: 0.47, valid-acc: 84.69%\n",
            "\n"
          ]
        },
        {
          "output_type": "stream",
          "name": "stderr",
          "text": [
            "Train loss: 0.3253622353076935: : 124it [01:12,  1.70it/s]\n",
            "29it [00:09,  2.96it/s]\n"
          ]
        },
        {
          "output_type": "stream",
          "name": "stdout",
          "text": [
            "epoch: 59 /100\n",
            "time: 82.80 seconds\n",
            "train-loss: 0.21, train-acc: 92.44%\n",
            "valid-loss: 0.50, valid-acc: 85.24%\n",
            "\n"
          ]
        },
        {
          "output_type": "stream",
          "name": "stderr",
          "text": [
            "Train loss: 0.12852194905281067: : 124it [01:12,  1.70it/s]\n",
            "29it [00:09,  2.96it/s]\n"
          ]
        },
        {
          "output_type": "stream",
          "name": "stdout",
          "text": [
            "epoch: 60 /100\n",
            "time: 82.64 seconds\n",
            "train-loss: 0.20, train-acc: 92.94%\n",
            "valid-loss: 0.45, valid-acc: 85.35%\n",
            "\n"
          ]
        },
        {
          "output_type": "stream",
          "name": "stderr",
          "text": [
            "Train loss: 0.0924220085144043: : 124it [01:12,  1.71it/s]\n",
            "29it [00:09,  2.94it/s]\n"
          ]
        },
        {
          "output_type": "stream",
          "name": "stdout",
          "text": [
            "epoch: 61 /100\n",
            "time: 82.62 seconds\n",
            "train-loss: 0.21, train-acc: 92.94%\n",
            "valid-loss: 0.49, valid-acc: 84.25%\n",
            "\n"
          ]
        },
        {
          "output_type": "stream",
          "name": "stderr",
          "text": [
            "Train loss: 0.09660177677869797: : 124it [01:12,  1.70it/s]\n",
            "29it [00:09,  2.92it/s]\n"
          ]
        },
        {
          "output_type": "stream",
          "name": "stdout",
          "text": [
            "epoch: 62 /100\n",
            "time: 82.93 seconds\n",
            "train-loss: 0.20, train-acc: 92.99%\n",
            "valid-loss: 0.51, valid-acc: 84.14%\n",
            "\n"
          ]
        },
        {
          "output_type": "stream",
          "name": "stderr",
          "text": [
            "Train loss: 0.27241653203964233: : 124it [01:13,  1.70it/s]\n",
            "29it [00:09,  2.94it/s]\n"
          ]
        },
        {
          "output_type": "stream",
          "name": "stdout",
          "text": [
            "epoch: 63 /100\n",
            "time: 83.03 seconds\n",
            "train-loss: 0.19, train-acc: 93.42%\n",
            "valid-loss: 0.46, valid-acc: 86.34%\n",
            "\n"
          ]
        },
        {
          "output_type": "stream",
          "name": "stderr",
          "text": [
            "Train loss: 0.269819051027298: : 124it [01:13,  1.70it/s]\n",
            "29it [00:09,  2.94it/s]\n"
          ]
        },
        {
          "output_type": "stream",
          "name": "stdout",
          "text": [
            "epoch: 64 /100\n",
            "time: 83.01 seconds\n",
            "train-loss: 0.21, train-acc: 92.59%\n",
            "valid-loss: 0.46, valid-acc: 86.01%\n",
            "\n"
          ]
        },
        {
          "output_type": "stream",
          "name": "stderr",
          "text": [
            "Train loss: 0.10794451087713242: : 124it [01:13,  1.69it/s]\n",
            "29it [00:09,  2.93it/s]\n"
          ]
        },
        {
          "output_type": "stream",
          "name": "stdout",
          "text": [
            "epoch: 65 /100\n",
            "time: 83.22 seconds\n",
            "train-loss: 0.19, train-acc: 92.72%\n",
            "valid-loss: 0.46, valid-acc: 86.34%\n",
            "\n"
          ]
        },
        {
          "output_type": "stream",
          "name": "stderr",
          "text": [
            "Train loss: 0.12372574210166931: : 124it [01:13,  1.69it/s]\n",
            "29it [00:09,  2.93it/s]\n"
          ]
        },
        {
          "output_type": "stream",
          "name": "stdout",
          "text": [
            "epoch: 66 /100\n",
            "time: 83.17 seconds\n",
            "train-loss: 0.19, train-acc: 93.07%\n",
            "valid-loss: 0.50, valid-acc: 84.58%\n",
            "\n"
          ]
        },
        {
          "output_type": "stream",
          "name": "stderr",
          "text": [
            "Train loss: 0.14459604024887085: : 124it [01:13,  1.70it/s]\n",
            "29it [00:09,  2.94it/s]\n"
          ]
        },
        {
          "output_type": "stream",
          "name": "stdout",
          "text": [
            "epoch: 67 /100\n",
            "time: 83.05 seconds\n",
            "train-loss: 0.19, train-acc: 93.22%\n",
            "valid-loss: 0.48, valid-acc: 85.79%\n",
            "\n"
          ]
        },
        {
          "output_type": "stream",
          "name": "stderr",
          "text": [
            "Train loss: 0.23022523522377014: : 124it [01:13,  1.70it/s]\n",
            "29it [00:09,  2.94it/s]\n"
          ]
        },
        {
          "output_type": "stream",
          "name": "stdout",
          "text": [
            "epoch: 68 /100\n",
            "time: 82.99 seconds\n",
            "train-loss: 0.20, train-acc: 93.15%\n",
            "valid-loss: 0.49, valid-acc: 86.67%\n",
            "\n"
          ]
        },
        {
          "output_type": "stream",
          "name": "stderr",
          "text": [
            "Train loss: 0.06555692106485367: : 124it [01:13,  1.70it/s]\n",
            "29it [00:09,  2.95it/s]\n"
          ]
        },
        {
          "output_type": "stream",
          "name": "stdout",
          "text": [
            "epoch: 69 /100\n",
            "time: 82.88 seconds\n",
            "train-loss: 0.19, train-acc: 93.37%\n",
            "valid-loss: 0.45, valid-acc: 86.34%\n",
            "\n"
          ]
        },
        {
          "output_type": "stream",
          "name": "stderr",
          "text": [
            "Train loss: 0.16635730862617493: : 124it [01:13,  1.70it/s]\n",
            "29it [00:09,  2.94it/s]\n"
          ]
        },
        {
          "output_type": "stream",
          "name": "stdout",
          "text": [
            "epoch: 70 /100\n",
            "time: 82.94 seconds\n",
            "train-loss: 0.19, train-acc: 93.40%\n",
            "valid-loss: 0.49, valid-acc: 85.35%\n",
            "\n"
          ]
        },
        {
          "output_type": "stream",
          "name": "stderr",
          "text": [
            "Train loss: 0.2241297960281372: : 124it [01:13,  1.69it/s]\n",
            "29it [00:09,  2.94it/s]\n"
          ]
        },
        {
          "output_type": "stream",
          "name": "stdout",
          "text": [
            "epoch: 71 /100\n",
            "time: 83.19 seconds\n",
            "train-loss: 0.17, train-acc: 93.72%\n",
            "valid-loss: 0.48, valid-acc: 86.45%\n",
            "\n"
          ]
        },
        {
          "output_type": "stream",
          "name": "stderr",
          "text": [
            "Train loss: 0.2046680599451065: : 124it [01:13,  1.69it/s]\n",
            "29it [00:09,  2.92it/s]\n"
          ]
        },
        {
          "output_type": "stream",
          "name": "stdout",
          "text": [
            "epoch: 72 /100\n",
            "time: 83.15 seconds\n",
            "train-loss: 0.20, train-acc: 93.09%\n",
            "valid-loss: 0.47, valid-acc: 85.35%\n",
            "\n"
          ]
        },
        {
          "output_type": "stream",
          "name": "stderr",
          "text": [
            "Train loss: 0.04978173226118088: : 124it [01:13,  1.69it/s]\n",
            "29it [00:09,  2.94it/s]\n"
          ]
        },
        {
          "output_type": "stream",
          "name": "stdout",
          "text": [
            "epoch: 73 /100\n",
            "time: 83.08 seconds\n",
            "train-loss: 0.19, train-acc: 93.27%\n",
            "valid-loss: 0.45, valid-acc: 86.45%\n",
            "\n"
          ]
        },
        {
          "output_type": "stream",
          "name": "stderr",
          "text": [
            "Train loss: 0.10273277759552002: : 124it [01:13,  1.70it/s]\n",
            "29it [00:09,  2.93it/s]\n"
          ]
        },
        {
          "output_type": "stream",
          "name": "stdout",
          "text": [
            "epoch: 74 /100\n",
            "time: 82.97 seconds\n",
            "train-loss: 0.18, train-acc: 93.60%\n",
            "valid-loss: 0.45, valid-acc: 86.45%\n",
            "\n"
          ]
        },
        {
          "output_type": "stream",
          "name": "stderr",
          "text": [
            "Train loss: 0.14737996459007263: : 124it [01:12,  1.70it/s]\n",
            "29it [00:09,  2.95it/s]\n"
          ]
        },
        {
          "output_type": "stream",
          "name": "stdout",
          "text": [
            "epoch: 75 /100\n",
            "time: 82.84 seconds\n",
            "train-loss: 0.17, train-acc: 93.93%\n",
            "valid-loss: 0.50, valid-acc: 86.23%\n",
            "\n"
          ]
        },
        {
          "output_type": "stream",
          "name": "stderr",
          "text": [
            "Train loss: 0.45224618911743164: : 124it [01:13,  1.70it/s]\n",
            "29it [00:09,  2.94it/s]\n"
          ]
        },
        {
          "output_type": "stream",
          "name": "stdout",
          "text": [
            "epoch: 76 /100\n",
            "time: 82.98 seconds\n",
            "train-loss: 0.18, train-acc: 93.25%\n",
            "valid-loss: 0.47, valid-acc: 86.23%\n",
            "\n"
          ]
        },
        {
          "output_type": "stream",
          "name": "stderr",
          "text": [
            "Train loss: 0.2224985808134079: : 124it [01:13,  1.70it/s]\n",
            "29it [00:09,  2.96it/s]\n"
          ]
        },
        {
          "output_type": "stream",
          "name": "stdout",
          "text": [
            "epoch: 77 /100\n",
            "time: 82.99 seconds\n",
            "train-loss: 0.17, train-acc: 94.48%\n",
            "valid-loss: 0.48, valid-acc: 86.67%\n",
            "\n"
          ]
        },
        {
          "output_type": "stream",
          "name": "stderr",
          "text": [
            "Train loss: 0.09273914247751236: : 124it [01:12,  1.70it/s]\n",
            "29it [00:09,  2.95it/s]\n"
          ]
        },
        {
          "output_type": "stream",
          "name": "stdout",
          "text": [
            "epoch: 78 /100\n",
            "time: 82.87 seconds\n",
            "train-loss: 0.18, train-acc: 93.75%\n",
            "valid-loss: 0.49, valid-acc: 85.57%\n",
            "\n"
          ]
        },
        {
          "output_type": "stream",
          "name": "stderr",
          "text": [
            "Train loss: 0.3350871205329895: : 124it [01:13,  1.70it/s]\n",
            "29it [00:09,  2.92it/s]\n"
          ]
        },
        {
          "output_type": "stream",
          "name": "stdout",
          "text": [
            "epoch: 79 /100\n",
            "time: 83.06 seconds\n",
            "train-loss: 0.17, train-acc: 93.72%\n",
            "valid-loss: 0.44, valid-acc: 87.00%\n",
            "\n"
          ]
        },
        {
          "output_type": "stream",
          "name": "stderr",
          "text": [
            "Train loss: 0.1601618230342865: : 124it [01:13,  1.69it/s]\n",
            "29it [00:09,  2.91it/s]\n"
          ]
        },
        {
          "output_type": "stream",
          "name": "stdout",
          "text": [
            "epoch: 80 /100\n",
            "time: 83.33 seconds\n",
            "train-loss: 0.17, train-acc: 94.15%\n",
            "valid-loss: 0.48, valid-acc: 86.34%\n",
            "\n"
          ]
        },
        {
          "output_type": "stream",
          "name": "stderr",
          "text": [
            "Train loss: 0.1470719426870346: : 124it [01:13,  1.69it/s]\n",
            "29it [00:09,  2.94it/s]\n"
          ]
        },
        {
          "output_type": "stream",
          "name": "stdout",
          "text": [
            "epoch: 81 /100\n",
            "time: 83.22 seconds\n",
            "train-loss: 0.16, train-acc: 94.33%\n",
            "valid-loss: 0.46, valid-acc: 87.33%\n",
            "\n"
          ]
        },
        {
          "output_type": "stream",
          "name": "stderr",
          "text": [
            "Train loss: 0.3678410053253174: : 124it [01:13,  1.69it/s]\n",
            "29it [00:09,  2.92it/s]\n"
          ]
        },
        {
          "output_type": "stream",
          "name": "stdout",
          "text": [
            "epoch: 82 /100\n",
            "time: 83.20 seconds\n",
            "train-loss: 0.17, train-acc: 94.18%\n",
            "valid-loss: 0.44, valid-acc: 86.67%\n",
            "\n"
          ]
        },
        {
          "output_type": "stream",
          "name": "stderr",
          "text": [
            "Train loss: 0.21400338411331177: : 124it [01:13,  1.70it/s]\n",
            "29it [00:09,  2.93it/s]\n"
          ]
        },
        {
          "output_type": "stream",
          "name": "stdout",
          "text": [
            "epoch: 83 /100\n",
            "time: 83.04 seconds\n",
            "train-loss: 0.16, train-acc: 94.15%\n",
            "valid-loss: 0.49, valid-acc: 86.01%\n",
            "\n"
          ]
        },
        {
          "output_type": "stream",
          "name": "stderr",
          "text": [
            "Train loss: 0.23255908489227295: : 124it [01:12,  1.70it/s]\n",
            "29it [00:09,  2.92it/s]\n"
          ]
        },
        {
          "output_type": "stream",
          "name": "stdout",
          "text": [
            "epoch: 84 /100\n",
            "time: 82.83 seconds\n",
            "train-loss: 0.16, train-acc: 93.67%\n",
            "valid-loss: 0.47, valid-acc: 85.46%\n",
            "\n"
          ]
        },
        {
          "output_type": "stream",
          "name": "stderr",
          "text": [
            "Train loss: 0.09115654230117798: : 124it [01:14,  1.66it/s]\n",
            "29it [00:10,  2.85it/s]\n"
          ]
        },
        {
          "output_type": "stream",
          "name": "stdout",
          "text": [
            "epoch: 85 /100\n",
            "time: 84.73 seconds\n",
            "train-loss: 0.16, train-acc: 94.13%\n",
            "valid-loss: 0.48, valid-acc: 86.23%\n",
            "\n"
          ]
        },
        {
          "output_type": "stream",
          "name": "stderr",
          "text": [
            "Train loss: 0.23743478953838348: : 124it [01:16,  1.62it/s]\n",
            "29it [00:10,  2.84it/s]\n"
          ]
        },
        {
          "output_type": "stream",
          "name": "stdout",
          "text": [
            "epoch: 86 /100\n",
            "time: 86.58 seconds\n",
            "train-loss: 0.17, train-acc: 94.10%\n",
            "valid-loss: 0.49, valid-acc: 84.91%\n",
            "\n"
          ]
        },
        {
          "output_type": "stream",
          "name": "stderr",
          "text": [
            "Train loss: 0.14332839846611023: : 124it [01:14,  1.66it/s]\n",
            "29it [00:09,  2.91it/s]\n"
          ]
        },
        {
          "output_type": "stream",
          "name": "stdout",
          "text": [
            "epoch: 87 /100\n",
            "time: 84.58 seconds\n",
            "train-loss: 0.17, train-acc: 94.05%\n",
            "valid-loss: 0.47, valid-acc: 86.01%\n",
            "\n"
          ]
        },
        {
          "output_type": "stream",
          "name": "stderr",
          "text": [
            "Train loss: 0.17168688774108887: : 124it [01:13,  1.68it/s]\n",
            "29it [00:09,  2.93it/s]\n"
          ]
        },
        {
          "output_type": "stream",
          "name": "stdout",
          "text": [
            "epoch: 88 /100\n",
            "time: 83.67 seconds\n",
            "train-loss: 0.15, train-acc: 94.81%\n",
            "valid-loss: 0.48, valid-acc: 86.01%\n",
            "\n"
          ]
        },
        {
          "output_type": "stream",
          "name": "stderr",
          "text": [
            "Train loss: 0.06546032428741455: : 124it [01:13,  1.69it/s]\n",
            "29it [00:09,  2.92it/s]\n"
          ]
        },
        {
          "output_type": "stream",
          "name": "stdout",
          "text": [
            "epoch: 89 /100\n",
            "time: 83.29 seconds\n",
            "train-loss: 0.15, train-acc: 94.63%\n",
            "valid-loss: 0.47, valid-acc: 86.56%\n",
            "\n"
          ]
        },
        {
          "output_type": "stream",
          "name": "stderr",
          "text": [
            "Train loss: 0.11685291677713394: : 124it [01:13,  1.70it/s]\n",
            "29it [00:09,  2.92it/s]\n"
          ]
        },
        {
          "output_type": "stream",
          "name": "stdout",
          "text": [
            "epoch: 90 /100\n",
            "time: 83.08 seconds\n",
            "train-loss: 0.16, train-acc: 94.48%\n",
            "valid-loss: 0.46, valid-acc: 87.33%\n",
            "\n"
          ]
        },
        {
          "output_type": "stream",
          "name": "stderr",
          "text": [
            "Train loss: 0.08816279470920563: : 124it [01:13,  1.69it/s]\n",
            "29it [00:09,  2.94it/s]\n"
          ]
        },
        {
          "output_type": "stream",
          "name": "stdout",
          "text": [
            "epoch: 91 /100\n",
            "time: 83.42 seconds\n",
            "train-loss: 0.16, train-acc: 94.28%\n",
            "valid-loss: 0.46, valid-acc: 86.67%\n",
            "\n"
          ]
        },
        {
          "output_type": "stream",
          "name": "stderr",
          "text": [
            "Train loss: 0.07996465265750885: : 124it [01:13,  1.69it/s]\n",
            "29it [00:09,  2.95it/s]\n"
          ]
        },
        {
          "output_type": "stream",
          "name": "stdout",
          "text": [
            "epoch: 92 /100\n",
            "time: 83.06 seconds\n",
            "train-loss: 0.16, train-acc: 94.46%\n",
            "valid-loss: 0.48, valid-acc: 86.23%\n",
            "\n"
          ]
        },
        {
          "output_type": "stream",
          "name": "stderr",
          "text": [
            "Train loss: 0.3902356028556824: : 124it [01:13,  1.70it/s]\n",
            "29it [00:09,  2.95it/s]\n"
          ]
        },
        {
          "output_type": "stream",
          "name": "stdout",
          "text": [
            "epoch: 93 /100\n",
            "time: 83.03 seconds\n",
            "train-loss: 0.16, train-acc: 94.20%\n",
            "valid-loss: 0.47, valid-acc: 87.00%\n",
            "\n"
          ]
        },
        {
          "output_type": "stream",
          "name": "stderr",
          "text": [
            "Train loss: 0.09082109481096268: : 124it [01:13,  1.69it/s]\n",
            "29it [00:09,  2.92it/s]\n"
          ]
        },
        {
          "output_type": "stream",
          "name": "stdout",
          "text": [
            "epoch: 94 /100\n",
            "time: 83.14 seconds\n",
            "train-loss: 0.16, train-acc: 94.46%\n",
            "valid-loss: 0.47, valid-acc: 85.13%\n",
            "\n"
          ]
        },
        {
          "output_type": "stream",
          "name": "stderr",
          "text": [
            "Train loss: 0.27353569865226746: : 124it [01:13,  1.69it/s]\n",
            "29it [00:09,  2.93it/s]\n"
          ]
        },
        {
          "output_type": "stream",
          "name": "stdout",
          "text": [
            "epoch: 95 /100\n",
            "time: 83.13 seconds\n",
            "train-loss: 0.16, train-acc: 94.10%\n",
            "valid-loss: 0.45, valid-acc: 87.33%\n",
            "\n"
          ]
        },
        {
          "output_type": "stream",
          "name": "stderr",
          "text": [
            "Train loss: 0.11457916349172592: : 124it [01:13,  1.69it/s]\n",
            "29it [00:09,  2.96it/s]\n"
          ]
        },
        {
          "output_type": "stream",
          "name": "stdout",
          "text": [
            "epoch: 96 /100\n",
            "time: 83.02 seconds\n",
            "train-loss: 0.15, train-acc: 94.73%\n",
            "valid-loss: 0.45, valid-acc: 86.45%\n",
            "\n"
          ]
        },
        {
          "output_type": "stream",
          "name": "stderr",
          "text": [
            "Train loss: 0.11418500542640686: : 124it [01:13,  1.69it/s]\n",
            "29it [00:09,  2.93it/s]\n"
          ]
        },
        {
          "output_type": "stream",
          "name": "stdout",
          "text": [
            "epoch: 97 /100\n",
            "time: 83.36 seconds\n",
            "train-loss: 0.16, train-acc: 94.15%\n",
            "valid-loss: 0.47, valid-acc: 86.78%\n",
            "\n"
          ]
        },
        {
          "output_type": "stream",
          "name": "stderr",
          "text": [
            "Train loss: 0.2972443103790283: : 124it [01:13,  1.70it/s]\n",
            "29it [00:10,  2.89it/s]\n"
          ]
        },
        {
          "output_type": "stream",
          "name": "stdout",
          "text": [
            "epoch: 98 /100\n",
            "time: 83.14 seconds\n",
            "train-loss: 0.15, train-acc: 94.68%\n",
            "valid-loss: 0.48, valid-acc: 86.34%\n",
            "\n"
          ]
        },
        {
          "output_type": "stream",
          "name": "stderr",
          "text": [
            "Train loss: 0.26939159631729126: : 124it [01:14,  1.67it/s]\n",
            "29it [00:09,  2.91it/s]\n"
          ]
        },
        {
          "output_type": "stream",
          "name": "stdout",
          "text": [
            "epoch: 99 /100\n",
            "time: 84.36 seconds\n",
            "train-loss: 0.15, train-acc: 94.30%\n",
            "valid-loss: 0.47, valid-acc: 86.56%\n",
            "\n"
          ]
        },
        {
          "output_type": "stream",
          "name": "stderr",
          "text": [
            "Train loss: 0.31040239334106445: : 124it [01:13,  1.69it/s]\n",
            "29it [00:09,  2.93it/s]"
          ]
        },
        {
          "output_type": "stream",
          "name": "stdout",
          "text": [
            "epoch:100 /100\n",
            "time: 83.26 seconds\n",
            "train-loss: 0.15, train-acc: 94.61%\n",
            "valid-loss: 0.48, valid-acc: 85.90%\n",
            "\n"
          ]
        },
        {
          "output_type": "stream",
          "name": "stderr",
          "text": [
            "\n"
          ]
        }
      ]
    },
    {
      "cell_type": "code",
      "source": [
        "def smooth(x, w=0):\n",
        "    last = x[0]\n",
        "    smoothed = []\n",
        "    for point in x:\n",
        "      smoothed_val = w * last + (1 - w) * point\n",
        "      smoothed.append(smoothed_val)\n",
        "      ast = smoothed_val\n",
        "          \n",
        "    return smoothed\n",
        "\n",
        "history1 = trainer1.getHistory()\n",
        "trainer1.showResults()"
      ],
      "metadata": {
        "id": "N7DHiwXimwKP",
        "outputId": "7dd0e2ab-8d8f-4c79-df19-7cce9b6e8d12",
        "colab": {
          "base_uri": "https://localhost:8080/",
          "height": 314
        }
      },
      "execution_count": null,
      "outputs": [
        {
          "output_type": "display_data",
          "data": {
            "text/plain": [
              "<Figure size 1008x288 with 2 Axes>"
            ],
            "image/png": "[encoded data removed]"
          },
          "metadata": {}
        }
      ]
    },
    {
      "cell_type": "code",
      "source": [
        "trainer1.generateConfusionMatrix()"
      ],
      "metadata": {
        "id": "yr5CE5Zjw9Yh",
        "outputId": "654ee6e8-410e-406d-a352-3411e62bbf58",
        "colab": {
          "base_uri": "https://localhost:8080/",
          "height": 491
        }
      },
      "execution_count": null,
      "outputs": [
        {
          "output_type": "display_data",
          "data": {
            "text/plain": [
              "<Figure size 864x504 with 1 Axes>"
            ],
            "image/png": "[encoded data removed]"
          },
          "metadata": {}
        }
      ]
    },
    {
      "cell_type": "code",
      "source": [
        "trainer1.missing_data_test()"
      ],
      "metadata": {
        "id": "s30abd-s2seu",
        "colab": {
          "base_uri": "https://localhost:8080/",
          "height": 319
        },
        "outputId": "06c9a69b-2384-405c-d3a6-f2c3acb2d013"
      },
      "execution_count": null,
      "outputs": [
        {
          "output_type": "display_data",
          "data": {
            "text/plain": [
              "<Figure size 576x288 with 1 Axes>"
            ],
            "image/png": "[encoded data removed]"
          },
          "metadata": {}
        }
      ]
    },
    {
      "cell_type": "markdown",
      "source": [
        "# BatcNormVoxNet"
      ],
      "metadata": {
        "id": "cgdQgwjggYGS"
      }
    },
    {
      "cell_type": "code",
      "source": [
        "from collections import OrderedDict\n",
        "class BatchNormVoxNet(nn.Module):\n",
        "    def __init__(self):\n",
        "        super(BatchNormVoxNet, self).__init__()\n",
        "        n_classes = 10\n",
        "        input_shape = (32,32,32)\n",
        "        self.feat = torch.nn.Sequential(OrderedDict([\n",
        "            ('conv3d_1', torch.nn.Conv3d(in_channels=1, out_channels=32, kernel_size=5, stride=2)),\n",
        "            ('batch1', torch.nn.BatchNorm3d(32)),\n",
        "            ('relu1', torch.nn.ReLU()),\n",
        "            ('drop1', torch.nn.Dropout(p=0.2)),\n",
        "            ('conv3d_2', torch.nn.Conv3d(in_channels=32, out_channels=32, kernel_size=3)),\n",
        "            ('batch2', torch.nn.BatchNorm3d(32)),\n",
        "            ('relu2', torch.nn.ReLU()),\n",
        "            ('pool2', torch.nn.MaxPool3d(2)),\n",
        "            ('drop2', torch.nn.Dropout(p=0.3))\n",
        "        ]))\n",
        "        \n",
        "        x = self.feat(torch.autograd.Variable(torch.rand((1, 1) + input_shape)))\n",
        "        dim_feat = 1\n",
        "        for n in x.size()[1:]:\n",
        "            dim_feat *= n\n",
        "\n",
        "        self.mlp = torch.nn.Sequential(OrderedDict([\n",
        "            ('fc1', torch.nn.Linear(dim_feat, 128)),\n",
        "            ('relu1', torch.nn.ReLU()),\n",
        "            ('drop3', torch.nn.Dropout(p=0.4)),\n",
        "            ('fc2', torch.nn.Linear(128, n_classes))\n",
        "        ]))\n",
        "\n",
        "        self.logsoftmax = nn.LogSoftmax(dim=1)\n",
        "\n",
        "    def forward(self, x):\n",
        "        x = self.feat(x)\n",
        "        x = x.view(x.size(0), -1)\n",
        "        x = self.mlp(x)\n",
        "        #return x\n",
        "        return self.logsoftmax(x)"
      ],
      "metadata": {
        "id": "1RYhudhkrK6P"
      },
      "execution_count": null,
      "outputs": []
    },
    {
      "cell_type": "markdown",
      "source": [
        "**BatchNormVoxNet** Training "
      ],
      "metadata": {
        "id": "QvYd-EqMtBtl"
      }
    },
    {
      "cell_type": "code",
      "source": [
        "training_hyperparameters = {\n",
        "    \"learning_rate\": 0.1,\n",
        "    \"sgd_momentum\": 0,\n",
        "    \"data_size\": 32,\n",
        "    \"epochs\": 100,\n",
        "    \"lr_scheduler_step\": 16,\n",
        "    \"lr_scheduler_gamma\": 0.7,\n",
        "    \"train_batch_size\": 32,\n",
        "    \"valid_batch_size\": 32,\n",
        "    \"model\" : 'BatchNormVoxNet'\n",
        "}    \n",
        "\n",
        "trainer2 = VoxNet_Trainer(training_hyperparameters)\n",
        "trainer2.train()"
      ],
      "metadata": {
        "id": "s13Dp_TUIeF1",
        "outputId": "924b2809-7f40-4a86-a457-aa1383e7a6bf",
        "colab": {
          "base_uri": "https://localhost:8080/"
        }
      },
      "execution_count": null,
      "outputs": [
        {
          "output_type": "stream",
          "name": "stderr",
          "text": [
            "/usr/local/lib/python3.8/dist-packages/torch/optim/lr_scheduler.py:138: UserWarning: Detected call of `lr_scheduler.step()` before `optimizer.step()`. In PyTorch 1.1.0 and later, you should call them in the opposite order: `optimizer.step()` before `lr_scheduler.step()`.  Failure to do this will result in PyTorch skipping the first value of the learning rate schedule. See more details at https://pytorch.org/docs/stable/optim.html#how-to-adjust-learning-rate\n",
            "  warnings.warn(\"Detected call of `lr_scheduler.step()` before `optimizer.step()`. \"\n"
          ]
        },
        {
          "output_type": "stream",
          "name": "stdout",
          "text": [
            "model BatchVoxNet was chosen\n",
            "124.71875\n"
          ]
        },
        {
          "output_type": "stream",
          "name": "stderr",
          "text": [
            "Train loss: 1.5804964303970337: : 124it [01:18,  1.59it/s]\n",
            "29it [00:10,  2.89it/s]\n"
          ]
        },
        {
          "output_type": "stream",
          "name": "stdout",
          "text": [
            "epoch:  1 /100\n",
            "time: 88.27 seconds\n",
            "train-loss: 1.77, train-acc: 40.73%\n",
            "valid-loss: 1.80, valid-acc: 40.86%\n",
            "\n"
          ]
        },
        {
          "output_type": "stream",
          "name": "stderr",
          "text": [
            "Train loss: 1.3494212627410889: : 124it [01:17,  1.59it/s]\n",
            "29it [00:10,  2.86it/s]\n"
          ]
        },
        {
          "output_type": "stream",
          "name": "stdout",
          "text": [
            "epoch:  2 /100\n",
            "time: 88.15 seconds\n",
            "train-loss: 1.35, train-acc: 52.39%\n",
            "valid-loss: 1.18, valid-acc: 57.93%\n",
            "\n"
          ]
        },
        {
          "output_type": "stream",
          "name": "stderr",
          "text": [
            "Train loss: 0.9883438348770142: : 124it [01:16,  1.63it/s]\n",
            "29it [00:09,  2.93it/s]\n"
          ]
        },
        {
          "output_type": "stream",
          "name": "stdout",
          "text": [
            "epoch:  3 /100\n",
            "time: 86.00 seconds\n",
            "train-loss: 1.13, train-acc: 61.11%\n",
            "valid-loss: 1.06, valid-acc: 62.67%\n",
            "\n"
          ]
        },
        {
          "output_type": "stream",
          "name": "stderr",
          "text": [
            "Train loss: 1.0325961112976074: : 124it [01:15,  1.63it/s]\n",
            "29it [00:09,  2.93it/s]\n"
          ]
        },
        {
          "output_type": "stream",
          "name": "stdout",
          "text": [
            "epoch:  4 /100\n",
            "time: 85.86 seconds\n",
            "train-loss: 1.00, train-acc: 65.40%\n",
            "valid-loss: 0.96, valid-acc: 65.31%\n",
            "\n"
          ]
        },
        {
          "output_type": "stream",
          "name": "stderr",
          "text": [
            "Train loss: 0.8778572082519531: : 124it [01:16,  1.62it/s]\n",
            "29it [00:09,  2.92it/s]\n"
          ]
        },
        {
          "output_type": "stream",
          "name": "stdout",
          "text": [
            "epoch:  5 /100\n",
            "time: 86.29 seconds\n",
            "train-loss: 0.91, train-acc: 69.25%\n",
            "valid-loss: 1.03, valid-acc: 61.56%\n",
            "\n"
          ]
        },
        {
          "output_type": "stream",
          "name": "stderr",
          "text": [
            "Train loss: 0.7161847352981567: : 124it [01:16,  1.62it/s]\n",
            "29it [00:10,  2.90it/s]\n"
          ]
        },
        {
          "output_type": "stream",
          "name": "stdout",
          "text": [
            "epoch:  6 /100\n",
            "time: 86.45 seconds\n",
            "train-loss: 0.88, train-acc: 71.19%\n",
            "valid-loss: 0.88, valid-acc: 68.72%\n",
            "\n"
          ]
        },
        {
          "output_type": "stream",
          "name": "stderr",
          "text": [
            "Train loss: 0.6529027819633484: : 124it [01:16,  1.62it/s]\n",
            "29it [00:09,  2.92it/s]\n"
          ]
        },
        {
          "output_type": "stream",
          "name": "stdout",
          "text": [
            "epoch:  7 /100\n",
            "time: 86.35 seconds\n",
            "train-loss: 0.83, train-acc: 71.52%\n",
            "valid-loss: 0.84, valid-acc: 67.73%\n",
            "\n"
          ]
        },
        {
          "output_type": "stream",
          "name": "stderr",
          "text": [
            "Train loss: 0.9540108442306519: : 124it [01:17,  1.61it/s]\n",
            "29it [00:10,  2.85it/s]\n"
          ]
        },
        {
          "output_type": "stream",
          "name": "stdout",
          "text": [
            "epoch:  8 /100\n",
            "time: 87.25 seconds\n",
            "train-loss: 0.79, train-acc: 74.04%\n",
            "valid-loss: 0.85, valid-acc: 69.60%\n",
            "\n"
          ]
        },
        {
          "output_type": "stream",
          "name": "stderr",
          "text": [
            "Train loss: 0.6007667779922485: : 124it [01:16,  1.62it/s]\n",
            "29it [00:10,  2.89it/s]\n"
          ]
        },
        {
          "output_type": "stream",
          "name": "stdout",
          "text": [
            "epoch:  9 /100\n",
            "time: 86.77 seconds\n",
            "train-loss: 0.73, train-acc: 75.91%\n",
            "valid-loss: 0.82, valid-acc: 71.37%\n",
            "\n"
          ]
        },
        {
          "output_type": "stream",
          "name": "stderr",
          "text": [
            "Train loss: 0.3777431845664978: : 124it [01:18,  1.59it/s]\n",
            "29it [00:10,  2.79it/s]\n"
          ]
        },
        {
          "output_type": "stream",
          "name": "stdout",
          "text": [
            "epoch: 10 /100\n",
            "time: 88.45 seconds\n",
            "train-loss: 0.70, train-acc: 75.98%\n",
            "valid-loss: 0.78, valid-acc: 72.03%\n",
            "\n"
          ]
        },
        {
          "output_type": "stream",
          "name": "stderr",
          "text": [
            "Train loss: 0.5333313941955566: : 124it [01:17,  1.59it/s]\n",
            "29it [00:10,  2.88it/s]\n"
          ]
        },
        {
          "output_type": "stream",
          "name": "stdout",
          "text": [
            "epoch: 11 /100\n",
            "time: 88.09 seconds\n",
            "train-loss: 0.69, train-acc: 77.55%\n",
            "valid-loss: 0.69, valid-acc: 75.88%\n",
            "\n"
          ]
        },
        {
          "output_type": "stream",
          "name": "stderr",
          "text": [
            "Train loss: 0.648476243019104: : 124it [01:17,  1.60it/s]\n",
            "29it [00:10,  2.84it/s]\n"
          ]
        },
        {
          "output_type": "stream",
          "name": "stdout",
          "text": [
            "epoch: 12 /100\n",
            "time: 87.79 seconds\n",
            "train-loss: 0.67, train-acc: 77.44%\n",
            "valid-loss: 0.71, valid-acc: 72.80%\n",
            "\n"
          ]
        },
        {
          "output_type": "stream",
          "name": "stderr",
          "text": [
            "Train loss: 0.7009656429290771: : 124it [01:17,  1.59it/s]\n",
            "29it [00:09,  2.92it/s]\n"
          ]
        },
        {
          "output_type": "stream",
          "name": "stdout",
          "text": [
            "epoch: 13 /100\n",
            "time: 87.73 seconds\n",
            "train-loss: 0.64, train-acc: 78.12%\n",
            "valid-loss: 0.68, valid-acc: 75.77%\n",
            "\n"
          ]
        },
        {
          "output_type": "stream",
          "name": "stderr",
          "text": [
            "Train loss: 0.28905218839645386: : 124it [01:16,  1.62it/s]\n",
            "29it [00:10,  2.84it/s]\n"
          ]
        },
        {
          "output_type": "stream",
          "name": "stdout",
          "text": [
            "epoch: 14 /100\n",
            "time: 86.85 seconds\n",
            "train-loss: 0.62, train-acc: 79.99%\n",
            "valid-loss: 0.68, valid-acc: 78.19%\n",
            "\n"
          ]
        },
        {
          "output_type": "stream",
          "name": "stderr",
          "text": [
            "Train loss: 0.3662841320037842: : 124it [01:16,  1.62it/s]\n",
            "29it [00:09,  2.92it/s]\n"
          ]
        },
        {
          "output_type": "stream",
          "name": "stdout",
          "text": [
            "epoch: 15 /100\n",
            "time: 86.47 seconds\n",
            "train-loss: 0.61, train-acc: 79.69%\n",
            "valid-loss: 0.63, valid-acc: 78.08%\n",
            "\n"
          ]
        },
        {
          "output_type": "stream",
          "name": "stderr",
          "text": [
            "Train loss: 0.6449266076087952: : 124it [01:16,  1.62it/s]\n",
            "29it [00:09,  2.93it/s]\n"
          ]
        },
        {
          "output_type": "stream",
          "name": "stdout",
          "text": [
            "epoch: 16 /100\n",
            "time: 86.31 seconds\n",
            "train-loss: 0.55, train-acc: 81.48%\n",
            "valid-loss: 0.60, valid-acc: 79.07%\n",
            "\n"
          ]
        },
        {
          "output_type": "stream",
          "name": "stderr",
          "text": [
            "Train loss: 0.2535703778266907: : 124it [01:16,  1.63it/s]\n",
            "29it [00:09,  2.94it/s]\n"
          ]
        },
        {
          "output_type": "stream",
          "name": "stdout",
          "text": [
            "epoch: 17 /100\n",
            "time: 86.01 seconds\n",
            "train-loss: 0.54, train-acc: 82.33%\n",
            "valid-loss: 0.57, valid-acc: 79.85%\n",
            "\n"
          ]
        },
        {
          "output_type": "stream",
          "name": "stderr",
          "text": [
            "Train loss: 0.29162418842315674: : 124it [01:15,  1.63it/s]\n",
            "29it [00:09,  2.94it/s]\n"
          ]
        },
        {
          "output_type": "stream",
          "name": "stdout",
          "text": [
            "epoch: 18 /100\n",
            "time: 85.85 seconds\n",
            "train-loss: 0.51, train-acc: 82.54%\n",
            "valid-loss: 0.60, valid-acc: 78.08%\n",
            "\n"
          ]
        },
        {
          "output_type": "stream",
          "name": "stderr",
          "text": [
            "Train loss: 0.5340462327003479: : 124it [01:15,  1.63it/s]\n",
            "29it [00:09,  2.94it/s]\n"
          ]
        },
        {
          "output_type": "stream",
          "name": "stdout",
          "text": [
            "epoch: 19 /100\n",
            "time: 85.87 seconds\n",
            "train-loss: 0.50, train-acc: 83.14%\n",
            "valid-loss: 0.59, valid-acc: 78.63%\n",
            "\n"
          ]
        },
        {
          "output_type": "stream",
          "name": "stderr",
          "text": [
            "Train loss: 0.6289590001106262: : 124it [01:15,  1.63it/s]\n",
            "29it [00:09,  2.91it/s]\n"
          ]
        },
        {
          "output_type": "stream",
          "name": "stdout",
          "text": [
            "epoch: 20 /100\n",
            "time: 85.98 seconds\n",
            "train-loss: 0.49, train-acc: 83.85%\n",
            "valid-loss: 0.56, valid-acc: 81.28%\n",
            "\n"
          ]
        },
        {
          "output_type": "stream",
          "name": "stderr",
          "text": [
            "Train loss: 0.9110661745071411: : 124it [01:15,  1.63it/s]\n",
            "29it [00:09,  2.93it/s]\n"
          ]
        },
        {
          "output_type": "stream",
          "name": "stdout",
          "text": [
            "epoch: 21 /100\n",
            "time: 85.92 seconds\n",
            "train-loss: 0.48, train-acc: 84.40%\n",
            "valid-loss: 0.64, valid-acc: 78.52%\n",
            "\n"
          ]
        },
        {
          "output_type": "stream",
          "name": "stderr",
          "text": [
            "Train loss: 0.5214331150054932: : 124it [01:16,  1.62it/s]\n",
            "29it [00:09,  2.93it/s]\n"
          ]
        },
        {
          "output_type": "stream",
          "name": "stdout",
          "text": [
            "epoch: 22 /100\n",
            "time: 86.50 seconds\n",
            "train-loss: 0.49, train-acc: 83.49%\n",
            "valid-loss: 0.57, valid-acc: 80.18%\n",
            "\n"
          ]
        },
        {
          "output_type": "stream",
          "name": "stderr",
          "text": [
            "Train loss: 0.38420170545578003: : 124it [01:16,  1.63it/s]\n",
            "29it [00:09,  2.95it/s]\n"
          ]
        },
        {
          "output_type": "stream",
          "name": "stdout",
          "text": [
            "epoch: 23 /100\n",
            "time: 85.92 seconds\n",
            "train-loss: 0.48, train-acc: 84.40%\n",
            "valid-loss: 0.55, valid-acc: 80.84%\n",
            "\n"
          ]
        },
        {
          "output_type": "stream",
          "name": "stderr",
          "text": [
            "Train loss: 0.4136603772640228: : 124it [01:16,  1.63it/s]\n",
            "29it [00:09,  2.93it/s]\n"
          ]
        },
        {
          "output_type": "stream",
          "name": "stdout",
          "text": [
            "epoch: 24 /100\n",
            "time: 85.95 seconds\n",
            "train-loss: 0.45, train-acc: 84.75%\n",
            "valid-loss: 0.57, valid-acc: 80.62%\n",
            "\n"
          ]
        },
        {
          "output_type": "stream",
          "name": "stderr",
          "text": [
            "Train loss: 0.7561674118041992: : 124it [01:15,  1.64it/s]\n",
            "29it [00:09,  2.94it/s]\n"
          ]
        },
        {
          "output_type": "stream",
          "name": "stdout",
          "text": [
            "epoch: 25 /100\n",
            "time: 85.70 seconds\n",
            "train-loss: 0.46, train-acc: 84.55%\n",
            "valid-loss: 0.55, valid-acc: 82.05%\n",
            "\n"
          ]
        },
        {
          "output_type": "stream",
          "name": "stderr",
          "text": [
            "Train loss: 0.6112138032913208: : 124it [01:15,  1.63it/s]\n",
            "29it [00:09,  2.93it/s]\n"
          ]
        },
        {
          "output_type": "stream",
          "name": "stdout",
          "text": [
            "epoch: 26 /100\n",
            "time: 85.88 seconds\n",
            "train-loss: 0.44, train-acc: 85.23%\n",
            "valid-loss: 0.55, valid-acc: 80.51%\n",
            "\n"
          ]
        },
        {
          "output_type": "stream",
          "name": "stderr",
          "text": [
            "Train loss: 0.4233003258705139: : 124it [01:15,  1.63it/s]\n",
            "29it [00:09,  2.93it/s]\n"
          ]
        },
        {
          "output_type": "stream",
          "name": "stdout",
          "text": [
            "epoch: 27 /100\n",
            "time: 85.86 seconds\n",
            "train-loss: 0.46, train-acc: 84.17%\n",
            "valid-loss: 0.52, valid-acc: 82.27%\n",
            "\n"
          ]
        },
        {
          "output_type": "stream",
          "name": "stderr",
          "text": [
            "Train loss: 0.5249102711677551: : 124it [01:16,  1.63it/s]\n",
            "29it [00:09,  2.92it/s]\n"
          ]
        },
        {
          "output_type": "stream",
          "name": "stdout",
          "text": [
            "epoch: 28 /100\n",
            "time: 86.01 seconds\n",
            "train-loss: 0.42, train-acc: 85.51%\n",
            "valid-loss: 0.52, valid-acc: 80.51%\n",
            "\n"
          ]
        },
        {
          "output_type": "stream",
          "name": "stderr",
          "text": [
            "Train loss: 0.3704109787940979: : 124it [01:16,  1.63it/s]\n",
            "29it [00:09,  2.92it/s]\n"
          ]
        },
        {
          "output_type": "stream",
          "name": "stdout",
          "text": [
            "epoch: 29 /100\n",
            "time: 85.96 seconds\n",
            "train-loss: 0.44, train-acc: 85.36%\n",
            "valid-loss: 0.54, valid-acc: 81.17%\n",
            "\n"
          ]
        },
        {
          "output_type": "stream",
          "name": "stderr",
          "text": [
            "Train loss: 0.46818608045578003: : 124it [01:16,  1.63it/s]\n",
            "29it [00:09,  2.93it/s]\n"
          ]
        },
        {
          "output_type": "stream",
          "name": "stdout",
          "text": [
            "epoch: 30 /100\n",
            "time: 86.06 seconds\n",
            "train-loss: 0.41, train-acc: 85.51%\n",
            "valid-loss: 0.51, valid-acc: 81.50%\n",
            "\n"
          ]
        },
        {
          "output_type": "stream",
          "name": "stderr",
          "text": [
            "Train loss: 0.48976022005081177: : 124it [01:16,  1.62it/s]\n",
            "29it [00:09,  2.92it/s]\n"
          ]
        },
        {
          "output_type": "stream",
          "name": "stdout",
          "text": [
            "epoch: 31 /100\n",
            "time: 86.39 seconds\n",
            "train-loss: 0.43, train-acc: 85.36%\n",
            "valid-loss: 0.53, valid-acc: 83.48%\n",
            "\n"
          ]
        },
        {
          "output_type": "stream",
          "name": "stderr",
          "text": [
            "Train loss: 0.3761007487773895: : 124it [01:15,  1.64it/s]\n",
            "29it [00:09,  2.92it/s]\n"
          ]
        },
        {
          "output_type": "stream",
          "name": "stdout",
          "text": [
            "epoch: 32 /100\n",
            "time: 85.74 seconds\n",
            "train-loss: 0.39, train-acc: 87.10%\n",
            "valid-loss: 0.50, valid-acc: 81.94%\n",
            "\n"
          ]
        },
        {
          "output_type": "stream",
          "name": "stderr",
          "text": [
            "Train loss: 0.26280122995376587: : 124it [01:15,  1.63it/s]\n",
            "29it [00:09,  2.92it/s]\n"
          ]
        },
        {
          "output_type": "stream",
          "name": "stdout",
          "text": [
            "epoch: 33 /100\n",
            "time: 85.93 seconds\n",
            "train-loss: 0.41, train-acc: 86.19%\n",
            "valid-loss: 0.49, valid-acc: 84.14%\n",
            "\n"
          ]
        },
        {
          "output_type": "stream",
          "name": "stderr",
          "text": [
            "Train loss: 0.22072584927082062: : 124it [01:16,  1.63it/s]\n",
            "29it [00:09,  2.93it/s]\n"
          ]
        },
        {
          "output_type": "stream",
          "name": "stdout",
          "text": [
            "epoch: 34 /100\n",
            "time: 86.22 seconds\n",
            "train-loss: 0.39, train-acc: 87.60%\n",
            "valid-loss: 0.49, valid-acc: 83.26%\n",
            "\n"
          ]
        },
        {
          "output_type": "stream",
          "name": "stderr",
          "text": [
            "Train loss: 0.5323319435119629: : 124it [01:15,  1.63it/s]\n",
            "29it [00:09,  2.92it/s]\n"
          ]
        },
        {
          "output_type": "stream",
          "name": "stdout",
          "text": [
            "epoch: 35 /100\n",
            "time: 85.95 seconds\n",
            "train-loss: 0.37, train-acc: 87.45%\n",
            "valid-loss: 0.49, valid-acc: 82.27%\n",
            "\n"
          ]
        },
        {
          "output_type": "stream",
          "name": "stderr",
          "text": [
            "Train loss: 0.28139039874076843: : 124it [01:16,  1.62it/s]\n",
            "29it [00:09,  2.93it/s]\n"
          ]
        },
        {
          "output_type": "stream",
          "name": "stdout",
          "text": [
            "epoch: 36 /100\n",
            "time: 86.25 seconds\n",
            "train-loss: 0.37, train-acc: 87.90%\n",
            "valid-loss: 0.53, valid-acc: 81.72%\n",
            "\n"
          ]
        },
        {
          "output_type": "stream",
          "name": "stderr",
          "text": [
            "Train loss: 0.4455358386039734: : 124it [01:16,  1.62it/s]\n",
            "29it [00:09,  2.92it/s]\n"
          ]
        },
        {
          "output_type": "stream",
          "name": "stdout",
          "text": [
            "epoch: 37 /100\n",
            "time: 86.38 seconds\n",
            "train-loss: 0.38, train-acc: 87.50%\n",
            "valid-loss: 0.48, valid-acc: 83.81%\n",
            "\n"
          ]
        },
        {
          "output_type": "stream",
          "name": "stderr",
          "text": [
            "Train loss: 0.5351157188415527: : 124it [01:16,  1.63it/s]\n",
            "29it [00:09,  2.91it/s]\n"
          ]
        },
        {
          "output_type": "stream",
          "name": "stdout",
          "text": [
            "epoch: 38 /100\n",
            "time: 86.26 seconds\n",
            "train-loss: 0.37, train-acc: 87.65%\n",
            "valid-loss: 0.48, valid-acc: 84.36%\n",
            "\n"
          ]
        },
        {
          "output_type": "stream",
          "name": "stderr",
          "text": [
            "Train loss: 0.2913876473903656: : 124it [01:16,  1.63it/s]\n",
            "29it [00:09,  2.92it/s]\n"
          ]
        },
        {
          "output_type": "stream",
          "name": "stdout",
          "text": [
            "epoch: 39 /100\n",
            "time: 85.98 seconds\n",
            "train-loss: 0.36, train-acc: 87.95%\n",
            "valid-loss: 0.47, valid-acc: 82.38%\n",
            "\n"
          ]
        },
        {
          "output_type": "stream",
          "name": "stderr",
          "text": [
            "Train loss: 0.2840047776699066: : 124it [01:15,  1.63it/s]\n",
            "29it [00:09,  2.92it/s]\n"
          ]
        },
        {
          "output_type": "stream",
          "name": "stdout",
          "text": [
            "epoch: 40 /100\n",
            "time: 85.90 seconds\n",
            "train-loss: 0.36, train-acc: 87.30%\n",
            "valid-loss: 0.45, valid-acc: 84.80%\n",
            "\n"
          ]
        },
        {
          "output_type": "stream",
          "name": "stderr",
          "text": [
            "Train loss: 0.28240373730659485: : 124it [01:16,  1.63it/s]\n",
            "29it [00:09,  2.93it/s]\n"
          ]
        },
        {
          "output_type": "stream",
          "name": "stdout",
          "text": [
            "epoch: 41 /100\n",
            "time: 86.07 seconds\n",
            "train-loss: 0.37, train-acc: 88.10%\n",
            "valid-loss: 0.48, valid-acc: 83.26%\n",
            "\n"
          ]
        },
        {
          "output_type": "stream",
          "name": "stderr",
          "text": [
            "Train loss: 0.3421754539012909: : 124it [01:16,  1.63it/s]\n",
            "29it [00:09,  2.92it/s]\n"
          ]
        },
        {
          "output_type": "stream",
          "name": "stdout",
          "text": [
            "epoch: 42 /100\n",
            "time: 85.95 seconds\n",
            "train-loss: 0.36, train-acc: 87.42%\n",
            "valid-loss: 0.48, valid-acc: 83.92%\n",
            "\n"
          ]
        },
        {
          "output_type": "stream",
          "name": "stderr",
          "text": [
            "Train loss: 0.4650970697402954: : 124it [01:16,  1.63it/s]\n",
            "29it [00:09,  2.93it/s]\n"
          ]
        },
        {
          "output_type": "stream",
          "name": "stdout",
          "text": [
            "epoch: 43 /100\n",
            "time: 86.13 seconds\n",
            "train-loss: 0.33, train-acc: 88.96%\n",
            "valid-loss: 0.50, valid-acc: 82.93%\n",
            "\n"
          ]
        },
        {
          "output_type": "stream",
          "name": "stderr",
          "text": [
            "Train loss: 0.5812860727310181: : 124it [01:16,  1.63it/s]\n",
            "29it [00:09,  2.92it/s]\n"
          ]
        },
        {
          "output_type": "stream",
          "name": "stdout",
          "text": [
            "epoch: 44 /100\n",
            "time: 86.02 seconds\n",
            "train-loss: 0.35, train-acc: 88.05%\n",
            "valid-loss: 0.47, valid-acc: 83.81%\n",
            "\n"
          ]
        },
        {
          "output_type": "stream",
          "name": "stderr",
          "text": [
            "Train loss: 0.3792237639427185: : 124it [01:16,  1.63it/s]\n",
            "29it [00:09,  2.90it/s]\n"
          ]
        },
        {
          "output_type": "stream",
          "name": "stdout",
          "text": [
            "epoch: 45 /100\n",
            "time: 86.06 seconds\n",
            "train-loss: 0.33, train-acc: 89.21%\n",
            "valid-loss: 0.53, valid-acc: 82.82%\n",
            "\n"
          ]
        },
        {
          "output_type": "stream",
          "name": "stderr",
          "text": [
            "Train loss: 0.2216763198375702: : 124it [01:16,  1.63it/s]\n",
            "29it [00:09,  2.92it/s]\n"
          ]
        },
        {
          "output_type": "stream",
          "name": "stdout",
          "text": [
            "epoch: 46 /100\n",
            "time: 86.15 seconds\n",
            "train-loss: 0.35, train-acc: 88.68%\n",
            "valid-loss: 0.45, valid-acc: 84.03%\n",
            "\n"
          ]
        },
        {
          "output_type": "stream",
          "name": "stderr",
          "text": [
            "Train loss: 0.48972848057746887: : 124it [01:16,  1.63it/s]\n",
            "29it [00:09,  2.92it/s]\n"
          ]
        },
        {
          "output_type": "stream",
          "name": "stdout",
          "text": [
            "epoch: 47 /100\n",
            "time: 86.02 seconds\n",
            "train-loss: 0.32, train-acc: 89.11%\n",
            "valid-loss: 0.45, valid-acc: 83.92%\n",
            "\n"
          ]
        },
        {
          "output_type": "stream",
          "name": "stderr",
          "text": [
            "Train loss: 0.2765846252441406: : 124it [01:16,  1.63it/s]\n",
            "29it [00:09,  2.91it/s]\n"
          ]
        },
        {
          "output_type": "stream",
          "name": "stdout",
          "text": [
            "epoch: 48 /100\n",
            "time: 86.02 seconds\n",
            "train-loss: 0.32, train-acc: 88.81%\n",
            "valid-loss: 0.45, valid-acc: 83.81%\n",
            "\n"
          ]
        },
        {
          "output_type": "stream",
          "name": "stderr",
          "text": [
            "Train loss: 0.4203506112098694: : 124it [01:15,  1.63it/s]\n",
            "29it [00:09,  2.95it/s]\n"
          ]
        },
        {
          "output_type": "stream",
          "name": "stdout",
          "text": [
            "epoch: 49 /100\n",
            "time: 85.74 seconds\n",
            "train-loss: 0.31, train-acc: 89.16%\n",
            "valid-loss: 0.46, valid-acc: 83.37%\n",
            "\n"
          ]
        },
        {
          "output_type": "stream",
          "name": "stderr",
          "text": [
            "Train loss: 0.38686403632164: : 124it [01:16,  1.63it/s]\n",
            "29it [00:09,  2.91it/s]\n"
          ]
        },
        {
          "output_type": "stream",
          "name": "stdout",
          "text": [
            "epoch: 50 /100\n",
            "time: 86.12 seconds\n",
            "train-loss: 0.32, train-acc: 89.14%\n",
            "valid-loss: 0.47, valid-acc: 83.48%\n",
            "\n"
          ]
        },
        {
          "output_type": "stream",
          "name": "stderr",
          "text": [
            "Train loss: 0.5424432754516602: : 124it [01:16,  1.62it/s]\n",
            "29it [00:09,  2.91it/s]\n"
          ]
        },
        {
          "output_type": "stream",
          "name": "stdout",
          "text": [
            "epoch: 51 /100\n",
            "time: 86.33 seconds\n",
            "train-loss: 0.30, train-acc: 89.54%\n",
            "valid-loss: 0.45, valid-acc: 84.03%\n",
            "\n"
          ]
        },
        {
          "output_type": "stream",
          "name": "stderr",
          "text": [
            "Train loss: 0.20140601694583893: : 124it [01:16,  1.62it/s]\n",
            "29it [00:09,  2.92it/s]\n"
          ]
        },
        {
          "output_type": "stream",
          "name": "stdout",
          "text": [
            "epoch: 52 /100\n",
            "time: 86.39 seconds\n",
            "train-loss: 0.31, train-acc: 89.52%\n",
            "valid-loss: 0.45, valid-acc: 85.35%\n",
            "\n"
          ]
        },
        {
          "output_type": "stream",
          "name": "stderr",
          "text": [
            "Train loss: 0.3457908630371094: : 124it [01:16,  1.63it/s]\n",
            "29it [00:09,  2.92it/s]\n"
          ]
        },
        {
          "output_type": "stream",
          "name": "stdout",
          "text": [
            "epoch: 53 /100\n",
            "time: 86.01 seconds\n",
            "train-loss: 0.29, train-acc: 90.15%\n",
            "valid-loss: 0.45, valid-acc: 83.59%\n",
            "\n"
          ]
        },
        {
          "output_type": "stream",
          "name": "stderr",
          "text": [
            "Train loss: 0.32973286509513855: : 124it [01:17,  1.61it/s]\n",
            "29it [00:10,  2.81it/s]\n"
          ]
        },
        {
          "output_type": "stream",
          "name": "stdout",
          "text": [
            "epoch: 54 /100\n",
            "time: 87.52 seconds\n",
            "train-loss: 0.29, train-acc: 89.99%\n",
            "valid-loss: 0.45, valid-acc: 84.14%\n",
            "\n"
          ]
        },
        {
          "output_type": "stream",
          "name": "stderr",
          "text": [
            "Train loss: 0.2622066140174866: : 124it [01:19,  1.56it/s]\n",
            "29it [00:10,  2.90it/s]\n"
          ]
        },
        {
          "output_type": "stream",
          "name": "stdout",
          "text": [
            "epoch: 55 /100\n",
            "time: 89.47 seconds\n",
            "train-loss: 0.30, train-acc: 89.67%\n",
            "valid-loss: 0.43, valid-acc: 85.02%\n",
            "\n"
          ]
        },
        {
          "output_type": "stream",
          "name": "stderr",
          "text": [
            "Train loss: 0.1274944692850113: : 124it [01:16,  1.63it/s]\n",
            "29it [00:09,  2.90it/s]\n"
          ]
        },
        {
          "output_type": "stream",
          "name": "stdout",
          "text": [
            "epoch: 56 /100\n",
            "time: 86.28 seconds\n",
            "train-loss: 0.29, train-acc: 89.77%\n",
            "valid-loss: 0.45, valid-acc: 85.02%\n",
            "\n"
          ]
        },
        {
          "output_type": "stream",
          "name": "stderr",
          "text": [
            "Train loss: 0.24802298843860626: : 124it [01:17,  1.61it/s]\n",
            "29it [00:10,  2.69it/s]\n"
          ]
        },
        {
          "output_type": "stream",
          "name": "stdout",
          "text": [
            "epoch: 57 /100\n",
            "time: 87.91 seconds\n",
            "train-loss: 0.29, train-acc: 89.74%\n",
            "valid-loss: 0.43, valid-acc: 84.69%\n",
            "\n"
          ]
        },
        {
          "output_type": "stream",
          "name": "stderr",
          "text": [
            "Train loss: 0.2694600820541382: : 124it [01:18,  1.58it/s]\n",
            "29it [00:10,  2.89it/s]\n"
          ]
        },
        {
          "output_type": "stream",
          "name": "stdout",
          "text": [
            "epoch: 58 /100\n",
            "time: 88.58 seconds\n",
            "train-loss: 0.31, train-acc: 89.94%\n",
            "valid-loss: 0.45, valid-acc: 84.47%\n",
            "\n"
          ]
        },
        {
          "output_type": "stream",
          "name": "stderr",
          "text": [
            "Train loss: 0.19327905774116516: : 124it [01:17,  1.61it/s]\n",
            "29it [00:10,  2.83it/s]\n"
          ]
        },
        {
          "output_type": "stream",
          "name": "stdout",
          "text": [
            "epoch: 59 /100\n",
            "time: 87.40 seconds\n",
            "train-loss: 0.29, train-acc: 89.36%\n",
            "valid-loss: 0.48, valid-acc: 83.37%\n",
            "\n"
          ]
        },
        {
          "output_type": "stream",
          "name": "stderr",
          "text": [
            "Train loss: 0.17162276804447174: : 124it [01:17,  1.60it/s]\n",
            "29it [00:10,  2.89it/s]\n"
          ]
        },
        {
          "output_type": "stream",
          "name": "stdout",
          "text": [
            "epoch: 60 /100\n",
            "time: 87.54 seconds\n",
            "train-loss: 0.28, train-acc: 89.97%\n",
            "valid-loss: 0.44, valid-acc: 84.58%\n",
            "\n"
          ]
        },
        {
          "output_type": "stream",
          "name": "stderr",
          "text": [
            "Train loss: 0.2967117428779602: : 124it [01:17,  1.60it/s]\n",
            "29it [00:10,  2.89it/s]\n"
          ]
        },
        {
          "output_type": "stream",
          "name": "stdout",
          "text": [
            "epoch: 61 /100\n",
            "time: 87.33 seconds\n",
            "train-loss: 0.28, train-acc: 89.97%\n",
            "valid-loss: 0.43, valid-acc: 85.24%\n",
            "\n"
          ]
        },
        {
          "output_type": "stream",
          "name": "stderr",
          "text": [
            "Train loss: 0.29110658168792725: : 124it [01:17,  1.61it/s]\n",
            "29it [00:10,  2.85it/s]\n"
          ]
        },
        {
          "output_type": "stream",
          "name": "stdout",
          "text": [
            "epoch: 62 /100\n",
            "time: 87.39 seconds\n",
            "train-loss: 0.28, train-acc: 90.20%\n",
            "valid-loss: 0.41, valid-acc: 84.69%\n",
            "\n"
          ]
        },
        {
          "output_type": "stream",
          "name": "stderr",
          "text": [
            "Train loss: 0.2936493754386902: : 124it [01:16,  1.61it/s]\n",
            "29it [00:09,  2.90it/s]\n"
          ]
        },
        {
          "output_type": "stream",
          "name": "stdout",
          "text": [
            "epoch: 63 /100\n",
            "time: 86.82 seconds\n",
            "train-loss: 0.29, train-acc: 90.07%\n",
            "valid-loss: 0.45, valid-acc: 84.36%\n",
            "\n"
          ]
        },
        {
          "output_type": "stream",
          "name": "stderr",
          "text": [
            "Train loss: 0.17014126479625702: : 124it [01:17,  1.61it/s]\n",
            "29it [00:10,  2.87it/s]\n"
          ]
        },
        {
          "output_type": "stream",
          "name": "stdout",
          "text": [
            "epoch: 64 /100\n",
            "time: 87.29 seconds\n",
            "train-loss: 0.28, train-acc: 90.27%\n",
            "valid-loss: 0.44, valid-acc: 85.35%\n",
            "\n"
          ]
        },
        {
          "output_type": "stream",
          "name": "stderr",
          "text": [
            "Train loss: 0.2590882480144501: : 124it [01:16,  1.61it/s]\n",
            "29it [00:09,  2.93it/s]\n"
          ]
        },
        {
          "output_type": "stream",
          "name": "stdout",
          "text": [
            "epoch: 65 /100\n",
            "time: 86.76 seconds\n",
            "train-loss: 0.26, train-acc: 91.08%\n",
            "valid-loss: 0.40, valid-acc: 85.79%\n",
            "\n"
          ]
        },
        {
          "output_type": "stream",
          "name": "stderr",
          "text": [
            "Train loss: 0.2739529609680176: : 124it [01:16,  1.62it/s]\n",
            "29it [00:10,  2.89it/s]\n"
          ]
        },
        {
          "output_type": "stream",
          "name": "stdout",
          "text": [
            "epoch: 66 /100\n",
            "time: 86.74 seconds\n",
            "train-loss: 0.26, train-acc: 91.03%\n",
            "valid-loss: 0.43, valid-acc: 85.79%\n",
            "\n"
          ]
        },
        {
          "output_type": "stream",
          "name": "stderr",
          "text": [
            "Train loss: 0.31466659903526306: : 124it [01:16,  1.63it/s]\n",
            "29it [00:09,  2.92it/s]\n"
          ]
        },
        {
          "output_type": "stream",
          "name": "stdout",
          "text": [
            "epoch: 67 /100\n",
            "time: 86.00 seconds\n",
            "train-loss: 0.26, train-acc: 91.33%\n",
            "valid-loss: 0.43, valid-acc: 83.92%\n",
            "\n"
          ]
        },
        {
          "output_type": "stream",
          "name": "stderr",
          "text": [
            "Train loss: 0.1729642003774643: : 124it [01:16,  1.63it/s]\n",
            "29it [00:09,  2.92it/s]\n"
          ]
        },
        {
          "output_type": "stream",
          "name": "stdout",
          "text": [
            "epoch: 68 /100\n",
            "time: 86.24 seconds\n",
            "train-loss: 0.26, train-acc: 91.33%\n",
            "valid-loss: 0.43, valid-acc: 85.46%\n",
            "\n"
          ]
        },
        {
          "output_type": "stream",
          "name": "stderr",
          "text": [
            "Train loss: 0.14665880799293518: : 124it [01:16,  1.63it/s]\n",
            "29it [00:09,  2.93it/s]\n"
          ]
        },
        {
          "output_type": "stream",
          "name": "stdout",
          "text": [
            "epoch: 69 /100\n",
            "time: 85.98 seconds\n",
            "train-loss: 0.27, train-acc: 91.43%\n",
            "valid-loss: 0.42, valid-acc: 85.35%\n",
            "\n"
          ]
        },
        {
          "output_type": "stream",
          "name": "stderr",
          "text": [
            "Train loss: 0.11541660130023956: : 124it [01:15,  1.63it/s]\n",
            "29it [00:09,  2.92it/s]\n"
          ]
        },
        {
          "output_type": "stream",
          "name": "stdout",
          "text": [
            "epoch: 70 /100\n",
            "time: 85.84 seconds\n",
            "train-loss: 0.26, train-acc: 90.60%\n",
            "valid-loss: 0.44, valid-acc: 84.36%\n",
            "\n"
          ]
        },
        {
          "output_type": "stream",
          "name": "stderr",
          "text": [
            "Train loss: 0.6454361081123352: : 124it [01:16,  1.63it/s]\n",
            "29it [00:09,  2.91it/s]\n"
          ]
        },
        {
          "output_type": "stream",
          "name": "stdout",
          "text": [
            "epoch: 71 /100\n",
            "time: 86.17 seconds\n",
            "train-loss: 0.26, train-acc: 91.18%\n",
            "valid-loss: 0.41, valid-acc: 85.57%\n",
            "\n"
          ]
        },
        {
          "output_type": "stream",
          "name": "stderr",
          "text": [
            "Train loss: 0.323098361492157: : 124it [01:15,  1.64it/s]\n",
            "29it [00:09,  2.96it/s]\n"
          ]
        },
        {
          "output_type": "stream",
          "name": "stdout",
          "text": [
            "epoch: 72 /100\n",
            "time: 85.52 seconds\n",
            "train-loss: 0.27, train-acc: 90.75%\n",
            "valid-loss: 0.45, valid-acc: 85.57%\n",
            "\n"
          ]
        },
        {
          "output_type": "stream",
          "name": "stderr",
          "text": [
            "Train loss: 0.5787005424499512: : 124it [01:16,  1.63it/s]\n",
            "29it [00:09,  2.93it/s]\n"
          ]
        },
        {
          "output_type": "stream",
          "name": "stdout",
          "text": [
            "epoch: 73 /100\n",
            "time: 85.97 seconds\n",
            "train-loss: 0.26, train-acc: 91.03%\n",
            "valid-loss: 0.43, valid-acc: 84.25%\n",
            "\n"
          ]
        },
        {
          "output_type": "stream",
          "name": "stderr",
          "text": [
            "Train loss: 0.1646697223186493: : 124it [01:16,  1.63it/s]\n",
            "29it [00:09,  2.91it/s]\n"
          ]
        },
        {
          "output_type": "stream",
          "name": "stdout",
          "text": [
            "epoch: 74 /100\n",
            "time: 86.08 seconds\n",
            "train-loss: 0.25, train-acc: 91.18%\n",
            "valid-loss: 0.42, valid-acc: 85.24%\n",
            "\n"
          ]
        },
        {
          "output_type": "stream",
          "name": "stderr",
          "text": [
            "Train loss: 0.33881860971450806: : 124it [01:16,  1.62it/s]\n",
            "29it [00:09,  2.93it/s]\n"
          ]
        },
        {
          "output_type": "stream",
          "name": "stdout",
          "text": [
            "epoch: 75 /100\n",
            "time: 86.39 seconds\n",
            "train-loss: 0.26, train-acc: 90.90%\n",
            "valid-loss: 0.41, valid-acc: 85.79%\n",
            "\n"
          ]
        },
        {
          "output_type": "stream",
          "name": "stderr",
          "text": [
            "Train loss: 0.07442126423120499: : 124it [01:16,  1.63it/s]\n",
            "29it [00:09,  2.94it/s]\n"
          ]
        },
        {
          "output_type": "stream",
          "name": "stdout",
          "text": [
            "epoch: 76 /100\n",
            "time: 85.97 seconds\n",
            "train-loss: 0.25, train-acc: 91.36%\n",
            "valid-loss: 0.45, valid-acc: 84.58%\n",
            "\n"
          ]
        },
        {
          "output_type": "stream",
          "name": "stderr",
          "text": [
            "Train loss: 0.19238020479679108: : 124it [01:15,  1.63it/s]\n",
            "29it [00:09,  2.95it/s]\n"
          ]
        },
        {
          "output_type": "stream",
          "name": "stdout",
          "text": [
            "epoch: 77 /100\n",
            "time: 85.75 seconds\n",
            "train-loss: 0.24, train-acc: 91.61%\n",
            "valid-loss: 0.40, valid-acc: 86.56%\n",
            "\n"
          ]
        },
        {
          "output_type": "stream",
          "name": "stderr",
          "text": [
            "Train loss: 0.13011987507343292: : 124it [01:16,  1.63it/s]\n",
            "29it [00:09,  2.90it/s]\n"
          ]
        },
        {
          "output_type": "stream",
          "name": "stdout",
          "text": [
            "epoch: 78 /100\n",
            "time: 86.25 seconds\n",
            "train-loss: 0.25, train-acc: 91.43%\n",
            "valid-loss: 0.41, valid-acc: 85.79%\n",
            "\n"
          ]
        },
        {
          "output_type": "stream",
          "name": "stderr",
          "text": [
            "Train loss: 0.1610882431268692: : 124it [01:16,  1.63it/s]\n",
            "29it [00:10,  2.89it/s]\n"
          ]
        },
        {
          "output_type": "stream",
          "name": "stdout",
          "text": [
            "epoch: 79 /100\n",
            "time: 86.19 seconds\n",
            "train-loss: 0.25, train-acc: 91.66%\n",
            "valid-loss: 0.41, valid-acc: 85.79%\n",
            "\n"
          ]
        },
        {
          "output_type": "stream",
          "name": "stderr",
          "text": [
            "Train loss: 0.2930763065814972: : 124it [01:16,  1.63it/s]\n",
            "29it [00:10,  2.89it/s]\n"
          ]
        },
        {
          "output_type": "stream",
          "name": "stdout",
          "text": [
            "epoch: 80 /100\n",
            "time: 86.21 seconds\n",
            "train-loss: 0.24, train-acc: 91.91%\n",
            "valid-loss: 0.42, valid-acc: 85.13%\n",
            "\n"
          ]
        },
        {
          "output_type": "stream",
          "name": "stderr",
          "text": [
            "Train loss: 0.10322428494691849: : 124it [01:16,  1.63it/s]\n",
            "29it [00:09,  2.92it/s]\n"
          ]
        },
        {
          "output_type": "stream",
          "name": "stdout",
          "text": [
            "epoch: 81 /100\n",
            "time: 86.13 seconds\n",
            "train-loss: 0.24, train-acc: 91.73%\n",
            "valid-loss: 0.38, valid-acc: 86.89%\n",
            "\n"
          ]
        },
        {
          "output_type": "stream",
          "name": "stderr",
          "text": [
            "Train loss: 0.11952853202819824: : 124it [01:15,  1.63it/s]\n",
            "29it [00:09,  2.93it/s]\n"
          ]
        },
        {
          "output_type": "stream",
          "name": "stdout",
          "text": [
            "epoch: 82 /100\n",
            "time: 85.83 seconds\n",
            "train-loss: 0.24, train-acc: 91.38%\n",
            "valid-loss: 0.41, valid-acc: 86.56%\n",
            "\n"
          ]
        },
        {
          "output_type": "stream",
          "name": "stderr",
          "text": [
            "Train loss: 0.21796667575836182: : 124it [01:16,  1.63it/s]\n",
            "29it [00:09,  2.92it/s]\n"
          ]
        },
        {
          "output_type": "stream",
          "name": "stdout",
          "text": [
            "epoch: 83 /100\n",
            "time: 86.05 seconds\n",
            "train-loss: 0.24, train-acc: 91.53%\n",
            "valid-loss: 0.42, valid-acc: 85.68%\n",
            "\n"
          ]
        },
        {
          "output_type": "stream",
          "name": "stderr",
          "text": [
            "Train loss: 0.16068416833877563: : 124it [01:16,  1.63it/s]\n",
            "29it [00:10,  2.89it/s]\n"
          ]
        },
        {
          "output_type": "stream",
          "name": "stdout",
          "text": [
            "epoch: 84 /100\n",
            "time: 86.11 seconds\n",
            "train-loss: 0.22, train-acc: 92.14%\n",
            "valid-loss: 0.42, valid-acc: 85.68%\n",
            "\n"
          ]
        },
        {
          "output_type": "stream",
          "name": "stderr",
          "text": [
            "Train loss: 0.14767420291900635: : 124it [01:16,  1.63it/s]\n",
            "29it [00:09,  2.90it/s]\n"
          ]
        },
        {
          "output_type": "stream",
          "name": "stdout",
          "text": [
            "epoch: 85 /100\n",
            "time: 86.10 seconds\n",
            "train-loss: 0.23, train-acc: 91.89%\n",
            "valid-loss: 0.41, valid-acc: 85.68%\n",
            "\n"
          ]
        },
        {
          "output_type": "stream",
          "name": "stderr",
          "text": [
            "Train loss: 0.2713906764984131: : 124it [01:16,  1.62it/s]\n",
            "29it [00:09,  2.92it/s]\n"
          ]
        },
        {
          "output_type": "stream",
          "name": "stdout",
          "text": [
            "epoch: 86 /100\n",
            "time: 86.29 seconds\n",
            "train-loss: 0.23, train-acc: 92.39%\n",
            "valid-loss: 0.43, valid-acc: 86.67%\n",
            "\n"
          ]
        },
        {
          "output_type": "stream",
          "name": "stderr",
          "text": [
            "Train loss: 0.18436843156814575: : 124it [01:16,  1.62it/s]\n",
            "29it [00:10,  2.90it/s]\n"
          ]
        },
        {
          "output_type": "stream",
          "name": "stdout",
          "text": [
            "epoch: 87 /100\n",
            "time: 86.60 seconds\n",
            "train-loss: 0.25, train-acc: 91.33%\n",
            "valid-loss: 0.40, valid-acc: 86.23%\n",
            "\n"
          ]
        },
        {
          "output_type": "stream",
          "name": "stderr",
          "text": [
            "Train loss: 0.12452452629804611: : 124it [01:16,  1.62it/s]\n",
            "29it [00:10,  2.89it/s]\n"
          ]
        },
        {
          "output_type": "stream",
          "name": "stdout",
          "text": [
            "epoch: 88 /100\n",
            "time: 86.65 seconds\n",
            "train-loss: 0.23, train-acc: 91.68%\n",
            "valid-loss: 0.43, valid-acc: 86.34%\n",
            "\n"
          ]
        },
        {
          "output_type": "stream",
          "name": "stderr",
          "text": [
            "Train loss: 0.12213896214962006: : 124it [01:17,  1.61it/s]\n",
            "29it [00:10,  2.90it/s]\n"
          ]
        },
        {
          "output_type": "stream",
          "name": "stdout",
          "text": [
            "epoch: 89 /100\n",
            "time: 87.05 seconds\n",
            "train-loss: 0.23, train-acc: 92.09%\n",
            "valid-loss: 0.39, valid-acc: 86.89%\n",
            "\n"
          ]
        },
        {
          "output_type": "stream",
          "name": "stderr",
          "text": [
            "Train loss: 0.2754778563976288: : 124it [01:16,  1.62it/s]\n",
            "29it [00:10,  2.89it/s]\n"
          ]
        },
        {
          "output_type": "stream",
          "name": "stdout",
          "text": [
            "epoch: 90 /100\n",
            "time: 86.52 seconds\n",
            "train-loss: 0.23, train-acc: 91.89%\n",
            "valid-loss: 0.40, valid-acc: 85.90%\n",
            "\n"
          ]
        },
        {
          "output_type": "stream",
          "name": "stderr",
          "text": [
            "Train loss: 0.3072134554386139: : 124it [01:16,  1.61it/s]\n",
            "29it [00:10,  2.87it/s]\n"
          ]
        },
        {
          "output_type": "stream",
          "name": "stdout",
          "text": [
            "epoch: 91 /100\n",
            "time: 86.95 seconds\n",
            "train-loss: 0.22, train-acc: 92.14%\n",
            "valid-loss: 0.43, valid-acc: 84.25%\n",
            "\n"
          ]
        },
        {
          "output_type": "stream",
          "name": "stderr",
          "text": [
            "Train loss: 0.21387775242328644: : 124it [01:16,  1.61it/s]\n",
            "29it [00:10,  2.87it/s]\n"
          ]
        },
        {
          "output_type": "stream",
          "name": "stdout",
          "text": [
            "epoch: 92 /100\n",
            "time: 87.11 seconds\n",
            "train-loss: 0.22, train-acc: 92.14%\n",
            "valid-loss: 0.43, valid-acc: 85.46%\n",
            "\n"
          ]
        },
        {
          "output_type": "stream",
          "name": "stderr",
          "text": [
            "Train loss: 0.29911088943481445: : 124it [01:17,  1.61it/s]\n",
            "29it [00:10,  2.87it/s]\n"
          ]
        },
        {
          "output_type": "stream",
          "name": "stdout",
          "text": [
            "epoch: 93 /100\n",
            "time: 87.16 seconds\n",
            "train-loss: 0.22, train-acc: 91.91%\n",
            "valid-loss: 0.42, valid-acc: 85.35%\n",
            "\n"
          ]
        },
        {
          "output_type": "stream",
          "name": "stderr",
          "text": [
            "Train loss: 0.3089408874511719: : 124it [01:16,  1.62it/s]\n",
            "29it [00:10,  2.86it/s]\n"
          ]
        },
        {
          "output_type": "stream",
          "name": "stdout",
          "text": [
            "epoch: 94 /100\n",
            "time: 86.74 seconds\n",
            "train-loss: 0.22, train-acc: 91.81%\n",
            "valid-loss: 0.42, valid-acc: 86.12%\n",
            "\n"
          ]
        },
        {
          "output_type": "stream",
          "name": "stderr",
          "text": [
            "Train loss: 0.17871859669685364: : 124it [01:16,  1.62it/s]\n",
            "29it [00:10,  2.86it/s]\n"
          ]
        },
        {
          "output_type": "stream",
          "name": "stdout",
          "text": [
            "epoch: 95 /100\n",
            "time: 86.82 seconds\n",
            "train-loss: 0.23, train-acc: 91.63%\n",
            "valid-loss: 0.41, valid-acc: 86.45%\n",
            "\n"
          ]
        },
        {
          "output_type": "stream",
          "name": "stderr",
          "text": [
            "Train loss: 0.25593844056129456: : 124it [01:17,  1.61it/s]\n",
            "29it [00:10,  2.87it/s]\n"
          ]
        },
        {
          "output_type": "stream",
          "name": "stdout",
          "text": [
            "epoch: 96 /100\n",
            "time: 87.34 seconds\n",
            "train-loss: 0.21, train-acc: 92.54%\n",
            "valid-loss: 0.41, valid-acc: 85.46%\n",
            "\n"
          ]
        },
        {
          "output_type": "stream",
          "name": "stderr",
          "text": [
            "Train loss: 0.09528379887342453: : 124it [01:18,  1.59it/s]\n",
            "29it [00:09,  2.90it/s]\n"
          ]
        },
        {
          "output_type": "stream",
          "name": "stdout",
          "text": [
            "epoch: 97 /100\n",
            "time: 88.12 seconds\n",
            "train-loss: 0.22, train-acc: 91.83%\n",
            "valid-loss: 0.40, valid-acc: 87.44%\n",
            "\n"
          ]
        },
        {
          "output_type": "stream",
          "name": "stderr",
          "text": [
            "Train loss: 0.3894387185573578: : 124it [01:16,  1.61it/s]\n",
            "29it [00:10,  2.87it/s]\n"
          ]
        },
        {
          "output_type": "stream",
          "name": "stdout",
          "text": [
            "epoch: 98 /100\n",
            "time: 86.99 seconds\n",
            "train-loss: 0.23, train-acc: 91.96%\n",
            "valid-loss: 0.39, valid-acc: 87.33%\n",
            "\n"
          ]
        },
        {
          "output_type": "stream",
          "name": "stderr",
          "text": [
            "Train loss: 0.15327413380146027: : 124it [01:16,  1.62it/s]\n",
            "29it [00:10,  2.90it/s]\n"
          ]
        },
        {
          "output_type": "stream",
          "name": "stdout",
          "text": [
            "epoch: 99 /100\n",
            "time: 86.76 seconds\n",
            "train-loss: 0.22, train-acc: 92.79%\n",
            "valid-loss: 0.42, valid-acc: 86.12%\n",
            "\n"
          ]
        },
        {
          "output_type": "stream",
          "name": "stderr",
          "text": [
            "Train loss: 0.14670400321483612: : 124it [01:16,  1.62it/s]\n",
            "29it [00:10,  2.88it/s]"
          ]
        },
        {
          "output_type": "stream",
          "name": "stdout",
          "text": [
            "epoch:100 /100\n",
            "time: 86.75 seconds\n",
            "train-loss: 0.22, train-acc: 92.16%\n",
            "valid-loss: 0.41, valid-acc: 86.34%\n",
            "\n"
          ]
        },
        {
          "output_type": "stream",
          "name": "stderr",
          "text": [
            "\n"
          ]
        }
      ]
    },
    {
      "cell_type": "code",
      "source": [
        "def smooth(x, w=0):\n",
        "    last = x[0]\n",
        "    smoothed = []\n",
        "    for point in x:\n",
        "      smoothed_val = w * last + (1 - w) * point\n",
        "      smoothed.append(smoothed_val)\n",
        "      ast = smoothed_val\n",
        "          \n",
        "    return smoothed\n",
        "\n",
        "history2 = trainer2.getHistory()\n",
        "trainer2.showResults()"
      ],
      "metadata": {
        "id": "iQBg4PkSyFYD",
        "outputId": "364996fd-fc67-49cb-89eb-4e5e62a6bf00",
        "colab": {
          "base_uri": "https://localhost:8080/",
          "height": 314
        }
      },
      "execution_count": null,
      "outputs": [
        {
          "output_type": "display_data",
          "data": {
            "text/plain": [
              "<Figure size 1008x288 with 2 Axes>"
            ],
            "image/png": "[encoded data removed]"
          },
          "metadata": {}
        }
      ]
    },
    {
      "cell_type": "code",
      "source": [
        "trainer2.generateConfusionMatrix()"
      ],
      "metadata": {
        "id": "C_0cmlsu3sg2",
        "outputId": "975e1d5e-9b72-4a1e-84f2-303ed0236ad0",
        "colab": {
          "base_uri": "https://localhost:8080/",
          "height": 491
        }
      },
      "execution_count": null,
      "outputs": [
        {
          "output_type": "display_data",
          "data": {
            "text/plain": [
              "<Figure size 864x504 with 1 Axes>"
            ],
            "image/png": "[encoded data removed]"
          },
          "metadata": {}
        }
      ]
    },
    {
      "cell_type": "code",
      "source": [
        "trainer2.missing_data_test()"
      ],
      "metadata": {
        "colab": {
          "base_uri": "https://localhost:8080/",
          "height": 319
        },
        "id": "SaU97bMwNNmm",
        "outputId": "25b83b9a-32e3-457d-cdaa-4893284a6478"
      },
      "execution_count": null,
      "outputs": [
        {
          "output_type": "display_data",
          "data": {
            "text/plain": [
              "<Figure size 576x288 with 1 Axes>"
            ],
            "image/png": "[encoded data removed]"
          },
          "metadata": {}
        }
      ]
    },
    {
      "cell_type": "markdown",
      "source": [
        "# DMPVoxNet (double-max-pooling VoxNet)"
      ],
      "metadata": {
        "id": "_nmRSyb7g_3-"
      }
    },
    {
      "cell_type": "code",
      "source": [
        "from collections import OrderedDict\n",
        "class DMPVoxNet(nn.Module):\n",
        "    def __init__(self):\n",
        "        super(DMPVoxNet, self).__init__()\n",
        "        n_classes = 10\n",
        "        input_shape = (32,32,32)\n",
        "        self.feat = torch.nn.Sequential(OrderedDict([\n",
        "            ('conv3d_1', torch.nn.Conv3d(in_channels=1, out_channels=32, kernel_size=5, stride=2)),\n",
        "            ('relu1', torch.nn.ReLU()),\n",
        "            ('drop1', torch.nn.Dropout(p=0.2)),\n",
        "            ('conv3d_2', torch.nn.Conv3d(in_channels=32, out_channels=32, kernel_size=3)),\n",
        "            ('relu2', torch.nn.ReLU()),\n",
        "            ('pool2', torch.nn.MaxPool3d(2)),\n",
        "            ('drop2', torch.nn.Dropout(p=0.3)),\n",
        "            ('conv3d_2', torch.nn.Conv3d(in_channels=32, out_channels=128, kernel_size=3)),\n",
        "            ('relu2', torch.nn.ReLU()),\n",
        "            ('pool2', torch.nn.MaxPool3d(2)),\n",
        "            ('drop2', torch.nn.Dropout(p=0.3))\n",
        "        ]))\n",
        "        \n",
        "        x = self.feat(torch.autograd.Variable(torch.rand((1, 1) + input_shape)))\n",
        "        dim_feat = 1\n",
        "        for n in x.size()[1:]:\n",
        "            dim_feat *= n\n",
        "\n",
        "        self.mlp = torch.nn.Sequential(OrderedDict([\n",
        "            ('fc1', torch.nn.Linear(dim_feat, 128)),\n",
        "            ('relu1', torch.nn.ReLU()),\n",
        "            ('drop3', torch.nn.Dropout(p=0.4)),\n",
        "            ('fc2', torch.nn.Linear(128, n_classes))\n",
        "        ]))\n",
        "\n",
        "        self.logsoftmax = nn.LogSoftmax(dim=1)\n",
        "\n",
        "    def forward(self, x):\n",
        "        x = self.feat(x)\n",
        "        x = x.view(x.size(0), -1)\n",
        "        x = self.mlp(x)\n",
        "        #return x\n",
        "        return self.logsoftmax(x)"
      ],
      "metadata": {
        "id": "iUmops89RNwb"
      },
      "execution_count": 10,
      "outputs": []
    },
    {
      "cell_type": "markdown",
      "source": [
        "**DMPVoxNet** training"
      ],
      "metadata": {
        "id": "3Dsd4G6CrcYT"
      }
    },
    {
      "cell_type": "code",
      "source": [
        "training_hyperparameters = {\n",
        "    \"learning_rate\": 0.1,\n",
        "    \"sgd_momentum\": 0,\n",
        "    \"data_size\": 32,\n",
        "    \"epochs\": 100,\n",
        "    \"lr_scheduler_step\": 16,\n",
        "    \"lr_scheduler_gamma\": 0.7,\n",
        "    \"train_batch_size\": 32,\n",
        "    \"valid_batch_size\": 32,\n",
        "    \"model\" : 'LightNet'\n",
        "}    \n",
        "\n",
        "trainer3 = VoxNet_Trainer(training_hyperparameters)\n",
        "trainer3.train()"
      ],
      "metadata": {
        "id": "SGl_plCpmEmo",
        "outputId": "6baa0b08-3990-4b72-9744-d0eb1cfe1f1d",
        "colab": {
          "base_uri": "https://localhost:8080/"
        }
      },
      "execution_count": 11,
      "outputs": [
        {
          "output_type": "stream",
          "name": "stderr",
          "text": [
            "/usr/local/lib/python3.8/dist-packages/torch/optim/lr_scheduler.py:138: UserWarning: Detected call of `lr_scheduler.step()` before `optimizer.step()`. In PyTorch 1.1.0 and later, you should call them in the opposite order: `optimizer.step()` before `lr_scheduler.step()`.  Failure to do this will result in PyTorch skipping the first value of the learning rate schedule. See more details at https://pytorch.org/docs/stable/optim.html#how-to-adjust-learning-rate\n",
            "  warnings.warn(\"Detected call of `lr_scheduler.step()` before `optimizer.step()`. \"\n"
          ]
        },
        {
          "output_type": "stream",
          "name": "stdout",
          "text": [
            "model LightNet was choosen\n",
            "124.71875\n"
          ]
        },
        {
          "output_type": "stream",
          "name": "stderr",
          "text": [
            "Train loss: 0.9189271926879883: : 124it [01:49,  1.13it/s]\n",
            "29it [00:10,  2.83it/s]\n"
          ]
        },
        {
          "output_type": "stream",
          "name": "stdout",
          "text": [
            "epoch:  1 /100\n",
            "time: 119.61 seconds\n",
            "train-loss: 1.61, train-acc: 44.93%\n",
            "valid-loss: 1.53, valid-acc: 43.50%\n",
            "\n"
          ]
        },
        {
          "output_type": "stream",
          "name": "stderr",
          "text": [
            "Train loss: 1.1616851091384888: : 124it [01:49,  1.14it/s]\n",
            "29it [00:13,  2.22it/s]\n"
          ]
        },
        {
          "output_type": "stream",
          "name": "stdout",
          "text": [
            "epoch:  2 /100\n",
            "time: 122.18 seconds\n",
            "train-loss: 1.18, train-acc: 58.92%\n",
            "valid-loss: 1.27, valid-acc: 56.39%\n",
            "\n"
          ]
        },
        {
          "output_type": "stream",
          "name": "stderr",
          "text": [
            "Train loss: 0.9366999268531799: : 124it [01:47,  1.15it/s]\n",
            "29it [00:10,  2.84it/s]\n"
          ]
        },
        {
          "output_type": "stream",
          "name": "stdout",
          "text": [
            "epoch:  3 /100\n",
            "time: 118.07 seconds\n",
            "train-loss: 0.98, train-acc: 65.85%\n",
            "valid-loss: 0.98, valid-acc: 64.76%\n",
            "\n"
          ]
        },
        {
          "output_type": "stream",
          "name": "stderr",
          "text": [
            "Train loss: 0.6858680248260498: : 124it [01:48,  1.15it/s]\n",
            "29it [00:10,  2.65it/s]\n"
          ]
        },
        {
          "output_type": "stream",
          "name": "stdout",
          "text": [
            "epoch:  4 /100\n",
            "time: 119.01 seconds\n",
            "train-loss: 0.84, train-acc: 70.89%\n",
            "valid-loss: 0.89, valid-acc: 68.06%\n",
            "\n"
          ]
        },
        {
          "output_type": "stream",
          "name": "stderr",
          "text": [
            "Train loss: 0.8790099024772644: : 124it [01:47,  1.15it/s]\n",
            "29it [00:10,  2.90it/s]\n"
          ]
        },
        {
          "output_type": "stream",
          "name": "stdout",
          "text": [
            "epoch:  5 /100\n",
            "time: 117.68 seconds\n",
            "train-loss: 0.76, train-acc: 74.07%\n",
            "valid-loss: 0.80, valid-acc: 71.37%\n",
            "\n"
          ]
        },
        {
          "output_type": "stream",
          "name": "stderr",
          "text": [
            "Train loss: 0.42607033252716064: : 124it [01:47,  1.15it/s]\n",
            "29it [00:10,  2.87it/s]\n"
          ]
        },
        {
          "output_type": "stream",
          "name": "stdout",
          "text": [
            "epoch:  6 /100\n",
            "time: 117.74 seconds\n",
            "train-loss: 0.69, train-acc: 75.93%\n",
            "valid-loss: 0.73, valid-acc: 74.12%\n",
            "\n"
          ]
        },
        {
          "output_type": "stream",
          "name": "stderr",
          "text": [
            "Train loss: 0.6742552518844604: : 124it [01:48,  1.14it/s]\n",
            "29it [00:10,  2.80it/s]\n"
          ]
        },
        {
          "output_type": "stream",
          "name": "stdout",
          "text": [
            "epoch:  7 /100\n",
            "time: 118.87 seconds\n",
            "train-loss: 0.64, train-acc: 78.53%\n",
            "valid-loss: 0.66, valid-acc: 74.78%\n",
            "\n"
          ]
        },
        {
          "output_type": "stream",
          "name": "stderr",
          "text": [
            "Train loss: 0.9203929305076599: : 124it [01:48,  1.15it/s]\n",
            "29it [00:10,  2.83it/s]\n"
          ]
        },
        {
          "output_type": "stream",
          "name": "stdout",
          "text": [
            "epoch:  8 /100\n",
            "time: 118.27 seconds\n",
            "train-loss: 0.61, train-acc: 79.71%\n",
            "valid-loss: 0.71, valid-acc: 75.11%\n",
            "\n"
          ]
        },
        {
          "output_type": "stream",
          "name": "stderr",
          "text": [
            "Train loss: 0.591471791267395: : 124it [01:48,  1.14it/s]\n",
            "29it [00:10,  2.85it/s]\n"
          ]
        },
        {
          "output_type": "stream",
          "name": "stdout",
          "text": [
            "epoch:  9 /100\n",
            "time: 118.82 seconds\n",
            "train-loss: 0.58, train-acc: 80.49%\n",
            "valid-loss: 0.63, valid-acc: 78.41%\n",
            "\n"
          ]
        },
        {
          "output_type": "stream",
          "name": "stderr",
          "text": [
            "Train loss: 0.3905385136604309: : 124it [01:47,  1.15it/s]\n",
            "29it [00:10,  2.86it/s]\n"
          ]
        },
        {
          "output_type": "stream",
          "name": "stdout",
          "text": [
            "epoch: 10 /100\n",
            "time: 117.95 seconds\n",
            "train-loss: 0.55, train-acc: 81.75%\n",
            "valid-loss: 0.64, valid-acc: 76.32%\n",
            "\n"
          ]
        },
        {
          "output_type": "stream",
          "name": "stderr",
          "text": [
            "Train loss: 0.4879913330078125: : 124it [01:48,  1.14it/s]\n",
            "29it [00:10,  2.85it/s]\n"
          ]
        },
        {
          "output_type": "stream",
          "name": "stdout",
          "text": [
            "epoch: 11 /100\n",
            "time: 118.54 seconds\n",
            "train-loss: 0.49, train-acc: 83.62%\n",
            "valid-loss: 0.65, valid-acc: 78.74%\n",
            "\n"
          ]
        },
        {
          "output_type": "stream",
          "name": "stderr",
          "text": [
            "Train loss: 0.6662464141845703: : 124it [01:48,  1.15it/s]\n",
            "29it [00:10,  2.86it/s]\n"
          ]
        },
        {
          "output_type": "stream",
          "name": "stdout",
          "text": [
            "epoch: 12 /100\n",
            "time: 118.18 seconds\n",
            "train-loss: 0.49, train-acc: 83.80%\n",
            "valid-loss: 0.61, valid-acc: 78.19%\n",
            "\n"
          ]
        },
        {
          "output_type": "stream",
          "name": "stderr",
          "text": [
            "Train loss: 0.5287050604820251: : 124it [01:48,  1.14it/s]\n",
            "29it [00:10,  2.87it/s]\n"
          ]
        },
        {
          "output_type": "stream",
          "name": "stdout",
          "text": [
            "epoch: 13 /100\n",
            "time: 118.72 seconds\n",
            "train-loss: 0.46, train-acc: 84.63%\n",
            "valid-loss: 0.62, valid-acc: 78.52%\n",
            "\n"
          ]
        },
        {
          "output_type": "stream",
          "name": "stderr",
          "text": [
            "Train loss: 0.2702490985393524: : 124it [01:47,  1.15it/s]\n",
            "29it [00:10,  2.88it/s]\n"
          ]
        },
        {
          "output_type": "stream",
          "name": "stdout",
          "text": [
            "epoch: 14 /100\n",
            "time: 118.05 seconds\n",
            "train-loss: 0.44, train-acc: 85.06%\n",
            "valid-loss: 0.62, valid-acc: 80.95%\n",
            "\n"
          ]
        },
        {
          "output_type": "stream",
          "name": "stderr",
          "text": [
            "Train loss: 0.5565543174743652: : 124it [01:48,  1.15it/s]\n",
            "29it [00:10,  2.85it/s]\n"
          ]
        },
        {
          "output_type": "stream",
          "name": "stdout",
          "text": [
            "epoch: 15 /100\n",
            "time: 118.40 seconds\n",
            "train-loss: 0.43, train-acc: 85.38%\n",
            "valid-loss: 0.56, valid-acc: 81.17%\n",
            "\n"
          ]
        },
        {
          "output_type": "stream",
          "name": "stderr",
          "text": [
            "Train loss: 0.5367357134819031: : 124it [01:48,  1.15it/s]\n",
            "29it [00:10,  2.83it/s]\n"
          ]
        },
        {
          "output_type": "stream",
          "name": "stdout",
          "text": [
            "epoch: 16 /100\n",
            "time: 118.37 seconds\n",
            "train-loss: 0.39, train-acc: 86.82%\n",
            "valid-loss: 0.57, valid-acc: 80.62%\n",
            "\n"
          ]
        },
        {
          "output_type": "stream",
          "name": "stderr",
          "text": [
            "Train loss: 0.5261130332946777: : 124it [01:48,  1.15it/s]\n",
            "29it [00:10,  2.85it/s]\n"
          ]
        },
        {
          "output_type": "stream",
          "name": "stdout",
          "text": [
            "epoch: 17 /100\n",
            "time: 118.39 seconds\n",
            "train-loss: 0.38, train-acc: 87.60%\n",
            "valid-loss: 0.56, valid-acc: 81.06%\n",
            "\n"
          ]
        },
        {
          "output_type": "stream",
          "name": "stderr",
          "text": [
            "Train loss: 0.23815758526325226: : 124it [01:47,  1.15it/s]\n",
            "29it [00:10,  2.78it/s]\n"
          ]
        },
        {
          "output_type": "stream",
          "name": "stdout",
          "text": [
            "epoch: 18 /100\n",
            "time: 118.31 seconds\n",
            "train-loss: 0.37, train-acc: 87.42%\n",
            "valid-loss: 0.52, valid-acc: 82.60%\n",
            "\n"
          ]
        },
        {
          "output_type": "stream",
          "name": "stderr",
          "text": [
            "Train loss: 0.26141974329948425: : 124it [01:47,  1.15it/s]\n",
            "29it [00:10,  2.65it/s]\n"
          ]
        },
        {
          "output_type": "stream",
          "name": "stdout",
          "text": [
            "epoch: 19 /100\n",
            "time: 118.73 seconds\n",
            "train-loss: 0.34, train-acc: 88.38%\n",
            "valid-loss: 0.51, valid-acc: 83.37%\n",
            "\n"
          ]
        },
        {
          "output_type": "stream",
          "name": "stderr",
          "text": [
            "Train loss: 0.36358731985092163: : 124it [01:47,  1.15it/s]\n",
            "29it [00:10,  2.80it/s]\n"
          ]
        },
        {
          "output_type": "stream",
          "name": "stdout",
          "text": [
            "epoch: 20 /100\n",
            "time: 118.11 seconds\n",
            "train-loss: 0.34, train-acc: 87.95%\n",
            "valid-loss: 0.50, valid-acc: 82.38%\n",
            "\n"
          ]
        },
        {
          "output_type": "stream",
          "name": "stderr",
          "text": [
            "Train loss: 0.16438335180282593: : 124it [01:47,  1.15it/s]\n",
            "29it [00:10,  2.88it/s]\n"
          ]
        },
        {
          "output_type": "stream",
          "name": "stdout",
          "text": [
            "epoch: 21 /100\n",
            "time: 118.02 seconds\n",
            "train-loss: 0.34, train-acc: 88.48%\n",
            "valid-loss: 0.50, valid-acc: 82.05%\n",
            "\n"
          ]
        },
        {
          "output_type": "stream",
          "name": "stderr",
          "text": [
            "Train loss: 0.24090565741062164: : 124it [01:48,  1.14it/s]\n",
            "29it [00:10,  2.83it/s]\n"
          ]
        },
        {
          "output_type": "stream",
          "name": "stdout",
          "text": [
            "epoch: 22 /100\n",
            "time: 119.00 seconds\n",
            "train-loss: 0.32, train-acc: 89.24%\n",
            "valid-loss: 0.51, valid-acc: 81.94%\n",
            "\n"
          ]
        },
        {
          "output_type": "stream",
          "name": "stderr",
          "text": [
            "Train loss: 0.12154103815555573: : 124it [01:48,  1.15it/s]\n",
            "29it [00:10,  2.86it/s]\n"
          ]
        },
        {
          "output_type": "stream",
          "name": "stdout",
          "text": [
            "epoch: 23 /100\n",
            "time: 118.23 seconds\n",
            "train-loss: 0.31, train-acc: 89.42%\n",
            "valid-loss: 0.53, valid-acc: 83.15%\n",
            "\n"
          ]
        },
        {
          "output_type": "stream",
          "name": "stderr",
          "text": [
            "Train loss: 0.12212663888931274: : 124it [01:48,  1.14it/s]\n",
            "29it [00:10,  2.86it/s]\n"
          ]
        },
        {
          "output_type": "stream",
          "name": "stdout",
          "text": [
            "epoch: 24 /100\n",
            "time: 118.75 seconds\n",
            "train-loss: 0.30, train-acc: 89.82%\n",
            "valid-loss: 0.53, valid-acc: 82.82%\n",
            "\n"
          ]
        },
        {
          "output_type": "stream",
          "name": "stderr",
          "text": [
            "Train loss: 0.3007546365261078: : 124it [01:48,  1.15it/s]\n",
            "29it [00:10,  2.86it/s]\n"
          ]
        },
        {
          "output_type": "stream",
          "name": "stdout",
          "text": [
            "epoch: 25 /100\n",
            "time: 118.34 seconds\n",
            "train-loss: 0.31, train-acc: 89.36%\n",
            "valid-loss: 0.48, valid-acc: 84.58%\n",
            "\n"
          ]
        },
        {
          "output_type": "stream",
          "name": "stderr",
          "text": [
            "Train loss: 0.2236444503068924: : 124it [01:48,  1.14it/s]\n",
            "29it [00:10,  2.88it/s]\n"
          ]
        },
        {
          "output_type": "stream",
          "name": "stdout",
          "text": [
            "epoch: 26 /100\n",
            "time: 118.87 seconds\n",
            "train-loss: 0.29, train-acc: 89.72%\n",
            "valid-loss: 0.45, valid-acc: 84.47%\n",
            "\n"
          ]
        },
        {
          "output_type": "stream",
          "name": "stderr",
          "text": [
            "Train loss: 0.3895202875137329: : 124it [01:48,  1.15it/s]\n",
            "29it [00:10,  2.87it/s]\n"
          ]
        },
        {
          "output_type": "stream",
          "name": "stdout",
          "text": [
            "epoch: 27 /100\n",
            "time: 118.31 seconds\n",
            "train-loss: 0.28, train-acc: 90.32%\n",
            "valid-loss: 0.51, valid-acc: 83.15%\n",
            "\n"
          ]
        },
        {
          "output_type": "stream",
          "name": "stderr",
          "text": [
            "Train loss: 0.23359881341457367: : 124it [01:48,  1.14it/s]\n",
            "29it [00:10,  2.87it/s]\n"
          ]
        },
        {
          "output_type": "stream",
          "name": "stdout",
          "text": [
            "epoch: 28 /100\n",
            "time: 118.49 seconds\n",
            "train-loss: 0.28, train-acc: 90.65%\n",
            "valid-loss: 0.48, valid-acc: 84.47%\n",
            "\n"
          ]
        },
        {
          "output_type": "stream",
          "name": "stderr",
          "text": [
            "Train loss: 0.11019819974899292: : 124it [01:48,  1.15it/s]\n",
            "29it [00:10,  2.86it/s]\n"
          ]
        },
        {
          "output_type": "stream",
          "name": "stdout",
          "text": [
            "epoch: 29 /100\n",
            "time: 118.30 seconds\n",
            "train-loss: 0.28, train-acc: 90.20%\n",
            "valid-loss: 0.47, valid-acc: 84.25%\n",
            "\n"
          ]
        },
        {
          "output_type": "stream",
          "name": "stderr",
          "text": [
            "Train loss: 0.30732226371765137: : 124it [01:48,  1.14it/s]\n",
            "29it [00:10,  2.87it/s]\n"
          ]
        },
        {
          "output_type": "stream",
          "name": "stdout",
          "text": [
            "epoch: 30 /100\n",
            "time: 118.90 seconds\n",
            "train-loss: 0.28, train-acc: 89.79%\n",
            "valid-loss: 0.45, valid-acc: 83.92%\n",
            "\n"
          ]
        },
        {
          "output_type": "stream",
          "name": "stderr",
          "text": [
            "Train loss: 0.23165538907051086: : 124it [01:47,  1.15it/s]\n",
            "29it [00:10,  2.86it/s]\n"
          ]
        },
        {
          "output_type": "stream",
          "name": "stdout",
          "text": [
            "epoch: 31 /100\n",
            "time: 117.99 seconds\n",
            "train-loss: 0.26, train-acc: 90.98%\n",
            "valid-loss: 0.47, valid-acc: 84.47%\n",
            "\n"
          ]
        },
        {
          "output_type": "stream",
          "name": "stderr",
          "text": [
            "Train loss: 0.10519981384277344: : 124it [01:48,  1.14it/s]\n",
            "29it [00:10,  2.82it/s]\n"
          ]
        },
        {
          "output_type": "stream",
          "name": "stdout",
          "text": [
            "epoch: 32 /100\n",
            "time: 118.83 seconds\n",
            "train-loss: 0.24, train-acc: 91.78%\n",
            "valid-loss: 0.46, valid-acc: 84.47%\n",
            "\n"
          ]
        },
        {
          "output_type": "stream",
          "name": "stderr",
          "text": [
            "Train loss: 0.2560104727745056: : 124it [01:47,  1.15it/s]\n",
            "29it [00:10,  2.87it/s]\n"
          ]
        },
        {
          "output_type": "stream",
          "name": "stdout",
          "text": [
            "epoch: 33 /100\n",
            "time: 118.00 seconds\n",
            "train-loss: 0.24, train-acc: 91.76%\n",
            "valid-loss: 0.44, valid-acc: 84.36%\n",
            "\n"
          ]
        },
        {
          "output_type": "stream",
          "name": "stderr",
          "text": [
            "Train loss: 0.18633021414279938: : 124it [01:48,  1.14it/s]\n",
            "29it [00:10,  2.87it/s]\n"
          ]
        },
        {
          "output_type": "stream",
          "name": "stdout",
          "text": [
            "epoch: 34 /100\n",
            "time: 118.46 seconds\n",
            "train-loss: 0.22, train-acc: 92.04%\n",
            "valid-loss: 0.47, valid-acc: 84.47%\n",
            "\n"
          ]
        },
        {
          "output_type": "stream",
          "name": "stderr",
          "text": [
            "Train loss: 0.16911014914512634: : 124it [01:47,  1.15it/s]\n",
            "29it [00:10,  2.85it/s]\n"
          ]
        },
        {
          "output_type": "stream",
          "name": "stdout",
          "text": [
            "epoch: 35 /100\n",
            "time: 117.73 seconds\n",
            "train-loss: 0.22, train-acc: 92.36%\n",
            "valid-loss: 0.46, valid-acc: 84.47%\n",
            "\n"
          ]
        },
        {
          "output_type": "stream",
          "name": "stderr",
          "text": [
            "Train loss: 0.11647308617830276: : 124it [01:48,  1.15it/s]\n",
            "29it [00:10,  2.86it/s]\n"
          ]
        },
        {
          "output_type": "stream",
          "name": "stdout",
          "text": [
            "epoch: 36 /100\n",
            "time: 118.26 seconds\n",
            "train-loss: 0.23, train-acc: 91.71%\n",
            "valid-loss: 0.46, valid-acc: 84.47%\n",
            "\n"
          ]
        },
        {
          "output_type": "stream",
          "name": "stderr",
          "text": [
            "Train loss: 0.09785620123147964: : 124it [01:47,  1.15it/s]\n",
            "29it [00:10,  2.88it/s]\n"
          ]
        },
        {
          "output_type": "stream",
          "name": "stdout",
          "text": [
            "epoch: 37 /100\n",
            "time: 117.90 seconds\n",
            "train-loss: 0.22, train-acc: 92.57%\n",
            "valid-loss: 0.47, valid-acc: 84.91%\n",
            "\n"
          ]
        },
        {
          "output_type": "stream",
          "name": "stderr",
          "text": [
            "Train loss: 0.18194642663002014: : 124it [01:48,  1.14it/s]\n",
            "29it [00:10,  2.82it/s]\n"
          ]
        },
        {
          "output_type": "stream",
          "name": "stdout",
          "text": [
            "epoch: 38 /100\n",
            "time: 118.91 seconds\n",
            "train-loss: 0.22, train-acc: 92.46%\n",
            "valid-loss: 0.46, valid-acc: 85.02%\n",
            "\n"
          ]
        },
        {
          "output_type": "stream",
          "name": "stderr",
          "text": [
            "Train loss: 0.2624586522579193: : 124it [01:48,  1.14it/s]\n",
            "29it [00:10,  2.86it/s]\n"
          ]
        },
        {
          "output_type": "stream",
          "name": "stdout",
          "text": [
            "epoch: 39 /100\n",
            "time: 118.51 seconds\n",
            "train-loss: 0.21, train-acc: 92.64%\n",
            "valid-loss: 0.46, valid-acc: 85.35%\n",
            "\n"
          ]
        },
        {
          "output_type": "stream",
          "name": "stderr",
          "text": [
            "Train loss: 0.2830209732055664: : 124it [01:47,  1.15it/s]\n",
            "29it [00:10,  2.64it/s]\n"
          ]
        },
        {
          "output_type": "stream",
          "name": "stdout",
          "text": [
            "epoch: 40 /100\n",
            "time: 118.80 seconds\n",
            "train-loss: 0.21, train-acc: 93.02%\n",
            "valid-loss: 0.43, valid-acc: 86.12%\n",
            "\n"
          ]
        },
        {
          "output_type": "stream",
          "name": "stderr",
          "text": [
            "Train loss: 0.22995397448539734: : 124it [01:47,  1.15it/s]\n",
            "29it [00:10,  2.86it/s]\n"
          ]
        },
        {
          "output_type": "stream",
          "name": "stdout",
          "text": [
            "epoch: 41 /100\n",
            "time: 118.03 seconds\n",
            "train-loss: 0.21, train-acc: 92.82%\n",
            "valid-loss: 0.48, valid-acc: 84.80%\n",
            "\n"
          ]
        },
        {
          "output_type": "stream",
          "name": "stderr",
          "text": [
            "Train loss: 0.30250146985054016: : 124it [01:47,  1.15it/s]\n",
            "29it [00:11,  2.62it/s]\n"
          ]
        },
        {
          "output_type": "stream",
          "name": "stdout",
          "text": [
            "epoch: 42 /100\n",
            "time: 118.87 seconds\n",
            "train-loss: 0.20, train-acc: 92.72%\n",
            "valid-loss: 0.45, valid-acc: 85.24%\n",
            "\n"
          ]
        },
        {
          "output_type": "stream",
          "name": "stderr",
          "text": [
            "Train loss: 0.24953490495681763: : 124it [01:48,  1.15it/s]\n",
            "29it [00:10,  2.87it/s]\n"
          ]
        },
        {
          "output_type": "stream",
          "name": "stdout",
          "text": [
            "epoch: 43 /100\n",
            "time: 118.29 seconds\n",
            "train-loss: 0.20, train-acc: 92.99%\n",
            "valid-loss: 0.47, valid-acc: 84.36%\n",
            "\n"
          ]
        },
        {
          "output_type": "stream",
          "name": "stderr",
          "text": [
            "Train loss: 0.09719614684581757: : 124it [01:47,  1.15it/s]\n",
            "29it [00:11,  2.61it/s]\n"
          ]
        },
        {
          "output_type": "stream",
          "name": "stdout",
          "text": [
            "epoch: 44 /100\n",
            "time: 118.49 seconds\n",
            "train-loss: 0.20, train-acc: 93.22%\n",
            "valid-loss: 0.47, valid-acc: 85.02%\n",
            "\n"
          ]
        },
        {
          "output_type": "stream",
          "name": "stderr",
          "text": [
            "Train loss: 0.1543123871088028: : 124it [01:48,  1.14it/s]\n",
            "29it [00:10,  2.86it/s]\n"
          ]
        },
        {
          "output_type": "stream",
          "name": "stdout",
          "text": [
            "epoch: 45 /100\n",
            "time: 118.56 seconds\n",
            "train-loss: 0.18, train-acc: 93.57%\n",
            "valid-loss: 0.48, valid-acc: 84.25%\n",
            "\n"
          ]
        },
        {
          "output_type": "stream",
          "name": "stderr",
          "text": [
            "Train loss: 0.12202399969100952: : 124it [01:47,  1.16it/s]\n",
            "29it [00:10,  2.64it/s]\n"
          ]
        },
        {
          "output_type": "stream",
          "name": "stdout",
          "text": [
            "epoch: 46 /100\n",
            "time: 118.31 seconds\n",
            "train-loss: 0.20, train-acc: 93.02%\n",
            "valid-loss: 0.46, valid-acc: 85.46%\n",
            "\n"
          ]
        },
        {
          "output_type": "stream",
          "name": "stderr",
          "text": [
            "Train loss: 0.18758082389831543: : 124it [01:47,  1.15it/s]\n",
            "29it [00:10,  2.88it/s]\n"
          ]
        },
        {
          "output_type": "stream",
          "name": "stdout",
          "text": [
            "epoch: 47 /100\n",
            "time: 117.86 seconds\n",
            "train-loss: 0.19, train-acc: 93.42%\n",
            "valid-loss: 0.44, valid-acc: 86.45%\n",
            "\n"
          ]
        },
        {
          "output_type": "stream",
          "name": "stderr",
          "text": [
            "Train loss: 0.19615398347377777: : 124it [01:47,  1.15it/s]\n",
            "29it [00:10,  2.66it/s]\n"
          ]
        },
        {
          "output_type": "stream",
          "name": "stdout",
          "text": [
            "epoch: 48 /100\n",
            "time: 118.57 seconds\n",
            "train-loss: 0.19, train-acc: 93.27%\n",
            "valid-loss: 0.44, valid-acc: 85.46%\n",
            "\n"
          ]
        },
        {
          "output_type": "stream",
          "name": "stderr",
          "text": [
            "Train loss: 0.2162618637084961: : 124it [01:47,  1.15it/s]\n",
            "29it [00:10,  2.86it/s]\n"
          ]
        },
        {
          "output_type": "stream",
          "name": "stdout",
          "text": [
            "epoch: 49 /100\n",
            "time: 117.65 seconds\n",
            "train-loss: 0.18, train-acc: 93.67%\n",
            "valid-loss: 0.44, valid-acc: 86.01%\n",
            "\n"
          ]
        },
        {
          "output_type": "stream",
          "name": "stderr",
          "text": [
            "Train loss: 0.22160066664218903: : 124it [01:47,  1.16it/s]\n",
            "29it [00:10,  2.64it/s]\n"
          ]
        },
        {
          "output_type": "stream",
          "name": "stdout",
          "text": [
            "epoch: 50 /100\n",
            "time: 118.28 seconds\n",
            "train-loss: 0.17, train-acc: 93.72%\n",
            "valid-loss: 0.47, valid-acc: 85.79%\n",
            "\n"
          ]
        },
        {
          "output_type": "stream",
          "name": "stderr",
          "text": [
            "Train loss: 0.1573757827281952: : 124it [01:47,  1.15it/s]\n",
            "29it [00:10,  2.83it/s]\n"
          ]
        },
        {
          "output_type": "stream",
          "name": "stdout",
          "text": [
            "epoch: 51 /100\n",
            "time: 118.01 seconds\n",
            "train-loss: 0.17, train-acc: 93.95%\n",
            "valid-loss: 0.45, valid-acc: 85.46%\n",
            "\n"
          ]
        },
        {
          "output_type": "stream",
          "name": "stderr",
          "text": [
            "Train loss: 0.17386411130428314: : 124it [01:48,  1.15it/s]\n",
            "29it [00:10,  2.86it/s]\n"
          ]
        },
        {
          "output_type": "stream",
          "name": "stdout",
          "text": [
            "epoch: 52 /100\n",
            "time: 118.42 seconds\n",
            "train-loss: 0.17, train-acc: 93.90%\n",
            "valid-loss: 0.52, valid-acc: 85.46%\n",
            "\n"
          ]
        },
        {
          "output_type": "stream",
          "name": "stderr",
          "text": [
            "Train loss: 0.5918559432029724: : 124it [01:47,  1.15it/s]\n",
            "29it [00:10,  2.85it/s]\n"
          ]
        },
        {
          "output_type": "stream",
          "name": "stdout",
          "text": [
            "epoch: 53 /100\n",
            "time: 117.59 seconds\n",
            "train-loss: 0.18, train-acc: 93.62%\n",
            "valid-loss: 0.44, valid-acc: 86.12%\n",
            "\n"
          ]
        },
        {
          "output_type": "stream",
          "name": "stderr",
          "text": [
            "Train loss: 0.4710507094860077: : 124it [01:48,  1.15it/s]\n",
            "29it [00:10,  2.86it/s]\n"
          ]
        },
        {
          "output_type": "stream",
          "name": "stdout",
          "text": [
            "epoch: 54 /100\n",
            "time: 118.33 seconds\n",
            "train-loss: 0.16, train-acc: 94.56%\n",
            "valid-loss: 0.47, valid-acc: 86.56%\n",
            "\n"
          ]
        },
        {
          "output_type": "stream",
          "name": "stderr",
          "text": [
            "Train loss: 0.2125610113143921: : 124it [01:47,  1.16it/s]\n",
            "29it [00:10,  2.90it/s]\n"
          ]
        },
        {
          "output_type": "stream",
          "name": "stdout",
          "text": [
            "epoch: 55 /100\n",
            "time: 117.14 seconds\n",
            "train-loss: 0.16, train-acc: 94.25%\n",
            "valid-loss: 0.45, valid-acc: 86.01%\n",
            "\n"
          ]
        },
        {
          "output_type": "stream",
          "name": "stderr",
          "text": [
            "Train loss: 0.11745148152112961: : 124it [01:48,  1.15it/s]\n",
            "29it [00:10,  2.89it/s]\n"
          ]
        },
        {
          "output_type": "stream",
          "name": "stdout",
          "text": [
            "epoch: 56 /100\n",
            "time: 118.25 seconds\n",
            "train-loss: 0.17, train-acc: 93.90%\n",
            "valid-loss: 0.45, valid-acc: 86.56%\n",
            "\n"
          ]
        },
        {
          "output_type": "stream",
          "name": "stderr",
          "text": [
            "Train loss: 0.1020231619477272: : 124it [01:47,  1.15it/s]\n",
            "29it [00:10,  2.86it/s]\n"
          ]
        },
        {
          "output_type": "stream",
          "name": "stdout",
          "text": [
            "epoch: 57 /100\n",
            "time: 117.94 seconds\n",
            "train-loss: 0.16, train-acc: 94.28%\n",
            "valid-loss: 0.45, valid-acc: 85.46%\n",
            "\n"
          ]
        },
        {
          "output_type": "stream",
          "name": "stderr",
          "text": [
            "Train loss: 0.16157066822052002: : 124it [01:48,  1.14it/s]\n",
            "29it [00:10,  2.86it/s]\n"
          ]
        },
        {
          "output_type": "stream",
          "name": "stdout",
          "text": [
            "epoch: 58 /100\n",
            "time: 118.47 seconds\n",
            "train-loss: 0.14, train-acc: 94.86%\n",
            "valid-loss: 0.44, valid-acc: 87.11%\n",
            "\n"
          ]
        },
        {
          "output_type": "stream",
          "name": "stderr",
          "text": [
            "Train loss: 0.166560098528862: : 124it [01:47,  1.15it/s]\n",
            "29it [00:10,  2.85it/s]\n"
          ]
        },
        {
          "output_type": "stream",
          "name": "stdout",
          "text": [
            "epoch: 59 /100\n",
            "time: 117.56 seconds\n",
            "train-loss: 0.16, train-acc: 94.78%\n",
            "valid-loss: 0.45, valid-acc: 85.90%\n",
            "\n"
          ]
        },
        {
          "output_type": "stream",
          "name": "stderr",
          "text": [
            "Train loss: 0.25592881441116333: : 124it [01:47,  1.15it/s]\n",
            "29it [00:11,  2.63it/s]\n"
          ]
        },
        {
          "output_type": "stream",
          "name": "stdout",
          "text": [
            "epoch: 60 /100\n",
            "time: 118.69 seconds\n",
            "train-loss: 0.16, train-acc: 94.15%\n",
            "valid-loss: 0.46, valid-acc: 85.46%\n",
            "\n"
          ]
        },
        {
          "output_type": "stream",
          "name": "stderr",
          "text": [
            "Train loss: 0.21988463401794434: : 124it [01:47,  1.15it/s]\n",
            "29it [00:10,  2.84it/s]\n"
          ]
        },
        {
          "output_type": "stream",
          "name": "stdout",
          "text": [
            "epoch: 61 /100\n",
            "time: 117.81 seconds\n",
            "train-loss: 0.16, train-acc: 94.53%\n",
            "valid-loss: 0.46, valid-acc: 86.23%\n",
            "\n"
          ]
        },
        {
          "output_type": "stream",
          "name": "stderr",
          "text": [
            "Train loss: 0.1315658688545227: : 124it [01:50,  1.13it/s]\n",
            "29it [00:10,  2.84it/s]\n"
          ]
        },
        {
          "output_type": "stream",
          "name": "stdout",
          "text": [
            "epoch: 62 /100\n",
            "time: 120.40 seconds\n",
            "train-loss: 0.15, train-acc: 94.78%\n",
            "valid-loss: 0.39, valid-acc: 87.44%\n",
            "\n"
          ]
        },
        {
          "output_type": "stream",
          "name": "stderr",
          "text": [
            "Train loss: 0.3445724546909332: : 124it [01:47,  1.15it/s]\n",
            "29it [00:10,  2.87it/s]\n"
          ]
        },
        {
          "output_type": "stream",
          "name": "stdout",
          "text": [
            "epoch: 63 /100\n",
            "time: 117.50 seconds\n",
            "train-loss: 0.14, train-acc: 94.76%\n",
            "valid-loss: 0.46, valid-acc: 86.01%\n",
            "\n"
          ]
        },
        {
          "output_type": "stream",
          "name": "stderr",
          "text": [
            "Train loss: 0.17564471065998077: : 124it [01:48,  1.14it/s]\n",
            "29it [00:10,  2.83it/s]\n"
          ]
        },
        {
          "output_type": "stream",
          "name": "stdout",
          "text": [
            "epoch: 64 /100\n",
            "time: 118.73 seconds\n",
            "train-loss: 0.14, train-acc: 94.96%\n",
            "valid-loss: 0.45, valid-acc: 85.90%\n",
            "\n"
          ]
        },
        {
          "output_type": "stream",
          "name": "stderr",
          "text": [
            "Train loss: 0.03410932049155235: : 124it [01:47,  1.15it/s]\n",
            "29it [00:10,  2.89it/s]\n"
          ]
        },
        {
          "output_type": "stream",
          "name": "stdout",
          "text": [
            "epoch: 65 /100\n",
            "time: 117.78 seconds\n",
            "train-loss: 0.13, train-acc: 95.31%\n",
            "valid-loss: 0.44, valid-acc: 86.78%\n",
            "\n"
          ]
        },
        {
          "output_type": "stream",
          "name": "stderr",
          "text": [
            "Train loss: 0.20191654562950134: : 124it [01:48,  1.15it/s]\n",
            "29it [00:10,  2.87it/s]\n"
          ]
        },
        {
          "output_type": "stream",
          "name": "stdout",
          "text": [
            "epoch: 66 /100\n",
            "time: 118.40 seconds\n",
            "train-loss: 0.14, train-acc: 94.61%\n",
            "valid-loss: 0.43, valid-acc: 87.00%\n",
            "\n"
          ]
        },
        {
          "output_type": "stream",
          "name": "stderr",
          "text": [
            "Train loss: 0.08519304543733597: : 124it [01:47,  1.16it/s]\n",
            "29it [00:10,  2.82it/s]\n"
          ]
        },
        {
          "output_type": "stream",
          "name": "stdout",
          "text": [
            "epoch: 67 /100\n",
            "time: 117.65 seconds\n",
            "train-loss: 0.13, train-acc: 95.29%\n",
            "valid-loss: 0.47, valid-acc: 85.79%\n",
            "\n"
          ]
        },
        {
          "output_type": "stream",
          "name": "stderr",
          "text": [
            "Train loss: 0.2140868753194809: : 124it [01:48,  1.14it/s]\n",
            "29it [00:10,  2.85it/s]\n"
          ]
        },
        {
          "output_type": "stream",
          "name": "stdout",
          "text": [
            "epoch: 68 /100\n",
            "time: 118.54 seconds\n",
            "train-loss: 0.13, train-acc: 95.09%\n",
            "valid-loss: 0.48, valid-acc: 85.79%\n",
            "\n"
          ]
        },
        {
          "output_type": "stream",
          "name": "stderr",
          "text": [
            "Train loss: 0.04922643303871155: : 124it [01:47,  1.15it/s]\n",
            "29it [00:10,  2.84it/s]\n"
          ]
        },
        {
          "output_type": "stream",
          "name": "stdout",
          "text": [
            "epoch: 69 /100\n",
            "time: 117.81 seconds\n",
            "train-loss: 0.14, train-acc: 95.14%\n",
            "valid-loss: 0.45, valid-acc: 86.12%\n",
            "\n"
          ]
        },
        {
          "output_type": "stream",
          "name": "stderr",
          "text": [
            "Train loss: 0.12022003531455994: : 124it [01:48,  1.15it/s]\n",
            "29it [00:10,  2.87it/s]\n"
          ]
        },
        {
          "output_type": "stream",
          "name": "stdout",
          "text": [
            "epoch: 70 /100\n",
            "time: 118.23 seconds\n",
            "train-loss: 0.13, train-acc: 95.24%\n",
            "valid-loss: 0.45, valid-acc: 85.46%\n",
            "\n"
          ]
        },
        {
          "output_type": "stream",
          "name": "stderr",
          "text": [
            "Train loss: 0.0904478132724762: : 124it [01:47,  1.16it/s]\n",
            "29it [00:10,  2.87it/s]\n"
          ]
        },
        {
          "output_type": "stream",
          "name": "stdout",
          "text": [
            "epoch: 71 /100\n",
            "time: 117.43 seconds\n",
            "train-loss: 0.13, train-acc: 94.86%\n",
            "valid-loss: 0.48, valid-acc: 85.46%\n",
            "\n"
          ]
        },
        {
          "output_type": "stream",
          "name": "stderr",
          "text": [
            "Train loss: 0.06293418258428574: : 124it [01:48,  1.15it/s]\n",
            "29it [00:10,  2.87it/s]\n"
          ]
        },
        {
          "output_type": "stream",
          "name": "stdout",
          "text": [
            "epoch: 72 /100\n",
            "time: 118.25 seconds\n",
            "train-loss: 0.13, train-acc: 94.93%\n",
            "valid-loss: 0.45, valid-acc: 85.46%\n",
            "\n"
          ]
        },
        {
          "output_type": "stream",
          "name": "stderr",
          "text": [
            "Train loss: 0.1083182767033577: : 124it [01:47,  1.15it/s]\n",
            "29it [00:10,  2.88it/s]\n"
          ]
        },
        {
          "output_type": "stream",
          "name": "stdout",
          "text": [
            "epoch: 73 /100\n",
            "time: 117.70 seconds\n",
            "train-loss: 0.14, train-acc: 95.04%\n",
            "valid-loss: 0.44, valid-acc: 86.01%\n",
            "\n"
          ]
        },
        {
          "output_type": "stream",
          "name": "stderr",
          "text": [
            "Train loss: 0.15141485631465912: : 124it [01:48,  1.14it/s]\n",
            "29it [00:10,  2.84it/s]\n"
          ]
        },
        {
          "output_type": "stream",
          "name": "stdout",
          "text": [
            "epoch: 74 /100\n",
            "time: 118.76 seconds\n",
            "train-loss: 0.12, train-acc: 95.72%\n",
            "valid-loss: 0.48, valid-acc: 86.67%\n",
            "\n"
          ]
        },
        {
          "output_type": "stream",
          "name": "stderr",
          "text": [
            "Train loss: 0.09466306120157242: : 124it [01:48,  1.15it/s]\n",
            "29it [00:10,  2.83it/s]\n"
          ]
        },
        {
          "output_type": "stream",
          "name": "stdout",
          "text": [
            "epoch: 75 /100\n",
            "time: 118.35 seconds\n",
            "train-loss: 0.13, train-acc: 95.39%\n",
            "valid-loss: 0.45, valid-acc: 87.33%\n",
            "\n"
          ]
        },
        {
          "output_type": "stream",
          "name": "stderr",
          "text": [
            "Train loss: 0.19643528759479523: : 124it [01:48,  1.14it/s]\n",
            "29it [00:10,  2.83it/s]\n"
          ]
        },
        {
          "output_type": "stream",
          "name": "stdout",
          "text": [
            "epoch: 76 /100\n",
            "time: 119.13 seconds\n",
            "train-loss: 0.14, train-acc: 95.26%\n",
            "valid-loss: 0.45, valid-acc: 86.56%\n",
            "\n"
          ]
        },
        {
          "output_type": "stream",
          "name": "stderr",
          "text": [
            "Train loss: 0.28355512022972107: : 124it [01:47,  1.15it/s]\n",
            "29it [00:10,  2.84it/s]\n"
          ]
        },
        {
          "output_type": "stream",
          "name": "stdout",
          "text": [
            "epoch: 77 /100\n",
            "time: 118.12 seconds\n",
            "train-loss: 0.12, train-acc: 95.51%\n",
            "valid-loss: 0.46, valid-acc: 86.45%\n",
            "\n"
          ]
        },
        {
          "output_type": "stream",
          "name": "stderr",
          "text": [
            "Train loss: 0.040004536509513855: : 124it [01:48,  1.14it/s]\n",
            "29it [00:10,  2.86it/s]\n"
          ]
        },
        {
          "output_type": "stream",
          "name": "stdout",
          "text": [
            "epoch: 78 /100\n",
            "time: 118.59 seconds\n",
            "train-loss: 0.12, train-acc: 95.72%\n",
            "valid-loss: 0.46, valid-acc: 86.89%\n",
            "\n"
          ]
        },
        {
          "output_type": "stream",
          "name": "stderr",
          "text": [
            "Train loss: 0.11826355010271072: : 124it [01:47,  1.15it/s]\n",
            "29it [00:10,  2.89it/s]\n"
          ]
        },
        {
          "output_type": "stream",
          "name": "stdout",
          "text": [
            "epoch: 79 /100\n",
            "time: 117.56 seconds\n",
            "train-loss: 0.12, train-acc: 95.59%\n",
            "valid-loss: 0.47, valid-acc: 86.34%\n",
            "\n"
          ]
        },
        {
          "output_type": "stream",
          "name": "stderr",
          "text": [
            "Train loss: 0.03833471238613129: : 124it [01:48,  1.14it/s]\n",
            "29it [00:10,  2.87it/s]\n"
          ]
        },
        {
          "output_type": "stream",
          "name": "stdout",
          "text": [
            "epoch: 80 /100\n",
            "time: 118.59 seconds\n",
            "train-loss: 0.11, train-acc: 95.84%\n",
            "valid-loss: 0.48, valid-acc: 87.44%\n",
            "\n"
          ]
        },
        {
          "output_type": "stream",
          "name": "stderr",
          "text": [
            "Train loss: 0.029071573168039322: : 124it [01:47,  1.15it/s]\n",
            "29it [00:10,  2.65it/s]\n"
          ]
        },
        {
          "output_type": "stream",
          "name": "stdout",
          "text": [
            "epoch: 81 /100\n",
            "time: 118.64 seconds\n",
            "train-loss: 0.11, train-acc: 96.19%\n",
            "valid-loss: 0.46, valid-acc: 87.22%\n",
            "\n"
          ]
        },
        {
          "output_type": "stream",
          "name": "stderr",
          "text": [
            "Train loss: 0.24996690452098846: : 124it [01:47,  1.15it/s]\n",
            "29it [00:10,  2.84it/s]\n"
          ]
        },
        {
          "output_type": "stream",
          "name": "stdout",
          "text": [
            "epoch: 82 /100\n",
            "time: 117.95 seconds\n",
            "train-loss: 0.12, train-acc: 95.92%\n",
            "valid-loss: 0.47, valid-acc: 86.67%\n",
            "\n"
          ]
        },
        {
          "output_type": "stream",
          "name": "stderr",
          "text": [
            "Train loss: 0.0625431016087532: : 124it [01:48,  1.15it/s]\n",
            "29it [00:10,  2.86it/s]\n"
          ]
        },
        {
          "output_type": "stream",
          "name": "stdout",
          "text": [
            "epoch: 83 /100\n",
            "time: 118.40 seconds\n",
            "train-loss: 0.12, train-acc: 96.19%\n",
            "valid-loss: 0.47, valid-acc: 86.78%\n",
            "\n"
          ]
        },
        {
          "output_type": "stream",
          "name": "stderr",
          "text": [
            "Train loss: 0.06214116886258125: : 124it [01:47,  1.15it/s]\n",
            "29it [00:10,  2.85it/s]\n"
          ]
        },
        {
          "output_type": "stream",
          "name": "stdout",
          "text": [
            "epoch: 84 /100\n",
            "time: 117.86 seconds\n",
            "train-loss: 0.12, train-acc: 95.69%\n",
            "valid-loss: 0.45, valid-acc: 86.56%\n",
            "\n"
          ]
        },
        {
          "output_type": "stream",
          "name": "stderr",
          "text": [
            "Train loss: 0.15061348676681519: : 124it [01:48,  1.15it/s]\n",
            "29it [00:10,  2.85it/s]\n"
          ]
        },
        {
          "output_type": "stream",
          "name": "stdout",
          "text": [
            "epoch: 85 /100\n",
            "time: 118.49 seconds\n",
            "train-loss: 0.12, train-acc: 95.49%\n",
            "valid-loss: 0.43, valid-acc: 87.56%\n",
            "\n"
          ]
        },
        {
          "output_type": "stream",
          "name": "stderr",
          "text": [
            "Train loss: 0.04981676861643791: : 124it [01:47,  1.15it/s]\n",
            "29it [00:10,  2.83it/s]\n"
          ]
        },
        {
          "output_type": "stream",
          "name": "stdout",
          "text": [
            "epoch: 86 /100\n",
            "time: 117.86 seconds\n",
            "train-loss: 0.12, train-acc: 95.97%\n",
            "valid-loss: 0.46, valid-acc: 86.56%\n",
            "\n"
          ]
        },
        {
          "output_type": "stream",
          "name": "stderr",
          "text": [
            "Train loss: 0.06912816315889359: : 124it [01:48,  1.14it/s]\n",
            "29it [00:10,  2.84it/s]\n"
          ]
        },
        {
          "output_type": "stream",
          "name": "stdout",
          "text": [
            "epoch: 87 /100\n",
            "time: 118.78 seconds\n",
            "train-loss: 0.11, train-acc: 96.27%\n",
            "valid-loss: 0.46, valid-acc: 86.34%\n",
            "\n"
          ]
        },
        {
          "output_type": "stream",
          "name": "stderr",
          "text": [
            "Train loss: 0.20887380838394165: : 124it [01:47,  1.15it/s]\n",
            "29it [00:10,  2.85it/s]\n"
          ]
        },
        {
          "output_type": "stream",
          "name": "stdout",
          "text": [
            "epoch: 88 /100\n",
            "time: 117.96 seconds\n",
            "train-loss: 0.10, train-acc: 96.42%\n",
            "valid-loss: 0.47, valid-acc: 86.89%\n",
            "\n"
          ]
        },
        {
          "output_type": "stream",
          "name": "stderr",
          "text": [
            "Train loss: 0.04999283328652382: : 124it [01:48,  1.14it/s]\n",
            "29it [00:10,  2.85it/s]\n"
          ]
        },
        {
          "output_type": "stream",
          "name": "stdout",
          "text": [
            "epoch: 89 /100\n",
            "time: 118.66 seconds\n",
            "train-loss: 0.11, train-acc: 95.87%\n",
            "valid-loss: 0.51, valid-acc: 87.00%\n",
            "\n"
          ]
        },
        {
          "output_type": "stream",
          "name": "stderr",
          "text": [
            "Train loss: 0.08218562602996826: : 124it [01:47,  1.15it/s]\n",
            "29it [00:10,  2.86it/s]\n"
          ]
        },
        {
          "output_type": "stream",
          "name": "stdout",
          "text": [
            "epoch: 90 /100\n",
            "time: 118.04 seconds\n",
            "train-loss: 0.11, train-acc: 96.19%\n",
            "valid-loss: 0.44, valid-acc: 87.78%\n",
            "\n"
          ]
        },
        {
          "output_type": "stream",
          "name": "stderr",
          "text": [
            "Train loss: 0.17896729707717896: : 124it [01:48,  1.15it/s]\n",
            "29it [00:10,  2.86it/s]\n"
          ]
        },
        {
          "output_type": "stream",
          "name": "stdout",
          "text": [
            "epoch: 91 /100\n",
            "time: 118.42 seconds\n",
            "train-loss: 0.11, train-acc: 96.37%\n",
            "valid-loss: 0.48, valid-acc: 86.89%\n",
            "\n"
          ]
        },
        {
          "output_type": "stream",
          "name": "stderr",
          "text": [
            "Train loss: 0.2726161479949951: : 124it [01:47,  1.15it/s]\n",
            "29it [00:10,  2.83it/s]\n"
          ]
        },
        {
          "output_type": "stream",
          "name": "stdout",
          "text": [
            "epoch: 92 /100\n",
            "time: 117.75 seconds\n",
            "train-loss: 0.11, train-acc: 95.79%\n",
            "valid-loss: 0.49, valid-acc: 87.11%\n",
            "\n"
          ]
        },
        {
          "output_type": "stream",
          "name": "stderr",
          "text": [
            "Train loss: 0.07237274944782257: : 124it [01:48,  1.14it/s]\n",
            "29it [00:10,  2.86it/s]\n"
          ]
        },
        {
          "output_type": "stream",
          "name": "stdout",
          "text": [
            "epoch: 93 /100\n",
            "time: 118.90 seconds\n",
            "train-loss: 0.11, train-acc: 96.19%\n",
            "valid-loss: 0.47, valid-acc: 86.23%\n",
            "\n"
          ]
        },
        {
          "output_type": "stream",
          "name": "stderr",
          "text": [
            "Train loss: 0.03473605215549469: : 124it [01:47,  1.15it/s]\n",
            "29it [00:10,  2.64it/s]\n"
          ]
        },
        {
          "output_type": "stream",
          "name": "stdout",
          "text": [
            "epoch: 94 /100\n",
            "time: 118.75 seconds\n",
            "train-loss: 0.10, train-acc: 96.24%\n",
            "valid-loss: 0.46, valid-acc: 86.89%\n",
            "\n"
          ]
        },
        {
          "output_type": "stream",
          "name": "stderr",
          "text": [
            "Train loss: 0.1252702921628952: : 124it [01:47,  1.15it/s]\n",
            "29it [00:10,  2.83it/s]\n"
          ]
        },
        {
          "output_type": "stream",
          "name": "stdout",
          "text": [
            "epoch: 95 /100\n",
            "time: 118.00 seconds\n",
            "train-loss: 0.12, train-acc: 95.79%\n",
            "valid-loss: 0.47, valid-acc: 87.56%\n",
            "\n"
          ]
        },
        {
          "output_type": "stream",
          "name": "stderr",
          "text": [
            "Train loss: 0.0973450094461441: : 124it [01:48,  1.14it/s]\n",
            "29it [00:10,  2.84it/s]\n"
          ]
        },
        {
          "output_type": "stream",
          "name": "stdout",
          "text": [
            "epoch: 96 /100\n",
            "time: 119.08 seconds\n",
            "train-loss: 0.10, train-acc: 96.27%\n",
            "valid-loss: 0.47, valid-acc: 87.89%\n",
            "\n"
          ]
        },
        {
          "output_type": "stream",
          "name": "stderr",
          "text": [
            "Train loss: 0.09917228668928146: : 124it [01:47,  1.15it/s]\n",
            "29it [00:10,  2.85it/s]\n"
          ]
        },
        {
          "output_type": "stream",
          "name": "stdout",
          "text": [
            "epoch: 97 /100\n",
            "time: 117.97 seconds\n",
            "train-loss: 0.10, train-acc: 96.30%\n",
            "valid-loss: 0.46, valid-acc: 86.56%\n",
            "\n"
          ]
        },
        {
          "output_type": "stream",
          "name": "stderr",
          "text": [
            "Train loss: 0.12111572921276093: : 124it [01:48,  1.14it/s]\n",
            "29it [00:10,  2.86it/s]\n"
          ]
        },
        {
          "output_type": "stream",
          "name": "stdout",
          "text": [
            "epoch: 98 /100\n",
            "time: 118.72 seconds\n",
            "train-loss: 0.11, train-acc: 96.07%\n",
            "valid-loss: 0.47, valid-acc: 86.67%\n",
            "\n"
          ]
        },
        {
          "output_type": "stream",
          "name": "stderr",
          "text": [
            "Train loss: 0.170148566365242: : 124it [01:47,  1.15it/s]\n",
            "29it [00:10,  2.87it/s]\n"
          ]
        },
        {
          "output_type": "stream",
          "name": "stdout",
          "text": [
            "epoch: 99 /100\n",
            "time: 117.75 seconds\n",
            "train-loss: 0.09, train-acc: 96.67%\n",
            "valid-loss: 0.50, valid-acc: 87.11%\n",
            "\n"
          ]
        },
        {
          "output_type": "stream",
          "name": "stderr",
          "text": [
            "Train loss: 0.12975545227527618: : 124it [01:48,  1.14it/s]\n",
            "29it [00:10,  2.88it/s]"
          ]
        },
        {
          "output_type": "stream",
          "name": "stdout",
          "text": [
            "epoch:100 /100\n",
            "time: 118.58 seconds\n",
            "train-loss: 0.10, train-acc: 96.57%\n",
            "valid-loss: 0.46, valid-acc: 87.22%\n",
            "\n"
          ]
        },
        {
          "output_type": "stream",
          "name": "stderr",
          "text": [
            "\n"
          ]
        }
      ]
    },
    {
      "cell_type": "code",
      "source": [
        "def smooth(x, w=0):\n",
        "    last = x[0]\n",
        "    smoothed = []\n",
        "    for point in x:\n",
        "      smoothed_val = w * last + (1 - w) * point\n",
        "      smoothed.append(smoothed_val)\n",
        "      ast = smoothed_val\n",
        "          \n",
        "    return smoothed\n",
        "\n",
        "history3 = trainer3.getHistory()\n",
        "trainer3.showResults()"
      ],
      "metadata": {
        "id": "3XJmF6X3UKYt",
        "outputId": "c59406cb-e41a-4ba6-d253-67e1e9103c8b",
        "colab": {
          "base_uri": "https://localhost:8080/",
          "height": 314
        }
      },
      "execution_count": 13,
      "outputs": [
        {
          "output_type": "display_data",
          "data": {
            "text/plain": [
              "<Figure size 1008x288 with 2 Axes>"
            ],
            "image/png": "[encoded data removed]"
          },
          "metadata": {}
        }
      ]
    },
    {
      "cell_type": "code",
      "source": [
        "trainer3.generateConfusionMatrix()"
      ],
      "metadata": {
        "id": "VXQPjIZWUZlq",
        "outputId": "e1311e97-4657-4c7e-f132-bee069a7aeb5",
        "colab": {
          "base_uri": "https://localhost:8080/",
          "height": 491
        }
      },
      "execution_count": 15,
      "outputs": [
        {
          "output_type": "display_data",
          "data": {
            "text/plain": [
              "<Figure size 864x504 with 1 Axes>"
            ],
            "image/png": "[encoded data removed]"
          },
          "metadata": {}
        }
      ]
    },
    {
      "cell_type": "code",
      "source": [
        "trainer3.missing_data_test()"
      ],
      "metadata": {
        "id": "ektxV3YdUhzE",
        "outputId": "c96284c7-d010-4056-d726-5fee36a4fa23",
        "colab": {
          "base_uri": "https://localhost:8080/",
          "height": 319
        }
      },
      "execution_count": 18,
      "outputs": [
        {
          "output_type": "display_data",
          "data": {
            "text/plain": [
              "<Figure size 576x288 with 1 Axes>"
            ],
            "image/png": "[encoded data removed]"
          },
          "metadata": {}
        }
      ]
    },
    {
      "cell_type": "markdown",
      "source": [
        "# VoxNet model comparison"
      ],
      "metadata": {
        "id": "WLvqsX2ZhV6e"
      }
    },
    {
      "cell_type": "code",
      "source": [
        "def smooth(x, w=0):\n",
        "    last = x[0]\n",
        "    smoothed = []\n",
        "    for point in x:\n",
        "      smoothed_val = w * last + (1 - w) * point\n",
        "      smoothed.append(smoothed_val)\n",
        "      ast = smoothed_val\n",
        "          \n",
        "    return smoothed\n",
        "\n",
        "eps = range(0, len(history1[\"train_loss\"].cpu()))\n",
        "        \n",
        "sns.set_theme()\n",
        "fig, ax = plt.subplots(2, 2, figsize=(20, 10))\n",
        "fig.suptitle('Results')\n",
        "        \n",
        "ax[0,0].plot(eps, smooth(history1[\"train_loss\"].cpu()), 'g', label='Training Loss VoxNet')\n",
        "ax[0,0].plot(eps, smooth(history2[\"train_loss\"].cpu()), 'b', label='Training Loss BVoxNet')\n",
        "ax[0,0].plot(eps, smooth(history3[\"train_loss\"].cpu()), 'r', label='Training Loss DMPVoxNet')\n",
        "ax[0,0].set_title('Training Loss History')\n",
        "ax[0,0].set(xlabel='Epochs', ylabel='Loss')\n",
        "ax[0,0].legend()\n",
        "        \n",
        "ax[0,1].plot(eps, smooth(history1[\"valid_loss\"].cpu()), 'g', label='Valid Loss VoxNet')\n",
        "ax[0,1].plot(eps, smooth(history2[\"valid_loss\"].cpu()), 'b', label='Valid Loss BVoxNet')\n",
        "ax[0,1].plot(eps, smooth(history3[\"valid_loss\"].cpu()), 'r', label='Valid Loss DMPVoxNet')\n",
        "ax[0,1].set_title('Valid Loss History')\n",
        "ax[0,1].set(xlabel='Epochs', ylabel='Loss')\n",
        "ax[0,1].legend()\n",
        "\n",
        "ax[1,0].plot(eps, smooth(history1[\"train_acc\"].cpu()), 'g', label='Training Accuracy VoxNet')\n",
        "ax[1,0].plot(eps, smooth(history2[\"train_acc\"].cpu()), 'b', label='Training Accuracy BVoxNet')\n",
        "ax[1,0].plot(eps, smooth(history3[\"train_acc\"].cpu()), 'r', label='Training Accuracy DMPVoxNet')\n",
        "ax[1,0].set_title('Training Accuracy History')\n",
        "ax[1,0].set(xlabel='Epochs', ylabel='Accuracy')\n",
        "ax[1,0].legend()\n",
        "\n",
        "ax[1,1].plot(eps, smooth(history1[\"valid_acc\"].cpu()), 'g', label='Valid Accuracy VoxNet')\n",
        "ax[1,1].plot(eps, smooth(history2[\"valid_acc\"].cpu()), 'b', label='Valid Accuracy BVoxNet')\n",
        "ax[1,1].plot(eps, smooth(history3[\"valid_acc\"].cpu()), 'r', label='Valid Accuracy DMPVoxNet')\n",
        "ax[1,1].set_title('Valid Accuracy History')\n",
        "ax[1,1].set(xlabel='Epochs', ylabel='Accuracy')\n",
        "ax[1,1].legend()"
      ],
      "metadata": {
        "id": "01eRVcGrA8c3",
        "outputId": "57a3560a-aa9e-405a-f63d-c5c4d2137d56",
        "colab": {
          "base_uri": "https://localhost:8080/",
          "height": 700
        }
      },
      "execution_count": null,
      "outputs": [
        {
          "output_type": "execute_result",
          "data": {
            "text/plain": [
              "<matplotlib.legend.Legend at 0x7f279e646b50>"
            ]
          },
          "metadata": {},
          "execution_count": 38
        },
        {
          "output_type": "display_data",
          "data": {
            "text/plain": [
              "<Figure size 1440x720 with 4 Axes>"
            ],
            "image/png": "[encoded data removed]"
          },
          "metadata": {}
        }
      ]
    },
    {
      "cell_type": "markdown",
      "source": [
        "# PointNet"
      ],
      "metadata": {
        "id": "lXW9DHjvDXRv"
      }
    },
    {
      "cell_type": "code",
      "source": [
        "import os\n",
        "import random\n",
        "import math\n",
        "\n",
        "!pip install path.py;\n",
        "from path import Path\n",
        "\n",
        "path = Path(\"ModelNet10\")\n",
        "\n",
        "folders = [dir for dir in sorted(os.listdir(path)) if os.path.isdir(path/dir)]\n",
        "classes = {folder: i for i, folder in enumerate(folders)};\n",
        "\n",
        "def read_off(file):\n",
        "    if 'OFF' != file.readline().strip():\n",
        "        raise('Not a valid OFF header')\n",
        "    n_verts, n_faces, __ = tuple([int(s) for s in file.readline().strip().split(' ')])\n",
        "    verts = [[float(s) for s in file.readline().strip().split(' ')] for i_vert in range(n_verts)]\n",
        "    faces = [[int(s) for s in file.readline().strip().split(' ')][1:] for i_face in range(n_faces)]\n",
        "    return verts, faces"
      ],
      "metadata": {
        "colab": {
          "base_uri": "https://localhost:8080/"
        },
        "id": "CHQA_PqX__lv",
        "outputId": "286a9aec-9256-405b-8476-87d4f5788dfd"
      },
      "execution_count": 4,
      "outputs": [
        {
          "output_type": "stream",
          "name": "stdout",
          "text": [
            "Looking in indexes: https://pypi.org/simple, https://us-python.pkg.dev/colab-wheels/public/simple/\n",
            "Collecting path.py\n",
            "  Downloading path.py-12.5.0-py3-none-any.whl (2.3 kB)\n",
            "Collecting path\n",
            "  Downloading path-16.6.0-py3-none-any.whl (26 kB)\n",
            "Installing collected packages: path, path.py\n",
            "Successfully installed path-16.6.0 path.py-12.5.0\n"
          ]
        }
      ]
    },
    {
      "cell_type": "code",
      "source": [
        "class PointSampler(object):\n",
        "    def __init__(self, output_size):\n",
        "        assert isinstance(output_size, int)\n",
        "        self.output_size = output_size\n",
        "    \n",
        "    def triangle_area(self, pt1, pt2, pt3):\n",
        "        side_a = np.linalg.norm(pt1 - pt2)\n",
        "        side_b = np.linalg.norm(pt2 - pt3)\n",
        "        side_c = np.linalg.norm(pt3 - pt1)\n",
        "        s = 0.5 * ( side_a + side_b + side_c)\n",
        "        return max(s * (s - side_a) * (s - side_b) * (s - side_c), 0)**0.5\n",
        "\n",
        "    def sample_point(self, pt1, pt2, pt3):\n",
        "        # barycentric coordinates on a triangle\n",
        "        # https://mathworld.wolfram.com/BarycentricCoordinates.html\n",
        "        s, t = sorted([random.random(), random.random()])\n",
        "        f = lambda i: s * pt1[i] + (t-s)*pt2[i] + (1-t)*pt3[i]\n",
        "        return (f(0), f(1), f(2))\n",
        "        \n",
        "    \n",
        "    def __call__(self, mesh):\n",
        "        verts, faces = mesh\n",
        "        verts = np.array(verts)\n",
        "        areas = np.zeros((len(faces)))\n",
        "\n",
        "        for i in range(len(areas)):\n",
        "            areas[i] = (self.triangle_area(verts[faces[i][0]], verts[faces[i][1]], verts[faces[i][2]]))\n",
        "            \n",
        "        sampled_faces = (random.choices(faces, weights=areas, cum_weights=None, k=self.output_size))\n",
        "        \n",
        "        sampled_points = np.zeros((self.output_size, 3))\n",
        "\n",
        "        for i in range(len(sampled_faces)):\n",
        "            sampled_points[i] = (self.sample_point(verts[sampled_faces[i][0]], verts[sampled_faces[i][1]], verts[sampled_faces[i][2]]))\n",
        "        \n",
        "        return sampled_points\n",
        "\n",
        "\n",
        "class Normalize(object):\n",
        "    def __call__(self, pointcloud):\n",
        "        assert len(pointcloud.shape)==2\n",
        "        \n",
        "        norm_pointcloud = pointcloud - np.mean(pointcloud, axis=0) \n",
        "        norm_pointcloud /= np.max(np.linalg.norm(norm_pointcloud, axis=1))\n",
        "\n",
        "        return  norm_pointcloud\n",
        "\n",
        "class RandRotation_z(object):\n",
        "    def __call__(self, pointcloud):\n",
        "        assert len(pointcloud.shape)==2\n",
        "\n",
        "        theta = random.random() * 2. * math.pi\n",
        "        rot_matrix = np.array([[ math.cos(theta), -math.sin(theta),    0],\n",
        "                               [ math.sin(theta),  math.cos(theta),    0],\n",
        "                               [0,                             0,      1]])\n",
        "        \n",
        "        rot_pointcloud = rot_matrix.dot(pointcloud.T).T\n",
        "        return  rot_pointcloud\n",
        "    \n",
        "class RandomNoise(object):\n",
        "    def __call__(self, pointcloud):\n",
        "        assert len(pointcloud.shape)==2\n",
        "\n",
        "        noise = np.random.normal(0, 0.02, (pointcloud.shape))\n",
        "    \n",
        "        noisy_pointcloud = pointcloud + noise\n",
        "        return  noisy_pointcloud\n",
        "\n",
        "class ToTensor(object):\n",
        "    def __call__(self, pointcloud):\n",
        "        assert len(pointcloud.shape)==2\n",
        "\n",
        "        return torch.from_numpy(pointcloud)"
      ],
      "metadata": {
        "id": "9sth9zUqAXB2"
      },
      "execution_count": 5,
      "outputs": []
    },
    {
      "cell_type": "code",
      "source": [
        "def default_transforms():\n",
        "    return transforms.Compose([PointSampler(1024),\n",
        "                                Normalize(),\n",
        "                                ToTensor()\n",
        "                              ])"
      ],
      "metadata": {
        "id": "tn-WdIPaAjcr"
      },
      "execution_count": 6,
      "outputs": []
    },
    {
      "cell_type": "code",
      "source": [
        "from torch.utils.data import Dataset, DataLoader\n",
        "from torchvision import transforms, utils\n",
        "class PointCloudData(Dataset):\n",
        "    def __init__(self, root_dir, valid=False, folder=\"train\", transform=default_transforms()):\n",
        "        self.root_dir = root_dir\n",
        "        folders = [dir for dir in sorted(os.listdir(root_dir)) if os.path.isdir(root_dir/dir)]\n",
        "        self.classes = {folder: i for i, folder in enumerate(folders)}\n",
        "        self.transforms = transform if not valid else default_transforms()\n",
        "        self.valid = valid\n",
        "        self.files = []\n",
        "        for category in self.classes.keys():\n",
        "            new_dir = root_dir/Path(category)/folder\n",
        "            for file in os.listdir(new_dir):\n",
        "                if file.endswith('.off'):\n",
        "                    sample = {}\n",
        "                    sample['pcd_path'] = new_dir/file\n",
        "                    sample['category'] = category\n",
        "                    self.files.append(sample)\n",
        "\n",
        "    def __len__(self):\n",
        "        return len(self.files)\n",
        "\n",
        "    def __preproc__(self, file):\n",
        "        verts, faces = read_off(file)\n",
        "        if self.transforms:\n",
        "            pointcloud = self.transforms((verts, faces))\n",
        "        return pointcloud\n",
        "\n",
        "    def __getitem__(self, idx):\n",
        "        pcd_path = self.files[idx]['pcd_path']\n",
        "        category = self.files[idx]['category']\n",
        "        with open(pcd_path, 'r') as f:\n",
        "            pointcloud = self.__preproc__(f)\n",
        "        return {'pointcloud': pointcloud, 'category': self.classes[category]}"
      ],
      "metadata": {
        "id": "W1FJfREUA4wD"
      },
      "execution_count": 7,
      "outputs": []
    },
    {
      "cell_type": "code",
      "source": [
        "train_transforms = transforms.Compose([\n",
        "                    PointSampler(1024),\n",
        "                    Normalize(),\n",
        "                    RandRotation_z(),\n",
        "                    RandomNoise(),\n",
        "                    ToTensor()\n",
        "                    ])"
      ],
      "metadata": {
        "id": "rQXlaI5oBAkz"
      },
      "execution_count": 8,
      "outputs": []
    },
    {
      "cell_type": "code",
      "source": [
        "import torch\n",
        "import torch.nn as nn\n",
        "import numpy as np\n",
        "import torch.nn.functional as F\n",
        "\n",
        "class Tnet(nn.Module):\n",
        "   def __init__(self, k=3):\n",
        "      super().__init__()\n",
        "      self.k=k\n",
        "      self.conv1 = nn.Conv1d(k,64,1)\n",
        "      self.conv2 = nn.Conv1d(64,128,1)\n",
        "      self.conv3 = nn.Conv1d(128,1024,1)\n",
        "      self.fc1 = nn.Linear(1024,512)\n",
        "      self.fc2 = nn.Linear(512,256)\n",
        "      self.fc3 = nn.Linear(256,k*k)\n",
        "\n",
        "      self.bn1 = nn.BatchNorm1d(64)\n",
        "      self.bn2 = nn.BatchNorm1d(128)\n",
        "      self.bn3 = nn.BatchNorm1d(1024)\n",
        "      self.bn4 = nn.BatchNorm1d(512)\n",
        "      self.bn5 = nn.BatchNorm1d(256)\n",
        "       \n",
        "\n",
        "   def forward(self, input):\n",
        "      # input.shape == (bs,n,3)\n",
        "      bs = input.size(0)\n",
        "      xb = F.relu(self.bn1(self.conv1(input)))\n",
        "      xb = F.relu(self.bn2(self.conv2(xb)))\n",
        "      xb = F.relu(self.bn3(self.conv3(xb)))\n",
        "      pool = nn.MaxPool1d(xb.size(-1))(xb)\n",
        "      flat = nn.Flatten(1)(pool)\n",
        "      xb = F.relu(self.bn4(self.fc1(flat)))\n",
        "      xb = F.relu(self.bn5(self.fc2(xb)))\n",
        "      \n",
        "      #initialize as identity\n",
        "      init = torch.eye(self.k, requires_grad=True).repeat(bs,1,1)\n",
        "      if xb.is_cuda:\n",
        "        init=init.cuda()\n",
        "      matrix = self.fc3(xb).view(-1,self.k,self.k) + init\n",
        "      return matrix\n",
        "\n",
        "\n",
        "class Transform(nn.Module):\n",
        "   def __init__(self):\n",
        "        super().__init__()\n",
        "        self.input_transform = Tnet(k=3)\n",
        "        self.feature_transform = Tnet(k=64)\n",
        "        self.conv1 = nn.Conv1d(3,64,1)\n",
        "\n",
        "        self.conv2 = nn.Conv1d(64,128,1)\n",
        "        self.conv3 = nn.Conv1d(128,1024,1)\n",
        "       \n",
        "\n",
        "        self.bn1 = nn.BatchNorm1d(64)\n",
        "        self.bn2 = nn.BatchNorm1d(128)\n",
        "        self.bn3 = nn.BatchNorm1d(1024)\n",
        "       \n",
        "   def forward(self, input):\n",
        "        matrix3x3 = self.input_transform(input)\n",
        "        # batch matrix multiplication\n",
        "        xb = torch.bmm(torch.transpose(input,1,2), matrix3x3).transpose(1,2)\n",
        "\n",
        "        xb = F.relu(self.bn1(self.conv1(xb)))\n",
        "\n",
        "        matrix64x64 = self.feature_transform(xb)\n",
        "        xb = torch.bmm(torch.transpose(xb,1,2), matrix64x64).transpose(1,2)\n",
        "\n",
        "        xb = F.relu(self.bn2(self.conv2(xb)))\n",
        "        xb = self.bn3(self.conv3(xb))\n",
        "        xb = nn.MaxPool1d(xb.size(-1))(xb)\n",
        "        output = nn.Flatten(1)(xb)\n",
        "        return output, matrix3x3, matrix64x64\n",
        "\n",
        "class PointNet(nn.Module):\n",
        "    def __init__(self, classes = 10):\n",
        "        super().__init__()\n",
        "        self.transform = Transform()\n",
        "        self.fc1 = nn.Linear(1024, 512)\n",
        "        self.fc2 = nn.Linear(512, 256)\n",
        "        self.fc3 = nn.Linear(256, classes)\n",
        "        \n",
        "\n",
        "        self.bn1 = nn.BatchNorm1d(512)\n",
        "        self.bn2 = nn.BatchNorm1d(256)\n",
        "        self.dropout = nn.Dropout(p=0.3)\n",
        "        self.logsoftmax = nn.LogSoftmax(dim=1)\n",
        "\n",
        "    def forward(self, input):\n",
        "        xb, matrix3x3, matrix64x64 = self.transform(input)\n",
        "        xb = F.relu(self.bn1(self.fc1(xb)))\n",
        "        xb = F.relu(self.bn2(self.dropout(self.fc2(xb))))\n",
        "        output = self.fc3(xb)\n",
        "        return self.logsoftmax(output), matrix3x3, matrix64x64"
      ],
      "metadata": {
        "id": "Yqn1xNHOBLIE"
      },
      "execution_count": 9,
      "outputs": []
    },
    {
      "cell_type": "code",
      "source": [
        "def pointnetloss(outputs, labels, m3x3, m64x64, alpha = 0.0001):\n",
        "    criterion = torch.nn.NLLLoss()\n",
        "    bs=outputs.size(0)\n",
        "    id3x3 = torch.eye(3, requires_grad=True).repeat(bs,1,1)\n",
        "    id64x64 = torch.eye(64, requires_grad=True).repeat(bs,1,1)\n",
        "    if outputs.is_cuda:\n",
        "        id3x3=id3x3.cuda()\n",
        "        id64x64=id64x64.cuda()\n",
        "    diff3x3 = id3x3-torch.bmm(m3x3,m3x3.transpose(1,2))\n",
        "    diff64x64 = id64x64-torch.bmm(m64x64,m64x64.transpose(1,2))\n",
        "    return criterion(outputs, labels) + alpha * (torch.norm(diff3x3)+torch.norm(diff64x64)) / float(bs)"
      ],
      "metadata": {
        "id": "LE_Wi6HiBQrK"
      },
      "execution_count": 10,
      "outputs": []
    },
    {
      "cell_type": "code",
      "source": [
        "from torch.optim import SGD, Adam\n",
        "from torch.nn import BCEWithLogitsLoss\n",
        "from tqdm import tqdm\n",
        "\n",
        "class PointNet_Trainer():\n",
        "  def __init__(self, hyperparameters):\n",
        "      #Hypreparameters\n",
        "      self.learning_rate = hyperparameters[\"learning_rate\"]\n",
        "      self.batch_size_train = hyperparameters[\"train_batch_size\"]\n",
        "      self.batch_size_test = hyperparameters[\"valid_batch_size\"]\n",
        "      self.data_size = hyperparameters[\"data_size\"]\n",
        "      self.device = torch.device(\"cuda:0\" if torch.cuda.is_available() else \"cpu\")\n",
        "      self.epochs = hyperparameters[\"epochs\"]\n",
        "      \n",
        "      #Dataset\n",
        "      self.initDataset()\n",
        "      self.class_names = [\"bathtub\", \"bed\", \"chair\", \"desk\", \"dresser\", \"monitor\", \"night_stand\", \"sofa\", \"table\", \"toilet\"]\n",
        "      self.num_classes = len(self.class_names)\n",
        "\n",
        "      #Model\n",
        "      self.initModel(hyperparameters)\n",
        "  \n",
        "  def initDataset(self):\n",
        "      self.train_ds = PointCloudData(path, transform=train_transforms)\n",
        "      self.test_ds = PointCloudData(path, valid=True, folder='test', transform=train_transforms)\n",
        "      self.train_dataloader = DataLoader(dataset=self.train_ds, batch_size=self.batch_size_train, shuffle=True, drop_last=True)\n",
        "      self.test_dataloader = DataLoader(dataset=self.test_ds, batch_size=self.batch_size_test)\n",
        "\n",
        "  def initModel(self, hyperparameters):\n",
        "      self.model = PointNet()\n",
        "      print(\"model PointNet was chosen\")\n",
        "      self.device = \"cuda\" if torch.cuda.is_available() else \"cpu\"\n",
        "      self.model.to(self.device)\n",
        "      self.opt = torch.optim.Adam(self.model.parameters(), lr=self.learning_rate)\n",
        "\n",
        "  def train(self):\n",
        "      self.pred_conf, self.y_conf = [], []                                                           \n",
        "      train_loss_history, valid_loss_history = [], []\n",
        "      train_acc_history, valid_acc_history = [], []\n",
        "      train_accuracy = Accuracy(task='multiclass', num_classes=10)\n",
        "      valid_accuracy = Accuracy(task='multiclass', num_classes=10)\n",
        "\n",
        "      self.num_batch = len(self.train_ds) / self.batch_size_train\n",
        "      print(self.num_batch)\n",
        "\n",
        "      total_time = time.time()\n",
        "\n",
        "      for epoch in range(self.epochs):\n",
        "          t = time.time()\n",
        "\n",
        "          train_loss = []                                                         #track training loss\n",
        "          valid_loss = []\n",
        "          self.model.train()\n",
        "          iterator = tqdm(enumerate(self.train_dataloader, 0))\n",
        "          for i, data in iterator:\n",
        "              inputs, labels = data['pointcloud'].to(self.device).float(), data['category'].to(self.device)\n",
        "\n",
        "              self.opt.zero_grad()\n",
        "              outputs, m3x3, m64x64 = self.model(inputs.transpose(1,2))  # torch.Size([256, 10])\n",
        "              loss = pointnetloss(outputs, labels, m3x3, m64x64)\n",
        "              train_loss.append(loss.cpu().data)\n",
        "              train_accuracy.update(torch.argmax(outputs, 1).cpu(), labels.cpu()) \n",
        "\n",
        "              loss.backward()\n",
        "              self.opt.step()\n",
        "              iterator.set_description(f\"Train loss: {loss.cpu().data}\")\n",
        "                      \n",
        "          with torch.no_grad():\n",
        "            self.model.eval()\n",
        "            for j, sample in tqdm(enumerate(self.test_dataloader, 0)):    \n",
        "                inputs_test, labels_test = sample['pointcloud'].to(self.device).float(), sample['category'].to(self.device)\n",
        "                \n",
        "                outputs_test, m3x3, m64x64  = self.model(inputs_test.transpose(1,2))\n",
        "                loss_test = pointnetloss(outputs_test, labels_test, m3x3, m64x64)\n",
        "                valid_loss.append(loss_test.cpu().data)\n",
        "                valid_accuracy.update(torch.argmax(outputs_test, 1).cpu(), labels_test.cpu())\n",
        "                pred_choice_test = outputs_test.data.max(1)[1]\n",
        "\n",
        "                correct_test = pred_choice_test.eq(labels_test.data).cpu().sum()\n",
        "                self.pred_conf.append(torch.argmax(outputs_test, 1))\n",
        "                self.y_conf.append(labels_test)\n",
        "\n",
        "          #compute confusion matrix\n",
        "          a = torch.cat(self.pred_conf).cpu()\n",
        "          b = torch.cat(self.y_conf).cpu()\n",
        "          confmat = ConfusionMatrix(task='multiclass', num_classes=10, normalize=\"true\")\n",
        "          self.conf_matrix = confmat(a, b)\n",
        "          self.conf_matrix = torch.round(self.conf_matrix, decimals=2)\n",
        "\n",
        "          # total accuracy over all batches\n",
        "          total_train_accuracy = train_accuracy.compute()\n",
        "          total_valid_accuracy = valid_accuracy.compute()\n",
        "          train_accuracy.reset()\n",
        "          valid_accuracy.reset()\n",
        "            \n",
        "          #track loss and acc for plotting\n",
        "          train_loss_history.append(torch.mean(torch.tensor(train_loss)))\n",
        "          valid_loss_history.append(torch.mean(torch.tensor(valid_loss)))\n",
        "          train_acc_history.append(total_train_accuracy)\n",
        "          valid_acc_history.append(total_valid_accuracy)\n",
        "            \n",
        "          elapsed_time_epoch = time.time() - t   \n",
        "            \n",
        "          tmp0 = \"epoch:{:3d} /{:3d}\".format(epoch+1, self.epochs)\n",
        "          tmp1 = \"time: {:.2f} seconds\".format(elapsed_time_epoch)\n",
        "          tmp2 = \"train-loss: {:4.2f}, train-acc: {:.2%}\".format(train_loss_history[epoch], train_acc_history[epoch].item())\n",
        "          tmp3 = \"valid-loss: {:4.2f}, valid-acc: {:.2%}\\n\".format(valid_loss_history[epoch], valid_acc_history[epoch].item())\n",
        "          print(tmp0, tmp1, tmp2, tmp3, sep=\"\\n\")\n",
        "          \n",
        "          #save history\n",
        "          self.history = {\"train_loss\": torch.tensor(train_loss_history), \"train_acc\": torch.tensor(train_acc_history), \n",
        "                          \"valid_loss\": torch.tensor(valid_loss_history), \"valid_acc\": torch.tensor(valid_acc_history)}\n",
        "           \n",
        "  def getHistory(self):\n",
        "      return self.history\n",
        "\n",
        "  def generateConfusionMatrix(self):\n",
        "      fig=plt.figure(figsize = (12,7))\n",
        "      sns.heatmap(self.conf_matrix, annot=True, fmt='g', linewidths=.4, cbar=False)\n",
        "      tick_marks = np.arange(len(self.class_names))\n",
        "      plt.xticks(tick_marks, self.class_names, rotation=45)\n",
        "      plt.yticks(tick_marks, self.class_names, rotation=0)\n",
        "      plt.title(\"Confusion Matrix\")     \n",
        "\n",
        "  def getPerClassAccuracy(self):\n",
        "      per_class_accuracy = 100 * torch.diag(self.conf_matrix) / torch.sum(self.conf_matrix, 1)\n",
        "      tmp = {}\n",
        "      for i, x in enumerate(self.class_names):\n",
        "        tmp[x] = per_class_accuracy[i].item()\n",
        "      print(tmp)\n",
        "    \n",
        "  def showResults(self):\n",
        "      eps = range(0, len(self.history[\"train_loss\"].cpu()))\n",
        "        \n",
        "      sns.set_theme()\n",
        "      fig, ax = plt.subplots(1, 2, figsize=(14, 4))\n",
        "      fig.suptitle('Results')\n",
        "        \n",
        "      ax[0].plot(eps, smooth(self.history[\"train_loss\"].cpu()), 'g', label='Training Loss')\n",
        "      ax[0].plot(eps, smooth(self.history[\"valid_loss\"].cpu()), 'b', label='Valid Loss')\n",
        "      ax[0].set_title('Loss History')\n",
        "      ax[0].set(xlabel='Epochs', ylabel='Loss')\n",
        "      ax[0].legend()\n",
        "        \n",
        "      ax[1].plot(eps, smooth(self.history[\"train_acc\"].cpu()), 'g', label='Training Accuracy')\n",
        "      ax[1].plot(eps, smooth(self.history[\"valid_acc\"].cpu()), 'b', label='Valid Accuracy')\n",
        "      ax[1].set_title('Loss History')\n",
        "      ax[1].set(xlabel='Epochs', ylabel='Accuracy')\n",
        "      ax[1].legend()\n",
        "        \n",
        "  def test_on_missing_data(self, missing_rate=0.5):\n",
        "      test_accuracy = Accuracy(task='multiclass', num_classes=10)\n",
        "        \n",
        "      self.model.eval()\n",
        "      for x, y in self.test_dataloader:\n",
        "          x, y = x.to(self.device), y.to(self.device)\n",
        "            \n",
        "          idc = np.random.choice(32**3, size=(int(32**3*missing_rate)), replace=False)\n",
        "          idc_x = idc%32\n",
        "          idc_y = np.floor_divide(idc, 32)%32\n",
        "          idc_z = np.floor_divide(idc, 32*32)%32\n",
        "          x[:, :, idc_x, idc_y, idc_z] = 0\n",
        "            \n",
        "          pred = self.model(x)\n",
        "          test_accuracy.update(torch.argmax(pred, 1).cpu(), y.cpu())\n",
        "            \n",
        "      return test_accuracy.compute()\n",
        "    \n",
        "  def missing_data_test(self):\n",
        "      acc = []\n",
        "      delta = 200\n",
        "      eps = np.linspace(0,0.99,delta)\n",
        "      for x in eps:\n",
        "          tmp = self.test_on_missing_data(x)\n",
        "          acc.append(tmp)\n",
        "            \n",
        "            \n",
        "      sns.set_theme()\n",
        "      plt.figure(figsize=(8, 4))\n",
        "      plt.plot(eps, smooth(acc))\n",
        "      plt.title(\"Missing Data Test\", size=20, y=1.05)\n",
        "      plt.xlabel(\"missing point ratio\", size=15)\n",
        "      plt.ylabel(\"accuracy\", size=15)\n",
        "      plt.show()"
      ],
      "metadata": {
        "id": "hehPV5pOBS8g"
      },
      "execution_count": 11,
      "outputs": []
    },
    {
      "cell_type": "code",
      "source": [
        "training_hyperparameters = {\n",
        "    \"learning_rate\": 0.001,\n",
        "    \"data_size\": 32,\n",
        "    \"epochs\": 20,\n",
        "    \"train_batch_size\": 32,\n",
        "    \"valid_batch_size\": 64,\n",
        "}    \n",
        "\n",
        "trainer4 = PointNet_Trainer(training_hyperparameters)\n",
        "trainer4.train()"
      ],
      "metadata": {
        "colab": {
          "base_uri": "https://localhost:8080/"
        },
        "id": "YwH_dwfpCgnO",
        "outputId": "1f13a674-a437-451c-8406-6b2900408be2"
      },
      "execution_count": null,
      "outputs": [
        {
          "metadata": {
            "tags": null
          },
          "name": "stdout",
          "output_type": "stream",
          "text": [
            "model PointNet was chosen\n",
            "124.71875\n"
          ]
        },
        {
          "metadata": {
            "tags": null
          },
          "name": "stderr",
          "output_type": "stream",
          "text": [
            "Train loss: 0.7721420526504517: : 124it [26:39, 12.90s/it]\n",
            "15it [04:14, 16.95s/it]\n"
          ]
        },
        {
          "metadata": {
            "tags": null
          },
          "name": "stdout",
          "output_type": "stream",
          "text": [
            "epoch:  1 / 20\n",
            "time: 1853.85 seconds\n",
            "train-loss: 1.26, train-acc: 58.52%\n",
            "valid-loss: 1.74, valid-acc: 47.36%\n",
            "\n"
          ]
        },
        {
          "metadata": {
            "tags": null
          },
          "name": "stderr",
          "output_type": "stream",
          "text": [
            "Train loss: 1.2494457960128784: : 124it [26:28, 12.81s/it]\n",
            "15it [04:16, 17.12s/it]\n"
          ]
        },
        {
          "metadata": {
            "tags": null
          },
          "name": "stdout",
          "output_type": "stream",
          "text": [
            "epoch:  2 / 20\n",
            "time: 1844.92 seconds\n",
            "train-loss: 0.79, train-acc: 72.88%\n",
            "valid-loss: 0.76, valid-acc: 72.69%\n",
            "\n"
          ]
        },
        {
          "metadata": {
            "tags": null
          },
          "name": "stderr",
          "output_type": "stream",
          "text": [
            "Train loss: 0.7019855976104736: : 124it [26:56, 13.04s/it]\n",
            "15it [04:18, 17.24s/it]\n"
          ]
        },
        {
          "metadata": {
            "tags": null
          },
          "name": "stdout",
          "output_type": "stream",
          "text": [
            "epoch:  3 / 20\n",
            "time: 1875.00 seconds\n",
            "train-loss: 0.67, train-acc: 77.32%\n",
            "valid-loss: 0.80, valid-acc: 70.48%\n",
            "\n"
          ]
        },
        {
          "metadata": {
            "tags": null
          },
          "name": "stderr",
          "output_type": "stream",
          "text": [
            "Train loss: 0.6342124342918396: : 124it [26:27, 12.81s/it]\n",
            "15it [04:18, 17.26s/it]\n"
          ]
        },
        {
          "metadata": {
            "tags": null
          },
          "name": "stdout",
          "output_type": "stream",
          "text": [
            "epoch:  4 / 20\n",
            "time: 1846.81 seconds\n",
            "train-loss: 0.58, train-acc: 80.52%\n",
            "valid-loss: 0.55, valid-acc: 81.94%\n",
            "\n"
          ]
        },
        {
          "metadata": {
            "tags": null
          },
          "name": "stderr",
          "output_type": "stream",
          "text": [
            "Train loss: 0.7971304059028625: : 124it [26:51, 13.00s/it]\n",
            "15it [04:19, 17.28s/it]\n"
          ]
        },
        {
          "metadata": {
            "tags": null
          },
          "name": "stdout",
          "output_type": "stream",
          "text": [
            "epoch:  5 / 20\n",
            "time: 1870.70 seconds\n",
            "train-loss: 0.51, train-acc: 83.19%\n",
            "valid-loss: 0.59, valid-acc: 77.31%\n",
            "\n"
          ]
        },
        {
          "output_type": "stream",
          "name": "stderr",
          "text": [
            "Train loss: 0.4183681309223175: : 124it [25:03, 12.13s/it]\n",
            "15it [03:57, 15.85s/it]\n"
          ]
        },
        {
          "output_type": "stream",
          "name": "stdout",
          "text": [
            "epoch:  6 / 20\n",
            "time: 1741.73 seconds\n",
            "train-loss: 0.50, train-acc: 83.22%\n",
            "valid-loss: 0.53, valid-acc: 81.17%\n",
            "\n"
          ]
        },
        {
          "output_type": "stream",
          "name": "stderr",
          "text": [
            "Train loss: 0.8445573449134827: : 124it [24:50, 12.02s/it]\n",
            "15it [03:59, 15.96s/it]\n"
          ]
        },
        {
          "output_type": "stream",
          "name": "stdout",
          "text": [
            "epoch:  7 / 20\n",
            "time: 1729.97 seconds\n",
            "train-loss: 0.48, train-acc: 83.74%\n",
            "valid-loss: 0.54, valid-acc: 82.71%\n",
            "\n"
          ]
        },
        {
          "output_type": "stream",
          "name": "stderr",
          "text": [
            "Train loss: 0.24197641015052795: : 124it [24:51, 12.03s/it]\n",
            "15it [03:55, 15.69s/it]\n"
          ]
        },
        {
          "output_type": "stream",
          "name": "stdout",
          "text": [
            "epoch:  8 / 20\n",
            "time: 1726.66 seconds\n",
            "train-loss: 0.45, train-acc: 84.63%\n",
            "valid-loss: 0.50, valid-acc: 83.26%\n",
            "\n"
          ]
        },
        {
          "output_type": "stream",
          "name": "stderr",
          "text": [
            "Train loss: 0.31993040442466736: : 124it [24:52, 12.03s/it]\n",
            "15it [03:58, 15.88s/it]\n"
          ]
        },
        {
          "output_type": "stream",
          "name": "stdout",
          "text": [
            "epoch:  9 / 20\n",
            "time: 1730.58 seconds\n",
            "train-loss: 0.45, train-acc: 85.03%\n",
            "valid-loss: 0.62, valid-acc: 81.06%\n",
            "\n"
          ]
        },
        {
          "output_type": "stream",
          "name": "stderr",
          "text": [
            "Train loss: 0.2875419855117798: : 124it [24:57, 12.08s/it]\n",
            "15it [03:55, 15.69s/it]\n"
          ]
        },
        {
          "output_type": "stream",
          "name": "stdout",
          "text": [
            "epoch: 10 / 20\n",
            "time: 1733.08 seconds\n",
            "train-loss: 0.42, train-acc: 86.34%\n",
            "valid-loss: 0.51, valid-acc: 81.39%\n",
            "\n"
          ]
        },
        {
          "output_type": "stream",
          "name": "stderr",
          "text": [
            "Train loss: 0.24406695365905762: : 124it [24:48, 12.01s/it]\n",
            "15it [03:58, 15.89s/it]\n"
          ]
        },
        {
          "output_type": "stream",
          "name": "stdout",
          "text": [
            "epoch: 11 / 20\n",
            "time: 1727.08 seconds\n",
            "train-loss: 0.40, train-acc: 86.79%\n",
            "valid-loss: 0.79, valid-acc: 72.36%\n",
            "\n"
          ]
        },
        {
          "output_type": "stream",
          "name": "stderr",
          "text": [
            "Train loss: 0.28334829211235046: : 124it [25:01, 12.11s/it]\n",
            "15it [03:58, 15.90s/it]\n"
          ]
        },
        {
          "output_type": "stream",
          "name": "stdout",
          "text": [
            "epoch: 12 / 20\n",
            "time: 1739.55 seconds\n",
            "train-loss: 0.37, train-acc: 87.73%\n",
            "valid-loss: 0.59, valid-acc: 78.85%\n",
            "\n"
          ]
        },
        {
          "output_type": "stream",
          "name": "stderr",
          "text": [
            "Train loss: 0.3324269652366638: : 124it [24:55, 12.06s/it]\n",
            "15it [04:01, 16.07s/it]\n"
          ]
        },
        {
          "output_type": "stream",
          "name": "stdout",
          "text": [
            "epoch: 13 / 20\n",
            "time: 1736.95 seconds\n",
            "train-loss: 0.37, train-acc: 87.53%\n",
            "valid-loss: 0.54, valid-acc: 82.05%\n",
            "\n"
          ]
        },
        {
          "output_type": "stream",
          "name": "stderr",
          "text": [
            "Train loss: 0.2053554803133011: : 86it [17:50, 14.31s/it]"
          ]
        }
      ]
    },
    {
      "cell_type": "code",
      "source": [],
      "metadata": {
        "id": "p-v2FmTQENLc"
      },
      "execution_count": null,
      "outputs": []
    }
  ]
}